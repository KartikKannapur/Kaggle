{
 "cells": [
  {
   "cell_type": "markdown",
   "metadata": {
    "ExecuteTime": {
     "end_time": "2018-05-20T23:59:53.197955Z",
     "start_time": "2018-05-20T23:59:53.186014Z"
    }
   },
   "source": [
    "# Home Credit Default Risk\n",
    "\n",
    "Can you predict how capable each applicant is of repaying a loan?"
   ]
  },
  {
   "cell_type": "markdown",
   "metadata": {},
   "source": [
    "Many people struggle to get loans due to **insufficient or non-existent credit histories**. And, unfortunately, this population is often taken advantage of by untrustworthy lenders.\n",
    "\n",
    "Home Credit strives to broaden financial inclusion for the **unbanked population by providing a positive and safe borrowing experience**. In order to make sure this underserved population has a positive loan experience, Home Credit makes use of a variety of alternative data--including telco and transactional information--to predict their clients' repayment abilities.\n",
    "\n",
    "While Home Credit is currently using various statistical and machine learning methods to make these predictions, they're challenging Kagglers to help them unlock the full potential of their data. Doing so will ensure that clients capable of repayment are not rejected and that loans are given with a principal, maturity, and repayment calendar that will empower their clients to be successful."
   ]
  },
  {
   "cell_type": "markdown",
   "metadata": {},
   "source": [
    "**Submissions are evaluated on area under the ROC curve between the predicted probability and the observed target.**"
   ]
  },
  {
   "cell_type": "code",
   "execution_count": null,
   "metadata": {},
   "outputs": [],
   "source": []
  },
  {
   "cell_type": "markdown",
   "metadata": {
    "ExecuteTime": {
     "end_time": "2018-05-21T00:03:15.862019Z",
     "start_time": "2018-05-21T00:03:15.857030Z"
    }
   },
   "source": [
    "# Dataset"
   ]
  },
  {
   "cell_type": "code",
   "execution_count": 1,
   "metadata": {
    "ExecuteTime": {
     "end_time": "2018-05-31T02:44:48.590965Z",
     "start_time": "2018-05-31T02:44:44.721596Z"
    }
   },
   "outputs": [
    {
     "name": "stderr",
     "output_type": "stream",
     "text": [
      "c:\\users\\karti\\appdata\\local\\programs\\python\\python36\\lib\\site-packages\\h5py\\__init__.py:36: FutureWarning: Conversion of the second argument of issubdtype from `float` to `np.floating` is deprecated. In future, it will be treated as `np.float64 == np.dtype(float).type`.\n",
      "  from ._conv import register_converters as _register_converters\n",
      "Using TensorFlow backend.\n"
     ]
    }
   ],
   "source": [
    "# #Python Libraries\n",
    "import numpy as np\n",
    "import scipy as sp\n",
    "import pandas as pd\n",
    "import statsmodels\n",
    "import pandas_profiling\n",
    "\n",
    "%matplotlib inline\n",
    "import matplotlib.pyplot as plt\n",
    "import seaborn as sns\n",
    "\n",
    "import os\n",
    "import sys\n",
    "import time\n",
    "import random\n",
    "import requests\n",
    "import datetime\n",
    "\n",
    "import missingno as msno\n",
    "import math\n",
    "import sys\n",
    "import gc\n",
    "import os\n",
    "\n",
    "# #sklearn\n",
    "from sklearn.model_selection import train_test_split\n",
    "from sklearn.model_selection import cross_val_score\n",
    "from sklearn.model_selection import RandomizedSearchCV\n",
    "from sklearn.model_selection import GridSearchCV\n",
    "from sklearn.model_selection import StratifiedKFold\n",
    "from sklearn.ensemble import RandomForestRegressor\n",
    "\n",
    "# #sklearn - preprocessing\n",
    "from sklearn.preprocessing import StandardScaler\n",
    "from sklearn.preprocessing import LabelEncoder\n",
    "\n",
    "# #sklearn - metrics\n",
    "from sklearn.metrics import mean_squared_error\n",
    "from sklearn.metrics import mean_absolute_error\n",
    "from sklearn.metrics import r2_score\n",
    "from sklearn.metrics import roc_auc_score\n",
    "\n",
    "# #XGBoost & LightGBM\n",
    "import xgboost as xgb\n",
    "import lightgbm as lgb\n",
    "\n",
    "# #Missing value imputation\n",
    "from fancyimpute import KNN, MICE\n",
    "\n",
    "# #Hyperparameter Optimization\n",
    "from hyperopt.pyll.base import scope\n",
    "from hyperopt.pyll.stochastic import sample\n",
    "from hyperopt import STATUS_OK, Trials, fmin, hp, tpe\n",
    "\n",
    "pd.options.display.max_columns = 150"
   ]
  },
  {
   "cell_type": "code",
   "execution_count": null,
   "metadata": {},
   "outputs": [],
   "source": []
  },
  {
   "cell_type": "markdown",
   "metadata": {},
   "source": [
    "## Data Dictionary"
   ]
  },
  {
   "cell_type": "code",
   "execution_count": 2,
   "metadata": {
    "ExecuteTime": {
     "end_time": "2018-05-31T02:44:48.654795Z",
     "start_time": "2018-05-31T02:44:48.591981Z"
    }
   },
   "outputs": [
    {
     "name": "stdout",
     "output_type": "stream",
     "text": [
      "total 2621364\n",
      "-rw-r--r-- 1 karti 197609  26567651 May 17 18:06 application_test.csv\n",
      "-rw-r--r-- 1 karti 197609 166133370 May 17 18:06 application_train.csv\n",
      "-rw-r--r-- 1 karti 197609 170016717 May 17 18:08 bureau.csv\n",
      "-rw-r--r-- 1 karti 197609 375592889 May 17 18:08 bureau_balance.csv\n",
      "-rw-r--r-- 1 karti 197609 424582605 May 17 18:10 credit_card_balance.csv\n",
      "-rw-r--r-- 1 karti 197609     37436 May 30 00:41 HomeCredit_columns_description.csv\n",
      "-rw-r--r-- 1 karti 197609 723118349 May 17 18:13 installments_payments.csv\n",
      "-rw-r--r-- 1 karti 197609 392703158 May 17 18:14 POS_CASH_balance.csv\n",
      "-rw-r--r-- 1 karti 197609 404973293 May 17 18:15 previous_application.csv\n",
      "-rw-r--r-- 1 karti 197609    536202 May 17 18:06 sample_submission.csv\n"
     ]
    }
   ],
   "source": [
    "!ls -l ../data/"
   ]
  },
  {
   "cell_type": "markdown",
   "metadata": {
    "ExecuteTime": {
     "end_time": "2018-05-21T00:09:22.778763Z",
     "start_time": "2018-05-21T00:09:22.728896Z"
    }
   },
   "source": [
    "- application_{train|test}.csv\n",
    "\n",
    "This is the main table, broken into two files for Train (**with TARGET**) and Test (without TARGET).\n",
    "Static data for all applications. **One row represents one loan in our data sample.**\n",
    "\n",
    "Observations:\n",
    "* Each row is unique\n",
    "\n",
    "-----\n",
    "\n",
    "\n",
    "- bureau.csv\n",
    "\n",
    "All client's previous credits provided by other financial institutions that were reported to Credit Bureau (for clients who have a loan in our sample).\n",
    "For every loan in our sample, there are as many rows as number of credits the client had in Credit Bureau before the application date.\n",
    "\n",
    "- bureau_balance.csv\n",
    "\n",
    "Monthly balances of previous credits in Credit Bureau.\n",
    "This table has one row for each month of history of every previous credit reported to Credit Bureau – i.e the table has (#loans in sample * # of relative previous credits * # of months where we have some history observable for the previous credits) rows.\n",
    "\n",
    "- POS_CASH_balance.csv\n",
    "\n",
    "Monthly balance snapshots of previous POS (point of sales) and cash loans that the applicant had with Home Credit.\n",
    "This table has one row for each month of history of every previous credit in Home Credit (consumer credit and cash loans) related to loans in our sample – i.e. the table has (#loans in sample * # of relative previous credits * # of months in which we have some history observable for the previous credits) rows.\n",
    "\n",
    "- credit_card_balance.csv\n",
    "\n",
    "Monthly balance snapshots of previous credit cards that the applicant has with Home Credit.\n",
    "This table has one row for each month of history of every previous credit in Home Credit (consumer credit and cash loans) related to loans in our sample – i.e. the table has (#loans in sample * # of relative previous credit cards * # of months where we have some history observable for the previous credit card) rows.\n",
    "\n",
    "-----\n",
    "\n",
    "- previous_application.csv\n",
    "\n",
    "All previous applications for Home Credit loans of clients who have loans in our sample.\n",
    "There is one row for each previous application related to loans in our data sample.\n",
    "\n",
    "-----\n",
    "\n",
    "- installments_payments.csv\n",
    "\n",
    "Repayment history for the previously disbursed credits in Home Credit related to the loans in our sample.\n",
    "There is a) one row for every payment that was made plus b) one row each for missed payment.\n",
    "One row is equivalent to one payment of one installment OR one installment corresponding to one payment of one previous Home Credit credit related to loans in our sample.\n",
    "\n",
    "- HomeCredit_columns_description.csv\n",
    "\n",
    "This file contains descriptions for the columns in the various data files."
   ]
  },
  {
   "cell_type": "markdown",
   "metadata": {
    "ExecuteTime": {
     "end_time": "2018-05-21T00:10:35.952529Z",
     "start_time": "2018-05-21T00:10:35.909617Z"
    }
   },
   "source": [
    "![](https://storage.googleapis.com/kaggle-media/competitions/home-credit/home_credit.png)"
   ]
  },
  {
   "cell_type": "code",
   "execution_count": null,
   "metadata": {},
   "outputs": [],
   "source": []
  },
  {
   "cell_type": "markdown",
   "metadata": {},
   "source": [
    "# Data Pre-processing"
   ]
  },
  {
   "cell_type": "code",
   "execution_count": 3,
   "metadata": {
    "ExecuteTime": {
     "end_time": "2018-05-31T02:45:41.590394Z",
     "start_time": "2018-05-31T02:44:48.656790Z"
    }
   },
   "outputs": [],
   "source": [
    "df_application_train_original = pd.read_csv(\"../data/application_train.csv\")\n",
    "df_application_test_original = pd.read_csv(\"../data/application_test.csv\")\n",
    "df_bureau_original = pd.read_csv(\"../data/bureau.csv\")\n",
    "df_bureau_balance_original = pd.read_csv(\"../data/bureau_balance.csv\")\n",
    "df_credit_card_balance_original = pd.read_csv(\"../data/credit_card_balance.csv\")\n",
    "df_installments_payments_original = pd.read_csv(\"../data/installments_payments.csv\")\n",
    "df_pos_cash_balance_original = pd.read_csv(\"../data/POS_CASH_balance.csv\")\n",
    "df_previous_application_original = pd.read_csv(\"../data/previous_application.csv\")"
   ]
  },
  {
   "cell_type": "code",
   "execution_count": 4,
   "metadata": {
    "ExecuteTime": {
     "end_time": "2018-05-31T02:46:35.540207Z",
     "start_time": "2018-05-31T02:45:42.295088Z"
    }
   },
   "outputs": [],
   "source": [
    "df_application_train = pd.read_csv(\"../data/application_train.csv\")\n",
    "df_application_test = pd.read_csv(\"../data/application_test.csv\")\n",
    "df_bureau = pd.read_csv(\"../data/bureau.csv\")\n",
    "df_bureau_balance = pd.read_csv(\"../data/bureau_balance.csv\")\n",
    "df_credit_card_balance = pd.read_csv(\"../data/credit_card_balance.csv\")\n",
    "df_installments_payments = pd.read_csv(\"../data/installments_payments.csv\")\n",
    "df_pos_cash_balance = pd.read_csv(\"../data/POS_CASH_balance.csv\")\n",
    "df_previous_application = pd.read_csv(\"../data/previous_application.csv\")"
   ]
  },
  {
   "cell_type": "code",
   "execution_count": 5,
   "metadata": {
    "ExecuteTime": {
     "end_time": "2018-05-31T02:46:35.554171Z",
     "start_time": "2018-05-31T02:46:35.542204Z"
    }
   },
   "outputs": [
    {
     "name": "stdout",
     "output_type": "stream",
     "text": [
      "df_application_train:  (307511, 122)\n",
      "df_application_test:  (48744, 121)\n",
      "df_bureau:  (1716428, 17)\n",
      "df_bureau_balance:  (27299925, 3)\n",
      "df_credit_card_balance:  (3840312, 23)\n",
      "df_installments_payments:  (13605401, 8)\n",
      "df_pos_cash_balance:  (10001358, 8)\n",
      "df_previous_application:  (1670214, 37)\n"
     ]
    }
   ],
   "source": [
    "print(\"df_application_train: \", df_application_train.shape)\n",
    "print(\"df_application_test: \", df_application_test.shape)\n",
    "print(\"df_bureau: \", df_bureau.shape)\n",
    "print(\"df_bureau_balance: \", df_bureau_balance.shape)\n",
    "print(\"df_credit_card_balance: \", df_credit_card_balance.shape)\n",
    "print(\"df_installments_payments: \", df_installments_payments.shape)\n",
    "print(\"df_pos_cash_balance: \", df_pos_cash_balance.shape)\n",
    "print(\"df_previous_application: \", df_previous_application.shape)"
   ]
  },
  {
   "cell_type": "code",
   "execution_count": 6,
   "metadata": {
    "ExecuteTime": {
     "end_time": "2018-05-31T02:46:35.630965Z",
     "start_time": "2018-05-31T02:46:35.556167Z"
    }
   },
   "outputs": [
    {
     "data": {
      "text/plain": [
       "0"
      ]
     },
     "execution_count": 6,
     "metadata": {},
     "output_type": "execute_result"
    }
   ],
   "source": [
    "gc.collect()"
   ]
  },
  {
   "cell_type": "code",
   "execution_count": null,
   "metadata": {},
   "outputs": [],
   "source": []
  },
  {
   "cell_type": "markdown",
   "metadata": {},
   "source": [
    "## Feature: df_installments_payments"
   ]
  },
  {
   "cell_type": "code",
   "execution_count": 7,
   "metadata": {
    "ExecuteTime": {
     "end_time": "2018-05-31T02:46:54.538406Z",
     "start_time": "2018-05-31T02:46:35.632960Z"
    }
   },
   "outputs": [],
   "source": [
    "df_installments_payments['K_PREV_INSTALLMENT_PAYMENT_COUNT'] = df_installments_payments.groupby('SK_ID_CURR')['SK_ID_PREV'].transform('count')\n",
    "df_installments_payments['K_NUM_INSTALMENT_NUMBER_SUM'] = df_installments_payments.groupby('SK_ID_CURR')['NUM_INSTALMENT_NUMBER'].transform(np.sum)\n",
    "\n",
    "df_installments_payments['TEMP_DAYS_INSTALMENT'] = df_installments_payments.groupby('SK_ID_CURR')['DAYS_INSTALMENT'].transform(np.sum)\n",
    "df_installments_payments['TEMP_DAYS_ENTRY_PAYMENT'] = df_installments_payments.groupby('SK_ID_CURR')['DAYS_ENTRY_PAYMENT'].transform(np.sum)\n",
    "df_installments_payments['K_INST_DAYS_DIFF'] = df_installments_payments['TEMP_DAYS_INSTALMENT'] - df_installments_payments['TEMP_DAYS_ENTRY_PAYMENT']\n",
    "\n",
    "df_installments_payments['TEMP_AMT_INSTALMENT'] = df_installments_payments.groupby('SK_ID_CURR')['AMT_INSTALMENT'].transform(np.sum)\n",
    "df_installments_payments['TEMP_AMT_PAYMENT'] = df_installments_payments.groupby('SK_ID_CURR')['AMT_PAYMENT'].transform(np.sum)\n",
    "df_installments_payments['K_INST_AMT_DIFF'] = df_installments_payments['TEMP_AMT_INSTALMENT'] - df_installments_payments['TEMP_AMT_PAYMENT']\n",
    "\n",
    "# #Drop Duplicates\n",
    "df_installments_payments = df_installments_payments[['SK_ID_CURR', 'K_PREV_INSTALLMENT_PAYMENT_COUNT', 'K_NUM_INSTALMENT_NUMBER_SUM', 'K_INST_DAYS_DIFF', 'K_INST_AMT_DIFF']].drop_duplicates()"
   ]
  },
  {
   "cell_type": "code",
   "execution_count": 8,
   "metadata": {
    "ExecuteTime": {
     "end_time": "2018-05-31T02:46:54.709949Z",
     "start_time": "2018-05-31T02:46:54.540403Z"
    }
   },
   "outputs": [
    {
     "name": "stdout",
     "output_type": "stream",
     "text": [
      "df_installments_payments (339587, 5)\n",
      "291643\n",
      "47944\n",
      "Sum:  339587\n"
     ]
    }
   ],
   "source": [
    "# #CHECKPOINT\n",
    "print(\"df_installments_payments\", df_installments_payments.shape)\n",
    "print(len(set(df_installments_payments[\"SK_ID_CURR\"]).intersection(set(df_application_train[\"SK_ID_CURR\"]))))\n",
    "print(len(set(df_installments_payments[\"SK_ID_CURR\"]).intersection(set(df_application_test[\"SK_ID_CURR\"]))))\n",
    "print(\"Sum: \", 291643 + 47944)"
   ]
  },
  {
   "cell_type": "code",
   "execution_count": null,
   "metadata": {},
   "outputs": [],
   "source": []
  },
  {
   "cell_type": "markdown",
   "metadata": {},
   "source": [
    "## Feature: df_credit_card_balance"
   ]
  },
  {
   "cell_type": "code",
   "execution_count": 9,
   "metadata": {
    "ExecuteTime": {
     "end_time": "2018-05-31T02:48:30.380127Z",
     "start_time": "2018-05-31T02:46:54.711943Z"
    }
   },
   "outputs": [],
   "source": [
    "df_credit_card_balance['K_PREV_CREDIT_CARD_BALANCE_COUNT'] = df_credit_card_balance.groupby('SK_ID_CURR')['SK_ID_PREV'].transform('count')\n",
    "\n",
    "df_credit_card_balance['K_MONTHS_BALANCE_MAX'] = df_credit_card_balance.groupby('SK_ID_CURR')['MONTHS_BALANCE'].transform(np.max)\n",
    "df_credit_card_balance['K_MONTHS_BALANCE_MIN'] = df_credit_card_balance.groupby('SK_ID_CURR')['MONTHS_BALANCE'].transform(np.min)\n",
    "\n",
    "df_credit_card_balance['TEMP_AMT_BALANCE'] = df_credit_card_balance.groupby('SK_ID_CURR')['AMT_BALANCE'].transform(lambda x:x+1)\n",
    "df_credit_card_balance['TEMP_AMT_CREDIT_LIMIT_ACTUAL'] = df_credit_card_balance.groupby('SK_ID_CURR')['AMT_CREDIT_LIMIT_ACTUAL'].transform(lambda x:x+1)\n",
    "df_credit_card_balance['TEMP_UTILIZATION'] = df_credit_card_balance['TEMP_AMT_BALANCE']/df_credit_card_balance['TEMP_AMT_CREDIT_LIMIT_ACTUAL']\n",
    "df_credit_card_balance['K_CREDIT_UTILIZATION_MEAN'] = df_credit_card_balance.groupby('SK_ID_CURR')['TEMP_UTILIZATION'].transform(np.mean)\n",
    "df_credit_card_balance['K_CREDIT_UTILIZATION_MIN'] = df_credit_card_balance.groupby('SK_ID_CURR')['TEMP_UTILIZATION'].transform(np.min)\n",
    "df_credit_card_balance['K_CREDIT_UTILIZATION_MAX'] = df_credit_card_balance.groupby('SK_ID_CURR')['TEMP_UTILIZATION'].transform(np.max)\n",
    "\n",
    "# #Validation: SK_ID_CURR = 105755\n",
    "# #AMT_DRAWINGS_CURRENT = AMT_DRAWINGS_ATM_CURRENT + AMT_DRAWINGS_OTHER_CURRENT + AMT_DRAWINGS_POS_CURRENT\n",
    "df_credit_card_balance['K_AMT_DRAWINGS_CURRENT_MEAN'] = df_credit_card_balance.groupby('SK_ID_CURR')['AMT_DRAWINGS_CURRENT'].transform(np.mean)\n",
    "df_credit_card_balance['K_AMT_DRAWINGS_CURRENT_MIN'] = df_credit_card_balance.groupby('SK_ID_CURR')['AMT_DRAWINGS_CURRENT'].transform(np.min)\n",
    "df_credit_card_balance['K_AMT_DRAWINGS_CURRENT_MAX'] = df_credit_card_balance.groupby('SK_ID_CURR')['AMT_DRAWINGS_CURRENT'].transform(np.max)\n",
    "\n",
    "df_credit_card_balance['TEMP_AMT_PAYMENT_TOTAL_CURRENT'] = df_credit_card_balance.groupby('SK_ID_CURR')['AMT_PAYMENT_TOTAL_CURRENT'].transform(lambda x:x+1)\n",
    "df_credit_card_balance['TEMP_AMT_TOTAL_RECEIVABLE'] = df_credit_card_balance.groupby('SK_ID_CURR')['AMT_TOTAL_RECEIVABLE'].transform(lambda x:x+1)\n",
    "df_credit_card_balance['TEMP_AMT_PAYMENT_OVER_RECEIVABLE'] = df_credit_card_balance['TEMP_AMT_PAYMENT_TOTAL_CURRENT']/df_credit_card_balance['TEMP_AMT_TOTAL_RECEIVABLE']\n",
    "df_credit_card_balance['K_AMT_PAYMENT_OVER_RECEIVABLE_MEAN'] = df_credit_card_balance.groupby('SK_ID_CURR')['TEMP_AMT_PAYMENT_OVER_RECEIVABLE'].transform(np.mean)\n",
    "df_credit_card_balance['K_AMT_PAYMENT_OVER_RECEIVABLE_MIN'] = df_credit_card_balance.groupby('SK_ID_CURR')['TEMP_AMT_PAYMENT_OVER_RECEIVABLE'].transform(np.min)\n",
    "df_credit_card_balance['K_AMT_PAYMENT_OVER_RECEIVABLE_MAX'] = df_credit_card_balance.groupby('SK_ID_CURR')['TEMP_AMT_PAYMENT_OVER_RECEIVABLE'].transform(np.max)\n",
    "\n",
    "# #CNT_DRAWINGS_CURRENT = CNT_DRAWINGS_ATM_CURRENT + CNT_DRAWINGS_OTHER_CURRENT + CNT_DRAWINGS_POS_CURRENT\n",
    "df_credit_card_balance['K_CNT_DRAWINGS_CURRENT_MEAN'] = df_credit_card_balance.groupby('SK_ID_CURR')['CNT_DRAWINGS_CURRENT'].transform(np.mean)\n",
    "df_credit_card_balance['K_CNT_DRAWINGS_CURRENT_MIN'] = df_credit_card_balance.groupby('SK_ID_CURR')['CNT_DRAWINGS_CURRENT'].transform(np.min)\n",
    "df_credit_card_balance['K_CNT_DRAWINGS_CURRENT_MAX'] = df_credit_card_balance.groupby('SK_ID_CURR')['CNT_DRAWINGS_CURRENT'].transform(np.max)\n",
    "\n",
    "\n",
    "# #Drop Duplicates\n",
    "df_credit_card_balance = df_credit_card_balance[['SK_ID_CURR', 'K_PREV_CREDIT_CARD_BALANCE_COUNT', 'K_MONTHS_BALANCE_MAX', 'K_MONTHS_BALANCE_MIN', 'K_CREDIT_UTILIZATION_MEAN', 'K_CREDIT_UTILIZATION_MIN', 'K_CREDIT_UTILIZATION_MAX', 'K_AMT_DRAWINGS_CURRENT_MEAN', 'K_AMT_DRAWINGS_CURRENT_MIN', 'K_AMT_DRAWINGS_CURRENT_MAX', 'K_AMT_PAYMENT_OVER_RECEIVABLE_MEAN', 'K_AMT_PAYMENT_OVER_RECEIVABLE_MIN', 'K_AMT_PAYMENT_OVER_RECEIVABLE_MAX', 'K_CNT_DRAWINGS_CURRENT_MEAN', 'K_CNT_DRAWINGS_CURRENT_MIN', 'K_CNT_DRAWINGS_CURRENT_MAX']].drop_duplicates()"
   ]
  },
  {
   "cell_type": "code",
   "execution_count": 10,
   "metadata": {
    "ExecuteTime": {
     "end_time": "2018-05-31T02:48:30.461909Z",
     "start_time": "2018-05-31T02:48:30.382123Z"
    }
   },
   "outputs": [
    {
     "name": "stdout",
     "output_type": "stream",
     "text": [
      "df_credit_card_balance (103558, 16)\n",
      "86905\n",
      "16653\n",
      "Sum:  103558\n"
     ]
    }
   ],
   "source": [
    "# #CHECKPOINT\n",
    "print(\"df_credit_card_balance\", df_credit_card_balance.shape)\n",
    "print(len(set(df_credit_card_balance[\"SK_ID_CURR\"]).intersection(set(df_application_train[\"SK_ID_CURR\"]))))\n",
    "print(len(set(df_credit_card_balance[\"SK_ID_CURR\"]).intersection(set(df_application_test[\"SK_ID_CURR\"]))))\n",
    "print(\"Sum: \", 86905 + 16653)"
   ]
  },
  {
   "cell_type": "code",
   "execution_count": null,
   "metadata": {},
   "outputs": [],
   "source": []
  },
  {
   "cell_type": "code",
   "execution_count": null,
   "metadata": {},
   "outputs": [],
   "source": []
  },
  {
   "cell_type": "markdown",
   "metadata": {},
   "source": [
    "## Feature: df_pos_cash_balance"
   ]
  },
  {
   "cell_type": "code",
   "execution_count": 11,
   "metadata": {
    "ExecuteTime": {
     "end_time": "2018-05-31T02:48:52.785216Z",
     "start_time": "2018-05-31T02:48:30.463904Z"
    }
   },
   "outputs": [],
   "source": [
    "df_pos_cash_balance['K_PREV_POS_CASH_BALANCE_COUNT'] = df_pos_cash_balance.groupby('SK_ID_CURR')['SK_ID_PREV'].transform('count')\n",
    "\n",
    "df_pos_cash_balance['K_MONTHS_BALANCE_POS_CASH_MEAN'] = df_pos_cash_balance.groupby('SK_ID_CURR')['MONTHS_BALANCE'].transform(np.mean)\n",
    "df_pos_cash_balance['K_MONTHS_BALANCE_POS_CASH_MAX'] = df_pos_cash_balance.groupby('SK_ID_CURR')['MONTHS_BALANCE'].transform(np.max)\n",
    "df_pos_cash_balance['K_MONTHS_BALANCE_POS_CASH_MIN'] = df_pos_cash_balance.groupby('SK_ID_CURR')['MONTHS_BALANCE'].transform(np.min)\n",
    "\n",
    "df_pos_cash_balance['K_CNT_INSTALMENT_MEAN'] = df_pos_cash_balance.groupby('SK_ID_CURR')['CNT_INSTALMENT'].transform(np.mean)\n",
    "df_pos_cash_balance['K_CNT_INSTALMENT_MAX'] = df_pos_cash_balance.groupby('SK_ID_CURR')['CNT_INSTALMENT'].transform(np.max)\n",
    "df_pos_cash_balance['K_CNT_INSTALMENT_MIN'] = df_pos_cash_balance.groupby('SK_ID_CURR')['CNT_INSTALMENT'].transform(np.min)\n",
    "\n",
    "df_pos_cash_balance['K_CNT_INSTALMENT_FUTURE_MEAN'] = df_pos_cash_balance.groupby('SK_ID_CURR')['CNT_INSTALMENT_FUTURE'].transform(np.mean)\n",
    "df_pos_cash_balance['K_CNT_INSTALMENT_FUTURE_MAX'] = df_pos_cash_balance.groupby('SK_ID_CURR')['CNT_INSTALMENT_FUTURE'].transform(np.max)\n",
    "df_pos_cash_balance['K_CNT_INSTALMENT_FUTURE_MIN'] = df_pos_cash_balance.groupby('SK_ID_CURR')['CNT_INSTALMENT_FUTURE'].transform(np.min)\n",
    "\n",
    "# #Drop Duplicates\n",
    "df_pos_cash_balance = df_pos_cash_balance[['SK_ID_CURR', 'K_PREV_POS_CASH_BALANCE_COUNT', \n",
    "                                           'K_MONTHS_BALANCE_POS_CASH_MEAN','K_MONTHS_BALANCE_POS_CASH_MAX', 'K_MONTHS_BALANCE_POS_CASH_MIN', \n",
    "                                           'K_CNT_INSTALMENT_MEAN', 'K_CNT_INSTALMENT_MAX', 'K_CNT_INSTALMENT_MIN', \n",
    "                                           'K_CNT_INSTALMENT_FUTURE_MEAN', 'K_CNT_INSTALMENT_FUTURE_MAX', 'K_CNT_INSTALMENT_FUTURE_MIN']].drop_duplicates()"
   ]
  },
  {
   "cell_type": "code",
   "execution_count": null,
   "metadata": {},
   "outputs": [],
   "source": []
  },
  {
   "cell_type": "markdown",
   "metadata": {},
   "source": [
    "## Feature: df_previous_application"
   ]
  },
  {
   "cell_type": "code",
   "execution_count": 12,
   "metadata": {
    "ExecuteTime": {
     "end_time": "2018-05-31T02:49:18.985183Z",
     "start_time": "2018-05-31T02:48:52.787213Z"
    }
   },
   "outputs": [],
   "source": [
    "df_previous_application['K_PREV_PREVIOUS_APPLICATION_COUNT'] = df_previous_application.groupby('SK_ID_CURR')['SK_ID_PREV'].transform('count')\n",
    "\n",
    "df_previous_application['K_AMT_ANNUITY_MEAN'] = df_previous_application.groupby('SK_ID_CURR')['AMT_ANNUITY'].transform(np.mean)\n",
    "df_previous_application['K_AMT_ANNUITY_MAX'] = df_previous_application.groupby('SK_ID_CURR')['AMT_ANNUITY'].transform(np.max)\n",
    "df_previous_application['K_AMT_ANNUITY_MIN'] = df_previous_application.groupby('SK_ID_CURR')['AMT_ANNUITY'].transform(np.min)\n",
    "\n",
    "df_previous_application['TEMP_CREDIT_ALLOCATED'] = df_previous_application['AMT_CREDIT']/df_previous_application['AMT_APPLICATION']\n",
    "df_previous_application['K_CREDIT_ALLOCATED_MEAN'] = df_previous_application.groupby('SK_ID_CURR')['TEMP_CREDIT_ALLOCATED'].transform(np.mean)\n",
    "df_previous_application['K_CREDIT_ALLOCATED_MAX'] = df_previous_application.groupby('SK_ID_CURR')['TEMP_CREDIT_ALLOCATED'].transform(np.max)\n",
    "df_previous_application['K_CREDIT_ALLOCATED_MIN'] = df_previous_application.groupby('SK_ID_CURR')['TEMP_CREDIT_ALLOCATED'].transform(np.min)\n",
    "\n",
    "df_previous_application['K_AMT_DOWN_PAYMENT_MEAN'] = df_previous_application.groupby('SK_ID_CURR')['AMT_DOWN_PAYMENT'].transform(np.mean)\n",
    "df_previous_application['K_AMT_DOWN_PAYMENT_MAX'] = df_previous_application.groupby('SK_ID_CURR')['AMT_DOWN_PAYMENT'].transform(np.max)\n",
    "df_previous_application['K_AMT_DOWN_PAYMENT_MIN'] = df_previous_application.groupby('SK_ID_CURR')['AMT_DOWN_PAYMENT'].transform(np.min)\n",
    "\n",
    "df_previous_application['K_AMT_GOODS_PRICE_MEAN'] = df_previous_application.groupby('SK_ID_CURR')['AMT_GOODS_PRICE'].transform(np.mean)\n",
    "df_previous_application['K_AMT_GOODS_PRICE_MAX'] = df_previous_application.groupby('SK_ID_CURR')['AMT_GOODS_PRICE'].transform(np.max)\n",
    "df_previous_application['K_AMT_GOODS_PRICE_MIN'] = df_previous_application.groupby('SK_ID_CURR')['AMT_GOODS_PRICE'].transform(np.min)\n",
    "\n",
    "df_previous_application['K_DAYS_DECISION_MEAN'] = df_previous_application.groupby('SK_ID_CURR')['DAYS_DECISION'].transform(np.mean)\n",
    "df_previous_application['K_DAYS_DECISION_MAX'] = df_previous_application.groupby('SK_ID_CURR')['DAYS_DECISION'].transform(np.max)\n",
    "df_previous_application['K_DAYS_DECISION_MIN'] = df_previous_application.groupby('SK_ID_CURR')['DAYS_DECISION'].transform(np.min)\n",
    "\n",
    "df_previous_application['K_CNT_PAYMENT_MEAN'] = df_previous_application.groupby('SK_ID_CURR')['CNT_PAYMENT'].transform(np.mean)\n",
    "df_previous_application['K_CNT_PAYMENT_MAX'] = df_previous_application.groupby('SK_ID_CURR')['CNT_PAYMENT'].transform(np.max)\n",
    "df_previous_application['K_CNT_PAYMENT_MIN'] = df_previous_application.groupby('SK_ID_CURR')['CNT_PAYMENT'].transform(np.min)\n",
    "\n",
    "df_previous_application['K_DAYS_FIRST_DRAWING_MEAN'] = df_previous_application.groupby('SK_ID_CURR')['DAYS_FIRST_DRAWING'].transform(np.mean)\n",
    "df_previous_application['K_DAYS_FIRST_DRAWING_MAX'] = df_previous_application.groupby('SK_ID_CURR')['DAYS_FIRST_DRAWING'].transform(np.max)\n",
    "df_previous_application['K_DAYS_FIRST_DRAWING_MIN'] = df_previous_application.groupby('SK_ID_CURR')['DAYS_FIRST_DRAWING'].transform(np.min)\n",
    "\n",
    "df_previous_application['K_DAYS_FIRST_DUE_MEAN'] = df_previous_application.groupby('SK_ID_CURR')['DAYS_FIRST_DUE'].transform(np.mean)\n",
    "df_previous_application['K_DAYS_FIRST_DUE_MAX'] = df_previous_application.groupby('SK_ID_CURR')['DAYS_FIRST_DUE'].transform(np.max)\n",
    "df_previous_application['K_DAYS_FIRST_DUE_MIN'] = df_previous_application.groupby('SK_ID_CURR')['DAYS_FIRST_DUE'].transform(np.min)\n",
    "\n",
    "df_previous_application['K_DAYS_LAST_DUE_1ST_VERSION_MEAN'] = df_previous_application.groupby('SK_ID_CURR')['DAYS_LAST_DUE_1ST_VERSION'].transform(np.mean)\n",
    "df_previous_application['K_DAYS_LAST_DUE_1ST_VERSION_MAX'] = df_previous_application.groupby('SK_ID_CURR')['DAYS_LAST_DUE_1ST_VERSION'].transform(np.max)\n",
    "df_previous_application['K_DAYS_LAST_DUE_1ST_VERSION_MIN'] = df_previous_application.groupby('SK_ID_CURR')['DAYS_LAST_DUE_1ST_VERSION'].transform(np.min)\n",
    "\n",
    "df_previous_application['K_DAYS_LAST_DUE_MEAN'] = df_previous_application.groupby('SK_ID_CURR')['DAYS_LAST_DUE'].transform(np.mean)\n",
    "df_previous_application['K_DAYS_LAST_DUE_MAX'] = df_previous_application.groupby('SK_ID_CURR')['DAYS_LAST_DUE'].transform(np.max)\n",
    "df_previous_application['K_DAYS_LAST_DUE_MIN'] = df_previous_application.groupby('SK_ID_CURR')['DAYS_LAST_DUE'].transform(np.min)\n",
    "\n",
    "df_previous_application['K_DAYS_TERMINATION_MEAN'] = df_previous_application.groupby('SK_ID_CURR')['DAYS_TERMINATION'].transform(np.mean)\n",
    "df_previous_application['K_DAYS_TERMINATION_MAX'] = df_previous_application.groupby('SK_ID_CURR')['DAYS_TERMINATION'].transform(np.max)\n",
    "df_previous_application['K_DAYS_TERMINATION_MIN'] = df_previous_application.groupby('SK_ID_CURR')['DAYS_TERMINATION'].transform(np.min)\n",
    "\n",
    "\n",
    "# #Drop Duplicates\n",
    "df_previous_application = df_previous_application[['SK_ID_CURR', 'K_PREV_PREVIOUS_APPLICATION_COUNT', \n",
    "                                          'K_AMT_ANNUITY_MEAN', 'K_AMT_ANNUITY_MAX', 'K_AMT_ANNUITY_MIN',\n",
    "                                          'K_CREDIT_ALLOCATED_MEAN', 'K_CREDIT_ALLOCATED_MAX', 'K_CREDIT_ALLOCATED_MIN',\n",
    "                                          'K_AMT_DOWN_PAYMENT_MEAN', 'K_AMT_DOWN_PAYMENT_MAX', 'K_AMT_DOWN_PAYMENT_MIN',\n",
    "                                          'K_AMT_GOODS_PRICE_MEAN', 'K_AMT_GOODS_PRICE_MAX', 'K_AMT_GOODS_PRICE_MIN',\n",
    "                                          'K_DAYS_DECISION_MEAN', 'K_DAYS_DECISION_MAX', 'K_DAYS_DECISION_MIN',\n",
    "                                          'K_CNT_PAYMENT_MEAN', 'K_CNT_PAYMENT_MAX', 'K_CNT_PAYMENT_MIN',\n",
    "                                          'K_DAYS_FIRST_DRAWING_MEAN', 'K_DAYS_FIRST_DRAWING_MAX', 'K_DAYS_FIRST_DRAWING_MIN',\n",
    "                                          'K_DAYS_FIRST_DUE_MEAN', 'K_DAYS_FIRST_DUE_MAX', 'K_DAYS_FIRST_DUE_MIN',\n",
    "                                          'K_DAYS_LAST_DUE_1ST_VERSION_MEAN', 'K_DAYS_LAST_DUE_1ST_VERSION_MAX', 'K_DAYS_LAST_DUE_1ST_VERSION_MIN',\n",
    "                                          'K_DAYS_LAST_DUE_MEAN', 'K_DAYS_LAST_DUE_MAX', 'K_DAYS_LAST_DUE_MIN',\n",
    "                                          'K_DAYS_TERMINATION_MEAN', 'K_DAYS_TERMINATION_MAX', 'K_DAYS_TERMINATION_MIN']].drop_duplicates()"
   ]
  },
  {
   "cell_type": "code",
   "execution_count": null,
   "metadata": {},
   "outputs": [],
   "source": [
    "\n"
   ]
  },
  {
   "cell_type": "code",
   "execution_count": 13,
   "metadata": {
    "ExecuteTime": {
     "end_time": "2018-05-31T02:49:18.991143Z",
     "start_time": "2018-05-31T02:49:18.987154Z"
    }
   },
   "outputs": [],
   "source": [
    "# df_bureau = pd.read_csv(\"../data/bureau.csv\")\n",
    "# df_bureau_balance = pd.read_csv(\"../data/bureau_balance.csv\")"
   ]
  },
  {
   "cell_type": "markdown",
   "metadata": {},
   "source": [
    "## Feature: df_bureau_balance"
   ]
  },
  {
   "cell_type": "code",
   "execution_count": 14,
   "metadata": {
    "ExecuteTime": {
     "end_time": "2018-05-31T02:49:29.392329Z",
     "start_time": "2018-05-31T02:49:18.993138Z"
    }
   },
   "outputs": [],
   "source": [
    "# df_bureau_balance['K_BUREAU_BALANCE_COUNT'] = df_bureau_balance.groupby('SK_ID_BUREAU')['SK_ID_BUREAU'].transform('count')\n",
    "\n",
    "df_bureau_balance['K_BUREAU_BALANCE_MONTHS_BALANCE_MEAN'] = df_bureau_balance.groupby('SK_ID_BUREAU')['MONTHS_BALANCE'].transform(np.mean)\n",
    "df_bureau_balance['K_BUREAU_BALANCE_MONTHS_BALANCE_MAX'] = df_bureau_balance.groupby('SK_ID_BUREAU')['MONTHS_BALANCE'].transform(np.max)\n",
    "df_bureau_balance['K_BUREAU_BALANCE_MONTHS_BALANCE_MIN'] = df_bureau_balance.groupby('SK_ID_BUREAU')['MONTHS_BALANCE'].transform(np.min)\n",
    "\n",
    "# #Drop Duplicates\n",
    "df_bureau_balance = df_bureau_balance[['SK_ID_BUREAU','K_BUREAU_BALANCE_MONTHS_BALANCE_MEAN',\n",
    "                                                 'K_BUREAU_BALANCE_MONTHS_BALANCE_MAX',\n",
    "                                                'K_BUREAU_BALANCE_MONTHS_BALANCE_MIN']].drop_duplicates()"
   ]
  },
  {
   "cell_type": "code",
   "execution_count": 15,
   "metadata": {
    "ExecuteTime": {
     "end_time": "2018-05-31T02:49:29.482092Z",
     "start_time": "2018-05-31T02:49:29.394326Z"
    }
   },
   "outputs": [
    {
     "data": {
      "text/plain": [
       "817395"
      ]
     },
     "execution_count": 15,
     "metadata": {},
     "output_type": "execute_result"
    }
   ],
   "source": [
    "len(df_bureau_balance['SK_ID_BUREAU'].unique())"
   ]
  },
  {
   "cell_type": "markdown",
   "metadata": {},
   "source": [
    "## Feature: df_bureau"
   ]
  },
  {
   "cell_type": "code",
   "execution_count": 16,
   "metadata": {
    "ExecuteTime": {
     "end_time": "2018-05-31T02:49:29.598779Z",
     "start_time": "2018-05-31T02:49:29.484086Z"
    }
   },
   "outputs": [
    {
     "data": {
      "text/plain": [
       "1716428"
      ]
     },
     "execution_count": 16,
     "metadata": {},
     "output_type": "execute_result"
    }
   ],
   "source": [
    "len(df_bureau[\"SK_ID_BUREAU\"].unique())"
   ]
  },
  {
   "cell_type": "code",
   "execution_count": 17,
   "metadata": {
    "ExecuteTime": {
     "end_time": "2018-05-31T02:49:29.608753Z",
     "start_time": "2018-05-31T02:49:29.600779Z"
    }
   },
   "outputs": [
    {
     "data": {
      "text/plain": [
       "(1716428, 17)"
      ]
     },
     "execution_count": 17,
     "metadata": {},
     "output_type": "execute_result"
    }
   ],
   "source": [
    "df_bureau.shape"
   ]
  },
  {
   "cell_type": "code",
   "execution_count": 18,
   "metadata": {
    "ExecuteTime": {
     "end_time": "2018-05-31T02:49:30.818516Z",
     "start_time": "2018-05-31T02:49:29.611746Z"
    }
   },
   "outputs": [],
   "source": [
    "df_bureau = pd.merge(df_bureau, df_bureau_balance, on=\"SK_ID_BUREAU\", how=\"left\", suffixes=('_bureau', '_bureau_balance'))"
   ]
  },
  {
   "cell_type": "code",
   "execution_count": 19,
   "metadata": {
    "ExecuteTime": {
     "end_time": "2018-05-31T02:49:30.826495Z",
     "start_time": "2018-05-31T02:49:30.820512Z"
    }
   },
   "outputs": [
    {
     "data": {
      "text/plain": [
       "(1716428, 20)"
      ]
     },
     "execution_count": 19,
     "metadata": {},
     "output_type": "execute_result"
    }
   ],
   "source": [
    "df_bureau.shape"
   ]
  },
  {
   "cell_type": "code",
   "execution_count": 20,
   "metadata": {
    "ExecuteTime": {
     "end_time": "2018-05-31T02:50:40.918548Z",
     "start_time": "2018-05-31T02:49:30.829488Z"
    }
   },
   "outputs": [],
   "source": [
    "# #Feature - SK_ID_BUREAU represents each loan application.\n",
    "# #Grouping by SK_ID_CURR significes the number of previous loans per applicant.\n",
    "df_bureau['K_BUREAU_COUNT'] = df_bureau.groupby('SK_ID_CURR')['SK_ID_BUREAU'].transform('count')\n",
    "\n",
    "# # #Feature - CREDIT_ACTIVE\n",
    "# # #Frequency Encoding\n",
    "# temp_bureau_credit_active = df_bureau.groupby(['SK_ID_CURR','CREDIT_ACTIVE']).size()/df_bureau.groupby(['SK_ID_CURR']).size()\n",
    "# temp_bureau_credit_active = temp_bureau_credit_active.to_frame().reset_index().rename(columns= {0: 'TEMP_BUREAU_CREDIT_ACTIVE_FREQENCODE'})\n",
    "# temp_bureau_credit_active = temp_bureau_credit_active.pivot(index='SK_ID_CURR', columns='CREDIT_ACTIVE', values='TEMP_BUREAU_CREDIT_ACTIVE_FREQENCODE')\n",
    "# temp_bureau_credit_active.reset_index(inplace = True)\n",
    "# temp_bureau_credit_active.columns = ['SK_ID_CURR', 'K_CREDIT_ACTIVE_ACTIVE', 'K_CREDIT_ACTIVE_BADDEBT', 'K_CREDIT_ACTIVE_CLOSED', 'K_CREDIT_ACTIVE_SOLD']\n",
    "# df_bureau = pd.merge(df_bureau, temp_bureau_credit_active, on=[\"SK_ID_CURR\"], how=\"left\", suffixes=('_bureau', '_credit_active_percentage'))\n",
    "# del temp_bureau_credit_active\n",
    "\n",
    "# # #Feature - DAYS_CREDIT\n",
    "df_bureau['K_BUREAU_DAYS_CREDIT_MEAN'] = df_bureau.groupby('SK_ID_CURR')['DAYS_CREDIT'].transform(np.mean)\n",
    "df_bureau['K_BUREAU_DAYS_CREDIT_MAX'] = df_bureau.groupby('SK_ID_CURR')['DAYS_CREDIT'].transform(np.max)\n",
    "df_bureau['K_BUREAU_DAYS_CREDIT_MIN'] = df_bureau.groupby('SK_ID_CURR')['DAYS_CREDIT'].transform(np.min)\n",
    "gc.collect()\n",
    "# # #Successive difference between credit application per customer - Mean, Min, Max\n",
    "temp_bureau_days_credit = df_bureau.copy()\n",
    "temp_bureau_days_credit.sort_values(['SK_ID_CURR', 'DAYS_CREDIT'], inplace=True)\n",
    "temp_bureau_days_credit['temp_successive_diff'] = temp_bureau_days_credit.groupby('SK_ID_CURR')['DAYS_CREDIT'].transform(lambda ele: ele.diff())\n",
    "temp_bureau_days_credit['K_BUREAU_DAYS_CREDIT_SORTED_SUCCESSIVE_DIFF_MEAN'] = temp_bureau_days_credit.groupby('SK_ID_CURR')['temp_successive_diff'].transform(np.mean)\n",
    "df_bureau = pd.merge(df_bureau, temp_bureau_days_credit[['SK_ID_CURR','K_BUREAU_DAYS_CREDIT_SORTED_SUCCESSIVE_DIFF_MEAN']].drop_duplicates(), \n",
    "                     on=\"SK_ID_CURR\", how=\"left\", suffixes=('_bureau', '_days_credit_sorted_successive_diff'))\n",
    "# del temp_bureau_days_credit\n",
    "\n",
    "df_bureau['K_BUREAU_CREDIT_DAY_OVERDUE_MEAN'] = df_bureau.groupby('SK_ID_CURR')['CREDIT_DAY_OVERDUE'].transform(np.mean)\n",
    "df_bureau['K_BUREAU_CREDIT_DAY_OVERDUE_MAX'] = df_bureau.groupby('SK_ID_CURR')['CREDIT_DAY_OVERDUE'].transform(np.max)\n",
    "df_bureau['K_BUREAU_CREDIT_DAY_OVERDUE_MIN'] = df_bureau.groupby('SK_ID_CURR')['CREDIT_DAY_OVERDUE'].transform(np.min)\n",
    "\n",
    "df_bureau['K_BUREAU_DAYS_CREDIT_ENDDATE_MEAN'] = df_bureau.groupby('SK_ID_CURR')['DAYS_CREDIT_ENDDATE'].transform(np.mean)\n",
    "df_bureau['K_BUREAU_DAYS_CREDIT_ENDDATE_MAX'] = df_bureau.groupby('SK_ID_CURR')['DAYS_CREDIT_ENDDATE'].transform(np.max)\n",
    "df_bureau['K_BUREAU_DAYS_CREDIT_ENDDATE_MIN'] = df_bureau.groupby('SK_ID_CURR')['DAYS_CREDIT_ENDDATE'].transform(np.min)\n",
    "\n",
    "df_bureau['K_BUREAU_DAYS_ENDDATE_FACT_MEAN'] = df_bureau.groupby('SK_ID_CURR')['DAYS_ENDDATE_FACT'].transform(np.mean)\n",
    "df_bureau['K_BUREAU_DAYS_ENDDATE_FACT_MAX'] = df_bureau.groupby('SK_ID_CURR')['DAYS_ENDDATE_FACT'].transform(np.max)\n",
    "df_bureau['K_BUREAU_DAYS_ENDDATE_FACT_MIN'] = df_bureau.groupby('SK_ID_CURR')['DAYS_ENDDATE_FACT'].transform(np.min)\n",
    "\n",
    "df_bureau['K_BUREAU_AMT_CREDIT_MAX_OVERDUE_MEAN'] = df_bureau.groupby('SK_ID_CURR')['AMT_CREDIT_MAX_OVERDUE'].transform(np.mean)\n",
    "df_bureau['K_BUREAU_AMT_CREDIT_MAX_OVERDUE_MAX'] = df_bureau.groupby('SK_ID_CURR')['AMT_CREDIT_MAX_OVERDUE'].transform(np.max)\n",
    "df_bureau['K_BUREAU_AMT_CREDIT_MAX_OVERDUE_MIN'] = df_bureau.groupby('SK_ID_CURR')['AMT_CREDIT_MAX_OVERDUE'].transform(np.min)\n",
    "\n",
    "\n",
    "df_bureau['K_BUREAU_CNT_CREDIT_PROLONG_MAX'] = df_bureau.groupby('SK_ID_CURR')['CNT_CREDIT_PROLONG'].transform(np.max)\n",
    "\n",
    "# #To-Do: Calculate a utilization metric for some of the features below?\n",
    "df_bureau['K_BUREAU_AMT_CREDIT_SUM_MEAN'] = df_bureau.groupby('SK_ID_CURR')['AMT_CREDIT_SUM'].transform(np.mean)\n",
    "df_bureau['K_BUREAU_AMT_CREDIT_SUM_MAX'] = df_bureau.groupby('SK_ID_CURR')['AMT_CREDIT_SUM'].transform(np.max)\n",
    "df_bureau['K_BUREAU_AMT_CREDIT_SUM_MIN'] = df_bureau.groupby('SK_ID_CURR')['AMT_CREDIT_SUM'].transform(np.min)\n",
    "\n",
    "df_bureau['K_BUREAU_AMT_CREDIT_SUM_DEBT_MEAN'] = df_bureau.groupby('SK_ID_CURR')['AMT_CREDIT_SUM_DEBT'].transform(np.mean)\n",
    "df_bureau['K_BUREAU_AMT_CREDIT_SUM_DEBT_MAX'] = df_bureau.groupby('SK_ID_CURR')['AMT_CREDIT_SUM_DEBT'].transform(np.max)\n",
    "df_bureau['K_BUREAU_AMT_CREDIT_SUM_DEBT_MIN'] = df_bureau.groupby('SK_ID_CURR')['AMT_CREDIT_SUM_DEBT'].transform(np.min)\n",
    "\n",
    "df_bureau['K_BUREAU_AMT_CREDIT_SUM_LIMIT_MEAN'] = df_bureau.groupby('SK_ID_CURR')['AMT_CREDIT_SUM_LIMIT'].transform(np.mean)\n",
    "df_bureau['K_BUREAU_AMT_CREDIT_SUM_LIMIT_MAX'] = df_bureau.groupby('SK_ID_CURR')['AMT_CREDIT_SUM_LIMIT'].transform(np.max)\n",
    "df_bureau['K_BUREAU_AMT_CREDIT_SUM_LIMIT_MIN'] = df_bureau.groupby('SK_ID_CURR')['AMT_CREDIT_SUM_LIMIT'].transform(np.min)\n",
    "\n",
    "df_bureau['K_BUREAU_AMT_CREDIT_SUM_OVERDUE_MEAN'] = df_bureau.groupby('SK_ID_CURR')['AMT_CREDIT_SUM_OVERDUE'].transform(np.mean)\n",
    "df_bureau['K_BUREAU_AMT_CREDIT_SUM_OVERDUE_MAX'] = df_bureau.groupby('SK_ID_CURR')['AMT_CREDIT_SUM_OVERDUE'].transform(np.max)\n",
    "df_bureau['K_BUREAU_AMT_CREDIT_SUM_OVERDUE_MIN'] = df_bureau.groupby('SK_ID_CURR')['AMT_CREDIT_SUM_OVERDUE'].transform(np.min)\n",
    "\n",
    "df_bureau['K_BUREAU_AMT_ANNUITY_MEAN'] = df_bureau.groupby('SK_ID_CURR')['AMT_ANNUITY'].transform(np.mean)\n",
    "df_bureau['K_BUREAU_AMT_ANNUITY_MAX'] = df_bureau.groupby('SK_ID_CURR')['AMT_ANNUITY'].transform(np.max)\n",
    "df_bureau['K_BUREAU_AMT_ANNUITY_MIN'] = df_bureau.groupby('SK_ID_CURR')['AMT_ANNUITY'].transform(np.min)\n",
    "\n",
    "# #Added from df_bureau_balance\n",
    "df_bureau['K_BUREAU_BALANCE_MONTHS_BALANCE_MEAN'] = df_bureau.groupby('SK_ID_CURR')['K_BUREAU_BALANCE_MONTHS_BALANCE_MEAN'].transform(np.mean)\n",
    "df_bureau['K_BUREAU_BALANCE_MONTHS_BALANCE_MAX'] = df_bureau.groupby('SK_ID_CURR')['K_BUREAU_BALANCE_MONTHS_BALANCE_MAX'].transform(np.max)\n",
    "df_bureau['K_BUREAU_BALANCE_MONTHS_BALANCE_MIN'] = df_bureau.groupby('SK_ID_CURR')['K_BUREAU_BALANCE_MONTHS_BALANCE_MIN'].transform(np.min)\n",
    "\n",
    "\n",
    "#Drop Duplicates\n",
    "df_bureau = df_bureau[['SK_ID_CURR', 'K_BUREAU_COUNT', \n",
    "                       'K_BUREAU_DAYS_CREDIT_MEAN', 'K_BUREAU_DAYS_CREDIT_MAX', 'K_BUREAU_DAYS_CREDIT_MIN',\n",
    "                       'K_BUREAU_DAYS_CREDIT_SORTED_SUCCESSIVE_DIFF_MEAN',\n",
    "                       'K_BUREAU_CREDIT_DAY_OVERDUE_MEAN', 'K_BUREAU_CREDIT_DAY_OVERDUE_MAX', 'K_BUREAU_CREDIT_DAY_OVERDUE_MIN',\n",
    "                      'K_BUREAU_DAYS_CREDIT_ENDDATE_MEAN', 'K_BUREAU_DAYS_CREDIT_ENDDATE_MAX', 'K_BUREAU_DAYS_CREDIT_ENDDATE_MIN',\n",
    "                      'K_BUREAU_DAYS_ENDDATE_FACT_MEAN', 'K_BUREAU_DAYS_ENDDATE_FACT_MAX', 'K_BUREAU_DAYS_ENDDATE_FACT_MIN',\n",
    "                      'K_BUREAU_AMT_CREDIT_MAX_OVERDUE_MEAN', 'K_BUREAU_AMT_CREDIT_MAX_OVERDUE_MAX', 'K_BUREAU_AMT_CREDIT_MAX_OVERDUE_MIN',\n",
    "                      'K_BUREAU_CNT_CREDIT_PROLONG_MAX',\n",
    "                      'K_BUREAU_AMT_CREDIT_SUM_MEAN', 'K_BUREAU_AMT_CREDIT_SUM_MAX', 'K_BUREAU_AMT_CREDIT_SUM_MIN',\n",
    "                      'K_BUREAU_AMT_CREDIT_SUM_DEBT_MEAN', 'K_BUREAU_AMT_CREDIT_SUM_DEBT_MAX', 'K_BUREAU_AMT_CREDIT_SUM_DEBT_MIN',\n",
    "                      'K_BUREAU_AMT_CREDIT_SUM_LIMIT_MEAN', 'K_BUREAU_AMT_CREDIT_SUM_LIMIT_MAX', 'K_BUREAU_AMT_CREDIT_SUM_LIMIT_MIN',\n",
    "                      'K_BUREAU_AMT_CREDIT_SUM_OVERDUE_MEAN', 'K_BUREAU_AMT_CREDIT_SUM_OVERDUE_MAX', 'K_BUREAU_AMT_CREDIT_SUM_OVERDUE_MIN',\n",
    "                      'K_BUREAU_AMT_ANNUITY_MEAN', 'K_BUREAU_AMT_ANNUITY_MAX', 'K_BUREAU_AMT_ANNUITY_MIN',\n",
    "                      'K_BUREAU_BALANCE_MONTHS_BALANCE_MEAN', 'K_BUREAU_BALANCE_MONTHS_BALANCE_MAX', 'K_BUREAU_BALANCE_MONTHS_BALANCE_MIN']].drop_duplicates()"
   ]
  },
  {
   "cell_type": "code",
   "execution_count": 21,
   "metadata": {
    "ExecuteTime": {
     "end_time": "2018-05-31T02:50:40.927496Z",
     "start_time": "2018-05-31T02:50:40.920514Z"
    }
   },
   "outputs": [
    {
     "data": {
      "text/plain": [
       "(305811, 37)"
      ]
     },
     "execution_count": 21,
     "metadata": {},
     "output_type": "execute_result"
    }
   ],
   "source": [
    "df_bureau.shape"
   ]
  },
  {
   "cell_type": "code",
   "execution_count": 22,
   "metadata": {
    "ExecuteTime": {
     "end_time": "2018-05-31T02:50:41.382287Z",
     "start_time": "2018-05-31T02:50:40.929493Z"
    }
   },
   "outputs": [
    {
     "name": "stdout",
     "output_type": "stream",
     "text": [
      "df_bureau_original (1716428, 17)\n",
      "263491\n",
      "42320\n",
      "Sum:  305811\n"
     ]
    }
   ],
   "source": [
    "# #CHECKPOINT\n",
    "print(\"df_bureau_original\", df_bureau_original.shape)\n",
    "print(len(set(df_bureau_original[\"SK_ID_CURR\"]).intersection(set(df_application_train[\"SK_ID_CURR\"]))))\n",
    "print(len(set(df_bureau_original[\"SK_ID_CURR\"]).intersection(set(df_application_test[\"SK_ID_CURR\"]))))\n",
    "print(\"Sum: \", 263491 + 42320)"
   ]
  },
  {
   "cell_type": "code",
   "execution_count": 23,
   "metadata": {
    "ExecuteTime": {
     "end_time": "2018-05-31T02:50:41.539859Z",
     "start_time": "2018-05-31T02:50:41.384275Z"
    }
   },
   "outputs": [
    {
     "name": "stdout",
     "output_type": "stream",
     "text": [
      "df_bureau (305811, 37)\n",
      "263491\n",
      "42320\n",
      "Sum:  305811\n"
     ]
    }
   ],
   "source": [
    "# #CHECKPOINT\n",
    "print(\"df_bureau\", df_bureau.shape)\n",
    "print(len(set(df_bureau[\"SK_ID_CURR\"]).intersection(set(df_application_train[\"SK_ID_CURR\"]))))\n",
    "print(len(set(df_bureau[\"SK_ID_CURR\"]).intersection(set(df_application_test[\"SK_ID_CURR\"]))))\n",
    "print(\"Sum: \", 263491 + 42320)"
   ]
  },
  {
   "cell_type": "code",
   "execution_count": null,
   "metadata": {},
   "outputs": [],
   "source": []
  },
  {
   "cell_type": "code",
   "execution_count": null,
   "metadata": {},
   "outputs": [],
   "source": []
  },
  {
   "cell_type": "code",
   "execution_count": 73,
   "metadata": {
    "ExecuteTime": {
     "end_time": "2018-05-31T03:16:34.055915Z",
     "start_time": "2018-05-31T03:14:31.776182Z"
    }
   },
   "outputs": [],
   "source": [
    "x = df_bureau_original.groupby('SK_ID_CURR')['CREDIT_CURRENCY'].agg(lambda x:x.value_counts().index[0])"
   ]
  },
  {
   "cell_type": "code",
   "execution_count": 86,
   "metadata": {
    "ExecuteTime": {
     "end_time": "2018-05-31T03:18:47.126360Z",
     "start_time": "2018-05-31T03:18:47.084473Z"
    }
   },
   "outputs": [
    {
     "data": {
      "text/plain": [
       "0    305693\n",
       "1       112\n",
       "2         6\n",
       "dtype: int64"
      ]
     },
     "execution_count": 86,
     "metadata": {},
     "output_type": "execute_result"
    }
   ],
   "source": [
    "x.to_frame()['CREDIT_CURRENCY'].astype('category').cat.codes"
   ]
  },
  {
   "cell_type": "code",
   "execution_count": null,
   "metadata": {},
   "outputs": [],
   "source": []
  },
  {
   "cell_type": "code",
   "execution_count": null,
   "metadata": {},
   "outputs": [],
   "source": []
  },
  {
   "cell_type": "code",
   "execution_count": 24,
   "metadata": {
    "ExecuteTime": {
     "end_time": "2018-05-31T02:50:41.680482Z",
     "start_time": "2018-05-31T02:50:41.541854Z"
    }
   },
   "outputs": [
    {
     "data": {
      "text/plain": [
       "43"
      ]
     },
     "execution_count": 24,
     "metadata": {},
     "output_type": "execute_result"
    }
   ],
   "source": [
    "gc.collect()"
   ]
  },
  {
   "cell_type": "code",
   "execution_count": null,
   "metadata": {},
   "outputs": [],
   "source": []
  },
  {
   "cell_type": "markdown",
   "metadata": {},
   "source": [
    "## Feature MAIN TABLE: df_application_train"
   ]
  },
  {
   "cell_type": "code",
   "execution_count": 25,
   "metadata": {
    "ExecuteTime": {
     "end_time": "2018-05-31T02:50:41.820107Z",
     "start_time": "2018-05-31T02:50:41.683473Z"
    }
   },
   "outputs": [],
   "source": [
    "# #Feature - Divide existing features\n",
    "df_application_train['K_APP_CREDIT_TO_INCOME_RATIO'] = df_application_train['AMT_CREDIT']/df_application_train['AMT_INCOME_TOTAL']\n",
    "df_application_train['K_APP_ANNUITY_TO_INCOME_RATIO'] = df_application_train['AMT_ANNUITY']/df_application_train['AMT_INCOME_TOTAL']\n",
    "df_application_train['K_APP_ANNUITY_TO_CREDIT_RATIO'] = df_application_train['AMT_ANNUITY']/df_application_train['AMT_CREDIT']\n",
    "\n",
    "df_application_train['K_APP_GOODSPRICE_TO_CREDIT_RATIO'] = df_application_train['AMT_GOODS_PRICE']/df_application_train['AMT_CREDIT']\n",
    "\n",
    "# #Feature - Income, Education, Family Status\n",
    "df_application_train['K_APP_INCOME_EDUCATION'] = df_application_train['NAME_INCOME_TYPE'] + df_application_train['NAME_EDUCATION_TYPE']\n",
    "df_application_train['K_APP_INCOME_EDUCATION_FAMILY'] = df_application_train['NAME_INCOME_TYPE'] + df_application_train['NAME_EDUCATION_TYPE'] + df_application_train['NAME_FAMILY_STATUS']\n",
    "\n",
    "# #Feature - Age in years\n",
    "df_application_train['K_DAYS_BIRTH_TO_EMPLOYED_RATIO'] = df_application_train['DAYS_BIRTH']/df_application_train['DAYS_EMPLOYED']"
   ]
  },
  {
   "cell_type": "code",
   "execution_count": 26,
   "metadata": {
    "ExecuteTime": {
     "end_time": "2018-05-31T02:50:41.857009Z",
     "start_time": "2018-05-31T02:50:41.821104Z"
    }
   },
   "outputs": [],
   "source": [
    "# #Feature - Divide existing features\n",
    "df_application_test['K_APP_CREDIT_TO_INCOME_RATIO'] = df_application_test['AMT_CREDIT']/df_application_test['AMT_INCOME_TOTAL']\n",
    "df_application_test['K_APP_ANNUITY_TO_INCOME_RATIO'] = df_application_test['AMT_ANNUITY']/df_application_test['AMT_INCOME_TOTAL']\n",
    "df_application_test['K_APP_ANNUITY_TO_CREDIT_RATIO'] = df_application_test['AMT_ANNUITY']/df_application_test['AMT_CREDIT']\n",
    "\n",
    "df_application_test['K_APP_GOODSPRICE_TO_CREDIT_RATIO'] = df_application_test['AMT_GOODS_PRICE']/df_application_test['AMT_CREDIT']\n",
    "\n",
    "# #Feature - Income, Education, Family Status\n",
    "df_application_test['K_APP_INCOME_EDUCATION'] = df_application_test['NAME_INCOME_TYPE'] + df_application_test['NAME_EDUCATION_TYPE']\n",
    "df_application_test['K_APP_INCOME_EDUCATION_FAMILY'] = df_application_test['NAME_INCOME_TYPE'] + df_application_test['NAME_EDUCATION_TYPE'] + df_application_test['NAME_FAMILY_STATUS']\n",
    "\n",
    "# #Feature - Age in years\n",
    "df_application_test['K_DAYS_BIRTH_TO_EMPLOYED_RATIO'] = df_application_test['DAYS_BIRTH']/df_application_test['DAYS_EMPLOYED']"
   ]
  },
  {
   "cell_type": "code",
   "execution_count": null,
   "metadata": {},
   "outputs": [],
   "source": []
  },
  {
   "cell_type": "code",
   "execution_count": null,
   "metadata": {},
   "outputs": [],
   "source": []
  },
  {
   "cell_type": "code",
   "execution_count": 27,
   "metadata": {
    "ExecuteTime": {
     "end_time": "2018-05-31T02:50:41.917865Z",
     "start_time": "2018-05-31T02:50:41.859005Z"
    }
   },
   "outputs": [
    {
     "data": {
      "text/plain": [
       "21"
      ]
     },
     "execution_count": 27,
     "metadata": {},
     "output_type": "execute_result"
    }
   ],
   "source": [
    "gc.collect()"
   ]
  },
  {
   "cell_type": "code",
   "execution_count": null,
   "metadata": {},
   "outputs": [],
   "source": []
  },
  {
   "cell_type": "markdown",
   "metadata": {},
   "source": [
    "# Combine Datasets"
   ]
  },
  {
   "cell_type": "markdown",
   "metadata": {},
   "source": [
    "## Encode categorical columns"
   ]
  },
  {
   "cell_type": "code",
   "execution_count": 28,
   "metadata": {
    "ExecuteTime": {
     "end_time": "2018-05-31T02:50:43.735985Z",
     "start_time": "2018-05-31T02:50:41.919842Z"
    }
   },
   "outputs": [
    {
     "data": {
      "text/plain": [
       "126"
      ]
     },
     "execution_count": 28,
     "metadata": {},
     "output_type": "execute_result"
    }
   ],
   "source": [
    "arr_categorical_columns = df_application_train.select_dtypes(['object']).columns\n",
    "for var_col in arr_categorical_columns:\n",
    "    df_application_train[var_col] = df_application_train[var_col].astype('category').cat.codes\n",
    "gc.collect()\n",
    "\n",
    "arr_categorical_columns = df_application_test.select_dtypes(['object']).columns\n",
    "for var_col in arr_categorical_columns:\n",
    "    df_application_test[var_col] = df_application_test[var_col].astype('category').cat.codes\n",
    "gc.collect()\n",
    "\n",
    "# arr_categorical_columns = df_credit_card_balance.select_dtypes(['object']).columns\n",
    "# for var_col in arr_categorical_columns:\n",
    "#     df_credit_card_balance[var_col] = df_credit_card_balance[var_col].astype('category').cat.codes"
   ]
  },
  {
   "cell_type": "code",
   "execution_count": null,
   "metadata": {},
   "outputs": [],
   "source": []
  },
  {
   "cell_type": "markdown",
   "metadata": {
    "ExecuteTime": {
     "end_time": "2018-05-25T23:30:11.672680Z",
     "start_time": "2018-05-25T23:30:11.668692Z"
    }
   },
   "source": [
    "## Combine Datasets"
   ]
  },
  {
   "cell_type": "markdown",
   "metadata": {},
   "source": [
    "### df_installments_payments"
   ]
  },
  {
   "cell_type": "code",
   "execution_count": 29,
   "metadata": {
    "ExecuteTime": {
     "end_time": "2018-05-31T02:50:43.777904Z",
     "start_time": "2018-05-31T02:50:43.737981Z"
    }
   },
   "outputs": [],
   "source": [
    "df_installments_payments_train = df_installments_payments[df_installments_payments[\"SK_ID_CURR\"].isin(df_application_train[\"SK_ID_CURR\"])]\n",
    "df_installments_payments_test = df_installments_payments[df_installments_payments[\"SK_ID_CURR\"].isin(df_application_test[\"SK_ID_CURR\"])]"
   ]
  },
  {
   "cell_type": "code",
   "execution_count": 30,
   "metadata": {
    "ExecuteTime": {
     "end_time": "2018-05-31T02:50:45.859307Z",
     "start_time": "2018-05-31T02:50:43.779868Z"
    }
   },
   "outputs": [],
   "source": [
    "df_application_train = pd.merge(df_application_train, df_installments_payments_train, on=\"SK_ID_CURR\", how=\"outer\", suffixes=('_application', '_installments_payments'))\n",
    "df_application_test = pd.merge(df_application_test, df_installments_payments_test, on=\"SK_ID_CURR\", how=\"outer\", suffixes=('_application', '_installments_payments'))"
   ]
  },
  {
   "cell_type": "code",
   "execution_count": null,
   "metadata": {},
   "outputs": [],
   "source": []
  },
  {
   "cell_type": "markdown",
   "metadata": {},
   "source": [
    "### df_credit_card_balance"
   ]
  },
  {
   "cell_type": "code",
   "execution_count": 31,
   "metadata": {
    "ExecuteTime": {
     "end_time": "2018-05-31T02:50:45.888229Z",
     "start_time": "2018-05-31T02:50:45.860305Z"
    }
   },
   "outputs": [],
   "source": [
    "df_credit_card_balance_train = df_credit_card_balance[df_credit_card_balance[\"SK_ID_CURR\"].isin(df_application_train[\"SK_ID_CURR\"])]\n",
    "df_credit_card_balance_test = df_credit_card_balance[df_credit_card_balance[\"SK_ID_CURR\"].isin(df_application_test[\"SK_ID_CURR\"])]"
   ]
  },
  {
   "cell_type": "code",
   "execution_count": 32,
   "metadata": {
    "ExecuteTime": {
     "end_time": "2018-05-31T02:50:46.282203Z",
     "start_time": "2018-05-31T02:50:45.890226Z"
    }
   },
   "outputs": [],
   "source": [
    "df_application_train = pd.merge(df_application_train, df_credit_card_balance_train, on=\"SK_ID_CURR\", how=\"outer\", suffixes=('_application', '_credit_card_balance'))\n",
    "df_application_test = pd.merge(df_application_test, df_credit_card_balance_test, on=\"SK_ID_CURR\", how=\"outer\", suffixes=('_application', '_credit_card_balance'))"
   ]
  },
  {
   "cell_type": "code",
   "execution_count": null,
   "metadata": {},
   "outputs": [],
   "source": []
  },
  {
   "cell_type": "markdown",
   "metadata": {},
   "source": [
    "### df_pos_cash_balance"
   ]
  },
  {
   "cell_type": "code",
   "execution_count": 33,
   "metadata": {
    "ExecuteTime": {
     "end_time": "2018-05-31T02:50:46.337029Z",
     "start_time": "2018-05-31T02:50:46.284172Z"
    }
   },
   "outputs": [],
   "source": [
    "df_pos_cash_balance_train = df_pos_cash_balance[df_pos_cash_balance[\"SK_ID_CURR\"].isin(df_application_train[\"SK_ID_CURR\"])]\n",
    "df_pos_cash_balance_test = df_pos_cash_balance[df_pos_cash_balance[\"SK_ID_CURR\"].isin(df_application_test[\"SK_ID_CURR\"])]"
   ]
  },
  {
   "cell_type": "code",
   "execution_count": 34,
   "metadata": {
    "ExecuteTime": {
     "end_time": "2018-05-31T02:50:46.790816Z",
     "start_time": "2018-05-31T02:50:46.339026Z"
    }
   },
   "outputs": [],
   "source": [
    "df_application_train = pd.merge(df_application_train, df_pos_cash_balance_train, on=\"SK_ID_CURR\", how=\"outer\", suffixes=('_application', '_pos_cash_balance'))\n",
    "df_application_test = pd.merge(df_application_test, df_pos_cash_balance_test, on=\"SK_ID_CURR\", how=\"outer\", suffixes=('_application', '_pos_cash_balance'))"
   ]
  },
  {
   "cell_type": "code",
   "execution_count": null,
   "metadata": {},
   "outputs": [],
   "source": []
  },
  {
   "cell_type": "markdown",
   "metadata": {},
   "source": [
    "### df_previous_application"
   ]
  },
  {
   "cell_type": "code",
   "execution_count": 35,
   "metadata": {
    "ExecuteTime": {
     "end_time": "2018-05-31T02:50:46.879579Z",
     "start_time": "2018-05-31T02:50:46.792811Z"
    }
   },
   "outputs": [],
   "source": [
    "df_previous_application_train = df_previous_application[df_previous_application[\"SK_ID_CURR\"].isin(df_application_train[\"SK_ID_CURR\"])]\n",
    "df_previous_application_test = df_previous_application[df_previous_application[\"SK_ID_CURR\"].isin(df_application_test[\"SK_ID_CURR\"])]"
   ]
  },
  {
   "cell_type": "code",
   "execution_count": 36,
   "metadata": {
    "ExecuteTime": {
     "end_time": "2018-05-31T02:50:47.708363Z",
     "start_time": "2018-05-31T02:50:46.880576Z"
    }
   },
   "outputs": [],
   "source": [
    "df_application_train = pd.merge(df_application_train, df_previous_application_train, on=\"SK_ID_CURR\", how=\"outer\", suffixes=('_application', '_previous_application'))\n",
    "df_application_test = pd.merge(df_application_test, df_previous_application_test, on=\"SK_ID_CURR\", how=\"outer\", suffixes=('_application', '_previous_application'))"
   ]
  },
  {
   "cell_type": "code",
   "execution_count": null,
   "metadata": {},
   "outputs": [],
   "source": []
  },
  {
   "cell_type": "markdown",
   "metadata": {},
   "source": [
    "### df_bureau_balance and df_bureau"
   ]
  },
  {
   "cell_type": "code",
   "execution_count": 37,
   "metadata": {
    "ExecuteTime": {
     "end_time": "2018-05-31T02:50:47.793136Z",
     "start_time": "2018-05-31T02:50:47.709360Z"
    }
   },
   "outputs": [],
   "source": [
    "df_bureau_train = df_bureau[df_bureau[\"SK_ID_CURR\"].isin(df_application_train[\"SK_ID_CURR\"])]\n",
    "df_bureau_test = df_bureau[df_bureau[\"SK_ID_CURR\"].isin(df_application_test[\"SK_ID_CURR\"])]"
   ]
  },
  {
   "cell_type": "code",
   "execution_count": 38,
   "metadata": {
    "ExecuteTime": {
     "end_time": "2018-05-31T02:50:48.950043Z",
     "start_time": "2018-05-31T02:50:47.794133Z"
    }
   },
   "outputs": [],
   "source": [
    "df_application_train = pd.merge(df_application_train, df_bureau_train, on=\"SK_ID_CURR\", how=\"outer\", suffixes=('_application', '_bureau'))\n",
    "df_application_test = pd.merge(df_application_test, df_bureau_test, on=\"SK_ID_CURR\", how=\"outer\", suffixes=('_application', '_bureau'))"
   ]
  },
  {
   "cell_type": "code",
   "execution_count": null,
   "metadata": {},
   "outputs": [],
   "source": []
  },
  {
   "cell_type": "code",
   "execution_count": 39,
   "metadata": {
    "ExecuteTime": {
     "end_time": "2018-05-31T02:50:49.041797Z",
     "start_time": "2018-05-31T02:50:48.952037Z"
    }
   },
   "outputs": [
    {
     "data": {
      "text/plain": [
       "217"
      ]
     },
     "execution_count": 39,
     "metadata": {},
     "output_type": "execute_result"
    }
   ],
   "source": [
    "gc.collect()"
   ]
  },
  {
   "cell_type": "code",
   "execution_count": null,
   "metadata": {},
   "outputs": [],
   "source": []
  },
  {
   "cell_type": "markdown",
   "metadata": {},
   "source": [
    "# Model Building"
   ]
  },
  {
   "cell_type": "markdown",
   "metadata": {
    "ExecuteTime": {
     "end_time": "2018-05-21T01:01:10.998981Z",
     "start_time": "2018-05-21T01:01:10.994983Z"
    }
   },
   "source": [
    "## Train-Validation Split"
   ]
  },
  {
   "cell_type": "code",
   "execution_count": 40,
   "metadata": {
    "ExecuteTime": {
     "end_time": "2018-05-31T02:50:50.492916Z",
     "start_time": "2018-05-31T02:50:49.043792Z"
    }
   },
   "outputs": [
    {
     "name": "stderr",
     "output_type": "stream",
     "text": [
      "c:\\users\\karti\\appdata\\local\\programs\\python\\python36\\lib\\site-packages\\sklearn\\model_selection\\_split.py:2010: FutureWarning: From version 0.21, test_size will always complement train_size unless both are specified.\n",
      "  FutureWarning)\n"
     ]
    }
   ],
   "source": [
    "input_columns = df_application_train.columns\n",
    "input_columns = input_columns[input_columns != 'TARGET']\n",
    "target_column = 'TARGET'\n",
    "\n",
    "X = df_application_train[input_columns]\n",
    "y = df_application_train[target_column]\n",
    "gc.collect()\n",
    "X_train, X_test, y_train, y_test = train_test_split(X, y, random_state=42, train_size=0.7)"
   ]
  },
  {
   "cell_type": "code",
   "execution_count": 41,
   "metadata": {
    "ExecuteTime": {
     "end_time": "2018-05-31T02:50:50.497906Z",
     "start_time": "2018-05-31T02:50:50.493914Z"
    }
   },
   "outputs": [],
   "source": [
    "# num_train, num_feature = X_train.shape"
   ]
  },
  {
   "cell_type": "code",
   "execution_count": 42,
   "metadata": {
    "ExecuteTime": {
     "end_time": "2018-05-31T02:50:50.506880Z",
     "start_time": "2018-05-31T02:50:50.501895Z"
    }
   },
   "outputs": [],
   "source": [
    "# xgb_train = xgb.DMatrix(X_train, y_train)\n",
    "# xgb_eval  = xgb.DMatrix(X_test, y_test)"
   ]
  },
  {
   "cell_type": "code",
   "execution_count": 43,
   "metadata": {
    "ExecuteTime": {
     "end_time": "2018-05-31T02:50:50.515864Z",
     "start_time": "2018-05-31T02:50:50.509876Z"
    }
   },
   "outputs": [],
   "source": [
    "# xgb_test   = xgb.DMatrix(df_application_test)"
   ]
  },
  {
   "cell_type": "code",
   "execution_count": 44,
   "metadata": {
    "ExecuteTime": {
     "end_time": "2018-05-31T02:50:50.527827Z",
     "start_time": "2018-05-31T02:50:50.519847Z"
    }
   },
   "outputs": [],
   "source": [
    "# # #Params for the Hyperopt algo\n",
    "# N_HYPEROPT_PROBES = 8 # #Number of evaluation cycles\n",
    "# HYPEROPT_ALGO = tpe.suggest  # #Tree-of-Parzen-Estimators algo\n",
    "\n",
    "# # #Params for XGBoost CV\n",
    "# NUM_BOOST_ROUNDS = 270\n",
    "# NB_CV_FOLDS = 10\n",
    "# EARLY_STOPPING = 200\n",
    "# HOLDOUT_SIZE = 0.20\n",
    "# # HOLDOUT_SEED = 123456\n",
    "# # SEED0 = random.randint(1,1000000000)"
   ]
  },
  {
   "cell_type": "code",
   "execution_count": 45,
   "metadata": {
    "ExecuteTime": {
     "end_time": "2018-05-31T02:50:50.535802Z",
     "start_time": "2018-05-31T02:50:50.530816Z"
    }
   },
   "outputs": [],
   "source": [
    "# obj_call_count = 0\n",
    "# cur_best_score = 0"
   ]
  },
  {
   "cell_type": "code",
   "execution_count": 46,
   "metadata": {
    "ExecuteTime": {
     "end_time": "2018-05-31T02:50:50.552758Z",
     "start_time": "2018-05-31T02:50:50.538795Z"
    }
   },
   "outputs": [],
   "source": [
    "# def objective(space):\n",
    "#     # #Global Variable Definition\n",
    "#     global obj_call_count, cur_best_score, X_train, y_train, test, X_val, y_val\n",
    "\n",
    "#     obj_call_count += 1\n",
    "#     print('\\nXGBoost objective call #{} cur_best_score={:7.5f}'.format(obj_call_count,cur_best_score))\n",
    "\n",
    "#     sorted_params = sorted(space.items(), key=lambda z: z[0])\n",
    "#     print('Params:', str.join(' ', ['{}={}'.format(k, v) for k, v in sorted_params if not k.startswith('column:')]))\n",
    "\n",
    "\n",
    "#     xgb_params = sample(space)\n",
    "#     model = xgb.cv(xgb_params, xgb_train,\n",
    "#                    num_boost_round = NUM_BOOST_ROUNDS,\n",
    "#                     nfold=NB_CV_FOLDS,\n",
    "#                     stratified=False,\n",
    "#                     early_stopping_rounds=EARLY_STOPPING,\n",
    "#                     verbose_eval=100,\n",
    "#                     show_stdv=False)\n",
    "\n",
    "#     n_rounds = len(model[\"test-auc-mean\"])\n",
    "#     cv_score = model[\"test-auc-mean\"][n_rounds-1]\n",
    "#     print('CV finished n_rounds={} cv_score={:7.5f}'.format(n_rounds, cv_score ))\n",
    "    \n",
    "#     xgb_model = xgb.train(\n",
    "#                         xgb_params,\n",
    "#                         xgb_train,\n",
    "#                         num_boost_round=n_rounds,\n",
    "#                         verbose_eval=True)\n",
    "    \n",
    "#     predictions = xgb_model.predict(xgb_eval, ntree_limit =n_rounds)\n",
    "#     score = roc_auc_score(y_test, predictions)\n",
    "#     print('valid score={}'.format(score))\n",
    "    \n",
    "#     if score > cur_best_score:\n",
    "#         cur_best_score = score\n",
    "#         print('NEW BEST SCORE={}'.format(cur_best_score))\n",
    "       \n",
    "#     loss = 1 - score\n",
    "#     return {'loss': loss, 'status': STATUS_OK}"
   ]
  },
  {
   "cell_type": "code",
   "execution_count": 47,
   "metadata": {
    "ExecuteTime": {
     "end_time": "2018-05-31T02:50:50.563729Z",
     "start_time": "2018-05-31T02:50:50.556750Z"
    }
   },
   "outputs": [],
   "source": [
    "# # #NOTE: Any change in `space`, needs to be changed in xgb_default_params as well\n",
    "# space ={\n",
    "#     'booster '    : 'gbtree',       \n",
    "#     'objective'   : 'binary:logistic',\n",
    "#     'eval_metric' : 'auc',\n",
    "#     'seed'        : 42,\n",
    "#     'silent'      : 0,      #Messages would be printed\n",
    "#     'n_thread'    : -1,     #-1: all cores are used\n",
    "#     'subsample'   : 0.8,\n",
    "#     'colsample_bytree': 0.7,\n",
    "    \n",
    "#     'eta'         : hp.uniform('eta', 0.025, 0.25),   # #Learning rate - Step size shrinkage to handle overfitting\n",
    "#     'min_child_weight': hp.choice(\"min_child_weight\", np.arange(5, 15,dtype=int)), # #Tradeoff b/n over and underfitting\n",
    "#     'max_depth'   : hp.choice(\"max_depth\", np.arange(4, 8,dtype=int)), # #Tradeoff b/n over and underfitting\n",
    "#     'alpha'       : hp.uniform('alpha', 0.5, 5), # #L1 regularization term - increase this value will make model more conservative.\n",
    "#     'lambda'      : hp.uniform('lambda', 0.5, 5), # #L2 regularization term - increase this value will make model more conservative.\n",
    "#     'gamma'       : hp.uniform('gamma', 0.6, 0.8),\n",
    "#    }"
   ]
  },
  {
   "cell_type": "code",
   "execution_count": 48,
   "metadata": {
    "ExecuteTime": {
     "end_time": "2018-05-31T02:50:50.574699Z",
     "start_time": "2018-05-31T02:50:50.565728Z"
    }
   },
   "outputs": [],
   "source": [
    "# # #Trials keep track of all the experiments\n",
    "# trials = Trials()\n",
    "\n",
    "# # #MAIN function to run all the experiments\n",
    "# best = fmin(fn=objective,\n",
    "#                      space=space,\n",
    "#                      algo=HYPEROPT_ALGO,\n",
    "#                      max_evals=N_HYPEROPT_PROBES,\n",
    "#                      trials=trials,\n",
    "#                      verbose=1)\n",
    "\n",
    "\n",
    "# print('-'*50)\n",
    "# print('The best params:')\n",
    "# print( best )\n",
    "# print('\\n\\n')"
   ]
  },
  {
   "cell_type": "code",
   "execution_count": null,
   "metadata": {},
   "outputs": [],
   "source": []
  },
  {
   "cell_type": "code",
   "execution_count": 49,
   "metadata": {
    "ExecuteTime": {
     "end_time": "2018-05-31T02:50:50.581681Z",
     "start_time": "2018-05-31T02:50:50.576694Z"
    }
   },
   "outputs": [],
   "source": [
    "# best"
   ]
  },
  {
   "cell_type": "code",
   "execution_count": 50,
   "metadata": {
    "ExecuteTime": {
     "end_time": "2018-05-31T02:50:50.591656Z",
     "start_time": "2018-05-31T02:50:50.585670Z"
    }
   },
   "outputs": [],
   "source": [
    "# # #NOTE: Any change in xgb_default_params, needs to be changed in `space` as well\n",
    "# xgb_default_params ={\n",
    "#     'booster '    : 'gbtree',       \n",
    "#     'objective'   : 'binary:logistic',\n",
    "#     'eval_metric' : 'auc',\n",
    "#     'seed'        : 42,\n",
    "#     'silent'      : 0,      #Messages would be printed\n",
    "#     'n_thread'    : -1,     #-1: all cores are used\n",
    "#     'subsample'   : 0.8,\n",
    "#     'colsample_bytree': 0.7,\n",
    "# }"
   ]
  },
  {
   "cell_type": "code",
   "execution_count": 51,
   "metadata": {
    "ExecuteTime": {
     "end_time": "2018-05-31T02:50:50.598634Z",
     "start_time": "2018-05-31T02:50:50.593648Z"
    }
   },
   "outputs": [],
   "source": [
    "# xgb_params = {**xgb_default_params, **best}"
   ]
  },
  {
   "cell_type": "code",
   "execution_count": 52,
   "metadata": {
    "ExecuteTime": {
     "end_time": "2018-05-31T02:50:50.606614Z",
     "start_time": "2018-05-31T02:50:50.600629Z"
    }
   },
   "outputs": [],
   "source": [
    "# # xgb_params\n",
    "# {'alpha': 2.7266306946310426,\n",
    "#  'booster ': 'gbtree',\n",
    "#  'colsample_bytree': 0.7,\n",
    "#  'eta': 0.11084829740057514,\n",
    "#  'eval_metric': 'auc',\n",
    "#  'gamma': 0.6217758787178843,\n",
    "#  'lambda': 2.9036392904139543,\n",
    "#  'max_depth': 0,\n",
    "#  'min_child_weight': 4,\n",
    "#  'n_thread': -1,\n",
    "#  'objective': 'binary:logistic',\n",
    "#  'seed': 42,\n",
    "#  'silent': 0,\n",
    "#  'subsample': 0.8}"
   ]
  },
  {
   "cell_type": "code",
   "execution_count": null,
   "metadata": {},
   "outputs": [],
   "source": []
  },
  {
   "cell_type": "code",
   "execution_count": 53,
   "metadata": {
    "ExecuteTime": {
     "end_time": "2018-05-31T02:50:50.615589Z",
     "start_time": "2018-05-31T02:50:50.608610Z"
    }
   },
   "outputs": [],
   "source": [
    "# #LB: 0.779\n",
    "xgb_params = {\n",
    " 'alpha': 3.160842634951819,\n",
    " 'booster ': 'gbtree',\n",
    " 'colsample_bytree': 0.7,\n",
    " 'eta': 0.1604387053222455,\n",
    " 'eval_metric': 'auc',\n",
    " 'gamma': 0.6236454630290655,\n",
    " 'lambda': 4.438488456929287, \n",
    " 'max_depth': 4,\n",
    " 'min_child_weight': 9,\n",
    " 'n_thread': -1,\n",
    " 'objective': 'binary:logistic',\n",
    " 'seed': 42,\n",
    " 'silent': 0,\n",
    " 'subsample': 0.8\n",
    "}"
   ]
  },
  {
   "cell_type": "code",
   "execution_count": 128,
   "metadata": {
    "ExecuteTime": {
     "end_time": "2018-05-31T04:51:08.255601Z",
     "start_time": "2018-05-31T04:51:08.236633Z"
    }
   },
   "outputs": [],
   "source": [
    "lgb_params = {\n",
    "    'boosting_type': 'gbdt',\n",
    "    'colsample_bytree': 0.7,               # #Same as feature_fraction\n",
    "    'learning_rate': 0.1604387053222455,\n",
    "    'max_depth' : 4,\n",
    "    'metric' : 'auc',\n",
    "    'min_child_weight': 9,\n",
    "    'num_boost_round': 5000, ##??\n",
    "    'nthread': -1,\n",
    "    'objective': 'binary',\n",
    "    'lambda_l1': 3.160842634951819,\n",
    "    'lambda_l2': 4.438488456929287,\n",
    "    'reg_gamma':0.6236454630290655,\n",
    "    'seed': 42,\n",
    "    'subsample': 0.8,               # #Same as bagging_fraction\n",
    "    'verbose': 1\n",
    "}\n",
    "    \n",
    "#    'max_bin': 100}\n",
    "# 'num_leaves': 40, \n",
    "#task?\n",
    "#num_boost_round\n",
    "#can I run this on my gpu?"
   ]
  },
  {
   "cell_type": "code",
   "execution_count": 129,
   "metadata": {
    "ExecuteTime": {
     "end_time": "2018-05-31T04:53:58.097203Z",
     "start_time": "2018-05-31T04:51:09.431436Z"
    }
   },
   "outputs": [
    {
     "name": "stderr",
     "output_type": "stream",
     "text": [
      "c:\\users\\karti\\appdata\\local\\programs\\python\\python36\\lib\\site-packages\\lightgbm\\engine.py:390: UserWarning: Found `num_boost_round` in params. Will use it instead of argument\n",
      "  warnings.warn(\"Found `{}` in params. Will use it instead of argument\".format(alias))\n"
     ]
    },
    {
     "name": "stdout",
     "output_type": "stream",
     "text": [
      "[100]\tcv_agg's auc: 0.780559 + 0.00289858\n",
      "[200]\tcv_agg's auc: 0.785843 + 0.00259147\n",
      "[300]\tcv_agg's auc: 0.787018 + 0.00244015\n",
      "[400]\tcv_agg's auc: 0.787088 + 0.00276779\n",
      "num_boost_rounds_lgb=387\n"
     ]
    }
   ],
   "source": [
    "# dtrain_lgb = lgb.Dataset(X_train, label=y_train)\n",
    "# dtest_lgb = lgb.Dataset(X_test, label=y_test)\n",
    "\n",
    "dtrain_lgb = lgb.Dataset(X, label=y)\n",
    "\n",
    "cv_result_lgb = lgb.cv(lgb_params, \n",
    "                       dtrain_lgb, \n",
    "                       num_boost_round=5000, \n",
    "                       nfold=5, \n",
    "                       stratified=True, \n",
    "                       early_stopping_rounds=100, \n",
    "                       verbose_eval=100, \n",
    "                       show_stdv=True)\n",
    "\n",
    "num_boost_rounds_lgb = len(cv_result_lgb['auc-mean'])\n",
    "print('num_boost_rounds_lgb=' + str(num_boost_rounds_lgb))"
   ]
  },
  {
   "cell_type": "code",
   "execution_count": 134,
   "metadata": {
    "ExecuteTime": {
     "end_time": "2018-05-31T05:04:34.568301Z",
     "start_time": "2018-05-31T05:04:00.913296Z"
    }
   },
   "outputs": [],
   "source": [
    "# #Final Model\n",
    "gc.collect()\n",
    "# model = lgb.train(lgbm_params, lgb.Dataset(X_train,label=y_train), 270, lgb.Dataset(X_test,label=y_test), verbose_eval= 50)\n",
    "# model = lgb.train(lgbm_params, lgb.Dataset(X,y), 270, [lgb.Dataset(X_train,label=y_train), lgb.Dataset(X_test,label=y_test)],verbose_eval= 50)\n",
    "\n",
    "model_lgb = lgb.train(lgb_params, lgb.Dataset(X, label=y), num_boost_round=num_boost_rounds_lgb, verbose_eval= 50)"
   ]
  },
  {
   "cell_type": "raw",
   "metadata": {},
   "source": [
    "LightGBM\n",
    "LB: 0.783\n",
    "[50]\tvalid_0's auc: 0.782805\tvalid_1's auc: 0.782941\n",
    "[100]\tvalid_0's auc: 0.80091\tvalid_1's auc: 0.799953\n",
    "[150]\tvalid_0's auc: 0.812043\tvalid_1's auc: 0.810725\n",
    "[200]\tvalid_0's auc: 0.82048\tvalid_1's auc: 0.818973\n",
    "[250]\tvalid_0's auc: 0.827426\tvalid_1's auc: 0.825887\n",
    "\n",
    "\n",
    "----------------------------------------------\n",
    "XGBOOST\n",
    "LB: 0.779\n",
    "[0]\ttrain-auc:0.663203\tvalid-auc:0.662528\n",
    "[100]\ttrain-auc:0.785183\tvalid-auc:0.78342\n",
    "[200]\ttrain-auc:0.798683\tvalid-auc:0.796623\n",
    "[269]\ttrain-auc:0.804624\tvalid-auc:0.802767\n",
    "\n",
    "LB: 0.785\n",
    "[0]\ttrain-auc:0.677391\tvalid-auc:0.677353\n",
    "[100]\ttrain-auc:0.800638\tvalid-auc:0.799899\n",
    "[200]\ttrain-auc:0.819781\tvalid-auc:0.818601\n",
    "[269]\ttrain-auc:0.828946\tvalid-auc:0.828207"
   ]
  },
  {
   "cell_type": "code",
   "execution_count": null,
   "metadata": {},
   "outputs": [],
   "source": []
  },
  {
   "cell_type": "code",
   "execution_count": 106,
   "metadata": {
    "ExecuteTime": {
     "end_time": "2018-05-31T04:28:27.976657Z",
     "start_time": "2018-05-31T04:28:27.234640Z"
    }
   },
   "outputs": [],
   "source": [
    "df_predict = model_lgb.predict(df_application_test, num_iteration=model_lgb.best_iteration)"
   ]
  },
  {
   "cell_type": "code",
   "execution_count": 107,
   "metadata": {
    "ExecuteTime": {
     "end_time": "2018-05-31T04:28:28.187094Z",
     "start_time": "2018-05-31T04:28:27.978651Z"
    }
   },
   "outputs": [],
   "source": [
    "submission = pd.DataFrame()\n",
    "submission[\"SK_ID_CURR\"] =  df_application_test[\"SK_ID_CURR\"]\n",
    "submission[\"TARGET\"] =  df_predict\n",
    "\n",
    "submission.to_csv(\"../submissions/model_2_lightgbm_v11.csv\", index=False)"
   ]
  },
  {
   "cell_type": "code",
   "execution_count": 108,
   "metadata": {
    "ExecuteTime": {
     "end_time": "2018-05-31T04:28:28.194077Z",
     "start_time": "2018-05-31T04:28:28.188092Z"
    }
   },
   "outputs": [
    {
     "data": {
      "text/plain": [
       "(48744, 2)"
      ]
     },
     "execution_count": 108,
     "metadata": {},
     "output_type": "execute_result"
    }
   ],
   "source": [
    "# #Should be 48744, 2\n",
    "submission.shape"
   ]
  },
  {
   "cell_type": "code",
   "execution_count": 117,
   "metadata": {
    "ExecuteTime": {
     "end_time": "2018-05-31T04:38:32.213278Z",
     "start_time": "2018-05-31T04:38:32.198292Z"
    }
   },
   "outputs": [
    {
     "data": {
      "text/plain": [
       "[(185, 'K_APP_ANNUITY_TO_CREDIT_RATIO'),\n",
       " (165, 'EXT_SOURCE_3'),\n",
       " (144, 'EXT_SOURCE_2'),\n",
       " (143, 'EXT_SOURCE_1'),\n",
       " (122, 'DAYS_BIRTH'),\n",
       " (103, 'K_INST_AMT_DIFF'),\n",
       " (100, 'K_BUREAU_DAYS_CREDIT_ENDDATE_MAX'),\n",
       " (83, 'K_APP_GOODSPRICE_TO_CREDIT_RATIO'),\n",
       " (78, 'K_BUREAU_DAYS_CREDIT_MAX'),\n",
       " (77, 'DAYS_ID_PUBLISH'),\n",
       " (74, 'K_INST_DAYS_DIFF'),\n",
       " (71, 'AMT_ANNUITY'),\n",
       " (70, 'K_DAYS_BIRTH_TO_EMPLOYED_RATIO'),\n",
       " (68, 'K_CNT_INSTALMENT_FUTURE_MEAN'),\n",
       " (68, 'K_APP_ANNUITY_TO_INCOME_RATIO'),\n",
       " (66, 'K_BUREAU_AMT_CREDIT_SUM_MAX'),\n",
       " (65, 'REGION_POPULATION_RELATIVE'),\n",
       " (65, 'K_BUREAU_DAYS_CREDIT_SORTED_SUCCESSIVE_DIFF_MEAN'),\n",
       " (65, 'K_BUREAU_AMT_CREDIT_SUM_MIN'),\n",
       " (63, 'K_BUREAU_DAYS_ENDDATE_FACT_MAX'),\n",
       " (61, 'K_BUREAU_DAYS_CREDIT_MEAN'),\n",
       " (59, 'DAYS_REGISTRATION'),\n",
       " (57, 'K_AMT_ANNUITY_MEAN'),\n",
       " (56, 'K_DAYS_DECISION_MAX'),\n",
       " (54, 'K_BUREAU_AMT_CREDIT_SUM_DEBT_MEAN'),\n",
       " (53, 'K_BUREAU_AMT_CREDIT_SUM_MEAN'),\n",
       " (52, 'AMT_CREDIT'),\n",
       " (51, 'K_CREDIT_ALLOCATED_MEAN'),\n",
       " (50, 'K_PREV_INSTALLMENT_PAYMENT_COUNT'),\n",
       " (50, 'K_CREDIT_ALLOCATED_MAX'),\n",
       " (50, 'DAYS_LAST_PHONE_CHANGE'),\n",
       " (49, 'K_CNT_PAYMENT_MEAN'),\n",
       " (48, 'K_AMT_GOODS_PRICE_MIN'),\n",
       " (46, 'SK_ID_CURR'),\n",
       " (46, 'K_NUM_INSTALMENT_NUMBER_SUM'),\n",
       " (46, 'K_DAYS_LAST_DUE_1ST_VERSION_MAX'),\n",
       " (45, 'K_CNT_INSTALMENT_MEAN'),\n",
       " (45, 'K_AMT_GOODS_PRICE_MEAN'),\n",
       " (45, 'DAYS_EMPLOYED'),\n",
       " (45, 'AMT_GOODS_PRICE'),\n",
       " (43, 'K_CREDIT_ALLOCATED_MIN'),\n",
       " (43, 'K_BUREAU_AMT_CREDIT_SUM_DEBT_MAX'),\n",
       " (43, 'K_APP_CREDIT_TO_INCOME_RATIO'),\n",
       " (42, 'K_MONTHS_BALANCE_POS_CASH_MIN'),\n",
       " (42, 'K_BUREAU_DAYS_CREDIT_MIN'),\n",
       " (41, 'ORGANIZATION_TYPE'),\n",
       " (41, 'K_MONTHS_BALANCE_POS_CASH_MAX'),\n",
       " (41, 'K_AMT_GOODS_PRICE_MAX'),\n",
       " (40, 'K_CREDIT_UTILIZATION_MAX'),\n",
       " (39, 'K_CNT_DRAWINGS_CURRENT_MEAN'),\n",
       " (39, 'K_AMT_DOWN_PAYMENT_MAX'),\n",
       " (39, 'K_AMT_ANNUITY_MIN'),\n",
       " (37, 'OWN_CAR_AGE'),\n",
       " (37, 'K_PREV_POS_CASH_BALANCE_COUNT'),\n",
       " (37, 'K_BUREAU_DAYS_ENDDATE_FACT_MEAN'),\n",
       " (36, 'NAME_FAMILY_STATUS'),\n",
       " (36, 'K_BUREAU_DAYS_CREDIT_ENDDATE_MEAN'),\n",
       " (34, 'K_PREV_PREVIOUS_APPLICATION_COUNT'),\n",
       " (34, 'K_BUREAU_DAYS_ENDDATE_FACT_MIN'),\n",
       " (34, 'K_BUREAU_DAYS_CREDIT_ENDDATE_MIN'),\n",
       " (34, 'K_APP_INCOME_EDUCATION_FAMILY'),\n",
       " (34, 'K_AMT_PAYMENT_OVER_RECEIVABLE_MIN'),\n",
       " (33, 'K_MONTHS_BALANCE_POS_CASH_MEAN'),\n",
       " (33, 'K_DAYS_DECISION_MEAN'),\n",
       " (33, 'K_AMT_DOWN_PAYMENT_MEAN'),\n",
       " (32, 'K_AMT_ANNUITY_MAX'),\n",
       " (31, 'OCCUPATION_TYPE'),\n",
       " (31, 'K_DAYS_FIRST_DUE_MEAN'),\n",
       " (31, 'K_BUREAU_AMT_CREDIT_MAX_OVERDUE_MEAN'),\n",
       " (30, 'K_BUREAU_BALANCE_MONTHS_BALANCE_MEAN'),\n",
       " (30, 'K_BUREAU_AMT_CREDIT_MAX_OVERDUE_MAX'),\n",
       " (30, 'CODE_GENDER'),\n",
       " (30, 'AMT_INCOME_TOTAL'),\n",
       " (29, 'K_DAYS_LAST_DUE_MEAN'),\n",
       " (28, 'K_DAYS_TERMINATION_MEAN'),\n",
       " (28, 'K_DAYS_LAST_DUE_1ST_VERSION_MEAN'),\n",
       " (28, 'K_DAYS_FIRST_DUE_MAX'),\n",
       " (27, 'K_CREDIT_UTILIZATION_MEAN'),\n",
       " (27, 'K_BUREAU_COUNT'),\n",
       " (27, 'K_AMT_PAYMENT_OVER_RECEIVABLE_MEAN'),\n",
       " (26, 'HOUR_APPR_PROCESS_START'),\n",
       " (25, 'K_CNT_INSTALMENT_MIN'),\n",
       " (25, 'K_BUREAU_AMT_CREDIT_SUM_LIMIT_MEAN'),\n",
       " (24, 'WEEKDAY_APPR_PROCESS_START'),\n",
       " (24, 'K_BUREAU_AMT_CREDIT_SUM_DEBT_MIN'),\n",
       " (24, 'K_BUREAU_AMT_ANNUITY_MAX'),\n",
       " (22, 'K_BUREAU_AMT_CREDIT_SUM_LIMIT_MAX'),\n",
       " (22, 'K_AMT_DRAWINGS_CURRENT_MEAN'),\n",
       " (21, 'NONLIVINGAREA_AVG'),\n",
       " (21, 'K_DAYS_LAST_DUE_1ST_VERSION_MIN'),\n",
       " (21, 'K_CNT_PAYMENT_MAX'),\n",
       " (21, 'K_AMT_DOWN_PAYMENT_MIN'),\n",
       " (20, 'TOTALAREA_MODE'),\n",
       " (20, 'K_CREDIT_UTILIZATION_MIN'),\n",
       " (20, 'K_CNT_DRAWINGS_CURRENT_MAX'),\n",
       " (19, 'K_DAYS_LAST_DUE_MIN'),\n",
       " (19, 'BASEMENTAREA_AVG'),\n",
       " (18, 'YEARS_BEGINEXPLUATATION_MEDI'),\n",
       " (18, 'REGION_RATING_CLIENT_W_CITY'),\n",
       " (18, 'LANDAREA_AVG'),\n",
       " (18, 'K_DAYS_FIRST_DUE_MIN'),\n",
       " (18, 'APARTMENTS_MODE'),\n",
       " (17, 'K_DAYS_TERMINATION_MIN'),\n",
       " (17, 'K_DAYS_LAST_DUE_MAX'),\n",
       " (17, 'K_CNT_INSTALMENT_MAX'),\n",
       " (16, 'K_DAYS_DECISION_MIN'),\n",
       " (16, 'K_BUREAU_BALANCE_MONTHS_BALANCE_MIN'),\n",
       " (16, 'FLAG_WORK_PHONE'),\n",
       " (15, 'YEARS_BUILD_AVG'),\n",
       " (15, 'NAME_EDUCATION_TYPE'),\n",
       " (15, 'LANDAREA_MODE'),\n",
       " (15, 'K_AMT_DRAWINGS_CURRENT_MAX'),\n",
       " (15, 'DEF_30_CNT_SOCIAL_CIRCLE'),\n",
       " (14, 'K_CNT_INSTALMENT_FUTURE_MAX'),\n",
       " (14, 'K_BUREAU_AMT_ANNUITY_MEAN'),\n",
       " (14, 'AMT_REQ_CREDIT_BUREAU_QRT'),\n",
       " (13, 'YEARS_BEGINEXPLUATATION_MODE'),\n",
       " (13, 'OBS_30_CNT_SOCIAL_CIRCLE'),\n",
       " (13, 'COMMONAREA_AVG'),\n",
       " (13, 'AMT_REQ_CREDIT_BUREAU_YEAR'),\n",
       " (12, 'WALLSMATERIAL_MODE'),\n",
       " (12, 'NONLIVINGAREA_MODE'),\n",
       " (12, 'K_BUREAU_AMT_CREDIT_MAX_OVERDUE_MIN'),\n",
       " (12, 'FLAG_DOCUMENT_3'),\n",
       " (12, 'COMMONAREA_MEDI'),\n",
       " (11, 'OBS_60_CNT_SOCIAL_CIRCLE'),\n",
       " (11, 'LIVINGAREA_MODE'),\n",
       " (11, 'LANDAREA_MEDI'),\n",
       " (11, 'K_BUREAU_AMT_ANNUITY_MIN'),\n",
       " (11, 'K_AMT_PAYMENT_OVER_RECEIVABLE_MAX'),\n",
       " (11, 'CNT_FAM_MEMBERS'),\n",
       " (10, 'YEARS_BUILD_MODE'),\n",
       " (10, 'K_PREV_CREDIT_CARD_BALANCE_COUNT'),\n",
       " (10, 'K_MONTHS_BALANCE_MIN'),\n",
       " (10, 'K_DAYS_TERMINATION_MAX'),\n",
       " (10, 'K_DAYS_FIRST_DRAWING_MEAN'),\n",
       " (10, 'K_CNT_PAYMENT_MIN'),\n",
       " (10, 'BASEMENTAREA_MODE'),\n",
       " (9, 'YEARS_BEGINEXPLUATATION_AVG'),\n",
       " (9, 'LIVINGAPARTMENTS_MEDI'),\n",
       " (9, 'K_DAYS_FIRST_DRAWING_MIN'),\n",
       " (9, 'K_BUREAU_AMT_CREDIT_SUM_OVERDUE_MEAN'),\n",
       " (9, 'K_BUREAU_AMT_CREDIT_SUM_LIMIT_MIN'),\n",
       " (9, 'FLAG_DOCUMENT_18'),\n",
       " (9, 'DEF_60_CNT_SOCIAL_CIRCLE'),\n",
       " (9, 'CNT_CHILDREN'),\n",
       " (9, 'BASEMENTAREA_MEDI'),\n",
       " (9, 'APARTMENTS_MEDI'),\n",
       " (8, 'REG_CITY_NOT_LIVE_CITY'),\n",
       " (8, 'NONLIVINGAREA_MEDI'),\n",
       " (8, 'NAME_HOUSING_TYPE'),\n",
       " (8, 'K_BUREAU_AMT_CREDIT_SUM_OVERDUE_MAX'),\n",
       " (8, 'K_APP_INCOME_EDUCATION'),\n",
       " (8, 'APARTMENTS_AVG'),\n",
       " (7, 'NAME_CONTRACT_TYPE'),\n",
       " (7, 'LIVINGAREA_MEDI'),\n",
       " (7, 'LIVINGAREA_AVG'),\n",
       " (7, 'LIVINGAPARTMENTS_MODE'),\n",
       " (7, 'COMMONAREA_MODE'),\n",
       " (6, 'NONLIVINGAPARTMENTS_AVG'),\n",
       " (6, 'LIVINGAPARTMENTS_AVG'),\n",
       " (6, 'K_BUREAU_BALANCE_MONTHS_BALANCE_MAX'),\n",
       " (6, 'FLOORSMAX_AVG'),\n",
       " (6, 'ENTRANCES_MEDI'),\n",
       " (6, 'AMT_REQ_CREDIT_BUREAU_MON'),\n",
       " (5, 'NONLIVINGAPARTMENTS_MEDI'),\n",
       " (5, 'NAME_TYPE_SUITE'),\n",
       " (5, 'K_CNT_INSTALMENT_FUTURE_MIN'),\n",
       " (5, 'FLOORSMIN_MODE'),\n",
       " (5, 'FLOORSMIN_MEDI'),\n",
       " (5, 'FLOORSMIN_AVG'),\n",
       " (5, 'FLOORSMAX_MEDI'),\n",
       " (5, 'FLAG_DOCUMENT_16'),\n",
       " (5, 'ENTRANCES_AVG'),\n",
       " (5, 'ELEVATORS_AVG'),\n",
       " (4, 'YEARS_BUILD_MEDI'),\n",
       " (4, 'NONLIVINGAPARTMENTS_MODE'),\n",
       " (4, 'K_BUREAU_CREDIT_DAY_OVERDUE_MEAN'),\n",
       " (4, 'FLAG_PHONE'),\n",
       " (4, 'FLAG_OWN_CAR'),\n",
       " (3, 'NAME_INCOME_TYPE'),\n",
       " (3, 'K_BUREAU_CNT_CREDIT_PROLONG_MAX'),\n",
       " (3, 'K_AMT_DRAWINGS_CURRENT_MIN'),\n",
       " (3, 'FONDKAPREMONT_MODE'),\n",
       " (3, 'FLOORSMAX_MODE'),\n",
       " (3, 'FLAG_DOCUMENT_13'),\n",
       " (3, 'ELEVATORS_MODE'),\n",
       " (2, 'REG_REGION_NOT_LIVE_REGION'),\n",
       " (2, 'REGION_RATING_CLIENT'),\n",
       " (2, 'LIVE_CITY_NOT_WORK_CITY'),\n",
       " (2, 'K_BUREAU_CREDIT_DAY_OVERDUE_MAX'),\n",
       " (2, 'FLAG_OWN_REALTY'),\n",
       " (2, 'FLAG_DOCUMENT_6'),\n",
       " (2, 'ENTRANCES_MODE'),\n",
       " (2, 'ELEVATORS_MEDI'),\n",
       " (1, 'REG_REGION_NOT_WORK_REGION'),\n",
       " (1, 'REG_CITY_NOT_WORK_CITY'),\n",
       " (1, 'K_MONTHS_BALANCE_MAX'),\n",
       " (1, 'K_CNT_DRAWINGS_CURRENT_MIN'),\n",
       " (1, 'FLAG_EMAIL'),\n",
       " (1, 'FLAG_DOCUMENT_8'),\n",
       " (1, 'FLAG_DOCUMENT_11'),\n",
       " (1, 'EMERGENCYSTATE_MODE'),\n",
       " (1, 'AMT_REQ_CREDIT_BUREAU_WEEK'),\n",
       " (1, 'AMT_REQ_CREDIT_BUREAU_DAY'),\n",
       " (0, 'LIVE_REGION_NOT_WORK_REGION'),\n",
       " (0, 'K_DAYS_FIRST_DRAWING_MAX'),\n",
       " (0, 'K_BUREAU_CREDIT_DAY_OVERDUE_MIN'),\n",
       " (0, 'K_BUREAU_AMT_CREDIT_SUM_OVERDUE_MIN'),\n",
       " (0, 'HOUSETYPE_MODE'),\n",
       " (0, 'FLAG_MOBIL'),\n",
       " (0, 'FLAG_EMP_PHONE'),\n",
       " (0, 'FLAG_DOCUMENT_9'),\n",
       " (0, 'FLAG_DOCUMENT_7'),\n",
       " (0, 'FLAG_DOCUMENT_5'),\n",
       " (0, 'FLAG_DOCUMENT_4'),\n",
       " (0, 'FLAG_DOCUMENT_21'),\n",
       " (0, 'FLAG_DOCUMENT_20'),\n",
       " (0, 'FLAG_DOCUMENT_2'),\n",
       " (0, 'FLAG_DOCUMENT_19'),\n",
       " (0, 'FLAG_DOCUMENT_17'),\n",
       " (0, 'FLAG_DOCUMENT_15'),\n",
       " (0, 'FLAG_DOCUMENT_14'),\n",
       " (0, 'FLAG_DOCUMENT_12'),\n",
       " (0, 'FLAG_DOCUMENT_10'),\n",
       " (0, 'FLAG_CONT_MOBILE'),\n",
       " (0, 'AMT_REQ_CREDIT_BUREAU_HOUR')]"
      ]
     },
     "execution_count": 117,
     "metadata": {},
     "output_type": "execute_result"
    }
   ],
   "source": [
    "# #Feature Importance\n",
    "importance = dict(zip(X_train.columns, model_lgb.feature_importance()))\n",
    "\n",
    "sorted(((value,key) for (key,value) in importance.items()), reverse=True)"
   ]
  },
  {
   "cell_type": "code",
   "execution_count": 118,
   "metadata": {
    "ExecuteTime": {
     "end_time": "2018-05-31T04:40:10.335419Z",
     "start_time": "2018-05-31T04:40:10.328423Z"
    }
   },
   "outputs": [
    {
     "data": {
      "text/plain": [
       "227"
      ]
     },
     "execution_count": 118,
     "metadata": {},
     "output_type": "execute_result"
    }
   ],
   "source": [
    "# #Total Number of Features --- 227\n",
    "len(sorted(((value,key) for (key,value) in importance.items()), reverse=True))"
   ]
  },
  {
   "cell_type": "code",
   "execution_count": 119,
   "metadata": {
    "ExecuteTime": {
     "end_time": "2018-05-31T04:40:11.841731Z",
     "start_time": "2018-05-31T04:40:11.834749Z"
    }
   },
   "outputs": [
    {
     "data": {
      "text/plain": [
       "21"
      ]
     },
     "execution_count": 119,
     "metadata": {},
     "output_type": "execute_result"
    }
   ],
   "source": [
    "# #Number of Features > 60 --- 21\n",
    "len(sorted(((value,key) for (key,value) in importance.items() if value > 60), reverse=True))"
   ]
  },
  {
   "cell_type": "code",
   "execution_count": 120,
   "metadata": {
    "ExecuteTime": {
     "end_time": "2018-05-31T04:40:21.503067Z",
     "start_time": "2018-05-31T04:40:21.497085Z"
    }
   },
   "outputs": [
    {
     "data": {
      "text/plain": [
       "(307511, 228)"
      ]
     },
     "execution_count": 120,
     "metadata": {},
     "output_type": "execute_result"
    }
   ],
   "source": [
    "df_application_train.shape"
   ]
  },
  {
   "cell_type": "code",
   "execution_count": null,
   "metadata": {},
   "outputs": [],
   "source": []
  }
 ],
 "metadata": {
  "kernelspec": {
   "display_name": "Python 3",
   "language": "python",
   "name": "python3"
  },
  "language_info": {
   "codemirror_mode": {
    "name": "ipython",
    "version": 3
   },
   "file_extension": ".py",
   "mimetype": "text/x-python",
   "name": "python",
   "nbconvert_exporter": "python",
   "pygments_lexer": "ipython3",
   "version": "3.6.3rc1"
  },
  "latex_envs": {
   "LaTeX_envs_menu_present": true,
   "autoclose": false,
   "autocomplete": true,
   "bibliofile": "biblio.bib",
   "cite_by": "apalike",
   "current_citInitial": 1,
   "eqLabelWithNumbers": true,
   "eqNumInitial": 1,
   "hotkeys": {
    "equation": "Ctrl-E",
    "itemize": "Ctrl-I"
   },
   "labels_anchors": false,
   "latex_user_defs": false,
   "report_style_numbering": false,
   "user_envs_cfg": false
  },
  "toc": {
   "nav_menu": {},
   "number_sections": true,
   "sideBar": true,
   "skip_h1_title": false,
   "title_cell": "Table of Contents",
   "title_sidebar": "Contents",
   "toc_cell": false,
   "toc_position": {},
   "toc_section_display": true,
   "toc_window_display": false
  }
 },
 "nbformat": 4,
 "nbformat_minor": 2
}
