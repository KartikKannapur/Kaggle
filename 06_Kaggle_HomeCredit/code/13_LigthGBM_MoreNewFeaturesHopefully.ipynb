{
 "cells": [
  {
   "cell_type": "markdown",
   "metadata": {
    "ExecuteTime": {
     "end_time": "2018-05-20T23:59:53.197955Z",
     "start_time": "2018-05-20T23:59:53.186014Z"
    }
   },
   "source": [
    "# Home Credit Default Risk\n",
    "\n",
    "Can you predict how capable each applicant is of repaying a loan?"
   ]
  },
  {
   "cell_type": "markdown",
   "metadata": {},
   "source": [
    "Many people struggle to get loans due to **insufficient or non-existent credit histories**. And, unfortunately, this population is often taken advantage of by untrustworthy lenders.\n",
    "\n",
    "Home Credit strives to broaden financial inclusion for the **unbanked population by providing a positive and safe borrowing experience**. In order to make sure this underserved population has a positive loan experience, Home Credit makes use of a variety of alternative data--including telco and transactional information--to predict their clients' repayment abilities.\n",
    "\n",
    "While Home Credit is currently using various statistical and machine learning methods to make these predictions, they're challenging Kagglers to help them unlock the full potential of their data. Doing so will ensure that clients capable of repayment are not rejected and that loans are given with a principal, maturity, and repayment calendar that will empower their clients to be successful."
   ]
  },
  {
   "cell_type": "markdown",
   "metadata": {},
   "source": [
    "**Submissions are evaluated on area under the ROC curve between the predicted probability and the observed target.**"
   ]
  },
  {
   "cell_type": "code",
   "execution_count": null,
   "metadata": {},
   "outputs": [],
   "source": []
  },
  {
   "cell_type": "markdown",
   "metadata": {
    "ExecuteTime": {
     "end_time": "2018-05-21T00:03:15.862019Z",
     "start_time": "2018-05-21T00:03:15.857030Z"
    }
   },
   "source": [
    "# Dataset"
   ]
  },
  {
   "cell_type": "code",
   "execution_count": 1054,
   "metadata": {
    "ExecuteTime": {
     "end_time": "2018-06-03T22:17:13.994242Z",
     "start_time": "2018-06-03T22:17:13.853618Z"
    }
   },
   "outputs": [],
   "source": [
    "# #Python Libraries\n",
    "import numpy as np\n",
    "import scipy as sp\n",
    "import pandas as pd\n",
    "import statsmodels\n",
    "import pandas_profiling\n",
    "\n",
    "%matplotlib inline\n",
    "import matplotlib.pyplot as plt\n",
    "import seaborn as sns\n",
    "\n",
    "import os\n",
    "import sys\n",
    "import time\n",
    "import random\n",
    "import requests\n",
    "import datetime\n",
    "\n",
    "import missingno as msno\n",
    "import math\n",
    "import sys\n",
    "import gc\n",
    "import os\n",
    "\n",
    "# #sklearn\n",
    "from sklearn.model_selection import train_test_split\n",
    "from sklearn.model_selection import cross_val_score\n",
    "from sklearn.model_selection import RandomizedSearchCV\n",
    "from sklearn.model_selection import GridSearchCV\n",
    "from sklearn.model_selection import StratifiedKFold\n",
    "from sklearn.model_selection import KFold\n",
    "from sklearn.ensemble import RandomForestRegressor\n",
    "\n",
    "# #sklearn - preprocessing\n",
    "from sklearn.preprocessing import StandardScaler\n",
    "from sklearn.preprocessing import LabelEncoder\n",
    "\n",
    "# #sklearn - metrics\n",
    "from sklearn.metrics import mean_squared_error\n",
    "from sklearn.metrics import mean_absolute_error\n",
    "from sklearn.metrics import r2_score\n",
    "from sklearn.metrics import roc_auc_score\n",
    "\n",
    "# #XGBoost & LightGBM\n",
    "import xgboost as xgb\n",
    "import lightgbm as lgb\n",
    "\n",
    "# #Missing value imputation\n",
    "from fancyimpute import KNN, MICE\n",
    "\n",
    "# #Hyperparameter Optimization\n",
    "from hyperopt.pyll.base import scope\n",
    "from hyperopt.pyll.stochastic import sample\n",
    "from hyperopt import STATUS_OK, Trials, fmin, hp, tpe\n",
    "\n",
    "# #MongoDB for Model Parameter Storage\n",
    "from pymongo import MongoClient\n",
    "\n",
    "pd.options.display.max_columns = 150"
   ]
  },
  {
   "cell_type": "code",
   "execution_count": null,
   "metadata": {},
   "outputs": [],
   "source": []
  },
  {
   "cell_type": "markdown",
   "metadata": {},
   "source": [
    "## Data Dictionary"
   ]
  },
  {
   "cell_type": "code",
   "execution_count": 1055,
   "metadata": {
    "ExecuteTime": {
     "end_time": "2018-06-03T22:17:14.071036Z",
     "start_time": "2018-06-03T22:17:13.996246Z"
    }
   },
   "outputs": [
    {
     "name": "stdout",
     "output_type": "stream",
     "text": [
      "total 2621364\n",
      "-rw-r--r-- 1 karti 197609  26567651 May 17 18:06 application_test.csv\n",
      "-rw-r--r-- 1 karti 197609 166133370 May 17 18:06 application_train.csv\n",
      "-rw-r--r-- 1 karti 197609 170016717 May 17 18:08 bureau.csv\n",
      "-rw-r--r-- 1 karti 197609 375592889 May 17 18:08 bureau_balance.csv\n",
      "-rw-r--r-- 1 karti 197609 424582605 May 17 18:10 credit_card_balance.csv\n",
      "-rw-r--r-- 1 karti 197609     37436 May 30 00:41 HomeCredit_columns_description.csv\n",
      "-rw-r--r-- 1 karti 197609 723118349 May 17 18:13 installments_payments.csv\n",
      "-rw-r--r-- 1 karti 197609 392703158 May 17 18:14 POS_CASH_balance.csv\n",
      "-rw-r--r-- 1 karti 197609 404973293 May 17 18:15 previous_application.csv\n",
      "-rw-r--r-- 1 karti 197609    536202 May 17 18:06 sample_submission.csv\n"
     ]
    }
   ],
   "source": [
    "!ls -l ../data/"
   ]
  },
  {
   "cell_type": "markdown",
   "metadata": {
    "ExecuteTime": {
     "end_time": "2018-05-21T00:09:22.778763Z",
     "start_time": "2018-05-21T00:09:22.728896Z"
    }
   },
   "source": [
    "- application_{train|test}.csv\n",
    "\n",
    "This is the main table, broken into two files for Train (**with TARGET**) and Test (without TARGET).\n",
    "Static data for all applications. **One row represents one loan in our data sample.**\n",
    "\n",
    "Observations:\n",
    "* Each row is unique\n",
    "\n",
    "-----\n",
    "\n",
    "\n",
    "- bureau.csv\n",
    "\n",
    "All client's previous credits provided by other financial institutions that were reported to Credit Bureau (for clients who have a loan in our sample).\n",
    "For every loan in our sample, there are as many rows as number of credits the client had in Credit Bureau before the application date.\n",
    "\n",
    "- bureau_balance.csv\n",
    "\n",
    "Monthly balances of previous credits in Credit Bureau.\n",
    "This table has one row for each month of history of every previous credit reported to Credit Bureau – i.e the table has (#loans in sample * # of relative previous credits * # of months where we have some history observable for the previous credits) rows.\n",
    "\n",
    "- POS_CASH_balance.csv\n",
    "\n",
    "Monthly balance snapshots of previous POS (point of sales) and cash loans that the applicant had with Home Credit.\n",
    "This table has one row for each month of history of every previous credit in Home Credit (consumer credit and cash loans) related to loans in our sample – i.e. the table has (#loans in sample * # of relative previous credits * # of months in which we have some history observable for the previous credits) rows.\n",
    "\n",
    "- credit_card_balance.csv\n",
    "\n",
    "Monthly balance snapshots of previous credit cards that the applicant has with Home Credit.\n",
    "This table has one row for each month of history of every previous credit in Home Credit (consumer credit and cash loans) related to loans in our sample – i.e. the table has (#loans in sample * # of relative previous credit cards * # of months where we have some history observable for the previous credit card) rows.\n",
    "\n",
    "-----\n",
    "\n",
    "- previous_application.csv\n",
    "\n",
    "All previous applications for Home Credit loans of clients who have loans in our sample.\n",
    "There is one row for each previous application related to loans in our data sample.\n",
    "\n",
    "-----\n",
    "\n",
    "- installments_payments.csv\n",
    "\n",
    "Repayment history for the previously disbursed credits in Home Credit related to the loans in our sample.\n",
    "There is a) one row for every payment that was made plus b) one row each for missed payment.\n",
    "One row is equivalent to one payment of one installment OR one installment corresponding to one payment of one previous Home Credit credit related to loans in our sample.\n",
    "\n",
    "- HomeCredit_columns_description.csv\n",
    "\n",
    "This file contains descriptions for the columns in the various data files."
   ]
  },
  {
   "cell_type": "markdown",
   "metadata": {
    "ExecuteTime": {
     "end_time": "2018-05-21T00:10:35.952529Z",
     "start_time": "2018-05-21T00:10:35.909617Z"
    }
   },
   "source": [
    "![](https://storage.googleapis.com/kaggle-media/competitions/home-credit/home_credit.png)"
   ]
  },
  {
   "cell_type": "code",
   "execution_count": null,
   "metadata": {},
   "outputs": [],
   "source": []
  },
  {
   "cell_type": "markdown",
   "metadata": {},
   "source": [
    "# Data Pre-processing"
   ]
  },
  {
   "cell_type": "code",
   "execution_count": 1056,
   "metadata": {
    "ExecuteTime": {
     "end_time": "2018-06-03T22:18:01.082224Z",
     "start_time": "2018-06-03T22:17:14.105943Z"
    }
   },
   "outputs": [],
   "source": [
    "df_application_train_original = pd.read_csv(\"../data/application_train.csv\")\n",
    "df_application_test_original = pd.read_csv(\"../data/application_test.csv\")\n",
    "df_bureau_original = pd.read_csv(\"../data/bureau.csv\")\n",
    "df_bureau_balance_original = pd.read_csv(\"../data/bureau_balance.csv\")\n",
    "df_credit_card_balance_original = pd.read_csv(\"../data/credit_card_balance.csv\")\n",
    "df_installments_payments_original = pd.read_csv(\"../data/installments_payments.csv\")\n",
    "df_pos_cash_balance_original = pd.read_csv(\"../data/POS_CASH_balance.csv\")\n",
    "df_previous_application_original = pd.read_csv(\"../data/previous_application.csv\")"
   ]
  },
  {
   "cell_type": "code",
   "execution_count": 1057,
   "metadata": {
    "ExecuteTime": {
     "end_time": "2018-06-03T22:18:45.329711Z",
     "start_time": "2018-06-03T22:18:01.084425Z"
    }
   },
   "outputs": [],
   "source": [
    "df_application_train = pd.read_csv(\"../data/application_train.csv\")\n",
    "df_application_test = pd.read_csv(\"../data/application_test.csv\")\n",
    "df_bureau = pd.read_csv(\"../data/bureau.csv\")\n",
    "df_bureau_balance = pd.read_csv(\"../data/bureau_balance.csv\")\n",
    "df_credit_card_balance = pd.read_csv(\"../data/credit_card_balance.csv\")\n",
    "df_installments_payments = pd.read_csv(\"../data/installments_payments.csv\")\n",
    "df_pos_cash_balance = pd.read_csv(\"../data/POS_CASH_balance.csv\")\n",
    "df_previous_application = pd.read_csv(\"../data/previous_application.csv\")"
   ]
  },
  {
   "cell_type": "code",
   "execution_count": 1058,
   "metadata": {
    "ExecuteTime": {
     "end_time": "2018-06-03T22:18:45.344020Z",
     "start_time": "2018-06-03T22:18:45.331732Z"
    }
   },
   "outputs": [
    {
     "name": "stdout",
     "output_type": "stream",
     "text": [
      "df_application_train:  (307511, 122)\n",
      "df_application_test:  (48744, 121)\n",
      "df_bureau:  (1716428, 17)\n",
      "df_bureau_balance:  (27299925, 3)\n",
      "df_credit_card_balance:  (3840312, 23)\n",
      "df_installments_payments:  (13605401, 8)\n",
      "df_pos_cash_balance:  (10001358, 8)\n",
      "df_previous_application:  (1670214, 37)\n"
     ]
    }
   ],
   "source": [
    "print(\"df_application_train: \", df_application_train.shape)\n",
    "print(\"df_application_test: \", df_application_test.shape)\n",
    "print(\"df_bureau: \", df_bureau.shape)\n",
    "print(\"df_bureau_balance: \", df_bureau_balance.shape)\n",
    "print(\"df_credit_card_balance: \", df_credit_card_balance.shape)\n",
    "print(\"df_installments_payments: \", df_installments_payments.shape)\n",
    "print(\"df_pos_cash_balance: \", df_pos_cash_balance.shape)\n",
    "print(\"df_previous_application: \", df_previous_application.shape)"
   ]
  },
  {
   "cell_type": "code",
   "execution_count": 1059,
   "metadata": {
    "ExecuteTime": {
     "end_time": "2018-06-03T22:18:45.472677Z",
     "start_time": "2018-06-03T22:18:45.347018Z"
    }
   },
   "outputs": [
    {
     "data": {
      "text/plain": [
       "138"
      ]
     },
     "execution_count": 1059,
     "metadata": {},
     "output_type": "execute_result"
    }
   ],
   "source": [
    "gc.collect()"
   ]
  },
  {
   "cell_type": "code",
   "execution_count": null,
   "metadata": {},
   "outputs": [],
   "source": []
  },
  {
   "cell_type": "markdown",
   "metadata": {},
   "source": [
    "## Feature: df_installments_payments"
   ]
  },
  {
   "cell_type": "code",
   "execution_count": 1060,
   "metadata": {
    "ExecuteTime": {
     "end_time": "2018-06-03T22:19:29.266473Z",
     "start_time": "2018-06-03T22:18:45.475670Z"
    }
   },
   "outputs": [],
   "source": [
    "df_installments_payments['K_PREV_INSTALLMENT_PAYMENT_COUNT'] = df_installments_payments.groupby('SK_ID_CURR')['SK_ID_PREV'].transform('count')\n",
    "\n",
    "# #Note: I haven't added the K_NUM_INSTALMENT_NUMBER_SUM feature since the K_NUM_INSTALMENT_NUMBER_SUM_TO_COUNT_RATIO\n",
    "# #performed better i.e. had a higher value on the feature importance score\n",
    "df_installments_payments['K_NUM_INSTALMENT_NUMBER_SUM'] = df_installments_payments.groupby('SK_ID_CURR')['NUM_INSTALMENT_NUMBER'].transform(np.sum)\n",
    "df_installments_payments['K_NUM_INSTALMENT_NUMBER_SUM_TO_COUNT_RATIO'] = df_installments_payments['K_NUM_INSTALMENT_NUMBER_SUM']/df_installments_payments['K_PREV_INSTALLMENT_PAYMENT_COUNT']\n",
    "\n",
    "df_installments_payments['TEMP_DAYS_INSTALMENT'] = df_installments_payments.groupby('SK_ID_CURR')['DAYS_INSTALMENT'].transform(np.sum)\n",
    "df_installments_payments['TEMP_DAYS_ENTRY_PAYMENT'] = df_installments_payments.groupby('SK_ID_CURR')['DAYS_ENTRY_PAYMENT'].transform(np.sum)\n",
    "df_installments_payments['K_INST_DAYS_DIFF'] = df_installments_payments['TEMP_DAYS_INSTALMENT'] - df_installments_payments['TEMP_DAYS_ENTRY_PAYMENT']\n",
    "df_installments_payments['K_INST_DAYS_DIFF_TO_COUNT_RATIO'] = df_installments_payments['K_INST_DAYS_DIFF']/df_installments_payments['K_PREV_INSTALLMENT_PAYMENT_COUNT']\n",
    "\n",
    "# df_installments_payments['K_DAYS_ENTRY_PAYMENT_MEAN'] = df_installments_payments.groupby('SK_ID_CURR')['DAYS_ENTRY_PAYMENT'].transform(np.mean)\n",
    "df_installments_payments['K_DAYS_ENTRY_PAYMENT_MAX'] = df_installments_payments.groupby('SK_ID_CURR')['DAYS_ENTRY_PAYMENT'].transform(np.max)\n",
    "# df_installments_payments['K_DAYS_ENTRY_PAYMENT_MIN'] = df_installments_payments.groupby('SK_ID_CURR')['DAYS_ENTRY_PAYMENT'].transform(np.min)\n",
    "df_installments_payments['K_DAYS_ENTRY_PAYMENT_VAR'] = df_installments_payments.groupby('SK_ID_CURR')['DAYS_ENTRY_PAYMENT'].transform(np.var)\n",
    "\n",
    "df_installments_payments['TEMP_AMT_INSTALMENT'] = df_installments_payments.groupby('SK_ID_CURR')['AMT_INSTALMENT'].transform(np.sum)\n",
    "df_installments_payments['TEMP_AMT_PAYMENT'] = df_installments_payments.groupby('SK_ID_CURR')['AMT_PAYMENT'].transform(np.sum)\n",
    "df_installments_payments['K_INST_AMT_DIFF'] = df_installments_payments['TEMP_AMT_INSTALMENT'] - df_installments_payments['TEMP_AMT_PAYMENT']\n",
    "# #Note: I haven't added the K_INST_AMT_DIFF_TO_COUNT_RATIO feature since the K_INST_AMT_DIFF\n",
    "# #performed better individually than with the count_ratio i.e. had a higher value on the feature importance score\n",
    "# df_installments_payments['K_INST_AMT_DIFF_TO_COUNT_RATIO'] = df_installments_payments['K_INST_AMT_DIFF']/df_installments_payments['K_PREV_INSTALLMENT_PAYMENT_COUNT']\n",
    "\n",
    "df_installments_payments['K_AMT_PAYMENT_MEAN'] = df_installments_payments.groupby('SK_ID_CURR')['AMT_PAYMENT'].transform(np.mean)\n",
    "df_installments_payments['K_AMT_PAYMENT_MAX'] = df_installments_payments.groupby('SK_ID_CURR')['AMT_PAYMENT'].transform(np.max)\n",
    "df_installments_payments['K_AMT_PAYMENT_MIN'] = df_installments_payments.groupby('SK_ID_CURR')['AMT_PAYMENT'].transform(np.min)\n",
    "df_installments_payments['K_AMT_PAYMENT_VAR'] = df_installments_payments.groupby('SK_ID_CURR')['AMT_PAYMENT'].transform(np.var)\n",
    "\n",
    "# #Drop Duplicates\n",
    "df_installments_payments = df_installments_payments[['SK_ID_CURR', 'K_PREV_INSTALLMENT_PAYMENT_COUNT', \n",
    "                                                     'K_INST_DAYS_DIFF', 'K_INST_AMT_DIFF',\n",
    "                                                     'K_NUM_INSTALMENT_NUMBER_SUM_TO_COUNT_RATIO', 'K_INST_DAYS_DIFF_TO_COUNT_RATIO',\n",
    "                                                     'K_DAYS_ENTRY_PAYMENT_MAX',\n",
    "                                                     'K_DAYS_ENTRY_PAYMENT_VAR', \n",
    "                                                     'K_AMT_PAYMENT_MEAN', 'K_AMT_PAYMENT_MAX', 'K_AMT_PAYMENT_MIN', 'K_AMT_PAYMENT_VAR'\n",
    "                                                    ]].drop_duplicates()"
   ]
  },
  {
   "cell_type": "code",
   "execution_count": 1061,
   "metadata": {
    "ExecuteTime": {
     "end_time": "2018-06-03T22:19:29.539212Z",
     "start_time": "2018-06-03T22:19:29.289853Z"
    }
   },
   "outputs": [
    {
     "name": "stdout",
     "output_type": "stream",
     "text": [
      "df_installments_payments (339587, 12)\n",
      "291643\n",
      "47944\n",
      "Sum:  339587\n"
     ]
    }
   ],
   "source": [
    "# #CHECKPOINT\n",
    "print(\"df_installments_payments\", df_installments_payments.shape)\n",
    "print(len(set(df_installments_payments[\"SK_ID_CURR\"]).intersection(set(df_application_train[\"SK_ID_CURR\"]))))\n",
    "print(len(set(df_installments_payments[\"SK_ID_CURR\"]).intersection(set(df_application_test[\"SK_ID_CURR\"]))))\n",
    "print(\"Sum: \", 291643 + 47944)"
   ]
  },
  {
   "cell_type": "code",
   "execution_count": null,
   "metadata": {},
   "outputs": [],
   "source": []
  },
  {
   "cell_type": "code",
   "execution_count": null,
   "metadata": {},
   "outputs": [],
   "source": []
  },
  {
   "cell_type": "code",
   "execution_count": 1062,
   "metadata": {
    "ExecuteTime": {
     "end_time": "2018-06-03T22:19:30.190843Z",
     "start_time": "2018-06-03T22:19:29.542195Z"
    }
   },
   "outputs": [
    {
     "data": {
      "text/plain": [
       "100"
      ]
     },
     "execution_count": 1062,
     "metadata": {},
     "output_type": "execute_result"
    }
   ],
   "source": [
    "gc.collect()"
   ]
  },
  {
   "cell_type": "markdown",
   "metadata": {},
   "source": [
    "## Feature: df_credit_card_balance"
   ]
  },
  {
   "cell_type": "code",
   "execution_count": 1063,
   "metadata": {
    "ExecuteTime": {
     "end_time": "2018-06-03T22:20:55.700644Z",
     "start_time": "2018-06-03T22:19:30.194831Z"
    }
   },
   "outputs": [],
   "source": [
    "df_credit_card_balance['K_PREV_CREDIT_CARD_BALANCE_COUNT'] = df_credit_card_balance.groupby('SK_ID_CURR')['SK_ID_PREV'].transform('count')\n",
    "\n",
    "# #All the four features below did not seem to have much weight in the feature importance of the model\n",
    "# df_credit_card_balance['K_MONTHS_BALANCE_MAX'] = df_credit_card_balance.groupby('SK_ID_CURR')['MONTHS_BALANCE'].transform(np.max)\n",
    "# df_credit_card_balance['K_MONTHS_BALANCE_MIN'] = df_credit_card_balance.groupby('SK_ID_CURR')['MONTHS_BALANCE'].transform(np.min)\n",
    "# df_credit_card_balance['K_MONTHS_BALANCE_SUM'] = df_credit_card_balance.groupby('SK_ID_CURR')['MONTHS_BALANCE'].transform(np.sum)\n",
    "# df_credit_card_balance['K_MONTHS_BALANCE_SUM_TO_COUNT_RATIO'] = df_credit_card_balance['K_MONTHS_BALANCE_SUM']/df_credit_card_balance['K_PREV_CREDIT_CARD_BALANCE_COUNT'] \n",
    "\n",
    "df_credit_card_balance['TEMP_AMT_BALANCE'] = df_credit_card_balance.groupby('SK_ID_CURR')['AMT_BALANCE'].transform(lambda x:x+1)\n",
    "df_credit_card_balance['TEMP_AMT_CREDIT_LIMIT_ACTUAL'] = df_credit_card_balance.groupby('SK_ID_CURR')['AMT_CREDIT_LIMIT_ACTUAL'].transform(lambda x:x+1)\n",
    "df_credit_card_balance['TEMP_UTILIZATION'] = df_credit_card_balance['TEMP_AMT_BALANCE']/df_credit_card_balance['TEMP_AMT_CREDIT_LIMIT_ACTUAL']\n",
    "df_credit_card_balance['K_CREDIT_UTILIZATION_MEAN'] = df_credit_card_balance.groupby('SK_ID_CURR')['TEMP_UTILIZATION'].transform(np.mean)\n",
    "df_credit_card_balance['K_CREDIT_UTILIZATION_MIN'] = df_credit_card_balance.groupby('SK_ID_CURR')['TEMP_UTILIZATION'].transform(np.min)\n",
    "df_credit_card_balance['K_CREDIT_UTILIZATION_MAX'] = df_credit_card_balance.groupby('SK_ID_CURR')['TEMP_UTILIZATION'].transform(np.max)\n",
    "df_credit_card_balance['K_CREDIT_UTILIZATION_VAR'] = df_credit_card_balance.groupby('SK_ID_CURR')['TEMP_UTILIZATION'].transform(np.var)\n",
    "\n",
    "# #Validation: SK_ID_CURR = 105755\n",
    "# #AMT_DRAWINGS_CURRENT = AMT_DRAWINGS_ATM_CURRENT + AMT_DRAWINGS_OTHER_CURRENT + AMT_DRAWINGS_POS_CURRENT\n",
    "df_credit_card_balance['K_AMT_DRAWINGS_CURRENT_MEAN'] = df_credit_card_balance.groupby('SK_ID_CURR')['AMT_DRAWINGS_CURRENT'].transform(np.mean)\n",
    "# df_credit_card_balance['K_AMT_DRAWINGS_CURRENT_MIN'] = df_credit_card_balance.groupby('SK_ID_CURR')['AMT_DRAWINGS_CURRENT'].transform(np.min)\n",
    "df_credit_card_balance['K_AMT_DRAWINGS_CURRENT_MAX'] = df_credit_card_balance.groupby('SK_ID_CURR')['AMT_DRAWINGS_CURRENT'].transform(np.max)\n",
    "# df_credit_card_balance['K_AMT_DRAWINGS_CURRENT_SUM'] = df_credit_card_balance.groupby('SK_ID_CURR')['AMT_DRAWINGS_CURRENT'].transform(np.sum)\n",
    "\n",
    "df_credit_card_balance['TEMP_AMT_PAYMENT_TOTAL_CURRENT'] = df_credit_card_balance.groupby('SK_ID_CURR')['AMT_PAYMENT_TOTAL_CURRENT'].transform(lambda x:x+1)\n",
    "df_credit_card_balance['TEMP_AMT_TOTAL_RECEIVABLE'] = df_credit_card_balance.groupby('SK_ID_CURR')['AMT_TOTAL_RECEIVABLE'].transform(lambda x:x+1)\n",
    "df_credit_card_balance['TEMP_AMT_PAYMENT_OVER_RECEIVABLE'] = df_credit_card_balance['TEMP_AMT_PAYMENT_TOTAL_CURRENT']/df_credit_card_balance['TEMP_AMT_TOTAL_RECEIVABLE']\n",
    "df_credit_card_balance['K_AMT_PAYMENT_OVER_RECEIVABLE_MEAN'] = df_credit_card_balance.groupby('SK_ID_CURR')['TEMP_AMT_PAYMENT_OVER_RECEIVABLE'].transform(np.mean)\n",
    "df_credit_card_balance['K_AMT_PAYMENT_OVER_RECEIVABLE_MIN'] = df_credit_card_balance.groupby('SK_ID_CURR')['TEMP_AMT_PAYMENT_OVER_RECEIVABLE'].transform(np.min)\n",
    "df_credit_card_balance['K_AMT_PAYMENT_OVER_RECEIVABLE_MAX'] = df_credit_card_balance.groupby('SK_ID_CURR')['TEMP_AMT_PAYMENT_OVER_RECEIVABLE'].transform(np.max)\n",
    "\n",
    "# #CNT_DRAWINGS_CURRENT = CNT_DRAWINGS_ATM_CURRENT + CNT_DRAWINGS_OTHER_CURRENT + CNT_DRAWINGS_POS_CURRENT\n",
    "df_credit_card_balance['K_CNT_DRAWINGS_CURRENT_MEAN'] = df_credit_card_balance.groupby('SK_ID_CURR')['CNT_DRAWINGS_CURRENT'].transform(np.mean)\n",
    "df_credit_card_balance['K_CNT_DRAWINGS_CURRENT_MIN'] = df_credit_card_balance.groupby('SK_ID_CURR')['CNT_DRAWINGS_CURRENT'].transform(np.min)\n",
    "df_credit_card_balance['K_CNT_DRAWINGS_CURRENT_MAX'] = df_credit_card_balance.groupby('SK_ID_CURR')['CNT_DRAWINGS_CURRENT'].transform(np.max)\n",
    "# df_credit_card_balance['K_CNT_DRAWINGS_CURRENT_SUM'] = df_credit_card_balance.groupby('SK_ID_CURR')['CNT_DRAWINGS_CURRENT'].transform(np.sum)\n",
    "\n",
    "# #Feature - CNT_INSTALMENT_MATURE_CUM\n",
    "df_credit_card_balance['K_CNT_INSTALMENT_MATURE_CUM_MAX'] = df_credit_card_balance.groupby('SK_ID_CURR')['CNT_INSTALMENT_MATURE_CUM'].transform(np.max)\n",
    "df_credit_card_balance['K_CNT_INSTALMENT_MATURE_CUM_MAX_TO_COUNT_RATIO'] = df_credit_card_balance['K_CNT_INSTALMENT_MATURE_CUM_MAX']/df_credit_card_balance['K_PREV_CREDIT_CARD_BALANCE_COUNT']\n",
    "\n",
    "# #Feature - SK_DPD\n",
    "# df_credit_card_balance['K_SK_DPD_MAX'] = df_credit_card_balance.groupby('SK_ID_CURR')['SK_DPD'].transform(np.max)\n",
    "# df_credit_card_balance['K_SK_DPD_MEAN'] = df_credit_card_balance.groupby('SK_ID_CURR')['SK_DPD'].transform(np.mean)\n",
    "# df_credit_card_balance['K_SK_DPD_SUM'] = df_credit_card_balance.groupby('SK_ID_CURR')['SK_DPD'].transform(np.sum)\n",
    "# df_credit_card_balance['K_SK_DPD_VAR'] = df_credit_card_balance.groupby('SK_ID_CURR')['SK_DPD'].transform(np.var)\n",
    "\n",
    "#ORIGINAL\n",
    "# #Drop Duplicates\n",
    "df_credit_card_balance = df_credit_card_balance[['SK_ID_CURR', 'K_PREV_CREDIT_CARD_BALANCE_COUNT',\n",
    "                    'K_CREDIT_UTILIZATION_MEAN', 'K_CREDIT_UTILIZATION_MIN', 'K_CREDIT_UTILIZATION_MAX', 'K_CREDIT_UTILIZATION_VAR',\n",
    "                    'K_AMT_DRAWINGS_CURRENT_MEAN', 'K_AMT_DRAWINGS_CURRENT_MAX', \n",
    "                    'K_AMT_PAYMENT_OVER_RECEIVABLE_MEAN', 'K_AMT_PAYMENT_OVER_RECEIVABLE_MIN', 'K_AMT_PAYMENT_OVER_RECEIVABLE_MAX', \n",
    "                    'K_CNT_DRAWINGS_CURRENT_MEAN', 'K_CNT_DRAWINGS_CURRENT_MIN', 'K_CNT_DRAWINGS_CURRENT_MAX',\n",
    "                    'K_CNT_INSTALMENT_MATURE_CUM_MAX_TO_COUNT_RATIO']].drop_duplicates()\n"
   ]
  },
  {
   "cell_type": "code",
   "execution_count": 1064,
   "metadata": {
    "ExecuteTime": {
     "end_time": "2018-06-03T22:20:55.794830Z",
     "start_time": "2018-06-03T22:20:55.702667Z"
    }
   },
   "outputs": [
    {
     "name": "stdout",
     "output_type": "stream",
     "text": [
      "df_credit_card_balance (103558, 15)\n",
      "86905\n",
      "16653\n",
      "Sum:  103558\n"
     ]
    }
   ],
   "source": [
    "# #CHECKPOINT\n",
    "print(\"df_credit_card_balance\", df_credit_card_balance.shape)\n",
    "print(len(set(df_credit_card_balance[\"SK_ID_CURR\"]).intersection(set(df_application_train[\"SK_ID_CURR\"]))))\n",
    "print(len(set(df_credit_card_balance[\"SK_ID_CURR\"]).intersection(set(df_application_test[\"SK_ID_CURR\"]))))\n",
    "print(\"Sum: \", 86905 + 16653)"
   ]
  },
  {
   "cell_type": "code",
   "execution_count": null,
   "metadata": {},
   "outputs": [],
   "source": []
  },
  {
   "cell_type": "code",
   "execution_count": null,
   "metadata": {},
   "outputs": [],
   "source": []
  },
  {
   "cell_type": "code",
   "execution_count": 1065,
   "metadata": {
    "ExecuteTime": {
     "end_time": "2018-06-03T22:20:56.023222Z",
     "start_time": "2018-06-03T22:20:55.797824Z"
    }
   },
   "outputs": [
    {
     "data": {
      "text/plain": [
       "110"
      ]
     },
     "execution_count": 1065,
     "metadata": {},
     "output_type": "execute_result"
    }
   ],
   "source": [
    "gc.collect()"
   ]
  },
  {
   "cell_type": "markdown",
   "metadata": {},
   "source": [
    "## Feature: df_pos_cash_balance"
   ]
  },
  {
   "cell_type": "code",
   "execution_count": 1066,
   "metadata": {
    "ExecuteTime": {
     "end_time": "2018-06-03T22:21:13.818176Z",
     "start_time": "2018-06-03T22:20:56.026211Z"
    }
   },
   "outputs": [],
   "source": [
    "df_pos_cash_balance['K_PREV_POS_CASH_BALANCE_COUNT'] = df_pos_cash_balance.groupby('SK_ID_CURR')['SK_ID_PREV'].transform('count')\n",
    "\n",
    "df_pos_cash_balance['K_MONTHS_BALANCE_POS_CASH_MEAN'] = df_pos_cash_balance.groupby('SK_ID_CURR')['MONTHS_BALANCE'].transform(np.mean)\n",
    "df_pos_cash_balance['K_MONTHS_BALANCE_POS_CASH_MAX'] = df_pos_cash_balance.groupby('SK_ID_CURR')['MONTHS_BALANCE'].transform(np.max)\n",
    "df_pos_cash_balance['K_MONTHS_BALANCE_POS_CASH_MIN'] = df_pos_cash_balance.groupby('SK_ID_CURR')['MONTHS_BALANCE'].transform(np.min)\n",
    "# df_pos_cash_balance['K_MONTHS_BALANCE_POS_CASH_SUM'] = df_pos_cash_balance.groupby('SK_ID_CURR')['MONTHS_BALANCE'].transform(np.sum)\n",
    "\n",
    "df_pos_cash_balance['K_CNT_INSTALMENT_MEAN'] = df_pos_cash_balance.groupby('SK_ID_CURR')['CNT_INSTALMENT'].transform(np.mean)\n",
    "df_pos_cash_balance['K_CNT_INSTALMENT_MAX'] = df_pos_cash_balance.groupby('SK_ID_CURR')['CNT_INSTALMENT'].transform(np.max)\n",
    "df_pos_cash_balance['K_CNT_INSTALMENT_MIN'] = df_pos_cash_balance.groupby('SK_ID_CURR')['CNT_INSTALMENT'].transform(np.min)\n",
    "\n",
    "df_pos_cash_balance['K_CNT_INSTALMENT_FUTURE_MEAN'] = df_pos_cash_balance.groupby('SK_ID_CURR')['CNT_INSTALMENT_FUTURE'].transform(np.mean)\n",
    "df_pos_cash_balance['K_CNT_INSTALMENT_FUTURE_MAX'] = df_pos_cash_balance.groupby('SK_ID_CURR')['CNT_INSTALMENT_FUTURE'].transform(np.max)\n",
    "# df_pos_cash_balance['K_CNT_INSTALMENT_FUTURE_MIN'] = df_pos_cash_balance.groupby('SK_ID_CURR')['CNT_INSTALMENT_FUTURE'].transform(np.min)\n",
    "# df_pos_cash_balance['K_CNT_INSTALMENT_FUTURE_SUM'] = df_pos_cash_balance.groupby('SK_ID_CURR')['CNT_INSTALMENT_FUTURE'].transform(np.sum)\n",
    "\n",
    "# # #Feature - NAME_CONTRACT_STATUS\n",
    "# temp_pos_cash_balance_name_contract_status = df_pos_cash_balance.groupby(['SK_ID_CURR','NAME_CONTRACT_STATUS']).size()/df_pos_cash_balance_original.groupby(['SK_ID_CURR']).size()\n",
    "# temp_pos_cash_balance_name_contract_status = temp_pos_cash_balance_name_contract_status.to_frame().reset_index().rename(columns= {0: 'TEMP_POS_CASH_BALANCE_NAME_CONTRACT_STATUS_FREQENCODE'})\n",
    "# temp_pos_cash_balance_name_contract_status = temp_pos_cash_balance_name_contract_status.pivot(index='SK_ID_CURR', columns='NAME_CONTRACT_STATUS', values='TEMP_POS_CASH_BALANCE_NAME_CONTRACT_STATUS_FREQENCODE')\n",
    "# temp_pos_cash_balance_name_contract_status.reset_index(inplace = True)\n",
    "# temp_pos_cash_balance_name_contract_status = temp_pos_cash_balance_name_contract_status[['SK_ID_CURR', 'Active', 'Completed']]\n",
    "# temp_pos_cash_balance_name_contract_status.columns = ['SK_ID_CURR', 'K_POS_CASH_BALANCE_NAME_CONTRACT_STATUS_ACTIVE', \n",
    "#                                                       'K_POS_CASH_BALANCE_NAME_CONTRACT_STATUS_COMPLETED']\n",
    "# df_pos_cash_balance = pd.merge(df_pos_cash_balance, temp_pos_cash_balance_name_contract_status, on=[\"SK_ID_CURR\"], how=\"left\", suffixes=('_bureau', '_pos_cash_balance_name_contract_status'))\n",
    "# del temp_pos_cash_balance_name_contract_status\n",
    "\n",
    "\n",
    "# #Feature - SK_DPD\n",
    "# df_pos_cash_balance['K_SK_DPD_MAX'] = df_pos_cash_balance.groupby('SK_ID_CURR')['SK_DPD'].transform(np.max)\n",
    "# df_pos_cash_balance['K_SK_DPD_SUM'] = df_pos_cash_balance.groupby('SK_ID_CURR')['SK_DPD'].transform(np.sum)\n",
    "\n",
    "# df_pos_cash_balance['K_SK_DPD_DEF_MAX'] = df_pos_cash_balance.groupby('SK_ID_CURR')['SK_DPD_DEF'].transform(np.max)\n",
    "# df_pos_cash_balance['K_SK_DPD_DEF_SUM'] = df_pos_cash_balance.groupby('SK_ID_CURR')['SK_DPD_DEF'].transform(np.sum)\n",
    "\n",
    "# #Drop Duplicates\n",
    "df_pos_cash_balance = df_pos_cash_balance[['SK_ID_CURR', 'K_PREV_POS_CASH_BALANCE_COUNT', \n",
    "                                           'K_MONTHS_BALANCE_POS_CASH_MEAN','K_MONTHS_BALANCE_POS_CASH_MAX', 'K_MONTHS_BALANCE_POS_CASH_MIN', \n",
    "                                           'K_CNT_INSTALMENT_MEAN', 'K_CNT_INSTALMENT_MAX', 'K_CNT_INSTALMENT_MIN', \n",
    "                                           'K_CNT_INSTALMENT_FUTURE_MEAN', 'K_CNT_INSTALMENT_FUTURE_MAX']].drop_duplicates()"
   ]
  },
  {
   "cell_type": "code",
   "execution_count": null,
   "metadata": {},
   "outputs": [],
   "source": []
  },
  {
   "cell_type": "code",
   "execution_count": 1067,
   "metadata": {
    "ExecuteTime": {
     "end_time": "2018-06-03T22:21:14.067057Z",
     "start_time": "2018-06-03T22:21:13.820222Z"
    }
   },
   "outputs": [
    {
     "data": {
      "text/plain": [
       "40"
      ]
     },
     "execution_count": 1067,
     "metadata": {},
     "output_type": "execute_result"
    }
   ],
   "source": [
    "gc.collect()"
   ]
  },
  {
   "cell_type": "markdown",
   "metadata": {},
   "source": [
    "## Feature: df_previous_application"
   ]
  },
  {
   "cell_type": "code",
   "execution_count": 1068,
   "metadata": {
    "ExecuteTime": {
     "end_time": "2018-06-03T22:21:35.833631Z",
     "start_time": "2018-06-03T22:21:14.071022Z"
    }
   },
   "outputs": [],
   "source": [
    "df_previous_application['K_PREV_PREVIOUS_APPLICATION_COUNT'] = df_previous_application.groupby('SK_ID_CURR')['SK_ID_PREV'].transform('count')\n",
    "\n",
    "df_previous_application['K_AMT_ANNUITY_MEAN'] = df_previous_application.groupby('SK_ID_CURR')['AMT_ANNUITY'].transform(np.mean)\n",
    "df_previous_application['K_AMT_ANNUITY_MAX'] = df_previous_application.groupby('SK_ID_CURR')['AMT_ANNUITY'].transform(np.max)\n",
    "df_previous_application['K_AMT_ANNUITY_MIN'] = df_previous_application.groupby('SK_ID_CURR')['AMT_ANNUITY'].transform(np.min)\n",
    "\n",
    "df_previous_application['TEMP_CREDIT_ALLOCATED'] = df_previous_application['AMT_CREDIT']/df_previous_application['AMT_APPLICATION']\n",
    "df_previous_application['K_CREDIT_ALLOCATED_MEAN'] = df_previous_application.groupby('SK_ID_CURR')['TEMP_CREDIT_ALLOCATED'].transform(np.mean)\n",
    "df_previous_application['K_CREDIT_ALLOCATED_MAX'] = df_previous_application.groupby('SK_ID_CURR')['TEMP_CREDIT_ALLOCATED'].transform(np.max)\n",
    "df_previous_application['K_CREDIT_ALLOCATED_MIN'] = df_previous_application.groupby('SK_ID_CURR')['TEMP_CREDIT_ALLOCATED'].transform(np.min)\n",
    "\n",
    "df_previous_application['K_AMT_DOWN_PAYMENT_MEAN'] = df_previous_application.groupby('SK_ID_CURR')['AMT_DOWN_PAYMENT'].transform(np.mean)\n",
    "df_previous_application['K_AMT_DOWN_PAYMENT_MAX'] = df_previous_application.groupby('SK_ID_CURR')['AMT_DOWN_PAYMENT'].transform(np.max)\n",
    "df_previous_application['K_AMT_DOWN_PAYMENT_MIN'] = df_previous_application.groupby('SK_ID_CURR')['AMT_DOWN_PAYMENT'].transform(np.min)\n",
    "\n",
    "df_previous_application['K_AMT_GOODS_PRICE_MEAN'] = df_previous_application.groupby('SK_ID_CURR')['AMT_GOODS_PRICE'].transform(np.mean)\n",
    "df_previous_application['K_AMT_GOODS_PRICE_MAX'] = df_previous_application.groupby('SK_ID_CURR')['AMT_GOODS_PRICE'].transform(np.max)\n",
    "df_previous_application['K_AMT_GOODS_PRICE_MIN'] = df_previous_application.groupby('SK_ID_CURR')['AMT_GOODS_PRICE'].transform(np.min)\n",
    "\n",
    "df_previous_application['K_DAYS_DECISION_MEAN'] = df_previous_application.groupby('SK_ID_CURR')['DAYS_DECISION'].transform(np.mean)\n",
    "df_previous_application['K_DAYS_DECISION_MAX'] = df_previous_application.groupby('SK_ID_CURR')['DAYS_DECISION'].transform(np.max)\n",
    "df_previous_application['K_DAYS_DECISION_MIN'] = df_previous_application.groupby('SK_ID_CURR')['DAYS_DECISION'].transform(np.min)\n",
    "\n",
    "df_previous_application['K_CNT_PAYMENT_MEAN'] = df_previous_application.groupby('SK_ID_CURR')['CNT_PAYMENT'].transform(np.mean)\n",
    "df_previous_application['K_CNT_PAYMENT_MAX'] = df_previous_application.groupby('SK_ID_CURR')['CNT_PAYMENT'].transform(np.max)\n",
    "df_previous_application['K_CNT_PAYMENT_MIN'] = df_previous_application.groupby('SK_ID_CURR')['CNT_PAYMENT'].transform(np.min)\n",
    "\n",
    "df_previous_application['K_DAYS_FIRST_DRAWING_MEAN'] = df_previous_application.groupby('SK_ID_CURR')['DAYS_FIRST_DRAWING'].transform(np.mean)\n",
    "# df_previous_application['K_DAYS_FIRST_DRAWING_MAX'] = df_previous_application.groupby('SK_ID_CURR')['DAYS_FIRST_DRAWING'].transform(np.max)\n",
    "# df_previous_application['K_DAYS_FIRST_DRAWING_MIN'] = df_previous_application.groupby('SK_ID_CURR')['DAYS_FIRST_DRAWING'].transform(np.min)\n",
    "\n",
    "df_previous_application['K_DAYS_FIRST_DUE_MEAN'] = df_previous_application.groupby('SK_ID_CURR')['DAYS_FIRST_DUE'].transform(np.mean)\n",
    "df_previous_application['K_DAYS_FIRST_DUE_MAX'] = df_previous_application.groupby('SK_ID_CURR')['DAYS_FIRST_DUE'].transform(np.max)\n",
    "df_previous_application['K_DAYS_FIRST_DUE_MIN'] = df_previous_application.groupby('SK_ID_CURR')['DAYS_FIRST_DUE'].transform(np.min)\n",
    "\n",
    "df_previous_application['K_DAYS_LAST_DUE_1ST_VERSION_MEAN'] = df_previous_application.groupby('SK_ID_CURR')['DAYS_LAST_DUE_1ST_VERSION'].transform(np.mean)\n",
    "df_previous_application['K_DAYS_LAST_DUE_1ST_VERSION_MAX'] = df_previous_application.groupby('SK_ID_CURR')['DAYS_LAST_DUE_1ST_VERSION'].transform(np.max)\n",
    "df_previous_application['K_DAYS_LAST_DUE_1ST_VERSION_MIN'] = df_previous_application.groupby('SK_ID_CURR')['DAYS_LAST_DUE_1ST_VERSION'].transform(np.min)\n",
    "\n",
    "df_previous_application['K_DAYS_LAST_DUE_MEAN'] = df_previous_application.groupby('SK_ID_CURR')['DAYS_LAST_DUE'].transform(np.mean)\n",
    "df_previous_application['K_DAYS_LAST_DUE_MAX'] = df_previous_application.groupby('SK_ID_CURR')['DAYS_LAST_DUE'].transform(np.max)\n",
    "df_previous_application['K_DAYS_LAST_DUE_MIN'] = df_previous_application.groupby('SK_ID_CURR')['DAYS_LAST_DUE'].transform(np.min)\n",
    "\n",
    "df_previous_application['K_DAYS_TERMINATION_MEAN'] = df_previous_application.groupby('SK_ID_CURR')['DAYS_TERMINATION'].transform(np.mean)\n",
    "df_previous_application['K_DAYS_TERMINATION_MAX'] = df_previous_application.groupby('SK_ID_CURR')['DAYS_TERMINATION'].transform(np.max)\n",
    "df_previous_application['K_DAYS_TERMINATION_MIN'] = df_previous_application.groupby('SK_ID_CURR')['DAYS_TERMINATION'].transform(np.min)\n",
    "\n",
    "\n",
    "# #Drop Duplicates\n",
    "df_previous_application = df_previous_application[['SK_ID_CURR', 'K_PREV_PREVIOUS_APPLICATION_COUNT', \n",
    "                                          'K_AMT_ANNUITY_MEAN', 'K_AMT_ANNUITY_MAX', 'K_AMT_ANNUITY_MIN',\n",
    "                                          'K_CREDIT_ALLOCATED_MEAN', 'K_CREDIT_ALLOCATED_MAX', 'K_CREDIT_ALLOCATED_MIN',\n",
    "                                          'K_AMT_DOWN_PAYMENT_MEAN', 'K_AMT_DOWN_PAYMENT_MAX', 'K_AMT_DOWN_PAYMENT_MIN',\n",
    "                                          'K_AMT_GOODS_PRICE_MEAN', 'K_AMT_GOODS_PRICE_MAX', 'K_AMT_GOODS_PRICE_MIN',\n",
    "                                          'K_DAYS_DECISION_MEAN', 'K_DAYS_DECISION_MAX', 'K_DAYS_DECISION_MIN',\n",
    "                                          'K_CNT_PAYMENT_MEAN', 'K_CNT_PAYMENT_MAX', 'K_CNT_PAYMENT_MIN',\n",
    "                                          'K_DAYS_FIRST_DRAWING_MEAN',\n",
    "                                          'K_DAYS_FIRST_DUE_MEAN', 'K_DAYS_FIRST_DUE_MAX', 'K_DAYS_FIRST_DUE_MIN',\n",
    "                                          'K_DAYS_LAST_DUE_1ST_VERSION_MEAN', 'K_DAYS_LAST_DUE_1ST_VERSION_MAX', 'K_DAYS_LAST_DUE_1ST_VERSION_MIN',\n",
    "                                          'K_DAYS_LAST_DUE_MEAN', 'K_DAYS_LAST_DUE_MAX', 'K_DAYS_LAST_DUE_MIN',\n",
    "                                          'K_DAYS_TERMINATION_MEAN', 'K_DAYS_TERMINATION_MAX', 'K_DAYS_TERMINATION_MIN']].drop_duplicates()"
   ]
  },
  {
   "cell_type": "code",
   "execution_count": null,
   "metadata": {},
   "outputs": [],
   "source": [
    "\n"
   ]
  },
  {
   "cell_type": "code",
   "execution_count": 1069,
   "metadata": {
    "ExecuteTime": {
     "end_time": "2018-06-03T22:21:35.841236Z",
     "start_time": "2018-06-03T22:21:35.835677Z"
    }
   },
   "outputs": [],
   "source": [
    "# df_bureau = pd.read_csv(\"../data/bureau.csv\")\n",
    "# df_bureau_balance = pd.read_csv(\"../data/bureau_balance.csv\")"
   ]
  },
  {
   "cell_type": "markdown",
   "metadata": {},
   "source": [
    "## Feature: df_bureau_balance"
   ]
  },
  {
   "cell_type": "code",
   "execution_count": 1070,
   "metadata": {
    "ExecuteTime": {
     "end_time": "2018-06-03T22:21:45.130625Z",
     "start_time": "2018-06-03T22:21:35.844237Z"
    }
   },
   "outputs": [],
   "source": [
    "# df_bureau_balance['K_BUREAU_BALANCE_COUNT'] = df_bureau_balance.groupby('SK_ID_BUREAU')['SK_ID_BUREAU'].transform('count')\n",
    "\n",
    "df_bureau_balance['K_BUREAU_BALANCE_MONTHS_BALANCE_MEAN'] = df_bureau_balance.groupby('SK_ID_BUREAU')['MONTHS_BALANCE'].transform(np.mean)\n",
    "df_bureau_balance['K_BUREAU_BALANCE_MONTHS_BALANCE_MAX'] = df_bureau_balance.groupby('SK_ID_BUREAU')['MONTHS_BALANCE'].transform(np.max)\n",
    "df_bureau_balance['K_BUREAU_BALANCE_MONTHS_BALANCE_MIN'] = df_bureau_balance.groupby('SK_ID_BUREAU')['MONTHS_BALANCE'].transform(np.min)\n",
    "\n",
    "# #Drop Duplicates\n",
    "df_bureau_balance = df_bureau_balance[['SK_ID_BUREAU','K_BUREAU_BALANCE_MONTHS_BALANCE_MEAN',\n",
    "                                                 'K_BUREAU_BALANCE_MONTHS_BALANCE_MAX',\n",
    "                                                'K_BUREAU_BALANCE_MONTHS_BALANCE_MIN']].drop_duplicates()"
   ]
  },
  {
   "cell_type": "code",
   "execution_count": null,
   "metadata": {},
   "outputs": [],
   "source": []
  },
  {
   "cell_type": "code",
   "execution_count": 1071,
   "metadata": {
    "ExecuteTime": {
     "end_time": "2018-06-03T22:21:45.232769Z",
     "start_time": "2018-06-03T22:21:45.132672Z"
    }
   },
   "outputs": [
    {
     "data": {
      "text/plain": [
       "817395"
      ]
     },
     "execution_count": 1071,
     "metadata": {},
     "output_type": "execute_result"
    }
   ],
   "source": [
    "len(df_bureau_balance['SK_ID_BUREAU'].unique())"
   ]
  },
  {
   "cell_type": "markdown",
   "metadata": {},
   "source": [
    "## Feature: df_bureau"
   ]
  },
  {
   "cell_type": "code",
   "execution_count": 1072,
   "metadata": {
    "ExecuteTime": {
     "end_time": "2018-06-03T22:21:45.344471Z",
     "start_time": "2018-06-03T22:21:45.234767Z"
    }
   },
   "outputs": [
    {
     "data": {
      "text/plain": [
       "1716428"
      ]
     },
     "execution_count": 1072,
     "metadata": {},
     "output_type": "execute_result"
    }
   ],
   "source": [
    "len(df_bureau[\"SK_ID_BUREAU\"].unique())"
   ]
  },
  {
   "cell_type": "code",
   "execution_count": 1073,
   "metadata": {
    "ExecuteTime": {
     "end_time": "2018-06-03T22:21:45.353445Z",
     "start_time": "2018-06-03T22:21:45.346467Z"
    }
   },
   "outputs": [
    {
     "data": {
      "text/plain": [
       "(1716428, 17)"
      ]
     },
     "execution_count": 1073,
     "metadata": {},
     "output_type": "execute_result"
    }
   ],
   "source": [
    "df_bureau.shape"
   ]
  },
  {
   "cell_type": "code",
   "execution_count": 1074,
   "metadata": {
    "ExecuteTime": {
     "end_time": "2018-06-03T22:21:46.506305Z",
     "start_time": "2018-06-03T22:21:45.356440Z"
    }
   },
   "outputs": [],
   "source": [
    "df_bureau = pd.merge(df_bureau, df_bureau_balance, on=\"SK_ID_BUREAU\", how=\"left\", suffixes=('_bureau', '_bureau_balance'))"
   ]
  },
  {
   "cell_type": "code",
   "execution_count": 1075,
   "metadata": {
    "ExecuteTime": {
     "end_time": "2018-06-03T22:21:46.515854Z",
     "start_time": "2018-06-03T22:21:46.508351Z"
    }
   },
   "outputs": [
    {
     "data": {
      "text/plain": [
       "(1716428, 20)"
      ]
     },
     "execution_count": 1075,
     "metadata": {},
     "output_type": "execute_result"
    }
   ],
   "source": [
    "df_bureau.shape"
   ]
  },
  {
   "cell_type": "code",
   "execution_count": 1076,
   "metadata": {
    "ExecuteTime": {
     "end_time": "2018-06-03T22:22:43.848498Z",
     "start_time": "2018-06-03T22:21:46.517826Z"
    }
   },
   "outputs": [],
   "source": [
    "# #Feature - SK_ID_BUREAU represents each loan application.\n",
    "# #Grouping by SK_ID_CURR significes the number of previous loans per applicant.\n",
    "df_bureau['K_BUREAU_COUNT'] = df_bureau.groupby('SK_ID_CURR')['SK_ID_BUREAU'].transform('count')\n",
    "\n",
    "# # #Feature - CREDIT_ACTIVE\n",
    "# # #Frequency Encoding\n",
    "# temp_bureau_credit_active = df_bureau.groupby(['SK_ID_CURR','CREDIT_ACTIVE']).size()/df_bureau.groupby(['SK_ID_CURR']).size()\n",
    "# temp_bureau_credit_active = temp_bureau_credit_active.to_frame().reset_index().rename(columns= {0: 'TEMP_BUREAU_CREDIT_ACTIVE_FREQENCODE'})\n",
    "# temp_bureau_credit_active = temp_bureau_credit_active.pivot(index='SK_ID_CURR', columns='CREDIT_ACTIVE', values='TEMP_BUREAU_CREDIT_ACTIVE_FREQENCODE')\n",
    "# temp_bureau_credit_active.reset_index(inplace = True)\n",
    "# temp_bureau_credit_active.columns = ['SK_ID_CURR', 'K_CREDIT_ACTIVE_ACTIVE', 'K_CREDIT_ACTIVE_BADDEBT', 'K_CREDIT_ACTIVE_CLOSED', 'K_CREDIT_ACTIVE_SOLD']\n",
    "# df_bureau = pd.merge(df_bureau, temp_bureau_credit_active, on=[\"SK_ID_CURR\"], how=\"left\", suffixes=('_bureau', '_credit_active_percentage'))\n",
    "# del temp_bureau_credit_active\n",
    "\n",
    "# # #Feature - DAYS_CREDIT\n",
    "df_bureau['K_BUREAU_DAYS_CREDIT_MEAN'] = df_bureau.groupby('SK_ID_CURR')['DAYS_CREDIT'].transform(np.mean)\n",
    "df_bureau['K_BUREAU_DAYS_CREDIT_MAX'] = df_bureau.groupby('SK_ID_CURR')['DAYS_CREDIT'].transform(np.max)\n",
    "df_bureau['K_BUREAU_DAYS_CREDIT_MIN'] = df_bureau.groupby('SK_ID_CURR')['DAYS_CREDIT'].transform(np.min)\n",
    "gc.collect()\n",
    "# # #Successive difference between credit application per customer - Mean, Min, Max\n",
    "temp_bureau_days_credit = df_bureau.copy()\n",
    "temp_bureau_days_credit.sort_values(['SK_ID_CURR', 'DAYS_CREDIT'], inplace=True)\n",
    "temp_bureau_days_credit['temp_successive_diff'] = temp_bureau_days_credit.groupby('SK_ID_CURR')['DAYS_CREDIT'].transform(lambda ele: ele.diff())\n",
    "temp_bureau_days_credit['K_BUREAU_DAYS_CREDIT_SORTED_SUCCESSIVE_DIFF_MEAN'] = temp_bureau_days_credit.groupby('SK_ID_CURR')['temp_successive_diff'].transform(np.mean)\n",
    "df_bureau = pd.merge(df_bureau, temp_bureau_days_credit[['SK_ID_CURR','K_BUREAU_DAYS_CREDIT_SORTED_SUCCESSIVE_DIFF_MEAN']].drop_duplicates(), \n",
    "                     on=\"SK_ID_CURR\", how=\"left\", suffixes=('_bureau', '_days_credit_sorted_successive_diff'))\n",
    "# del temp_bureau_days_credit\n",
    "\n",
    "# df_bureau['K_BUREAU_CREDIT_DAY_OVERDUE_MEAN'] = df_bureau.groupby('SK_ID_CURR')['CREDIT_DAY_OVERDUE'].transform(np.mean)\n",
    "# df_bureau['K_BUREAU_CREDIT_DAY_OVERDUE_MAX'] = df_bureau.groupby('SK_ID_CURR')['CREDIT_DAY_OVERDUE'].transform(np.max)\n",
    "# df_bureau['K_BUREAU_CREDIT_DAY_OVERDUE_MIN'] = df_bureau.groupby('SK_ID_CURR')['CREDIT_DAY_OVERDUE'].transform(np.min)\n",
    "\n",
    "df_bureau['K_BUREAU_DAYS_CREDIT_ENDDATE_MEAN'] = df_bureau.groupby('SK_ID_CURR')['DAYS_CREDIT_ENDDATE'].transform(np.mean)\n",
    "df_bureau['K_BUREAU_DAYS_CREDIT_ENDDATE_MAX'] = df_bureau.groupby('SK_ID_CURR')['DAYS_CREDIT_ENDDATE'].transform(np.max)\n",
    "df_bureau['K_BUREAU_DAYS_CREDIT_ENDDATE_MIN'] = df_bureau.groupby('SK_ID_CURR')['DAYS_CREDIT_ENDDATE'].transform(np.min)\n",
    "\n",
    "df_bureau['K_BUREAU_DAYS_ENDDATE_FACT_MEAN'] = df_bureau.groupby('SK_ID_CURR')['DAYS_ENDDATE_FACT'].transform(np.mean)\n",
    "df_bureau['K_BUREAU_DAYS_ENDDATE_FACT_MAX'] = df_bureau.groupby('SK_ID_CURR')['DAYS_ENDDATE_FACT'].transform(np.max)\n",
    "df_bureau['K_BUREAU_DAYS_ENDDATE_FACT_MIN'] = df_bureau.groupby('SK_ID_CURR')['DAYS_ENDDATE_FACT'].transform(np.min)\n",
    "\n",
    "df_bureau['K_BUREAU_AMT_CREDIT_MAX_OVERDUE_MEAN'] = df_bureau.groupby('SK_ID_CURR')['AMT_CREDIT_MAX_OVERDUE'].transform(np.mean)\n",
    "df_bureau['K_BUREAU_AMT_CREDIT_MAX_OVERDUE_MAX'] = df_bureau.groupby('SK_ID_CURR')['AMT_CREDIT_MAX_OVERDUE'].transform(np.max)\n",
    "df_bureau['K_BUREAU_AMT_CREDIT_MAX_OVERDUE_MIN'] = df_bureau.groupby('SK_ID_CURR')['AMT_CREDIT_MAX_OVERDUE'].transform(np.min)\n",
    "\n",
    "\n",
    "# df_bureau['K_BUREAU_CNT_CREDIT_PROLONG_MAX'] = df_bureau.groupby('SK_ID_CURR')['CNT_CREDIT_PROLONG'].transform(np.max)\n",
    "\n",
    "# #To-Do: Calculate a utilization metric for some of the features below?\n",
    "df_bureau['K_BUREAU_AMT_CREDIT_SUM_MEAN'] = df_bureau.groupby('SK_ID_CURR')['AMT_CREDIT_SUM'].transform(np.mean)\n",
    "df_bureau['K_BUREAU_AMT_CREDIT_SUM_MAX'] = df_bureau.groupby('SK_ID_CURR')['AMT_CREDIT_SUM'].transform(np.max)\n",
    "df_bureau['K_BUREAU_AMT_CREDIT_SUM_MIN'] = df_bureau.groupby('SK_ID_CURR')['AMT_CREDIT_SUM'].transform(np.min)\n",
    "\n",
    "df_bureau['K_BUREAU_AMT_CREDIT_SUM_DEBT_MEAN'] = df_bureau.groupby('SK_ID_CURR')['AMT_CREDIT_SUM_DEBT'].transform(np.mean)\n",
    "df_bureau['K_BUREAU_AMT_CREDIT_SUM_DEBT_MAX'] = df_bureau.groupby('SK_ID_CURR')['AMT_CREDIT_SUM_DEBT'].transform(np.max)\n",
    "df_bureau['K_BUREAU_AMT_CREDIT_SUM_DEBT_MIN'] = df_bureau.groupby('SK_ID_CURR')['AMT_CREDIT_SUM_DEBT'].transform(np.min)\n",
    "\n",
    "df_bureau['K_BUREAU_AMT_CREDIT_SUM_LIMIT_MEAN'] = df_bureau.groupby('SK_ID_CURR')['AMT_CREDIT_SUM_LIMIT'].transform(np.mean)\n",
    "df_bureau['K_BUREAU_AMT_CREDIT_SUM_LIMIT_MAX'] = df_bureau.groupby('SK_ID_CURR')['AMT_CREDIT_SUM_LIMIT'].transform(np.max)\n",
    "df_bureau['K_BUREAU_AMT_CREDIT_SUM_LIMIT_MIN'] = df_bureau.groupby('SK_ID_CURR')['AMT_CREDIT_SUM_LIMIT'].transform(np.min)\n",
    "\n",
    "df_bureau['K_BUREAU_AMT_CREDIT_SUM_OVERDUE_MEAN'] = df_bureau.groupby('SK_ID_CURR')['AMT_CREDIT_SUM_OVERDUE'].transform(np.mean)\n",
    "df_bureau['K_BUREAU_AMT_CREDIT_SUM_OVERDUE_MAX'] = df_bureau.groupby('SK_ID_CURR')['AMT_CREDIT_SUM_OVERDUE'].transform(np.max)\n",
    "df_bureau['K_BUREAU_AMT_CREDIT_SUM_OVERDUE_MIN'] = df_bureau.groupby('SK_ID_CURR')['AMT_CREDIT_SUM_OVERDUE'].transform(np.min)\n",
    "\n",
    "df_bureau['K_BUREAU_AMT_ANNUITY_MEAN'] = df_bureau.groupby('SK_ID_CURR')['AMT_ANNUITY'].transform(np.mean)\n",
    "df_bureau['K_BUREAU_AMT_ANNUITY_MAX'] = df_bureau.groupby('SK_ID_CURR')['AMT_ANNUITY'].transform(np.max)\n",
    "df_bureau['K_BUREAU_AMT_ANNUITY_MIN'] = df_bureau.groupby('SK_ID_CURR')['AMT_ANNUITY'].transform(np.min)\n",
    "\n",
    "# #Added from df_bureau_balance\n",
    "df_bureau['K_BUREAU_BALANCE_MONTHS_BALANCE_MEAN'] = df_bureau.groupby('SK_ID_CURR')['K_BUREAU_BALANCE_MONTHS_BALANCE_MEAN'].transform(np.mean)\n",
    "df_bureau['K_BUREAU_BALANCE_MONTHS_BALANCE_MAX'] = df_bureau.groupby('SK_ID_CURR')['K_BUREAU_BALANCE_MONTHS_BALANCE_MAX'].transform(np.max)\n",
    "df_bureau['K_BUREAU_BALANCE_MONTHS_BALANCE_MIN'] = df_bureau.groupby('SK_ID_CURR')['K_BUREAU_BALANCE_MONTHS_BALANCE_MIN'].transform(np.min)\n",
    "\n",
    "\n",
    "#Drop Duplicates\n",
    "df_bureau = df_bureau[['SK_ID_CURR', 'K_BUREAU_COUNT', \n",
    "                       'K_BUREAU_DAYS_CREDIT_MEAN', 'K_BUREAU_DAYS_CREDIT_MAX', 'K_BUREAU_DAYS_CREDIT_MIN',\n",
    "                       'K_BUREAU_DAYS_CREDIT_SORTED_SUCCESSIVE_DIFF_MEAN',\n",
    "                      'K_BUREAU_DAYS_CREDIT_ENDDATE_MEAN', 'K_BUREAU_DAYS_CREDIT_ENDDATE_MAX', 'K_BUREAU_DAYS_CREDIT_ENDDATE_MIN',\n",
    "                      'K_BUREAU_DAYS_ENDDATE_FACT_MEAN', 'K_BUREAU_DAYS_ENDDATE_FACT_MAX', 'K_BUREAU_DAYS_ENDDATE_FACT_MIN',\n",
    "                      'K_BUREAU_AMT_CREDIT_MAX_OVERDUE_MEAN', 'K_BUREAU_AMT_CREDIT_MAX_OVERDUE_MAX', 'K_BUREAU_AMT_CREDIT_MAX_OVERDUE_MIN',\n",
    "                      'K_BUREAU_AMT_CREDIT_SUM_MEAN', 'K_BUREAU_AMT_CREDIT_SUM_MAX', 'K_BUREAU_AMT_CREDIT_SUM_MIN',\n",
    "                      'K_BUREAU_AMT_CREDIT_SUM_DEBT_MEAN', 'K_BUREAU_AMT_CREDIT_SUM_DEBT_MAX', 'K_BUREAU_AMT_CREDIT_SUM_DEBT_MIN',\n",
    "                      'K_BUREAU_AMT_CREDIT_SUM_LIMIT_MEAN', 'K_BUREAU_AMT_CREDIT_SUM_LIMIT_MAX', 'K_BUREAU_AMT_CREDIT_SUM_LIMIT_MIN',\n",
    "                      'K_BUREAU_AMT_CREDIT_SUM_OVERDUE_MEAN', 'K_BUREAU_AMT_CREDIT_SUM_OVERDUE_MAX', 'K_BUREAU_AMT_CREDIT_SUM_OVERDUE_MIN',\n",
    "                      'K_BUREAU_AMT_ANNUITY_MEAN', 'K_BUREAU_AMT_ANNUITY_MAX', 'K_BUREAU_AMT_ANNUITY_MIN',\n",
    "                      'K_BUREAU_BALANCE_MONTHS_BALANCE_MEAN', 'K_BUREAU_BALANCE_MONTHS_BALANCE_MAX', 'K_BUREAU_BALANCE_MONTHS_BALANCE_MIN']].drop_duplicates()"
   ]
  },
  {
   "cell_type": "code",
   "execution_count": 1077,
   "metadata": {
    "ExecuteTime": {
     "end_time": "2018-06-03T22:22:43.856301Z",
     "start_time": "2018-06-03T22:22:43.850544Z"
    }
   },
   "outputs": [
    {
     "data": {
      "text/plain": [
       "(305811, 33)"
      ]
     },
     "execution_count": 1077,
     "metadata": {},
     "output_type": "execute_result"
    }
   ],
   "source": [
    "df_bureau.shape"
   ]
  },
  {
   "cell_type": "code",
   "execution_count": 1078,
   "metadata": {
    "ExecuteTime": {
     "end_time": "2018-06-03T22:22:44.247252Z",
     "start_time": "2018-06-03T22:22:43.859292Z"
    }
   },
   "outputs": [
    {
     "name": "stdout",
     "output_type": "stream",
     "text": [
      "df_bureau_original (1716428, 17)\n",
      "263491\n",
      "42320\n",
      "Sum:  305811\n"
     ]
    }
   ],
   "source": [
    "# #CHECKPOINT\n",
    "print(\"df_bureau_original\", df_bureau_original.shape)\n",
    "print(len(set(df_bureau_original[\"SK_ID_CURR\"]).intersection(set(df_application_train[\"SK_ID_CURR\"]))))\n",
    "print(len(set(df_bureau_original[\"SK_ID_CURR\"]).intersection(set(df_application_test[\"SK_ID_CURR\"]))))\n",
    "print(\"Sum: \", 263491 + 42320)"
   ]
  },
  {
   "cell_type": "code",
   "execution_count": 1079,
   "metadata": {
    "ExecuteTime": {
     "end_time": "2018-06-03T22:22:44.426802Z",
     "start_time": "2018-06-03T22:22:44.249250Z"
    }
   },
   "outputs": [
    {
     "name": "stdout",
     "output_type": "stream",
     "text": [
      "df_bureau (305811, 33)\n",
      "263491\n",
      "42320\n",
      "Sum:  305811\n"
     ]
    }
   ],
   "source": [
    "# #CHECKPOINT\n",
    "print(\"df_bureau\", df_bureau.shape)\n",
    "print(len(set(df_bureau[\"SK_ID_CURR\"]).intersection(set(df_application_train[\"SK_ID_CURR\"]))))\n",
    "print(len(set(df_bureau[\"SK_ID_CURR\"]).intersection(set(df_application_test[\"SK_ID_CURR\"]))))\n",
    "print(\"Sum: \", 263491 + 42320)"
   ]
  },
  {
   "cell_type": "code",
   "execution_count": null,
   "metadata": {},
   "outputs": [],
   "source": []
  },
  {
   "cell_type": "code",
   "execution_count": null,
   "metadata": {},
   "outputs": [],
   "source": []
  },
  {
   "cell_type": "code",
   "execution_count": 1080,
   "metadata": {
    "ExecuteTime": {
     "end_time": "2018-06-03T22:22:44.580360Z",
     "start_time": "2018-06-03T22:22:44.428793Z"
    }
   },
   "outputs": [
    {
     "data": {
      "text/plain": [
       "43"
      ]
     },
     "execution_count": 1080,
     "metadata": {},
     "output_type": "execute_result"
    }
   ],
   "source": [
    "gc.collect()"
   ]
  },
  {
   "cell_type": "code",
   "execution_count": null,
   "metadata": {},
   "outputs": [],
   "source": []
  },
  {
   "cell_type": "markdown",
   "metadata": {},
   "source": [
    "## Feature MAIN TABLE: df_application_train"
   ]
  },
  {
   "cell_type": "code",
   "execution_count": 1081,
   "metadata": {
    "ExecuteTime": {
     "end_time": "2018-06-03T22:22:44.722083Z",
     "start_time": "2018-06-03T22:22:44.583353Z"
    }
   },
   "outputs": [],
   "source": [
    "# #Feature - Divide existing features\n",
    "df_application_train['K_APP_CREDIT_TO_INCOME_RATIO'] = df_application_train['AMT_CREDIT']/df_application_train['AMT_INCOME_TOTAL']\n",
    "df_application_train['K_APP_ANNUITY_TO_INCOME_RATIO'] = df_application_train['AMT_ANNUITY']/df_application_train['AMT_INCOME_TOTAL']\n",
    "df_application_train['K_APP_ANNUITY_TO_CREDIT_RATIO'] = df_application_train['AMT_ANNUITY']/df_application_train['AMT_CREDIT']\n",
    "\n",
    "df_application_train['K_APP_GOODSPRICE_TO_CREDIT_RATIO'] = df_application_train['AMT_GOODS_PRICE']/df_application_train['AMT_CREDIT']\n",
    "# df_application_train['K_APP_GOODSPRICE_TO_INCOME_RATIO'] = df_application_train['AMT_GOODS_PRICE']/df_application_train['AMT_INCOME_TOTAL']\n",
    "# df_application_train['K_APP_GOODSPRICE_TO_ANNUITY_RATIO'] = df_application_train['AMT_GOODS_PRICE']/df_application_train['AMT_ANNUITY']\n",
    "\n",
    "# #Feature - Income, Education, Family Status\n",
    "df_application_train['K_APP_INCOME_EDUCATION'] = df_application_train['NAME_INCOME_TYPE'] + df_application_train['NAME_EDUCATION_TYPE']\n",
    "df_application_train['K_APP_INCOME_EDUCATION_FAMILY'] = df_application_train['NAME_INCOME_TYPE'] + df_application_train['NAME_EDUCATION_TYPE'] + df_application_train['NAME_FAMILY_STATUS']\n",
    "\n",
    "# #Feature - Age in years\n",
    "df_application_train['K_DAYS_BIRTH_TO_EMPLOYED_RATIO'] = df_application_train['DAYS_BIRTH']/df_application_train['DAYS_EMPLOYED']\n",
    "# df_application_train['K_DAYS_BIRTH_TO_REGISTRATION_RATIO'] = df_application_train['DAYS_BIRTH']/df_application_train['DAYS_REGISTRATION']\n",
    "# df_application_train['K_DAYS_EMPLOYED_TO_REGISTRATION_RATIO'] = df_application_train['DAYS_EMPLOYED']/df_application_train['DAYS_REGISTRATION']\n",
    "\n",
    "# df_application_train['DAYS_ID_PUBLISH_REGISTRATION'] = df_application_train['DAYS_ID_PUBLISH'] + df_application_train['DAYS_REGISTRATION']\n",
    "# df_application_train['DAYS_ID_PUBLISH_PHONECHANGE'] = df_application_train['DAYS_ID_PUBLISH'] + df_application_train['DAYS_LAST_PHONE_CHANGE']\n",
    "# df_application_train['DAYS_ID_REGISTRATION_PHONECHANGE'] = df_application_train['DAYS_REGISTRATION'] + df_application_train['DAYS_LAST_PHONE_CHANGE']\n",
    "# df_application_train['DAYS_ID_PUBLISH_REGISTRATION_PHONECHANGE'] = df_application_train['DAYS_ID_PUBLISH'] + df_application_train['DAYS_REGISTRATION'] + df_application_train['DAYS_LAST_PHONE_CHANGE']\n",
    "\n",
    "# df_application_train['EXT_SOURCE_SUM'] = df_application_train['EXT_SOURCE_1'] + df_application_train['EXT_SOURCE_2'] + df_application_train['EXT_SOURCE_3'] "
   ]
  },
  {
   "cell_type": "code",
   "execution_count": 1082,
   "metadata": {
    "ExecuteTime": {
     "end_time": "2018-06-03T22:22:44.775940Z",
     "start_time": "2018-06-03T22:22:44.723081Z"
    }
   },
   "outputs": [],
   "source": [
    "# #Feature - Divide existing features\n",
    "df_application_test['K_APP_CREDIT_TO_INCOME_RATIO'] = df_application_test['AMT_CREDIT']/df_application_test['AMT_INCOME_TOTAL']\n",
    "df_application_test['K_APP_ANNUITY_TO_INCOME_RATIO'] = df_application_test['AMT_ANNUITY']/df_application_test['AMT_INCOME_TOTAL']\n",
    "df_application_test['K_APP_ANNUITY_TO_CREDIT_RATIO'] = df_application_test['AMT_ANNUITY']/df_application_test['AMT_CREDIT']\n",
    "\n",
    "df_application_test['K_APP_GOODSPRICE_TO_CREDIT_RATIO'] = df_application_test['AMT_GOODS_PRICE']/df_application_test['AMT_CREDIT']\n",
    "# df_application_test['K_APP_GOODSPRICE_TO_INCOME_RATIO'] = df_application_test['AMT_GOODS_PRICE']/df_application_test['AMT_INCOME_TOTAL']\n",
    "# df_application_test['K_APP_GOODSPRICE_TO_ANNUITY_RATIO'] = df_application_test['AMT_GOODS_PRICE']/df_application_test['AMT_ANNUITY']\n",
    "\n",
    "\n",
    "# #Feature - Income, Education, Family Status\n",
    "df_application_test['K_APP_INCOME_EDUCATION'] = df_application_test['NAME_INCOME_TYPE'] + df_application_test['NAME_EDUCATION_TYPE']\n",
    "df_application_test['K_APP_INCOME_EDUCATION_FAMILY'] = df_application_test['NAME_INCOME_TYPE'] + df_application_test['NAME_EDUCATION_TYPE'] + df_application_test['NAME_FAMILY_STATUS']\n",
    "\n",
    "# #Feature - Age in years\n",
    "df_application_test['K_DAYS_BIRTH_TO_EMPLOYED_RATIO'] = df_application_test['DAYS_BIRTH']/df_application_test['DAYS_EMPLOYED']\n",
    "# df_application_test['K_DAYS_BIRTH_TO_REGISTRATION_RATIO'] = df_application_test['DAYS_BIRTH']/df_application_test['DAYS_REGISTRATION']\n",
    "# df_application_test['K_DAYS_EMPLOYED_TO_REGISTRATION_RATIO'] = df_application_test['DAYS_EMPLOYED']/df_application_test['DAYS_REGISTRATION']\n",
    "\n",
    "# df_application_test['DAYS_ID_PUBLISH_REGISTRATION'] = df_application_test['DAYS_ID_PUBLISH'] + df_application_test['DAYS_REGISTRATION']\n",
    "# df_application_test['DAYS_ID_PUBLISH_PHONECHANGE'] = df_application_test['DAYS_ID_PUBLISH'] + df_application_test['DAYS_LAST_PHONE_CHANGE']\n",
    "# df_application_test['DAYS_ID_REGISTRATION_PHONECHANGE'] = df_application_test['DAYS_REGISTRATION'] + df_application_test['DAYS_LAST_PHONE_CHANGE']\n",
    "# df_application_test['DAYS_ID_PUBLISH_REGISTRATION_PHONECHANGE'] = df_application_test['DAYS_ID_PUBLISH'] + df_application_test['DAYS_REGISTRATION'] + df_application_test['DAYS_LAST_PHONE_CHANGE']\n",
    "\n",
    "# df_application_test['EXT_SOURCE_SUM'] = df_application_test['EXT_SOURCE_1'] + df_application_test['EXT_SOURCE_2'] + df_application_test['EXT_SOURCE_3']"
   ]
  },
  {
   "cell_type": "code",
   "execution_count": null,
   "metadata": {},
   "outputs": [],
   "source": []
  },
  {
   "cell_type": "code",
   "execution_count": null,
   "metadata": {},
   "outputs": [],
   "source": []
  },
  {
   "cell_type": "code",
   "execution_count": 1083,
   "metadata": {
    "ExecuteTime": {
     "end_time": "2018-06-03T22:22:44.827802Z",
     "start_time": "2018-06-03T22:22:44.777936Z"
    }
   },
   "outputs": [
    {
     "data": {
      "text/plain": [
       "count    104582.000000\n",
       "mean         12.061091\n",
       "std          11.944812\n",
       "min           0.000000\n",
       "25%           5.000000\n",
       "50%           9.000000\n",
       "75%          15.000000\n",
       "max          91.000000\n",
       "Name: OWN_CAR_AGE, dtype: float64"
      ]
     },
     "execution_count": 1083,
     "metadata": {},
     "output_type": "execute_result"
    }
   ],
   "source": [
    "df_application_train_original['OWN_CAR_AGE'].describe()"
   ]
  },
  {
   "cell_type": "code",
   "execution_count": null,
   "metadata": {},
   "outputs": [],
   "source": []
  },
  {
   "cell_type": "code",
   "execution_count": 1084,
   "metadata": {
    "ExecuteTime": {
     "end_time": "2018-06-03T22:22:44.897615Z",
     "start_time": "2018-06-03T22:22:44.829797Z"
    }
   },
   "outputs": [
    {
     "data": {
      "text/plain": [
       "112"
      ]
     },
     "execution_count": 1084,
     "metadata": {},
     "output_type": "execute_result"
    }
   ],
   "source": [
    "gc.collect()"
   ]
  },
  {
   "cell_type": "code",
   "execution_count": null,
   "metadata": {},
   "outputs": [],
   "source": []
  },
  {
   "cell_type": "markdown",
   "metadata": {},
   "source": [
    "# Combine Datasets"
   ]
  },
  {
   "cell_type": "code",
   "execution_count": 1085,
   "metadata": {
    "ExecuteTime": {
     "end_time": "2018-06-03T22:22:45.253663Z",
     "start_time": "2018-06-03T22:22:44.899610Z"
    }
   },
   "outputs": [
    {
     "data": {
      "text/plain": [
       "Index(['NAME_CONTRACT_TYPE', 'CODE_GENDER', 'FLAG_OWN_CAR', 'FLAG_OWN_REALTY',\n",
       "       'NAME_TYPE_SUITE', 'NAME_INCOME_TYPE', 'NAME_EDUCATION_TYPE',\n",
       "       'NAME_FAMILY_STATUS', 'NAME_HOUSING_TYPE', 'OCCUPATION_TYPE',\n",
       "       'WEEKDAY_APPR_PROCESS_START', 'ORGANIZATION_TYPE', 'FONDKAPREMONT_MODE',\n",
       "       'HOUSETYPE_MODE', 'WALLSMATERIAL_MODE', 'EMERGENCYSTATE_MODE',\n",
       "       'K_APP_INCOME_EDUCATION', 'K_APP_INCOME_EDUCATION_FAMILY'],\n",
       "      dtype='object')"
      ]
     },
     "execution_count": 1085,
     "metadata": {},
     "output_type": "execute_result"
    }
   ],
   "source": [
    "df_application_train.select_dtypes(['object']).columns"
   ]
  },
  {
   "cell_type": "markdown",
   "metadata": {},
   "source": [
    "## Encode categorical columns"
   ]
  },
  {
   "cell_type": "code",
   "execution_count": 1086,
   "metadata": {
    "ExecuteTime": {
     "end_time": "2018-06-03T22:22:46.482401Z",
     "start_time": "2018-06-03T22:22:45.255658Z"
    }
   },
   "outputs": [
    {
     "data": {
      "text/plain": [
       "126"
      ]
     },
     "execution_count": 1086,
     "metadata": {},
     "output_type": "execute_result"
    }
   ],
   "source": [
    "arr_categorical_columns = df_application_train.select_dtypes(['object']).columns\n",
    "for var_col in arr_categorical_columns:\n",
    "    df_application_train[var_col] = df_application_train[var_col].astype('category').cat.codes\n",
    "gc.collect()\n",
    "\n",
    "arr_categorical_columns = df_application_test.select_dtypes(['object']).columns\n",
    "for var_col in arr_categorical_columns:\n",
    "    df_application_test[var_col] = df_application_test[var_col].astype('category').cat.codes\n",
    "gc.collect()\n",
    "\n",
    "# arr_categorical_columns = df_credit_card_balance.select_dtypes(['object']).columns\n",
    "# for var_col in arr_categorical_columns:\n",
    "#     df_credit_card_balance[var_col] = df_credit_card_balance[var_col].astype('category').cat.codes"
   ]
  },
  {
   "cell_type": "code",
   "execution_count": null,
   "metadata": {},
   "outputs": [],
   "source": []
  },
  {
   "cell_type": "markdown",
   "metadata": {
    "ExecuteTime": {
     "end_time": "2018-05-25T23:30:11.672680Z",
     "start_time": "2018-05-25T23:30:11.668692Z"
    }
   },
   "source": [
    "## Combine Datasets"
   ]
  },
  {
   "cell_type": "markdown",
   "metadata": {},
   "source": [
    "### df_installments_payments"
   ]
  },
  {
   "cell_type": "code",
   "execution_count": 1087,
   "metadata": {
    "ExecuteTime": {
     "end_time": "2018-06-03T22:22:46.542240Z",
     "start_time": "2018-06-03T22:22:46.484395Z"
    }
   },
   "outputs": [],
   "source": [
    "df_installments_payments_train = df_installments_payments[df_installments_payments[\"SK_ID_CURR\"].isin(df_application_train[\"SK_ID_CURR\"])]\n",
    "df_installments_payments_test = df_installments_payments[df_installments_payments[\"SK_ID_CURR\"].isin(df_application_test[\"SK_ID_CURR\"])]"
   ]
  },
  {
   "cell_type": "code",
   "execution_count": 1088,
   "metadata": {
    "ExecuteTime": {
     "end_time": "2018-06-03T22:22:48.455242Z",
     "start_time": "2018-06-03T22:22:46.546229Z"
    }
   },
   "outputs": [],
   "source": [
    "df_application_train = pd.merge(df_application_train, df_installments_payments_train, on=\"SK_ID_CURR\", how=\"outer\", suffixes=('_application', '_installments_payments'))\n",
    "df_application_test = pd.merge(df_application_test, df_installments_payments_test, on=\"SK_ID_CURR\", how=\"outer\", suffixes=('_application', '_installments_payments'))"
   ]
  },
  {
   "cell_type": "code",
   "execution_count": null,
   "metadata": {},
   "outputs": [],
   "source": []
  },
  {
   "cell_type": "markdown",
   "metadata": {},
   "source": [
    "### df_credit_card_balance"
   ]
  },
  {
   "cell_type": "code",
   "execution_count": 1089,
   "metadata": {
    "ExecuteTime": {
     "end_time": "2018-06-03T22:22:48.489490Z",
     "start_time": "2018-06-03T22:22:48.457267Z"
    }
   },
   "outputs": [],
   "source": [
    "df_credit_card_balance_train = df_credit_card_balance[df_credit_card_balance[\"SK_ID_CURR\"].isin(df_application_train[\"SK_ID_CURR\"])]\n",
    "df_credit_card_balance_test = df_credit_card_balance[df_credit_card_balance[\"SK_ID_CURR\"].isin(df_application_test[\"SK_ID_CURR\"])]"
   ]
  },
  {
   "cell_type": "code",
   "execution_count": 1090,
   "metadata": {
    "ExecuteTime": {
     "end_time": "2018-06-03T22:22:48.942277Z",
     "start_time": "2018-06-03T22:22:48.491455Z"
    }
   },
   "outputs": [],
   "source": [
    "df_application_train = pd.merge(df_application_train, df_credit_card_balance_train, on=\"SK_ID_CURR\", how=\"outer\", suffixes=('_application', '_credit_card_balance'))\n",
    "df_application_test = pd.merge(df_application_test, df_credit_card_balance_test, on=\"SK_ID_CURR\", how=\"outer\", suffixes=('_application', '_credit_card_balance'))"
   ]
  },
  {
   "cell_type": "code",
   "execution_count": null,
   "metadata": {},
   "outputs": [],
   "source": []
  },
  {
   "cell_type": "markdown",
   "metadata": {},
   "source": [
    "### df_pos_cash_balance"
   ]
  },
  {
   "cell_type": "code",
   "execution_count": 1091,
   "metadata": {
    "ExecuteTime": {
     "end_time": "2018-06-03T22:22:49.003211Z",
     "start_time": "2018-06-03T22:22:48.944479Z"
    }
   },
   "outputs": [],
   "source": [
    "df_pos_cash_balance_train = df_pos_cash_balance[df_pos_cash_balance[\"SK_ID_CURR\"].isin(df_application_train[\"SK_ID_CURR\"])]\n",
    "df_pos_cash_balance_test = df_pos_cash_balance[df_pos_cash_balance[\"SK_ID_CURR\"].isin(df_application_test[\"SK_ID_CURR\"])]"
   ]
  },
  {
   "cell_type": "code",
   "execution_count": 1092,
   "metadata": {
    "ExecuteTime": {
     "end_time": "2018-06-03T22:22:49.497868Z",
     "start_time": "2018-06-03T22:22:49.005176Z"
    }
   },
   "outputs": [],
   "source": [
    "df_application_train = pd.merge(df_application_train, df_pos_cash_balance_train, on=\"SK_ID_CURR\", how=\"outer\", suffixes=('_application', '_pos_cash_balance'))\n",
    "df_application_test = pd.merge(df_application_test, df_pos_cash_balance_test, on=\"SK_ID_CURR\", how=\"outer\", suffixes=('_application', '_pos_cash_balance'))"
   ]
  },
  {
   "cell_type": "code",
   "execution_count": null,
   "metadata": {},
   "outputs": [],
   "source": []
  },
  {
   "cell_type": "markdown",
   "metadata": {},
   "source": [
    "### df_previous_application"
   ]
  },
  {
   "cell_type": "code",
   "execution_count": 1093,
   "metadata": {
    "ExecuteTime": {
     "end_time": "2018-06-03T22:22:49.590697Z",
     "start_time": "2018-06-03T22:22:49.499863Z"
    }
   },
   "outputs": [],
   "source": [
    "df_previous_application_train = df_previous_application[df_previous_application[\"SK_ID_CURR\"].isin(df_application_train[\"SK_ID_CURR\"])]\n",
    "df_previous_application_test = df_previous_application[df_previous_application[\"SK_ID_CURR\"].isin(df_application_test[\"SK_ID_CURR\"])]"
   ]
  },
  {
   "cell_type": "code",
   "execution_count": 1094,
   "metadata": {
    "ExecuteTime": {
     "end_time": "2018-06-03T22:22:50.258412Z",
     "start_time": "2018-06-03T22:22:49.591616Z"
    }
   },
   "outputs": [],
   "source": [
    "df_application_train = pd.merge(df_application_train, df_previous_application_train, on=\"SK_ID_CURR\", how=\"outer\", suffixes=('_application', '_previous_application'))\n",
    "df_application_test = pd.merge(df_application_test, df_previous_application_test, on=\"SK_ID_CURR\", how=\"outer\", suffixes=('_application', '_previous_application'))"
   ]
  },
  {
   "cell_type": "code",
   "execution_count": null,
   "metadata": {},
   "outputs": [],
   "source": []
  },
  {
   "cell_type": "markdown",
   "metadata": {},
   "source": [
    "### df_bureau_balance and df_bureau"
   ]
  },
  {
   "cell_type": "code",
   "execution_count": 1095,
   "metadata": {
    "ExecuteTime": {
     "end_time": "2018-06-03T22:22:50.333471Z",
     "start_time": "2018-06-03T22:22:50.260454Z"
    }
   },
   "outputs": [],
   "source": [
    "df_bureau_train = df_bureau[df_bureau[\"SK_ID_CURR\"].isin(df_application_train[\"SK_ID_CURR\"])]\n",
    "df_bureau_test = df_bureau[df_bureau[\"SK_ID_CURR\"].isin(df_application_test[\"SK_ID_CURR\"])]"
   ]
  },
  {
   "cell_type": "code",
   "execution_count": 1096,
   "metadata": {
    "ExecuteTime": {
     "end_time": "2018-06-03T22:22:51.046467Z",
     "start_time": "2018-06-03T22:22:50.335458Z"
    }
   },
   "outputs": [],
   "source": [
    "df_application_train = pd.merge(df_application_train, df_bureau_train, on=\"SK_ID_CURR\", how=\"outer\", suffixes=('_application', '_bureau'))\n",
    "df_application_test = pd.merge(df_application_test, df_bureau_test, on=\"SK_ID_CURR\", how=\"outer\", suffixes=('_application', '_bureau'))"
   ]
  },
  {
   "cell_type": "code",
   "execution_count": null,
   "metadata": {},
   "outputs": [],
   "source": []
  },
  {
   "cell_type": "code",
   "execution_count": 1097,
   "metadata": {
    "ExecuteTime": {
     "end_time": "2018-06-03T22:22:51.153148Z",
     "start_time": "2018-06-03T22:22:51.048426Z"
    }
   },
   "outputs": [
    {
     "data": {
      "text/plain": [
       "252"
      ]
     },
     "execution_count": 1097,
     "metadata": {},
     "output_type": "execute_result"
    }
   ],
   "source": [
    "gc.collect()"
   ]
  },
  {
   "cell_type": "code",
   "execution_count": null,
   "metadata": {},
   "outputs": [],
   "source": []
  },
  {
   "cell_type": "markdown",
   "metadata": {},
   "source": [
    "# Model Building"
   ]
  },
  {
   "cell_type": "markdown",
   "metadata": {
    "ExecuteTime": {
     "end_time": "2018-05-21T01:01:10.998981Z",
     "start_time": "2018-05-21T01:01:10.994983Z"
    }
   },
   "source": [
    "## Train-Validation Split"
   ]
  },
  {
   "cell_type": "code",
   "execution_count": 1098,
   "metadata": {
    "ExecuteTime": {
     "end_time": "2018-06-03T22:22:52.601903Z",
     "start_time": "2018-06-03T22:22:51.156137Z"
    }
   },
   "outputs": [
    {
     "name": "stderr",
     "output_type": "stream",
     "text": [
      "c:\\users\\karti\\appdata\\local\\programs\\python\\python36\\lib\\site-packages\\sklearn\\model_selection\\_split.py:2010: FutureWarning: From version 0.21, test_size will always complement train_size unless both are specified.\n",
      "  FutureWarning)\n"
     ]
    }
   ],
   "source": [
    "input_columns = df_application_train.columns\n",
    "input_columns = input_columns[input_columns != 'TARGET']\n",
    "target_column = 'TARGET'\n",
    "\n",
    "X = df_application_train[input_columns]\n",
    "y = df_application_train[target_column]\n",
    "gc.collect()\n",
    "X_train, X_test, y_train, y_test = train_test_split(X, y, random_state=42, train_size=0.7)"
   ]
  },
  {
   "cell_type": "code",
   "execution_count": 1099,
   "metadata": {
    "ExecuteTime": {
     "end_time": "2018-06-03T22:22:52.609294Z",
     "start_time": "2018-06-03T22:22:52.601903Z"
    }
   },
   "outputs": [],
   "source": [
    "# num_train, num_feature = X_train.shape"
   ]
  },
  {
   "cell_type": "code",
   "execution_count": 1100,
   "metadata": {
    "ExecuteTime": {
     "end_time": "2018-06-03T22:22:52.616308Z",
     "start_time": "2018-06-03T22:22:52.612287Z"
    }
   },
   "outputs": [],
   "source": [
    "# xgb_train = xgb.DMatrix(X_train, y_train)\n",
    "# xgb_eval  = xgb.DMatrix(X_test, y_test)"
   ]
  },
  {
   "cell_type": "code",
   "execution_count": 1101,
   "metadata": {
    "ExecuteTime": {
     "end_time": "2018-06-03T22:22:52.624255Z",
     "start_time": "2018-06-03T22:22:52.620282Z"
    }
   },
   "outputs": [],
   "source": [
    "# xgb_test   = xgb.DMatrix(df_application_test)"
   ]
  },
  {
   "cell_type": "code",
   "execution_count": 1102,
   "metadata": {
    "ExecuteTime": {
     "end_time": "2018-06-03T22:22:52.631253Z",
     "start_time": "2018-06-03T22:22:52.627247Z"
    }
   },
   "outputs": [],
   "source": [
    "# # #Params for the Hyperopt algo\n",
    "# N_HYPEROPT_PROBES = 8 # #Number of evaluation cycles\n",
    "# HYPEROPT_ALGO = tpe.suggest  # #Tree-of-Parzen-Estimators algo\n",
    "\n",
    "# # #Params for XGBoost CV\n",
    "# NUM_BOOST_ROUNDS = 270\n",
    "# NB_CV_FOLDS = 10\n",
    "# EARLY_STOPPING = 200\n",
    "# HOLDOUT_SIZE = 0.20\n",
    "# # HOLDOUT_SEED = 123456\n",
    "# # SEED0 = random.randint(1,1000000000)"
   ]
  },
  {
   "cell_type": "code",
   "execution_count": 1103,
   "metadata": {
    "ExecuteTime": {
     "end_time": "2018-06-03T22:22:52.639216Z",
     "start_time": "2018-06-03T22:22:52.633231Z"
    }
   },
   "outputs": [],
   "source": [
    "# obj_call_count = 0\n",
    "# cur_best_score = 0"
   ]
  },
  {
   "cell_type": "code",
   "execution_count": 1104,
   "metadata": {
    "ExecuteTime": {
     "end_time": "2018-06-03T22:22:52.651201Z",
     "start_time": "2018-06-03T22:22:52.641210Z"
    }
   },
   "outputs": [],
   "source": [
    "# def objective(space):\n",
    "#     # #Global Variable Definition\n",
    "#     global obj_call_count, cur_best_score, X_train, y_train, test, X_val, y_val\n",
    "\n",
    "#     obj_call_count += 1\n",
    "#     print('\\nXGBoost objective call #{} cur_best_score={:7.5f}'.format(obj_call_count,cur_best_score))\n",
    "\n",
    "#     sorted_params = sorted(space.items(), key=lambda z: z[0])\n",
    "#     print('Params:', str.join(' ', ['{}={}'.format(k, v) for k, v in sorted_params if not k.startswith('column:')]))\n",
    "\n",
    "\n",
    "#     xgb_params = sample(space)\n",
    "#     model = xgb.cv(xgb_params, xgb_train,\n",
    "#                    num_boost_round = NUM_BOOST_ROUNDS,\n",
    "#                     nfold=NB_CV_FOLDS,\n",
    "#                     stratified=False,\n",
    "#                     early_stopping_rounds=EARLY_STOPPING,\n",
    "#                     verbose_eval=100,\n",
    "#                     show_stdv=False)\n",
    "\n",
    "#     n_rounds = len(model[\"test-auc-mean\"])\n",
    "#     cv_score = model[\"test-auc-mean\"][n_rounds-1]\n",
    "#     print('CV finished n_rounds={} cv_score={:7.5f}'.format(n_rounds, cv_score ))\n",
    "    \n",
    "#     xgb_model = xgb.train(\n",
    "#                         xgb_params,\n",
    "#                         xgb_train,\n",
    "#                         num_boost_round=n_rounds,\n",
    "#                         verbose_eval=True)\n",
    "    \n",
    "#     predictions = xgb_model.predict(xgb_eval, ntree_limit =n_rounds)\n",
    "#     score = roc_auc_score(y_test, predictions)\n",
    "#     print('valid score={}'.format(score))\n",
    "    \n",
    "#     if score > cur_best_score:\n",
    "#         cur_best_score = score\n",
    "#         print('NEW BEST SCORE={}'.format(cur_best_score))\n",
    "       \n",
    "#     loss = 1 - score\n",
    "#     return {'loss': loss, 'status': STATUS_OK}"
   ]
  },
  {
   "cell_type": "code",
   "execution_count": 1105,
   "metadata": {
    "ExecuteTime": {
     "end_time": "2018-06-03T22:22:52.659187Z",
     "start_time": "2018-06-03T22:22:52.653178Z"
    }
   },
   "outputs": [],
   "source": [
    "# # #NOTE: Any change in `space`, needs to be changed in xgb_default_params as well\n",
    "# space ={\n",
    "#     'booster '    : 'gbtree',       \n",
    "#     'objective'   : 'binary:logistic',\n",
    "#     'eval_metric' : 'auc',\n",
    "#     'seed'        : 42,\n",
    "#     'silent'      : 0,      #Messages would be printed\n",
    "#     'n_thread'    : -1,     #-1: all cores are used\n",
    "#     'subsample'   : 0.8,\n",
    "#     'colsample_bytree': 0.7,\n",
    "    \n",
    "#     'eta'         : hp.uniform('eta', 0.025, 0.25),   # #Learning rate - Step size shrinkage to handle overfitting\n",
    "#     'min_child_weight': hp.choice(\"min_child_weight\", np.arange(5, 15,dtype=int)), # #Tradeoff b/n over and underfitting\n",
    "#     'max_depth'   : hp.choice(\"max_depth\", np.arange(4, 8,dtype=int)), # #Tradeoff b/n over and underfitting\n",
    "#     'alpha'       : hp.uniform('alpha', 0.5, 5), # #L1 regularization term - increase this value will make model more conservative.\n",
    "#     'lambda'      : hp.uniform('lambda', 0.5, 5), # #L2 regularization term - increase this value will make model more conservative.\n",
    "#     'gamma'       : hp.uniform('gamma', 0.6, 0.8),\n",
    "#    }"
   ]
  },
  {
   "cell_type": "code",
   "execution_count": 1106,
   "metadata": {
    "ExecuteTime": {
     "end_time": "2018-06-03T22:22:52.668168Z",
     "start_time": "2018-06-03T22:22:52.661155Z"
    }
   },
   "outputs": [],
   "source": [
    "# # #Trials keep track of all the experiments\n",
    "# trials = Trials()\n",
    "\n",
    "# # #MAIN function to run all the experiments\n",
    "# best = fmin(fn=objective,\n",
    "#                      space=space,\n",
    "#                      algo=HYPEROPT_ALGO,\n",
    "#                      max_evals=N_HYPEROPT_PROBES,\n",
    "#                      trials=trials,\n",
    "#                      verbose=1)\n",
    "\n",
    "\n",
    "# print('-'*50)\n",
    "# print('The best params:')\n",
    "# print( best )\n",
    "# print('\\n\\n')"
   ]
  },
  {
   "cell_type": "code",
   "execution_count": null,
   "metadata": {},
   "outputs": [],
   "source": []
  },
  {
   "cell_type": "code",
   "execution_count": 1107,
   "metadata": {
    "ExecuteTime": {
     "end_time": "2018-06-03T22:22:52.675119Z",
     "start_time": "2018-06-03T22:22:52.670130Z"
    }
   },
   "outputs": [],
   "source": [
    "# best"
   ]
  },
  {
   "cell_type": "code",
   "execution_count": 1108,
   "metadata": {
    "ExecuteTime": {
     "end_time": "2018-06-03T22:22:52.682110Z",
     "start_time": "2018-06-03T22:22:52.678110Z"
    }
   },
   "outputs": [],
   "source": [
    "# # #NOTE: Any change in xgb_default_params, needs to be changed in `space` as well\n",
    "# xgb_default_params ={\n",
    "#     'booster '    : 'gbtree',       \n",
    "#     'objective'   : 'binary:logistic',\n",
    "#     'eval_metric' : 'auc',\n",
    "#     'seed'        : 42,\n",
    "#     'silent'      : 0,      #Messages would be printed\n",
    "#     'n_thread'    : -1,     #-1: all cores are used\n",
    "#     'subsample'   : 0.8,\n",
    "#     'colsample_bytree': 0.7,\n",
    "# }"
   ]
  },
  {
   "cell_type": "code",
   "execution_count": 1109,
   "metadata": {
    "ExecuteTime": {
     "end_time": "2018-06-03T22:22:52.691104Z",
     "start_time": "2018-06-03T22:22:52.684094Z"
    }
   },
   "outputs": [],
   "source": [
    "# xgb_params = {**xgb_default_params, **best}"
   ]
  },
  {
   "cell_type": "code",
   "execution_count": 1110,
   "metadata": {
    "ExecuteTime": {
     "end_time": "2018-06-03T22:22:52.701050Z",
     "start_time": "2018-06-03T22:22:52.693071Z"
    }
   },
   "outputs": [],
   "source": [
    "# # xgb_params\n",
    "# {'alpha': 2.7266306946310426,\n",
    "#  'booster ': 'gbtree',\n",
    "#  'colsample_bytree': 0.7,\n",
    "#  'eta': 0.11084829740057514,\n",
    "#  'eval_metric': 'auc',\n",
    "#  'gamma': 0.6217758787178843,\n",
    "#  'lambda': 2.9036392904139543,\n",
    "#  'max_depth': 0,\n",
    "#  'min_child_weight': 4,\n",
    "#  'n_thread': -1,\n",
    "#  'objective': 'binary:logistic',\n",
    "#  'seed': 42,\n",
    "#  'silent': 0,\n",
    "#  'subsample': 0.8}"
   ]
  },
  {
   "cell_type": "code",
   "execution_count": null,
   "metadata": {},
   "outputs": [],
   "source": []
  },
  {
   "cell_type": "code",
   "execution_count": 1111,
   "metadata": {
    "ExecuteTime": {
     "end_time": "2018-06-03T22:22:52.711022Z",
     "start_time": "2018-06-03T22:22:52.703043Z"
    }
   },
   "outputs": [],
   "source": [
    "# #LB: 0.779\n",
    "xgb_params = {\n",
    " 'alpha': 3.160842634951819,\n",
    " 'booster ': 'gbtree',\n",
    " 'colsample_bytree': 0.7,\n",
    " 'eta': 0.1604387053222455,\n",
    " 'eval_metric': 'auc',\n",
    " 'gamma': 0.6236454630290655,\n",
    " 'lambda': 4.438488456929287, \n",
    " 'max_depth': 4,\n",
    " 'min_child_weight': 9,\n",
    " 'n_thread': -1,\n",
    " 'objective': 'binary:logistic',\n",
    " 'seed': 42,\n",
    " 'silent': 0,\n",
    " 'subsample': 0.8\n",
    "}"
   ]
  },
  {
   "cell_type": "code",
   "execution_count": null,
   "metadata": {},
   "outputs": [],
   "source": []
  },
  {
   "cell_type": "code",
   "execution_count": 1112,
   "metadata": {
    "ExecuteTime": {
     "end_time": "2018-06-03T22:22:52.723988Z",
     "start_time": "2018-06-03T22:22:52.713032Z"
    }
   },
   "outputs": [],
   "source": [
    "lgb_params = {\n",
    "    'boosting_type': 'gbdt',\n",
    "    'colsample_bytree': 0.7,               # #Same as feature_fraction\n",
    "    'learning_rate': 0.1604387053222455,\n",
    "    'max_depth' : 4,\n",
    "    'metric' : 'auc',\n",
    "    'min_child_weight': 9,\n",
    "    'num_boost_round': 5000,\n",
    "    'nthread': -1,\n",
    "    'objective': 'binary',\n",
    "    'lambda_l1': 3.160842634951819,\n",
    "    'lambda_l2': 4.438488456929287,\n",
    "    'reg_gamma':0.6236454630290655,\n",
    "    'seed': 42,\n",
    "    'subsample': 0.8,               # #Same as bagging_fraction\n",
    "    'verbose': 1\n",
    "}\n",
    "    \n",
    "#    'max_bin': 100}\n",
    "# 'num_leaves': 40, \n",
    "#task?\n",
    "#num_boost_round"
   ]
  },
  {
   "cell_type": "code",
   "execution_count": null,
   "metadata": {},
   "outputs": [],
   "source": []
  },
  {
   "cell_type": "code",
   "execution_count": 1113,
   "metadata": {
    "ExecuteTime": {
     "end_time": "2018-06-03T22:24:57.564854Z",
     "start_time": "2018-06-03T22:22:52.725982Z"
    }
   },
   "outputs": [
    {
     "name": "stderr",
     "output_type": "stream",
     "text": [
      "c:\\users\\karti\\appdata\\local\\programs\\python\\python36\\lib\\site-packages\\lightgbm\\engine.py:390: UserWarning: Found `num_boost_round` in params. Will use it instead of argument\n",
      "  warnings.warn(\"Found `{}` in params. Will use it instead of argument\".format(alias))\n"
     ]
    },
    {
     "name": "stdout",
     "output_type": "stream",
     "text": [
      "[100]\tcv_agg's auc: 0.780671 + 0.00270516\n",
      "[200]\tcv_agg's auc: 0.7857 + 0.00258421\n",
      "[300]\tcv_agg's auc: 0.786972 + 0.00253413\n",
      "[400]\tcv_agg's auc: 0.787179 + 0.00282858\n",
      "num_boost_rounds_lgb=382\n"
     ]
    }
   ],
   "source": [
    "# dtrain_lgb = lgb.Dataset(X_train, label=y_train)\n",
    "# dtest_lgb = lgb.Dataset(X_test, label=y_test)\n",
    "\n",
    "dtrain_lgb = lgb.Dataset(X, label=y)\n",
    "\n",
    "cv_result_lgb = lgb.cv(lgb_params, \n",
    "                       dtrain_lgb, \n",
    "                       num_boost_round=5000, \n",
    "                       nfold=5, \n",
    "                       stratified=True, \n",
    "                       early_stopping_rounds=100, \n",
    "                       verbose_eval=100, \n",
    "                       show_stdv=True)\n",
    "\n",
    "num_boost_rounds_lgb = len(cv_result_lgb['auc-mean'])\n",
    "print('num_boost_rounds_lgb=' + str(num_boost_rounds_lgb))"
   ]
  },
  {
   "cell_type": "code",
   "execution_count": 1114,
   "metadata": {
    "ExecuteTime": {
     "end_time": "2018-06-03T22:25:27.282108Z",
     "start_time": "2018-06-03T22:24:57.566848Z"
    }
   },
   "outputs": [],
   "source": [
    "# #Final Model\n",
    "gc.collect()\n",
    "# model = lgb.train(lgbm_params, lgb.Dataset(X_train,label=y_train), 270, lgb.Dataset(X_test,label=y_test), verbose_eval= 50)\n",
    "# model = lgb.train(lgbm_params, lgb.Dataset(X,y), 270, [lgb.Dataset(X_train,label=y_train), lgb.Dataset(X_test,label=y_test)],verbose_eval= 50)\n",
    "\n",
    "model_lgb = lgb.train(lgb_params, lgb.Dataset(X, label=y), num_boost_round=num_boost_rounds_lgb, verbose_eval= 50)"
   ]
  },
  {
   "cell_type": "raw",
   "metadata": {},
   "source": [
    "\n",
    "-------------------------------------------\n",
    "LB: 0.790\n",
    "LigthGBM Cross Validation\n",
    "[100]\tcv_agg's auc: 0.781284 + 0.0026998\n",
    "[200]\tcv_agg's auc: 0.786374 + 0.00245158\n",
    "[300]\tcv_agg's auc: 0.787628 + 0.00275346\n",
    "[400]\tcv_agg's auc: 0.787835 + 0.00279943\n",
    "num_boost_rounds_lgb=390\n",
    "\n"
   ]
  },
  {
   "cell_type": "code",
   "execution_count": null,
   "metadata": {},
   "outputs": [],
   "source": []
  },
  {
   "cell_type": "code",
   "execution_count": 1115,
   "metadata": {
    "ExecuteTime": {
     "end_time": "2018-06-03T22:25:28.066597Z",
     "start_time": "2018-06-03T22:25:27.286098Z"
    }
   },
   "outputs": [],
   "source": [
    "df_predict = model_lgb.predict(df_application_test, num_iteration=model_lgb.best_iteration)"
   ]
  },
  {
   "cell_type": "code",
   "execution_count": 1116,
   "metadata": {
    "ExecuteTime": {
     "end_time": "2018-06-03T22:25:28.276281Z",
     "start_time": "2018-06-03T22:25:28.068617Z"
    }
   },
   "outputs": [],
   "source": [
    "submission = pd.DataFrame()\n",
    "submission[\"SK_ID_CURR\"] =  df_application_test[\"SK_ID_CURR\"]\n",
    "submission[\"TARGET\"] =  df_predict\n",
    "\n",
    "submission.to_csv(\"../submissions/model_2_lightgbm_v21.csv\", index=False)"
   ]
  },
  {
   "cell_type": "code",
   "execution_count": 1117,
   "metadata": {
    "ExecuteTime": {
     "end_time": "2018-06-03T22:25:28.284256Z",
     "start_time": "2018-06-03T22:25:28.278272Z"
    }
   },
   "outputs": [
    {
     "data": {
      "text/plain": [
       "(48744, 2)"
      ]
     },
     "execution_count": 1117,
     "metadata": {},
     "output_type": "execute_result"
    }
   ],
   "source": [
    "# #Should be 48744, 2\n",
    "submission.shape"
   ]
  },
  {
   "cell_type": "code",
   "execution_count": 1118,
   "metadata": {
    "ExecuteTime": {
     "end_time": "2018-06-03T22:25:28.308197Z",
     "start_time": "2018-06-03T22:25:28.286251Z"
    },
    "scrolled": false
   },
   "outputs": [
    {
     "data": {
      "text/plain": [
       "[(195, 'K_APP_ANNUITY_TO_CREDIT_RATIO'),\n",
       " (147, 'EXT_SOURCE_3'),\n",
       " (133, 'EXT_SOURCE_2'),\n",
       " (111, 'EXT_SOURCE_1'),\n",
       " (106, 'DAYS_BIRTH'),\n",
       " (95, 'EXT_SOURCE_SUM'),\n",
       " (83, 'K_INST_AMT_DIFF'),\n",
       " (78, 'K_BUREAU_DAYS_CREDIT_ENDDATE_MAX'),\n",
       " (75, 'K_AMT_PAYMENT_MEAN'),\n",
       " (69, 'K_DAYS_ENTRY_PAYMENT_MAX'),\n",
       " (69, 'K_DAYS_BIRTH_TO_EMPLOYED_RATIO'),\n",
       " (69, 'K_CNT_INSTALMENT_FUTURE_MEAN'),\n",
       " (69, 'K_APP_GOODSPRICE_TO_CREDIT_RATIO'),\n",
       " (67, 'K_INST_DAYS_DIFF'),\n",
       " (66, 'K_BUREAU_DAYS_CREDIT_MAX'),\n",
       " (66, 'K_BUREAU_AMT_CREDIT_SUM_MAX'),\n",
       " (64, 'K_BUREAU_AMT_CREDIT_SUM_DEBT_MEAN'),\n",
       " (64, 'AMT_ANNUITY'),\n",
       " (60, 'DAYS_ID_PUBLISH'),\n",
       " (59, 'REGION_POPULATION_RELATIVE'),\n",
       " (59, 'K_AMT_PAYMENT_MIN'),\n",
       " (59, 'DAYS_LAST_PHONE_CHANGE'),\n",
       " (58, 'K_BUREAU_DAYS_ENDDATE_FACT_MAX'),\n",
       " (57, 'K_NUM_INSTALMENT_NUMBER_SUM_TO_COUNT_RATIO'),\n",
       " (57, 'K_DAYS_ENTRY_PAYMENT_VAR'),\n",
       " (57, 'K_BUREAU_DAYS_CREDIT_MEAN'),\n",
       " (55, 'K_DAYS_DECISION_MAX'),\n",
       " (55, 'K_APP_ANNUITY_TO_INCOME_RATIO'),\n",
       " (55, 'DAYS_REGISTRATION'),\n",
       " (54, 'K_AMT_ANNUITY_MEAN'),\n",
       " (53, 'K_BUREAU_DAYS_CREDIT_SORTED_SUCCESSIVE_DIFF_MEAN'),\n",
       " (52, 'K_INST_DAYS_DIFF_TO_COUNT_RATIO'),\n",
       " (51, 'SK_ID_CURR'),\n",
       " (51, 'K_CNT_PAYMENT_MEAN'),\n",
       " (50, 'K_BUREAU_AMT_CREDIT_SUM_MIN'),\n",
       " (49, 'AMT_GOODS_PRICE'),\n",
       " (48, 'K_CREDIT_ALLOCATED_MAX'),\n",
       " (48, 'K_BUREAU_AMT_CREDIT_SUM_MEAN'),\n",
       " (46, 'K_CREDIT_ALLOCATED_MIN'),\n",
       " (46, 'AMT_CREDIT'),\n",
       " (45, 'K_PREV_INSTALLMENT_PAYMENT_COUNT'),\n",
       " (43, 'OWN_CAR_AGE'),\n",
       " (43, 'K_PREV_POS_CASH_BALANCE_COUNT'),\n",
       " (43, 'K_BUREAU_AMT_CREDIT_MAX_OVERDUE_MEAN'),\n",
       " (43, 'K_AMT_GOODS_PRICE_MIN'),\n",
       " (42, 'ORGANIZATION_TYPE'),\n",
       " (42, 'K_CREDIT_ALLOCATED_MEAN'),\n",
       " (41, 'K_APP_CREDIT_TO_INCOME_RATIO'),\n",
       " (41, 'AMT_INCOME_TOTAL'),\n",
       " (40, 'K_BUREAU_DAYS_CREDIT_ENDDATE_MEAN'),\n",
       " (40, 'K_AMT_PAYMENT_VAR'),\n",
       " (40, 'K_AMT_PAYMENT_MAX'),\n",
       " (39, 'K_AMT_GOODS_PRICE_MEAN'),\n",
       " (38, 'K_AMT_DOWN_PAYMENT_MAX'),\n",
       " (37, 'K_CREDIT_UTILIZATION_MAX'),\n",
       " (37, 'K_BUREAU_DAYS_CREDIT_ENDDATE_MIN'),\n",
       " (37, 'K_BUREAU_AMT_CREDIT_SUM_DEBT_MAX'),\n",
       " (37, 'DAYS_EMPLOYED'),\n",
       " (36, 'K_AMT_GOODS_PRICE_MAX'),\n",
       " (34, 'K_BUREAU_COUNT'),\n",
       " (34, 'K_AMT_ANNUITY_MIN'),\n",
       " (33, 'NAME_FAMILY_STATUS'),\n",
       " (33, 'K_DAYS_LAST_DUE_1ST_VERSION_MAX'),\n",
       " (32, 'K_MONTHS_BALANCE_POS_CASH_MEAN'),\n",
       " (32, 'K_BUREAU_DAYS_CREDIT_MIN'),\n",
       " (31, 'K_BUREAU_DAYS_ENDDATE_FACT_MEAN'),\n",
       " (30, 'K_PREV_PREVIOUS_APPLICATION_COUNT'),\n",
       " (30, 'K_DAYS_TERMINATION_MEAN'),\n",
       " (29, 'K_CREDIT_UTILIZATION_VAR'),\n",
       " (29, 'K_CNT_DRAWINGS_CURRENT_MEAN'),\n",
       " (29, 'K_BUREAU_AMT_CREDIT_MAX_OVERDUE_MAX'),\n",
       " (28, 'K_DAYS_LAST_DUE_MEAN'),\n",
       " (28, 'K_DAYS_DECISION_MEAN'),\n",
       " (28, 'K_BUREAU_BALANCE_MONTHS_BALANCE_MEAN'),\n",
       " (28, 'K_AMT_PAYMENT_OVER_RECEIVABLE_MIN'),\n",
       " (28, 'K_AMT_DOWN_PAYMENT_MEAN'),\n",
       " (28, 'K_AMT_ANNUITY_MAX'),\n",
       " (27, 'K_CNT_INSTALMENT_MEAN'),\n",
       " (27, 'CODE_GENDER'),\n",
       " (26, 'K_APP_INCOME_EDUCATION_FAMILY'),\n",
       " (25, 'K_MONTHS_BALANCE_POS_CASH_MAX'),\n",
       " (25, 'K_CREDIT_UTILIZATION_MEAN'),\n",
       " (25, 'K_BUREAU_DAYS_ENDDATE_FACT_MIN'),\n",
       " (24, 'YEARS_BEGINEXPLUATATION_MODE'),\n",
       " (24, 'WEEKDAY_APPR_PROCESS_START'),\n",
       " (24, 'OCCUPATION_TYPE'),\n",
       " (24, 'K_DAYS_FIRST_DUE_MEAN'),\n",
       " (24, 'K_DAYS_DECISION_MIN'),\n",
       " (23, 'K_AMT_PAYMENT_OVER_RECEIVABLE_MEAN'),\n",
       " (23, 'HOUR_APPR_PROCESS_START'),\n",
       " (22, 'K_DAYS_LAST_DUE_1ST_VERSION_MEAN'),\n",
       " (22, 'K_BUREAU_AMT_CREDIT_SUM_LIMIT_MEAN'),\n",
       " (20, 'K_DAYS_FIRST_DUE_MAX'),\n",
       " (20, 'K_BUREAU_AMT_CREDIT_SUM_LIMIT_MAX'),\n",
       " (19, 'K_CNT_PAYMENT_MAX'),\n",
       " (19, 'K_CNT_DRAWINGS_CURRENT_MAX'),\n",
       " (19, 'K_BUREAU_AMT_CREDIT_SUM_DEBT_MIN'),\n",
       " (19, 'K_BUREAU_AMT_ANNUITY_MEAN'),\n",
       " (19, 'K_BUREAU_AMT_ANNUITY_MAX'),\n",
       " (18, 'LANDAREA_MODE'),\n",
       " (18, 'LANDAREA_AVG'),\n",
       " (18, 'K_DAYS_TERMINATION_MIN'),\n",
       " (18, 'K_BUREAU_BALANCE_MONTHS_BALANCE_MIN'),\n",
       " (18, 'K_AMT_PAYMENT_OVER_RECEIVABLE_MAX'),\n",
       " (17, 'K_PREV_CREDIT_CARD_BALANCE_COUNT'),\n",
       " (17, 'K_MONTHS_BALANCE_POS_CASH_MIN'),\n",
       " (17, 'K_AMT_DOWN_PAYMENT_MIN'),\n",
       " (16, 'REGION_RATING_CLIENT_W_CITY'),\n",
       " (16, 'K_CNT_INSTALMENT_FUTURE_MAX'),\n",
       " (16, 'FLAG_WORK_PHONE'),\n",
       " (16, 'AMT_REQ_CREDIT_BUREAU_YEAR'),\n",
       " (15, 'YEARS_BEGINEXPLUATATION_MEDI'),\n",
       " (15, 'OBS_60_CNT_SOCIAL_CIRCLE'),\n",
       " (15, 'FLAG_DOCUMENT_3'),\n",
       " (15, 'APARTMENTS_MODE'),\n",
       " (14, 'TOTALAREA_MODE'),\n",
       " (14, 'K_DAYS_LAST_DUE_1ST_VERSION_MIN'),\n",
       " (14, 'K_CNT_INSTALMENT_MIN'),\n",
       " (13, 'NONLIVINGAREA_AVG'),\n",
       " (13, 'NONLIVINGAPARTMENTS_AVG'),\n",
       " (13, 'K_DAYS_LAST_DUE_MIN'),\n",
       " (13, 'DEF_30_CNT_SOCIAL_CIRCLE'),\n",
       " (12, 'OBS_30_CNT_SOCIAL_CIRCLE'),\n",
       " (12, 'K_DAYS_LAST_DUE_MAX'),\n",
       " (12, 'K_DAYS_FIRST_DUE_MIN'),\n",
       " (12, 'K_AMT_DRAWINGS_CURRENT_MEAN'),\n",
       " (12, 'APARTMENTS_MEDI'),\n",
       " (11, 'YEARS_BUILD_MODE'),\n",
       " (11, 'NAME_EDUCATION_TYPE'),\n",
       " (11, 'LIVINGAPARTMENTS_AVG'),\n",
       " (11, 'K_CREDIT_UTILIZATION_MIN'),\n",
       " (11, 'K_CNT_INSTALMENT_MATURE_CUM_MAX_TO_COUNT_RATIO'),\n",
       " (10, 'NONLIVINGAREA_MODE'),\n",
       " (10, 'K_DAYS_FIRST_DRAWING_MEAN'),\n",
       " (10, 'K_CNT_INSTALMENT_MAX'),\n",
       " (10, 'K_BUREAU_AMT_ANNUITY_MIN'),\n",
       " (10, 'BASEMENTAREA_AVG'),\n",
       " (9, 'YEARS_BUILD_MEDI'),\n",
       " (9, 'REG_CITY_NOT_LIVE_CITY'),\n",
       " (9, 'NONLIVINGAREA_MEDI'),\n",
       " (9, 'K_BUREAU_AMT_CREDIT_SUM_OVERDUE_MAX'),\n",
       " (9, 'DEF_60_CNT_SOCIAL_CIRCLE'),\n",
       " (9, 'BASEMENTAREA_MODE'),\n",
       " (8, 'YEARS_BUILD_AVG'),\n",
       " (8, 'YEARS_BEGINEXPLUATATION_AVG'),\n",
       " (8, 'K_BUREAU_AMT_CREDIT_SUM_LIMIT_MIN'),\n",
       " (8, 'K_AMT_DRAWINGS_CURRENT_MAX'),\n",
       " (8, 'CNT_FAM_MEMBERS'),\n",
       " (8, 'AMT_REQ_CREDIT_BUREAU_QRT'),\n",
       " (8, 'AMT_REQ_CREDIT_BUREAU_MON'),\n",
       " (7, 'LIVINGAREA_MEDI'),\n",
       " (7, 'LIVINGAREA_AVG'),\n",
       " (7, 'LANDAREA_MEDI'),\n",
       " (7, 'K_BUREAU_AMT_CREDIT_MAX_OVERDUE_MIN'),\n",
       " (7, 'K_APP_INCOME_EDUCATION'),\n",
       " (7, 'FLOORSMIN_AVG'),\n",
       " (7, 'FLAG_DOCUMENT_18'),\n",
       " (7, 'ENTRANCES_AVG'),\n",
       " (7, 'COMMONAREA_MODE'),\n",
       " (7, 'COMMONAREA_MEDI'),\n",
       " (6, 'K_BUREAU_AMT_CREDIT_SUM_OVERDUE_MEAN'),\n",
       " (6, 'FLAG_DOCUMENT_16'),\n",
       " (6, 'COMMONAREA_AVG'),\n",
       " (6, 'BASEMENTAREA_MEDI'),\n",
       " (5, 'WALLSMATERIAL_MODE'),\n",
       " (5, 'NAME_CONTRACT_TYPE'),\n",
       " (5, 'FLAG_PHONE'),\n",
       " (5, 'ENTRANCES_MEDI'),\n",
       " (5, 'ELEVATORS_AVG'),\n",
       " (5, 'CNT_CHILDREN'),\n",
       " (5, 'APARTMENTS_AVG'),\n",
       " (4, 'NAME_TYPE_SUITE'),\n",
       " (4, 'NAME_HOUSING_TYPE'),\n",
       " (4, 'LIVINGAPARTMENTS_MODE'),\n",
       " (4, 'LIVE_CITY_NOT_WORK_CITY'),\n",
       " (4, 'K_DAYS_TERMINATION_MAX'),\n",
       " (4, 'K_CNT_PAYMENT_MIN'),\n",
       " (4, 'K_BUREAU_BALANCE_MONTHS_BALANCE_MAX'),\n",
       " (4, 'FLOORSMAX_MEDI'),\n",
       " (4, 'ENTRANCES_MODE'),\n",
       " (3, 'NAME_INCOME_TYPE'),\n",
       " (3, 'LIVINGAREA_MODE'),\n",
       " (3, 'FONDKAPREMONT_MODE'),\n",
       " (3, 'FLOORSMIN_MEDI'),\n",
       " (3, 'FLAG_DOCUMENT_6'),\n",
       " (3, 'FLAG_DOCUMENT_13'),\n",
       " (3, 'ELEVATORS_MODE'),\n",
       " (3, 'AMT_REQ_CREDIT_BUREAU_WEEK'),\n",
       " (2, 'REG_REGION_NOT_LIVE_REGION'),\n",
       " (2, 'REGION_RATING_CLIENT'),\n",
       " (2, 'NONLIVINGAPARTMENTS_MODE'),\n",
       " (2, 'NONLIVINGAPARTMENTS_MEDI'),\n",
       " (2, 'LIVINGAPARTMENTS_MEDI'),\n",
       " (2, 'FLOORSMIN_MODE'),\n",
       " (2, 'FLAG_OWN_CAR'),\n",
       " (2, 'FLAG_DOCUMENT_11'),\n",
       " (2, 'ELEVATORS_MEDI'),\n",
       " (1, 'REG_REGION_NOT_WORK_REGION'),\n",
       " (1, 'REG_CITY_NOT_WORK_CITY'),\n",
       " (1, 'FLOORSMAX_MODE'),\n",
       " (1, 'FLOORSMAX_AVG'),\n",
       " (1, 'FLAG_OWN_REALTY'),\n",
       " (1, 'AMT_REQ_CREDIT_BUREAU_DAY'),\n",
       " (0, 'LIVE_REGION_NOT_WORK_REGION'),\n",
       " (0, 'K_CNT_DRAWINGS_CURRENT_MIN'),\n",
       " (0, 'K_BUREAU_AMT_CREDIT_SUM_OVERDUE_MIN'),\n",
       " (0, 'HOUSETYPE_MODE'),\n",
       " (0, 'FLAG_MOBIL'),\n",
       " (0, 'FLAG_EMP_PHONE'),\n",
       " (0, 'FLAG_EMAIL'),\n",
       " (0, 'FLAG_DOCUMENT_9'),\n",
       " (0, 'FLAG_DOCUMENT_8'),\n",
       " (0, 'FLAG_DOCUMENT_7'),\n",
       " (0, 'FLAG_DOCUMENT_5'),\n",
       " (0, 'FLAG_DOCUMENT_4'),\n",
       " (0, 'FLAG_DOCUMENT_21'),\n",
       " (0, 'FLAG_DOCUMENT_20'),\n",
       " (0, 'FLAG_DOCUMENT_2'),\n",
       " (0, 'FLAG_DOCUMENT_19'),\n",
       " (0, 'FLAG_DOCUMENT_17'),\n",
       " (0, 'FLAG_DOCUMENT_15'),\n",
       " (0, 'FLAG_DOCUMENT_14'),\n",
       " (0, 'FLAG_DOCUMENT_12'),\n",
       " (0, 'FLAG_DOCUMENT_10'),\n",
       " (0, 'FLAG_CONT_MOBILE'),\n",
       " (0, 'EMERGENCYSTATE_MODE'),\n",
       " (0, 'AMT_REQ_CREDIT_BUREAU_HOUR')]"
      ]
     },
     "execution_count": 1118,
     "metadata": {},
     "output_type": "execute_result"
    }
   ],
   "source": [
    "# #Feature Importance\n",
    "importance = dict(zip(X_train.columns, model_lgb.feature_importance()))\n",
    "\n",
    "sorted(((value,key) for (key,value) in importance.items()), reverse=True)"
   ]
  },
  {
   "cell_type": "code",
   "execution_count": null,
   "metadata": {},
   "outputs": [],
   "source": []
  },
  {
   "cell_type": "code",
   "execution_count": null,
   "metadata": {},
   "outputs": [],
   "source": []
  },
  {
   "cell_type": "code",
   "execution_count": 1119,
   "metadata": {
    "ExecuteTime": {
     "end_time": "2018-06-03T22:25:28.316179Z",
     "start_time": "2018-06-03T22:25:28.310187Z"
    }
   },
   "outputs": [
    {
     "data": {
      "text/plain": [
       "227"
      ]
     },
     "execution_count": 1119,
     "metadata": {},
     "output_type": "execute_result"
    }
   ],
   "source": [
    "# #Total Number of Features --- 227\n",
    "len(sorted(((value,key) for (key,value) in importance.items()), reverse=True))"
   ]
  },
  {
   "cell_type": "code",
   "execution_count": 1120,
   "metadata": {
    "ExecuteTime": {
     "end_time": "2018-06-03T22:25:28.326156Z",
     "start_time": "2018-06-03T22:25:28.319163Z"
    }
   },
   "outputs": [
    {
     "data": {
      "text/plain": [
       "34"
      ]
     },
     "execution_count": 1120,
     "metadata": {},
     "output_type": "execute_result"
    }
   ],
   "source": [
    "# #Number of Features > 50 --- 21\n",
    "len(sorted(((value,key) for (key,value) in importance.items() if value > 50), reverse=True))"
   ]
  },
  {
   "cell_type": "code",
   "execution_count": 1121,
   "metadata": {
    "ExecuteTime": {
     "end_time": "2018-06-03T22:25:28.337116Z",
     "start_time": "2018-06-03T22:25:28.329136Z"
    }
   },
   "outputs": [
    {
     "data": {
      "text/plain": [
       "['SK_ID_CURR',\n",
       " 'REGION_POPULATION_RELATIVE',\n",
       " 'K_NUM_INSTALMENT_NUMBER_SUM_TO_COUNT_RATIO',\n",
       " 'K_INST_DAYS_DIFF_TO_COUNT_RATIO',\n",
       " 'K_INST_DAYS_DIFF',\n",
       " 'K_INST_AMT_DIFF',\n",
       " 'K_DAYS_ENTRY_PAYMENT_VAR',\n",
       " 'K_DAYS_ENTRY_PAYMENT_MAX',\n",
       " 'K_DAYS_DECISION_MAX',\n",
       " 'K_DAYS_BIRTH_TO_EMPLOYED_RATIO',\n",
       " 'K_CNT_PAYMENT_MEAN',\n",
       " 'K_CNT_INSTALMENT_FUTURE_MEAN',\n",
       " 'K_BUREAU_DAYS_ENDDATE_FACT_MAX',\n",
       " 'K_BUREAU_DAYS_CREDIT_SORTED_SUCCESSIVE_DIFF_MEAN',\n",
       " 'K_BUREAU_DAYS_CREDIT_MEAN',\n",
       " 'K_BUREAU_DAYS_CREDIT_MAX',\n",
       " 'K_BUREAU_DAYS_CREDIT_ENDDATE_MAX',\n",
       " 'K_BUREAU_AMT_CREDIT_SUM_MAX',\n",
       " 'K_BUREAU_AMT_CREDIT_SUM_DEBT_MEAN',\n",
       " 'K_APP_GOODSPRICE_TO_CREDIT_RATIO',\n",
       " 'K_APP_ANNUITY_TO_INCOME_RATIO',\n",
       " 'K_APP_ANNUITY_TO_CREDIT_RATIO',\n",
       " 'K_AMT_PAYMENT_MIN',\n",
       " 'K_AMT_PAYMENT_MEAN',\n",
       " 'K_AMT_ANNUITY_MEAN',\n",
       " 'EXT_SOURCE_SUM',\n",
       " 'EXT_SOURCE_3',\n",
       " 'EXT_SOURCE_2',\n",
       " 'EXT_SOURCE_1',\n",
       " 'DAYS_REGISTRATION',\n",
       " 'DAYS_LAST_PHONE_CHANGE',\n",
       " 'DAYS_ID_PUBLISH',\n",
       " 'DAYS_BIRTH',\n",
       " 'AMT_ANNUITY']"
      ]
     },
     "execution_count": 1121,
     "metadata": {},
     "output_type": "execute_result"
    }
   ],
   "source": [
    "# #Number of Features > 60 --- 21\n",
    "(sorted(((key) for (key,value) in importance.items() if value > 50), reverse=True))"
   ]
  },
  {
   "cell_type": "code",
   "execution_count": null,
   "metadata": {},
   "outputs": [],
   "source": []
  },
  {
   "cell_type": "code",
   "execution_count": null,
   "metadata": {},
   "outputs": [],
   "source": []
  },
  {
   "cell_type": "code",
   "execution_count": null,
   "metadata": {},
   "outputs": [],
   "source": []
  },
  {
   "cell_type": "code",
   "execution_count": null,
   "metadata": {},
   "outputs": [],
   "source": []
  },
  {
   "cell_type": "code",
   "execution_count": 1122,
   "metadata": {
    "ExecuteTime": {
     "end_time": "2018-06-03T22:25:28.346101Z",
     "start_time": "2018-06-03T22:25:28.340108Z"
    }
   },
   "outputs": [
    {
     "ename": "SyntaxError",
     "evalue": "invalid syntax (<ipython-input-1122-38d39cec41c5>, line 2)",
     "output_type": "error",
     "traceback": [
      "\u001b[1;36m  File \u001b[1;32m\"<ipython-input-1122-38d39cec41c5>\"\u001b[1;36m, line \u001b[1;32m2\u001b[0m\n\u001b[1;33m    def\u001b[0m\n\u001b[1;37m       ^\u001b[0m\n\u001b[1;31mSyntaxError\u001b[0m\u001b[1;31m:\u001b[0m invalid syntax\n"
     ]
    }
   ],
   "source": [
    "# #Custom Interrupt Point for Run All below condition\n",
    "def"
   ]
  },
  {
   "cell_type": "code",
   "execution_count": null,
   "metadata": {
    "ExecuteTime": {
     "end_time": "2018-06-03T22:25:28.346101Z",
     "start_time": "2018-06-03T22:17:15.563Z"
    }
   },
   "outputs": [],
   "source": [
    "def def"
   ]
  },
  {
   "cell_type": "code",
   "execution_count": null,
   "metadata": {},
   "outputs": [],
   "source": []
  },
  {
   "cell_type": "code",
   "execution_count": null,
   "metadata": {},
   "outputs": [],
   "source": []
  },
  {
   "cell_type": "code",
   "execution_count": null,
   "metadata": {},
   "outputs": [],
   "source": []
  },
  {
   "cell_type": "code",
   "execution_count": null,
   "metadata": {
    "ExecuteTime": {
     "end_time": "2018-06-03T22:25:28.347089Z",
     "start_time": "2018-06-03T22:17:15.572Z"
    }
   },
   "outputs": [],
   "source": [
    "cv_metrics = \"\"\"\n",
    "[100]\tcv_agg's auc: 0.780566 + 0.00258324\n",
    "[200]\tcv_agg's auc: 0.786063 + 0.00274201\n",
    "[300]\tcv_agg's auc: 0.787858 + 0.00288494\n",
    "[400]\tcv_agg's auc: 0.788015 + 0.00265665\n",
    "num_boost_rounds_lgb=314\n",
    "\"\"\""
   ]
  },
  {
   "cell_type": "code",
   "execution_count": null,
   "metadata": {
    "ExecuteTime": {
     "end_time": "2018-06-03T22:25:28.348120Z",
     "start_time": "2018-06-03T22:17:15.574Z"
    }
   },
   "outputs": [],
   "source": [
    "lb_metrics = 0.789"
   ]
  },
  {
   "cell_type": "code",
   "execution_count": null,
   "metadata": {
    "ExecuteTime": {
     "end_time": "2018-06-03T22:25:28.350080Z",
     "start_time": "2018-06-03T22:17:15.580Z"
    }
   },
   "outputs": [],
   "source": [
    "mongo_json = {\n",
    "    \"model\" : \"lightgbm\",\n",
    "    \"model_params\" : lgb_params,\n",
    "    \"feature_importance\" : dict([(key, int(val)) for key, val in importance.items()]),\n",
    "    \"cv_metrics\": cv_metrics,\n",
    "    \"lb_metrics\" : lb_metrics\n",
    "}"
   ]
  },
  {
   "cell_type": "markdown",
   "metadata": {},
   "source": [
    "# MongoDB - My Personal ModelDB"
   ]
  },
  {
   "cell_type": "code",
   "execution_count": null,
   "metadata": {
    "ExecuteTime": {
     "end_time": "2018-06-03T22:25:28.351076Z",
     "start_time": "2018-06-03T22:17:15.649Z"
    }
   },
   "outputs": [],
   "source": [
    "client = MongoClient()\n",
    "client = MongoClient('localhost', 27017)\n",
    "\n",
    "db = client.kaggle_homecredit\n",
    "collection = db.model2_lightgbm"
   ]
  },
  {
   "cell_type": "code",
   "execution_count": null,
   "metadata": {
    "ExecuteTime": {
     "end_time": "2018-06-03T22:25:28.352075Z",
     "start_time": "2018-06-03T22:17:15.654Z"
    }
   },
   "outputs": [],
   "source": [
    "db = client.kaggle_homecredit\n",
    "collection = db.model2_lightgbm"
   ]
  },
  {
   "cell_type": "code",
   "execution_count": null,
   "metadata": {
    "ExecuteTime": {
     "end_time": "2018-06-03T22:25:28.353073Z",
     "start_time": "2018-06-03T22:17:15.658Z"
    }
   },
   "outputs": [],
   "source": [
    "collection.insert_one(mongo_json)"
   ]
  },
  {
   "cell_type": "code",
   "execution_count": null,
   "metadata": {},
   "outputs": [],
   "source": []
  }
 ],
 "metadata": {
  "kernelspec": {
   "display_name": "Python 3",
   "language": "python",
   "name": "python3"
  },
  "language_info": {
   "codemirror_mode": {
    "name": "ipython",
    "version": 3
   },
   "file_extension": ".py",
   "mimetype": "text/x-python",
   "name": "python",
   "nbconvert_exporter": "python",
   "pygments_lexer": "ipython3",
   "version": "3.6.3rc1"
  },
  "latex_envs": {
   "LaTeX_envs_menu_present": true,
   "autoclose": false,
   "autocomplete": true,
   "bibliofile": "biblio.bib",
   "cite_by": "apalike",
   "current_citInitial": 1,
   "eqLabelWithNumbers": true,
   "eqNumInitial": 1,
   "hotkeys": {
    "equation": "Ctrl-E",
    "itemize": "Ctrl-I"
   },
   "labels_anchors": false,
   "latex_user_defs": false,
   "report_style_numbering": false,
   "user_envs_cfg": false
  },
  "toc": {
   "nav_menu": {},
   "number_sections": true,
   "sideBar": true,
   "skip_h1_title": false,
   "title_cell": "Table of Contents",
   "title_sidebar": "Contents",
   "toc_cell": false,
   "toc_position": {},
   "toc_section_display": true,
   "toc_window_display": false
  }
 },
 "nbformat": 4,
 "nbformat_minor": 2
}
