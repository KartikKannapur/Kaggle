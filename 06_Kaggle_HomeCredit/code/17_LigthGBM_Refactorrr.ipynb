{
 "cells": [
  {
   "cell_type": "markdown",
   "metadata": {
    "ExecuteTime": {
     "end_time": "2018-05-20T23:59:53.197955Z",
     "start_time": "2018-05-20T23:59:53.186014Z"
    }
   },
   "source": [
    "# Home Credit Default Risk\n",
    "\n",
    "Can you predict how capable each applicant is of repaying a loan?"
   ]
  },
  {
   "cell_type": "markdown",
   "metadata": {},
   "source": [
    "Many people struggle to get loans due to **insufficient or non-existent credit histories**. And, unfortunately, this population is often taken advantage of by untrustworthy lenders.\n",
    "\n",
    "Home Credit strives to broaden financial inclusion for the **unbanked population by providing a positive and safe borrowing experience**. In order to make sure this underserved population has a positive loan experience, Home Credit makes use of a variety of alternative data--including telco and transactional information--to predict their clients' repayment abilities.\n",
    "\n",
    "While Home Credit is currently using various statistical and machine learning methods to make these predictions, they're challenging Kagglers to help them unlock the full potential of their data. Doing so will ensure that clients capable of repayment are not rejected and that loans are given with a principal, maturity, and repayment calendar that will empower their clients to be successful."
   ]
  },
  {
   "cell_type": "markdown",
   "metadata": {},
   "source": [
    "**Submissions are evaluated on area under the ROC curve between the predicted probability and the observed target.**"
   ]
  },
  {
   "cell_type": "code",
   "execution_count": null,
   "metadata": {},
   "outputs": [],
   "source": []
  },
  {
   "cell_type": "markdown",
   "metadata": {
    "ExecuteTime": {
     "end_time": "2018-05-21T00:03:15.862019Z",
     "start_time": "2018-05-21T00:03:15.857030Z"
    }
   },
   "source": [
    "# Dataset"
   ]
  },
  {
   "cell_type": "code",
   "execution_count": 11,
   "metadata": {
    "ExecuteTime": {
     "end_time": "2018-06-24T15:04:06.160812Z",
     "start_time": "2018-06-24T15:04:06.094961Z"
    }
   },
   "outputs": [],
   "source": [
    "# #Python Libraries\n",
    "import numpy as np\n",
    "import scipy as sp\n",
    "import pandas as pd\n",
    "import statsmodels\n",
    "import pandas_profiling\n",
    "\n",
    "%matplotlib inline\n",
    "import matplotlib.pyplot as plt\n",
    "import seaborn as sns\n",
    "\n",
    "import os\n",
    "import sys\n",
    "import time\n",
    "import random\n",
    "import requests\n",
    "import datetime\n",
    "\n",
    "import missingno as msno\n",
    "import math\n",
    "import sys\n",
    "import gc\n",
    "import os\n",
    "\n",
    "# #sklearn\n",
    "from sklearn.model_selection import train_test_split\n",
    "from sklearn.model_selection import cross_val_score\n",
    "from sklearn.model_selection import RandomizedSearchCV\n",
    "from sklearn.model_selection import GridSearchCV\n",
    "from sklearn.model_selection import StratifiedKFold\n",
    "from sklearn.ensemble import RandomForestRegressor\n",
    "\n",
    "# #sklearn - preprocessing\n",
    "from sklearn.preprocessing import StandardScaler\n",
    "from sklearn.preprocessing import LabelEncoder\n",
    "\n",
    "# #sklearn - metrics\n",
    "from sklearn.metrics import mean_squared_error\n",
    "from sklearn.metrics import mean_absolute_error\n",
    "from sklearn.metrics import r2_score\n",
    "from sklearn.metrics import roc_auc_score\n",
    "\n",
    "# #XGBoost & LightGBM\n",
    "import xgboost as xgb\n",
    "import lightgbm as lgb\n",
    "\n",
    "# #Missing value imputation\n",
    "from fancyimpute import KNN, MICE\n",
    "\n",
    "# #Hyperparameter Optimization\n",
    "from hyperopt.pyll.base import scope\n",
    "from hyperopt.pyll.stochastic import sample\n",
    "from hyperopt import STATUS_OK, Trials, fmin, hp, tpe\n",
    "\n",
    "# #MongoDB for Model Parameter Storage\n",
    "from pymongo import MongoClient\n",
    "\n",
    "pd.options.display.max_columns = 150"
   ]
  },
  {
   "cell_type": "code",
   "execution_count": null,
   "metadata": {},
   "outputs": [],
   "source": []
  },
  {
   "cell_type": "markdown",
   "metadata": {},
   "source": [
    "## Data Dictionary"
   ]
  },
  {
   "cell_type": "code",
   "execution_count": 12,
   "metadata": {
    "ExecuteTime": {
     "end_time": "2018-06-24T15:04:06.240599Z",
     "start_time": "2018-06-24T15:04:06.161776Z"
    }
   },
   "outputs": [
    {
     "name": "stdout",
     "output_type": "stream",
     "text": [
      "total 2621364\n",
      "-rw-r--r-- 1 karti 197609  26567651 May 17 18:06 application_test.csv\n",
      "-rw-r--r-- 1 karti 197609 166133370 May 17 18:06 application_train.csv\n",
      "-rw-r--r-- 1 karti 197609 170016717 May 17 18:08 bureau.csv\n",
      "-rw-r--r-- 1 karti 197609 375592889 May 17 18:08 bureau_balance.csv\n",
      "-rw-r--r-- 1 karti 197609 424582605 May 17 18:10 credit_card_balance.csv\n",
      "-rw-r--r-- 1 karti 197609     37436 May 30 00:41 HomeCredit_columns_description.csv\n",
      "-rw-r--r-- 1 karti 197609 723118349 May 17 18:13 installments_payments.csv\n",
      "-rw-r--r-- 1 karti 197609 392703158 May 17 18:14 POS_CASH_balance.csv\n",
      "-rw-r--r-- 1 karti 197609 404973293 May 17 18:15 previous_application.csv\n",
      "-rw-r--r-- 1 karti 197609    536202 May 17 18:06 sample_submission.csv\n"
     ]
    }
   ],
   "source": [
    "!ls -l ../data/"
   ]
  },
  {
   "cell_type": "markdown",
   "metadata": {
    "ExecuteTime": {
     "end_time": "2018-05-21T00:09:22.778763Z",
     "start_time": "2018-05-21T00:09:22.728896Z"
    }
   },
   "source": [
    "- application_{train|test}.csv\n",
    "\n",
    "This is the main table, broken into two files for Train (**with TARGET**) and Test (without TARGET).\n",
    "Static data for all applications. **One row represents one loan in our data sample.**\n",
    "\n",
    "Observations:\n",
    "* Each row is unique\n",
    "\n",
    "-----\n",
    "\n",
    "\n",
    "- bureau.csv\n",
    "\n",
    "All client's previous credits provided by other financial institutions that were reported to Credit Bureau (for clients who have a loan in our sample).\n",
    "For every loan in our sample, there are as many rows as number of credits the client had in Credit Bureau before the application date.\n",
    "\n",
    "- bureau_balance.csv\n",
    "\n",
    "Monthly balances of previous credits in Credit Bureau.\n",
    "This table has one row for each month of history of every previous credit reported to Credit Bureau – i.e the table has (#loans in sample * # of relative previous credits * # of months where we have some history observable for the previous credits) rows.\n",
    "\n",
    "- POS_CASH_balance.csv\n",
    "\n",
    "Monthly balance snapshots of previous POS (point of sales) and cash loans that the applicant had with Home Credit.\n",
    "This table has one row for each month of history of every previous credit in Home Credit (consumer credit and cash loans) related to loans in our sample – i.e. the table has (#loans in sample * # of relative previous credits * # of months in which we have some history observable for the previous credits) rows.\n",
    "\n",
    "- credit_card_balance.csv\n",
    "\n",
    "Monthly balance snapshots of previous credit cards that the applicant has with Home Credit.\n",
    "This table has one row for each month of history of every previous credit in Home Credit (consumer credit and cash loans) related to loans in our sample – i.e. the table has (#loans in sample * # of relative previous credit cards * # of months where we have some history observable for the previous credit card) rows.\n",
    "\n",
    "-----\n",
    "\n",
    "- previous_application.csv\n",
    "\n",
    "All previous applications for Home Credit loans of clients who have loans in our sample.\n",
    "There is one row for each previous application related to loans in our data sample.\n",
    "\n",
    "-----\n",
    "\n",
    "- installments_payments.csv\n",
    "\n",
    "Repayment history for the previously disbursed credits in Home Credit related to the loans in our sample.\n",
    "There is a) one row for every payment that was made plus b) one row each for missed payment.\n",
    "One row is equivalent to one payment of one installment OR one installment corresponding to one payment of one previous Home Credit credit related to loans in our sample.\n",
    "\n",
    "- HomeCredit_columns_description.csv\n",
    "\n",
    "This file contains descriptions for the columns in the various data files."
   ]
  },
  {
   "cell_type": "markdown",
   "metadata": {
    "ExecuteTime": {
     "end_time": "2018-05-21T00:10:35.952529Z",
     "start_time": "2018-05-21T00:10:35.909617Z"
    }
   },
   "source": [
    "![](https://storage.googleapis.com/kaggle-media/competitions/home-credit/home_credit.png)"
   ]
  },
  {
   "cell_type": "code",
   "execution_count": null,
   "metadata": {},
   "outputs": [],
   "source": []
  },
  {
   "cell_type": "markdown",
   "metadata": {},
   "source": [
    "# Data Pre-processing"
   ]
  },
  {
   "cell_type": "code",
   "execution_count": 13,
   "metadata": {
    "ExecuteTime": {
     "end_time": "2018-06-24T15:04:55.544589Z",
     "start_time": "2018-06-24T15:04:06.283479Z"
    }
   },
   "outputs": [],
   "source": [
    "df_application_train_original = pd.read_csv(\"../data/application_train.csv\")\n",
    "df_application_test_original = pd.read_csv(\"../data/application_test.csv\")\n",
    "df_bureau_original = pd.read_csv(\"../data/bureau.csv\")\n",
    "df_bureau_balance_original = pd.read_csv(\"../data/bureau_balance.csv\")\n",
    "df_credit_card_balance_original = pd.read_csv(\"../data/credit_card_balance.csv\")\n",
    "df_installments_payments_original = pd.read_csv(\"../data/installments_payments.csv\")\n",
    "df_pos_cash_balance_original = pd.read_csv(\"../data/POS_CASH_balance.csv\")\n",
    "df_previous_application_original = pd.read_csv(\"../data/previous_application.csv\")"
   ]
  },
  {
   "cell_type": "code",
   "execution_count": 14,
   "metadata": {
    "ExecuteTime": {
     "end_time": "2018-06-24T15:05:45.140430Z",
     "start_time": "2018-06-24T15:04:55.546585Z"
    }
   },
   "outputs": [],
   "source": [
    "df_application_train = pd.read_csv(\"../data/application_train.csv\")\n",
    "df_application_test = pd.read_csv(\"../data/application_test.csv\")\n",
    "df_bureau = pd.read_csv(\"../data/bureau.csv\")\n",
    "df_bureau_balance = pd.read_csv(\"../data/bureau_balance.csv\")\n",
    "df_credit_card_balance = pd.read_csv(\"../data/credit_card_balance.csv\")\n",
    "df_installments_payments = pd.read_csv(\"../data/installments_payments.csv\")\n",
    "df_pos_cash_balance = pd.read_csv(\"../data/POS_CASH_balance.csv\")\n",
    "df_previous_application = pd.read_csv(\"../data/previous_application.csv\")"
   ]
  },
  {
   "cell_type": "code",
   "execution_count": 15,
   "metadata": {
    "ExecuteTime": {
     "end_time": "2018-06-24T15:05:45.154393Z",
     "start_time": "2018-06-24T15:05:45.142425Z"
    }
   },
   "outputs": [
    {
     "name": "stdout",
     "output_type": "stream",
     "text": [
      "df_application_train:  (307511, 122)\n",
      "df_application_test:  (48744, 121)\n",
      "df_bureau:  (1716428, 17)\n",
      "df_bureau_balance:  (27299925, 3)\n",
      "df_credit_card_balance:  (3840312, 23)\n",
      "df_installments_payments:  (13605401, 8)\n",
      "df_pos_cash_balance:  (10001358, 8)\n",
      "df_previous_application:  (1670214, 37)\n"
     ]
    }
   ],
   "source": [
    "print(\"df_application_train: \", df_application_train.shape)\n",
    "print(\"df_application_test: \", df_application_test.shape)\n",
    "print(\"df_bureau: \", df_bureau.shape)\n",
    "print(\"df_bureau_balance: \", df_bureau_balance.shape)\n",
    "print(\"df_credit_card_balance: \", df_credit_card_balance.shape)\n",
    "print(\"df_installments_payments: \", df_installments_payments.shape)\n",
    "print(\"df_pos_cash_balance: \", df_pos_cash_balance.shape)\n",
    "print(\"df_previous_application: \", df_previous_application.shape)"
   ]
  },
  {
   "cell_type": "code",
   "execution_count": 16,
   "metadata": {
    "ExecuteTime": {
     "end_time": "2018-06-24T15:05:45.336905Z",
     "start_time": "2018-06-24T15:05:45.157385Z"
    }
   },
   "outputs": [
    {
     "data": {
      "text/plain": [
       "5527"
      ]
     },
     "execution_count": 16,
     "metadata": {},
     "output_type": "execute_result"
    }
   ],
   "source": [
    "gc.collect()"
   ]
  },
  {
   "cell_type": "code",
   "execution_count": null,
   "metadata": {},
   "outputs": [],
   "source": []
  },
  {
   "cell_type": "code",
   "execution_count": null,
   "metadata": {},
   "outputs": [],
   "source": []
  },
  {
   "cell_type": "code",
   "execution_count": null,
   "metadata": {},
   "outputs": [],
   "source": []
  },
  {
   "cell_type": "code",
   "execution_count": 79,
   "metadata": {
    "ExecuteTime": {
     "end_time": "2018-06-24T18:04:20.346013Z",
     "start_time": "2018-06-24T18:03:34.607556Z"
    }
   },
   "outputs": [
    {
     "name": "stdout",
     "output_type": "stream",
     "text": [
      "Train samples: 307511, test samples: 48744\n"
     ]
    },
    {
     "ename": "KeyError",
     "evalue": "'SK_ID_CURR'",
     "output_type": "error",
     "traceback": [
      "\u001b[1;31m---------------------------------------------------------------------------\u001b[0m",
      "\u001b[1;31mKeyError\u001b[0m                                  Traceback (most recent call last)",
      "\u001b[1;32mc:\\users\\karti\\appdata\\local\\programs\\python\\python36\\lib\\site-packages\\pandas\\core\\indexes\\base.py\u001b[0m in \u001b[0;36mget_loc\u001b[1;34m(self, key, method, tolerance)\u001b[0m\n\u001b[0;32m   2524\u001b[0m             \u001b[1;32mtry\u001b[0m\u001b[1;33m:\u001b[0m\u001b[1;33m\u001b[0m\u001b[0m\n\u001b[1;32m-> 2525\u001b[1;33m                 \u001b[1;32mreturn\u001b[0m \u001b[0mself\u001b[0m\u001b[1;33m.\u001b[0m\u001b[0m_engine\u001b[0m\u001b[1;33m.\u001b[0m\u001b[0mget_loc\u001b[0m\u001b[1;33m(\u001b[0m\u001b[0mkey\u001b[0m\u001b[1;33m)\u001b[0m\u001b[1;33m\u001b[0m\u001b[0m\n\u001b[0m\u001b[0;32m   2526\u001b[0m             \u001b[1;32mexcept\u001b[0m \u001b[0mKeyError\u001b[0m\u001b[1;33m:\u001b[0m\u001b[1;33m\u001b[0m\u001b[0m\n",
      "\u001b[1;32mpandas\\_libs\\index.pyx\u001b[0m in \u001b[0;36mpandas._libs.index.IndexEngine.get_loc\u001b[1;34m()\u001b[0m\n",
      "\u001b[1;32mpandas\\_libs\\index.pyx\u001b[0m in \u001b[0;36mpandas._libs.index.IndexEngine.get_loc\u001b[1;34m()\u001b[0m\n",
      "\u001b[1;32mpandas\\_libs\\hashtable_class_helper.pxi\u001b[0m in \u001b[0;36mpandas._libs.hashtable.PyObjectHashTable.get_item\u001b[1;34m()\u001b[0m\n",
      "\u001b[1;32mpandas\\_libs\\hashtable_class_helper.pxi\u001b[0m in \u001b[0;36mpandas._libs.hashtable.PyObjectHashTable.get_item\u001b[1;34m()\u001b[0m\n",
      "\u001b[1;31mKeyError\u001b[0m: 'SK_ID_CURR'",
      "\nDuring handling of the above exception, another exception occurred:\n",
      "\u001b[1;31mKeyError\u001b[0m                                  Traceback (most recent call last)",
      "\u001b[1;32m<ipython-input-79-1045e3a87a73>\u001b[0m in \u001b[0;36m<module>\u001b[1;34m()\u001b[0m\n\u001b[0;32m    362\u001b[0m     \u001b[0msubmission_file_name\u001b[0m \u001b[1;33m=\u001b[0m \u001b[1;34m\"submission_kernel02.csv\"\u001b[0m\u001b[1;33m\u001b[0m\u001b[0m\n\u001b[0;32m    363\u001b[0m     \u001b[1;32mwith\u001b[0m \u001b[0mtimer\u001b[0m\u001b[1;33m(\u001b[0m\u001b[1;34m\"Full model run\"\u001b[0m\u001b[1;33m)\u001b[0m\u001b[1;33m:\u001b[0m\u001b[1;33m\u001b[0m\u001b[0m\n\u001b[1;32m--> 364\u001b[1;33m         \u001b[0mmain\u001b[0m\u001b[1;33m(\u001b[0m\u001b[1;33m)\u001b[0m\u001b[1;33m\u001b[0m\u001b[0m\n\u001b[0m",
      "\u001b[1;32m<ipython-input-79-1045e3a87a73>\u001b[0m in \u001b[0;36mmain\u001b[1;34m(debug)\u001b[0m\n\u001b[0;32m    333\u001b[0m \u001b[1;31m#         gc.collect()\u001b[0m\u001b[1;33m\u001b[0m\u001b[1;33m\u001b[0m\u001b[0m\n\u001b[0;32m    334\u001b[0m     \u001b[1;32mwith\u001b[0m \u001b[0mtimer\u001b[0m\u001b[1;33m(\u001b[0m\u001b[1;34m\"Process previous_applications\"\u001b[0m\u001b[1;33m)\u001b[0m\u001b[1;33m:\u001b[0m\u001b[1;33m\u001b[0m\u001b[0m\n\u001b[1;32m--> 335\u001b[1;33m         \u001b[0mprev\u001b[0m \u001b[1;33m=\u001b[0m \u001b[0mprevious_applications\u001b[0m\u001b[1;33m(\u001b[0m\u001b[0mnum_rows\u001b[0m\u001b[1;33m)\u001b[0m\u001b[1;33m\u001b[0m\u001b[0m\n\u001b[0m\u001b[0;32m    336\u001b[0m         \u001b[0mprint\u001b[0m\u001b[1;33m(\u001b[0m\u001b[1;34m\"Previous applications df shape:\"\u001b[0m\u001b[1;33m,\u001b[0m \u001b[0mprev\u001b[0m\u001b[1;33m.\u001b[0m\u001b[0mshape\u001b[0m\u001b[1;33m)\u001b[0m\u001b[1;33m\u001b[0m\u001b[0m\n\u001b[0;32m    337\u001b[0m         \u001b[0mdf\u001b[0m \u001b[1;33m=\u001b[0m \u001b[0mdf\u001b[0m\u001b[1;33m.\u001b[0m\u001b[0mjoin\u001b[0m\u001b[1;33m(\u001b[0m\u001b[0mprev\u001b[0m\u001b[1;33m,\u001b[0m \u001b[0mhow\u001b[0m\u001b[1;33m=\u001b[0m\u001b[1;34m'left'\u001b[0m\u001b[1;33m,\u001b[0m \u001b[0mon\u001b[0m\u001b[1;33m=\u001b[0m\u001b[1;34m'SK_ID_CURR'\u001b[0m\u001b[1;33m)\u001b[0m\u001b[1;33m\u001b[0m\u001b[0m\n",
      "\u001b[1;32m<ipython-input-79-1045e3a87a73>\u001b[0m in \u001b[0;36mprevious_applications\u001b[1;34m(num_rows, nan_as_category)\u001b[0m\n\u001b[0;32m    171\u001b[0m     \u001b[0mapproved_agg\u001b[0m \u001b[1;33m=\u001b[0m \u001b[0mapproved\u001b[0m\u001b[1;33m.\u001b[0m\u001b[0mgroupby\u001b[0m\u001b[1;33m(\u001b[0m\u001b[1;34m'SK_ID_CURR'\u001b[0m\u001b[1;33m)\u001b[0m\u001b[1;33m.\u001b[0m\u001b[0magg\u001b[0m\u001b[1;33m(\u001b[0m\u001b[0mnum_aggregations\u001b[0m\u001b[1;33m)\u001b[0m\u001b[1;33m\u001b[0m\u001b[0m\n\u001b[0;32m    172\u001b[0m     \u001b[0mapproved_agg\u001b[0m\u001b[1;33m.\u001b[0m\u001b[0mcolumns\u001b[0m \u001b[1;33m=\u001b[0m \u001b[0mpd\u001b[0m\u001b[1;33m.\u001b[0m\u001b[0mIndex\u001b[0m\u001b[1;33m(\u001b[0m\u001b[1;33m[\u001b[0m\u001b[1;34m'APPROVED_'\u001b[0m \u001b[1;33m+\u001b[0m \u001b[0me\u001b[0m\u001b[1;33m[\u001b[0m\u001b[1;36m0\u001b[0m\u001b[1;33m]\u001b[0m \u001b[1;33m+\u001b[0m \u001b[1;34m\"_\"\u001b[0m \u001b[1;33m+\u001b[0m \u001b[0me\u001b[0m\u001b[1;33m[\u001b[0m\u001b[1;36m1\u001b[0m\u001b[1;33m]\u001b[0m\u001b[1;33m.\u001b[0m\u001b[0mupper\u001b[0m\u001b[1;33m(\u001b[0m\u001b[1;33m)\u001b[0m \u001b[1;32mfor\u001b[0m \u001b[0me\u001b[0m \u001b[1;32min\u001b[0m \u001b[0mapproved_agg\u001b[0m\u001b[1;33m.\u001b[0m\u001b[0mcolumns\u001b[0m\u001b[1;33m.\u001b[0m\u001b[0mtolist\u001b[0m\u001b[1;33m(\u001b[0m\u001b[1;33m)\u001b[0m\u001b[1;33m]\u001b[0m\u001b[1;33m)\u001b[0m\u001b[1;33m\u001b[0m\u001b[0m\n\u001b[1;32m--> 173\u001b[1;33m     \u001b[0mprev_agg\u001b[0m \u001b[1;33m=\u001b[0m \u001b[0mprev_agg\u001b[0m\u001b[1;33m.\u001b[0m\u001b[0mjoin\u001b[0m\u001b[1;33m(\u001b[0m\u001b[0mapproved_agg\u001b[0m\u001b[1;33m,\u001b[0m \u001b[0mhow\u001b[0m\u001b[1;33m=\u001b[0m\u001b[1;34m'left'\u001b[0m\u001b[1;33m,\u001b[0m \u001b[0mon\u001b[0m\u001b[1;33m=\u001b[0m\u001b[1;34m'SK_ID_CURR'\u001b[0m\u001b[1;33m)\u001b[0m\u001b[1;33m\u001b[0m\u001b[0m\n\u001b[0m\u001b[0;32m    174\u001b[0m     \u001b[1;31m# Previous Applications: Refused Applications - only numerical features\u001b[0m\u001b[1;33m\u001b[0m\u001b[1;33m\u001b[0m\u001b[0m\n\u001b[0;32m    175\u001b[0m     \u001b[0mrefused\u001b[0m \u001b[1;33m=\u001b[0m \u001b[0mprev\u001b[0m\u001b[1;33m[\u001b[0m\u001b[0mprev\u001b[0m\u001b[1;33m[\u001b[0m\u001b[1;34m'NAME_CONTRACT_STATUS_Refused'\u001b[0m\u001b[1;33m]\u001b[0m \u001b[1;33m==\u001b[0m \u001b[1;36m1\u001b[0m\u001b[1;33m]\u001b[0m\u001b[1;33m\u001b[0m\u001b[0m\n",
      "\u001b[1;32mc:\\users\\karti\\appdata\\local\\programs\\python\\python36\\lib\\site-packages\\pandas\\core\\frame.py\u001b[0m in \u001b[0;36mjoin\u001b[1;34m(self, other, on, how, lsuffix, rsuffix, sort)\u001b[0m\n\u001b[0;32m   5314\u001b[0m         \u001b[1;31m# For SparseDataFrame's benefit\u001b[0m\u001b[1;33m\u001b[0m\u001b[1;33m\u001b[0m\u001b[0m\n\u001b[0;32m   5315\u001b[0m         return self._join_compat(other, on=on, how=how, lsuffix=lsuffix,\n\u001b[1;32m-> 5316\u001b[1;33m                                  rsuffix=rsuffix, sort=sort)\n\u001b[0m\u001b[0;32m   5317\u001b[0m \u001b[1;33m\u001b[0m\u001b[0m\n\u001b[0;32m   5318\u001b[0m     def _join_compat(self, other, on=None, how='left', lsuffix='', rsuffix='',\n",
      "\u001b[1;32mc:\\users\\karti\\appdata\\local\\programs\\python\\python36\\lib\\site-packages\\pandas\\core\\frame.py\u001b[0m in \u001b[0;36m_join_compat\u001b[1;34m(self, other, on, how, lsuffix, rsuffix, sort)\u001b[0m\n\u001b[0;32m   5329\u001b[0m             return merge(self, other, left_on=on, how=how,\n\u001b[0;32m   5330\u001b[0m                          \u001b[0mleft_index\u001b[0m\u001b[1;33m=\u001b[0m\u001b[0mon\u001b[0m \u001b[1;32mis\u001b[0m \u001b[1;32mNone\u001b[0m\u001b[1;33m,\u001b[0m \u001b[0mright_index\u001b[0m\u001b[1;33m=\u001b[0m\u001b[1;32mTrue\u001b[0m\u001b[1;33m,\u001b[0m\u001b[1;33m\u001b[0m\u001b[0m\n\u001b[1;32m-> 5331\u001b[1;33m                          suffixes=(lsuffix, rsuffix), sort=sort)\n\u001b[0m\u001b[0;32m   5332\u001b[0m         \u001b[1;32melse\u001b[0m\u001b[1;33m:\u001b[0m\u001b[1;33m\u001b[0m\u001b[0m\n\u001b[0;32m   5333\u001b[0m             \u001b[1;32mif\u001b[0m \u001b[0mon\u001b[0m \u001b[1;32mis\u001b[0m \u001b[1;32mnot\u001b[0m \u001b[1;32mNone\u001b[0m\u001b[1;33m:\u001b[0m\u001b[1;33m\u001b[0m\u001b[0m\n",
      "\u001b[1;32mc:\\users\\karti\\appdata\\local\\programs\\python\\python36\\lib\\site-packages\\pandas\\core\\reshape\\merge.py\u001b[0m in \u001b[0;36mmerge\u001b[1;34m(left, right, how, on, left_on, right_on, left_index, right_index, sort, suffixes, copy, indicator, validate)\u001b[0m\n\u001b[0;32m     55\u001b[0m                          \u001b[0mright_index\u001b[0m\u001b[1;33m=\u001b[0m\u001b[0mright_index\u001b[0m\u001b[1;33m,\u001b[0m \u001b[0msort\u001b[0m\u001b[1;33m=\u001b[0m\u001b[0msort\u001b[0m\u001b[1;33m,\u001b[0m \u001b[0msuffixes\u001b[0m\u001b[1;33m=\u001b[0m\u001b[0msuffixes\u001b[0m\u001b[1;33m,\u001b[0m\u001b[1;33m\u001b[0m\u001b[0m\n\u001b[0;32m     56\u001b[0m                          \u001b[0mcopy\u001b[0m\u001b[1;33m=\u001b[0m\u001b[0mcopy\u001b[0m\u001b[1;33m,\u001b[0m \u001b[0mindicator\u001b[0m\u001b[1;33m=\u001b[0m\u001b[0mindicator\u001b[0m\u001b[1;33m,\u001b[0m\u001b[1;33m\u001b[0m\u001b[0m\n\u001b[1;32m---> 57\u001b[1;33m                          validate=validate)\n\u001b[0m\u001b[0;32m     58\u001b[0m     \u001b[1;32mreturn\u001b[0m \u001b[0mop\u001b[0m\u001b[1;33m.\u001b[0m\u001b[0mget_result\u001b[0m\u001b[1;33m(\u001b[0m\u001b[1;33m)\u001b[0m\u001b[1;33m\u001b[0m\u001b[0m\n\u001b[0;32m     59\u001b[0m \u001b[1;33m\u001b[0m\u001b[0m\n",
      "\u001b[1;32mc:\\users\\karti\\appdata\\local\\programs\\python\\python36\\lib\\site-packages\\pandas\\core\\reshape\\merge.py\u001b[0m in \u001b[0;36m__init__\u001b[1;34m(self, left, right, how, on, left_on, right_on, axis, left_index, right_index, sort, suffixes, copy, indicator, validate)\u001b[0m\n\u001b[0;32m    563\u001b[0m         (self.left_join_keys,\n\u001b[0;32m    564\u001b[0m          \u001b[0mself\u001b[0m\u001b[1;33m.\u001b[0m\u001b[0mright_join_keys\u001b[0m\u001b[1;33m,\u001b[0m\u001b[1;33m\u001b[0m\u001b[0m\n\u001b[1;32m--> 565\u001b[1;33m          self.join_names) = self._get_merge_keys()\n\u001b[0m\u001b[0;32m    566\u001b[0m \u001b[1;33m\u001b[0m\u001b[0m\n\u001b[0;32m    567\u001b[0m         \u001b[1;31m# validate the merge keys dtypes. We may need to coerce\u001b[0m\u001b[1;33m\u001b[0m\u001b[1;33m\u001b[0m\u001b[0m\n",
      "\u001b[1;32mc:\\users\\karti\\appdata\\local\\programs\\python\\python36\\lib\\site-packages\\pandas\\core\\reshape\\merge.py\u001b[0m in \u001b[0;36m_get_merge_keys\u001b[1;34m(self)\u001b[0m\n\u001b[0;32m    847\u001b[0m                     \u001b[0mjoin_names\u001b[0m\u001b[1;33m.\u001b[0m\u001b[0mappend\u001b[0m\u001b[1;33m(\u001b[0m\u001b[1;32mNone\u001b[0m\u001b[1;33m)\u001b[0m\u001b[1;33m\u001b[0m\u001b[0m\n\u001b[0;32m    848\u001b[0m                 \u001b[1;32melse\u001b[0m\u001b[1;33m:\u001b[0m\u001b[1;33m\u001b[0m\u001b[0m\n\u001b[1;32m--> 849\u001b[1;33m                     \u001b[0mleft_keys\u001b[0m\u001b[1;33m.\u001b[0m\u001b[0mappend\u001b[0m\u001b[1;33m(\u001b[0m\u001b[0mleft\u001b[0m\u001b[1;33m[\u001b[0m\u001b[0mk\u001b[0m\u001b[1;33m]\u001b[0m\u001b[1;33m.\u001b[0m\u001b[0m_values\u001b[0m\u001b[1;33m)\u001b[0m\u001b[1;33m\u001b[0m\u001b[0m\n\u001b[0m\u001b[0;32m    850\u001b[0m                     \u001b[0mjoin_names\u001b[0m\u001b[1;33m.\u001b[0m\u001b[0mappend\u001b[0m\u001b[1;33m(\u001b[0m\u001b[0mk\u001b[0m\u001b[1;33m)\u001b[0m\u001b[1;33m\u001b[0m\u001b[0m\n\u001b[0;32m    851\u001b[0m             \u001b[1;32mif\u001b[0m \u001b[0misinstance\u001b[0m\u001b[1;33m(\u001b[0m\u001b[0mself\u001b[0m\u001b[1;33m.\u001b[0m\u001b[0mright\u001b[0m\u001b[1;33m.\u001b[0m\u001b[0mindex\u001b[0m\u001b[1;33m,\u001b[0m \u001b[0mMultiIndex\u001b[0m\u001b[1;33m)\u001b[0m\u001b[1;33m:\u001b[0m\u001b[1;33m\u001b[0m\u001b[0m\n",
      "\u001b[1;32mc:\\users\\karti\\appdata\\local\\programs\\python\\python36\\lib\\site-packages\\pandas\\core\\frame.py\u001b[0m in \u001b[0;36m__getitem__\u001b[1;34m(self, key)\u001b[0m\n\u001b[0;32m   2137\u001b[0m             \u001b[1;32mreturn\u001b[0m \u001b[0mself\u001b[0m\u001b[1;33m.\u001b[0m\u001b[0m_getitem_multilevel\u001b[0m\u001b[1;33m(\u001b[0m\u001b[0mkey\u001b[0m\u001b[1;33m)\u001b[0m\u001b[1;33m\u001b[0m\u001b[0m\n\u001b[0;32m   2138\u001b[0m         \u001b[1;32melse\u001b[0m\u001b[1;33m:\u001b[0m\u001b[1;33m\u001b[0m\u001b[0m\n\u001b[1;32m-> 2139\u001b[1;33m             \u001b[1;32mreturn\u001b[0m \u001b[0mself\u001b[0m\u001b[1;33m.\u001b[0m\u001b[0m_getitem_column\u001b[0m\u001b[1;33m(\u001b[0m\u001b[0mkey\u001b[0m\u001b[1;33m)\u001b[0m\u001b[1;33m\u001b[0m\u001b[0m\n\u001b[0m\u001b[0;32m   2140\u001b[0m \u001b[1;33m\u001b[0m\u001b[0m\n\u001b[0;32m   2141\u001b[0m     \u001b[1;32mdef\u001b[0m \u001b[0m_getitem_column\u001b[0m\u001b[1;33m(\u001b[0m\u001b[0mself\u001b[0m\u001b[1;33m,\u001b[0m \u001b[0mkey\u001b[0m\u001b[1;33m)\u001b[0m\u001b[1;33m:\u001b[0m\u001b[1;33m\u001b[0m\u001b[0m\n",
      "\u001b[1;32mc:\\users\\karti\\appdata\\local\\programs\\python\\python36\\lib\\site-packages\\pandas\\core\\frame.py\u001b[0m in \u001b[0;36m_getitem_column\u001b[1;34m(self, key)\u001b[0m\n\u001b[0;32m   2144\u001b[0m         \u001b[1;31m# get column\u001b[0m\u001b[1;33m\u001b[0m\u001b[1;33m\u001b[0m\u001b[0m\n\u001b[0;32m   2145\u001b[0m         \u001b[1;32mif\u001b[0m \u001b[0mself\u001b[0m\u001b[1;33m.\u001b[0m\u001b[0mcolumns\u001b[0m\u001b[1;33m.\u001b[0m\u001b[0mis_unique\u001b[0m\u001b[1;33m:\u001b[0m\u001b[1;33m\u001b[0m\u001b[0m\n\u001b[1;32m-> 2146\u001b[1;33m             \u001b[1;32mreturn\u001b[0m \u001b[0mself\u001b[0m\u001b[1;33m.\u001b[0m\u001b[0m_get_item_cache\u001b[0m\u001b[1;33m(\u001b[0m\u001b[0mkey\u001b[0m\u001b[1;33m)\u001b[0m\u001b[1;33m\u001b[0m\u001b[0m\n\u001b[0m\u001b[0;32m   2147\u001b[0m \u001b[1;33m\u001b[0m\u001b[0m\n\u001b[0;32m   2148\u001b[0m         \u001b[1;31m# duplicate columns & possible reduce dimensionality\u001b[0m\u001b[1;33m\u001b[0m\u001b[1;33m\u001b[0m\u001b[0m\n",
      "\u001b[1;32mc:\\users\\karti\\appdata\\local\\programs\\python\\python36\\lib\\site-packages\\pandas\\core\\generic.py\u001b[0m in \u001b[0;36m_get_item_cache\u001b[1;34m(self, item)\u001b[0m\n\u001b[0;32m   1840\u001b[0m         \u001b[0mres\u001b[0m \u001b[1;33m=\u001b[0m \u001b[0mcache\u001b[0m\u001b[1;33m.\u001b[0m\u001b[0mget\u001b[0m\u001b[1;33m(\u001b[0m\u001b[0mitem\u001b[0m\u001b[1;33m)\u001b[0m\u001b[1;33m\u001b[0m\u001b[0m\n\u001b[0;32m   1841\u001b[0m         \u001b[1;32mif\u001b[0m \u001b[0mres\u001b[0m \u001b[1;32mis\u001b[0m \u001b[1;32mNone\u001b[0m\u001b[1;33m:\u001b[0m\u001b[1;33m\u001b[0m\u001b[0m\n\u001b[1;32m-> 1842\u001b[1;33m             \u001b[0mvalues\u001b[0m \u001b[1;33m=\u001b[0m \u001b[0mself\u001b[0m\u001b[1;33m.\u001b[0m\u001b[0m_data\u001b[0m\u001b[1;33m.\u001b[0m\u001b[0mget\u001b[0m\u001b[1;33m(\u001b[0m\u001b[0mitem\u001b[0m\u001b[1;33m)\u001b[0m\u001b[1;33m\u001b[0m\u001b[0m\n\u001b[0m\u001b[0;32m   1843\u001b[0m             \u001b[0mres\u001b[0m \u001b[1;33m=\u001b[0m \u001b[0mself\u001b[0m\u001b[1;33m.\u001b[0m\u001b[0m_box_item_values\u001b[0m\u001b[1;33m(\u001b[0m\u001b[0mitem\u001b[0m\u001b[1;33m,\u001b[0m \u001b[0mvalues\u001b[0m\u001b[1;33m)\u001b[0m\u001b[1;33m\u001b[0m\u001b[0m\n\u001b[0;32m   1844\u001b[0m             \u001b[0mcache\u001b[0m\u001b[1;33m[\u001b[0m\u001b[0mitem\u001b[0m\u001b[1;33m]\u001b[0m \u001b[1;33m=\u001b[0m \u001b[0mres\u001b[0m\u001b[1;33m\u001b[0m\u001b[0m\n",
      "\u001b[1;32mc:\\users\\karti\\appdata\\local\\programs\\python\\python36\\lib\\site-packages\\pandas\\core\\internals.py\u001b[0m in \u001b[0;36mget\u001b[1;34m(self, item, fastpath)\u001b[0m\n\u001b[0;32m   3841\u001b[0m \u001b[1;33m\u001b[0m\u001b[0m\n\u001b[0;32m   3842\u001b[0m             \u001b[1;32mif\u001b[0m \u001b[1;32mnot\u001b[0m \u001b[0misna\u001b[0m\u001b[1;33m(\u001b[0m\u001b[0mitem\u001b[0m\u001b[1;33m)\u001b[0m\u001b[1;33m:\u001b[0m\u001b[1;33m\u001b[0m\u001b[0m\n\u001b[1;32m-> 3843\u001b[1;33m                 \u001b[0mloc\u001b[0m \u001b[1;33m=\u001b[0m \u001b[0mself\u001b[0m\u001b[1;33m.\u001b[0m\u001b[0mitems\u001b[0m\u001b[1;33m.\u001b[0m\u001b[0mget_loc\u001b[0m\u001b[1;33m(\u001b[0m\u001b[0mitem\u001b[0m\u001b[1;33m)\u001b[0m\u001b[1;33m\u001b[0m\u001b[0m\n\u001b[0m\u001b[0;32m   3844\u001b[0m             \u001b[1;32melse\u001b[0m\u001b[1;33m:\u001b[0m\u001b[1;33m\u001b[0m\u001b[0m\n\u001b[0;32m   3845\u001b[0m                 \u001b[0mindexer\u001b[0m \u001b[1;33m=\u001b[0m \u001b[0mnp\u001b[0m\u001b[1;33m.\u001b[0m\u001b[0marange\u001b[0m\u001b[1;33m(\u001b[0m\u001b[0mlen\u001b[0m\u001b[1;33m(\u001b[0m\u001b[0mself\u001b[0m\u001b[1;33m.\u001b[0m\u001b[0mitems\u001b[0m\u001b[1;33m)\u001b[0m\u001b[1;33m)\u001b[0m\u001b[1;33m[\u001b[0m\u001b[0misna\u001b[0m\u001b[1;33m(\u001b[0m\u001b[0mself\u001b[0m\u001b[1;33m.\u001b[0m\u001b[0mitems\u001b[0m\u001b[1;33m)\u001b[0m\u001b[1;33m]\u001b[0m\u001b[1;33m\u001b[0m\u001b[0m\n",
      "\u001b[1;32mc:\\users\\karti\\appdata\\local\\programs\\python\\python36\\lib\\site-packages\\pandas\\core\\indexes\\base.py\u001b[0m in \u001b[0;36mget_loc\u001b[1;34m(self, key, method, tolerance)\u001b[0m\n\u001b[0;32m   2525\u001b[0m                 \u001b[1;32mreturn\u001b[0m \u001b[0mself\u001b[0m\u001b[1;33m.\u001b[0m\u001b[0m_engine\u001b[0m\u001b[1;33m.\u001b[0m\u001b[0mget_loc\u001b[0m\u001b[1;33m(\u001b[0m\u001b[0mkey\u001b[0m\u001b[1;33m)\u001b[0m\u001b[1;33m\u001b[0m\u001b[0m\n\u001b[0;32m   2526\u001b[0m             \u001b[1;32mexcept\u001b[0m \u001b[0mKeyError\u001b[0m\u001b[1;33m:\u001b[0m\u001b[1;33m\u001b[0m\u001b[0m\n\u001b[1;32m-> 2527\u001b[1;33m                 \u001b[1;32mreturn\u001b[0m \u001b[0mself\u001b[0m\u001b[1;33m.\u001b[0m\u001b[0m_engine\u001b[0m\u001b[1;33m.\u001b[0m\u001b[0mget_loc\u001b[0m\u001b[1;33m(\u001b[0m\u001b[0mself\u001b[0m\u001b[1;33m.\u001b[0m\u001b[0m_maybe_cast_indexer\u001b[0m\u001b[1;33m(\u001b[0m\u001b[0mkey\u001b[0m\u001b[1;33m)\u001b[0m\u001b[1;33m)\u001b[0m\u001b[1;33m\u001b[0m\u001b[0m\n\u001b[0m\u001b[0;32m   2528\u001b[0m \u001b[1;33m\u001b[0m\u001b[0m\n\u001b[0;32m   2529\u001b[0m         \u001b[0mindexer\u001b[0m \u001b[1;33m=\u001b[0m \u001b[0mself\u001b[0m\u001b[1;33m.\u001b[0m\u001b[0mget_indexer\u001b[0m\u001b[1;33m(\u001b[0m\u001b[1;33m[\u001b[0m\u001b[0mkey\u001b[0m\u001b[1;33m]\u001b[0m\u001b[1;33m,\u001b[0m \u001b[0mmethod\u001b[0m\u001b[1;33m=\u001b[0m\u001b[0mmethod\u001b[0m\u001b[1;33m,\u001b[0m \u001b[0mtolerance\u001b[0m\u001b[1;33m=\u001b[0m\u001b[0mtolerance\u001b[0m\u001b[1;33m)\u001b[0m\u001b[1;33m\u001b[0m\u001b[0m\n",
      "\u001b[1;32mpandas\\_libs\\index.pyx\u001b[0m in \u001b[0;36mpandas._libs.index.IndexEngine.get_loc\u001b[1;34m()\u001b[0m\n",
      "\u001b[1;32mpandas\\_libs\\index.pyx\u001b[0m in \u001b[0;36mpandas._libs.index.IndexEngine.get_loc\u001b[1;34m()\u001b[0m\n",
      "\u001b[1;32mpandas\\_libs\\hashtable_class_helper.pxi\u001b[0m in \u001b[0;36mpandas._libs.hashtable.PyObjectHashTable.get_item\u001b[1;34m()\u001b[0m\n",
      "\u001b[1;32mpandas\\_libs\\hashtable_class_helper.pxi\u001b[0m in \u001b[0;36mpandas._libs.hashtable.PyObjectHashTable.get_item\u001b[1;34m()\u001b[0m\n",
      "\u001b[1;31mKeyError\u001b[0m: 'SK_ID_CURR'"
     ]
    }
   ],
   "source": [
    "# Forked from excellent kernel : https://www.kaggle.com/jsaguiar/updated-0-792-lb-lightgbm-with-simple-features\n",
    "# From Kaggler : https://www.kaggle.com/jsaguiar\n",
    "# Just removed a few min, max features. U can see the CV is not good. Dont believe in LB.\n",
    "\n",
    "import numpy as np\n",
    "import pandas as pd\n",
    "import gc\n",
    "import time\n",
    "from contextlib import contextmanager\n",
    "from lightgbm import LGBMClassifier\n",
    "from sklearn.metrics import roc_auc_score, roc_curve\n",
    "from sklearn.model_selection import KFold, StratifiedKFold\n",
    "import matplotlib.pyplot as plt\n",
    "import seaborn as sns\n",
    "import warnings\n",
    "warnings.simplefilter(action='ignore', category=FutureWarning)\n",
    "\n",
    "@contextmanager\n",
    "def timer(title):\n",
    "    t0 = time.time()\n",
    "    yield\n",
    "    print(\"{} - done in {:.0f}s\".format(title, time.time() - t0))\n",
    "\n",
    "# One-hot encoding for categorical columns with get_dummies\n",
    "def one_hot_encoder(df, nan_as_category = True):\n",
    "    original_columns = list(df.columns)\n",
    "    categorical_columns = [col for col in df.columns if df[col].dtype == 'object']\n",
    "    df = pd.get_dummies(df, columns= categorical_columns, dummy_na= nan_as_category)\n",
    "    new_columns = [c for c in df.columns if c not in original_columns]\n",
    "    return df, new_columns\n",
    "\n",
    "# Preprocess application_train.csv and application_test.csv\n",
    "def application_train_test(num_rows = None, nan_as_category = False):\n",
    "    # Read data and merge\n",
    "    df = pd.read_csv('../data/application_train.csv', nrows= num_rows)\n",
    "    test_df = pd.read_csv('../data/application_test.csv', nrows= num_rows)\n",
    "    print(\"Train samples: {}, test samples: {}\".format(len(df), len(test_df)))\n",
    "    df = df.append(test_df).reset_index()\n",
    "    # Optional: Remove 4 applications with XNA CODE_GENDER (train set)\n",
    "    df = df[df['CODE_GENDER'] != 'XNA']\n",
    "    \n",
    "    docs = [_f for _f in df.columns if 'FLAG_DOC' in _f]\n",
    "    live = [_f for _f in df.columns if ('FLAG_' in _f) & ('FLAG_DOC' not in _f) & ('_FLAG_' not in _f)]\n",
    "    \n",
    "    # NaN values for DAYS_EMPLOYED: 365.243 -> nan\n",
    "    df['DAYS_EMPLOYED'].replace(365243, np.nan, inplace= True)\n",
    "\n",
    "    inc_by_org = df[['AMT_INCOME_TOTAL', 'ORGANIZATION_TYPE']].groupby('ORGANIZATION_TYPE').median()['AMT_INCOME_TOTAL']\n",
    "\n",
    "    df['NEW_CREDIT_TO_ANNUITY_RATIO'] = df['AMT_CREDIT'] / df['AMT_ANNUITY']\n",
    "    df['NEW_CREDIT_TO_GOODS_RATIO'] = df['AMT_CREDIT'] / df['AMT_GOODS_PRICE']\n",
    "    df['NEW_DOC_IND_KURT'] = df[docs].kurtosis(axis=1)\n",
    "    df['NEW_LIVE_IND_SUM'] = df[live].sum(axis=1)\n",
    "    df['NEW_INC_PER_CHLD'] = df['AMT_INCOME_TOTAL'] / (1 + df['CNT_CHILDREN'])\n",
    "    df['NEW_INC_BY_ORG'] = df['ORGANIZATION_TYPE'].map(inc_by_org)\n",
    "    df['NEW_EMPLOY_TO_BIRTH_RATIO'] = df['DAYS_EMPLOYED'] / df['DAYS_BIRTH']\n",
    "    df['NEW_ANNUITY_TO_INCOME_RATIO'] = df['AMT_ANNUITY'] / (1 + df['AMT_INCOME_TOTAL'])\n",
    "    df['NEW_SOURCES_PROD'] = df['EXT_SOURCE_1'] * df['EXT_SOURCE_2'] * df['EXT_SOURCE_3']\n",
    "    df['NEW_EXT_SOURCES_MEAN'] = df[['EXT_SOURCE_1', 'EXT_SOURCE_2', 'EXT_SOURCE_3']].mean(axis=1)\n",
    "    df['NEW_SCORES_STD'] = df[['EXT_SOURCE_1', 'EXT_SOURCE_2', 'EXT_SOURCE_3']].std(axis=1)\n",
    "    df['NEW_SCORES_STD'] = df['NEW_SCORES_STD'].fillna(df['NEW_SCORES_STD'].mean())\n",
    "    df['NEW_CAR_TO_BIRTH_RATIO'] = df['OWN_CAR_AGE'] / df['DAYS_BIRTH']\n",
    "    df['NEW_CAR_TO_EMPLOY_RATIO'] = df['OWN_CAR_AGE'] / df['DAYS_EMPLOYED']\n",
    "    df['NEW_PHONE_TO_BIRTH_RATIO'] = df['DAYS_LAST_PHONE_CHANGE'] / df['DAYS_BIRTH']\n",
    "    df['NEW_PHONE_TO_BIRTH_RATIO'] = df['DAYS_LAST_PHONE_CHANGE'] / df['DAYS_EMPLOYED']\n",
    "    df['NEW_CREDIT_TO_INCOME_RATIO'] = df['AMT_CREDIT'] / df['AMT_INCOME_TOTAL']\n",
    "    \n",
    "    # Categorical features with Binary encode (0 or 1; two categories)\n",
    "    for bin_feature in ['CODE_GENDER', 'FLAG_OWN_CAR', 'FLAG_OWN_REALTY']:\n",
    "        df[bin_feature], uniques = pd.factorize(df[bin_feature])\n",
    "    # Categorical features with One-Hot encode\n",
    "    df, cat_cols = one_hot_encoder(df, nan_as_category)\n",
    "    \n",
    "\n",
    "    del test_df\n",
    "    gc.collect()\n",
    "    return df\n",
    "\n",
    "# Preprocess bureau.csv and bureau_balance.csv\n",
    "def bureau_and_balance(num_rows = None, nan_as_category = True):\n",
    "    bureau = pd.read_csv('../data/bureau.csv', nrows = num_rows)\n",
    "    bb = pd.read_csv('../data/bureau_balance.csv', nrows = num_rows)\n",
    "    bb, bb_cat = one_hot_encoder(bb, nan_as_category)\n",
    "    bureau, bureau_cat = one_hot_encoder(bureau, nan_as_category)\n",
    "    \n",
    "    # Bureau balance: Perform aggregations and merge with bureau.csv\n",
    "    bb_aggregations = {'MONTHS_BALANCE': ['min', 'max', 'size']}\n",
    "    for col in bb_cat:\n",
    "        bb_aggregations[col] = ['mean']\n",
    "    bb_agg = bb.groupby('SK_ID_BUREAU').agg(bb_aggregations)\n",
    "    bb_agg.columns = pd.Index([e[0] + \"_\" + e[1].upper() for e in bb_agg.columns.tolist()])\n",
    "    bureau = bureau.join(bb_agg, how='left', on='SK_ID_BUREAU')\n",
    "    bureau.drop(['SK_ID_BUREAU'], axis=1, inplace= True)\n",
    "    del bb, bb_agg\n",
    "    gc.collect()\n",
    "    \n",
    "    # Bureau and bureau_balance numeric features\n",
    "    num_aggregations = {\n",
    "        'DAYS_CREDIT': [ 'mean', 'var'],\n",
    "        'DAYS_CREDIT_ENDDATE': [ 'mean'],\n",
    "        'DAYS_CREDIT_UPDATE': ['mean'],\n",
    "        'CREDIT_DAY_OVERDUE': ['mean'],\n",
    "        'AMT_CREDIT_MAX_OVERDUE': ['mean'],\n",
    "        'AMT_CREDIT_SUM': [ 'mean', 'sum'],\n",
    "        'AMT_CREDIT_SUM_DEBT': [ 'mean', 'sum'],\n",
    "        'AMT_CREDIT_SUM_OVERDUE': ['mean'],\n",
    "        'AMT_CREDIT_SUM_LIMIT': ['mean', 'sum'],\n",
    "        'AMT_ANNUITY': ['max', 'mean'],\n",
    "        'CNT_CREDIT_PROLONG': ['sum'],\n",
    "        'MONTHS_BALANCE_MIN': ['min'],\n",
    "        'MONTHS_BALANCE_MAX': ['max'],\n",
    "        'MONTHS_BALANCE_SIZE': ['mean', 'sum']\n",
    "    }\n",
    "    # Bureau and bureau_balance categorical features\n",
    "    cat_aggregations = {}\n",
    "    for cat in bureau_cat: cat_aggregations[cat] = ['mean']\n",
    "    for cat in bb_cat: cat_aggregations[cat + \"_MEAN\"] = ['mean']\n",
    "    \n",
    "    bureau_agg = bureau.groupby('SK_ID_CURR').agg({**num_aggregations, **cat_aggregations})\n",
    "    bureau_agg.columns = pd.Index(['BURO_' + e[0] + \"_\" + e[1].upper() for e in bureau_agg.columns.tolist()])\n",
    "    # Bureau: Active credits - using only numerical aggregations\n",
    "    active = bureau[bureau['CREDIT_ACTIVE_Active'] == 1]\n",
    "    active_agg = active.groupby('SK_ID_CURR').agg(num_aggregations)\n",
    "    active_agg.columns = pd.Index(['ACTIVE_' + e[0] + \"_\" + e[1].upper() for e in active_agg.columns.tolist()])\n",
    "    bureau_agg = bureau_agg.join(active_agg, how='left', on='SK_ID_CURR')\n",
    "    del active, active_agg\n",
    "    gc.collect()\n",
    "    # Bureau: Closed credits - using only numerical aggregations\n",
    "    closed = bureau[bureau['CREDIT_ACTIVE_Closed'] == 1]\n",
    "    closed_agg = closed.groupby('SK_ID_CURR').agg(num_aggregations)\n",
    "    closed_agg.columns = pd.Index(['CLOSED_' + e[0] + \"_\" + e[1].upper() for e in closed_agg.columns.tolist()])\n",
    "    bureau_agg = bureau_agg.join(closed_agg, how='left', on='SK_ID_CURR')\n",
    "    del closed, closed_agg, bureau\n",
    "    gc.collect()\n",
    "    return bureau_agg\n",
    "\n",
    "# Preprocess previous_applications.csv\n",
    "def previous_applications(num_rows = None, nan_as_category = True):\n",
    "    prev = pd.read_csv('../data/previous_application.csv', nrows = num_rows)\n",
    "    prev, cat_cols = one_hot_encoder(prev, nan_as_category= True)\n",
    "    # Days 365.243 values -> nan\n",
    "    prev['DAYS_FIRST_DRAWING'].replace(365243, np.nan, inplace= True)\n",
    "    prev['DAYS_FIRST_DUE'].replace(365243, np.nan, inplace= True)\n",
    "    prev['DAYS_LAST_DUE_1ST_VERSION'].replace(365243, np.nan, inplace= True)\n",
    "    prev['DAYS_LAST_DUE'].replace(365243, np.nan, inplace= True)\n",
    "    prev['DAYS_TERMINATION'].replace(365243, np.nan, inplace= True)\n",
    "    # Add feature: value ask / value received percentage\n",
    "    prev['APP_CREDIT_PERC'] = prev['AMT_APPLICATION'] / prev['AMT_CREDIT']\n",
    "    # Previous applications numeric features\n",
    "    num_aggregations = {\n",
    "        'AMT_ANNUITY': [ 'max', 'mean'],\n",
    "        'AMT_APPLICATION': [ 'max','mean'],\n",
    "        'AMT_CREDIT': [ 'max', 'mean'],\n",
    "        'APP_CREDIT_PERC': [ 'max', 'mean'],\n",
    "        'AMT_DOWN_PAYMENT': [ 'max', 'mean'],\n",
    "        'AMT_GOODS_PRICE': [ 'max', 'mean'],\n",
    "        'HOUR_APPR_PROCESS_START': [ 'max', 'mean'],\n",
    "        'RATE_DOWN_PAYMENT': [ 'max', 'mean'],\n",
    "        'DAYS_DECISION': [ 'max', 'mean'],\n",
    "        'CNT_PAYMENT': ['mean', 'sum'],\n",
    "    }\n",
    "    # Previous applications categorical features\n",
    "    cat_aggregations = {}\n",
    "    for cat in cat_cols:\n",
    "        cat_aggregations[cat] = ['mean']\n",
    "    \n",
    "    prev_agg = prev.groupby('SK_ID_CURR').agg({**num_aggregations, **cat_aggregations})\n",
    "    prev_agg.columns = pd.Index(['PREV_' + e[0] + \"_\" + e[1].upper() for e in prev_agg.columns.tolist()])\n",
    "    # Previous Applications: Approved Applications - only numerical features\n",
    "    approved = prev[prev['NAME_CONTRACT_STATUS_Approved'] == 1]\n",
    "    approved_agg = approved.groupby('SK_ID_CURR').agg(num_aggregations)\n",
    "    approved_agg.columns = pd.Index(['APPROVED_' + e[0] + \"_\" + e[1].upper() for e in approved_agg.columns.tolist()])\n",
    "    prev_agg = prev_agg.join(approved_agg, how='left', on='SK_ID_CURR')\n",
    "    # Previous Applications: Refused Applications - only numerical features\n",
    "    refused = prev[prev['NAME_CONTRACT_STATUS_Refused'] == 1]\n",
    "    refused_agg = refused.groupby('SK_ID_CURR').agg(num_aggregations)\n",
    "    refused_agg.columns = pd.Index(['REFUSED_' + e[0] + \"_\" + e[1].upper() for e in refused_agg.columns.tolist()])\n",
    "    prev_agg = prev_agg.join(refused_agg, how='left', on='SK_ID_CURR')\n",
    "    del refused, refused_agg, approved, approved_agg, prev\n",
    "    gc.collect()\n",
    "    return prev_agg\n",
    "\n",
    "# Preprocess POS_CASH_balance.csv\n",
    "def pos_cash(num_rows = None, nan_as_category = True):\n",
    "    pos = pd.read_csv('../data/POS_CASH_balance.csv', nrows = num_rows)\n",
    "    pos, cat_cols = one_hot_encoder(pos, nan_as_category= True)\n",
    "    # Features\n",
    "    aggregations = {\n",
    "        'MONTHS_BALANCE': ['max', 'mean', 'size'],\n",
    "        'SK_DPD': ['max', 'mean'],\n",
    "        'SK_DPD_DEF': ['max', 'mean']\n",
    "    }\n",
    "    for cat in cat_cols:\n",
    "        aggregations[cat] = ['mean']\n",
    "    \n",
    "    pos_agg = pos.groupby('SK_ID_CURR').agg(aggregations)\n",
    "    pos_agg.columns = pd.Index(['POS_' + e[0] + \"_\" + e[1].upper() for e in pos_agg.columns.tolist()])\n",
    "    # Count pos cash accounts\n",
    "    pos_agg['POS_COUNT'] = pos.groupby('SK_ID_CURR').size()\n",
    "    del pos\n",
    "    gc.collect()\n",
    "    return pos_agg\n",
    "    \n",
    "# Preprocess installments_payments.csv\n",
    "def installments_payments(num_rows = None, nan_as_category = True):\n",
    "    ins = pd.read_csv('../data/installments_payments.csv', nrows = num_rows)\n",
    "    ins, cat_cols = one_hot_encoder(ins, nan_as_category= True)\n",
    "    # Percentage and difference paid in each installment (amount paid and installment value)\n",
    "    ins['PAYMENT_PERC'] = ins['AMT_PAYMENT'] / ins['AMT_INSTALMENT']\n",
    "    ins['PAYMENT_DIFF'] = ins['AMT_INSTALMENT'] - ins['AMT_PAYMENT']\n",
    "    # Days past due and days before due (no negative values)\n",
    "    ins['DPD'] = ins['DAYS_ENTRY_PAYMENT'] - ins['DAYS_INSTALMENT']\n",
    "    ins['DBD'] = ins['DAYS_INSTALMENT'] - ins['DAYS_ENTRY_PAYMENT']\n",
    "    ins['DPD'] = ins['DPD'].apply(lambda x: x if x > 0 else 0)\n",
    "    ins['DBD'] = ins['DBD'].apply(lambda x: x if x > 0 else 0)\n",
    "    # Features: Perform aggregations\n",
    "    aggregations = {\n",
    "        'NUM_INSTALMENT_VERSION': ['nunique'],\n",
    "        'DPD': ['max', 'mean', 'sum'],\n",
    "        'DBD': ['max', 'mean', 'sum'],\n",
    "        'PAYMENT_PERC': [ 'mean',  'var'],\n",
    "        'PAYMENT_DIFF': [ 'mean', 'var'],\n",
    "        'AMT_INSTALMENT': ['max', 'mean', 'sum'],\n",
    "        'AMT_PAYMENT': ['min', 'max', 'mean', 'sum'],\n",
    "        'DAYS_ENTRY_PAYMENT': ['max', 'mean', 'sum']\n",
    "    }\n",
    "    for cat in cat_cols:\n",
    "        aggregations[cat] = ['mean']\n",
    "    ins_agg = ins.groupby('SK_ID_CURR').agg(aggregations)\n",
    "    ins_agg.columns = pd.Index(['INSTAL_' + e[0] + \"_\" + e[1].upper() for e in ins_agg.columns.tolist()])\n",
    "    # Count installments accounts\n",
    "    ins_agg['INSTAL_COUNT'] = ins.groupby('SK_ID_CURR').size()\n",
    "    del ins\n",
    "    gc.collect()\n",
    "    return ins_agg\n",
    "\n",
    "# Preprocess credit_card_balance.csv\n",
    "def credit_card_balance(num_rows = None, nan_as_category = True):\n",
    "    cc = pd.read_csv('../data/credit_card_balance.csv', nrows = num_rows)\n",
    "    cc, cat_cols = one_hot_encoder(cc, nan_as_category= True)\n",
    "    # General aggregations\n",
    "    cc.drop(['SK_ID_PREV'], axis= 1, inplace = True)\n",
    "    cc_agg = cc.groupby('SK_ID_CURR').agg([ 'max', 'mean', 'sum', 'var'])\n",
    "    cc_agg.columns = pd.Index(['CC_' + e[0] + \"_\" + e[1].upper() for e in cc_agg.columns.tolist()])\n",
    "    # Count credit card lines\n",
    "    cc_agg['CC_COUNT'] = cc.groupby('SK_ID_CURR').size()\n",
    "    del cc\n",
    "    gc.collect()\n",
    "    return cc_agg\n",
    "\n",
    "# LightGBM GBDT with KFold or Stratified KFold\n",
    "# Parameters from Tilii kernel: https://www.kaggle.com/tilii7/olivier-lightgbm-parameters-by-bayesian-opt/code\n",
    "def kfold_lightgbm(df, num_folds, stratified = False, debug= False):\n",
    "    # Divide in training/validation and test data\n",
    "    train_df = df[df['TARGET'].notnull()]\n",
    "    test_df = df[df['TARGET'].isnull()]\n",
    "    print(\"Starting LightGBM. Train shape: {}, test shape: {}\".format(train_df.shape, test_df.shape))\n",
    "    del df\n",
    "    gc.collect()\n",
    "    # Cross validation model\n",
    "    if stratified:\n",
    "        folds = StratifiedKFold(n_splits= num_folds, shuffle=True, random_state=47)\n",
    "    else:\n",
    "        folds = KFold(n_splits= num_folds, shuffle=True, random_state=47)\n",
    "    # Create arrays and dataframes to store results\n",
    "    oof_preds = np.zeros(train_df.shape[0])\n",
    "    sub_preds = np.zeros(test_df.shape[0])\n",
    "    feature_importance_df = pd.DataFrame()\n",
    "    feats = [f for f in train_df.columns if f not in ['TARGET','SK_ID_CURR','SK_ID_BUREAU','SK_ID_PREV','index']]\n",
    "    \n",
    "    for n_fold, (train_idx, valid_idx) in enumerate(folds.split(train_df[feats], train_df['TARGET'])):\n",
    "        train_x, train_y = train_df[feats].iloc[train_idx], train_df['TARGET'].iloc[train_idx]\n",
    "        valid_x, valid_y = train_df[feats].iloc[valid_idx], train_df['TARGET'].iloc[valid_idx]\n",
    "\n",
    "        # LightGBM parameters found by Bayesian optimization\n",
    "        clf = LGBMClassifier(\n",
    "            nthread=4,\n",
    "            n_estimators=10000,\n",
    "            learning_rate=0.02,\n",
    "            num_leaves=32,\n",
    "            colsample_bytree=0.9497036,\n",
    "            subsample=0.8715623,\n",
    "            max_depth=8,\n",
    "            reg_alpha=0.04,\n",
    "            reg_lambda=0.073,\n",
    "            min_split_gain=0.0222415,\n",
    "            min_child_weight=40,\n",
    "            silent=-1,\n",
    "            verbose=-1, )\n",
    "\n",
    "        clf.fit(train_x, train_y, eval_set=[(train_x, train_y), (valid_x, valid_y)], \n",
    "            eval_metric= 'auc', verbose= 100, early_stopping_rounds= 200)\n",
    "\n",
    "        oof_preds[valid_idx] = clf.predict_proba(valid_x, num_iteration=clf.best_iteration_)[:, 1]\n",
    "        sub_preds += clf.predict_proba(test_df[feats], num_iteration=clf.best_iteration_)[:, 1] / folds.n_splits\n",
    "\n",
    "        fold_importance_df = pd.DataFrame()\n",
    "        fold_importance_df[\"feature\"] = feats\n",
    "        fold_importance_df[\"importance\"] = clf.feature_importances_\n",
    "        fold_importance_df[\"fold\"] = n_fold + 1\n",
    "        feature_importance_df = pd.concat([feature_importance_df, fold_importance_df], axis=0)\n",
    "        print('Fold %2d AUC : %.6f' % (n_fold + 1, roc_auc_score(valid_y, oof_preds[valid_idx])))\n",
    "        del clf, train_x, train_y, valid_x, valid_y\n",
    "        gc.collect()\n",
    "\n",
    "    print('Full AUC score %.6f' % roc_auc_score(train_df['TARGET'], oof_preds))\n",
    "    # Write submission file and plot feature importance\n",
    "    if not debug:\n",
    "        test_df['TARGET'] = sub_preds\n",
    "        test_df[['SK_ID_CURR', 'TARGET']].to_csv(submission_file_name, index= False)\n",
    "    display_importances(feature_importance_df)\n",
    "    return feature_importance_df\n",
    "\n",
    "# Display/plot feature importance\n",
    "def display_importances(feature_importance_df_):\n",
    "    cols = feature_importance_df_[[\"feature\", \"importance\"]].groupby(\"feature\").mean().sort_values(by=\"importance\", ascending=False)[:40].index\n",
    "    best_features = feature_importance_df_.loc[feature_importance_df_.feature.isin(cols)]\n",
    "    plt.figure(figsize=(8, 10))\n",
    "    sns.barplot(x=\"importance\", y=\"feature\", data=best_features.sort_values(by=\"importance\", ascending=False))\n",
    "    plt.title('LightGBM Features (avg over folds)')\n",
    "    plt.tight_layout()\n",
    "    plt.savefig('lgbm_importances01.png')\n",
    "\n",
    "\n",
    "def main(debug = False):\n",
    "    num_rows = 10000 if debug else None\n",
    "    df = application_train_test(num_rows)\n",
    "#     with timer(\"Process bureau and bureau_balance\"):\n",
    "#         bureau = bureau_and_balance(num_rows)\n",
    "#         print(\"Bureau df shape:\", bureau.shape)\n",
    "#         df = df.join(bureau, how='left', on='SK_ID_CURR')\n",
    "#         del bureau\n",
    "#         gc.collect()\n",
    "    with timer(\"Process previous_applications\"):\n",
    "        prev = previous_applications(num_rows)\n",
    "        print(\"Previous applications df shape:\", prev.shape)\n",
    "        df = df.join(prev, how='left', on='SK_ID_CURR')\n",
    "        del prev\n",
    "        gc.collect()\n",
    "    with timer(\"Process POS-CASH balance\"):\n",
    "        pos = pos_cash(num_rows)\n",
    "        print(\"Pos-cash balance df shape:\", pos.shape)\n",
    "        df = df.join(pos, how='left', on='SK_ID_CURR')\n",
    "        del pos\n",
    "        gc.collect()\n",
    "    with timer(\"Process installments payments\"):\n",
    "        ins = installments_payments(num_rows)\n",
    "        print(\"Installments payments df shape:\", ins.shape)\n",
    "        df = df.join(ins, how='left', on='SK_ID_CURR')\n",
    "        del ins\n",
    "        gc.collect()\n",
    "    with timer(\"Process credit card balance\"):\n",
    "        cc = credit_card_balance(num_rows)\n",
    "        print(\"Credit card balance df shape:\", cc.shape)\n",
    "        df = df.join(cc, how='left', on='SK_ID_CURR')\n",
    "        del cc\n",
    "        gc.collect()\n",
    "    with timer(\"Run LightGBM with kfold\"):\n",
    "        feat_importance = kfold_lightgbm(df, num_folds= 5, stratified= False, debug= debug)\n",
    "\n",
    "if __name__ == \"__main__\":\n",
    "    submission_file_name = \"submission_kernel02.csv\"\n",
    "    with timer(\"Full model run\"):\n",
    "        main()"
   ]
  },
  {
   "cell_type": "code",
   "execution_count": null,
   "metadata": {},
   "outputs": [],
   "source": []
  },
  {
   "cell_type": "code",
   "execution_count": null,
   "metadata": {},
   "outputs": [],
   "source": []
  },
  {
   "cell_type": "markdown",
   "metadata": {},
   "source": [
    "## Feature: df_installments_payments"
   ]
  },
  {
   "cell_type": "code",
   "execution_count": 17,
   "metadata": {
    "ExecuteTime": {
     "end_time": "2018-06-24T15:06:33.329258Z",
     "start_time": "2018-06-24T15:05:45.339914Z"
    }
   },
   "outputs": [],
   "source": [
    "df_installments_payments['K_PREV_INSTALLMENT_PAYMENT_COUNT'] = df_installments_payments.groupby('SK_ID_CURR')['SK_ID_PREV'].transform('count')\n",
    "\n",
    "# #Note: I haven't added the K_NUM_INSTALMENT_NUMBER_SUM feature since the K_NUM_INSTALMENT_NUMBER_SUM_TO_COUNT_RATIO\n",
    "# #performed better i.e. had a higher value on the feature importance score\n",
    "df_installments_payments['K_NUM_INSTALMENT_NUMBER_SUM'] = df_installments_payments.groupby('SK_ID_CURR')['NUM_INSTALMENT_NUMBER'].transform(np.sum)\n",
    "df_installments_payments['K_NUM_INSTALMENT_NUMBER_SUM_TO_COUNT_RATIO'] = df_installments_payments['K_NUM_INSTALMENT_NUMBER_SUM']/df_installments_payments['K_PREV_INSTALLMENT_PAYMENT_COUNT']\n",
    "\n",
    "df_installments_payments['TEMP_DAYS_INSTALMENT'] = df_installments_payments.groupby('SK_ID_CURR')['DAYS_INSTALMENT'].transform(np.sum)\n",
    "df_installments_payments['TEMP_DAYS_ENTRY_PAYMENT'] = df_installments_payments.groupby('SK_ID_CURR')['DAYS_ENTRY_PAYMENT'].transform(np.sum)\n",
    "df_installments_payments['K_INST_DAYS_DIFF'] = df_installments_payments['TEMP_DAYS_INSTALMENT'] - df_installments_payments['TEMP_DAYS_ENTRY_PAYMENT']\n",
    "df_installments_payments['K_INST_DAYS_DIFF_TO_COUNT_RATIO'] = df_installments_payments['K_INST_DAYS_DIFF']/df_installments_payments['K_PREV_INSTALLMENT_PAYMENT_COUNT']\n",
    "\n",
    "# df_installments_payments['K_DAYS_ENTRY_PAYMENT_MEAN'] = df_installments_payments.groupby('SK_ID_CURR')['DAYS_ENTRY_PAYMENT'].transform(np.mean)\n",
    "df_installments_payments['K_DAYS_ENTRY_PAYMENT_MAX'] = df_installments_payments.groupby('SK_ID_CURR')['DAYS_ENTRY_PAYMENT'].transform(np.max)\n",
    "# df_installments_payments['K_DAYS_ENTRY_PAYMENT_MIN'] = df_installments_payments.groupby('SK_ID_CURR')['DAYS_ENTRY_PAYMENT'].transform(np.min)\n",
    "df_installments_payments['K_DAYS_ENTRY_PAYMENT_VAR'] = df_installments_payments.groupby('SK_ID_CURR')['DAYS_ENTRY_PAYMENT'].transform(np.var)\n",
    "\n",
    "df_installments_payments['TEMP_AMT_INSTALMENT'] = df_installments_payments.groupby('SK_ID_CURR')['AMT_INSTALMENT'].transform(np.sum)\n",
    "df_installments_payments['TEMP_AMT_PAYMENT'] = df_installments_payments.groupby('SK_ID_CURR')['AMT_PAYMENT'].transform(np.sum)\n",
    "df_installments_payments['K_INST_AMT_DIFF'] = df_installments_payments['TEMP_AMT_INSTALMENT'] - df_installments_payments['TEMP_AMT_PAYMENT']\n",
    "# #Note: I haven't added the K_INST_AMT_DIFF_TO_COUNT_RATIO feature since the K_INST_AMT_DIFF\n",
    "# #performed better individually than with the count_ratio i.e. had a higher value on the feature importance score\n",
    "# df_installments_payments['K_INST_AMT_DIFF_TO_COUNT_RATIO'] = df_installments_payments['K_INST_AMT_DIFF']/df_installments_payments['K_PREV_INSTALLMENT_PAYMENT_COUNT']\n",
    "\n",
    "df_installments_payments['K_AMT_PAYMENT_MEAN'] = df_installments_payments.groupby('SK_ID_CURR')['AMT_PAYMENT'].transform(np.mean)\n",
    "df_installments_payments['K_AMT_PAYMENT_MAX'] = df_installments_payments.groupby('SK_ID_CURR')['AMT_PAYMENT'].transform(np.max)\n",
    "df_installments_payments['K_AMT_PAYMENT_MIN'] = df_installments_payments.groupby('SK_ID_CURR')['AMT_PAYMENT'].transform(np.min)\n",
    "df_installments_payments['K_AMT_PAYMENT_VAR'] = df_installments_payments.groupby('SK_ID_CURR')['AMT_PAYMENT'].transform(np.var)\n",
    "\n",
    "# #Drop Duplicates\n",
    "df_installments_payments = df_installments_payments[['SK_ID_CURR', 'K_PREV_INSTALLMENT_PAYMENT_COUNT', \n",
    "                                                     'K_INST_DAYS_DIFF', 'K_INST_AMT_DIFF',\n",
    "                                                     'K_NUM_INSTALMENT_NUMBER_SUM_TO_COUNT_RATIO', 'K_INST_DAYS_DIFF_TO_COUNT_RATIO',\n",
    "                                                     'K_DAYS_ENTRY_PAYMENT_MAX',\n",
    "                                                     'K_DAYS_ENTRY_PAYMENT_VAR', \n",
    "                                                     'K_AMT_PAYMENT_MEAN', 'K_AMT_PAYMENT_MAX', 'K_AMT_PAYMENT_MIN', 'K_AMT_PAYMENT_VAR'\n",
    "                                                    ]].drop_duplicates()"
   ]
  },
  {
   "cell_type": "code",
   "execution_count": 18,
   "metadata": {
    "ExecuteTime": {
     "end_time": "2018-06-24T15:06:33.573630Z",
     "start_time": "2018-06-24T15:06:33.356185Z"
    }
   },
   "outputs": [
    {
     "name": "stdout",
     "output_type": "stream",
     "text": [
      "df_installments_payments (339587, 12)\n",
      "291643\n",
      "47944\n",
      "Sum:  339587\n"
     ]
    }
   ],
   "source": [
    "# #CHECKPOINT\n",
    "print(\"df_installments_payments\", df_installments_payments.shape)\n",
    "print(len(set(df_installments_payments[\"SK_ID_CURR\"]).intersection(set(df_application_train[\"SK_ID_CURR\"]))))\n",
    "print(len(set(df_installments_payments[\"SK_ID_CURR\"]).intersection(set(df_application_test[\"SK_ID_CURR\"]))))\n",
    "print(\"Sum: \", 291643 + 47944)"
   ]
  },
  {
   "cell_type": "code",
   "execution_count": null,
   "metadata": {},
   "outputs": [],
   "source": []
  },
  {
   "cell_type": "code",
   "execution_count": null,
   "metadata": {},
   "outputs": [],
   "source": []
  },
  {
   "cell_type": "code",
   "execution_count": 19,
   "metadata": {
    "ExecuteTime": {
     "end_time": "2018-06-24T15:06:34.330619Z",
     "start_time": "2018-06-24T15:06:33.575600Z"
    }
   },
   "outputs": [
    {
     "data": {
      "text/plain": [
       "93"
      ]
     },
     "execution_count": 19,
     "metadata": {},
     "output_type": "execute_result"
    }
   ],
   "source": [
    "gc.collect()"
   ]
  },
  {
   "cell_type": "markdown",
   "metadata": {},
   "source": [
    "## Feature: df_credit_card_balance"
   ]
  },
  {
   "cell_type": "code",
   "execution_count": 20,
   "metadata": {
    "ExecuteTime": {
     "end_time": "2018-06-24T15:08:05.831483Z",
     "start_time": "2018-06-24T15:06:34.335604Z"
    }
   },
   "outputs": [],
   "source": [
    "df_credit_card_balance['K_PREV_CREDIT_CARD_BALANCE_COUNT'] = df_credit_card_balance.groupby('SK_ID_CURR')['SK_ID_PREV'].transform('count')\n",
    "\n",
    "# #All the four features below did not seem to have much weight in the feature importance of the model\n",
    "# df_credit_card_balance['K_MONTHS_BALANCE_MAX'] = df_credit_card_balance.groupby('SK_ID_CURR')['MONTHS_BALANCE'].transform(np.max)\n",
    "# df_credit_card_balance['K_MONTHS_BALANCE_MIN'] = df_credit_card_balance.groupby('SK_ID_CURR')['MONTHS_BALANCE'].transform(np.min)\n",
    "# df_credit_card_balance['K_MONTHS_BALANCE_SUM'] = df_credit_card_balance.groupby('SK_ID_CURR')['MONTHS_BALANCE'].transform(np.sum)\n",
    "# df_credit_card_balance['K_MONTHS_BALANCE_SUM_TO_COUNT_RATIO'] = df_credit_card_balance['K_MONTHS_BALANCE_SUM']/df_credit_card_balance['K_PREV_CREDIT_CARD_BALANCE_COUNT'] \n",
    "\n",
    "df_credit_card_balance['TEMP_AMT_BALANCE'] = df_credit_card_balance.groupby('SK_ID_CURR')['AMT_BALANCE'].transform(lambda x:x+1)\n",
    "df_credit_card_balance['TEMP_AMT_CREDIT_LIMIT_ACTUAL'] = df_credit_card_balance.groupby('SK_ID_CURR')['AMT_CREDIT_LIMIT_ACTUAL'].transform(lambda x:x+1)\n",
    "df_credit_card_balance['TEMP_UTILIZATION'] = df_credit_card_balance['TEMP_AMT_BALANCE']/df_credit_card_balance['TEMP_AMT_CREDIT_LIMIT_ACTUAL']\n",
    "df_credit_card_balance['K_CREDIT_UTILIZATION_MEAN'] = df_credit_card_balance.groupby('SK_ID_CURR')['TEMP_UTILIZATION'].transform(np.mean)\n",
    "df_credit_card_balance['K_CREDIT_UTILIZATION_MIN'] = df_credit_card_balance.groupby('SK_ID_CURR')['TEMP_UTILIZATION'].transform(np.min)\n",
    "df_credit_card_balance['K_CREDIT_UTILIZATION_MAX'] = df_credit_card_balance.groupby('SK_ID_CURR')['TEMP_UTILIZATION'].transform(np.max)\n",
    "df_credit_card_balance['K_CREDIT_UTILIZATION_VAR'] = df_credit_card_balance.groupby('SK_ID_CURR')['TEMP_UTILIZATION'].transform(np.var)\n",
    "\n",
    "# #Validation: SK_ID_CURR = 105755\n",
    "# #AMT_DRAWINGS_CURRENT = AMT_DRAWINGS_ATM_CURRENT + AMT_DRAWINGS_OTHER_CURRENT + AMT_DRAWINGS_POS_CURRENT\n",
    "df_credit_card_balance['K_AMT_DRAWINGS_CURRENT_MEAN'] = df_credit_card_balance.groupby('SK_ID_CURR')['AMT_DRAWINGS_CURRENT'].transform(np.mean)\n",
    "# df_credit_card_balance['K_AMT_DRAWINGS_CURRENT_MIN'] = df_credit_card_balance.groupby('SK_ID_CURR')['AMT_DRAWINGS_CURRENT'].transform(np.min)\n",
    "df_credit_card_balance['K_AMT_DRAWINGS_CURRENT_MAX'] = df_credit_card_balance.groupby('SK_ID_CURR')['AMT_DRAWINGS_CURRENT'].transform(np.max)\n",
    "# df_credit_card_balance['K_AMT_DRAWINGS_CURRENT_SUM'] = df_credit_card_balance.groupby('SK_ID_CURR')['AMT_DRAWINGS_CURRENT'].transform(np.sum)\n",
    "\n",
    "df_credit_card_balance['TEMP_AMT_PAYMENT_TOTAL_CURRENT'] = df_credit_card_balance.groupby('SK_ID_CURR')['AMT_PAYMENT_TOTAL_CURRENT'].transform(lambda x:x+1)\n",
    "df_credit_card_balance['TEMP_AMT_TOTAL_RECEIVABLE'] = df_credit_card_balance.groupby('SK_ID_CURR')['AMT_TOTAL_RECEIVABLE'].transform(lambda x:x+1)\n",
    "df_credit_card_balance['TEMP_AMT_PAYMENT_OVER_RECEIVABLE'] = df_credit_card_balance['TEMP_AMT_PAYMENT_TOTAL_CURRENT']/df_credit_card_balance['TEMP_AMT_TOTAL_RECEIVABLE']\n",
    "df_credit_card_balance['K_AMT_PAYMENT_OVER_RECEIVABLE_MEAN'] = df_credit_card_balance.groupby('SK_ID_CURR')['TEMP_AMT_PAYMENT_OVER_RECEIVABLE'].transform(np.mean)\n",
    "df_credit_card_balance['K_AMT_PAYMENT_OVER_RECEIVABLE_MIN'] = df_credit_card_balance.groupby('SK_ID_CURR')['TEMP_AMT_PAYMENT_OVER_RECEIVABLE'].transform(np.min)\n",
    "df_credit_card_balance['K_AMT_PAYMENT_OVER_RECEIVABLE_MAX'] = df_credit_card_balance.groupby('SK_ID_CURR')['TEMP_AMT_PAYMENT_OVER_RECEIVABLE'].transform(np.max)\n",
    "\n",
    "# #CNT_DRAWINGS_CURRENT = CNT_DRAWINGS_ATM_CURRENT + CNT_DRAWINGS_OTHER_CURRENT + CNT_DRAWINGS_POS_CURRENT\n",
    "df_credit_card_balance['K_CNT_DRAWINGS_CURRENT_MEAN'] = df_credit_card_balance.groupby('SK_ID_CURR')['CNT_DRAWINGS_CURRENT'].transform(np.mean)\n",
    "df_credit_card_balance['K_CNT_DRAWINGS_CURRENT_MIN'] = df_credit_card_balance.groupby('SK_ID_CURR')['CNT_DRAWINGS_CURRENT'].transform(np.min)\n",
    "df_credit_card_balance['K_CNT_DRAWINGS_CURRENT_MAX'] = df_credit_card_balance.groupby('SK_ID_CURR')['CNT_DRAWINGS_CURRENT'].transform(np.max)\n",
    "# df_credit_card_balance['K_CNT_DRAWINGS_CURRENT_SUM'] = df_credit_card_balance.groupby('SK_ID_CURR')['CNT_DRAWINGS_CURRENT'].transform(np.sum)\n",
    "\n",
    "# #Feature - CNT_INSTALMENT_MATURE_CUM\n",
    "df_credit_card_balance['K_CNT_INSTALMENT_MATURE_CUM_MAX'] = df_credit_card_balance.groupby('SK_ID_CURR')['CNT_INSTALMENT_MATURE_CUM'].transform(np.max)\n",
    "df_credit_card_balance['K_CNT_INSTALMENT_MATURE_CUM_MAX_TO_COUNT_RATIO'] = df_credit_card_balance['K_CNT_INSTALMENT_MATURE_CUM_MAX']/df_credit_card_balance['K_PREV_CREDIT_CARD_BALANCE_COUNT']\n",
    "\n",
    "# #Feature - SK_DPD\n",
    "# df_credit_card_balance['K_SK_DPD_MAX'] = df_credit_card_balance.groupby('SK_ID_CURR')['SK_DPD'].transform(np.max)\n",
    "# df_credit_card_balance['K_SK_DPD_MEAN'] = df_credit_card_balance.groupby('SK_ID_CURR')['SK_DPD'].transform(np.mean)\n",
    "# df_credit_card_balance['K_SK_DPD_SUM'] = df_credit_card_balance.groupby('SK_ID_CURR')['SK_DPD'].transform(np.sum)\n",
    "# df_credit_card_balance['K_SK_DPD_VAR'] = df_credit_card_balance.groupby('SK_ID_CURR')['SK_DPD'].transform(np.var)\n",
    "\n",
    "\n",
    "# #Drop Duplicates\n",
    "df_credit_card_balance = df_credit_card_balance[['SK_ID_CURR', 'K_PREV_CREDIT_CARD_BALANCE_COUNT',\n",
    "                    'K_CREDIT_UTILIZATION_MEAN', 'K_CREDIT_UTILIZATION_MIN', 'K_CREDIT_UTILIZATION_MAX', 'K_CREDIT_UTILIZATION_VAR',\n",
    "                    'K_AMT_DRAWINGS_CURRENT_MEAN', 'K_AMT_DRAWINGS_CURRENT_MAX', \n",
    "                    'K_AMT_PAYMENT_OVER_RECEIVABLE_MEAN', 'K_AMT_PAYMENT_OVER_RECEIVABLE_MIN', 'K_AMT_PAYMENT_OVER_RECEIVABLE_MAX', \n",
    "                    'K_CNT_DRAWINGS_CURRENT_MEAN', 'K_CNT_DRAWINGS_CURRENT_MIN', 'K_CNT_DRAWINGS_CURRENT_MAX',\n",
    "                    'K_CNT_INSTALMENT_MATURE_CUM_MAX_TO_COUNT_RATIO']].drop_duplicates()"
   ]
  },
  {
   "cell_type": "code",
   "execution_count": 21,
   "metadata": {
    "ExecuteTime": {
     "end_time": "2018-06-24T15:08:05.928189Z",
     "start_time": "2018-06-24T15:08:05.833443Z"
    }
   },
   "outputs": [
    {
     "name": "stdout",
     "output_type": "stream",
     "text": [
      "df_credit_card_balance (103558, 15)\n",
      "86905\n",
      "16653\n",
      "Sum:  103558\n"
     ]
    }
   ],
   "source": [
    "# #CHECKPOINT\n",
    "print(\"df_credit_card_balance\", df_credit_card_balance.shape)\n",
    "print(len(set(df_credit_card_balance[\"SK_ID_CURR\"]).intersection(set(df_application_train[\"SK_ID_CURR\"]))))\n",
    "print(len(set(df_credit_card_balance[\"SK_ID_CURR\"]).intersection(set(df_application_test[\"SK_ID_CURR\"]))))\n",
    "print(\"Sum: \", 86905 + 16653)"
   ]
  },
  {
   "cell_type": "code",
   "execution_count": null,
   "metadata": {},
   "outputs": [],
   "source": []
  },
  {
   "cell_type": "code",
   "execution_count": null,
   "metadata": {},
   "outputs": [],
   "source": []
  },
  {
   "cell_type": "code",
   "execution_count": 22,
   "metadata": {
    "ExecuteTime": {
     "end_time": "2018-06-24T15:08:06.181513Z",
     "start_time": "2018-06-24T15:08:05.930184Z"
    }
   },
   "outputs": [
    {
     "data": {
      "text/plain": [
       "110"
      ]
     },
     "execution_count": 22,
     "metadata": {},
     "output_type": "execute_result"
    }
   ],
   "source": [
    "gc.collect()"
   ]
  },
  {
   "cell_type": "markdown",
   "metadata": {},
   "source": [
    "## Feature: df_pos_cash_balance"
   ]
  },
  {
   "cell_type": "code",
   "execution_count": 23,
   "metadata": {
    "ExecuteTime": {
     "end_time": "2018-06-24T15:08:25.552767Z",
     "start_time": "2018-06-24T15:08:06.183508Z"
    }
   },
   "outputs": [],
   "source": [
    "df_pos_cash_balance['K_PREV_POS_CASH_BALANCE_COUNT'] = df_pos_cash_balance.groupby('SK_ID_CURR')['SK_ID_PREV'].transform('count')\n",
    "\n",
    "df_pos_cash_balance['K_MONTHS_BALANCE_POS_CASH_MEAN'] = df_pos_cash_balance.groupby('SK_ID_CURR')['MONTHS_BALANCE'].transform(np.mean)\n",
    "df_pos_cash_balance['K_MONTHS_BALANCE_POS_CASH_MAX'] = df_pos_cash_balance.groupby('SK_ID_CURR')['MONTHS_BALANCE'].transform(np.max)\n",
    "df_pos_cash_balance['K_MONTHS_BALANCE_POS_CASH_MIN'] = df_pos_cash_balance.groupby('SK_ID_CURR')['MONTHS_BALANCE'].transform(np.min)\n",
    "\n",
    "df_pos_cash_balance['K_CNT_INSTALMENT_MEAN'] = df_pos_cash_balance.groupby('SK_ID_CURR')['CNT_INSTALMENT'].transform(np.mean)\n",
    "df_pos_cash_balance['K_CNT_INSTALMENT_MAX'] = df_pos_cash_balance.groupby('SK_ID_CURR')['CNT_INSTALMENT'].transform(np.max)\n",
    "df_pos_cash_balance['K_CNT_INSTALMENT_MIN'] = df_pos_cash_balance.groupby('SK_ID_CURR')['CNT_INSTALMENT'].transform(np.min)\n",
    "\n",
    "df_pos_cash_balance['K_CNT_INSTALMENT_FUTURE_MEAN'] = df_pos_cash_balance.groupby('SK_ID_CURR')['CNT_INSTALMENT_FUTURE'].transform(np.mean)\n",
    "df_pos_cash_balance['K_CNT_INSTALMENT_FUTURE_MAX'] = df_pos_cash_balance.groupby('SK_ID_CURR')['CNT_INSTALMENT_FUTURE'].transform(np.max)\n",
    "# df_pos_cash_balance['K_CNT_INSTALMENT_FUTURE_MIN'] = df_pos_cash_balance.groupby('SK_ID_CURR')['CNT_INSTALMENT_FUTURE'].transform(np.min)\n",
    "\n",
    "# #Drop Duplicates\n",
    "df_pos_cash_balance = df_pos_cash_balance[['SK_ID_CURR', 'K_PREV_POS_CASH_BALANCE_COUNT', \n",
    "                                           'K_MONTHS_BALANCE_POS_CASH_MEAN','K_MONTHS_BALANCE_POS_CASH_MAX', 'K_MONTHS_BALANCE_POS_CASH_MIN', \n",
    "                                           'K_CNT_INSTALMENT_MEAN', 'K_CNT_INSTALMENT_MAX', 'K_CNT_INSTALMENT_MIN', \n",
    "                                           'K_CNT_INSTALMENT_FUTURE_MEAN', 'K_CNT_INSTALMENT_FUTURE_MAX']].drop_duplicates()"
   ]
  },
  {
   "cell_type": "code",
   "execution_count": null,
   "metadata": {},
   "outputs": [],
   "source": []
  },
  {
   "cell_type": "code",
   "execution_count": null,
   "metadata": {},
   "outputs": [],
   "source": []
  },
  {
   "cell_type": "code",
   "execution_count": null,
   "metadata": {},
   "outputs": [],
   "source": []
  },
  {
   "cell_type": "markdown",
   "metadata": {},
   "source": [
    "## Feature: df_previous_application"
   ]
  },
  {
   "cell_type": "code",
   "execution_count": 24,
   "metadata": {
    "ExecuteTime": {
     "end_time": "2018-06-24T15:08:25.619588Z",
     "start_time": "2018-06-24T15:08:25.554730Z"
    }
   },
   "outputs": [],
   "source": [
    "# #Missing values have been masked with the value 365243.0\n",
    "df_previous_application['DAYS_LAST_DUE'].replace(365243.0, np.nan, inplace=True)\n",
    "df_previous_application['DAYS_TERMINATION'].replace(365243.0, np.nan, inplace=True)\n",
    "df_previous_application['DAYS_FIRST_DRAWING'].replace(365243.0, np.nan, inplace=True)\n",
    "df_previous_application['DAYS_FIRST_DUE'].replace(365243.0, np.nan, inplace=True)\n",
    "df_previous_application['DAYS_LAST_DUE_1ST_VERSION'].replace(365243.0, np.nan, inplace=True)"
   ]
  },
  {
   "cell_type": "code",
   "execution_count": null,
   "metadata": {},
   "outputs": [],
   "source": []
  },
  {
   "cell_type": "code",
   "execution_count": 25,
   "metadata": {
    "ExecuteTime": {
     "end_time": "2018-06-24T15:08:50.607426Z",
     "start_time": "2018-06-24T15:08:25.621552Z"
    }
   },
   "outputs": [],
   "source": [
    "df_previous_application['K_PREV_PREVIOUS_APPLICATION_COUNT'] = df_previous_application.groupby('SK_ID_CURR')['SK_ID_PREV'].transform('count')\n",
    "\n",
    "df_previous_application['K_AMT_ANNUITY_MEAN'] = df_previous_application.groupby('SK_ID_CURR')['AMT_ANNUITY'].transform(np.mean)\n",
    "df_previous_application['K_AMT_ANNUITY_MAX'] = df_previous_application.groupby('SK_ID_CURR')['AMT_ANNUITY'].transform(np.max)\n",
    "df_previous_application['K_AMT_ANNUITY_MIN'] = df_previous_application.groupby('SK_ID_CURR')['AMT_ANNUITY'].transform(np.min)\n",
    "df_previous_application['K_AMT_ANNUITY_VAR'] = df_previous_application.groupby('SK_ID_CURR')['AMT_ANNUITY'].transform(np.var)\n",
    "# df_previous_application['K_AMT_ANNUITY_SUM'] = df_previous_application.groupby('SK_ID_CURR')['AMT_ANNUITY'].transform(np.sum)\n",
    "# df_previous_application['K_AMT_ANNUITY_RANGE'] = df_previous_application['K_AMT_ANNUITY_MAX'] - df_previous_application['K_AMT_ANNUITY_MIN']\n",
    "\n",
    "# #Features reduced the accuracy of my model\n",
    "# df_previous_application['K_AMT_APPLICATION_MEAN'] = df_previous_application.groupby('SK_ID_CURR')['AMT_APPLICATION'].transform(np.mean)\n",
    "# df_previous_application['K_AMT_APPLICATION_MAX'] = df_previous_application.groupby('SK_ID_CURR')['AMT_APPLICATION'].transform(np.max)\n",
    "# df_previous_application['K_AMT_APPLICATION_MIN'] = df_previous_application.groupby('SK_ID_CURR')['AMT_APPLICATION'].transform(np.min)\n",
    "# df_previous_application['K_AMT_APPLICATION_VAR'] = df_previous_application.groupby('SK_ID_CURR')['AMT_APPLICATION'].transform(np.var)\n",
    "# df_previous_application['K_AMT_APPLICATION_SUM'] = df_previous_application.groupby('SK_ID_CURR')['AMT_APPLICATION'].transform(np.sum)\n",
    "\n",
    "# df_previous_application['K_AMT_CREDIT_MEAN'] = df_previous_application.groupby('SK_ID_CURR')['AMT_CREDIT'].transform(np.mean)\n",
    "# df_previous_application['K_AMT_CREDIT_MAX'] = df_previous_application.groupby('SK_ID_CURR')['AMT_CREDIT'].transform(np.max)\n",
    "# df_previous_application['K_AMT_CREDIT_MIN'] = df_previous_application.groupby('SK_ID_CURR')['AMT_CREDIT'].transform(np.min)\n",
    "# df_previous_application['K_AMT_CREDIT_VAR'] = df_previous_application.groupby('SK_ID_CURR')['AMT_CREDIT'].transform(np.var)\n",
    "# df_previous_application['K_AMT_CREDIT_SUM'] = df_previous_application.groupby('SK_ID_CURR')['AMT_CREDIT'].transform(np.sum)\n",
    "\n",
    "df_previous_application['TEMP_CREDIT_ALLOCATED'] = df_previous_application['AMT_CREDIT']/df_previous_application['AMT_APPLICATION']\n",
    "df_previous_application['K_CREDIT_ALLOCATED_MEAN'] = df_previous_application.groupby('SK_ID_CURR')['TEMP_CREDIT_ALLOCATED'].transform(np.mean)\n",
    "df_previous_application['K_CREDIT_ALLOCATED_MAX'] = df_previous_application.groupby('SK_ID_CURR')['TEMP_CREDIT_ALLOCATED'].transform(np.max)\n",
    "df_previous_application['K_CREDIT_ALLOCATED_MIN'] = df_previous_application.groupby('SK_ID_CURR')['TEMP_CREDIT_ALLOCATED'].transform(np.min)\n",
    "\n",
    "df_previous_application['TEMP_NAME_CONTRACT_STATUS_APPROVED'] = (df_previous_application['NAME_CONTRACT_STATUS'] == 'Approved').astype(int)\n",
    "df_previous_application['K_NAME_CONTRACT_STATUS_APPROVED'] = df_previous_application.groupby('SK_ID_CURR')['TEMP_NAME_CONTRACT_STATUS_APPROVED'].transform(np.sum)\n",
    "# df_previous_application['TEMP_NAME_CONTRACT_STATUS_REFUSED'] = (df_previous_application['NAME_CONTRACT_STATUS'] == 'REFUSED').astype(int)\n",
    "# df_previous_application['K_NAME_CONTRACT_STATUS_REFUSED'] = df_previous_application.groupby('SK_ID_CURR')['TEMP_NAME_CONTRACT_STATUS_REFUSED'].transform(np.sum)\n",
    "\n",
    "df_previous_application['K_AMT_DOWN_PAYMENT_MEAN'] = df_previous_application.groupby('SK_ID_CURR')['AMT_DOWN_PAYMENT'].transform(np.mean)\n",
    "df_previous_application['K_AMT_DOWN_PAYMENT_MAX'] = df_previous_application.groupby('SK_ID_CURR')['AMT_DOWN_PAYMENT'].transform(np.max)\n",
    "df_previous_application['K_AMT_DOWN_PAYMENT_MIN'] = df_previous_application.groupby('SK_ID_CURR')['AMT_DOWN_PAYMENT'].transform(np.min)\n",
    "\n",
    "df_previous_application['K_AMT_GOODS_PRICE_MEAN'] = df_previous_application.groupby('SK_ID_CURR')['AMT_GOODS_PRICE'].transform(np.mean)\n",
    "df_previous_application['K_AMT_GOODS_PRICE_MAX'] = df_previous_application.groupby('SK_ID_CURR')['AMT_GOODS_PRICE'].transform(np.max)\n",
    "df_previous_application['K_AMT_GOODS_PRICE_MIN'] = df_previous_application.groupby('SK_ID_CURR')['AMT_GOODS_PRICE'].transform(np.min)\n",
    "\n",
    "df_previous_application['K_DAYS_DECISION_MEAN'] = df_previous_application.groupby('SK_ID_CURR')['DAYS_DECISION'].transform(np.mean)\n",
    "df_previous_application['K_DAYS_DECISION_MAX'] = df_previous_application.groupby('SK_ID_CURR')['DAYS_DECISION'].transform(np.max)\n",
    "df_previous_application['K_DAYS_DECISION_MIN'] = df_previous_application.groupby('SK_ID_CURR')['DAYS_DECISION'].transform(np.min)\n",
    "\n",
    "df_previous_application['K_CNT_PAYMENT_MEAN'] = df_previous_application.groupby('SK_ID_CURR')['CNT_PAYMENT'].transform(np.mean)\n",
    "df_previous_application['K_CNT_PAYMENT_MAX'] = df_previous_application.groupby('SK_ID_CURR')['CNT_PAYMENT'].transform(np.max)\n",
    "df_previous_application['K_CNT_PAYMENT_MIN'] = df_previous_application.groupby('SK_ID_CURR')['CNT_PAYMENT'].transform(np.min)\n",
    "\n",
    "df_previous_application['K_DAYS_FIRST_DRAWING_MEAN'] = df_previous_application.groupby('SK_ID_CURR')['DAYS_FIRST_DRAWING'].transform(np.mean)\n",
    "# df_previous_application['K_DAYS_FIRST_DRAWING_MAX'] = df_previous_application.groupby('SK_ID_CURR')['DAYS_FIRST_DRAWING'].transform(np.max)\n",
    "# df_previous_application['K_DAYS_FIRST_DRAWING_MIN'] = df_previous_application.groupby('SK_ID_CURR')['DAYS_FIRST_DRAWING'].transform(np.min)\n",
    "\n",
    "df_previous_application['K_DAYS_FIRST_DUE_MEAN'] = df_previous_application.groupby('SK_ID_CURR')['DAYS_FIRST_DUE'].transform(np.mean)\n",
    "df_previous_application['K_DAYS_FIRST_DUE_MAX'] = df_previous_application.groupby('SK_ID_CURR')['DAYS_FIRST_DUE'].transform(np.max)\n",
    "df_previous_application['K_DAYS_FIRST_DUE_MIN'] = df_previous_application.groupby('SK_ID_CURR')['DAYS_FIRST_DUE'].transform(np.min)\n",
    "\n",
    "df_previous_application['K_DAYS_LAST_DUE_1ST_VERSION_MEAN'] = df_previous_application.groupby('SK_ID_CURR')['DAYS_LAST_DUE_1ST_VERSION'].transform(np.mean)\n",
    "df_previous_application['K_DAYS_LAST_DUE_1ST_VERSION_MAX'] = df_previous_application.groupby('SK_ID_CURR')['DAYS_LAST_DUE_1ST_VERSION'].transform(np.max)\n",
    "df_previous_application['K_DAYS_LAST_DUE_1ST_VERSION_MIN'] = df_previous_application.groupby('SK_ID_CURR')['DAYS_LAST_DUE_1ST_VERSION'].transform(np.min)\n",
    "\n",
    "df_previous_application['K_DAYS_LAST_DUE_MEAN'] = df_previous_application.groupby('SK_ID_CURR')['DAYS_LAST_DUE'].transform(np.mean)\n",
    "df_previous_application['K_DAYS_LAST_DUE_MAX'] = df_previous_application.groupby('SK_ID_CURR')['DAYS_LAST_DUE'].transform(np.max)\n",
    "df_previous_application['K_DAYS_LAST_DUE_MIN'] = df_previous_application.groupby('SK_ID_CURR')['DAYS_LAST_DUE'].transform(np.min)\n",
    "\n",
    "df_previous_application['K_DAYS_TERMINATION_MEAN'] = df_previous_application.groupby('SK_ID_CURR')['DAYS_TERMINATION'].transform(np.mean)\n",
    "df_previous_application['K_DAYS_TERMINATION_MAX'] = df_previous_application.groupby('SK_ID_CURR')['DAYS_TERMINATION'].transform(np.max)\n",
    "df_previous_application['K_DAYS_TERMINATION_MIN'] = df_previous_application.groupby('SK_ID_CURR')['DAYS_TERMINATION'].transform(np.min)\n",
    "\n",
    "\n",
    "# #Drop Duplicates\n",
    "df_previous_application = df_previous_application[['SK_ID_CURR', 'K_PREV_PREVIOUS_APPLICATION_COUNT', \n",
    "                                                   'K_NAME_CONTRACT_STATUS_APPROVED',\n",
    "                                                   'K_AMT_ANNUITY_VAR', \n",
    "                                          'K_AMT_ANNUITY_MEAN', 'K_AMT_ANNUITY_MAX', 'K_AMT_ANNUITY_MIN',\n",
    "                                          'K_CREDIT_ALLOCATED_MEAN', 'K_CREDIT_ALLOCATED_MAX', 'K_CREDIT_ALLOCATED_MIN',\n",
    "                                          'K_AMT_DOWN_PAYMENT_MEAN', 'K_AMT_DOWN_PAYMENT_MAX', 'K_AMT_DOWN_PAYMENT_MIN',\n",
    "                                          'K_AMT_GOODS_PRICE_MEAN', 'K_AMT_GOODS_PRICE_MAX', 'K_AMT_GOODS_PRICE_MIN',\n",
    "                                          'K_DAYS_DECISION_MEAN', 'K_DAYS_DECISION_MAX', 'K_DAYS_DECISION_MIN',\n",
    "                                          'K_CNT_PAYMENT_MEAN', 'K_CNT_PAYMENT_MAX', 'K_CNT_PAYMENT_MIN',\n",
    "                                          'K_DAYS_FIRST_DRAWING_MEAN',\n",
    "                                          'K_DAYS_FIRST_DUE_MEAN', 'K_DAYS_FIRST_DUE_MAX', 'K_DAYS_FIRST_DUE_MIN',\n",
    "                                          'K_DAYS_LAST_DUE_1ST_VERSION_MEAN', 'K_DAYS_LAST_DUE_1ST_VERSION_MAX', 'K_DAYS_LAST_DUE_1ST_VERSION_MIN',\n",
    "                                          'K_DAYS_LAST_DUE_MEAN', 'K_DAYS_LAST_DUE_MAX', 'K_DAYS_LAST_DUE_MIN',\n",
    "                                          'K_DAYS_TERMINATION_MEAN', 'K_DAYS_TERMINATION_MAX', 'K_DAYS_TERMINATION_MIN']].drop_duplicates()"
   ]
  },
  {
   "cell_type": "code",
   "execution_count": 26,
   "metadata": {
    "ExecuteTime": {
     "end_time": "2018-06-24T15:08:50.704166Z",
     "start_time": "2018-06-24T15:08:50.609394Z"
    }
   },
   "outputs": [
    {
     "data": {
      "text/html": [
       "<div>\n",
       "<style scoped>\n",
       "    .dataframe tbody tr th:only-of-type {\n",
       "        vertical-align: middle;\n",
       "    }\n",
       "\n",
       "    .dataframe tbody tr th {\n",
       "        vertical-align: top;\n",
       "    }\n",
       "\n",
       "    .dataframe thead th {\n",
       "        text-align: right;\n",
       "    }\n",
       "</style>\n",
       "<table border=\"1\" class=\"dataframe\">\n",
       "  <thead>\n",
       "    <tr style=\"text-align: right;\">\n",
       "      <th></th>\n",
       "      <th>SK_ID_PREV</th>\n",
       "      <th>SK_ID_CURR</th>\n",
       "      <th>NAME_CONTRACT_TYPE</th>\n",
       "      <th>AMT_ANNUITY</th>\n",
       "      <th>AMT_APPLICATION</th>\n",
       "      <th>AMT_CREDIT</th>\n",
       "      <th>AMT_DOWN_PAYMENT</th>\n",
       "      <th>AMT_GOODS_PRICE</th>\n",
       "      <th>WEEKDAY_APPR_PROCESS_START</th>\n",
       "      <th>HOUR_APPR_PROCESS_START</th>\n",
       "      <th>FLAG_LAST_APPL_PER_CONTRACT</th>\n",
       "      <th>NFLAG_LAST_APPL_IN_DAY</th>\n",
       "      <th>RATE_DOWN_PAYMENT</th>\n",
       "      <th>RATE_INTEREST_PRIMARY</th>\n",
       "      <th>RATE_INTEREST_PRIVILEGED</th>\n",
       "      <th>NAME_CASH_LOAN_PURPOSE</th>\n",
       "      <th>NAME_CONTRACT_STATUS</th>\n",
       "      <th>DAYS_DECISION</th>\n",
       "      <th>NAME_PAYMENT_TYPE</th>\n",
       "      <th>CODE_REJECT_REASON</th>\n",
       "      <th>NAME_TYPE_SUITE</th>\n",
       "      <th>NAME_CLIENT_TYPE</th>\n",
       "      <th>NAME_GOODS_CATEGORY</th>\n",
       "      <th>NAME_PORTFOLIO</th>\n",
       "      <th>NAME_PRODUCT_TYPE</th>\n",
       "      <th>CHANNEL_TYPE</th>\n",
       "      <th>SELLERPLACE_AREA</th>\n",
       "      <th>NAME_SELLER_INDUSTRY</th>\n",
       "      <th>CNT_PAYMENT</th>\n",
       "      <th>NAME_YIELD_GROUP</th>\n",
       "      <th>PRODUCT_COMBINATION</th>\n",
       "      <th>DAYS_FIRST_DRAWING</th>\n",
       "      <th>DAYS_FIRST_DUE</th>\n",
       "      <th>DAYS_LAST_DUE_1ST_VERSION</th>\n",
       "      <th>DAYS_LAST_DUE</th>\n",
       "      <th>DAYS_TERMINATION</th>\n",
       "      <th>NFLAG_INSURED_ON_APPROVAL</th>\n",
       "    </tr>\n",
       "  </thead>\n",
       "  <tbody>\n",
       "    <tr>\n",
       "      <th>98162</th>\n",
       "      <td>2078043</td>\n",
       "      <td>100006</td>\n",
       "      <td>Cash loans</td>\n",
       "      <td>24246.00</td>\n",
       "      <td>675000.00</td>\n",
       "      <td>675000.0</td>\n",
       "      <td>NaN</td>\n",
       "      <td>675000.00</td>\n",
       "      <td>THURSDAY</td>\n",
       "      <td>15</td>\n",
       "      <td>Y</td>\n",
       "      <td>1</td>\n",
       "      <td>NaN</td>\n",
       "      <td>NaN</td>\n",
       "      <td>NaN</td>\n",
       "      <td>XNA</td>\n",
       "      <td>Approved</td>\n",
       "      <td>-181</td>\n",
       "      <td>Cash through the bank</td>\n",
       "      <td>XAP</td>\n",
       "      <td>Unaccompanied</td>\n",
       "      <td>Repeater</td>\n",
       "      <td>XNA</td>\n",
       "      <td>Cash</td>\n",
       "      <td>x-sell</td>\n",
       "      <td>Credit and cash offices</td>\n",
       "      <td>-1</td>\n",
       "      <td>XNA</td>\n",
       "      <td>48.0</td>\n",
       "      <td>low_normal</td>\n",
       "      <td>Cash X-Sell: low</td>\n",
       "      <td>365243.0</td>\n",
       "      <td>-151.0</td>\n",
       "      <td>1259.0</td>\n",
       "      <td>-151.0</td>\n",
       "      <td>-143.0</td>\n",
       "      <td>0.0</td>\n",
       "    </tr>\n",
       "    <tr>\n",
       "      <th>617859</th>\n",
       "      <td>2827850</td>\n",
       "      <td>100006</td>\n",
       "      <td>Revolving loans</td>\n",
       "      <td>NaN</td>\n",
       "      <td>0.00</td>\n",
       "      <td>0.0</td>\n",
       "      <td>NaN</td>\n",
       "      <td>NaN</td>\n",
       "      <td>THURSDAY</td>\n",
       "      <td>15</td>\n",
       "      <td>Y</td>\n",
       "      <td>1</td>\n",
       "      <td>NaN</td>\n",
       "      <td>NaN</td>\n",
       "      <td>NaN</td>\n",
       "      <td>XAP</td>\n",
       "      <td>Canceled</td>\n",
       "      <td>-181</td>\n",
       "      <td>XNA</td>\n",
       "      <td>XAP</td>\n",
       "      <td>NaN</td>\n",
       "      <td>Repeater</td>\n",
       "      <td>XNA</td>\n",
       "      <td>XNA</td>\n",
       "      <td>XNA</td>\n",
       "      <td>Credit and cash offices</td>\n",
       "      <td>-1</td>\n",
       "      <td>XNA</td>\n",
       "      <td>NaN</td>\n",
       "      <td>XNA</td>\n",
       "      <td>Card Street</td>\n",
       "      <td>NaN</td>\n",
       "      <td>NaN</td>\n",
       "      <td>NaN</td>\n",
       "      <td>NaN</td>\n",
       "      <td>NaN</td>\n",
       "      <td>NaN</td>\n",
       "    </tr>\n",
       "    <tr>\n",
       "      <th>830967</th>\n",
       "      <td>2190416</td>\n",
       "      <td>100006</td>\n",
       "      <td>Consumer loans</td>\n",
       "      <td>29027.52</td>\n",
       "      <td>334917.00</td>\n",
       "      <td>267930.0</td>\n",
       "      <td>66987.00</td>\n",
       "      <td>334917.00</td>\n",
       "      <td>SUNDAY</td>\n",
       "      <td>15</td>\n",
       "      <td>Y</td>\n",
       "      <td>1</td>\n",
       "      <td>0.217830</td>\n",
       "      <td>NaN</td>\n",
       "      <td>NaN</td>\n",
       "      <td>XAP</td>\n",
       "      <td>Approved</td>\n",
       "      <td>-311</td>\n",
       "      <td>Cash through the bank</td>\n",
       "      <td>XAP</td>\n",
       "      <td>Family</td>\n",
       "      <td>Repeater</td>\n",
       "      <td>Audio/Video</td>\n",
       "      <td>POS</td>\n",
       "      <td>XNA</td>\n",
       "      <td>Country-wide</td>\n",
       "      <td>8025</td>\n",
       "      <td>Consumer electronics</td>\n",
       "      <td>12.0</td>\n",
       "      <td>high</td>\n",
       "      <td>POS household with interest</td>\n",
       "      <td>365243.0</td>\n",
       "      <td>-281.0</td>\n",
       "      <td>49.0</td>\n",
       "      <td>365243.0</td>\n",
       "      <td>365243.0</td>\n",
       "      <td>0.0</td>\n",
       "    </tr>\n",
       "    <tr>\n",
       "      <th>900957</th>\n",
       "      <td>1489396</td>\n",
       "      <td>100006</td>\n",
       "      <td>Revolving loans</td>\n",
       "      <td>13500.00</td>\n",
       "      <td>270000.00</td>\n",
       "      <td>270000.0</td>\n",
       "      <td>NaN</td>\n",
       "      <td>270000.00</td>\n",
       "      <td>THURSDAY</td>\n",
       "      <td>15</td>\n",
       "      <td>Y</td>\n",
       "      <td>1</td>\n",
       "      <td>NaN</td>\n",
       "      <td>NaN</td>\n",
       "      <td>NaN</td>\n",
       "      <td>XAP</td>\n",
       "      <td>Approved</td>\n",
       "      <td>-181</td>\n",
       "      <td>XNA</td>\n",
       "      <td>XAP</td>\n",
       "      <td>Unaccompanied</td>\n",
       "      <td>Repeater</td>\n",
       "      <td>XNA</td>\n",
       "      <td>Cards</td>\n",
       "      <td>x-sell</td>\n",
       "      <td>Credit and cash offices</td>\n",
       "      <td>-1</td>\n",
       "      <td>XNA</td>\n",
       "      <td>0.0</td>\n",
       "      <td>XNA</td>\n",
       "      <td>Card X-Sell</td>\n",
       "      <td>365243.0</td>\n",
       "      <td>365243.0</td>\n",
       "      <td>365243.0</td>\n",
       "      <td>365243.0</td>\n",
       "      <td>365243.0</td>\n",
       "      <td>0.0</td>\n",
       "    </tr>\n",
       "    <tr>\n",
       "      <th>1131133</th>\n",
       "      <td>1020698</td>\n",
       "      <td>100006</td>\n",
       "      <td>Cash loans</td>\n",
       "      <td>39954.51</td>\n",
       "      <td>454500.00</td>\n",
       "      <td>481495.5</td>\n",
       "      <td>NaN</td>\n",
       "      <td>454500.00</td>\n",
       "      <td>SATURDAY</td>\n",
       "      <td>12</td>\n",
       "      <td>Y</td>\n",
       "      <td>1</td>\n",
       "      <td>NaN</td>\n",
       "      <td>NaN</td>\n",
       "      <td>NaN</td>\n",
       "      <td>XNA</td>\n",
       "      <td>Approved</td>\n",
       "      <td>-438</td>\n",
       "      <td>Cash through the bank</td>\n",
       "      <td>XAP</td>\n",
       "      <td>NaN</td>\n",
       "      <td>Repeater</td>\n",
       "      <td>XNA</td>\n",
       "      <td>Cash</td>\n",
       "      <td>x-sell</td>\n",
       "      <td>Credit and cash offices</td>\n",
       "      <td>-1</td>\n",
       "      <td>XNA</td>\n",
       "      <td>18.0</td>\n",
       "      <td>high</td>\n",
       "      <td>Cash X-Sell: high</td>\n",
       "      <td>NaN</td>\n",
       "      <td>NaN</td>\n",
       "      <td>NaN</td>\n",
       "      <td>NaN</td>\n",
       "      <td>NaN</td>\n",
       "      <td>NaN</td>\n",
       "    </tr>\n",
       "    <tr>\n",
       "      <th>1232752</th>\n",
       "      <td>1243599</td>\n",
       "      <td>100006</td>\n",
       "      <td>Cash loans</td>\n",
       "      <td>NaN</td>\n",
       "      <td>0.00</td>\n",
       "      <td>0.0</td>\n",
       "      <td>NaN</td>\n",
       "      <td>NaN</td>\n",
       "      <td>THURSDAY</td>\n",
       "      <td>15</td>\n",
       "      <td>Y</td>\n",
       "      <td>1</td>\n",
       "      <td>NaN</td>\n",
       "      <td>NaN</td>\n",
       "      <td>NaN</td>\n",
       "      <td>XNA</td>\n",
       "      <td>Canceled</td>\n",
       "      <td>-181</td>\n",
       "      <td>XNA</td>\n",
       "      <td>XAP</td>\n",
       "      <td>NaN</td>\n",
       "      <td>Repeater</td>\n",
       "      <td>XNA</td>\n",
       "      <td>XNA</td>\n",
       "      <td>XNA</td>\n",
       "      <td>Credit and cash offices</td>\n",
       "      <td>-1</td>\n",
       "      <td>XNA</td>\n",
       "      <td>NaN</td>\n",
       "      <td>XNA</td>\n",
       "      <td>Cash</td>\n",
       "      <td>NaN</td>\n",
       "      <td>NaN</td>\n",
       "      <td>NaN</td>\n",
       "      <td>NaN</td>\n",
       "      <td>NaN</td>\n",
       "      <td>NaN</td>\n",
       "    </tr>\n",
       "    <tr>\n",
       "      <th>1333657</th>\n",
       "      <td>2299329</td>\n",
       "      <td>100006</td>\n",
       "      <td>Consumer loans</td>\n",
       "      <td>2482.92</td>\n",
       "      <td>26912.34</td>\n",
       "      <td>24219.0</td>\n",
       "      <td>2693.34</td>\n",
       "      <td>26912.34</td>\n",
       "      <td>TUESDAY</td>\n",
       "      <td>15</td>\n",
       "      <td>Y</td>\n",
       "      <td>1</td>\n",
       "      <td>0.108994</td>\n",
       "      <td>NaN</td>\n",
       "      <td>NaN</td>\n",
       "      <td>XAP</td>\n",
       "      <td>Approved</td>\n",
       "      <td>-617</td>\n",
       "      <td>XNA</td>\n",
       "      <td>XAP</td>\n",
       "      <td>NaN</td>\n",
       "      <td>New</td>\n",
       "      <td>Construction Materials</td>\n",
       "      <td>POS</td>\n",
       "      <td>XNA</td>\n",
       "      <td>Stone</td>\n",
       "      <td>30</td>\n",
       "      <td>Construction</td>\n",
       "      <td>12.0</td>\n",
       "      <td>middle</td>\n",
       "      <td>POS industry with interest</td>\n",
       "      <td>365243.0</td>\n",
       "      <td>-545.0</td>\n",
       "      <td>-215.0</td>\n",
       "      <td>-425.0</td>\n",
       "      <td>-416.0</td>\n",
       "      <td>0.0</td>\n",
       "    </tr>\n",
       "    <tr>\n",
       "      <th>1595430</th>\n",
       "      <td>2545789</td>\n",
       "      <td>100006</td>\n",
       "      <td>Cash loans</td>\n",
       "      <td>NaN</td>\n",
       "      <td>0.00</td>\n",
       "      <td>0.0</td>\n",
       "      <td>NaN</td>\n",
       "      <td>NaN</td>\n",
       "      <td>THURSDAY</td>\n",
       "      <td>15</td>\n",
       "      <td>Y</td>\n",
       "      <td>1</td>\n",
       "      <td>NaN</td>\n",
       "      <td>NaN</td>\n",
       "      <td>NaN</td>\n",
       "      <td>XNA</td>\n",
       "      <td>Canceled</td>\n",
       "      <td>-181</td>\n",
       "      <td>XNA</td>\n",
       "      <td>XAP</td>\n",
       "      <td>NaN</td>\n",
       "      <td>Repeater</td>\n",
       "      <td>XNA</td>\n",
       "      <td>XNA</td>\n",
       "      <td>XNA</td>\n",
       "      <td>Credit and cash offices</td>\n",
       "      <td>-1</td>\n",
       "      <td>XNA</td>\n",
       "      <td>NaN</td>\n",
       "      <td>XNA</td>\n",
       "      <td>Cash</td>\n",
       "      <td>NaN</td>\n",
       "      <td>NaN</td>\n",
       "      <td>NaN</td>\n",
       "      <td>NaN</td>\n",
       "      <td>NaN</td>\n",
       "      <td>NaN</td>\n",
       "    </tr>\n",
       "    <tr>\n",
       "      <th>1607443</th>\n",
       "      <td>1697039</td>\n",
       "      <td>100006</td>\n",
       "      <td>Cash loans</td>\n",
       "      <td>32696.10</td>\n",
       "      <td>688500.00</td>\n",
       "      <td>906615.0</td>\n",
       "      <td>NaN</td>\n",
       "      <td>688500.00</td>\n",
       "      <td>THURSDAY</td>\n",
       "      <td>15</td>\n",
       "      <td>Y</td>\n",
       "      <td>1</td>\n",
       "      <td>NaN</td>\n",
       "      <td>NaN</td>\n",
       "      <td>NaN</td>\n",
       "      <td>XNA</td>\n",
       "      <td>Refused</td>\n",
       "      <td>-181</td>\n",
       "      <td>Cash through the bank</td>\n",
       "      <td>LIMIT</td>\n",
       "      <td>Unaccompanied</td>\n",
       "      <td>Repeater</td>\n",
       "      <td>XNA</td>\n",
       "      <td>Cash</td>\n",
       "      <td>x-sell</td>\n",
       "      <td>Credit and cash offices</td>\n",
       "      <td>-1</td>\n",
       "      <td>XNA</td>\n",
       "      <td>48.0</td>\n",
       "      <td>low_normal</td>\n",
       "      <td>Cash X-Sell: low</td>\n",
       "      <td>NaN</td>\n",
       "      <td>NaN</td>\n",
       "      <td>NaN</td>\n",
       "      <td>NaN</td>\n",
       "      <td>NaN</td>\n",
       "      <td>NaN</td>\n",
       "    </tr>\n",
       "  </tbody>\n",
       "</table>\n",
       "</div>"
      ],
      "text/plain": [
       "         SK_ID_PREV  SK_ID_CURR NAME_CONTRACT_TYPE  AMT_ANNUITY  \\\n",
       "98162       2078043      100006         Cash loans     24246.00   \n",
       "617859      2827850      100006    Revolving loans          NaN   \n",
       "830967      2190416      100006     Consumer loans     29027.52   \n",
       "900957      1489396      100006    Revolving loans     13500.00   \n",
       "1131133     1020698      100006         Cash loans     39954.51   \n",
       "1232752     1243599      100006         Cash loans          NaN   \n",
       "1333657     2299329      100006     Consumer loans      2482.92   \n",
       "1595430     2545789      100006         Cash loans          NaN   \n",
       "1607443     1697039      100006         Cash loans     32696.10   \n",
       "\n",
       "         AMT_APPLICATION  AMT_CREDIT  AMT_DOWN_PAYMENT  AMT_GOODS_PRICE  \\\n",
       "98162          675000.00    675000.0               NaN        675000.00   \n",
       "617859              0.00         0.0               NaN              NaN   \n",
       "830967         334917.00    267930.0          66987.00        334917.00   \n",
       "900957         270000.00    270000.0               NaN        270000.00   \n",
       "1131133        454500.00    481495.5               NaN        454500.00   \n",
       "1232752             0.00         0.0               NaN              NaN   \n",
       "1333657         26912.34     24219.0           2693.34         26912.34   \n",
       "1595430             0.00         0.0               NaN              NaN   \n",
       "1607443        688500.00    906615.0               NaN        688500.00   \n",
       "\n",
       "        WEEKDAY_APPR_PROCESS_START  HOUR_APPR_PROCESS_START  \\\n",
       "98162                     THURSDAY                       15   \n",
       "617859                    THURSDAY                       15   \n",
       "830967                      SUNDAY                       15   \n",
       "900957                    THURSDAY                       15   \n",
       "1131133                   SATURDAY                       12   \n",
       "1232752                   THURSDAY                       15   \n",
       "1333657                    TUESDAY                       15   \n",
       "1595430                   THURSDAY                       15   \n",
       "1607443                   THURSDAY                       15   \n",
       "\n",
       "        FLAG_LAST_APPL_PER_CONTRACT  NFLAG_LAST_APPL_IN_DAY  \\\n",
       "98162                             Y                       1   \n",
       "617859                            Y                       1   \n",
       "830967                            Y                       1   \n",
       "900957                            Y                       1   \n",
       "1131133                           Y                       1   \n",
       "1232752                           Y                       1   \n",
       "1333657                           Y                       1   \n",
       "1595430                           Y                       1   \n",
       "1607443                           Y                       1   \n",
       "\n",
       "         RATE_DOWN_PAYMENT  RATE_INTEREST_PRIMARY  RATE_INTEREST_PRIVILEGED  \\\n",
       "98162                  NaN                    NaN                       NaN   \n",
       "617859                 NaN                    NaN                       NaN   \n",
       "830967            0.217830                    NaN                       NaN   \n",
       "900957                 NaN                    NaN                       NaN   \n",
       "1131133                NaN                    NaN                       NaN   \n",
       "1232752                NaN                    NaN                       NaN   \n",
       "1333657           0.108994                    NaN                       NaN   \n",
       "1595430                NaN                    NaN                       NaN   \n",
       "1607443                NaN                    NaN                       NaN   \n",
       "\n",
       "        NAME_CASH_LOAN_PURPOSE NAME_CONTRACT_STATUS  DAYS_DECISION  \\\n",
       "98162                      XNA             Approved           -181   \n",
       "617859                     XAP             Canceled           -181   \n",
       "830967                     XAP             Approved           -311   \n",
       "900957                     XAP             Approved           -181   \n",
       "1131133                    XNA             Approved           -438   \n",
       "1232752                    XNA             Canceled           -181   \n",
       "1333657                    XAP             Approved           -617   \n",
       "1595430                    XNA             Canceled           -181   \n",
       "1607443                    XNA              Refused           -181   \n",
       "\n",
       "             NAME_PAYMENT_TYPE CODE_REJECT_REASON NAME_TYPE_SUITE  \\\n",
       "98162    Cash through the bank                XAP   Unaccompanied   \n",
       "617859                     XNA                XAP             NaN   \n",
       "830967   Cash through the bank                XAP          Family   \n",
       "900957                     XNA                XAP   Unaccompanied   \n",
       "1131133  Cash through the bank                XAP             NaN   \n",
       "1232752                    XNA                XAP             NaN   \n",
       "1333657                    XNA                XAP             NaN   \n",
       "1595430                    XNA                XAP             NaN   \n",
       "1607443  Cash through the bank              LIMIT   Unaccompanied   \n",
       "\n",
       "        NAME_CLIENT_TYPE     NAME_GOODS_CATEGORY NAME_PORTFOLIO  \\\n",
       "98162           Repeater                     XNA           Cash   \n",
       "617859          Repeater                     XNA            XNA   \n",
       "830967          Repeater             Audio/Video            POS   \n",
       "900957          Repeater                     XNA          Cards   \n",
       "1131133         Repeater                     XNA           Cash   \n",
       "1232752         Repeater                     XNA            XNA   \n",
       "1333657              New  Construction Materials            POS   \n",
       "1595430         Repeater                     XNA            XNA   \n",
       "1607443         Repeater                     XNA           Cash   \n",
       "\n",
       "        NAME_PRODUCT_TYPE             CHANNEL_TYPE  SELLERPLACE_AREA  \\\n",
       "98162              x-sell  Credit and cash offices                -1   \n",
       "617859                XNA  Credit and cash offices                -1   \n",
       "830967                XNA             Country-wide              8025   \n",
       "900957             x-sell  Credit and cash offices                -1   \n",
       "1131133            x-sell  Credit and cash offices                -1   \n",
       "1232752               XNA  Credit and cash offices                -1   \n",
       "1333657               XNA                    Stone                30   \n",
       "1595430               XNA  Credit and cash offices                -1   \n",
       "1607443            x-sell  Credit and cash offices                -1   \n",
       "\n",
       "         NAME_SELLER_INDUSTRY  CNT_PAYMENT NAME_YIELD_GROUP  \\\n",
       "98162                     XNA         48.0       low_normal   \n",
       "617859                    XNA          NaN              XNA   \n",
       "830967   Consumer electronics         12.0             high   \n",
       "900957                    XNA          0.0              XNA   \n",
       "1131133                   XNA         18.0             high   \n",
       "1232752                   XNA          NaN              XNA   \n",
       "1333657          Construction         12.0           middle   \n",
       "1595430                   XNA          NaN              XNA   \n",
       "1607443                   XNA         48.0       low_normal   \n",
       "\n",
       "                 PRODUCT_COMBINATION  DAYS_FIRST_DRAWING  DAYS_FIRST_DUE  \\\n",
       "98162               Cash X-Sell: low            365243.0          -151.0   \n",
       "617859                   Card Street                 NaN             NaN   \n",
       "830967   POS household with interest            365243.0          -281.0   \n",
       "900957                   Card X-Sell            365243.0        365243.0   \n",
       "1131133            Cash X-Sell: high                 NaN             NaN   \n",
       "1232752                         Cash                 NaN             NaN   \n",
       "1333657   POS industry with interest            365243.0          -545.0   \n",
       "1595430                         Cash                 NaN             NaN   \n",
       "1607443             Cash X-Sell: low                 NaN             NaN   \n",
       "\n",
       "         DAYS_LAST_DUE_1ST_VERSION  DAYS_LAST_DUE  DAYS_TERMINATION  \\\n",
       "98162                       1259.0         -151.0            -143.0   \n",
       "617859                         NaN            NaN               NaN   \n",
       "830967                        49.0       365243.0          365243.0   \n",
       "900957                    365243.0       365243.0          365243.0   \n",
       "1131133                        NaN            NaN               NaN   \n",
       "1232752                        NaN            NaN               NaN   \n",
       "1333657                     -215.0         -425.0            -416.0   \n",
       "1595430                        NaN            NaN               NaN   \n",
       "1607443                        NaN            NaN               NaN   \n",
       "\n",
       "         NFLAG_INSURED_ON_APPROVAL  \n",
       "98162                          0.0  \n",
       "617859                         NaN  \n",
       "830967                         0.0  \n",
       "900957                         0.0  \n",
       "1131133                        NaN  \n",
       "1232752                        NaN  \n",
       "1333657                        0.0  \n",
       "1595430                        NaN  \n",
       "1607443                        NaN  "
      ]
     },
     "execution_count": 26,
     "metadata": {},
     "output_type": "execute_result"
    }
   ],
   "source": [
    "df_previous_application_original[df_previous_application_original['SK_ID_CURR'] == 100006]"
   ]
  },
  {
   "cell_type": "code",
   "execution_count": 27,
   "metadata": {
    "ExecuteTime": {
     "end_time": "2018-06-24T15:08:51.441249Z",
     "start_time": "2018-06-24T15:08:50.706136Z"
    }
   },
   "outputs": [],
   "source": [
    "prev_app_df = df_previous_application_original.copy()"
   ]
  },
  {
   "cell_type": "code",
   "execution_count": 28,
   "metadata": {
    "ExecuteTime": {
     "end_time": "2018-06-24T15:08:51.705509Z",
     "start_time": "2018-06-24T15:08:51.443166Z"
    }
   },
   "outputs": [],
   "source": [
    "agg_funs = {'SK_ID_CURR': 'count', 'AMT_CREDIT': 'sum'}\n",
    "prev_apps = prev_app_df.groupby('SK_ID_CURR').agg(agg_funs)\n",
    "# prev_apps.columns = ['PREV APP COUNT', 'TOTAL PREV LOAN AMT']\n",
    "# merged_df = app_data.merge(prev_apps, left_on='SK_ID_CURR', right_index=True, how='left')"
   ]
  },
  {
   "cell_type": "code",
   "execution_count": 29,
   "metadata": {
    "ExecuteTime": {
     "end_time": "2018-06-24T15:08:51.722445Z",
     "start_time": "2018-06-24T15:08:51.707460Z"
    }
   },
   "outputs": [
    {
     "data": {
      "text/html": [
       "<div>\n",
       "<style scoped>\n",
       "    .dataframe tbody tr th:only-of-type {\n",
       "        vertical-align: middle;\n",
       "    }\n",
       "\n",
       "    .dataframe tbody tr th {\n",
       "        vertical-align: top;\n",
       "    }\n",
       "\n",
       "    .dataframe thead th {\n",
       "        text-align: right;\n",
       "    }\n",
       "</style>\n",
       "<table border=\"1\" class=\"dataframe\">\n",
       "  <thead>\n",
       "    <tr style=\"text-align: right;\">\n",
       "      <th></th>\n",
       "      <th>SK_ID_CURR</th>\n",
       "      <th>AMT_CREDIT</th>\n",
       "    </tr>\n",
       "    <tr>\n",
       "      <th>SK_ID_CURR</th>\n",
       "      <th></th>\n",
       "      <th></th>\n",
       "    </tr>\n",
       "  </thead>\n",
       "  <tbody>\n",
       "    <tr>\n",
       "      <th>100001</th>\n",
       "      <td>1</td>\n",
       "      <td>23787.000</td>\n",
       "    </tr>\n",
       "    <tr>\n",
       "      <th>100002</th>\n",
       "      <td>1</td>\n",
       "      <td>179055.000</td>\n",
       "    </tr>\n",
       "    <tr>\n",
       "      <th>100003</th>\n",
       "      <td>3</td>\n",
       "      <td>1452573.000</td>\n",
       "    </tr>\n",
       "    <tr>\n",
       "      <th>100004</th>\n",
       "      <td>1</td>\n",
       "      <td>20106.000</td>\n",
       "    </tr>\n",
       "    <tr>\n",
       "      <th>100005</th>\n",
       "      <td>2</td>\n",
       "      <td>40153.500</td>\n",
       "    </tr>\n",
       "    <tr>\n",
       "      <th>100006</th>\n",
       "      <td>9</td>\n",
       "      <td>2625259.500</td>\n",
       "    </tr>\n",
       "    <tr>\n",
       "      <th>100007</th>\n",
       "      <td>6</td>\n",
       "      <td>999832.500</td>\n",
       "    </tr>\n",
       "    <tr>\n",
       "      <th>100008</th>\n",
       "      <td>5</td>\n",
       "      <td>813838.500</td>\n",
       "    </tr>\n",
       "    <tr>\n",
       "      <th>100009</th>\n",
       "      <td>7</td>\n",
       "      <td>490963.500</td>\n",
       "    </tr>\n",
       "    <tr>\n",
       "      <th>100010</th>\n",
       "      <td>1</td>\n",
       "      <td>260811.000</td>\n",
       "    </tr>\n",
       "    <tr>\n",
       "      <th>100011</th>\n",
       "      <td>4</td>\n",
       "      <td>1047361.500</td>\n",
       "    </tr>\n",
       "    <tr>\n",
       "      <th>100012</th>\n",
       "      <td>4</td>\n",
       "      <td>296478.000</td>\n",
       "    </tr>\n",
       "    <tr>\n",
       "      <th>100013</th>\n",
       "      <td>4</td>\n",
       "      <td>584536.500</td>\n",
       "    </tr>\n",
       "    <tr>\n",
       "      <th>100014</th>\n",
       "      <td>2</td>\n",
       "      <td>205668.000</td>\n",
       "    </tr>\n",
       "    <tr>\n",
       "      <th>100015</th>\n",
       "      <td>1</td>\n",
       "      <td>67077.000</td>\n",
       "    </tr>\n",
       "    <tr>\n",
       "      <th>100016</th>\n",
       "      <td>4</td>\n",
       "      <td>424885.500</td>\n",
       "    </tr>\n",
       "    <tr>\n",
       "      <th>100017</th>\n",
       "      <td>2</td>\n",
       "      <td>351130.500</td>\n",
       "    </tr>\n",
       "    <tr>\n",
       "      <th>100018</th>\n",
       "      <td>4</td>\n",
       "      <td>1143958.365</td>\n",
       "    </tr>\n",
       "    <tr>\n",
       "      <th>100019</th>\n",
       "      <td>1</td>\n",
       "      <td>104683.500</td>\n",
       "    </tr>\n",
       "    <tr>\n",
       "      <th>100020</th>\n",
       "      <td>2</td>\n",
       "      <td>83412.000</td>\n",
       "    </tr>\n",
       "    <tr>\n",
       "      <th>100021</th>\n",
       "      <td>6</td>\n",
       "      <td>921694.500</td>\n",
       "    </tr>\n",
       "    <tr>\n",
       "      <th>100022</th>\n",
       "      <td>1</td>\n",
       "      <td>103203.000</td>\n",
       "    </tr>\n",
       "    <tr>\n",
       "      <th>100023</th>\n",
       "      <td>4</td>\n",
       "      <td>454068.000</td>\n",
       "    </tr>\n",
       "    <tr>\n",
       "      <th>100025</th>\n",
       "      <td>8</td>\n",
       "      <td>2363406.255</td>\n",
       "    </tr>\n",
       "    <tr>\n",
       "      <th>100026</th>\n",
       "      <td>3</td>\n",
       "      <td>876843.000</td>\n",
       "    </tr>\n",
       "    <tr>\n",
       "      <th>100027</th>\n",
       "      <td>4</td>\n",
       "      <td>695182.500</td>\n",
       "    </tr>\n",
       "    <tr>\n",
       "      <th>100028</th>\n",
       "      <td>5</td>\n",
       "      <td>464602.500</td>\n",
       "    </tr>\n",
       "    <tr>\n",
       "      <th>100029</th>\n",
       "      <td>1</td>\n",
       "      <td>126000.000</td>\n",
       "    </tr>\n",
       "    <tr>\n",
       "      <th>100030</th>\n",
       "      <td>12</td>\n",
       "      <td>390415.725</td>\n",
       "    </tr>\n",
       "    <tr>\n",
       "      <th>100032</th>\n",
       "      <td>1</td>\n",
       "      <td>42255.000</td>\n",
       "    </tr>\n",
       "    <tr>\n",
       "      <th>...</th>\n",
       "      <td>...</td>\n",
       "      <td>...</td>\n",
       "    </tr>\n",
       "    <tr>\n",
       "      <th>456225</th>\n",
       "      <td>5</td>\n",
       "      <td>1727541.000</td>\n",
       "    </tr>\n",
       "    <tr>\n",
       "      <th>456226</th>\n",
       "      <td>1</td>\n",
       "      <td>561384.000</td>\n",
       "    </tr>\n",
       "    <tr>\n",
       "      <th>456227</th>\n",
       "      <td>8</td>\n",
       "      <td>679099.500</td>\n",
       "    </tr>\n",
       "    <tr>\n",
       "      <th>456228</th>\n",
       "      <td>9</td>\n",
       "      <td>3862345.500</td>\n",
       "    </tr>\n",
       "    <tr>\n",
       "      <th>456230</th>\n",
       "      <td>5</td>\n",
       "      <td>1393824.780</td>\n",
       "    </tr>\n",
       "    <tr>\n",
       "      <th>456231</th>\n",
       "      <td>14</td>\n",
       "      <td>2273112.000</td>\n",
       "    </tr>\n",
       "    <tr>\n",
       "      <th>456232</th>\n",
       "      <td>4</td>\n",
       "      <td>427081.500</td>\n",
       "    </tr>\n",
       "    <tr>\n",
       "      <th>456233</th>\n",
       "      <td>2</td>\n",
       "      <td>135450.000</td>\n",
       "    </tr>\n",
       "    <tr>\n",
       "      <th>456234</th>\n",
       "      <td>4</td>\n",
       "      <td>166819.500</td>\n",
       "    </tr>\n",
       "    <tr>\n",
       "      <th>456235</th>\n",
       "      <td>5</td>\n",
       "      <td>536269.500</td>\n",
       "    </tr>\n",
       "    <tr>\n",
       "      <th>456236</th>\n",
       "      <td>4</td>\n",
       "      <td>907605.000</td>\n",
       "    </tr>\n",
       "    <tr>\n",
       "      <th>456237</th>\n",
       "      <td>9</td>\n",
       "      <td>2038329.225</td>\n",
       "    </tr>\n",
       "    <tr>\n",
       "      <th>456238</th>\n",
       "      <td>2</td>\n",
       "      <td>567954.000</td>\n",
       "    </tr>\n",
       "    <tr>\n",
       "      <th>456239</th>\n",
       "      <td>2</td>\n",
       "      <td>151839.000</td>\n",
       "    </tr>\n",
       "    <tr>\n",
       "      <th>456240</th>\n",
       "      <td>5</td>\n",
       "      <td>1554453.000</td>\n",
       "    </tr>\n",
       "    <tr>\n",
       "      <th>456241</th>\n",
       "      <td>9</td>\n",
       "      <td>2056419.000</td>\n",
       "    </tr>\n",
       "    <tr>\n",
       "      <th>456242</th>\n",
       "      <td>4</td>\n",
       "      <td>426658.500</td>\n",
       "    </tr>\n",
       "    <tr>\n",
       "      <th>456243</th>\n",
       "      <td>7</td>\n",
       "      <td>427351.500</td>\n",
       "    </tr>\n",
       "    <tr>\n",
       "      <th>456244</th>\n",
       "      <td>18</td>\n",
       "      <td>6290028.000</td>\n",
       "    </tr>\n",
       "    <tr>\n",
       "      <th>456245</th>\n",
       "      <td>2</td>\n",
       "      <td>164047.500</td>\n",
       "    </tr>\n",
       "    <tr>\n",
       "      <th>456246</th>\n",
       "      <td>2</td>\n",
       "      <td>168093.000</td>\n",
       "    </tr>\n",
       "    <tr>\n",
       "      <th>456247</th>\n",
       "      <td>5</td>\n",
       "      <td>295920.000</td>\n",
       "    </tr>\n",
       "    <tr>\n",
       "      <th>456248</th>\n",
       "      <td>4</td>\n",
       "      <td>2546419.500</td>\n",
       "    </tr>\n",
       "    <tr>\n",
       "      <th>456249</th>\n",
       "      <td>2</td>\n",
       "      <td>317398.500</td>\n",
       "    </tr>\n",
       "    <tr>\n",
       "      <th>456250</th>\n",
       "      <td>8</td>\n",
       "      <td>1166746.500</td>\n",
       "    </tr>\n",
       "    <tr>\n",
       "      <th>456251</th>\n",
       "      <td>1</td>\n",
       "      <td>40455.000</td>\n",
       "    </tr>\n",
       "    <tr>\n",
       "      <th>456252</th>\n",
       "      <td>1</td>\n",
       "      <td>56821.500</td>\n",
       "    </tr>\n",
       "    <tr>\n",
       "      <th>456253</th>\n",
       "      <td>2</td>\n",
       "      <td>41251.500</td>\n",
       "    </tr>\n",
       "    <tr>\n",
       "      <th>456254</th>\n",
       "      <td>2</td>\n",
       "      <td>268879.500</td>\n",
       "    </tr>\n",
       "    <tr>\n",
       "      <th>456255</th>\n",
       "      <td>8</td>\n",
       "      <td>3395448.000</td>\n",
       "    </tr>\n",
       "  </tbody>\n",
       "</table>\n",
       "<p>338857 rows × 2 columns</p>\n",
       "</div>"
      ],
      "text/plain": [
       "            SK_ID_CURR   AMT_CREDIT\n",
       "SK_ID_CURR                         \n",
       "100001               1    23787.000\n",
       "100002               1   179055.000\n",
       "100003               3  1452573.000\n",
       "100004               1    20106.000\n",
       "100005               2    40153.500\n",
       "100006               9  2625259.500\n",
       "100007               6   999832.500\n",
       "100008               5   813838.500\n",
       "100009               7   490963.500\n",
       "100010               1   260811.000\n",
       "100011               4  1047361.500\n",
       "100012               4   296478.000\n",
       "100013               4   584536.500\n",
       "100014               2   205668.000\n",
       "100015               1    67077.000\n",
       "100016               4   424885.500\n",
       "100017               2   351130.500\n",
       "100018               4  1143958.365\n",
       "100019               1   104683.500\n",
       "100020               2    83412.000\n",
       "100021               6   921694.500\n",
       "100022               1   103203.000\n",
       "100023               4   454068.000\n",
       "100025               8  2363406.255\n",
       "100026               3   876843.000\n",
       "100027               4   695182.500\n",
       "100028               5   464602.500\n",
       "100029               1   126000.000\n",
       "100030              12   390415.725\n",
       "100032               1    42255.000\n",
       "...                ...          ...\n",
       "456225               5  1727541.000\n",
       "456226               1   561384.000\n",
       "456227               8   679099.500\n",
       "456228               9  3862345.500\n",
       "456230               5  1393824.780\n",
       "456231              14  2273112.000\n",
       "456232               4   427081.500\n",
       "456233               2   135450.000\n",
       "456234               4   166819.500\n",
       "456235               5   536269.500\n",
       "456236               4   907605.000\n",
       "456237               9  2038329.225\n",
       "456238               2   567954.000\n",
       "456239               2   151839.000\n",
       "456240               5  1554453.000\n",
       "456241               9  2056419.000\n",
       "456242               4   426658.500\n",
       "456243               7   427351.500\n",
       "456244              18  6290028.000\n",
       "456245               2   164047.500\n",
       "456246               2   168093.000\n",
       "456247               5   295920.000\n",
       "456248               4  2546419.500\n",
       "456249               2   317398.500\n",
       "456250               8  1166746.500\n",
       "456251               1    40455.000\n",
       "456252               1    56821.500\n",
       "456253               2    41251.500\n",
       "456254               2   268879.500\n",
       "456255               8  3395448.000\n",
       "\n",
       "[338857 rows x 2 columns]"
      ]
     },
     "execution_count": 29,
     "metadata": {},
     "output_type": "execute_result"
    }
   ],
   "source": [
    "prev_apps"
   ]
  },
  {
   "cell_type": "code",
   "execution_count": 30,
   "metadata": {
    "ExecuteTime": {
     "end_time": "2018-06-24T15:08:52.171222Z",
     "start_time": "2018-06-24T15:08:51.724416Z"
    }
   },
   "outputs": [
    {
     "data": {
      "text/plain": [
       "110"
      ]
     },
     "execution_count": 30,
     "metadata": {},
     "output_type": "execute_result"
    }
   ],
   "source": [
    "gc.collect()"
   ]
  },
  {
   "cell_type": "code",
   "execution_count": null,
   "metadata": {},
   "outputs": [],
   "source": []
  },
  {
   "cell_type": "code",
   "execution_count": 31,
   "metadata": {
    "ExecuteTime": {
     "end_time": "2018-06-24T15:08:52.180196Z",
     "start_time": "2018-06-24T15:08:52.174212Z"
    }
   },
   "outputs": [],
   "source": [
    "# df_bureau = pd.read_csv(\"../data/bureau.csv\")\n",
    "# df_bureau_balance = pd.read_csv(\"../data/bureau_balance.csv\")"
   ]
  },
  {
   "cell_type": "markdown",
   "metadata": {},
   "source": [
    "## Feature: df_bureau_balance"
   ]
  },
  {
   "cell_type": "code",
   "execution_count": 32,
   "metadata": {
    "ExecuteTime": {
     "end_time": "2018-06-24T15:09:02.230333Z",
     "start_time": "2018-06-24T15:08:52.183191Z"
    }
   },
   "outputs": [],
   "source": [
    "# df_bureau_balance['K_BUREAU_BALANCE_COUNT'] = df_bureau_balance.groupby('SK_ID_BUREAU')['SK_ID_BUREAU'].transform('count')\n",
    "\n",
    "df_bureau_balance['K_BUREAU_BALANCE_MONTHS_BALANCE_MEAN'] = df_bureau_balance.groupby('SK_ID_BUREAU')['MONTHS_BALANCE'].transform(np.mean)\n",
    "df_bureau_balance['K_BUREAU_BALANCE_MONTHS_BALANCE_MAX'] = df_bureau_balance.groupby('SK_ID_BUREAU')['MONTHS_BALANCE'].transform(np.max)\n",
    "df_bureau_balance['K_BUREAU_BALANCE_MONTHS_BALANCE_MIN'] = df_bureau_balance.groupby('SK_ID_BUREAU')['MONTHS_BALANCE'].transform(np.min)\n",
    "\n",
    "# df_bureau_balance[['K_BB_STATUS_0', 'K_BB_STATUS_1', 'K_BB_STATUS_2', 'K_BB_STATUS_3', \n",
    "#                    'K_BB_STATUS_4', 'K_BB_STATUS_5', 'K_BB_STATUS_C', 'K_BB_STATUS_X']] = pd.get_dummies(df_bureau_balance['STATUS'], prefix=\"K_BB_STATUS_\")\n",
    "\n",
    "# #Drop Duplicates\n",
    "df_bureau_balance = df_bureau_balance[['SK_ID_BUREAU','K_BUREAU_BALANCE_MONTHS_BALANCE_MEAN',\n",
    "                                                 'K_BUREAU_BALANCE_MONTHS_BALANCE_MAX',\n",
    "                                                'K_BUREAU_BALANCE_MONTHS_BALANCE_MIN']].drop_duplicates()"
   ]
  },
  {
   "cell_type": "code",
   "execution_count": 33,
   "metadata": {
    "ExecuteTime": {
     "end_time": "2018-06-24T15:09:02.547484Z",
     "start_time": "2018-06-24T15:09:02.232328Z"
    }
   },
   "outputs": [
    {
     "data": {
      "text/plain": [
       "55"
      ]
     },
     "execution_count": 33,
     "metadata": {},
     "output_type": "execute_result"
    }
   ],
   "source": [
    "gc.collect()"
   ]
  },
  {
   "cell_type": "markdown",
   "metadata": {},
   "source": [
    "## Feature: df_bureau"
   ]
  },
  {
   "cell_type": "code",
   "execution_count": 34,
   "metadata": {
    "ExecuteTime": {
     "end_time": "2018-06-24T15:09:02.684120Z",
     "start_time": "2018-06-24T15:09:02.550481Z"
    }
   },
   "outputs": [
    {
     "data": {
      "text/plain": [
       "1716428"
      ]
     },
     "execution_count": 34,
     "metadata": {},
     "output_type": "execute_result"
    }
   ],
   "source": [
    "len(df_bureau[\"SK_ID_BUREAU\"].unique())"
   ]
  },
  {
   "cell_type": "code",
   "execution_count": 35,
   "metadata": {
    "ExecuteTime": {
     "end_time": "2018-06-24T15:09:02.693097Z",
     "start_time": "2018-06-24T15:09:02.686116Z"
    }
   },
   "outputs": [
    {
     "data": {
      "text/plain": [
       "(1716428, 17)"
      ]
     },
     "execution_count": 35,
     "metadata": {},
     "output_type": "execute_result"
    }
   ],
   "source": [
    "df_bureau.shape"
   ]
  },
  {
   "cell_type": "code",
   "execution_count": 36,
   "metadata": {
    "ExecuteTime": {
     "end_time": "2018-06-24T15:09:04.270139Z",
     "start_time": "2018-06-24T15:09:02.696088Z"
    }
   },
   "outputs": [],
   "source": [
    "df_bureau = pd.merge(df_bureau, df_bureau_balance, on=\"SK_ID_BUREAU\", how=\"left\", suffixes=('_bureau', '_bureau_balance'))"
   ]
  },
  {
   "cell_type": "code",
   "execution_count": 37,
   "metadata": {
    "ExecuteTime": {
     "end_time": "2018-06-24T15:09:04.279092Z",
     "start_time": "2018-06-24T15:09:04.272108Z"
    }
   },
   "outputs": [
    {
     "data": {
      "text/plain": [
       "(1716428, 20)"
      ]
     },
     "execution_count": 37,
     "metadata": {},
     "output_type": "execute_result"
    }
   ],
   "source": [
    "df_bureau.shape"
   ]
  },
  {
   "cell_type": "code",
   "execution_count": 38,
   "metadata": {
    "ExecuteTime": {
     "end_time": "2018-06-24T15:10:04.943316Z",
     "start_time": "2018-06-24T15:09:04.282083Z"
    }
   },
   "outputs": [],
   "source": [
    "# #Feature - SK_ID_BUREAU represents each loan application.\n",
    "# #Grouping by SK_ID_CURR significes the number of previous loans per applicant.\n",
    "df_bureau['K_BUREAU_COUNT'] = df_bureau.groupby('SK_ID_CURR')['SK_ID_BUREAU'].transform('count')\n",
    "\n",
    "# # #Feature - CREDIT_ACTIVE\n",
    "# #Frequency Encoding\n",
    "# temp_bureau_credit_active = df_bureau.groupby(['SK_ID_CURR','CREDIT_ACTIVE']).size()/df_bureau.groupby(['SK_ID_CURR']).size()\n",
    "# temp_bureau_credit_active = temp_bureau_credit_active.to_frame().reset_index().rename(columns= {0: 'TEMP_BUREAU_CREDIT_ACTIVE_FREQENCODE'})\n",
    "# temp_bureau_credit_active = temp_bureau_credit_active.pivot(index='SK_ID_CURR', columns='CREDIT_ACTIVE', values='TEMP_BUREAU_CREDIT_ACTIVE_FREQENCODE')\n",
    "# temp_bureau_credit_active.reset_index(inplace = True)\n",
    "# temp_bureau_credit_active.columns = ['SK_ID_CURR', 'K_CREDIT_ACTIVE_ACTIVE', 'K_CREDIT_ACTIVE_BADDEBT', 'K_CREDIT_ACTIVE_CLOSED', 'K_CREDIT_ACTIVE_SOLD']\n",
    "# df_bureau = pd.merge(df_bureau, temp_bureau_credit_active, on=[\"SK_ID_CURR\"], how=\"left\", suffixes=('_bureau', '_credit_active_percentage'))\n",
    "# del temp_bureau_credit_active\n",
    "\n",
    "# #SUBSET DATA - CREDIT_ACTIVE == ACTIVE\n",
    "# df_bureau_active = df_bureau[df_bureau['CREDIT_ACTIVE']=='Active']\n",
    "\n",
    "# df_bureau_active['K_BUREAU_ACTIVE_DAYS_CREDIT_MEAN'] = df_bureau_active.groupby('SK_ID_CURR')['DAYS_CREDIT'].transform(np.mean)\n",
    "# df_bureau_active['K_BUREAU_ACTIVE_DAYS_CREDIT_MAX'] = df_bureau_active.groupby('SK_ID_CURR')['DAYS_CREDIT'].transform(np.max)\n",
    "# df_bureau = pd.merge(df_bureau, df_bureau_active, on=[\"SK_ID_CURR\"], how=\"left\", suffixes=('_bureau', '_bureau_active'))\n",
    "\n",
    "\n",
    "# # #Feature - DAYS_CREDIT\n",
    "df_bureau['K_BUREAU_DAYS_CREDIT_MEAN'] = df_bureau.groupby('SK_ID_CURR')['DAYS_CREDIT'].transform(np.mean)\n",
    "df_bureau['K_BUREAU_DAYS_CREDIT_MAX'] = df_bureau.groupby('SK_ID_CURR')['DAYS_CREDIT'].transform(np.max)\n",
    "df_bureau['K_BUREAU_DAYS_CREDIT_MIN'] = df_bureau.groupby('SK_ID_CURR')['DAYS_CREDIT'].transform(np.min)\n",
    "# df_bureau['K_BUREAU_DAYS_CREDIT_VAR'] = df_bureau.groupby('SK_ID_CURR')['DAYS_CREDIT'].transform(np.var)\n",
    "\n",
    "# # #Feature - DAYS_CREDIT_UPDATE\n",
    "# df_bureau['K_BUREAU_DAYS_CREDIT_UPDATE_MEAN'] = df_bureau.groupby('SK_ID_CURR')['DAYS_CREDIT_UPDATE'].transform(np.mean)\n",
    "# df_bureau['K_BUREAU_DAYS_CREDIT_UPDATE_MAX'] = df_bureau.groupby('SK_ID_CURR')['DAYS_CREDIT_UPDATE'].transform(np.max)\n",
    "# df_bureau['K_BUREAU_DAYS_CREDIT_UPDATE_MIN'] = df_bureau.groupby('SK_ID_CURR')['DAYS_CREDIT_UPDATE'].transform(np.min)\n",
    "# df_bureau['K_BUREAU_DAYS_CREDIT_UPDATE_VAR'] = df_bureau.groupby('SK_ID_CURR')['DAYS_CREDIT_UPDATE'].transform(np.var)\n",
    "\n",
    "gc.collect()\n",
    "# # #Successive difference between credit application per customer - Mean, Min, Max\n",
    "temp_bureau_days_credit = df_bureau.copy()\n",
    "temp_bureau_days_credit.sort_values(['SK_ID_CURR', 'DAYS_CREDIT'], inplace=True)\n",
    "temp_bureau_days_credit['temp_successive_diff'] = temp_bureau_days_credit.groupby('SK_ID_CURR')['DAYS_CREDIT'].transform(lambda ele: ele.diff())\n",
    "temp_bureau_days_credit['K_BUREAU_DAYS_CREDIT_SORTED_SUCCESSIVE_DIFF_MEAN'] = temp_bureau_days_credit.groupby('SK_ID_CURR')['temp_successive_diff'].transform(np.mean)\n",
    "df_bureau = pd.merge(df_bureau, temp_bureau_days_credit[['SK_ID_CURR','K_BUREAU_DAYS_CREDIT_SORTED_SUCCESSIVE_DIFF_MEAN']].drop_duplicates(), \n",
    "                     on=\"SK_ID_CURR\", how=\"left\", suffixes=('_bureau', '_days_credit_sorted_successive_diff'))\n",
    "# del temp_bureau_days_credit\n",
    "\n",
    "# df_bureau['K_BUREAU_CREDIT_DAY_OVERDUE_MEAN'] = df_bureau.groupby('SK_ID_CURR')['CREDIT_DAY_OVERDUE'].transform(np.mean)\n",
    "# df_bureau['K_BUREAU_CREDIT_DAY_OVERDUE_MAX'] = df_bureau.groupby('SK_ID_CURR')['CREDIT_DAY_OVERDUE'].transform(np.max)\n",
    "# df_bureau['K_BUREAU_CREDIT_DAY_OVERDUE_MIN'] = df_bureau.groupby('SK_ID_CURR')['CREDIT_DAY_OVERDUE'].transform(np.min)\n",
    "\n",
    "df_bureau['K_BUREAU_DAYS_CREDIT_ENDDATE_MEAN'] = df_bureau.groupby('SK_ID_CURR')['DAYS_CREDIT_ENDDATE'].transform(np.mean)\n",
    "df_bureau['K_BUREAU_DAYS_CREDIT_ENDDATE_MAX'] = df_bureau.groupby('SK_ID_CURR')['DAYS_CREDIT_ENDDATE'].transform(np.max)\n",
    "df_bureau['K_BUREAU_DAYS_CREDIT_ENDDATE_MIN'] = df_bureau.groupby('SK_ID_CURR')['DAYS_CREDIT_ENDDATE'].transform(np.min)\n",
    "\n",
    "df_bureau['K_BUREAU_DAYS_ENDDATE_FACT_MEAN'] = df_bureau.groupby('SK_ID_CURR')['DAYS_ENDDATE_FACT'].transform(np.mean)\n",
    "df_bureau['K_BUREAU_DAYS_ENDDATE_FACT_MAX'] = df_bureau.groupby('SK_ID_CURR')['DAYS_ENDDATE_FACT'].transform(np.max)\n",
    "df_bureau['K_BUREAU_DAYS_ENDDATE_FACT_MIN'] = df_bureau.groupby('SK_ID_CURR')['DAYS_ENDDATE_FACT'].transform(np.min)\n",
    "\n",
    "df_bureau['K_BUREAU_AMT_CREDIT_MAX_OVERDUE_MEAN'] = df_bureau.groupby('SK_ID_CURR')['AMT_CREDIT_MAX_OVERDUE'].transform(np.mean)\n",
    "df_bureau['K_BUREAU_AMT_CREDIT_MAX_OVERDUE_MAX'] = df_bureau.groupby('SK_ID_CURR')['AMT_CREDIT_MAX_OVERDUE'].transform(np.max)\n",
    "df_bureau['K_BUREAU_AMT_CREDIT_MAX_OVERDUE_MIN'] = df_bureau.groupby('SK_ID_CURR')['AMT_CREDIT_MAX_OVERDUE'].transform(np.min)\n",
    "\n",
    "\n",
    "# df_bureau['K_BUREAU_CNT_CREDIT_PROLONG_MAX'] = df_bureau.groupby('SK_ID_CURR')['CNT_CREDIT_PROLONG'].transform(np.max)\n",
    "# df_bureau['K_BUREAU_CNT_CREDIT_PROLONG_SUM'] = df_bureau.groupby('SK_ID_CURR')['CNT_CREDIT_PROLONG'].transform(np.sum)\n",
    "\n",
    "# #To-Do: Calculate a utilization metric for some of the features below?\n",
    "df_bureau['K_BUREAU_AMT_CREDIT_SUM_MEAN'] = df_bureau.groupby('SK_ID_CURR')['AMT_CREDIT_SUM'].transform(np.mean)\n",
    "df_bureau['K_BUREAU_AMT_CREDIT_SUM_MAX'] = df_bureau.groupby('SK_ID_CURR')['AMT_CREDIT_SUM'].transform(np.max)\n",
    "df_bureau['K_BUREAU_AMT_CREDIT_SUM_MIN'] = df_bureau.groupby('SK_ID_CURR')['AMT_CREDIT_SUM'].transform(np.min)\n",
    "\n",
    "df_bureau['K_BUREAU_AMT_CREDIT_SUM_DEBT_MEAN'] = df_bureau.groupby('SK_ID_CURR')['AMT_CREDIT_SUM_DEBT'].transform(np.mean)\n",
    "df_bureau['K_BUREAU_AMT_CREDIT_SUM_DEBT_MAX'] = df_bureau.groupby('SK_ID_CURR')['AMT_CREDIT_SUM_DEBT'].transform(np.max)\n",
    "df_bureau['K_BUREAU_AMT_CREDIT_SUM_DEBT_MIN'] = df_bureau.groupby('SK_ID_CURR')['AMT_CREDIT_SUM_DEBT'].transform(np.min)\n",
    "\n",
    "df_bureau['K_BUREAU_AMT_CREDIT_SUM_LIMIT_MEAN'] = df_bureau.groupby('SK_ID_CURR')['AMT_CREDIT_SUM_LIMIT'].transform(np.mean)\n",
    "df_bureau['K_BUREAU_AMT_CREDIT_SUM_LIMIT_MAX'] = df_bureau.groupby('SK_ID_CURR')['AMT_CREDIT_SUM_LIMIT'].transform(np.max)\n",
    "df_bureau['K_BUREAU_AMT_CREDIT_SUM_LIMIT_MIN'] = df_bureau.groupby('SK_ID_CURR')['AMT_CREDIT_SUM_LIMIT'].transform(np.min)\n",
    "\n",
    "df_bureau['K_BUREAU_AMT_CREDIT_SUM_OVERDUE_MEAN'] = df_bureau.groupby('SK_ID_CURR')['AMT_CREDIT_SUM_OVERDUE'].transform(np.mean)\n",
    "df_bureau['K_BUREAU_AMT_CREDIT_SUM_OVERDUE_MAX'] = df_bureau.groupby('SK_ID_CURR')['AMT_CREDIT_SUM_OVERDUE'].transform(np.max)\n",
    "df_bureau['K_BUREAU_AMT_CREDIT_SUM_OVERDUE_MIN'] = df_bureau.groupby('SK_ID_CURR')['AMT_CREDIT_SUM_OVERDUE'].transform(np.min)\n",
    "\n",
    "df_bureau['K_BUREAU_AMT_ANNUITY_MEAN'] = df_bureau.groupby('SK_ID_CURR')['AMT_ANNUITY'].transform(np.mean)\n",
    "df_bureau['K_BUREAU_AMT_ANNUITY_MAX'] = df_bureau.groupby('SK_ID_CURR')['AMT_ANNUITY'].transform(np.max)\n",
    "df_bureau['K_BUREAU_AMT_ANNUITY_MIN'] = df_bureau.groupby('SK_ID_CURR')['AMT_ANNUITY'].transform(np.min)\n",
    "\n",
    "\n",
    "# #Added from df_bureau_balance\n",
    "df_bureau['K_BUREAU_BALANCE_MONTHS_BALANCE_MEAN'] = df_bureau.groupby('SK_ID_CURR')['K_BUREAU_BALANCE_MONTHS_BALANCE_MEAN'].transform(np.mean)\n",
    "df_bureau['K_BUREAU_BALANCE_MONTHS_BALANCE_MAX'] = df_bureau.groupby('SK_ID_CURR')['K_BUREAU_BALANCE_MONTHS_BALANCE_MAX'].transform(np.max)\n",
    "df_bureau['K_BUREAU_BALANCE_MONTHS_BALANCE_MIN'] = df_bureau.groupby('SK_ID_CURR')['K_BUREAU_BALANCE_MONTHS_BALANCE_MIN'].transform(np.min)\n",
    "\n",
    "\n",
    "\n",
    "#Drop Duplicates\n",
    "df_bureau = df_bureau[['SK_ID_CURR', 'K_BUREAU_COUNT', \n",
    "                       'K_BUREAU_DAYS_CREDIT_MEAN', 'K_BUREAU_DAYS_CREDIT_MAX', 'K_BUREAU_DAYS_CREDIT_MIN',\n",
    "                       'K_BUREAU_DAYS_CREDIT_SORTED_SUCCESSIVE_DIFF_MEAN',\n",
    "                      'K_BUREAU_DAYS_CREDIT_ENDDATE_MEAN', 'K_BUREAU_DAYS_CREDIT_ENDDATE_MAX', 'K_BUREAU_DAYS_CREDIT_ENDDATE_MIN',\n",
    "                      'K_BUREAU_DAYS_ENDDATE_FACT_MEAN', 'K_BUREAU_DAYS_ENDDATE_FACT_MAX', 'K_BUREAU_DAYS_ENDDATE_FACT_MIN',\n",
    "                      'K_BUREAU_AMT_CREDIT_MAX_OVERDUE_MEAN', 'K_BUREAU_AMT_CREDIT_MAX_OVERDUE_MAX', 'K_BUREAU_AMT_CREDIT_MAX_OVERDUE_MIN',\n",
    "                      'K_BUREAU_AMT_CREDIT_SUM_MEAN', 'K_BUREAU_AMT_CREDIT_SUM_MAX', 'K_BUREAU_AMT_CREDIT_SUM_MIN',\n",
    "                      'K_BUREAU_AMT_CREDIT_SUM_DEBT_MEAN', 'K_BUREAU_AMT_CREDIT_SUM_DEBT_MAX', 'K_BUREAU_AMT_CREDIT_SUM_DEBT_MIN',\n",
    "                      'K_BUREAU_AMT_CREDIT_SUM_LIMIT_MEAN', 'K_BUREAU_AMT_CREDIT_SUM_LIMIT_MAX', 'K_BUREAU_AMT_CREDIT_SUM_LIMIT_MIN',\n",
    "                      'K_BUREAU_AMT_CREDIT_SUM_OVERDUE_MEAN', 'K_BUREAU_AMT_CREDIT_SUM_OVERDUE_MAX', 'K_BUREAU_AMT_CREDIT_SUM_OVERDUE_MIN',\n",
    "                      'K_BUREAU_AMT_ANNUITY_MEAN', 'K_BUREAU_AMT_ANNUITY_MAX', 'K_BUREAU_AMT_ANNUITY_MIN',\n",
    "                      'K_BUREAU_BALANCE_MONTHS_BALANCE_MEAN', 'K_BUREAU_BALANCE_MONTHS_BALANCE_MAX', 'K_BUREAU_BALANCE_MONTHS_BALANCE_MIN']].drop_duplicates()"
   ]
  },
  {
   "cell_type": "code",
   "execution_count": 39,
   "metadata": {
    "ExecuteTime": {
     "end_time": "2018-06-24T15:10:04.952294Z",
     "start_time": "2018-06-24T15:10:04.945311Z"
    }
   },
   "outputs": [
    {
     "data": {
      "text/plain": [
       "(305811, 33)"
      ]
     },
     "execution_count": 39,
     "metadata": {},
     "output_type": "execute_result"
    }
   ],
   "source": [
    "df_bureau.shape"
   ]
  },
  {
   "cell_type": "code",
   "execution_count": 40,
   "metadata": {
    "ExecuteTime": {
     "end_time": "2018-06-24T15:10:05.356211Z",
     "start_time": "2018-06-24T15:10:04.956285Z"
    }
   },
   "outputs": [
    {
     "name": "stdout",
     "output_type": "stream",
     "text": [
      "df_bureau_original (1716428, 17)\n",
      "263491\n",
      "42320\n",
      "Sum:  305811\n"
     ]
    }
   ],
   "source": [
    "# #CHECKPOINT\n",
    "print(\"df_bureau_original\", df_bureau_original.shape)\n",
    "print(len(set(df_bureau_original[\"SK_ID_CURR\"]).intersection(set(df_application_train[\"SK_ID_CURR\"]))))\n",
    "print(len(set(df_bureau_original[\"SK_ID_CURR\"]).intersection(set(df_application_test[\"SK_ID_CURR\"]))))\n",
    "print(\"Sum: \", 263491 + 42320)"
   ]
  },
  {
   "cell_type": "code",
   "execution_count": 41,
   "metadata": {
    "ExecuteTime": {
     "end_time": "2018-06-24T15:10:05.529748Z",
     "start_time": "2018-06-24T15:10:05.358218Z"
    }
   },
   "outputs": [
    {
     "name": "stdout",
     "output_type": "stream",
     "text": [
      "df_bureau (305811, 33)\n",
      "263491\n",
      "42320\n",
      "Sum:  305811\n"
     ]
    }
   ],
   "source": [
    "# #CHECKPOINT\n",
    "print(\"df_bureau\", df_bureau.shape)\n",
    "print(len(set(df_bureau[\"SK_ID_CURR\"]).intersection(set(df_application_train[\"SK_ID_CURR\"]))))\n",
    "print(len(set(df_bureau[\"SK_ID_CURR\"]).intersection(set(df_application_test[\"SK_ID_CURR\"]))))\n",
    "print(\"Sum: \", 263491 + 42320)"
   ]
  },
  {
   "cell_type": "code",
   "execution_count": 42,
   "metadata": {
    "ExecuteTime": {
     "end_time": "2018-06-24T15:10:05.685359Z",
     "start_time": "2018-06-24T15:10:05.531743Z"
    }
   },
   "outputs": [
    {
     "data": {
      "text/plain": [
       "43"
      ]
     },
     "execution_count": 42,
     "metadata": {},
     "output_type": "execute_result"
    }
   ],
   "source": [
    "gc.collect()"
   ]
  },
  {
   "cell_type": "code",
   "execution_count": null,
   "metadata": {},
   "outputs": [],
   "source": []
  },
  {
   "cell_type": "markdown",
   "metadata": {},
   "source": [
    "## Feature MAIN TABLE: df_application_train"
   ]
  },
  {
   "cell_type": "code",
   "execution_count": 43,
   "metadata": {
    "ExecuteTime": {
     "end_time": "2018-06-24T15:10:05.855875Z",
     "start_time": "2018-06-24T15:10:05.688326Z"
    }
   },
   "outputs": [],
   "source": [
    "# #Missing values have been masked with the value 365243\n",
    "df_application_train['DAYS_EMPLOYED'].replace(365243, np.nan, inplace= True)\n",
    "df_application_test['DAYS_EMPLOYED'].replace(365243, np.nan, inplace= True)"
   ]
  },
  {
   "cell_type": "code",
   "execution_count": 44,
   "metadata": {
    "ExecuteTime": {
     "end_time": "2018-06-24T15:10:06.716385Z",
     "start_time": "2018-06-24T15:10:05.857871Z"
    }
   },
   "outputs": [],
   "source": [
    "# #Feature - Divide existing features\n",
    "df_application_train['K_APP_CREDIT_TO_INCOME_RATIO'] = df_application_train['AMT_CREDIT']/df_application_train['AMT_INCOME_TOTAL']\n",
    "df_application_train['K_APP_ANNUITY_TO_INCOME_RATIO'] = df_application_train['AMT_ANNUITY']/df_application_train['AMT_INCOME_TOTAL']\n",
    "df_application_train['K_APP_CREDIT_TO_ANNUITY_RATIO'] = df_application_train['AMT_CREDIT']/df_application_train['AMT_ANNUITY']\n",
    "# df_application_train['K_APP_INCOME_PER_PERSON_RATIO'] = df_application_train['AMT_INCOME_TOTAL'] / df_application_train['CNT_FAM_MEMBERS']\n",
    "\n",
    "df_application_train['K_APP_CREDITTOINCOME_TO_DAYSEMPLOYED_RATIO'] = df_application_train['K_APP_CREDIT_TO_INCOME_RATIO'] /df_application_train['DAYS_EMPLOYED']\n",
    "df_application_train['K_APP_ANNUITYTOINCOME_TO_DAYSEMPLOYED_RATIO'] = df_application_train['K_APP_ANNUITY_TO_INCOME_RATIO'] /df_application_train['DAYS_EMPLOYED']\n",
    "df_application_train['K_APP_ANNUITYTOCREDIT_TO_DAYSEMPLOYED_RATIO'] = df_application_train['K_APP_CREDIT_TO_ANNUITY_RATIO'] /df_application_train['DAYS_EMPLOYED']\n",
    "\n",
    "\n",
    "df_application_train['K_APP_CREDIT_TO_GOODSPRICE_RATIO'] = df_application_train['AMT_CREDIT']/df_application_train['AMT_GOODS_PRICE']\n",
    "df_application_train['K_APP_GOODSPRICE_TO_INCOME_RATIO'] = df_application_train['AMT_GOODS_PRICE']/df_application_train['AMT_INCOME_TOTAL']\n",
    "df_application_train['K_APP_GOODSPRICE_TO_ANNUITY_RATIO'] = df_application_train['AMT_GOODS_PRICE']/df_application_train['AMT_ANNUITY']\n",
    "\n",
    "# #Feature - Income, Education, Family Status\n",
    "df_application_train['K_APP_INCOME_EDUCATION'] = df_application_train['NAME_INCOME_TYPE'] + df_application_train['NAME_EDUCATION_TYPE']\n",
    "df_application_train['K_APP_INCOME_EDUCATION_FAMILY'] = df_application_train['NAME_INCOME_TYPE'] + df_application_train['NAME_EDUCATION_TYPE'] + df_application_train['NAME_FAMILY_STATUS']\n",
    "\n",
    "# #Family\n",
    "df_application_train['K_APP_EMPLOYED_TO_DAYSBIRTH_RATIO'] = df_application_train['DAYS_EMPLOYED']/df_application_train['DAYS_BIRTH']\n",
    "df_application_train['K_APP_INCOME_PER_FAMILY'] = df_application_train['AMT_INCOME_TOTAL']/df_application_train['CNT_FAM_MEMBERS']\n",
    "# df_application_train['K_APP_CHILDREN_TO_FAMILY_RATIO'] = df_application_train['CNT_CHILDREN']/df_application_train['CNT_FAM_MEMBERS']\n",
    "\n",
    "# df_application_train['K_APP_FLAGS_SUM'] = df_application_train.loc[:, df_application_train.columns.str.contains('FLAG_DOCUMENT')].sum(axis=1)\n",
    "    \n",
    "df_application_train['K_APP_EXT_SOURCES_MEAN'] = df_application_train[['EXT_SOURCE_1', 'EXT_SOURCE_2', 'EXT_SOURCE_3']].mean(axis=1)"
   ]
  },
  {
   "cell_type": "code",
   "execution_count": 45,
   "metadata": {
    "ExecuteTime": {
     "end_time": "2018-06-24T15:10:06.919709Z",
     "start_time": "2018-06-24T15:10:06.717382Z"
    }
   },
   "outputs": [],
   "source": [
    "# #Feature - Divide existing features\n",
    "df_application_test['K_APP_CREDIT_TO_INCOME_RATIO'] = df_application_test['AMT_CREDIT']/df_application_test['AMT_INCOME_TOTAL']\n",
    "df_application_test['K_APP_ANNUITY_TO_INCOME_RATIO'] = df_application_test['AMT_ANNUITY']/df_application_test['AMT_INCOME_TOTAL']\n",
    "df_application_test['K_APP_CREDIT_TO_ANNUITY_RATIO'] = df_application_test['AMT_CREDIT']/df_application_test['AMT_ANNUITY']\n",
    "# df_application_test['K_APP_INCOME_PER_PERSON_RATIO'] = df_application_test['AMT_INCOME_TOTAL'] / df_application_test['CNT_FAM_MEMBERS']\n",
    "\n",
    "df_application_test['K_APP_CREDITTOINCOME_TO_DAYSEMPLOYED_RATIO'] = df_application_test['K_APP_CREDIT_TO_INCOME_RATIO'] /df_application_test['DAYS_EMPLOYED']\n",
    "df_application_test['K_APP_ANNUITYTOINCOME_TO_DAYSEMPLOYED_RATIO'] = df_application_test['K_APP_ANNUITY_TO_INCOME_RATIO'] /df_application_test['DAYS_EMPLOYED']\n",
    "df_application_test['K_APP_ANNUITYTOCREDIT_TO_DAYSEMPLOYED_RATIO'] = df_application_test['K_APP_CREDIT_TO_ANNUITY_RATIO'] /df_application_test['DAYS_EMPLOYED']\n",
    "\n",
    "\n",
    "df_application_test['K_APP_CREDIT_TO_GOODSPRICE_RATIO'] = df_application_test['AMT_CREDIT']/df_application_test['AMT_GOODS_PRICE']\n",
    "df_application_test['K_APP_GOODSPRICE_TO_INCOME_RATIO'] = df_application_test['AMT_GOODS_PRICE']/df_application_test['AMT_INCOME_TOTAL']\n",
    "df_application_test['K_APP_GOODSPRICE_TO_ANNUITY_RATIO'] = df_application_test['AMT_GOODS_PRICE']/df_application_test['AMT_ANNUITY']\n",
    "\n",
    "# #Feature - Income, Education, Family Status\n",
    "df_application_test['K_APP_INCOME_EDUCATION'] = df_application_test['NAME_INCOME_TYPE'] + df_application_test['NAME_EDUCATION_TYPE']\n",
    "df_application_test['K_APP_INCOME_EDUCATION_FAMILY'] = df_application_test['NAME_INCOME_TYPE'] + df_application_test['NAME_EDUCATION_TYPE'] + df_application_test['NAME_FAMILY_STATUS']\n",
    "\n",
    "\n",
    "# #Family\n",
    "df_application_test['K_APP_EMPLOYED_TO_DAYSBIRTH_RATIO'] = df_application_test['DAYS_EMPLOYED']/df_application_test['DAYS_BIRTH']\n",
    "df_application_test['K_APP_INCOME_PER_FAMILY'] = df_application_test['AMT_INCOME_TOTAL']/df_application_test['CNT_FAM_MEMBERS']\n",
    "# df_application_test['K_APP_CHILDREN_TO_FAMILY_RATIO'] = df_application_test['CNT_CHILDREN']/df_application_test['CNT_FAM_MEMBERS']\n",
    "\n",
    "# df_application_test['K_APP_FLAGS_SUM'] = df_application_test.loc[:, df_application_test.columns.str.contains('FLAG_DOCUMENT')].sum(axis=1)\n",
    "\n",
    "df_application_test['K_APP_EXT_SOURCES_MEAN'] = df_application_test[['EXT_SOURCE_1', 'EXT_SOURCE_2', 'EXT_SOURCE_3']].mean(axis=1)"
   ]
  },
  {
   "cell_type": "code",
   "execution_count": 46,
   "metadata": {
    "ExecuteTime": {
     "end_time": "2018-06-24T15:10:07.438348Z",
     "start_time": "2018-06-24T15:10:06.921706Z"
    }
   },
   "outputs": [],
   "source": [
    "df_application_train.drop(['FLAG_MOBIL', 'APARTMENTS_AVG'], axis=1, inplace=True)\n",
    "df_application_test.drop(['FLAG_MOBIL', 'APARTMENTS_AVG'], axis=1, inplace=True)"
   ]
  },
  {
   "cell_type": "code",
   "execution_count": null,
   "metadata": {},
   "outputs": [],
   "source": []
  },
  {
   "cell_type": "code",
   "execution_count": null,
   "metadata": {},
   "outputs": [],
   "source": []
  },
  {
   "cell_type": "code",
   "execution_count": null,
   "metadata": {},
   "outputs": [],
   "source": []
  },
  {
   "cell_type": "code",
   "execution_count": 47,
   "metadata": {
    "ExecuteTime": {
     "end_time": "2018-06-24T15:10:07.508162Z",
     "start_time": "2018-06-24T15:10:07.440317Z"
    }
   },
   "outputs": [
    {
     "data": {
      "text/plain": [
       "112"
      ]
     },
     "execution_count": 47,
     "metadata": {},
     "output_type": "execute_result"
    }
   ],
   "source": [
    "gc.collect()"
   ]
  },
  {
   "cell_type": "markdown",
   "metadata": {},
   "source": [
    "# Combine Datasets"
   ]
  },
  {
   "cell_type": "markdown",
   "metadata": {},
   "source": [
    "## Encode categorical columns"
   ]
  },
  {
   "cell_type": "code",
   "execution_count": 48,
   "metadata": {
    "ExecuteTime": {
     "end_time": "2018-06-24T15:10:08.677014Z",
     "start_time": "2018-06-24T15:10:07.511143Z"
    }
   },
   "outputs": [
    {
     "data": {
      "text/plain": [
       "126"
      ]
     },
     "execution_count": 48,
     "metadata": {},
     "output_type": "execute_result"
    }
   ],
   "source": [
    "arr_categorical_columns = df_application_train.select_dtypes(['object']).columns\n",
    "for var_col in arr_categorical_columns:\n",
    "    df_application_train[var_col] = df_application_train[var_col].astype('category').cat.codes\n",
    "gc.collect()\n",
    "\n",
    "arr_categorical_columns = df_application_test.select_dtypes(['object']).columns\n",
    "for var_col in arr_categorical_columns:\n",
    "    df_application_test[var_col] = df_application_test[var_col].astype('category').cat.codes\n",
    "gc.collect()\n",
    "\n",
    "# arr_categorical_columns = df_credit_card_balance.select_dtypes(['object']).columns\n",
    "# for var_col in arr_categorical_columns:\n",
    "#     df_credit_card_balance[var_col] = df_credit_card_balance[var_col].astype('category').cat.codes"
   ]
  },
  {
   "cell_type": "code",
   "execution_count": 49,
   "metadata": {
    "ExecuteTime": {
     "end_time": "2018-06-24T15:10:08.683993Z",
     "start_time": "2018-06-24T15:10:08.679006Z"
    }
   },
   "outputs": [],
   "source": [
    "# # One-hot encoding for categorical columns with get_dummies\n",
    "# def one_hot_encoder(df, nan_as_category = True):\n",
    "#     original_columns = list(df.columns)\n",
    "#     categorical_columns = df.select_dtypes(['object']).columns\n",
    "#     df = pd.get_dummies(df, columns= categorical_columns, dummy_na= nan_as_category)\n",
    "#     new_columns = [c for c in df.columns if c not in original_columns]\n",
    "#     return df, new_columns\n",
    "\n"
   ]
  },
  {
   "cell_type": "code",
   "execution_count": null,
   "metadata": {},
   "outputs": [],
   "source": []
  },
  {
   "cell_type": "code",
   "execution_count": null,
   "metadata": {},
   "outputs": [],
   "source": []
  },
  {
   "cell_type": "markdown",
   "metadata": {
    "ExecuteTime": {
     "end_time": "2018-05-25T23:30:11.672680Z",
     "start_time": "2018-05-25T23:30:11.668692Z"
    }
   },
   "source": [
    "## Combine Datasets"
   ]
  },
  {
   "cell_type": "markdown",
   "metadata": {},
   "source": [
    "### df_installments_payments"
   ]
  },
  {
   "cell_type": "code",
   "execution_count": 50,
   "metadata": {
    "ExecuteTime": {
     "end_time": "2018-06-24T15:10:08.755802Z",
     "start_time": "2018-06-24T15:10:08.685989Z"
    }
   },
   "outputs": [],
   "source": [
    "df_installments_payments_train = df_installments_payments[df_installments_payments[\"SK_ID_CURR\"].isin(df_application_train[\"SK_ID_CURR\"])]\n",
    "df_installments_payments_test = df_installments_payments[df_installments_payments[\"SK_ID_CURR\"].isin(df_application_test[\"SK_ID_CURR\"])]"
   ]
  },
  {
   "cell_type": "code",
   "execution_count": 51,
   "metadata": {
    "ExecuteTime": {
     "end_time": "2018-06-24T15:10:10.800390Z",
     "start_time": "2018-06-24T15:10:08.758796Z"
    }
   },
   "outputs": [],
   "source": [
    "df_application_train = pd.merge(df_application_train, df_installments_payments_train, on=\"SK_ID_CURR\", how=\"outer\", suffixes=('_application', '_installments_payments'))\n",
    "df_application_test = pd.merge(df_application_test, df_installments_payments_test, on=\"SK_ID_CURR\", how=\"outer\", suffixes=('_application', '_installments_payments'))"
   ]
  },
  {
   "cell_type": "code",
   "execution_count": null,
   "metadata": {},
   "outputs": [],
   "source": []
  },
  {
   "cell_type": "markdown",
   "metadata": {},
   "source": [
    "### df_credit_card_balance"
   ]
  },
  {
   "cell_type": "code",
   "execution_count": 52,
   "metadata": {
    "ExecuteTime": {
     "end_time": "2018-06-24T15:10:10.832277Z",
     "start_time": "2018-06-24T15:10:10.802330Z"
    }
   },
   "outputs": [],
   "source": [
    "df_credit_card_balance_train = df_credit_card_balance[df_credit_card_balance[\"SK_ID_CURR\"].isin(df_application_train[\"SK_ID_CURR\"])]\n",
    "df_credit_card_balance_test = df_credit_card_balance[df_credit_card_balance[\"SK_ID_CURR\"].isin(df_application_test[\"SK_ID_CURR\"])]"
   ]
  },
  {
   "cell_type": "code",
   "execution_count": 53,
   "metadata": {
    "ExecuteTime": {
     "end_time": "2018-06-24T15:10:11.291050Z",
     "start_time": "2018-06-24T15:10:10.834246Z"
    }
   },
   "outputs": [],
   "source": [
    "df_application_train = pd.merge(df_application_train, df_credit_card_balance_train, on=\"SK_ID_CURR\", how=\"outer\", suffixes=('_application', '_credit_card_balance'))\n",
    "df_application_test = pd.merge(df_application_test, df_credit_card_balance_test, on=\"SK_ID_CURR\", how=\"outer\", suffixes=('_application', '_credit_card_balance'))"
   ]
  },
  {
   "cell_type": "code",
   "execution_count": null,
   "metadata": {},
   "outputs": [],
   "source": []
  },
  {
   "cell_type": "markdown",
   "metadata": {},
   "source": [
    "### df_pos_cash_balance"
   ]
  },
  {
   "cell_type": "code",
   "execution_count": 54,
   "metadata": {
    "ExecuteTime": {
     "end_time": "2018-06-24T15:10:11.343931Z",
     "start_time": "2018-06-24T15:10:11.293019Z"
    }
   },
   "outputs": [],
   "source": [
    "df_pos_cash_balance_train = df_pos_cash_balance[df_pos_cash_balance[\"SK_ID_CURR\"].isin(df_application_train[\"SK_ID_CURR\"])]\n",
    "df_pos_cash_balance_test = df_pos_cash_balance[df_pos_cash_balance[\"SK_ID_CURR\"].isin(df_application_test[\"SK_ID_CURR\"])]"
   ]
  },
  {
   "cell_type": "code",
   "execution_count": 55,
   "metadata": {
    "ExecuteTime": {
     "end_time": "2018-06-24T15:10:11.819640Z",
     "start_time": "2018-06-24T15:10:11.345878Z"
    }
   },
   "outputs": [],
   "source": [
    "df_application_train = pd.merge(df_application_train, df_pos_cash_balance_train, on=\"SK_ID_CURR\", how=\"outer\", suffixes=('_application', '_pos_cash_balance'))\n",
    "df_application_test = pd.merge(df_application_test, df_pos_cash_balance_test, on=\"SK_ID_CURR\", how=\"outer\", suffixes=('_application', '_pos_cash_balance'))"
   ]
  },
  {
   "cell_type": "code",
   "execution_count": null,
   "metadata": {},
   "outputs": [],
   "source": []
  },
  {
   "cell_type": "markdown",
   "metadata": {},
   "source": [
    "### df_previous_application"
   ]
  },
  {
   "cell_type": "code",
   "execution_count": 56,
   "metadata": {
    "ExecuteTime": {
     "end_time": "2018-06-24T15:10:11.921396Z",
     "start_time": "2018-06-24T15:10:11.821607Z"
    }
   },
   "outputs": [],
   "source": [
    "df_previous_application_train = df_previous_application[df_previous_application[\"SK_ID_CURR\"].isin(df_application_train[\"SK_ID_CURR\"])]\n",
    "df_previous_application_test = df_previous_application[df_previous_application[\"SK_ID_CURR\"].isin(df_application_test[\"SK_ID_CURR\"])]"
   ]
  },
  {
   "cell_type": "code",
   "execution_count": 57,
   "metadata": {
    "ExecuteTime": {
     "end_time": "2018-06-24T15:10:12.603543Z",
     "start_time": "2018-06-24T15:10:11.922337Z"
    }
   },
   "outputs": [],
   "source": [
    "df_application_train = pd.merge(df_application_train, df_previous_application_train, on=\"SK_ID_CURR\", how=\"outer\", suffixes=('_application', '_previous_application'))\n",
    "df_application_test = pd.merge(df_application_test, df_previous_application_test, on=\"SK_ID_CURR\", how=\"outer\", suffixes=('_application', '_previous_application'))"
   ]
  },
  {
   "cell_type": "code",
   "execution_count": null,
   "metadata": {},
   "outputs": [],
   "source": []
  },
  {
   "cell_type": "markdown",
   "metadata": {},
   "source": [
    "### df_bureau_balance and df_bureau"
   ]
  },
  {
   "cell_type": "code",
   "execution_count": 58,
   "metadata": {
    "ExecuteTime": {
     "end_time": "2018-06-24T15:10:12.681308Z",
     "start_time": "2018-06-24T15:10:12.605513Z"
    }
   },
   "outputs": [],
   "source": [
    "df_bureau_train = df_bureau[df_bureau[\"SK_ID_CURR\"].isin(df_application_train[\"SK_ID_CURR\"])]\n",
    "df_bureau_test = df_bureau[df_bureau[\"SK_ID_CURR\"].isin(df_application_test[\"SK_ID_CURR\"])]"
   ]
  },
  {
   "cell_type": "code",
   "execution_count": 59,
   "metadata": {
    "ExecuteTime": {
     "end_time": "2018-06-24T15:10:13.400413Z",
     "start_time": "2018-06-24T15:10:12.683303Z"
    }
   },
   "outputs": [],
   "source": [
    "df_application_train = pd.merge(df_application_train, df_bureau_train, on=\"SK_ID_CURR\", how=\"outer\", suffixes=('_application', '_bureau'))\n",
    "df_application_test = pd.merge(df_application_test, df_bureau_test, on=\"SK_ID_CURR\", how=\"outer\", suffixes=('_application', '_bureau'))"
   ]
  },
  {
   "cell_type": "code",
   "execution_count": 60,
   "metadata": {
    "ExecuteTime": {
     "end_time": "2018-06-24T15:10:13.505107Z",
     "start_time": "2018-06-24T15:10:13.402382Z"
    }
   },
   "outputs": [
    {
     "data": {
      "text/plain": [
       "217"
      ]
     },
     "execution_count": 60,
     "metadata": {},
     "output_type": "execute_result"
    }
   ],
   "source": [
    "gc.collect()"
   ]
  },
  {
   "cell_type": "markdown",
   "metadata": {},
   "source": [
    "# Model Building"
   ]
  },
  {
   "cell_type": "markdown",
   "metadata": {
    "ExecuteTime": {
     "end_time": "2018-05-21T01:01:10.998981Z",
     "start_time": "2018-05-21T01:01:10.994983Z"
    }
   },
   "source": [
    "## Train-Validation Split"
   ]
  },
  {
   "cell_type": "code",
   "execution_count": 61,
   "metadata": {
    "ExecuteTime": {
     "end_time": "2018-06-24T15:10:14.915397Z",
     "start_time": "2018-06-24T15:10:13.508100Z"
    }
   },
   "outputs": [],
   "source": [
    "input_columns = df_application_train.columns\n",
    "input_columns = input_columns[input_columns != 'TARGET']\n",
    "target_column = 'TARGET'\n",
    "\n",
    "X = df_application_train[input_columns]\n",
    "y = df_application_train[target_column]\n",
    "gc.collect()\n",
    "X_train, X_test, y_train, y_test = train_test_split(X, y, random_state=42, train_size=0.7)"
   ]
  },
  {
   "cell_type": "code",
   "execution_count": null,
   "metadata": {},
   "outputs": [],
   "source": []
  },
  {
   "cell_type": "code",
   "execution_count": 62,
   "metadata": {
    "ExecuteTime": {
     "end_time": "2018-06-24T15:10:14.929302Z",
     "start_time": "2018-06-24T15:10:14.917332Z"
    }
   },
   "outputs": [],
   "source": [
    "lgb_params = {\n",
    "    'boosting_type': 'gbdt',\n",
    "    'colsample_bytree': 0.7,               # #Same as feature_fraction\n",
    "    'learning_rate': 0.1604387053222455,\n",
    "    'max_depth' : 4,\n",
    "    'metric' : 'auc',\n",
    "    'min_child_weight': 9,\n",
    "    'num_boost_round': 5000, ##??\n",
    "    'nthread': -1,\n",
    "    'objective': 'binary',\n",
    "    'lambda_l1': 3.160842634951819,\n",
    "    'lambda_l2': 4.438488456929287,\n",
    "    'reg_gamma':0.6236454630290655,\n",
    "    'seed': 42,\n",
    "    'subsample': 0.8,               # #Same as bagging_fraction\n",
    "    'verbose': 1,\n",
    "    }\n",
    "    \n",
    "#    'max_bin': 100}\n",
    "# 'num_leaves': 40, \n",
    "#task?\n",
    "#num_boost_round\n",
    "#can I run this on my gpu?"
   ]
  },
  {
   "cell_type": "code",
   "execution_count": null,
   "metadata": {},
   "outputs": [],
   "source": []
  },
  {
   "cell_type": "code",
   "execution_count": null,
   "metadata": {},
   "outputs": [],
   "source": []
  },
  {
   "cell_type": "code",
   "execution_count": 63,
   "metadata": {
    "ExecuteTime": {
     "end_time": "2018-06-24T15:10:14.944261Z",
     "start_time": "2018-06-24T15:10:14.932294Z"
    }
   },
   "outputs": [],
   "source": [
    "lgb_params = {\n",
    "    'boosting_type': 'gbdt',\n",
    "    'colsample_bytree': 0.7,               # #Same as feature_fraction\n",
    "    'learning_rate': 0.0204387053222455,\n",
    "    'max_depth' : 4,\n",
    "    'metric' : 'auc',\n",
    "    'min_child_weight': 9,\n",
    "    'num_boost_round': 5000, ##??\n",
    "    'nthread': -1,\n",
    "    'objective': 'binary',\n",
    "    'lambda_l1': 3.160842634951819,\n",
    "    'lambda_l2': 4.438488456929287,\n",
    "    'reg_gamma':0.6236454630290655,\n",
    "    'seed': 42,\n",
    "    'subsample': 0.8,               # #Same as bagging_fraction\n",
    "    'verbose': 1,\n",
    "    }\n",
    "    \n",
    "#    'max_bin': 100}\n",
    "# 'num_leaves': 40, \n",
    "#task?\n",
    "#num_boost_round"
   ]
  },
  {
   "cell_type": "code",
   "execution_count": 64,
   "metadata": {
    "ExecuteTime": {
     "end_time": "2018-06-24T15:29:17.518427Z",
     "start_time": "2018-06-24T15:10:14.946256Z"
    }
   },
   "outputs": [
    {
     "name": "stderr",
     "output_type": "stream",
     "text": [
      "c:\\users\\karti\\appdata\\local\\programs\\python\\python36\\lib\\site-packages\\lightgbm\\engine.py:390: UserWarning: Found `num_boost_round` in params. Will use it instead of argument\n",
      "  warnings.warn(\"Found `{}` in params. Will use it instead of argument\".format(alias))\n"
     ]
    },
    {
     "name": "stdout",
     "output_type": "stream",
     "text": [
      "[100]\tcv_agg's auc: 0.740657 + 0.00305688\n",
      "[200]\tcv_agg's auc: 0.755038 + 0.00294599\n",
      "[300]\tcv_agg's auc: 0.76675 + 0.00265951\n",
      "[400]\tcv_agg's auc: 0.772738 + 0.00272042\n",
      "[500]\tcv_agg's auc: 0.77652 + 0.00266044\n",
      "[600]\tcv_agg's auc: 0.779164 + 0.00258487\n",
      "[700]\tcv_agg's auc: 0.781089 + 0.00254016\n",
      "[800]\tcv_agg's auc: 0.782538 + 0.00243887\n",
      "[900]\tcv_agg's auc: 0.783698 + 0.00232383\n",
      "[1000]\tcv_agg's auc: 0.78466 + 0.00229705\n",
      "[1100]\tcv_agg's auc: 0.78546 + 0.00223902\n",
      "[1200]\tcv_agg's auc: 0.786135 + 0.00224494\n",
      "[1300]\tcv_agg's auc: 0.786777 + 0.00226267\n",
      "[1400]\tcv_agg's auc: 0.787294 + 0.0022792\n",
      "[1500]\tcv_agg's auc: 0.787763 + 0.00228348\n",
      "[1600]\tcv_agg's auc: 0.788163 + 0.00226563\n",
      "[1700]\tcv_agg's auc: 0.788544 + 0.0023426\n",
      "[1800]\tcv_agg's auc: 0.788869 + 0.00238387\n",
      "[1900]\tcv_agg's auc: 0.789146 + 0.00250407\n",
      "[2000]\tcv_agg's auc: 0.789396 + 0.00250395\n",
      "[2100]\tcv_agg's auc: 0.789643 + 0.00249204\n",
      "[2200]\tcv_agg's auc: 0.78981 + 0.00257123\n",
      "[2300]\tcv_agg's auc: 0.78996 + 0.00262092\n",
      "[2400]\tcv_agg's auc: 0.790109 + 0.00264541\n",
      "[2500]\tcv_agg's auc: 0.790219 + 0.00267422\n",
      "[2600]\tcv_agg's auc: 0.790321 + 0.0027024\n",
      "[2700]\tcv_agg's auc: 0.790399 + 0.00273598\n",
      "[2800]\tcv_agg's auc: 0.790447 + 0.00276693\n",
      "[2900]\tcv_agg's auc: 0.790497 + 0.00276462\n",
      "[3000]\tcv_agg's auc: 0.790543 + 0.00278728\n",
      "[3100]\tcv_agg's auc: 0.790538 + 0.00282531\n",
      "[3200]\tcv_agg's auc: 0.790575 + 0.0028402\n",
      "[3300]\tcv_agg's auc: 0.79062 + 0.00285537\n",
      "[3400]\tcv_agg's auc: 0.790606 + 0.00286061\n",
      "[3500]\tcv_agg's auc: 0.790645 + 0.0028568\n",
      "[3600]\tcv_agg's auc: 0.790639 + 0.00287669\n",
      "[3700]\tcv_agg's auc: 0.790667 + 0.0028882\n",
      "[3800]\tcv_agg's auc: 0.790669 + 0.00290076\n",
      "[3900]\tcv_agg's auc: 0.790662 + 0.0029096\n",
      "[4000]\tcv_agg's auc: 0.790644 + 0.00293775\n",
      "0.7906856024277595\n",
      "num_boost_rounds_lgb=3867\n"
     ]
    }
   ],
   "source": [
    "# dtrain_lgb = lgb.Dataset(X_train, label=y_train)\n",
    "# dtest_lgb = lgb.Dataset(X_test, label=y_test)\n",
    "\n",
    "dtrain_lgb = lgb.Dataset(X, label=y)\n",
    "\n",
    "cv_result_lgb = lgb.cv(lgb_params, \n",
    "                       dtrain_lgb, \n",
    "                       num_boost_round=5000, \n",
    "                       nfold=5, \n",
    "                       stratified=True, \n",
    "                       early_stopping_rounds=200, \n",
    "                       verbose_eval=100, \n",
    "                       show_stdv=True)\n",
    "\n",
    "num_boost_rounds_lgb = len(cv_result_lgb['auc-mean'])\n",
    "print(max(cv_result_lgb['auc-mean']))\n",
    "print('num_boost_rounds_lgb=' + str(num_boost_rounds_lgb))"
   ]
  },
  {
   "cell_type": "code",
   "execution_count": 65,
   "metadata": {
    "ExecuteTime": {
     "end_time": "2018-06-24T15:33:01.685252Z",
     "start_time": "2018-06-24T15:29:17.521416Z"
    }
   },
   "outputs": [],
   "source": [
    "# #Final Model\n",
    "gc.collect()\n",
    "# model = lgb.train(lgbm_params, lgb.Dataset(X_train,label=y_train), 270, lgb.Dataset(X_test,label=y_test), verbose_eval= 50)\n",
    "# model = lgb.train(lgbm_params, lgb.Dataset(X,y), 270, [lgb.Dataset(X_train,label=y_train), lgb.Dataset(X_test,label=y_test)],verbose_eval= 50)\n",
    "\n",
    "model_lgb = lgb.train(lgb_params, lgb.Dataset(X, label=y), num_boost_round=num_boost_rounds_lgb, verbose_eval= 50)"
   ]
  },
  {
   "cell_type": "raw",
   "metadata": {},
   "source": [
    "# #LB 0.792\n",
    "[3700]\tcv_agg's auc: 0.790667 + 0.0028882\n",
    "[3800]\tcv_agg's auc: 0.790669 + 0.00290076\n",
    "[3900]\tcv_agg's auc: 0.790662 + 0.0029096\n",
    "[4000]\tcv_agg's auc: 0.790644 + 0.00293775\n",
    "0.7906856024277595\n",
    "num_boost_rounds_lgb=3867\n",
    "\n",
    "--------------------------------------------\n",
    "\n",
    "[3400]\tcv_agg's auc: 0.791002 + 0.00262433\n",
    "[3500]\tcv_agg's auc: 0.791015 + 0.00263916\n",
    "[3600]\tcv_agg's auc: 0.790988 + 0.00262805\n",
    "0.791034849384312\n",
    "num_boost_rounds_lgb=3448\n",
    "\n",
    "---------------------------------------------\n",
    "LightGBM\n",
    "LB: 0.783\n",
    "[50]\tvalid_0's auc: 0.782805\tvalid_1's auc: 0.782941\n",
    "[100]\tvalid_0's auc: 0.80091\tvalid_1's auc: 0.799953\n",
    "[150]\tvalid_0's auc: 0.812043\tvalid_1's auc: 0.810725\n",
    "[200]\tvalid_0's auc: 0.82048\tvalid_1's auc: 0.818973\n",
    "[250]\tvalid_0's auc: 0.827426\tvalid_1's auc: 0.825887\n",
    "\n",
    "\n",
    "----------------------------------------------\n",
    "XGBOOST\n",
    "LB: 0.779\n",
    "[0]\ttrain-auc:0.663203\tvalid-auc:0.662528\n",
    "[100]\ttrain-auc:0.785183\tvalid-auc:0.78342\n",
    "[200]\ttrain-auc:0.798683\tvalid-auc:0.796623\n",
    "[269]\ttrain-auc:0.804624\tvalid-auc:0.802767\n",
    "\n",
    "LB: 0.785\n",
    "[0]\ttrain-auc:0.677391\tvalid-auc:0.677353\n",
    "[100]\ttrain-auc:0.800638\tvalid-auc:0.799899\n",
    "[200]\ttrain-auc:0.819781\tvalid-auc:0.818601\n",
    "[269]\ttrain-auc:0.828946\tvalid-auc:0.828207"
   ]
  },
  {
   "cell_type": "code",
   "execution_count": 66,
   "metadata": {
    "ExecuteTime": {
     "end_time": "2018-06-24T15:33:04.904647Z",
     "start_time": "2018-06-24T15:33:01.687248Z"
    }
   },
   "outputs": [],
   "source": [
    "df_predict = model_lgb.predict(df_application_test, num_iteration=model_lgb.best_iteration)"
   ]
  },
  {
   "cell_type": "code",
   "execution_count": 67,
   "metadata": {
    "ExecuteTime": {
     "end_time": "2018-06-24T15:33:05.116125Z",
     "start_time": "2018-06-24T15:33:04.905644Z"
    }
   },
   "outputs": [],
   "source": [
    "submission = pd.DataFrame()\n",
    "submission[\"SK_ID_CURR\"] =  df_application_test[\"SK_ID_CURR\"]\n",
    "submission[\"TARGET\"] =  df_predict\n",
    "\n",
    "submission.to_csv(\"../submissions/model_2_lightgbm_v41.csv\", index=False)"
   ]
  },
  {
   "cell_type": "code",
   "execution_count": 68,
   "metadata": {
    "ExecuteTime": {
     "end_time": "2018-06-24T15:33:05.124063Z",
     "start_time": "2018-06-24T15:33:05.117082Z"
    }
   },
   "outputs": [
    {
     "data": {
      "text/plain": [
       "(48744, 2)"
      ]
     },
     "execution_count": 68,
     "metadata": {},
     "output_type": "execute_result"
    }
   ],
   "source": [
    "# #Should be 48744, 2\n",
    "submission.shape"
   ]
  },
  {
   "cell_type": "code",
   "execution_count": 69,
   "metadata": {
    "ExecuteTime": {
     "end_time": "2018-06-24T15:33:05.144008Z",
     "start_time": "2018-06-24T15:33:05.126059Z"
    },
    "scrolled": false
   },
   "outputs": [
    {
     "data": {
      "text/plain": [
       "[(1495, 'K_APP_CREDIT_TO_ANNUITY_RATIO'),\n",
       " (1157, 'K_APP_EXT_SOURCES_MEAN'),\n",
       " (1090, 'EXT_SOURCE_3'),\n",
       " (1056, 'DAYS_BIRTH'),\n",
       " (893, 'EXT_SOURCE_1'),\n",
       " (861, 'EXT_SOURCE_2'),\n",
       " (802, 'K_BUREAU_DAYS_CREDIT_ENDDATE_MAX'),\n",
       " (775, 'K_INST_AMT_DIFF'),\n",
       " (765, 'K_BUREAU_DAYS_CREDIT_MAX'),\n",
       " (684, 'K_DAYS_LAST_DUE_1ST_VERSION_MAX'),\n",
       " (667, 'DAYS_ID_PUBLISH'),\n",
       " (649, 'AMT_ANNUITY'),\n",
       " (645, 'REGION_POPULATION_RELATIVE'),\n",
       " (642, 'K_APP_CREDIT_TO_GOODSPRICE_RATIO'),\n",
       " (634, 'K_AMT_PAYMENT_MEAN'),\n",
       " (618, 'K_BUREAU_AMT_CREDIT_SUM_MAX'),\n",
       " (597, 'DAYS_REGISTRATION'),\n",
       " (586, 'K_BUREAU_AMT_CREDIT_SUM_DEBT_MEAN'),\n",
       " (579, 'K_AMT_PAYMENT_MIN'),\n",
       " (562, 'K_BUREAU_DAYS_CREDIT_SORTED_SUCCESSIVE_DIFF_MEAN'),\n",
       " (540, 'K_APP_GOODSPRICE_TO_ANNUITY_RATIO'),\n",
       " (536, 'K_BUREAU_AMT_CREDIT_SUM_MEAN'),\n",
       " (533, 'K_BUREAU_DAYS_CREDIT_MEAN'),\n",
       " (529, 'K_APP_ANNUITYTOINCOME_TO_DAYSEMPLOYED_RATIO'),\n",
       " (521, 'K_BUREAU_DAYS_ENDDATE_FACT_MAX'),\n",
       " (514, 'K_INST_DAYS_DIFF_TO_COUNT_RATIO'),\n",
       " (512, 'K_BUREAU_AMT_CREDIT_SUM_MIN'),\n",
       " (508, 'K_DAYS_ENTRY_PAYMENT_MAX'),\n",
       " (501, 'K_INST_DAYS_DIFF'),\n",
       " (490, 'K_NUM_INSTALMENT_NUMBER_SUM_TO_COUNT_RATIO'),\n",
       " (487, 'K_AMT_ANNUITY_VAR'),\n",
       " (476, 'DAYS_LAST_PHONE_CHANGE'),\n",
       " (474, 'K_APP_ANNUITY_TO_INCOME_RATIO'),\n",
       " (469, 'K_CNT_INSTALMENT_FUTURE_MEAN'),\n",
       " (457, 'AMT_GOODS_PRICE'),\n",
       " (456, 'K_AMT_PAYMENT_MAX'),\n",
       " (452, 'K_DAYS_LAST_DUE_MAX'),\n",
       " (451, 'K_CNT_PAYMENT_MEAN'),\n",
       " (448, 'K_APP_CREDITTOINCOME_TO_DAYSEMPLOYED_RATIO'),\n",
       " (445, 'K_DAYS_ENTRY_PAYMENT_VAR'),\n",
       " (439, 'K_DAYS_TERMINATION_MAX'),\n",
       " (438, 'K_DAYS_DECISION_MAX'),\n",
       " (435, 'K_CREDIT_ALLOCATED_MEAN'),\n",
       " (431, 'K_CREDIT_ALLOCATED_MIN'),\n",
       " (428, 'K_BUREAU_DAYS_CREDIT_ENDDATE_MEAN'),\n",
       " (425, 'SK_ID_CURR'),\n",
       " (424, 'K_AMT_GOODS_PRICE_MIN'),\n",
       " (417, 'K_BUREAU_AMT_CREDIT_SUM_DEBT_MAX'),\n",
       " (414, 'K_AMT_ANNUITY_MEAN'),\n",
       " (406, 'K_AMT_PAYMENT_VAR'),\n",
       " (396, 'K_APP_INCOME_PER_FAMILY'),\n",
       " (395, 'K_PREV_INSTALLMENT_PAYMENT_COUNT'),\n",
       " (381, 'K_DAYS_LAST_DUE_1ST_VERSION_MEAN'),\n",
       " (373, 'K_APP_EMPLOYED_TO_DAYSBIRTH_RATIO'),\n",
       " (373, 'K_APP_ANNUITYTOCREDIT_TO_DAYSEMPLOYED_RATIO'),\n",
       " (372, 'K_CREDIT_ALLOCATED_MAX'),\n",
       " (367, 'AMT_CREDIT'),\n",
       " (363, 'DAYS_EMPLOYED'),\n",
       " (361, 'OWN_CAR_AGE'),\n",
       " (354, 'ORGANIZATION_TYPE'),\n",
       " (351, 'K_APP_GOODSPRICE_TO_INCOME_RATIO'),\n",
       " (351, 'K_AMT_ANNUITY_MIN'),\n",
       " (349, 'K_AMT_GOODS_PRICE_MEAN'),\n",
       " (329, 'K_PREV_POS_CASH_BALANCE_COUNT'),\n",
       " (327, 'K_BUREAU_AMT_CREDIT_MAX_OVERDUE_MEAN'),\n",
       " (326, 'K_CREDIT_UTILIZATION_MAX'),\n",
       " (320, 'K_BUREAU_DAYS_ENDDATE_FACT_MIN'),\n",
       " (312, 'K_AMT_ANNUITY_MAX'),\n",
       " (311, 'K_DAYS_FIRST_DUE_MAX'),\n",
       " (310, 'K_CNT_INSTALMENT_MEAN'),\n",
       " (310, 'K_BUREAU_AMT_CREDIT_MAX_OVERDUE_MAX'),\n",
       " (302, 'K_BUREAU_COUNT'),\n",
       " (300, 'K_DAYS_DECISION_MEAN'),\n",
       " (298, 'K_AMT_DOWN_PAYMENT_MAX'),\n",
       " (292, 'K_BUREAU_DAYS_CREDIT_MIN'),\n",
       " (291, 'K_MONTHS_BALANCE_POS_CASH_MEAN'),\n",
       " (288, 'K_MONTHS_BALANCE_POS_CASH_MIN'),\n",
       " (288, 'K_BUREAU_DAYS_CREDIT_ENDDATE_MIN'),\n",
       " (287, 'K_AMT_GOODS_PRICE_MAX'),\n",
       " (284, 'K_DAYS_FIRST_DRAWING_MEAN'),\n",
       " (279, 'K_PREV_PREVIOUS_APPLICATION_COUNT'),\n",
       " (279, 'K_BUREAU_DAYS_ENDDATE_FACT_MEAN'),\n",
       " (277, 'K_CNT_DRAWINGS_CURRENT_MEAN'),\n",
       " (277, 'K_AMT_DOWN_PAYMENT_MEAN'),\n",
       " (277, 'AMT_INCOME_TOTAL'),\n",
       " (275, 'K_CREDIT_UTILIZATION_MEAN'),\n",
       " (267, 'K_APP_INCOME_EDUCATION_FAMILY'),\n",
       " (257, 'K_APP_CREDIT_TO_INCOME_RATIO'),\n",
       " (242, 'NAME_FAMILY_STATUS'),\n",
       " (241, 'CODE_GENDER'),\n",
       " (239, 'K_MONTHS_BALANCE_POS_CASH_MAX'),\n",
       " (239, 'K_BUREAU_BALANCE_MONTHS_BALANCE_MEAN'),\n",
       " (226, 'K_DAYS_FIRST_DUE_MEAN'),\n",
       " (225, 'HOUR_APPR_PROCESS_START'),\n",
       " (220, 'WEEKDAY_APPR_PROCESS_START'),\n",
       " (215, 'K_BUREAU_AMT_CREDIT_SUM_LIMIT_MEAN'),\n",
       " (214, 'K_AMT_DOWN_PAYMENT_MIN'),\n",
       " (209, 'OCCUPATION_TYPE'),\n",
       " (203, 'K_BUREAU_AMT_CREDIT_SUM_DEBT_MIN'),\n",
       " (200, 'TOTALAREA_MODE'),\n",
       " (195, 'K_BUREAU_AMT_CREDIT_SUM_LIMIT_MAX'),\n",
       " (193, 'K_AMT_PAYMENT_OVER_RECEIVABLE_MIN'),\n",
       " (191, 'K_AMT_DRAWINGS_CURRENT_MEAN'),\n",
       " (188, 'K_DAYS_DECISION_MIN'),\n",
       " (186, 'K_DAYS_LAST_DUE_MIN'),\n",
       " (186, 'K_AMT_PAYMENT_OVER_RECEIVABLE_MEAN'),\n",
       " (178, 'K_CNT_INSTALMENT_MIN'),\n",
       " (177, 'K_CNT_PAYMENT_MAX'),\n",
       " (177, 'K_BUREAU_BALANCE_MONTHS_BALANCE_MIN'),\n",
       " (175, 'K_AMT_PAYMENT_OVER_RECEIVABLE_MAX'),\n",
       " (174, 'K_DAYS_TERMINATION_MIN'),\n",
       " (174, 'K_BUREAU_AMT_ANNUITY_MAX'),\n",
       " (173, 'K_BUREAU_AMT_ANNUITY_MEAN'),\n",
       " (170, 'LANDAREA_MODE'),\n",
       " (163, 'K_CREDIT_UTILIZATION_VAR'),\n",
       " (162, 'K_DAYS_LAST_DUE_MEAN'),\n",
       " (161, 'K_CNT_DRAWINGS_CURRENT_MAX'),\n",
       " (159, 'REGION_RATING_CLIENT_W_CITY'),\n",
       " (159, 'K_CREDIT_UTILIZATION_MIN'),\n",
       " (157, 'K_DAYS_LAST_DUE_1ST_VERSION_MIN'),\n",
       " (154, 'K_DAYS_TERMINATION_MEAN'),\n",
       " (151, 'FLAG_WORK_PHONE'),\n",
       " (151, 'APARTMENTS_MEDI'),\n",
       " (146, 'APARTMENTS_MODE'),\n",
       " (145, 'YEARS_BEGINEXPLUATATION_MODE'),\n",
       " (144, 'NONLIVINGAREA_MODE'),\n",
       " (141, 'K_DAYS_FIRST_DUE_MIN'),\n",
       " (138, 'YEARS_BEGINEXPLUATATION_MEDI'),\n",
       " (134, 'K_AMT_DRAWINGS_CURRENT_MAX'),\n",
       " (130, 'FLAG_DOCUMENT_3'),\n",
       " (128, 'LANDAREA_MEDI'),\n",
       " (127, 'LANDAREA_AVG'),\n",
       " (125, 'K_BUREAU_AMT_ANNUITY_MIN'),\n",
       " (121, 'OBS_60_CNT_SOCIAL_CIRCLE'),\n",
       " (121, 'OBS_30_CNT_SOCIAL_CIRCLE'),\n",
       " (120, 'NONLIVINGAREA_AVG'),\n",
       " (118, 'AMT_REQ_CREDIT_BUREAU_YEAR'),\n",
       " (117, 'NAME_EDUCATION_TYPE'),\n",
       " (115, 'K_PREV_CREDIT_CARD_BALANCE_COUNT'),\n",
       " (115, 'K_CNT_INSTALMENT_MATURE_CUM_MAX_TO_COUNT_RATIO'),\n",
       " (114, 'AMT_REQ_CREDIT_BUREAU_QRT'),\n",
       " (110, 'BASEMENTAREA_AVG'),\n",
       " (109, 'YEARS_BEGINEXPLUATATION_AVG'),\n",
       " (98, 'LIVINGAREA_MODE'),\n",
       " (98, 'ENTRANCES_AVG'),\n",
       " (98, 'DEF_30_CNT_SOCIAL_CIRCLE'),\n",
       " (95, 'K_BUREAU_AMT_CREDIT_MAX_OVERDUE_MIN'),\n",
       " (95, 'DEF_60_CNT_SOCIAL_CIRCLE'),\n",
       " (95, 'COMMONAREA_MEDI'),\n",
       " (94, 'BASEMENTAREA_MODE'),\n",
       " (93, 'LIVINGAREA_MEDI'),\n",
       " (90, 'YEARS_BUILD_AVG'),\n",
       " (90, 'NONLIVINGAREA_MEDI'),\n",
       " (89, 'K_BUREAU_AMT_CREDIT_SUM_LIMIT_MIN'),\n",
       " (86, 'YEARS_BUILD_MODE'),\n",
       " (86, 'K_CNT_PAYMENT_MIN'),\n",
       " (84, 'COMMONAREA_AVG'),\n",
       " (82, 'LIVINGAPARTMENTS_MODE'),\n",
       " (79, 'NONLIVINGAPARTMENTS_AVG'),\n",
       " (73, 'LIVINGAPARTMENTS_MEDI'),\n",
       " (72, 'COMMONAREA_MODE'),\n",
       " (71, 'REG_CITY_NOT_LIVE_CITY'),\n",
       " (69, 'LIVINGAREA_AVG'),\n",
       " (69, 'K_BUREAU_AMT_CREDIT_SUM_OVERDUE_MEAN'),\n",
       " (64, 'NAME_TYPE_SUITE'),\n",
       " (64, 'FLAG_DOCUMENT_18'),\n",
       " (64, 'BASEMENTAREA_MEDI'),\n",
       " (61, 'K_BUREAU_AMT_CREDIT_SUM_OVERDUE_MAX'),\n",
       " (60, 'CNT_FAM_MEMBERS'),\n",
       " (59, 'K_CNT_INSTALMENT_FUTURE_MAX'),\n",
       " (58, 'NAME_HOUSING_TYPE'),\n",
       " (56, 'WALLSMATERIAL_MODE'),\n",
       " (55, 'LIVINGAPARTMENTS_AVG'),\n",
       " (55, 'FLAG_PHONE'),\n",
       " (55, 'ENTRANCES_MEDI'),\n",
       " (53, 'K_NAME_CONTRACT_STATUS_APPROVED'),\n",
       " (53, 'K_APP_INCOME_EDUCATION'),\n",
       " (52, 'FLOORSMIN_AVG'),\n",
       " (51, 'CNT_CHILDREN'),\n",
       " (48, 'K_BUREAU_BALANCE_MONTHS_BALANCE_MAX'),\n",
       " (46, 'K_CNT_INSTALMENT_MAX'),\n",
       " (46, 'FLAG_DOCUMENT_16'),\n",
       " (46, 'AMT_REQ_CREDIT_BUREAU_MON'),\n",
       " (40, 'FLOORSMIN_MEDI'),\n",
       " (40, 'FLOORSMAX_AVG'),\n",
       " (38, 'NAME_CONTRACT_TYPE'),\n",
       " (36, 'NONLIVINGAPARTMENTS_MEDI'),\n",
       " (35, 'YEARS_BUILD_MEDI'),\n",
       " (35, 'LIVE_CITY_NOT_WORK_CITY'),\n",
       " (32, 'FONDKAPREMONT_MODE'),\n",
       " (30, 'ENTRANCES_MODE'),\n",
       " (30, 'AMT_REQ_CREDIT_BUREAU_WEEK'),\n",
       " (28, 'FLAG_DOCUMENT_6'),\n",
       " (27, 'FLAG_OWN_REALTY'),\n",
       " (27, 'FLAG_DOCUMENT_13'),\n",
       " (24, 'ELEVATORS_MEDI'),\n",
       " (23, 'FLOORSMAX_MODE'),\n",
       " (22, 'FLOORSMAX_MEDI'),\n",
       " (21, 'FLOORSMIN_MODE'),\n",
       " (20, 'ELEVATORS_AVG'),\n",
       " (19, 'REG_REGION_NOT_LIVE_REGION'),\n",
       " (19, 'ELEVATORS_MODE'),\n",
       " (19, 'AMT_REQ_CREDIT_BUREAU_DAY'),\n",
       " (18, 'NONLIVINGAPARTMENTS_MODE'),\n",
       " (17, 'REGION_RATING_CLIENT'),\n",
       " (17, 'FLAG_OWN_CAR'),\n",
       " (15, 'REG_REGION_NOT_WORK_REGION'),\n",
       " (9, 'FLAG_DOCUMENT_11'),\n",
       " (7, 'REG_CITY_NOT_WORK_CITY'),\n",
       " (7, 'NAME_INCOME_TYPE'),\n",
       " (6, 'FLAG_DOCUMENT_8'),\n",
       " (5, 'FLAG_DOCUMENT_14'),\n",
       " (3, 'LIVE_REGION_NOT_WORK_REGION'),\n",
       " (2, 'K_CNT_DRAWINGS_CURRENT_MIN'),\n",
       " (1, 'FLAG_EMAIL'),\n",
       " (0, 'K_BUREAU_AMT_CREDIT_SUM_OVERDUE_MIN'),\n",
       " (0, 'HOUSETYPE_MODE'),\n",
       " (0, 'FLAG_EMP_PHONE'),\n",
       " (0, 'FLAG_DOCUMENT_9'),\n",
       " (0, 'FLAG_DOCUMENT_7'),\n",
       " (0, 'FLAG_DOCUMENT_5'),\n",
       " (0, 'FLAG_DOCUMENT_4'),\n",
       " (0, 'FLAG_DOCUMENT_21'),\n",
       " (0, 'FLAG_DOCUMENT_20'),\n",
       " (0, 'FLAG_DOCUMENT_2'),\n",
       " (0, 'FLAG_DOCUMENT_19'),\n",
       " (0, 'FLAG_DOCUMENT_17'),\n",
       " (0, 'FLAG_DOCUMENT_15'),\n",
       " (0, 'FLAG_DOCUMENT_12'),\n",
       " (0, 'FLAG_DOCUMENT_10'),\n",
       " (0, 'FLAG_CONT_MOBILE'),\n",
       " (0, 'EMERGENCYSTATE_MODE'),\n",
       " (0, 'AMT_REQ_CREDIT_BUREAU_HOUR')]"
      ]
     },
     "execution_count": 69,
     "metadata": {},
     "output_type": "execute_result"
    }
   ],
   "source": [
    "# #Feature Importance\n",
    "importance = dict(zip(X_train.columns, model_lgb.feature_importance()))\n",
    "\n",
    "sorted(((value,key) for (key,value) in importance.items()), reverse=True)"
   ]
  },
  {
   "cell_type": "code",
   "execution_count": 70,
   "metadata": {
    "ExecuteTime": {
     "end_time": "2018-06-24T15:33:05.155009Z",
     "start_time": "2018-06-24T15:33:05.146007Z"
    }
   },
   "outputs": [
    {
     "data": {
      "text/plain": [
       "233"
      ]
     },
     "execution_count": 70,
     "metadata": {},
     "output_type": "execute_result"
    }
   ],
   "source": [
    "# #Total Number of Features --- 227\n",
    "len(sorted(((value,key) for (key,value) in importance.items()), reverse=True))"
   ]
  },
  {
   "cell_type": "code",
   "execution_count": 71,
   "metadata": {
    "ExecuteTime": {
     "end_time": "2018-06-24T15:33:05.169939Z",
     "start_time": "2018-06-24T15:33:05.156974Z"
    }
   },
   "outputs": [
    {
     "data": {
      "text/plain": [
       "179"
      ]
     },
     "execution_count": 71,
     "metadata": {},
     "output_type": "execute_result"
    }
   ],
   "source": [
    "# #Number of Features > 50 --- 21\n",
    "len(sorted(((value,key) for (key,value) in importance.items() if value > 50), reverse=True))"
   ]
  },
  {
   "cell_type": "code",
   "execution_count": 72,
   "metadata": {
    "ExecuteTime": {
     "end_time": "2018-06-24T15:33:05.178927Z",
     "start_time": "2018-06-24T15:33:05.171934Z"
    }
   },
   "outputs": [],
   "source": [
    "# #Number of Features > 60 --- 21\n",
    "# (sorted(((key) for (key,value) in importance.items() if value > 50), reverse=True))"
   ]
  },
  {
   "cell_type": "code",
   "execution_count": null,
   "metadata": {},
   "outputs": [],
   "source": []
  },
  {
   "cell_type": "code",
   "execution_count": 73,
   "metadata": {
    "ExecuteTime": {
     "end_time": "2018-06-24T15:33:05.192877Z",
     "start_time": "2018-06-24T15:33:05.181909Z"
    }
   },
   "outputs": [
    {
     "ename": "SyntaxError",
     "evalue": "invalid syntax (<ipython-input-73-38d39cec41c5>, line 2)",
     "output_type": "error",
     "traceback": [
      "\u001b[1;36m  File \u001b[1;32m\"<ipython-input-73-38d39cec41c5>\"\u001b[1;36m, line \u001b[1;32m2\u001b[0m\n\u001b[1;33m    def\u001b[0m\n\u001b[1;37m       ^\u001b[0m\n\u001b[1;31mSyntaxError\u001b[0m\u001b[1;31m:\u001b[0m invalid syntax\n"
     ]
    }
   ],
   "source": [
    "# #Custom Interrupt Point for Run All below condition\n",
    "def"
   ]
  },
  {
   "cell_type": "code",
   "execution_count": null,
   "metadata": {
    "ExecuteTime": {
     "end_time": "2018-06-24T15:33:05.193876Z",
     "start_time": "2018-06-24T15:04:07.500Z"
    }
   },
   "outputs": [],
   "source": [
    "def def "
   ]
  },
  {
   "cell_type": "code",
   "execution_count": null,
   "metadata": {},
   "outputs": [],
   "source": []
  },
  {
   "cell_type": "code",
   "execution_count": null,
   "metadata": {},
   "outputs": [],
   "source": []
  },
  {
   "cell_type": "code",
   "execution_count": null,
   "metadata": {
    "ExecuteTime": {
     "end_time": "2018-06-24T15:33:05.194872Z",
     "start_time": "2018-06-24T15:04:07.506Z"
    }
   },
   "outputs": [],
   "source": [
    "cv_metrics = \"\"\"\n",
    "[100]\tcv_agg's auc: 0.781284 + 0.0026998\n",
    "[200]\tcv_agg's auc: 0.786374 + 0.00245158\n",
    "[300]\tcv_agg's auc: 0.787628 + 0.00275346\n",
    "[400]\tcv_agg's auc: 0.787835 + 0.00279943\n",
    "num_boost_rounds_lgb=390\n",
    "\"\"\""
   ]
  },
  {
   "cell_type": "code",
   "execution_count": null,
   "metadata": {
    "ExecuteTime": {
     "end_time": "2018-06-24T15:33:05.195869Z",
     "start_time": "2018-06-24T15:04:07.509Z"
    }
   },
   "outputs": [],
   "source": [
    "lb_metrics = 0.790"
   ]
  },
  {
   "cell_type": "code",
   "execution_count": null,
   "metadata": {
    "ExecuteTime": {
     "end_time": "2018-06-24T15:33:05.196868Z",
     "start_time": "2018-06-24T15:04:07.513Z"
    }
   },
   "outputs": [],
   "source": [
    "mongo_json = {\n",
    "    \"model\" : \"lightgbm\",\n",
    "    \"model_params\" : lgb_params,\n",
    "    \"feature_importance\" : dict([(key, int(val)) for key, val in importance.items()]),\n",
    "    \"cv_metrics\": cv_metrics,\n",
    "    \"lb_metrics\" : lb_metrics\n",
    "}"
   ]
  },
  {
   "cell_type": "markdown",
   "metadata": {},
   "source": [
    "# MongoDB - My Personal ModelDB"
   ]
  },
  {
   "cell_type": "code",
   "execution_count": null,
   "metadata": {
    "ExecuteTime": {
     "end_time": "2018-06-24T15:33:05.255712Z",
     "start_time": "2018-06-24T15:04:07.581Z"
    }
   },
   "outputs": [],
   "source": [
    "client = MongoClient()\n",
    "client = MongoClient('localhost', 27017)\n",
    "\n",
    "db = client.kaggle_homecredit\n",
    "collection = db.model2_lightgbm"
   ]
  },
  {
   "cell_type": "code",
   "execution_count": null,
   "metadata": {
    "ExecuteTime": {
     "end_time": "2018-06-24T15:33:05.256707Z",
     "start_time": "2018-06-24T15:04:07.584Z"
    }
   },
   "outputs": [],
   "source": [
    "db = client.kaggle_homecredit\n",
    "collection = db.model2_lightgbm"
   ]
  },
  {
   "cell_type": "code",
   "execution_count": null,
   "metadata": {
    "ExecuteTime": {
     "end_time": "2018-06-24T15:33:05.258703Z",
     "start_time": "2018-06-24T15:04:07.587Z"
    }
   },
   "outputs": [],
   "source": [
    "collection.insert_one(mongo_json)"
   ]
  },
  {
   "cell_type": "code",
   "execution_count": null,
   "metadata": {
    "ExecuteTime": {
     "end_time": "2018-06-24T15:33:05.259701Z",
     "start_time": "2018-06-24T15:04:07.591Z"
    }
   },
   "outputs": [],
   "source": [
    "df_application_train.size"
   ]
  },
  {
   "cell_type": "code",
   "execution_count": null,
   "metadata": {},
   "outputs": [],
   "source": []
  }
 ],
 "metadata": {
  "kernelspec": {
   "display_name": "Python 3",
   "language": "python",
   "name": "python3"
  },
  "language_info": {
   "codemirror_mode": {
    "name": "ipython",
    "version": 3
   },
   "file_extension": ".py",
   "mimetype": "text/x-python",
   "name": "python",
   "nbconvert_exporter": "python",
   "pygments_lexer": "ipython3",
   "version": "3.6.3rc1"
  },
  "latex_envs": {
   "LaTeX_envs_menu_present": true,
   "autoclose": false,
   "autocomplete": true,
   "bibliofile": "biblio.bib",
   "cite_by": "apalike",
   "current_citInitial": 1,
   "eqLabelWithNumbers": true,
   "eqNumInitial": 1,
   "hotkeys": {
    "equation": "Ctrl-E",
    "itemize": "Ctrl-I"
   },
   "labels_anchors": false,
   "latex_user_defs": false,
   "report_style_numbering": false,
   "user_envs_cfg": false
  },
  "toc": {
   "nav_menu": {},
   "number_sections": true,
   "sideBar": true,
   "skip_h1_title": false,
   "title_cell": "Table of Contents",
   "title_sidebar": "Contents",
   "toc_cell": false,
   "toc_position": {},
   "toc_section_display": true,
   "toc_window_display": false
  }
 },
 "nbformat": 4,
 "nbformat_minor": 2
}
