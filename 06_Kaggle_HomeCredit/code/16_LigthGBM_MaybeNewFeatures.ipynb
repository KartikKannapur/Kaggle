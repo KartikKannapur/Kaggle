{
 "cells": [
  {
   "cell_type": "markdown",
   "metadata": {
    "ExecuteTime": {
     "end_time": "2018-05-20T23:59:53.197955Z",
     "start_time": "2018-05-20T23:59:53.186014Z"
    }
   },
   "source": [
    "# Home Credit Default Risk\n",
    "\n",
    "Can you predict how capable each applicant is of repaying a loan?"
   ]
  },
  {
   "cell_type": "markdown",
   "metadata": {},
   "source": [
    "Many people struggle to get loans due to **insufficient or non-existent credit histories**. And, unfortunately, this population is often taken advantage of by untrustworthy lenders.\n",
    "\n",
    "Home Credit strives to broaden financial inclusion for the **unbanked population by providing a positive and safe borrowing experience**. In order to make sure this underserved population has a positive loan experience, Home Credit makes use of a variety of alternative data--including telco and transactional information--to predict their clients' repayment abilities.\n",
    "\n",
    "While Home Credit is currently using various statistical and machine learning methods to make these predictions, they're challenging Kagglers to help them unlock the full potential of their data. Doing so will ensure that clients capable of repayment are not rejected and that loans are given with a principal, maturity, and repayment calendar that will empower their clients to be successful."
   ]
  },
  {
   "cell_type": "markdown",
   "metadata": {},
   "source": [
    "**Submissions are evaluated on area under the ROC curve between the predicted probability and the observed target.**"
   ]
  },
  {
   "cell_type": "code",
   "execution_count": null,
   "metadata": {},
   "outputs": [],
   "source": []
  },
  {
   "cell_type": "markdown",
   "metadata": {
    "ExecuteTime": {
     "end_time": "2018-05-21T00:03:15.862019Z",
     "start_time": "2018-05-21T00:03:15.857030Z"
    }
   },
   "source": [
    "# Dataset"
   ]
  },
  {
   "cell_type": "code",
   "execution_count": 915,
   "metadata": {
    "ExecuteTime": {
     "end_time": "2018-06-24T04:33:13.538275Z",
     "start_time": "2018-06-24T04:33:13.462453Z"
    }
   },
   "outputs": [],
   "source": [
    "# #Python Libraries\n",
    "import numpy as np\n",
    "import scipy as sp\n",
    "import pandas as pd\n",
    "import statsmodels\n",
    "import pandas_profiling\n",
    "\n",
    "%matplotlib inline\n",
    "import matplotlib.pyplot as plt\n",
    "import seaborn as sns\n",
    "\n",
    "import os\n",
    "import sys\n",
    "import time\n",
    "import random\n",
    "import requests\n",
    "import datetime\n",
    "\n",
    "import missingno as msno\n",
    "import math\n",
    "import sys\n",
    "import gc\n",
    "import os\n",
    "\n",
    "# #sklearn\n",
    "from sklearn.model_selection import train_test_split\n",
    "from sklearn.model_selection import cross_val_score\n",
    "from sklearn.model_selection import RandomizedSearchCV\n",
    "from sklearn.model_selection import GridSearchCV\n",
    "from sklearn.model_selection import StratifiedKFold\n",
    "from sklearn.ensemble import RandomForestRegressor\n",
    "\n",
    "# #sklearn - preprocessing\n",
    "from sklearn.preprocessing import StandardScaler\n",
    "from sklearn.preprocessing import LabelEncoder\n",
    "\n",
    "# #sklearn - metrics\n",
    "from sklearn.metrics import mean_squared_error\n",
    "from sklearn.metrics import mean_absolute_error\n",
    "from sklearn.metrics import r2_score\n",
    "from sklearn.metrics import roc_auc_score\n",
    "\n",
    "# #XGBoost & LightGBM\n",
    "import xgboost as xgb\n",
    "import lightgbm as lgb\n",
    "\n",
    "# #Missing value imputation\n",
    "from fancyimpute import KNN, MICE\n",
    "\n",
    "# #Hyperparameter Optimization\n",
    "from hyperopt.pyll.base import scope\n",
    "from hyperopt.pyll.stochastic import sample\n",
    "from hyperopt import STATUS_OK, Trials, fmin, hp, tpe\n",
    "\n",
    "# #MongoDB for Model Parameter Storage\n",
    "from pymongo import MongoClient\n",
    "\n",
    "pd.options.display.max_columns = 150"
   ]
  },
  {
   "cell_type": "code",
   "execution_count": null,
   "metadata": {},
   "outputs": [],
   "source": []
  },
  {
   "cell_type": "markdown",
   "metadata": {},
   "source": [
    "## Data Dictionary"
   ]
  },
  {
   "cell_type": "code",
   "execution_count": 916,
   "metadata": {
    "ExecuteTime": {
     "end_time": "2018-06-24T04:33:13.615046Z",
     "start_time": "2018-06-24T04:33:13.544265Z"
    }
   },
   "outputs": [
    {
     "name": "stdout",
     "output_type": "stream",
     "text": [
      "total 2621364\n",
      "-rw-r--r-- 1 karti 197609  26567651 May 17 18:06 application_test.csv\n",
      "-rw-r--r-- 1 karti 197609 166133370 May 17 18:06 application_train.csv\n",
      "-rw-r--r-- 1 karti 197609 170016717 May 17 18:08 bureau.csv\n",
      "-rw-r--r-- 1 karti 197609 375592889 May 17 18:08 bureau_balance.csv\n",
      "-rw-r--r-- 1 karti 197609 424582605 May 17 18:10 credit_card_balance.csv\n",
      "-rw-r--r-- 1 karti 197609     37436 May 30 00:41 HomeCredit_columns_description.csv\n",
      "-rw-r--r-- 1 karti 197609 723118349 May 17 18:13 installments_payments.csv\n",
      "-rw-r--r-- 1 karti 197609 392703158 May 17 18:14 POS_CASH_balance.csv\n",
      "-rw-r--r-- 1 karti 197609 404973293 May 17 18:15 previous_application.csv\n",
      "-rw-r--r-- 1 karti 197609    536202 May 17 18:06 sample_submission.csv\n"
     ]
    }
   ],
   "source": [
    "!ls -l ../data/"
   ]
  },
  {
   "cell_type": "markdown",
   "metadata": {
    "ExecuteTime": {
     "end_time": "2018-05-21T00:09:22.778763Z",
     "start_time": "2018-05-21T00:09:22.728896Z"
    }
   },
   "source": [
    "- application_{train|test}.csv\n",
    "\n",
    "This is the main table, broken into two files for Train (**with TARGET**) and Test (without TARGET).\n",
    "Static data for all applications. **One row represents one loan in our data sample.**\n",
    "\n",
    "Observations:\n",
    "* Each row is unique\n",
    "\n",
    "-----\n",
    "\n",
    "\n",
    "- bureau.csv\n",
    "\n",
    "All client's previous credits provided by other financial institutions that were reported to Credit Bureau (for clients who have a loan in our sample).\n",
    "For every loan in our sample, there are as many rows as number of credits the client had in Credit Bureau before the application date.\n",
    "\n",
    "- bureau_balance.csv\n",
    "\n",
    "Monthly balances of previous credits in Credit Bureau.\n",
    "This table has one row for each month of history of every previous credit reported to Credit Bureau – i.e the table has (#loans in sample * # of relative previous credits * # of months where we have some history observable for the previous credits) rows.\n",
    "\n",
    "- POS_CASH_balance.csv\n",
    "\n",
    "Monthly balance snapshots of previous POS (point of sales) and cash loans that the applicant had with Home Credit.\n",
    "This table has one row for each month of history of every previous credit in Home Credit (consumer credit and cash loans) related to loans in our sample – i.e. the table has (#loans in sample * # of relative previous credits * # of months in which we have some history observable for the previous credits) rows.\n",
    "\n",
    "- credit_card_balance.csv\n",
    "\n",
    "Monthly balance snapshots of previous credit cards that the applicant has with Home Credit.\n",
    "This table has one row for each month of history of every previous credit in Home Credit (consumer credit and cash loans) related to loans in our sample – i.e. the table has (#loans in sample * # of relative previous credit cards * # of months where we have some history observable for the previous credit card) rows.\n",
    "\n",
    "-----\n",
    "\n",
    "- previous_application.csv\n",
    "\n",
    "All previous applications for Home Credit loans of clients who have loans in our sample.\n",
    "There is one row for each previous application related to loans in our data sample.\n",
    "\n",
    "-----\n",
    "\n",
    "- installments_payments.csv\n",
    "\n",
    "Repayment history for the previously disbursed credits in Home Credit related to the loans in our sample.\n",
    "There is a) one row for every payment that was made plus b) one row each for missed payment.\n",
    "One row is equivalent to one payment of one installment OR one installment corresponding to one payment of one previous Home Credit credit related to loans in our sample.\n",
    "\n",
    "- HomeCredit_columns_description.csv\n",
    "\n",
    "This file contains descriptions for the columns in the various data files."
   ]
  },
  {
   "cell_type": "markdown",
   "metadata": {
    "ExecuteTime": {
     "end_time": "2018-05-21T00:10:35.952529Z",
     "start_time": "2018-05-21T00:10:35.909617Z"
    }
   },
   "source": [
    "![](https://storage.googleapis.com/kaggle-media/competitions/home-credit/home_credit.png)"
   ]
  },
  {
   "cell_type": "code",
   "execution_count": null,
   "metadata": {},
   "outputs": [],
   "source": []
  },
  {
   "cell_type": "markdown",
   "metadata": {},
   "source": [
    "# Data Pre-processing"
   ]
  },
  {
   "cell_type": "code",
   "execution_count": 917,
   "metadata": {
    "ExecuteTime": {
     "end_time": "2018-06-24T04:34:10.907483Z",
     "start_time": "2018-06-24T04:33:13.804538Z"
    }
   },
   "outputs": [],
   "source": [
    "df_application_train_original = pd.read_csv(\"../data/application_train.csv\")\n",
    "df_application_test_original = pd.read_csv(\"../data/application_test.csv\")\n",
    "df_bureau_original = pd.read_csv(\"../data/bureau.csv\")\n",
    "df_bureau_balance_original = pd.read_csv(\"../data/bureau_balance.csv\")\n",
    "df_credit_card_balance_original = pd.read_csv(\"../data/credit_card_balance.csv\")\n",
    "df_installments_payments_original = pd.read_csv(\"../data/installments_payments.csv\")\n",
    "df_pos_cash_balance_original = pd.read_csv(\"../data/POS_CASH_balance.csv\")\n",
    "df_previous_application_original = pd.read_csv(\"../data/previous_application.csv\")"
   ]
  },
  {
   "cell_type": "code",
   "execution_count": 918,
   "metadata": {
    "ExecuteTime": {
     "end_time": "2018-06-24T04:35:09.287607Z",
     "start_time": "2018-06-24T04:34:10.910461Z"
    }
   },
   "outputs": [],
   "source": [
    "df_application_train = pd.read_csv(\"../data/application_train.csv\")\n",
    "df_application_test = pd.read_csv(\"../data/application_test.csv\")\n",
    "df_bureau = pd.read_csv(\"../data/bureau.csv\")\n",
    "df_bureau_balance = pd.read_csv(\"../data/bureau_balance.csv\")\n",
    "df_credit_card_balance = pd.read_csv(\"../data/credit_card_balance.csv\")\n",
    "df_installments_payments = pd.read_csv(\"../data/installments_payments.csv\")\n",
    "df_pos_cash_balance = pd.read_csv(\"../data/POS_CASH_balance.csv\")\n",
    "df_previous_application = pd.read_csv(\"../data/previous_application.csv\")"
   ]
  },
  {
   "cell_type": "code",
   "execution_count": 919,
   "metadata": {
    "ExecuteTime": {
     "end_time": "2018-06-24T04:35:09.308508Z",
     "start_time": "2018-06-24T04:35:09.289558Z"
    }
   },
   "outputs": [
    {
     "name": "stdout",
     "output_type": "stream",
     "text": [
      "df_application_train:  (307511, 122)\n",
      "df_application_test:  (48744, 121)\n",
      "df_bureau:  (1716428, 17)\n",
      "df_bureau_balance:  (27299925, 3)\n",
      "df_credit_card_balance:  (3840312, 23)\n",
      "df_installments_payments:  (13605401, 8)\n",
      "df_pos_cash_balance:  (10001358, 8)\n",
      "df_previous_application:  (1670214, 37)\n"
     ]
    }
   ],
   "source": [
    "print(\"df_application_train: \", df_application_train.shape)\n",
    "print(\"df_application_test: \", df_application_test.shape)\n",
    "print(\"df_bureau: \", df_bureau.shape)\n",
    "print(\"df_bureau_balance: \", df_bureau_balance.shape)\n",
    "print(\"df_credit_card_balance: \", df_credit_card_balance.shape)\n",
    "print(\"df_installments_payments: \", df_installments_payments.shape)\n",
    "print(\"df_pos_cash_balance: \", df_pos_cash_balance.shape)\n",
    "print(\"df_previous_application: \", df_previous_application.shape)"
   ]
  },
  {
   "cell_type": "code",
   "execution_count": 920,
   "metadata": {
    "ExecuteTime": {
     "end_time": "2018-06-24T04:35:09.402248Z",
     "start_time": "2018-06-24T04:35:09.311499Z"
    }
   },
   "outputs": [
    {
     "data": {
      "text/plain": [
       "102"
      ]
     },
     "execution_count": 920,
     "metadata": {},
     "output_type": "execute_result"
    }
   ],
   "source": [
    "gc.collect()"
   ]
  },
  {
   "cell_type": "code",
   "execution_count": null,
   "metadata": {},
   "outputs": [],
   "source": []
  },
  {
   "cell_type": "markdown",
   "metadata": {},
   "source": [
    "## Feature: df_installments_payments"
   ]
  },
  {
   "cell_type": "code",
   "execution_count": 921,
   "metadata": {
    "ExecuteTime": {
     "end_time": "2018-06-24T04:36:06.413986Z",
     "start_time": "2018-06-24T04:35:09.404217Z"
    }
   },
   "outputs": [],
   "source": [
    "df_installments_payments['K_PREV_INSTALLMENT_PAYMENT_COUNT'] = df_installments_payments.groupby('SK_ID_CURR')['SK_ID_PREV'].transform('count')\n",
    "\n",
    "# #Note: I haven't added the K_NUM_INSTALMENT_NUMBER_SUM feature since the K_NUM_INSTALMENT_NUMBER_SUM_TO_COUNT_RATIO\n",
    "# #performed better i.e. had a higher value on the feature importance score\n",
    "df_installments_payments['K_NUM_INSTALMENT_NUMBER_SUM'] = df_installments_payments.groupby('SK_ID_CURR')['NUM_INSTALMENT_NUMBER'].transform(np.sum)\n",
    "df_installments_payments['K_NUM_INSTALMENT_NUMBER_SUM_TO_COUNT_RATIO'] = df_installments_payments['K_NUM_INSTALMENT_NUMBER_SUM']/df_installments_payments['K_PREV_INSTALLMENT_PAYMENT_COUNT']\n",
    "\n",
    "df_installments_payments['TEMP_DAYS_INSTALMENT'] = df_installments_payments.groupby('SK_ID_CURR')['DAYS_INSTALMENT'].transform(np.sum)\n",
    "df_installments_payments['TEMP_DAYS_ENTRY_PAYMENT'] = df_installments_payments.groupby('SK_ID_CURR')['DAYS_ENTRY_PAYMENT'].transform(np.sum)\n",
    "df_installments_payments['K_INST_DAYS_DIFF'] = df_installments_payments['TEMP_DAYS_INSTALMENT'] - df_installments_payments['TEMP_DAYS_ENTRY_PAYMENT']\n",
    "df_installments_payments['K_INST_DAYS_DIFF_TO_COUNT_RATIO'] = df_installments_payments['K_INST_DAYS_DIFF']/df_installments_payments['K_PREV_INSTALLMENT_PAYMENT_COUNT']\n",
    "\n",
    "# df_installments_payments['K_DAYS_ENTRY_PAYMENT_MEAN'] = df_installments_payments.groupby('SK_ID_CURR')['DAYS_ENTRY_PAYMENT'].transform(np.mean)\n",
    "df_installments_payments['K_DAYS_ENTRY_PAYMENT_MAX'] = df_installments_payments.groupby('SK_ID_CURR')['DAYS_ENTRY_PAYMENT'].transform(np.max)\n",
    "# df_installments_payments['K_DAYS_ENTRY_PAYMENT_MIN'] = df_installments_payments.groupby('SK_ID_CURR')['DAYS_ENTRY_PAYMENT'].transform(np.min)\n",
    "df_installments_payments['K_DAYS_ENTRY_PAYMENT_VAR'] = df_installments_payments.groupby('SK_ID_CURR')['DAYS_ENTRY_PAYMENT'].transform(np.var)\n",
    "\n",
    "df_installments_payments['TEMP_AMT_INSTALMENT'] = df_installments_payments.groupby('SK_ID_CURR')['AMT_INSTALMENT'].transform(np.sum)\n",
    "df_installments_payments['TEMP_AMT_PAYMENT'] = df_installments_payments.groupby('SK_ID_CURR')['AMT_PAYMENT'].transform(np.sum)\n",
    "df_installments_payments['K_INST_AMT_DIFF'] = df_installments_payments['TEMP_AMT_INSTALMENT'] - df_installments_payments['TEMP_AMT_PAYMENT']\n",
    "# #Note: I haven't added the K_INST_AMT_DIFF_TO_COUNT_RATIO feature since the K_INST_AMT_DIFF\n",
    "# #performed better individually than with the count_ratio i.e. had a higher value on the feature importance score\n",
    "# df_installments_payments['K_INST_AMT_DIFF_TO_COUNT_RATIO'] = df_installments_payments['K_INST_AMT_DIFF']/df_installments_payments['K_PREV_INSTALLMENT_PAYMENT_COUNT']\n",
    "\n",
    "df_installments_payments['K_AMT_PAYMENT_MEAN'] = df_installments_payments.groupby('SK_ID_CURR')['AMT_PAYMENT'].transform(np.mean)\n",
    "df_installments_payments['K_AMT_PAYMENT_MAX'] = df_installments_payments.groupby('SK_ID_CURR')['AMT_PAYMENT'].transform(np.max)\n",
    "df_installments_payments['K_AMT_PAYMENT_MIN'] = df_installments_payments.groupby('SK_ID_CURR')['AMT_PAYMENT'].transform(np.min)\n",
    "df_installments_payments['K_AMT_PAYMENT_VAR'] = df_installments_payments.groupby('SK_ID_CURR')['AMT_PAYMENT'].transform(np.var)\n",
    "\n",
    "# #Drop Duplicates\n",
    "df_installments_payments = df_installments_payments[['SK_ID_CURR', 'K_PREV_INSTALLMENT_PAYMENT_COUNT', \n",
    "                                                     'K_INST_DAYS_DIFF', 'K_INST_AMT_DIFF',\n",
    "                                                     'K_NUM_INSTALMENT_NUMBER_SUM_TO_COUNT_RATIO', 'K_INST_DAYS_DIFF_TO_COUNT_RATIO',\n",
    "                                                     'K_DAYS_ENTRY_PAYMENT_MAX',\n",
    "                                                     'K_DAYS_ENTRY_PAYMENT_VAR', \n",
    "                                                     'K_AMT_PAYMENT_MEAN', 'K_AMT_PAYMENT_MAX', 'K_AMT_PAYMENT_MIN', 'K_AMT_PAYMENT_VAR'\n",
    "                                                    ]].drop_duplicates()"
   ]
  },
  {
   "cell_type": "code",
   "execution_count": 922,
   "metadata": {
    "ExecuteTime": {
     "end_time": "2018-06-24T04:36:06.694215Z",
     "start_time": "2018-06-24T04:36:06.415981Z"
    }
   },
   "outputs": [
    {
     "name": "stdout",
     "output_type": "stream",
     "text": [
      "df_installments_payments (339587, 12)\n",
      "291643\n",
      "47944\n",
      "Sum:  339587\n"
     ]
    }
   ],
   "source": [
    "# #CHECKPOINT\n",
    "print(\"df_installments_payments\", df_installments_payments.shape)\n",
    "print(len(set(df_installments_payments[\"SK_ID_CURR\"]).intersection(set(df_application_train[\"SK_ID_CURR\"]))))\n",
    "print(len(set(df_installments_payments[\"SK_ID_CURR\"]).intersection(set(df_application_test[\"SK_ID_CURR\"]))))\n",
    "print(\"Sum: \", 291643 + 47944)"
   ]
  },
  {
   "cell_type": "code",
   "execution_count": null,
   "metadata": {},
   "outputs": [],
   "source": []
  },
  {
   "cell_type": "code",
   "execution_count": null,
   "metadata": {},
   "outputs": [],
   "source": []
  },
  {
   "cell_type": "code",
   "execution_count": 923,
   "metadata": {
    "ExecuteTime": {
     "end_time": "2018-06-24T04:36:07.086169Z",
     "start_time": "2018-06-24T04:36:06.696212Z"
    }
   },
   "outputs": [
    {
     "data": {
      "text/plain": [
       "100"
      ]
     },
     "execution_count": 923,
     "metadata": {},
     "output_type": "execute_result"
    }
   ],
   "source": [
    "gc.collect()"
   ]
  },
  {
   "cell_type": "markdown",
   "metadata": {},
   "source": [
    "## Feature: df_credit_card_balance"
   ]
  },
  {
   "cell_type": "code",
   "execution_count": 924,
   "metadata": {
    "ExecuteTime": {
     "end_time": "2018-06-24T04:37:52.861897Z",
     "start_time": "2018-06-24T04:36:07.091155Z"
    }
   },
   "outputs": [],
   "source": [
    "df_credit_card_balance['K_PREV_CREDIT_CARD_BALANCE_COUNT'] = df_credit_card_balance.groupby('SK_ID_CURR')['SK_ID_PREV'].transform('count')\n",
    "\n",
    "# #All the four features below did not seem to have much weight in the feature importance of the model\n",
    "# df_credit_card_balance['K_MONTHS_BALANCE_MAX'] = df_credit_card_balance.groupby('SK_ID_CURR')['MONTHS_BALANCE'].transform(np.max)\n",
    "# df_credit_card_balance['K_MONTHS_BALANCE_MIN'] = df_credit_card_balance.groupby('SK_ID_CURR')['MONTHS_BALANCE'].transform(np.min)\n",
    "# df_credit_card_balance['K_MONTHS_BALANCE_SUM'] = df_credit_card_balance.groupby('SK_ID_CURR')['MONTHS_BALANCE'].transform(np.sum)\n",
    "# df_credit_card_balance['K_MONTHS_BALANCE_SUM_TO_COUNT_RATIO'] = df_credit_card_balance['K_MONTHS_BALANCE_SUM']/df_credit_card_balance['K_PREV_CREDIT_CARD_BALANCE_COUNT'] \n",
    "\n",
    "df_credit_card_balance['TEMP_AMT_BALANCE'] = df_credit_card_balance.groupby('SK_ID_CURR')['AMT_BALANCE'].transform(lambda x:x+1)\n",
    "df_credit_card_balance['TEMP_AMT_CREDIT_LIMIT_ACTUAL'] = df_credit_card_balance.groupby('SK_ID_CURR')['AMT_CREDIT_LIMIT_ACTUAL'].transform(lambda x:x+1)\n",
    "df_credit_card_balance['TEMP_UTILIZATION'] = df_credit_card_balance['TEMP_AMT_BALANCE']/df_credit_card_balance['TEMP_AMT_CREDIT_LIMIT_ACTUAL']\n",
    "df_credit_card_balance['K_CREDIT_UTILIZATION_MEAN'] = df_credit_card_balance.groupby('SK_ID_CURR')['TEMP_UTILIZATION'].transform(np.mean)\n",
    "df_credit_card_balance['K_CREDIT_UTILIZATION_MIN'] = df_credit_card_balance.groupby('SK_ID_CURR')['TEMP_UTILIZATION'].transform(np.min)\n",
    "df_credit_card_balance['K_CREDIT_UTILIZATION_MAX'] = df_credit_card_balance.groupby('SK_ID_CURR')['TEMP_UTILIZATION'].transform(np.max)\n",
    "df_credit_card_balance['K_CREDIT_UTILIZATION_VAR'] = df_credit_card_balance.groupby('SK_ID_CURR')['TEMP_UTILIZATION'].transform(np.var)\n",
    "\n",
    "# #Validation: SK_ID_CURR = 105755\n",
    "# #AMT_DRAWINGS_CURRENT = AMT_DRAWINGS_ATM_CURRENT + AMT_DRAWINGS_OTHER_CURRENT + AMT_DRAWINGS_POS_CURRENT\n",
    "df_credit_card_balance['K_AMT_DRAWINGS_CURRENT_MEAN'] = df_credit_card_balance.groupby('SK_ID_CURR')['AMT_DRAWINGS_CURRENT'].transform(np.mean)\n",
    "# df_credit_card_balance['K_AMT_DRAWINGS_CURRENT_MIN'] = df_credit_card_balance.groupby('SK_ID_CURR')['AMT_DRAWINGS_CURRENT'].transform(np.min)\n",
    "df_credit_card_balance['K_AMT_DRAWINGS_CURRENT_MAX'] = df_credit_card_balance.groupby('SK_ID_CURR')['AMT_DRAWINGS_CURRENT'].transform(np.max)\n",
    "# df_credit_card_balance['K_AMT_DRAWINGS_CURRENT_SUM'] = df_credit_card_balance.groupby('SK_ID_CURR')['AMT_DRAWINGS_CURRENT'].transform(np.sum)\n",
    "\n",
    "df_credit_card_balance['TEMP_AMT_PAYMENT_TOTAL_CURRENT'] = df_credit_card_balance.groupby('SK_ID_CURR')['AMT_PAYMENT_TOTAL_CURRENT'].transform(lambda x:x+1)\n",
    "df_credit_card_balance['TEMP_AMT_TOTAL_RECEIVABLE'] = df_credit_card_balance.groupby('SK_ID_CURR')['AMT_TOTAL_RECEIVABLE'].transform(lambda x:x+1)\n",
    "df_credit_card_balance['TEMP_AMT_PAYMENT_OVER_RECEIVABLE'] = df_credit_card_balance['TEMP_AMT_PAYMENT_TOTAL_CURRENT']/df_credit_card_balance['TEMP_AMT_TOTAL_RECEIVABLE']\n",
    "df_credit_card_balance['K_AMT_PAYMENT_OVER_RECEIVABLE_MEAN'] = df_credit_card_balance.groupby('SK_ID_CURR')['TEMP_AMT_PAYMENT_OVER_RECEIVABLE'].transform(np.mean)\n",
    "df_credit_card_balance['K_AMT_PAYMENT_OVER_RECEIVABLE_MIN'] = df_credit_card_balance.groupby('SK_ID_CURR')['TEMP_AMT_PAYMENT_OVER_RECEIVABLE'].transform(np.min)\n",
    "df_credit_card_balance['K_AMT_PAYMENT_OVER_RECEIVABLE_MAX'] = df_credit_card_balance.groupby('SK_ID_CURR')['TEMP_AMT_PAYMENT_OVER_RECEIVABLE'].transform(np.max)\n",
    "\n",
    "# #CNT_DRAWINGS_CURRENT = CNT_DRAWINGS_ATM_CURRENT + CNT_DRAWINGS_OTHER_CURRENT + CNT_DRAWINGS_POS_CURRENT\n",
    "df_credit_card_balance['K_CNT_DRAWINGS_CURRENT_MEAN'] = df_credit_card_balance.groupby('SK_ID_CURR')['CNT_DRAWINGS_CURRENT'].transform(np.mean)\n",
    "df_credit_card_balance['K_CNT_DRAWINGS_CURRENT_MIN'] = df_credit_card_balance.groupby('SK_ID_CURR')['CNT_DRAWINGS_CURRENT'].transform(np.min)\n",
    "df_credit_card_balance['K_CNT_DRAWINGS_CURRENT_MAX'] = df_credit_card_balance.groupby('SK_ID_CURR')['CNT_DRAWINGS_CURRENT'].transform(np.max)\n",
    "# df_credit_card_balance['K_CNT_DRAWINGS_CURRENT_SUM'] = df_credit_card_balance.groupby('SK_ID_CURR')['CNT_DRAWINGS_CURRENT'].transform(np.sum)\n",
    "\n",
    "# #Feature - CNT_INSTALMENT_MATURE_CUM\n",
    "df_credit_card_balance['K_CNT_INSTALMENT_MATURE_CUM_MAX'] = df_credit_card_balance.groupby('SK_ID_CURR')['CNT_INSTALMENT_MATURE_CUM'].transform(np.max)\n",
    "df_credit_card_balance['K_CNT_INSTALMENT_MATURE_CUM_MAX_TO_COUNT_RATIO'] = df_credit_card_balance['K_CNT_INSTALMENT_MATURE_CUM_MAX']/df_credit_card_balance['K_PREV_CREDIT_CARD_BALANCE_COUNT']\n",
    "\n",
    "# #Feature - SK_DPD\n",
    "# df_credit_card_balance['K_SK_DPD_MAX'] = df_credit_card_balance.groupby('SK_ID_CURR')['SK_DPD'].transform(np.max)\n",
    "# df_credit_card_balance['K_SK_DPD_MEAN'] = df_credit_card_balance.groupby('SK_ID_CURR')['SK_DPD'].transform(np.mean)\n",
    "# df_credit_card_balance['K_SK_DPD_SUM'] = df_credit_card_balance.groupby('SK_ID_CURR')['SK_DPD'].transform(np.sum)\n",
    "# df_credit_card_balance['K_SK_DPD_VAR'] = df_credit_card_balance.groupby('SK_ID_CURR')['SK_DPD'].transform(np.var)\n",
    "\n",
    "\n",
    "# #Drop Duplicates\n",
    "df_credit_card_balance = df_credit_card_balance[['SK_ID_CURR', 'K_PREV_CREDIT_CARD_BALANCE_COUNT',\n",
    "                    'K_CREDIT_UTILIZATION_MEAN', 'K_CREDIT_UTILIZATION_MIN', 'K_CREDIT_UTILIZATION_MAX', 'K_CREDIT_UTILIZATION_VAR',\n",
    "                    'K_AMT_DRAWINGS_CURRENT_MEAN', 'K_AMT_DRAWINGS_CURRENT_MAX', \n",
    "                    'K_AMT_PAYMENT_OVER_RECEIVABLE_MEAN', 'K_AMT_PAYMENT_OVER_RECEIVABLE_MIN', 'K_AMT_PAYMENT_OVER_RECEIVABLE_MAX', \n",
    "                    'K_CNT_DRAWINGS_CURRENT_MEAN', 'K_CNT_DRAWINGS_CURRENT_MIN', 'K_CNT_DRAWINGS_CURRENT_MAX',\n",
    "                    'K_CNT_INSTALMENT_MATURE_CUM_MAX_TO_COUNT_RATIO']].drop_duplicates()"
   ]
  },
  {
   "cell_type": "code",
   "execution_count": 925,
   "metadata": {
    "ExecuteTime": {
     "end_time": "2018-06-24T04:37:52.969608Z",
     "start_time": "2018-06-24T04:37:52.863891Z"
    }
   },
   "outputs": [
    {
     "name": "stdout",
     "output_type": "stream",
     "text": [
      "df_credit_card_balance (103558, 15)\n",
      "86905\n",
      "16653\n",
      "Sum:  103558\n"
     ]
    }
   ],
   "source": [
    "# #CHECKPOINT\n",
    "print(\"df_credit_card_balance\", df_credit_card_balance.shape)\n",
    "print(len(set(df_credit_card_balance[\"SK_ID_CURR\"]).intersection(set(df_application_train[\"SK_ID_CURR\"]))))\n",
    "print(len(set(df_credit_card_balance[\"SK_ID_CURR\"]).intersection(set(df_application_test[\"SK_ID_CURR\"]))))\n",
    "print(\"Sum: \", 86905 + 16653)"
   ]
  },
  {
   "cell_type": "code",
   "execution_count": null,
   "metadata": {},
   "outputs": [],
   "source": []
  },
  {
   "cell_type": "code",
   "execution_count": null,
   "metadata": {},
   "outputs": [],
   "source": []
  },
  {
   "cell_type": "code",
   "execution_count": 926,
   "metadata": {
    "ExecuteTime": {
     "end_time": "2018-06-24T04:37:53.219715Z",
     "start_time": "2018-06-24T04:37:52.973599Z"
    }
   },
   "outputs": [
    {
     "data": {
      "text/plain": [
       "110"
      ]
     },
     "execution_count": 926,
     "metadata": {},
     "output_type": "execute_result"
    }
   ],
   "source": [
    "gc.collect()"
   ]
  },
  {
   "cell_type": "markdown",
   "metadata": {},
   "source": [
    "## Feature: df_pos_cash_balance"
   ]
  },
  {
   "cell_type": "code",
   "execution_count": 927,
   "metadata": {
    "ExecuteTime": {
     "end_time": "2018-06-24T04:38:18.180259Z",
     "start_time": "2018-06-24T04:37:53.224692Z"
    }
   },
   "outputs": [],
   "source": [
    "df_pos_cash_balance['K_PREV_POS_CASH_BALANCE_COUNT'] = df_pos_cash_balance.groupby('SK_ID_CURR')['SK_ID_PREV'].transform('count')\n",
    "\n",
    "df_pos_cash_balance['K_MONTHS_BALANCE_POS_CASH_MEAN'] = df_pos_cash_balance.groupby('SK_ID_CURR')['MONTHS_BALANCE'].transform(np.mean)\n",
    "df_pos_cash_balance['K_MONTHS_BALANCE_POS_CASH_MAX'] = df_pos_cash_balance.groupby('SK_ID_CURR')['MONTHS_BALANCE'].transform(np.max)\n",
    "df_pos_cash_balance['K_MONTHS_BALANCE_POS_CASH_MIN'] = df_pos_cash_balance.groupby('SK_ID_CURR')['MONTHS_BALANCE'].transform(np.min)\n",
    "\n",
    "df_pos_cash_balance['K_CNT_INSTALMENT_MEAN'] = df_pos_cash_balance.groupby('SK_ID_CURR')['CNT_INSTALMENT'].transform(np.mean)\n",
    "df_pos_cash_balance['K_CNT_INSTALMENT_MAX'] = df_pos_cash_balance.groupby('SK_ID_CURR')['CNT_INSTALMENT'].transform(np.max)\n",
    "df_pos_cash_balance['K_CNT_INSTALMENT_MIN'] = df_pos_cash_balance.groupby('SK_ID_CURR')['CNT_INSTALMENT'].transform(np.min)\n",
    "\n",
    "df_pos_cash_balance['K_CNT_INSTALMENT_FUTURE_MEAN'] = df_pos_cash_balance.groupby('SK_ID_CURR')['CNT_INSTALMENT_FUTURE'].transform(np.mean)\n",
    "df_pos_cash_balance['K_CNT_INSTALMENT_FUTURE_MAX'] = df_pos_cash_balance.groupby('SK_ID_CURR')['CNT_INSTALMENT_FUTURE'].transform(np.max)\n",
    "# df_pos_cash_balance['K_CNT_INSTALMENT_FUTURE_MIN'] = df_pos_cash_balance.groupby('SK_ID_CURR')['CNT_INSTALMENT_FUTURE'].transform(np.min)\n",
    "\n",
    "# #Drop Duplicates\n",
    "df_pos_cash_balance = df_pos_cash_balance[['SK_ID_CURR', 'K_PREV_POS_CASH_BALANCE_COUNT', \n",
    "                                           'K_MONTHS_BALANCE_POS_CASH_MEAN','K_MONTHS_BALANCE_POS_CASH_MAX', 'K_MONTHS_BALANCE_POS_CASH_MIN', \n",
    "                                           'K_CNT_INSTALMENT_MEAN', 'K_CNT_INSTALMENT_MAX', 'K_CNT_INSTALMENT_MIN', \n",
    "                                           'K_CNT_INSTALMENT_FUTURE_MEAN', 'K_CNT_INSTALMENT_FUTURE_MAX']].drop_duplicates()"
   ]
  },
  {
   "cell_type": "code",
   "execution_count": null,
   "metadata": {},
   "outputs": [],
   "source": []
  },
  {
   "cell_type": "code",
   "execution_count": null,
   "metadata": {},
   "outputs": [],
   "source": []
  },
  {
   "cell_type": "code",
   "execution_count": null,
   "metadata": {},
   "outputs": [],
   "source": []
  },
  {
   "cell_type": "markdown",
   "metadata": {},
   "source": [
    "## Feature: df_previous_application"
   ]
  },
  {
   "cell_type": "code",
   "execution_count": 928,
   "metadata": {
    "ExecuteTime": {
     "end_time": "2018-06-24T04:38:18.251038Z",
     "start_time": "2018-06-24T04:38:18.183236Z"
    }
   },
   "outputs": [],
   "source": [
    "# #Missing values have been masked with the value 365243.0\n",
    "df_previous_application['DAYS_LAST_DUE'].replace(365243.0, np.nan, inplace=True)\n",
    "df_previous_application['DAYS_TERMINATION'].replace(365243.0, np.nan, inplace=True)\n",
    "df_previous_application['DAYS_FIRST_DRAWING'].replace(365243.0, np.nan, inplace=True)\n",
    "df_previous_application['DAYS_FIRST_DUE'].replace(365243.0, np.nan, inplace=True)\n",
    "df_previous_application['DAYS_LAST_DUE_1ST_VERSION'].replace(365243.0, np.nan, inplace=True)"
   ]
  },
  {
   "cell_type": "code",
   "execution_count": null,
   "metadata": {},
   "outputs": [],
   "source": []
  },
  {
   "cell_type": "code",
   "execution_count": 929,
   "metadata": {
    "ExecuteTime": {
     "end_time": "2018-06-24T04:38:48.718435Z",
     "start_time": "2018-06-24T04:38:18.253032Z"
    }
   },
   "outputs": [],
   "source": [
    "df_previous_application['K_PREV_PREVIOUS_APPLICATION_COUNT'] = df_previous_application.groupby('SK_ID_CURR')['SK_ID_PREV'].transform('count')\n",
    "\n",
    "df_previous_application['K_AMT_ANNUITY_MEAN'] = df_previous_application.groupby('SK_ID_CURR')['AMT_ANNUITY'].transform(np.mean)\n",
    "df_previous_application['K_AMT_ANNUITY_MAX'] = df_previous_application.groupby('SK_ID_CURR')['AMT_ANNUITY'].transform(np.max)\n",
    "df_previous_application['K_AMT_ANNUITY_MIN'] = df_previous_application.groupby('SK_ID_CURR')['AMT_ANNUITY'].transform(np.min)\n",
    "df_previous_application['K_AMT_ANNUITY_VAR'] = df_previous_application.groupby('SK_ID_CURR')['AMT_ANNUITY'].transform(np.var)\n",
    "# df_previous_application['K_AMT_ANNUITY_SUM'] = df_previous_application.groupby('SK_ID_CURR')['AMT_ANNUITY'].transform(np.sum)\n",
    "# df_previous_application['K_AMT_ANNUITY_RANGE'] = df_previous_application['K_AMT_ANNUITY_MAX'] - df_previous_application['K_AMT_ANNUITY_MIN']\n",
    "\n",
    "# #Features reduced the accuracy of my model\n",
    "# df_previous_application['K_AMT_APPLICATION_MEAN'] = df_previous_application.groupby('SK_ID_CURR')['AMT_APPLICATION'].transform(np.mean)\n",
    "# df_previous_application['K_AMT_APPLICATION_MAX'] = df_previous_application.groupby('SK_ID_CURR')['AMT_APPLICATION'].transform(np.max)\n",
    "# df_previous_application['K_AMT_APPLICATION_MIN'] = df_previous_application.groupby('SK_ID_CURR')['AMT_APPLICATION'].transform(np.min)\n",
    "# df_previous_application['K_AMT_APPLICATION_VAR'] = df_previous_application.groupby('SK_ID_CURR')['AMT_APPLICATION'].transform(np.var)\n",
    "# df_previous_application['K_AMT_APPLICATION_SUM'] = df_previous_application.groupby('SK_ID_CURR')['AMT_APPLICATION'].transform(np.sum)\n",
    "\n",
    "# df_previous_application['K_AMT_CREDIT_MEAN'] = df_previous_application.groupby('SK_ID_CURR')['AMT_CREDIT'].transform(np.mean)\n",
    "# df_previous_application['K_AMT_CREDIT_MAX'] = df_previous_application.groupby('SK_ID_CURR')['AMT_CREDIT'].transform(np.max)\n",
    "# df_previous_application['K_AMT_CREDIT_MIN'] = df_previous_application.groupby('SK_ID_CURR')['AMT_CREDIT'].transform(np.min)\n",
    "# df_previous_application['K_AMT_CREDIT_VAR'] = df_previous_application.groupby('SK_ID_CURR')['AMT_CREDIT'].transform(np.var)\n",
    "# df_previous_application['K_AMT_CREDIT_SUM'] = df_previous_application.groupby('SK_ID_CURR')['AMT_CREDIT'].transform(np.sum)\n",
    "\n",
    "df_previous_application['TEMP_CREDIT_ALLOCATED'] = df_previous_application['AMT_CREDIT']/df_previous_application['AMT_APPLICATION']\n",
    "df_previous_application['K_CREDIT_ALLOCATED_MEAN'] = df_previous_application.groupby('SK_ID_CURR')['TEMP_CREDIT_ALLOCATED'].transform(np.mean)\n",
    "df_previous_application['K_CREDIT_ALLOCATED_MAX'] = df_previous_application.groupby('SK_ID_CURR')['TEMP_CREDIT_ALLOCATED'].transform(np.max)\n",
    "df_previous_application['K_CREDIT_ALLOCATED_MIN'] = df_previous_application.groupby('SK_ID_CURR')['TEMP_CREDIT_ALLOCATED'].transform(np.min)\n",
    "\n",
    "df_previous_application['TEMP_NAME_CONTRACT_STATUS_APPROVED'] = (df_previous_application['NAME_CONTRACT_STATUS'] == 'Approved').astype(int)\n",
    "df_previous_application['K_NAME_CONTRACT_STATUS_APPROVED'] = df_previous_application.groupby('SK_ID_CURR')['TEMP_NAME_CONTRACT_STATUS_APPROVED'].transform(np.sum)\n",
    "# df_previous_application['TEMP_NAME_CONTRACT_STATUS_REFUSED'] = (df_previous_application['NAME_CONTRACT_STATUS'] == 'REFUSED').astype(int)\n",
    "# df_previous_application['K_NAME_CONTRACT_STATUS_REFUSED'] = df_previous_application.groupby('SK_ID_CURR')['TEMP_NAME_CONTRACT_STATUS_REFUSED'].transform(np.sum)\n",
    "\n",
    "df_previous_application['K_AMT_DOWN_PAYMENT_MEAN'] = df_previous_application.groupby('SK_ID_CURR')['AMT_DOWN_PAYMENT'].transform(np.mean)\n",
    "df_previous_application['K_AMT_DOWN_PAYMENT_MAX'] = df_previous_application.groupby('SK_ID_CURR')['AMT_DOWN_PAYMENT'].transform(np.max)\n",
    "df_previous_application['K_AMT_DOWN_PAYMENT_MIN'] = df_previous_application.groupby('SK_ID_CURR')['AMT_DOWN_PAYMENT'].transform(np.min)\n",
    "\n",
    "df_previous_application['K_AMT_GOODS_PRICE_MEAN'] = df_previous_application.groupby('SK_ID_CURR')['AMT_GOODS_PRICE'].transform(np.mean)\n",
    "df_previous_application['K_AMT_GOODS_PRICE_MAX'] = df_previous_application.groupby('SK_ID_CURR')['AMT_GOODS_PRICE'].transform(np.max)\n",
    "df_previous_application['K_AMT_GOODS_PRICE_MIN'] = df_previous_application.groupby('SK_ID_CURR')['AMT_GOODS_PRICE'].transform(np.min)\n",
    "\n",
    "df_previous_application['K_DAYS_DECISION_MEAN'] = df_previous_application.groupby('SK_ID_CURR')['DAYS_DECISION'].transform(np.mean)\n",
    "df_previous_application['K_DAYS_DECISION_MAX'] = df_previous_application.groupby('SK_ID_CURR')['DAYS_DECISION'].transform(np.max)\n",
    "df_previous_application['K_DAYS_DECISION_MIN'] = df_previous_application.groupby('SK_ID_CURR')['DAYS_DECISION'].transform(np.min)\n",
    "\n",
    "df_previous_application['K_CNT_PAYMENT_MEAN'] = df_previous_application.groupby('SK_ID_CURR')['CNT_PAYMENT'].transform(np.mean)\n",
    "df_previous_application['K_CNT_PAYMENT_MAX'] = df_previous_application.groupby('SK_ID_CURR')['CNT_PAYMENT'].transform(np.max)\n",
    "df_previous_application['K_CNT_PAYMENT_MIN'] = df_previous_application.groupby('SK_ID_CURR')['CNT_PAYMENT'].transform(np.min)\n",
    "\n",
    "df_previous_application['K_DAYS_FIRST_DRAWING_MEAN'] = df_previous_application.groupby('SK_ID_CURR')['DAYS_FIRST_DRAWING'].transform(np.mean)\n",
    "# df_previous_application['K_DAYS_FIRST_DRAWING_MAX'] = df_previous_application.groupby('SK_ID_CURR')['DAYS_FIRST_DRAWING'].transform(np.max)\n",
    "# df_previous_application['K_DAYS_FIRST_DRAWING_MIN'] = df_previous_application.groupby('SK_ID_CURR')['DAYS_FIRST_DRAWING'].transform(np.min)\n",
    "\n",
    "df_previous_application['K_DAYS_FIRST_DUE_MEAN'] = df_previous_application.groupby('SK_ID_CURR')['DAYS_FIRST_DUE'].transform(np.mean)\n",
    "df_previous_application['K_DAYS_FIRST_DUE_MAX'] = df_previous_application.groupby('SK_ID_CURR')['DAYS_FIRST_DUE'].transform(np.max)\n",
    "df_previous_application['K_DAYS_FIRST_DUE_MIN'] = df_previous_application.groupby('SK_ID_CURR')['DAYS_FIRST_DUE'].transform(np.min)\n",
    "\n",
    "df_previous_application['K_DAYS_LAST_DUE_1ST_VERSION_MEAN'] = df_previous_application.groupby('SK_ID_CURR')['DAYS_LAST_DUE_1ST_VERSION'].transform(np.mean)\n",
    "df_previous_application['K_DAYS_LAST_DUE_1ST_VERSION_MAX'] = df_previous_application.groupby('SK_ID_CURR')['DAYS_LAST_DUE_1ST_VERSION'].transform(np.max)\n",
    "df_previous_application['K_DAYS_LAST_DUE_1ST_VERSION_MIN'] = df_previous_application.groupby('SK_ID_CURR')['DAYS_LAST_DUE_1ST_VERSION'].transform(np.min)\n",
    "\n",
    "df_previous_application['K_DAYS_LAST_DUE_MEAN'] = df_previous_application.groupby('SK_ID_CURR')['DAYS_LAST_DUE'].transform(np.mean)\n",
    "df_previous_application['K_DAYS_LAST_DUE_MAX'] = df_previous_application.groupby('SK_ID_CURR')['DAYS_LAST_DUE'].transform(np.max)\n",
    "df_previous_application['K_DAYS_LAST_DUE_MIN'] = df_previous_application.groupby('SK_ID_CURR')['DAYS_LAST_DUE'].transform(np.min)\n",
    "\n",
    "df_previous_application['K_DAYS_TERMINATION_MEAN'] = df_previous_application.groupby('SK_ID_CURR')['DAYS_TERMINATION'].transform(np.mean)\n",
    "df_previous_application['K_DAYS_TERMINATION_MAX'] = df_previous_application.groupby('SK_ID_CURR')['DAYS_TERMINATION'].transform(np.max)\n",
    "df_previous_application['K_DAYS_TERMINATION_MIN'] = df_previous_application.groupby('SK_ID_CURR')['DAYS_TERMINATION'].transform(np.min)\n",
    "\n",
    "\n",
    "# #Drop Duplicates\n",
    "df_previous_application = df_previous_application[['SK_ID_CURR', 'K_PREV_PREVIOUS_APPLICATION_COUNT', \n",
    "                                                   'K_NAME_CONTRACT_STATUS_APPROVED',\n",
    "                                                   'K_AMT_ANNUITY_VAR', \n",
    "                                          'K_AMT_ANNUITY_MEAN', 'K_AMT_ANNUITY_MAX', 'K_AMT_ANNUITY_MIN',\n",
    "                                          'K_CREDIT_ALLOCATED_MEAN', 'K_CREDIT_ALLOCATED_MAX', 'K_CREDIT_ALLOCATED_MIN',\n",
    "                                          'K_AMT_DOWN_PAYMENT_MEAN', 'K_AMT_DOWN_PAYMENT_MAX', 'K_AMT_DOWN_PAYMENT_MIN',\n",
    "                                          'K_AMT_GOODS_PRICE_MEAN', 'K_AMT_GOODS_PRICE_MAX', 'K_AMT_GOODS_PRICE_MIN',\n",
    "                                          'K_DAYS_DECISION_MEAN', 'K_DAYS_DECISION_MAX', 'K_DAYS_DECISION_MIN',\n",
    "                                          'K_CNT_PAYMENT_MEAN', 'K_CNT_PAYMENT_MAX', 'K_CNT_PAYMENT_MIN',\n",
    "                                          'K_DAYS_FIRST_DRAWING_MEAN',\n",
    "                                          'K_DAYS_FIRST_DUE_MEAN', 'K_DAYS_FIRST_DUE_MAX', 'K_DAYS_FIRST_DUE_MIN',\n",
    "                                          'K_DAYS_LAST_DUE_1ST_VERSION_MEAN', 'K_DAYS_LAST_DUE_1ST_VERSION_MAX', 'K_DAYS_LAST_DUE_1ST_VERSION_MIN',\n",
    "                                          'K_DAYS_LAST_DUE_MEAN', 'K_DAYS_LAST_DUE_MAX', 'K_DAYS_LAST_DUE_MIN',\n",
    "                                          'K_DAYS_TERMINATION_MEAN', 'K_DAYS_TERMINATION_MAX', 'K_DAYS_TERMINATION_MIN']].drop_duplicates()"
   ]
  },
  {
   "cell_type": "code",
   "execution_count": 930,
   "metadata": {
    "ExecuteTime": {
     "end_time": "2018-06-24T04:38:48.788251Z",
     "start_time": "2018-06-24T04:38:48.720429Z"
    }
   },
   "outputs": [
    {
     "data": {
      "text/html": [
       "<div>\n",
       "<style scoped>\n",
       "    .dataframe tbody tr th:only-of-type {\n",
       "        vertical-align: middle;\n",
       "    }\n",
       "\n",
       "    .dataframe tbody tr th {\n",
       "        vertical-align: top;\n",
       "    }\n",
       "\n",
       "    .dataframe thead th {\n",
       "        text-align: right;\n",
       "    }\n",
       "</style>\n",
       "<table border=\"1\" class=\"dataframe\">\n",
       "  <thead>\n",
       "    <tr style=\"text-align: right;\">\n",
       "      <th></th>\n",
       "      <th>SK_ID_PREV</th>\n",
       "      <th>SK_ID_CURR</th>\n",
       "      <th>NAME_CONTRACT_TYPE</th>\n",
       "      <th>AMT_ANNUITY</th>\n",
       "      <th>AMT_APPLICATION</th>\n",
       "      <th>AMT_CREDIT</th>\n",
       "      <th>AMT_DOWN_PAYMENT</th>\n",
       "      <th>AMT_GOODS_PRICE</th>\n",
       "      <th>WEEKDAY_APPR_PROCESS_START</th>\n",
       "      <th>HOUR_APPR_PROCESS_START</th>\n",
       "      <th>FLAG_LAST_APPL_PER_CONTRACT</th>\n",
       "      <th>NFLAG_LAST_APPL_IN_DAY</th>\n",
       "      <th>RATE_DOWN_PAYMENT</th>\n",
       "      <th>RATE_INTEREST_PRIMARY</th>\n",
       "      <th>RATE_INTEREST_PRIVILEGED</th>\n",
       "      <th>NAME_CASH_LOAN_PURPOSE</th>\n",
       "      <th>NAME_CONTRACT_STATUS</th>\n",
       "      <th>DAYS_DECISION</th>\n",
       "      <th>NAME_PAYMENT_TYPE</th>\n",
       "      <th>CODE_REJECT_REASON</th>\n",
       "      <th>NAME_TYPE_SUITE</th>\n",
       "      <th>NAME_CLIENT_TYPE</th>\n",
       "      <th>NAME_GOODS_CATEGORY</th>\n",
       "      <th>NAME_PORTFOLIO</th>\n",
       "      <th>NAME_PRODUCT_TYPE</th>\n",
       "      <th>CHANNEL_TYPE</th>\n",
       "      <th>SELLERPLACE_AREA</th>\n",
       "      <th>NAME_SELLER_INDUSTRY</th>\n",
       "      <th>CNT_PAYMENT</th>\n",
       "      <th>NAME_YIELD_GROUP</th>\n",
       "      <th>PRODUCT_COMBINATION</th>\n",
       "      <th>DAYS_FIRST_DRAWING</th>\n",
       "      <th>DAYS_FIRST_DUE</th>\n",
       "      <th>DAYS_LAST_DUE_1ST_VERSION</th>\n",
       "      <th>DAYS_LAST_DUE</th>\n",
       "      <th>DAYS_TERMINATION</th>\n",
       "      <th>NFLAG_INSURED_ON_APPROVAL</th>\n",
       "    </tr>\n",
       "  </thead>\n",
       "  <tbody>\n",
       "    <tr>\n",
       "      <th>98162</th>\n",
       "      <td>2078043</td>\n",
       "      <td>100006</td>\n",
       "      <td>Cash loans</td>\n",
       "      <td>24246.00</td>\n",
       "      <td>675000.00</td>\n",
       "      <td>675000.0</td>\n",
       "      <td>NaN</td>\n",
       "      <td>675000.00</td>\n",
       "      <td>THURSDAY</td>\n",
       "      <td>15</td>\n",
       "      <td>Y</td>\n",
       "      <td>1</td>\n",
       "      <td>NaN</td>\n",
       "      <td>NaN</td>\n",
       "      <td>NaN</td>\n",
       "      <td>XNA</td>\n",
       "      <td>Approved</td>\n",
       "      <td>-181</td>\n",
       "      <td>Cash through the bank</td>\n",
       "      <td>XAP</td>\n",
       "      <td>Unaccompanied</td>\n",
       "      <td>Repeater</td>\n",
       "      <td>XNA</td>\n",
       "      <td>Cash</td>\n",
       "      <td>x-sell</td>\n",
       "      <td>Credit and cash offices</td>\n",
       "      <td>-1</td>\n",
       "      <td>XNA</td>\n",
       "      <td>48.0</td>\n",
       "      <td>low_normal</td>\n",
       "      <td>Cash X-Sell: low</td>\n",
       "      <td>365243.0</td>\n",
       "      <td>-151.0</td>\n",
       "      <td>1259.0</td>\n",
       "      <td>-151.0</td>\n",
       "      <td>-143.0</td>\n",
       "      <td>0.0</td>\n",
       "    </tr>\n",
       "    <tr>\n",
       "      <th>617859</th>\n",
       "      <td>2827850</td>\n",
       "      <td>100006</td>\n",
       "      <td>Revolving loans</td>\n",
       "      <td>NaN</td>\n",
       "      <td>0.00</td>\n",
       "      <td>0.0</td>\n",
       "      <td>NaN</td>\n",
       "      <td>NaN</td>\n",
       "      <td>THURSDAY</td>\n",
       "      <td>15</td>\n",
       "      <td>Y</td>\n",
       "      <td>1</td>\n",
       "      <td>NaN</td>\n",
       "      <td>NaN</td>\n",
       "      <td>NaN</td>\n",
       "      <td>XAP</td>\n",
       "      <td>Canceled</td>\n",
       "      <td>-181</td>\n",
       "      <td>XNA</td>\n",
       "      <td>XAP</td>\n",
       "      <td>NaN</td>\n",
       "      <td>Repeater</td>\n",
       "      <td>XNA</td>\n",
       "      <td>XNA</td>\n",
       "      <td>XNA</td>\n",
       "      <td>Credit and cash offices</td>\n",
       "      <td>-1</td>\n",
       "      <td>XNA</td>\n",
       "      <td>NaN</td>\n",
       "      <td>XNA</td>\n",
       "      <td>Card Street</td>\n",
       "      <td>NaN</td>\n",
       "      <td>NaN</td>\n",
       "      <td>NaN</td>\n",
       "      <td>NaN</td>\n",
       "      <td>NaN</td>\n",
       "      <td>NaN</td>\n",
       "    </tr>\n",
       "    <tr>\n",
       "      <th>830967</th>\n",
       "      <td>2190416</td>\n",
       "      <td>100006</td>\n",
       "      <td>Consumer loans</td>\n",
       "      <td>29027.52</td>\n",
       "      <td>334917.00</td>\n",
       "      <td>267930.0</td>\n",
       "      <td>66987.00</td>\n",
       "      <td>334917.00</td>\n",
       "      <td>SUNDAY</td>\n",
       "      <td>15</td>\n",
       "      <td>Y</td>\n",
       "      <td>1</td>\n",
       "      <td>0.217830</td>\n",
       "      <td>NaN</td>\n",
       "      <td>NaN</td>\n",
       "      <td>XAP</td>\n",
       "      <td>Approved</td>\n",
       "      <td>-311</td>\n",
       "      <td>Cash through the bank</td>\n",
       "      <td>XAP</td>\n",
       "      <td>Family</td>\n",
       "      <td>Repeater</td>\n",
       "      <td>Audio/Video</td>\n",
       "      <td>POS</td>\n",
       "      <td>XNA</td>\n",
       "      <td>Country-wide</td>\n",
       "      <td>8025</td>\n",
       "      <td>Consumer electronics</td>\n",
       "      <td>12.0</td>\n",
       "      <td>high</td>\n",
       "      <td>POS household with interest</td>\n",
       "      <td>365243.0</td>\n",
       "      <td>-281.0</td>\n",
       "      <td>49.0</td>\n",
       "      <td>365243.0</td>\n",
       "      <td>365243.0</td>\n",
       "      <td>0.0</td>\n",
       "    </tr>\n",
       "    <tr>\n",
       "      <th>900957</th>\n",
       "      <td>1489396</td>\n",
       "      <td>100006</td>\n",
       "      <td>Revolving loans</td>\n",
       "      <td>13500.00</td>\n",
       "      <td>270000.00</td>\n",
       "      <td>270000.0</td>\n",
       "      <td>NaN</td>\n",
       "      <td>270000.00</td>\n",
       "      <td>THURSDAY</td>\n",
       "      <td>15</td>\n",
       "      <td>Y</td>\n",
       "      <td>1</td>\n",
       "      <td>NaN</td>\n",
       "      <td>NaN</td>\n",
       "      <td>NaN</td>\n",
       "      <td>XAP</td>\n",
       "      <td>Approved</td>\n",
       "      <td>-181</td>\n",
       "      <td>XNA</td>\n",
       "      <td>XAP</td>\n",
       "      <td>Unaccompanied</td>\n",
       "      <td>Repeater</td>\n",
       "      <td>XNA</td>\n",
       "      <td>Cards</td>\n",
       "      <td>x-sell</td>\n",
       "      <td>Credit and cash offices</td>\n",
       "      <td>-1</td>\n",
       "      <td>XNA</td>\n",
       "      <td>0.0</td>\n",
       "      <td>XNA</td>\n",
       "      <td>Card X-Sell</td>\n",
       "      <td>365243.0</td>\n",
       "      <td>365243.0</td>\n",
       "      <td>365243.0</td>\n",
       "      <td>365243.0</td>\n",
       "      <td>365243.0</td>\n",
       "      <td>0.0</td>\n",
       "    </tr>\n",
       "    <tr>\n",
       "      <th>1131133</th>\n",
       "      <td>1020698</td>\n",
       "      <td>100006</td>\n",
       "      <td>Cash loans</td>\n",
       "      <td>39954.51</td>\n",
       "      <td>454500.00</td>\n",
       "      <td>481495.5</td>\n",
       "      <td>NaN</td>\n",
       "      <td>454500.00</td>\n",
       "      <td>SATURDAY</td>\n",
       "      <td>12</td>\n",
       "      <td>Y</td>\n",
       "      <td>1</td>\n",
       "      <td>NaN</td>\n",
       "      <td>NaN</td>\n",
       "      <td>NaN</td>\n",
       "      <td>XNA</td>\n",
       "      <td>Approved</td>\n",
       "      <td>-438</td>\n",
       "      <td>Cash through the bank</td>\n",
       "      <td>XAP</td>\n",
       "      <td>NaN</td>\n",
       "      <td>Repeater</td>\n",
       "      <td>XNA</td>\n",
       "      <td>Cash</td>\n",
       "      <td>x-sell</td>\n",
       "      <td>Credit and cash offices</td>\n",
       "      <td>-1</td>\n",
       "      <td>XNA</td>\n",
       "      <td>18.0</td>\n",
       "      <td>high</td>\n",
       "      <td>Cash X-Sell: high</td>\n",
       "      <td>NaN</td>\n",
       "      <td>NaN</td>\n",
       "      <td>NaN</td>\n",
       "      <td>NaN</td>\n",
       "      <td>NaN</td>\n",
       "      <td>NaN</td>\n",
       "    </tr>\n",
       "    <tr>\n",
       "      <th>1232752</th>\n",
       "      <td>1243599</td>\n",
       "      <td>100006</td>\n",
       "      <td>Cash loans</td>\n",
       "      <td>NaN</td>\n",
       "      <td>0.00</td>\n",
       "      <td>0.0</td>\n",
       "      <td>NaN</td>\n",
       "      <td>NaN</td>\n",
       "      <td>THURSDAY</td>\n",
       "      <td>15</td>\n",
       "      <td>Y</td>\n",
       "      <td>1</td>\n",
       "      <td>NaN</td>\n",
       "      <td>NaN</td>\n",
       "      <td>NaN</td>\n",
       "      <td>XNA</td>\n",
       "      <td>Canceled</td>\n",
       "      <td>-181</td>\n",
       "      <td>XNA</td>\n",
       "      <td>XAP</td>\n",
       "      <td>NaN</td>\n",
       "      <td>Repeater</td>\n",
       "      <td>XNA</td>\n",
       "      <td>XNA</td>\n",
       "      <td>XNA</td>\n",
       "      <td>Credit and cash offices</td>\n",
       "      <td>-1</td>\n",
       "      <td>XNA</td>\n",
       "      <td>NaN</td>\n",
       "      <td>XNA</td>\n",
       "      <td>Cash</td>\n",
       "      <td>NaN</td>\n",
       "      <td>NaN</td>\n",
       "      <td>NaN</td>\n",
       "      <td>NaN</td>\n",
       "      <td>NaN</td>\n",
       "      <td>NaN</td>\n",
       "    </tr>\n",
       "    <tr>\n",
       "      <th>1333657</th>\n",
       "      <td>2299329</td>\n",
       "      <td>100006</td>\n",
       "      <td>Consumer loans</td>\n",
       "      <td>2482.92</td>\n",
       "      <td>26912.34</td>\n",
       "      <td>24219.0</td>\n",
       "      <td>2693.34</td>\n",
       "      <td>26912.34</td>\n",
       "      <td>TUESDAY</td>\n",
       "      <td>15</td>\n",
       "      <td>Y</td>\n",
       "      <td>1</td>\n",
       "      <td>0.108994</td>\n",
       "      <td>NaN</td>\n",
       "      <td>NaN</td>\n",
       "      <td>XAP</td>\n",
       "      <td>Approved</td>\n",
       "      <td>-617</td>\n",
       "      <td>XNA</td>\n",
       "      <td>XAP</td>\n",
       "      <td>NaN</td>\n",
       "      <td>New</td>\n",
       "      <td>Construction Materials</td>\n",
       "      <td>POS</td>\n",
       "      <td>XNA</td>\n",
       "      <td>Stone</td>\n",
       "      <td>30</td>\n",
       "      <td>Construction</td>\n",
       "      <td>12.0</td>\n",
       "      <td>middle</td>\n",
       "      <td>POS industry with interest</td>\n",
       "      <td>365243.0</td>\n",
       "      <td>-545.0</td>\n",
       "      <td>-215.0</td>\n",
       "      <td>-425.0</td>\n",
       "      <td>-416.0</td>\n",
       "      <td>0.0</td>\n",
       "    </tr>\n",
       "    <tr>\n",
       "      <th>1595430</th>\n",
       "      <td>2545789</td>\n",
       "      <td>100006</td>\n",
       "      <td>Cash loans</td>\n",
       "      <td>NaN</td>\n",
       "      <td>0.00</td>\n",
       "      <td>0.0</td>\n",
       "      <td>NaN</td>\n",
       "      <td>NaN</td>\n",
       "      <td>THURSDAY</td>\n",
       "      <td>15</td>\n",
       "      <td>Y</td>\n",
       "      <td>1</td>\n",
       "      <td>NaN</td>\n",
       "      <td>NaN</td>\n",
       "      <td>NaN</td>\n",
       "      <td>XNA</td>\n",
       "      <td>Canceled</td>\n",
       "      <td>-181</td>\n",
       "      <td>XNA</td>\n",
       "      <td>XAP</td>\n",
       "      <td>NaN</td>\n",
       "      <td>Repeater</td>\n",
       "      <td>XNA</td>\n",
       "      <td>XNA</td>\n",
       "      <td>XNA</td>\n",
       "      <td>Credit and cash offices</td>\n",
       "      <td>-1</td>\n",
       "      <td>XNA</td>\n",
       "      <td>NaN</td>\n",
       "      <td>XNA</td>\n",
       "      <td>Cash</td>\n",
       "      <td>NaN</td>\n",
       "      <td>NaN</td>\n",
       "      <td>NaN</td>\n",
       "      <td>NaN</td>\n",
       "      <td>NaN</td>\n",
       "      <td>NaN</td>\n",
       "    </tr>\n",
       "    <tr>\n",
       "      <th>1607443</th>\n",
       "      <td>1697039</td>\n",
       "      <td>100006</td>\n",
       "      <td>Cash loans</td>\n",
       "      <td>32696.10</td>\n",
       "      <td>688500.00</td>\n",
       "      <td>906615.0</td>\n",
       "      <td>NaN</td>\n",
       "      <td>688500.00</td>\n",
       "      <td>THURSDAY</td>\n",
       "      <td>15</td>\n",
       "      <td>Y</td>\n",
       "      <td>1</td>\n",
       "      <td>NaN</td>\n",
       "      <td>NaN</td>\n",
       "      <td>NaN</td>\n",
       "      <td>XNA</td>\n",
       "      <td>Refused</td>\n",
       "      <td>-181</td>\n",
       "      <td>Cash through the bank</td>\n",
       "      <td>LIMIT</td>\n",
       "      <td>Unaccompanied</td>\n",
       "      <td>Repeater</td>\n",
       "      <td>XNA</td>\n",
       "      <td>Cash</td>\n",
       "      <td>x-sell</td>\n",
       "      <td>Credit and cash offices</td>\n",
       "      <td>-1</td>\n",
       "      <td>XNA</td>\n",
       "      <td>48.0</td>\n",
       "      <td>low_normal</td>\n",
       "      <td>Cash X-Sell: low</td>\n",
       "      <td>NaN</td>\n",
       "      <td>NaN</td>\n",
       "      <td>NaN</td>\n",
       "      <td>NaN</td>\n",
       "      <td>NaN</td>\n",
       "      <td>NaN</td>\n",
       "    </tr>\n",
       "  </tbody>\n",
       "</table>\n",
       "</div>"
      ],
      "text/plain": [
       "         SK_ID_PREV  SK_ID_CURR NAME_CONTRACT_TYPE  AMT_ANNUITY  \\\n",
       "98162       2078043      100006         Cash loans     24246.00   \n",
       "617859      2827850      100006    Revolving loans          NaN   \n",
       "830967      2190416      100006     Consumer loans     29027.52   \n",
       "900957      1489396      100006    Revolving loans     13500.00   \n",
       "1131133     1020698      100006         Cash loans     39954.51   \n",
       "1232752     1243599      100006         Cash loans          NaN   \n",
       "1333657     2299329      100006     Consumer loans      2482.92   \n",
       "1595430     2545789      100006         Cash loans          NaN   \n",
       "1607443     1697039      100006         Cash loans     32696.10   \n",
       "\n",
       "         AMT_APPLICATION  AMT_CREDIT  AMT_DOWN_PAYMENT  AMT_GOODS_PRICE  \\\n",
       "98162          675000.00    675000.0               NaN        675000.00   \n",
       "617859              0.00         0.0               NaN              NaN   \n",
       "830967         334917.00    267930.0          66987.00        334917.00   \n",
       "900957         270000.00    270000.0               NaN        270000.00   \n",
       "1131133        454500.00    481495.5               NaN        454500.00   \n",
       "1232752             0.00         0.0               NaN              NaN   \n",
       "1333657         26912.34     24219.0           2693.34         26912.34   \n",
       "1595430             0.00         0.0               NaN              NaN   \n",
       "1607443        688500.00    906615.0               NaN        688500.00   \n",
       "\n",
       "        WEEKDAY_APPR_PROCESS_START  HOUR_APPR_PROCESS_START  \\\n",
       "98162                     THURSDAY                       15   \n",
       "617859                    THURSDAY                       15   \n",
       "830967                      SUNDAY                       15   \n",
       "900957                    THURSDAY                       15   \n",
       "1131133                   SATURDAY                       12   \n",
       "1232752                   THURSDAY                       15   \n",
       "1333657                    TUESDAY                       15   \n",
       "1595430                   THURSDAY                       15   \n",
       "1607443                   THURSDAY                       15   \n",
       "\n",
       "        FLAG_LAST_APPL_PER_CONTRACT  NFLAG_LAST_APPL_IN_DAY  \\\n",
       "98162                             Y                       1   \n",
       "617859                            Y                       1   \n",
       "830967                            Y                       1   \n",
       "900957                            Y                       1   \n",
       "1131133                           Y                       1   \n",
       "1232752                           Y                       1   \n",
       "1333657                           Y                       1   \n",
       "1595430                           Y                       1   \n",
       "1607443                           Y                       1   \n",
       "\n",
       "         RATE_DOWN_PAYMENT  RATE_INTEREST_PRIMARY  RATE_INTEREST_PRIVILEGED  \\\n",
       "98162                  NaN                    NaN                       NaN   \n",
       "617859                 NaN                    NaN                       NaN   \n",
       "830967            0.217830                    NaN                       NaN   \n",
       "900957                 NaN                    NaN                       NaN   \n",
       "1131133                NaN                    NaN                       NaN   \n",
       "1232752                NaN                    NaN                       NaN   \n",
       "1333657           0.108994                    NaN                       NaN   \n",
       "1595430                NaN                    NaN                       NaN   \n",
       "1607443                NaN                    NaN                       NaN   \n",
       "\n",
       "        NAME_CASH_LOAN_PURPOSE NAME_CONTRACT_STATUS  DAYS_DECISION  \\\n",
       "98162                      XNA             Approved           -181   \n",
       "617859                     XAP             Canceled           -181   \n",
       "830967                     XAP             Approved           -311   \n",
       "900957                     XAP             Approved           -181   \n",
       "1131133                    XNA             Approved           -438   \n",
       "1232752                    XNA             Canceled           -181   \n",
       "1333657                    XAP             Approved           -617   \n",
       "1595430                    XNA             Canceled           -181   \n",
       "1607443                    XNA              Refused           -181   \n",
       "\n",
       "             NAME_PAYMENT_TYPE CODE_REJECT_REASON NAME_TYPE_SUITE  \\\n",
       "98162    Cash through the bank                XAP   Unaccompanied   \n",
       "617859                     XNA                XAP             NaN   \n",
       "830967   Cash through the bank                XAP          Family   \n",
       "900957                     XNA                XAP   Unaccompanied   \n",
       "1131133  Cash through the bank                XAP             NaN   \n",
       "1232752                    XNA                XAP             NaN   \n",
       "1333657                    XNA                XAP             NaN   \n",
       "1595430                    XNA                XAP             NaN   \n",
       "1607443  Cash through the bank              LIMIT   Unaccompanied   \n",
       "\n",
       "        NAME_CLIENT_TYPE     NAME_GOODS_CATEGORY NAME_PORTFOLIO  \\\n",
       "98162           Repeater                     XNA           Cash   \n",
       "617859          Repeater                     XNA            XNA   \n",
       "830967          Repeater             Audio/Video            POS   \n",
       "900957          Repeater                     XNA          Cards   \n",
       "1131133         Repeater                     XNA           Cash   \n",
       "1232752         Repeater                     XNA            XNA   \n",
       "1333657              New  Construction Materials            POS   \n",
       "1595430         Repeater                     XNA            XNA   \n",
       "1607443         Repeater                     XNA           Cash   \n",
       "\n",
       "        NAME_PRODUCT_TYPE             CHANNEL_TYPE  SELLERPLACE_AREA  \\\n",
       "98162              x-sell  Credit and cash offices                -1   \n",
       "617859                XNA  Credit and cash offices                -1   \n",
       "830967                XNA             Country-wide              8025   \n",
       "900957             x-sell  Credit and cash offices                -1   \n",
       "1131133            x-sell  Credit and cash offices                -1   \n",
       "1232752               XNA  Credit and cash offices                -1   \n",
       "1333657               XNA                    Stone                30   \n",
       "1595430               XNA  Credit and cash offices                -1   \n",
       "1607443            x-sell  Credit and cash offices                -1   \n",
       "\n",
       "         NAME_SELLER_INDUSTRY  CNT_PAYMENT NAME_YIELD_GROUP  \\\n",
       "98162                     XNA         48.0       low_normal   \n",
       "617859                    XNA          NaN              XNA   \n",
       "830967   Consumer electronics         12.0             high   \n",
       "900957                    XNA          0.0              XNA   \n",
       "1131133                   XNA         18.0             high   \n",
       "1232752                   XNA          NaN              XNA   \n",
       "1333657          Construction         12.0           middle   \n",
       "1595430                   XNA          NaN              XNA   \n",
       "1607443                   XNA         48.0       low_normal   \n",
       "\n",
       "                 PRODUCT_COMBINATION  DAYS_FIRST_DRAWING  DAYS_FIRST_DUE  \\\n",
       "98162               Cash X-Sell: low            365243.0          -151.0   \n",
       "617859                   Card Street                 NaN             NaN   \n",
       "830967   POS household with interest            365243.0          -281.0   \n",
       "900957                   Card X-Sell            365243.0        365243.0   \n",
       "1131133            Cash X-Sell: high                 NaN             NaN   \n",
       "1232752                         Cash                 NaN             NaN   \n",
       "1333657   POS industry with interest            365243.0          -545.0   \n",
       "1595430                         Cash                 NaN             NaN   \n",
       "1607443             Cash X-Sell: low                 NaN             NaN   \n",
       "\n",
       "         DAYS_LAST_DUE_1ST_VERSION  DAYS_LAST_DUE  DAYS_TERMINATION  \\\n",
       "98162                       1259.0         -151.0            -143.0   \n",
       "617859                         NaN            NaN               NaN   \n",
       "830967                        49.0       365243.0          365243.0   \n",
       "900957                    365243.0       365243.0          365243.0   \n",
       "1131133                        NaN            NaN               NaN   \n",
       "1232752                        NaN            NaN               NaN   \n",
       "1333657                     -215.0         -425.0            -416.0   \n",
       "1595430                        NaN            NaN               NaN   \n",
       "1607443                        NaN            NaN               NaN   \n",
       "\n",
       "         NFLAG_INSURED_ON_APPROVAL  \n",
       "98162                          0.0  \n",
       "617859                         NaN  \n",
       "830967                         0.0  \n",
       "900957                         0.0  \n",
       "1131133                        NaN  \n",
       "1232752                        NaN  \n",
       "1333657                        0.0  \n",
       "1595430                        NaN  \n",
       "1607443                        NaN  "
      ]
     },
     "execution_count": 930,
     "metadata": {},
     "output_type": "execute_result"
    }
   ],
   "source": [
    "df_previous_application_original[df_previous_application_original['SK_ID_CURR'] == 100006]"
   ]
  },
  {
   "cell_type": "code",
   "execution_count": 931,
   "metadata": {
    "ExecuteTime": {
     "end_time": "2018-06-24T04:38:49.683141Z",
     "start_time": "2018-06-24T04:38:48.790248Z"
    }
   },
   "outputs": [],
   "source": [
    "prev_app_df = df_previous_application_original.copy()"
   ]
  },
  {
   "cell_type": "code",
   "execution_count": 932,
   "metadata": {
    "ExecuteTime": {
     "end_time": "2018-06-24T04:38:50.001366Z",
     "start_time": "2018-06-24T04:38:49.686136Z"
    }
   },
   "outputs": [],
   "source": [
    "agg_funs = {'SK_ID_CURR': 'count', 'AMT_CREDIT': 'sum'}\n",
    "prev_apps = prev_app_df.groupby('SK_ID_CURR').agg(agg_funs)\n",
    "# prev_apps.columns = ['PREV APP COUNT', 'TOTAL PREV LOAN AMT']\n",
    "# merged_df = app_data.merge(prev_apps, left_on='SK_ID_CURR', right_index=True, how='left')"
   ]
  },
  {
   "cell_type": "code",
   "execution_count": 933,
   "metadata": {
    "ExecuteTime": {
     "end_time": "2018-06-24T04:38:50.024284Z",
     "start_time": "2018-06-24T04:38:50.003336Z"
    }
   },
   "outputs": [
    {
     "data": {
      "text/html": [
       "<div>\n",
       "<style scoped>\n",
       "    .dataframe tbody tr th:only-of-type {\n",
       "        vertical-align: middle;\n",
       "    }\n",
       "\n",
       "    .dataframe tbody tr th {\n",
       "        vertical-align: top;\n",
       "    }\n",
       "\n",
       "    .dataframe thead th {\n",
       "        text-align: right;\n",
       "    }\n",
       "</style>\n",
       "<table border=\"1\" class=\"dataframe\">\n",
       "  <thead>\n",
       "    <tr style=\"text-align: right;\">\n",
       "      <th></th>\n",
       "      <th>SK_ID_CURR</th>\n",
       "      <th>AMT_CREDIT</th>\n",
       "    </tr>\n",
       "    <tr>\n",
       "      <th>SK_ID_CURR</th>\n",
       "      <th></th>\n",
       "      <th></th>\n",
       "    </tr>\n",
       "  </thead>\n",
       "  <tbody>\n",
       "    <tr>\n",
       "      <th>100001</th>\n",
       "      <td>1</td>\n",
       "      <td>23787.000</td>\n",
       "    </tr>\n",
       "    <tr>\n",
       "      <th>100002</th>\n",
       "      <td>1</td>\n",
       "      <td>179055.000</td>\n",
       "    </tr>\n",
       "    <tr>\n",
       "      <th>100003</th>\n",
       "      <td>3</td>\n",
       "      <td>1452573.000</td>\n",
       "    </tr>\n",
       "    <tr>\n",
       "      <th>100004</th>\n",
       "      <td>1</td>\n",
       "      <td>20106.000</td>\n",
       "    </tr>\n",
       "    <tr>\n",
       "      <th>100005</th>\n",
       "      <td>2</td>\n",
       "      <td>40153.500</td>\n",
       "    </tr>\n",
       "    <tr>\n",
       "      <th>100006</th>\n",
       "      <td>9</td>\n",
       "      <td>2625259.500</td>\n",
       "    </tr>\n",
       "    <tr>\n",
       "      <th>100007</th>\n",
       "      <td>6</td>\n",
       "      <td>999832.500</td>\n",
       "    </tr>\n",
       "    <tr>\n",
       "      <th>100008</th>\n",
       "      <td>5</td>\n",
       "      <td>813838.500</td>\n",
       "    </tr>\n",
       "    <tr>\n",
       "      <th>100009</th>\n",
       "      <td>7</td>\n",
       "      <td>490963.500</td>\n",
       "    </tr>\n",
       "    <tr>\n",
       "      <th>100010</th>\n",
       "      <td>1</td>\n",
       "      <td>260811.000</td>\n",
       "    </tr>\n",
       "    <tr>\n",
       "      <th>100011</th>\n",
       "      <td>4</td>\n",
       "      <td>1047361.500</td>\n",
       "    </tr>\n",
       "    <tr>\n",
       "      <th>100012</th>\n",
       "      <td>4</td>\n",
       "      <td>296478.000</td>\n",
       "    </tr>\n",
       "    <tr>\n",
       "      <th>100013</th>\n",
       "      <td>4</td>\n",
       "      <td>584536.500</td>\n",
       "    </tr>\n",
       "    <tr>\n",
       "      <th>100014</th>\n",
       "      <td>2</td>\n",
       "      <td>205668.000</td>\n",
       "    </tr>\n",
       "    <tr>\n",
       "      <th>100015</th>\n",
       "      <td>1</td>\n",
       "      <td>67077.000</td>\n",
       "    </tr>\n",
       "    <tr>\n",
       "      <th>100016</th>\n",
       "      <td>4</td>\n",
       "      <td>424885.500</td>\n",
       "    </tr>\n",
       "    <tr>\n",
       "      <th>100017</th>\n",
       "      <td>2</td>\n",
       "      <td>351130.500</td>\n",
       "    </tr>\n",
       "    <tr>\n",
       "      <th>100018</th>\n",
       "      <td>4</td>\n",
       "      <td>1143958.365</td>\n",
       "    </tr>\n",
       "    <tr>\n",
       "      <th>100019</th>\n",
       "      <td>1</td>\n",
       "      <td>104683.500</td>\n",
       "    </tr>\n",
       "    <tr>\n",
       "      <th>100020</th>\n",
       "      <td>2</td>\n",
       "      <td>83412.000</td>\n",
       "    </tr>\n",
       "    <tr>\n",
       "      <th>100021</th>\n",
       "      <td>6</td>\n",
       "      <td>921694.500</td>\n",
       "    </tr>\n",
       "    <tr>\n",
       "      <th>100022</th>\n",
       "      <td>1</td>\n",
       "      <td>103203.000</td>\n",
       "    </tr>\n",
       "    <tr>\n",
       "      <th>100023</th>\n",
       "      <td>4</td>\n",
       "      <td>454068.000</td>\n",
       "    </tr>\n",
       "    <tr>\n",
       "      <th>100025</th>\n",
       "      <td>8</td>\n",
       "      <td>2363406.255</td>\n",
       "    </tr>\n",
       "    <tr>\n",
       "      <th>100026</th>\n",
       "      <td>3</td>\n",
       "      <td>876843.000</td>\n",
       "    </tr>\n",
       "    <tr>\n",
       "      <th>100027</th>\n",
       "      <td>4</td>\n",
       "      <td>695182.500</td>\n",
       "    </tr>\n",
       "    <tr>\n",
       "      <th>100028</th>\n",
       "      <td>5</td>\n",
       "      <td>464602.500</td>\n",
       "    </tr>\n",
       "    <tr>\n",
       "      <th>100029</th>\n",
       "      <td>1</td>\n",
       "      <td>126000.000</td>\n",
       "    </tr>\n",
       "    <tr>\n",
       "      <th>100030</th>\n",
       "      <td>12</td>\n",
       "      <td>390415.725</td>\n",
       "    </tr>\n",
       "    <tr>\n",
       "      <th>100032</th>\n",
       "      <td>1</td>\n",
       "      <td>42255.000</td>\n",
       "    </tr>\n",
       "    <tr>\n",
       "      <th>...</th>\n",
       "      <td>...</td>\n",
       "      <td>...</td>\n",
       "    </tr>\n",
       "    <tr>\n",
       "      <th>456225</th>\n",
       "      <td>5</td>\n",
       "      <td>1727541.000</td>\n",
       "    </tr>\n",
       "    <tr>\n",
       "      <th>456226</th>\n",
       "      <td>1</td>\n",
       "      <td>561384.000</td>\n",
       "    </tr>\n",
       "    <tr>\n",
       "      <th>456227</th>\n",
       "      <td>8</td>\n",
       "      <td>679099.500</td>\n",
       "    </tr>\n",
       "    <tr>\n",
       "      <th>456228</th>\n",
       "      <td>9</td>\n",
       "      <td>3862345.500</td>\n",
       "    </tr>\n",
       "    <tr>\n",
       "      <th>456230</th>\n",
       "      <td>5</td>\n",
       "      <td>1393824.780</td>\n",
       "    </tr>\n",
       "    <tr>\n",
       "      <th>456231</th>\n",
       "      <td>14</td>\n",
       "      <td>2273112.000</td>\n",
       "    </tr>\n",
       "    <tr>\n",
       "      <th>456232</th>\n",
       "      <td>4</td>\n",
       "      <td>427081.500</td>\n",
       "    </tr>\n",
       "    <tr>\n",
       "      <th>456233</th>\n",
       "      <td>2</td>\n",
       "      <td>135450.000</td>\n",
       "    </tr>\n",
       "    <tr>\n",
       "      <th>456234</th>\n",
       "      <td>4</td>\n",
       "      <td>166819.500</td>\n",
       "    </tr>\n",
       "    <tr>\n",
       "      <th>456235</th>\n",
       "      <td>5</td>\n",
       "      <td>536269.500</td>\n",
       "    </tr>\n",
       "    <tr>\n",
       "      <th>456236</th>\n",
       "      <td>4</td>\n",
       "      <td>907605.000</td>\n",
       "    </tr>\n",
       "    <tr>\n",
       "      <th>456237</th>\n",
       "      <td>9</td>\n",
       "      <td>2038329.225</td>\n",
       "    </tr>\n",
       "    <tr>\n",
       "      <th>456238</th>\n",
       "      <td>2</td>\n",
       "      <td>567954.000</td>\n",
       "    </tr>\n",
       "    <tr>\n",
       "      <th>456239</th>\n",
       "      <td>2</td>\n",
       "      <td>151839.000</td>\n",
       "    </tr>\n",
       "    <tr>\n",
       "      <th>456240</th>\n",
       "      <td>5</td>\n",
       "      <td>1554453.000</td>\n",
       "    </tr>\n",
       "    <tr>\n",
       "      <th>456241</th>\n",
       "      <td>9</td>\n",
       "      <td>2056419.000</td>\n",
       "    </tr>\n",
       "    <tr>\n",
       "      <th>456242</th>\n",
       "      <td>4</td>\n",
       "      <td>426658.500</td>\n",
       "    </tr>\n",
       "    <tr>\n",
       "      <th>456243</th>\n",
       "      <td>7</td>\n",
       "      <td>427351.500</td>\n",
       "    </tr>\n",
       "    <tr>\n",
       "      <th>456244</th>\n",
       "      <td>18</td>\n",
       "      <td>6290028.000</td>\n",
       "    </tr>\n",
       "    <tr>\n",
       "      <th>456245</th>\n",
       "      <td>2</td>\n",
       "      <td>164047.500</td>\n",
       "    </tr>\n",
       "    <tr>\n",
       "      <th>456246</th>\n",
       "      <td>2</td>\n",
       "      <td>168093.000</td>\n",
       "    </tr>\n",
       "    <tr>\n",
       "      <th>456247</th>\n",
       "      <td>5</td>\n",
       "      <td>295920.000</td>\n",
       "    </tr>\n",
       "    <tr>\n",
       "      <th>456248</th>\n",
       "      <td>4</td>\n",
       "      <td>2546419.500</td>\n",
       "    </tr>\n",
       "    <tr>\n",
       "      <th>456249</th>\n",
       "      <td>2</td>\n",
       "      <td>317398.500</td>\n",
       "    </tr>\n",
       "    <tr>\n",
       "      <th>456250</th>\n",
       "      <td>8</td>\n",
       "      <td>1166746.500</td>\n",
       "    </tr>\n",
       "    <tr>\n",
       "      <th>456251</th>\n",
       "      <td>1</td>\n",
       "      <td>40455.000</td>\n",
       "    </tr>\n",
       "    <tr>\n",
       "      <th>456252</th>\n",
       "      <td>1</td>\n",
       "      <td>56821.500</td>\n",
       "    </tr>\n",
       "    <tr>\n",
       "      <th>456253</th>\n",
       "      <td>2</td>\n",
       "      <td>41251.500</td>\n",
       "    </tr>\n",
       "    <tr>\n",
       "      <th>456254</th>\n",
       "      <td>2</td>\n",
       "      <td>268879.500</td>\n",
       "    </tr>\n",
       "    <tr>\n",
       "      <th>456255</th>\n",
       "      <td>8</td>\n",
       "      <td>3395448.000</td>\n",
       "    </tr>\n",
       "  </tbody>\n",
       "</table>\n",
       "<p>338857 rows × 2 columns</p>\n",
       "</div>"
      ],
      "text/plain": [
       "            SK_ID_CURR   AMT_CREDIT\n",
       "SK_ID_CURR                         \n",
       "100001               1    23787.000\n",
       "100002               1   179055.000\n",
       "100003               3  1452573.000\n",
       "100004               1    20106.000\n",
       "100005               2    40153.500\n",
       "100006               9  2625259.500\n",
       "100007               6   999832.500\n",
       "100008               5   813838.500\n",
       "100009               7   490963.500\n",
       "100010               1   260811.000\n",
       "100011               4  1047361.500\n",
       "100012               4   296478.000\n",
       "100013               4   584536.500\n",
       "100014               2   205668.000\n",
       "100015               1    67077.000\n",
       "100016               4   424885.500\n",
       "100017               2   351130.500\n",
       "100018               4  1143958.365\n",
       "100019               1   104683.500\n",
       "100020               2    83412.000\n",
       "100021               6   921694.500\n",
       "100022               1   103203.000\n",
       "100023               4   454068.000\n",
       "100025               8  2363406.255\n",
       "100026               3   876843.000\n",
       "100027               4   695182.500\n",
       "100028               5   464602.500\n",
       "100029               1   126000.000\n",
       "100030              12   390415.725\n",
       "100032               1    42255.000\n",
       "...                ...          ...\n",
       "456225               5  1727541.000\n",
       "456226               1   561384.000\n",
       "456227               8   679099.500\n",
       "456228               9  3862345.500\n",
       "456230               5  1393824.780\n",
       "456231              14  2273112.000\n",
       "456232               4   427081.500\n",
       "456233               2   135450.000\n",
       "456234               4   166819.500\n",
       "456235               5   536269.500\n",
       "456236               4   907605.000\n",
       "456237               9  2038329.225\n",
       "456238               2   567954.000\n",
       "456239               2   151839.000\n",
       "456240               5  1554453.000\n",
       "456241               9  2056419.000\n",
       "456242               4   426658.500\n",
       "456243               7   427351.500\n",
       "456244              18  6290028.000\n",
       "456245               2   164047.500\n",
       "456246               2   168093.000\n",
       "456247               5   295920.000\n",
       "456248               4  2546419.500\n",
       "456249               2   317398.500\n",
       "456250               8  1166746.500\n",
       "456251               1    40455.000\n",
       "456252               1    56821.500\n",
       "456253               2    41251.500\n",
       "456254               2   268879.500\n",
       "456255               8  3395448.000\n",
       "\n",
       "[338857 rows x 2 columns]"
      ]
     },
     "execution_count": 933,
     "metadata": {},
     "output_type": "execute_result"
    }
   ],
   "source": [
    "prev_apps"
   ]
  },
  {
   "cell_type": "code",
   "execution_count": 934,
   "metadata": {
    "ExecuteTime": {
     "end_time": "2018-06-24T04:38:50.495528Z",
     "start_time": "2018-06-24T04:38:50.026278Z"
    }
   },
   "outputs": [
    {
     "data": {
      "text/plain": [
       "117"
      ]
     },
     "execution_count": 934,
     "metadata": {},
     "output_type": "execute_result"
    }
   ],
   "source": [
    "gc.collect()"
   ]
  },
  {
   "cell_type": "code",
   "execution_count": null,
   "metadata": {},
   "outputs": [],
   "source": []
  },
  {
   "cell_type": "code",
   "execution_count": 959,
   "metadata": {
    "ExecuteTime": {
     "end_time": "2018-06-24T04:47:50.100973Z",
     "start_time": "2018-06-24T04:47:40.917012Z"
    }
   },
   "outputs": [],
   "source": [
    "# df_bureau = pd.read_csv(\"../data/bureau.csv\")\n",
    "# df_bureau_balance = pd.read_csv(\"../data/bureau_balance.csv\")"
   ]
  },
  {
   "cell_type": "markdown",
   "metadata": {},
   "source": [
    "## Feature: df_bureau_balance"
   ]
  },
  {
   "cell_type": "code",
   "execution_count": 960,
   "metadata": {
    "ExecuteTime": {
     "end_time": "2018-06-24T04:48:01.675471Z",
     "start_time": "2018-06-24T04:47:50.103938Z"
    }
   },
   "outputs": [],
   "source": [
    "# df_bureau_balance['K_BUREAU_BALANCE_COUNT'] = df_bureau_balance.groupby('SK_ID_BUREAU')['SK_ID_BUREAU'].transform('count')\n",
    "\n",
    "df_bureau_balance['K_BUREAU_BALANCE_MONTHS_BALANCE_MEAN'] = df_bureau_balance.groupby('SK_ID_BUREAU')['MONTHS_BALANCE'].transform(np.mean)\n",
    "df_bureau_balance['K_BUREAU_BALANCE_MONTHS_BALANCE_MAX'] = df_bureau_balance.groupby('SK_ID_BUREAU')['MONTHS_BALANCE'].transform(np.max)\n",
    "df_bureau_balance['K_BUREAU_BALANCE_MONTHS_BALANCE_MIN'] = df_bureau_balance.groupby('SK_ID_BUREAU')['MONTHS_BALANCE'].transform(np.min)\n",
    "\n",
    "# df_bureau_balance[['K_BB_STATUS_0', 'K_BB_STATUS_1', 'K_BB_STATUS_2', 'K_BB_STATUS_3', \n",
    "#                    'K_BB_STATUS_4', 'K_BB_STATUS_5', 'K_BB_STATUS_C', 'K_BB_STATUS_X']] = pd.get_dummies(df_bureau_balance['STATUS'], prefix=\"K_BB_STATUS_\")\n",
    "\n",
    "# #Drop Duplicates\n",
    "df_bureau_balance = df_bureau_balance[['SK_ID_BUREAU','K_BUREAU_BALANCE_MONTHS_BALANCE_MEAN',\n",
    "                                                 'K_BUREAU_BALANCE_MONTHS_BALANCE_MAX',\n",
    "                                                'K_BUREAU_BALANCE_MONTHS_BALANCE_MIN']].drop_duplicates()"
   ]
  },
  {
   "cell_type": "code",
   "execution_count": 961,
   "metadata": {
    "ExecuteTime": {
     "end_time": "2018-06-24T04:48:02.096012Z",
     "start_time": "2018-06-24T04:48:01.677441Z"
    }
   },
   "outputs": [
    {
     "data": {
      "text/plain": [
       "105"
      ]
     },
     "execution_count": 961,
     "metadata": {},
     "output_type": "execute_result"
    }
   ],
   "source": [
    "gc.collect()"
   ]
  },
  {
   "cell_type": "markdown",
   "metadata": {},
   "source": [
    "## Feature: df_bureau"
   ]
  },
  {
   "cell_type": "code",
   "execution_count": 962,
   "metadata": {
    "ExecuteTime": {
     "end_time": "2018-06-24T04:48:02.220221Z",
     "start_time": "2018-06-24T04:48:02.099005Z"
    }
   },
   "outputs": [
    {
     "data": {
      "text/plain": [
       "1716428"
      ]
     },
     "execution_count": 962,
     "metadata": {},
     "output_type": "execute_result"
    }
   ],
   "source": [
    "len(df_bureau[\"SK_ID_BUREAU\"].unique())"
   ]
  },
  {
   "cell_type": "code",
   "execution_count": 963,
   "metadata": {
    "ExecuteTime": {
     "end_time": "2018-06-24T04:48:02.229198Z",
     "start_time": "2018-06-24T04:48:02.222184Z"
    }
   },
   "outputs": [
    {
     "data": {
      "text/plain": [
       "(1716428, 17)"
      ]
     },
     "execution_count": 963,
     "metadata": {},
     "output_type": "execute_result"
    }
   ],
   "source": [
    "df_bureau.shape"
   ]
  },
  {
   "cell_type": "code",
   "execution_count": 964,
   "metadata": {
    "ExecuteTime": {
     "end_time": "2018-06-24T04:48:03.600144Z",
     "start_time": "2018-06-24T04:48:02.233153Z"
    }
   },
   "outputs": [],
   "source": [
    "df_bureau = pd.merge(df_bureau, df_bureau_balance, on=\"SK_ID_BUREAU\", how=\"left\", suffixes=('_bureau', '_bureau_balance'))"
   ]
  },
  {
   "cell_type": "code",
   "execution_count": 965,
   "metadata": {
    "ExecuteTime": {
     "end_time": "2018-06-24T04:48:03.609090Z",
     "start_time": "2018-06-24T04:48:03.602110Z"
    }
   },
   "outputs": [
    {
     "data": {
      "text/plain": [
       "(1716428, 20)"
      ]
     },
     "execution_count": 965,
     "metadata": {},
     "output_type": "execute_result"
    }
   ],
   "source": [
    "df_bureau.shape"
   ]
  },
  {
   "cell_type": "code",
   "execution_count": 966,
   "metadata": {
    "ExecuteTime": {
     "end_time": "2018-06-24T04:49:13.905166Z",
     "start_time": "2018-06-24T04:48:03.612084Z"
    }
   },
   "outputs": [],
   "source": [
    "# #Feature - SK_ID_BUREAU represents each loan application.\n",
    "# #Grouping by SK_ID_CURR significes the number of previous loans per applicant.\n",
    "df_bureau['K_BUREAU_COUNT'] = df_bureau.groupby('SK_ID_CURR')['SK_ID_BUREAU'].transform('count')\n",
    "\n",
    "# # #Feature - CREDIT_ACTIVE\n",
    "# #Frequency Encoding\n",
    "# temp_bureau_credit_active = df_bureau.groupby(['SK_ID_CURR','CREDIT_ACTIVE']).size()/df_bureau.groupby(['SK_ID_CURR']).size()\n",
    "# temp_bureau_credit_active = temp_bureau_credit_active.to_frame().reset_index().rename(columns= {0: 'TEMP_BUREAU_CREDIT_ACTIVE_FREQENCODE'})\n",
    "# temp_bureau_credit_active = temp_bureau_credit_active.pivot(index='SK_ID_CURR', columns='CREDIT_ACTIVE', values='TEMP_BUREAU_CREDIT_ACTIVE_FREQENCODE')\n",
    "# temp_bureau_credit_active.reset_index(inplace = True)\n",
    "# temp_bureau_credit_active.columns = ['SK_ID_CURR', 'K_CREDIT_ACTIVE_ACTIVE', 'K_CREDIT_ACTIVE_BADDEBT', 'K_CREDIT_ACTIVE_CLOSED', 'K_CREDIT_ACTIVE_SOLD']\n",
    "# df_bureau = pd.merge(df_bureau, temp_bureau_credit_active, on=[\"SK_ID_CURR\"], how=\"left\", suffixes=('_bureau', '_credit_active_percentage'))\n",
    "# del temp_bureau_credit_active\n",
    "\n",
    "# #SUBSET DATA - CREDIT_ACTIVE == ACTIVE\n",
    "# df_bureau_active = df_bureau[df_bureau['CREDIT_ACTIVE']=='Active']\n",
    "\n",
    "# df_bureau_active['K_BUREAU_ACTIVE_DAYS_CREDIT_MEAN'] = df_bureau_active.groupby('SK_ID_CURR')['DAYS_CREDIT'].transform(np.mean)\n",
    "# df_bureau_active['K_BUREAU_ACTIVE_DAYS_CREDIT_MAX'] = df_bureau_active.groupby('SK_ID_CURR')['DAYS_CREDIT'].transform(np.max)\n",
    "# df_bureau = pd.merge(df_bureau, df_bureau_active, on=[\"SK_ID_CURR\"], how=\"left\", suffixes=('_bureau', '_bureau_active'))\n",
    "\n",
    "\n",
    "# # #Feature - DAYS_CREDIT\n",
    "df_bureau['K_BUREAU_DAYS_CREDIT_MEAN'] = df_bureau.groupby('SK_ID_CURR')['DAYS_CREDIT'].transform(np.mean)\n",
    "df_bureau['K_BUREAU_DAYS_CREDIT_MAX'] = df_bureau.groupby('SK_ID_CURR')['DAYS_CREDIT'].transform(np.max)\n",
    "df_bureau['K_BUREAU_DAYS_CREDIT_MIN'] = df_bureau.groupby('SK_ID_CURR')['DAYS_CREDIT'].transform(np.min)\n",
    "# df_bureau['K_BUREAU_DAYS_CREDIT_VAR'] = df_bureau.groupby('SK_ID_CURR')['DAYS_CREDIT'].transform(np.var)\n",
    "\n",
    "# # #Feature - DAYS_CREDIT_UPDATE\n",
    "# df_bureau['K_BUREAU_DAYS_CREDIT_UPDATE_MEAN'] = df_bureau.groupby('SK_ID_CURR')['DAYS_CREDIT_UPDATE'].transform(np.mean)\n",
    "# df_bureau['K_BUREAU_DAYS_CREDIT_UPDATE_MAX'] = df_bureau.groupby('SK_ID_CURR')['DAYS_CREDIT_UPDATE'].transform(np.max)\n",
    "# df_bureau['K_BUREAU_DAYS_CREDIT_UPDATE_MIN'] = df_bureau.groupby('SK_ID_CURR')['DAYS_CREDIT_UPDATE'].transform(np.min)\n",
    "# df_bureau['K_BUREAU_DAYS_CREDIT_UPDATE_VAR'] = df_bureau.groupby('SK_ID_CURR')['DAYS_CREDIT_UPDATE'].transform(np.var)\n",
    "\n",
    "gc.collect()\n",
    "# # #Successive difference between credit application per customer - Mean, Min, Max\n",
    "temp_bureau_days_credit = df_bureau.copy()\n",
    "temp_bureau_days_credit.sort_values(['SK_ID_CURR', 'DAYS_CREDIT'], inplace=True)\n",
    "temp_bureau_days_credit['temp_successive_diff'] = temp_bureau_days_credit.groupby('SK_ID_CURR')['DAYS_CREDIT'].transform(lambda ele: ele.diff())\n",
    "temp_bureau_days_credit['K_BUREAU_DAYS_CREDIT_SORTED_SUCCESSIVE_DIFF_MEAN'] = temp_bureau_days_credit.groupby('SK_ID_CURR')['temp_successive_diff'].transform(np.mean)\n",
    "df_bureau = pd.merge(df_bureau, temp_bureau_days_credit[['SK_ID_CURR','K_BUREAU_DAYS_CREDIT_SORTED_SUCCESSIVE_DIFF_MEAN']].drop_duplicates(), \n",
    "                     on=\"SK_ID_CURR\", how=\"left\", suffixes=('_bureau', '_days_credit_sorted_successive_diff'))\n",
    "# del temp_bureau_days_credit\n",
    "\n",
    "# df_bureau['K_BUREAU_CREDIT_DAY_OVERDUE_MEAN'] = df_bureau.groupby('SK_ID_CURR')['CREDIT_DAY_OVERDUE'].transform(np.mean)\n",
    "# df_bureau['K_BUREAU_CREDIT_DAY_OVERDUE_MAX'] = df_bureau.groupby('SK_ID_CURR')['CREDIT_DAY_OVERDUE'].transform(np.max)\n",
    "# df_bureau['K_BUREAU_CREDIT_DAY_OVERDUE_MIN'] = df_bureau.groupby('SK_ID_CURR')['CREDIT_DAY_OVERDUE'].transform(np.min)\n",
    "\n",
    "df_bureau['K_BUREAU_DAYS_CREDIT_ENDDATE_MEAN'] = df_bureau.groupby('SK_ID_CURR')['DAYS_CREDIT_ENDDATE'].transform(np.mean)\n",
    "df_bureau['K_BUREAU_DAYS_CREDIT_ENDDATE_MAX'] = df_bureau.groupby('SK_ID_CURR')['DAYS_CREDIT_ENDDATE'].transform(np.max)\n",
    "df_bureau['K_BUREAU_DAYS_CREDIT_ENDDATE_MIN'] = df_bureau.groupby('SK_ID_CURR')['DAYS_CREDIT_ENDDATE'].transform(np.min)\n",
    "\n",
    "df_bureau['K_BUREAU_DAYS_ENDDATE_FACT_MEAN'] = df_bureau.groupby('SK_ID_CURR')['DAYS_ENDDATE_FACT'].transform(np.mean)\n",
    "df_bureau['K_BUREAU_DAYS_ENDDATE_FACT_MAX'] = df_bureau.groupby('SK_ID_CURR')['DAYS_ENDDATE_FACT'].transform(np.max)\n",
    "df_bureau['K_BUREAU_DAYS_ENDDATE_FACT_MIN'] = df_bureau.groupby('SK_ID_CURR')['DAYS_ENDDATE_FACT'].transform(np.min)\n",
    "\n",
    "df_bureau['K_BUREAU_AMT_CREDIT_MAX_OVERDUE_MEAN'] = df_bureau.groupby('SK_ID_CURR')['AMT_CREDIT_MAX_OVERDUE'].transform(np.mean)\n",
    "df_bureau['K_BUREAU_AMT_CREDIT_MAX_OVERDUE_MAX'] = df_bureau.groupby('SK_ID_CURR')['AMT_CREDIT_MAX_OVERDUE'].transform(np.max)\n",
    "df_bureau['K_BUREAU_AMT_CREDIT_MAX_OVERDUE_MIN'] = df_bureau.groupby('SK_ID_CURR')['AMT_CREDIT_MAX_OVERDUE'].transform(np.min)\n",
    "\n",
    "\n",
    "# df_bureau['K_BUREAU_CNT_CREDIT_PROLONG_MAX'] = df_bureau.groupby('SK_ID_CURR')['CNT_CREDIT_PROLONG'].transform(np.max)\n",
    "# df_bureau['K_BUREAU_CNT_CREDIT_PROLONG_SUM'] = df_bureau.groupby('SK_ID_CURR')['CNT_CREDIT_PROLONG'].transform(np.sum)\n",
    "\n",
    "# #To-Do: Calculate a utilization metric for some of the features below?\n",
    "df_bureau['K_BUREAU_AMT_CREDIT_SUM_MEAN'] = df_bureau.groupby('SK_ID_CURR')['AMT_CREDIT_SUM'].transform(np.mean)\n",
    "df_bureau['K_BUREAU_AMT_CREDIT_SUM_MAX'] = df_bureau.groupby('SK_ID_CURR')['AMT_CREDIT_SUM'].transform(np.max)\n",
    "df_bureau['K_BUREAU_AMT_CREDIT_SUM_MIN'] = df_bureau.groupby('SK_ID_CURR')['AMT_CREDIT_SUM'].transform(np.min)\n",
    "\n",
    "df_bureau['K_BUREAU_AMT_CREDIT_SUM_DEBT_MEAN'] = df_bureau.groupby('SK_ID_CURR')['AMT_CREDIT_SUM_DEBT'].transform(np.mean)\n",
    "df_bureau['K_BUREAU_AMT_CREDIT_SUM_DEBT_MAX'] = df_bureau.groupby('SK_ID_CURR')['AMT_CREDIT_SUM_DEBT'].transform(np.max)\n",
    "df_bureau['K_BUREAU_AMT_CREDIT_SUM_DEBT_MIN'] = df_bureau.groupby('SK_ID_CURR')['AMT_CREDIT_SUM_DEBT'].transform(np.min)\n",
    "\n",
    "df_bureau['K_BUREAU_AMT_CREDIT_SUM_LIMIT_MEAN'] = df_bureau.groupby('SK_ID_CURR')['AMT_CREDIT_SUM_LIMIT'].transform(np.mean)\n",
    "df_bureau['K_BUREAU_AMT_CREDIT_SUM_LIMIT_MAX'] = df_bureau.groupby('SK_ID_CURR')['AMT_CREDIT_SUM_LIMIT'].transform(np.max)\n",
    "df_bureau['K_BUREAU_AMT_CREDIT_SUM_LIMIT_MIN'] = df_bureau.groupby('SK_ID_CURR')['AMT_CREDIT_SUM_LIMIT'].transform(np.min)\n",
    "\n",
    "df_bureau['K_BUREAU_AMT_CREDIT_SUM_OVERDUE_MEAN'] = df_bureau.groupby('SK_ID_CURR')['AMT_CREDIT_SUM_OVERDUE'].transform(np.mean)\n",
    "df_bureau['K_BUREAU_AMT_CREDIT_SUM_OVERDUE_MAX'] = df_bureau.groupby('SK_ID_CURR')['AMT_CREDIT_SUM_OVERDUE'].transform(np.max)\n",
    "df_bureau['K_BUREAU_AMT_CREDIT_SUM_OVERDUE_MIN'] = df_bureau.groupby('SK_ID_CURR')['AMT_CREDIT_SUM_OVERDUE'].transform(np.min)\n",
    "\n",
    "df_bureau['K_BUREAU_AMT_ANNUITY_MEAN'] = df_bureau.groupby('SK_ID_CURR')['AMT_ANNUITY'].transform(np.mean)\n",
    "df_bureau['K_BUREAU_AMT_ANNUITY_MAX'] = df_bureau.groupby('SK_ID_CURR')['AMT_ANNUITY'].transform(np.max)\n",
    "df_bureau['K_BUREAU_AMT_ANNUITY_MIN'] = df_bureau.groupby('SK_ID_CURR')['AMT_ANNUITY'].transform(np.min)\n",
    "\n",
    "\n",
    "# #Added from df_bureau_balance\n",
    "df_bureau['K_BUREAU_BALANCE_MONTHS_BALANCE_MEAN'] = df_bureau.groupby('SK_ID_CURR')['K_BUREAU_BALANCE_MONTHS_BALANCE_MEAN'].transform(np.mean)\n",
    "df_bureau['K_BUREAU_BALANCE_MONTHS_BALANCE_MAX'] = df_bureau.groupby('SK_ID_CURR')['K_BUREAU_BALANCE_MONTHS_BALANCE_MAX'].transform(np.max)\n",
    "df_bureau['K_BUREAU_BALANCE_MONTHS_BALANCE_MIN'] = df_bureau.groupby('SK_ID_CURR')['K_BUREAU_BALANCE_MONTHS_BALANCE_MIN'].transform(np.min)\n",
    "\n",
    "\n",
    "\n",
    "#Drop Duplicates\n",
    "df_bureau = df_bureau[['SK_ID_CURR', 'K_BUREAU_COUNT', \n",
    "                       'K_BUREAU_DAYS_CREDIT_MEAN', 'K_BUREAU_DAYS_CREDIT_MAX', 'K_BUREAU_DAYS_CREDIT_MIN',\n",
    "                       'K_BUREAU_DAYS_CREDIT_SORTED_SUCCESSIVE_DIFF_MEAN',\n",
    "                      'K_BUREAU_DAYS_CREDIT_ENDDATE_MEAN', 'K_BUREAU_DAYS_CREDIT_ENDDATE_MAX', 'K_BUREAU_DAYS_CREDIT_ENDDATE_MIN',\n",
    "                      'K_BUREAU_DAYS_ENDDATE_FACT_MEAN', 'K_BUREAU_DAYS_ENDDATE_FACT_MAX', 'K_BUREAU_DAYS_ENDDATE_FACT_MIN',\n",
    "                      'K_BUREAU_AMT_CREDIT_MAX_OVERDUE_MEAN', 'K_BUREAU_AMT_CREDIT_MAX_OVERDUE_MAX', 'K_BUREAU_AMT_CREDIT_MAX_OVERDUE_MIN',\n",
    "                      'K_BUREAU_AMT_CREDIT_SUM_MEAN', 'K_BUREAU_AMT_CREDIT_SUM_MAX', 'K_BUREAU_AMT_CREDIT_SUM_MIN',\n",
    "                      'K_BUREAU_AMT_CREDIT_SUM_DEBT_MEAN', 'K_BUREAU_AMT_CREDIT_SUM_DEBT_MAX', 'K_BUREAU_AMT_CREDIT_SUM_DEBT_MIN',\n",
    "                      'K_BUREAU_AMT_CREDIT_SUM_LIMIT_MEAN', 'K_BUREAU_AMT_CREDIT_SUM_LIMIT_MAX', 'K_BUREAU_AMT_CREDIT_SUM_LIMIT_MIN',\n",
    "                      'K_BUREAU_AMT_CREDIT_SUM_OVERDUE_MEAN', 'K_BUREAU_AMT_CREDIT_SUM_OVERDUE_MAX', 'K_BUREAU_AMT_CREDIT_SUM_OVERDUE_MIN',\n",
    "                      'K_BUREAU_AMT_ANNUITY_MEAN', 'K_BUREAU_AMT_ANNUITY_MAX', 'K_BUREAU_AMT_ANNUITY_MIN',\n",
    "                      'K_BUREAU_BALANCE_MONTHS_BALANCE_MEAN', 'K_BUREAU_BALANCE_MONTHS_BALANCE_MAX', 'K_BUREAU_BALANCE_MONTHS_BALANCE_MIN']].drop_duplicates()"
   ]
  },
  {
   "cell_type": "code",
   "execution_count": 967,
   "metadata": {
    "ExecuteTime": {
     "end_time": "2018-06-24T04:49:13.914147Z",
     "start_time": "2018-06-24T04:49:13.907161Z"
    }
   },
   "outputs": [
    {
     "data": {
      "text/plain": [
       "(305811, 33)"
      ]
     },
     "execution_count": 967,
     "metadata": {},
     "output_type": "execute_result"
    }
   ],
   "source": [
    "df_bureau.shape"
   ]
  },
  {
   "cell_type": "code",
   "execution_count": 968,
   "metadata": {
    "ExecuteTime": {
     "end_time": "2018-06-24T04:49:14.357608Z",
     "start_time": "2018-06-24T04:49:13.919131Z"
    }
   },
   "outputs": [
    {
     "name": "stdout",
     "output_type": "stream",
     "text": [
      "df_bureau_original (1716428, 17)\n",
      "263491\n",
      "42320\n",
      "Sum:  305811\n"
     ]
    }
   ],
   "source": [
    "# #CHECKPOINT\n",
    "print(\"df_bureau_original\", df_bureau_original.shape)\n",
    "print(len(set(df_bureau_original[\"SK_ID_CURR\"]).intersection(set(df_application_train[\"SK_ID_CURR\"]))))\n",
    "print(len(set(df_bureau_original[\"SK_ID_CURR\"]).intersection(set(df_application_test[\"SK_ID_CURR\"]))))\n",
    "print(\"Sum: \", 263491 + 42320)"
   ]
  },
  {
   "cell_type": "code",
   "execution_count": 969,
   "metadata": {
    "ExecuteTime": {
     "end_time": "2018-06-24T04:49:14.546611Z",
     "start_time": "2018-06-24T04:49:14.359619Z"
    }
   },
   "outputs": [
    {
     "name": "stdout",
     "output_type": "stream",
     "text": [
      "df_bureau (305811, 33)\n",
      "263491\n",
      "42320\n",
      "Sum:  305811\n"
     ]
    }
   ],
   "source": [
    "# #CHECKPOINT\n",
    "print(\"df_bureau\", df_bureau.shape)\n",
    "print(len(set(df_bureau[\"SK_ID_CURR\"]).intersection(set(df_application_train[\"SK_ID_CURR\"]))))\n",
    "print(len(set(df_bureau[\"SK_ID_CURR\"]).intersection(set(df_application_test[\"SK_ID_CURR\"]))))\n",
    "print(\"Sum: \", 263491 + 42320)"
   ]
  },
  {
   "cell_type": "code",
   "execution_count": 970,
   "metadata": {
    "ExecuteTime": {
     "end_time": "2018-06-24T04:49:14.720146Z",
     "start_time": "2018-06-24T04:49:14.548611Z"
    }
   },
   "outputs": [
    {
     "data": {
      "text/plain": [
       "43"
      ]
     },
     "execution_count": 970,
     "metadata": {},
     "output_type": "execute_result"
    }
   ],
   "source": [
    "gc.collect()"
   ]
  },
  {
   "cell_type": "code",
   "execution_count": null,
   "metadata": {},
   "outputs": [],
   "source": []
  },
  {
   "cell_type": "markdown",
   "metadata": {},
   "source": [
    "## Feature MAIN TABLE: df_application_train"
   ]
  },
  {
   "cell_type": "code",
   "execution_count": null,
   "metadata": {
    "ExecuteTime": {
     "end_time": "2018-06-24T04:16:17.419146Z",
     "start_time": "2018-06-24T04:09:12.073Z"
    }
   },
   "outputs": [],
   "source": [
    "# #Missing values have been masked with the value 365243\n",
    "df_application_train['DAYS_EMPLOYED'].replace(365243, np.nan, inplace= True)\n",
    "df_application_test['DAYS_EMPLOYED'].replace(365243, np.nan, inplace= True)"
   ]
  },
  {
   "cell_type": "code",
   "execution_count": null,
   "metadata": {
    "ExecuteTime": {
     "end_time": "2018-06-24T04:16:17.420145Z",
     "start_time": "2018-06-24T04:09:12.076Z"
    }
   },
   "outputs": [],
   "source": [
    "# #Feature - Divide existing features\n",
    "df_application_train['K_APP_CREDIT_TO_INCOME_RATIO'] = df_application_train['AMT_CREDIT']/df_application_train['AMT_INCOME_TOTAL']\n",
    "df_application_train['K_APP_ANNUITY_TO_INCOME_RATIO'] = df_application_train['AMT_ANNUITY']/df_application_train['AMT_INCOME_TOTAL']\n",
    "df_application_train['K_APP_CREDIT_TO_ANNUITY_RATIO'] = df_application_train['AMT_CREDIT']/df_application_train['AMT_ANNUITY']\n",
    "# df_application_train['K_APP_INCOME_PER_PERSON_RATIO'] = df_application_train['AMT_INCOME_TOTAL'] / df_application_train['CNT_FAM_MEMBERS']\n",
    "\n",
    "df_application_train['K_APP_CREDITTOINCOME_TO_DAYSEMPLOYED_RATIO'] = df_application_train['K_APP_CREDIT_TO_INCOME_RATIO'] /df_application_train['DAYS_EMPLOYED']\n",
    "df_application_train['K_APP_ANNUITYTOINCOME_TO_DAYSEMPLOYED_RATIO'] = df_application_train['K_APP_ANNUITY_TO_INCOME_RATIO'] /df_application_train['DAYS_EMPLOYED']\n",
    "df_application_train['K_APP_ANNUITYTOCREDIT_TO_DAYSEMPLOYED_RATIO'] = df_application_train['K_APP_CREDIT_TO_ANNUITY_RATIO'] /df_application_train['DAYS_EMPLOYED']\n",
    "\n",
    "\n",
    "df_application_train['K_APP_CREDIT_TO_GOODSPRICE_RATIO'] = df_application_train['AMT_CREDIT']/df_application_train['AMT_GOODS_PRICE']\n",
    "df_application_train['K_APP_GOODSPRICE_TO_INCOME_RATIO'] = df_application_train['AMT_GOODS_PRICE']/df_application_train['AMT_INCOME_TOTAL']\n",
    "df_application_train['K_APP_GOODSPRICE_TO_ANNUITY_RATIO'] = df_application_train['AMT_GOODS_PRICE']/df_application_train['AMT_ANNUITY']\n",
    "\n",
    "# #Feature - Income, Education, Family Status\n",
    "df_application_train['K_APP_INCOME_EDUCATION'] = df_application_train['NAME_INCOME_TYPE'] + df_application_train['NAME_EDUCATION_TYPE']\n",
    "df_application_train['K_APP_INCOME_EDUCATION_FAMILY'] = df_application_train['NAME_INCOME_TYPE'] + df_application_train['NAME_EDUCATION_TYPE'] + df_application_train['NAME_FAMILY_STATUS']\n",
    "\n",
    "# #Family\n",
    "df_application_train['K_APP_EMPLOYED_TO_DAYSBIRTH_RATIO'] = df_application_train['DAYS_EMPLOYED']/df_application_train['DAYS_BIRTH']\n",
    "df_application_train['K_APP_INCOME_PER_FAMILY'] = df_application_train['AMT_INCOME_TOTAL']/df_application_train['CNT_FAM_MEMBERS']\n",
    "# df_application_train['K_APP_CHILDREN_TO_FAMILY_RATIO'] = df_application_train['CNT_CHILDREN']/df_application_train['CNT_FAM_MEMBERS']\n",
    "\n",
    "# df_application_train['K_APP_FLAGS_SUM'] = df_application_train.loc[:, df_application_train.columns.str.contains('FLAG_DOCUMENT')].sum(axis=1)\n",
    "    \n",
    "df_application_train['K_APP_EXT_SOURCES_MEAN'] = df_application_train[['EXT_SOURCE_1', 'EXT_SOURCE_2', 'EXT_SOURCE_3']].mean(axis=1)"
   ]
  },
  {
   "cell_type": "code",
   "execution_count": null,
   "metadata": {
    "ExecuteTime": {
     "end_time": "2018-06-24T04:16:17.421141Z",
     "start_time": "2018-06-24T04:09:12.080Z"
    }
   },
   "outputs": [],
   "source": [
    "# #Feature - Divide existing features\n",
    "df_application_test['K_APP_CREDIT_TO_INCOME_RATIO'] = df_application_test['AMT_CREDIT']/df_application_test['AMT_INCOME_TOTAL']\n",
    "df_application_test['K_APP_ANNUITY_TO_INCOME_RATIO'] = df_application_test['AMT_ANNUITY']/df_application_test['AMT_INCOME_TOTAL']\n",
    "df_application_test['K_APP_CREDIT_TO_ANNUITY_RATIO'] = df_application_test['AMT_CREDIT']/df_application_test['AMT_ANNUITY']\n",
    "# df_application_test['K_APP_INCOME_PER_PERSON_RATIO'] = df_application_test['AMT_INCOME_TOTAL'] / df_application_test['CNT_FAM_MEMBERS']\n",
    "\n",
    "df_application_test['K_APP_CREDITTOINCOME_TO_DAYSEMPLOYED_RATIO'] = df_application_test['K_APP_CREDIT_TO_INCOME_RATIO'] /df_application_test['DAYS_EMPLOYED']\n",
    "df_application_test['K_APP_ANNUITYTOINCOME_TO_DAYSEMPLOYED_RATIO'] = df_application_test['K_APP_ANNUITY_TO_INCOME_RATIO'] /df_application_test['DAYS_EMPLOYED']\n",
    "df_application_test['K_APP_ANNUITYTOCREDIT_TO_DAYSEMPLOYED_RATIO'] = df_application_test['K_APP_CREDIT_TO_ANNUITY_RATIO'] /df_application_test['DAYS_EMPLOYED']\n",
    "\n",
    "\n",
    "df_application_test['K_APP_CREDIT_TO_GOODSPRICE_RATIO'] = df_application_test['AMT_CREDIT']/df_application_test['AMT_GOODS_PRICE']\n",
    "df_application_test['K_APP_GOODSPRICE_TO_INCOME_RATIO'] = df_application_test['AMT_GOODS_PRICE']/df_application_test['AMT_INCOME_TOTAL']\n",
    "df_application_test['K_APP_GOODSPRICE_TO_ANNUITY_RATIO'] = df_application_test['AMT_GOODS_PRICE']/df_application_test['AMT_ANNUITY']\n",
    "\n",
    "# #Feature - Income, Education, Family Status\n",
    "df_application_test['K_APP_INCOME_EDUCATION'] = df_application_test['NAME_INCOME_TYPE'] + df_application_test['NAME_EDUCATION_TYPE']\n",
    "df_application_test['K_APP_INCOME_EDUCATION_FAMILY'] = df_application_test['NAME_INCOME_TYPE'] + df_application_test['NAME_EDUCATION_TYPE'] + df_application_test['NAME_FAMILY_STATUS']\n",
    "\n",
    "\n",
    "# #Family\n",
    "df_application_test['K_APP_EMPLOYED_TO_DAYSBIRTH_RATIO'] = df_application_test['DAYS_EMPLOYED']/df_application_test['DAYS_BIRTH']\n",
    "df_application_test['K_APP_INCOME_PER_FAMILY'] = df_application_test['AMT_INCOME_TOTAL']/df_application_test['CNT_FAM_MEMBERS']\n",
    "# df_application_test['K_APP_CHILDREN_TO_FAMILY_RATIO'] = df_application_test['CNT_CHILDREN']/df_application_test['CNT_FAM_MEMBERS']\n",
    "\n",
    "# df_application_test['K_APP_FLAGS_SUM'] = df_application_test.loc[:, df_application_test.columns.str.contains('FLAG_DOCUMENT')].sum(axis=1)\n",
    "\n",
    "df_application_test['K_APP_EXT_SOURCES_MEAN'] = df_application_test[['EXT_SOURCE_1', 'EXT_SOURCE_2', 'EXT_SOURCE_3']].mean(axis=1)"
   ]
  },
  {
   "cell_type": "code",
   "execution_count": null,
   "metadata": {
    "ExecuteTime": {
     "end_time": "2018-06-24T04:16:17.422142Z",
     "start_time": "2018-06-24T04:09:12.083Z"
    }
   },
   "outputs": [],
   "source": [
    "df_application_train.drop(['FLAG_MOBIL', 'APARTMENTS_AVG'], axis=1, inplace=True)\n",
    "df_application_test.drop(['FLAG_MOBIL', 'APARTMENTS_AVG'], axis=1, inplace=True)"
   ]
  },
  {
   "cell_type": "code",
   "execution_count": null,
   "metadata": {},
   "outputs": [],
   "source": []
  },
  {
   "cell_type": "code",
   "execution_count": null,
   "metadata": {},
   "outputs": [],
   "source": []
  },
  {
   "cell_type": "code",
   "execution_count": null,
   "metadata": {},
   "outputs": [],
   "source": []
  },
  {
   "cell_type": "code",
   "execution_count": null,
   "metadata": {
    "ExecuteTime": {
     "end_time": "2018-06-24T04:16:17.424140Z",
     "start_time": "2018-06-24T04:09:12.090Z"
    }
   },
   "outputs": [],
   "source": [
    "gc.collect()"
   ]
  },
  {
   "cell_type": "markdown",
   "metadata": {},
   "source": [
    "# Combine Datasets"
   ]
  },
  {
   "cell_type": "markdown",
   "metadata": {},
   "source": [
    "## Encode categorical columns"
   ]
  },
  {
   "cell_type": "code",
   "execution_count": null,
   "metadata": {
    "ExecuteTime": {
     "end_time": "2018-06-24T04:16:17.426129Z",
     "start_time": "2018-06-24T04:09:12.223Z"
    }
   },
   "outputs": [],
   "source": [
    "arr_categorical_columns = df_application_train.select_dtypes(['object']).columns\n",
    "for var_col in arr_categorical_columns:\n",
    "    df_application_train[var_col] = df_application_train[var_col].astype('category').cat.codes\n",
    "gc.collect()\n",
    "\n",
    "arr_categorical_columns = df_application_test.select_dtypes(['object']).columns\n",
    "for var_col in arr_categorical_columns:\n",
    "    df_application_test[var_col] = df_application_test[var_col].astype('category').cat.codes\n",
    "gc.collect()\n",
    "\n",
    "# arr_categorical_columns = df_credit_card_balance.select_dtypes(['object']).columns\n",
    "# for var_col in arr_categorical_columns:\n",
    "#     df_credit_card_balance[var_col] = df_credit_card_balance[var_col].astype('category').cat.codes"
   ]
  },
  {
   "cell_type": "code",
   "execution_count": null,
   "metadata": {
    "ExecuteTime": {
     "end_time": "2018-06-24T04:16:17.427127Z",
     "start_time": "2018-06-24T04:09:12.228Z"
    }
   },
   "outputs": [],
   "source": [
    "# # One-hot encoding for categorical columns with get_dummies\n",
    "# def one_hot_encoder(df, nan_as_category = True):\n",
    "#     original_columns = list(df.columns)\n",
    "#     categorical_columns = df.select_dtypes(['object']).columns\n",
    "#     df = pd.get_dummies(df, columns= categorical_columns, dummy_na= nan_as_category)\n",
    "#     new_columns = [c for c in df.columns if c not in original_columns]\n",
    "#     return df, new_columns\n",
    "\n"
   ]
  },
  {
   "cell_type": "code",
   "execution_count": null,
   "metadata": {},
   "outputs": [],
   "source": []
  },
  {
   "cell_type": "code",
   "execution_count": null,
   "metadata": {},
   "outputs": [],
   "source": []
  },
  {
   "cell_type": "markdown",
   "metadata": {
    "ExecuteTime": {
     "end_time": "2018-05-25T23:30:11.672680Z",
     "start_time": "2018-05-25T23:30:11.668692Z"
    }
   },
   "source": [
    "## Combine Datasets"
   ]
  },
  {
   "cell_type": "markdown",
   "metadata": {},
   "source": [
    "### df_installments_payments"
   ]
  },
  {
   "cell_type": "code",
   "execution_count": null,
   "metadata": {
    "ExecuteTime": {
     "end_time": "2018-06-24T04:16:17.429123Z",
     "start_time": "2018-06-24T04:09:12.328Z"
    }
   },
   "outputs": [],
   "source": [
    "df_installments_payments_train = df_installments_payments[df_installments_payments[\"SK_ID_CURR\"].isin(df_application_train[\"SK_ID_CURR\"])]\n",
    "df_installments_payments_test = df_installments_payments[df_installments_payments[\"SK_ID_CURR\"].isin(df_application_test[\"SK_ID_CURR\"])]"
   ]
  },
  {
   "cell_type": "code",
   "execution_count": null,
   "metadata": {
    "ExecuteTime": {
     "end_time": "2018-06-24T04:16:17.431117Z",
     "start_time": "2018-06-24T04:09:12.330Z"
    }
   },
   "outputs": [],
   "source": [
    "df_application_train = pd.merge(df_application_train, df_installments_payments_train, on=\"SK_ID_CURR\", how=\"outer\", suffixes=('_application', '_installments_payments'))\n",
    "df_application_test = pd.merge(df_application_test, df_installments_payments_test, on=\"SK_ID_CURR\", how=\"outer\", suffixes=('_application', '_installments_payments'))"
   ]
  },
  {
   "cell_type": "code",
   "execution_count": null,
   "metadata": {},
   "outputs": [],
   "source": []
  },
  {
   "cell_type": "markdown",
   "metadata": {},
   "source": [
    "### df_credit_card_balance"
   ]
  },
  {
   "cell_type": "code",
   "execution_count": null,
   "metadata": {
    "ExecuteTime": {
     "end_time": "2018-06-24T04:16:17.432112Z",
     "start_time": "2018-06-24T04:09:12.381Z"
    }
   },
   "outputs": [],
   "source": [
    "df_credit_card_balance_train = df_credit_card_balance[df_credit_card_balance[\"SK_ID_CURR\"].isin(df_application_train[\"SK_ID_CURR\"])]\n",
    "df_credit_card_balance_test = df_credit_card_balance[df_credit_card_balance[\"SK_ID_CURR\"].isin(df_application_test[\"SK_ID_CURR\"])]"
   ]
  },
  {
   "cell_type": "code",
   "execution_count": null,
   "metadata": {
    "ExecuteTime": {
     "end_time": "2018-06-24T04:16:17.433111Z",
     "start_time": "2018-06-24T04:09:12.385Z"
    }
   },
   "outputs": [],
   "source": [
    "df_application_train = pd.merge(df_application_train, df_credit_card_balance_train, on=\"SK_ID_CURR\", how=\"outer\", suffixes=('_application', '_credit_card_balance'))\n",
    "df_application_test = pd.merge(df_application_test, df_credit_card_balance_test, on=\"SK_ID_CURR\", how=\"outer\", suffixes=('_application', '_credit_card_balance'))"
   ]
  },
  {
   "cell_type": "code",
   "execution_count": null,
   "metadata": {},
   "outputs": [],
   "source": []
  },
  {
   "cell_type": "markdown",
   "metadata": {},
   "source": [
    "### df_pos_cash_balance"
   ]
  },
  {
   "cell_type": "code",
   "execution_count": null,
   "metadata": {
    "ExecuteTime": {
     "end_time": "2018-06-24T04:16:17.435106Z",
     "start_time": "2018-06-24T04:09:12.443Z"
    }
   },
   "outputs": [],
   "source": [
    "df_pos_cash_balance_train = df_pos_cash_balance[df_pos_cash_balance[\"SK_ID_CURR\"].isin(df_application_train[\"SK_ID_CURR\"])]\n",
    "df_pos_cash_balance_test = df_pos_cash_balance[df_pos_cash_balance[\"SK_ID_CURR\"].isin(df_application_test[\"SK_ID_CURR\"])]"
   ]
  },
  {
   "cell_type": "code",
   "execution_count": null,
   "metadata": {
    "ExecuteTime": {
     "end_time": "2018-06-24T04:16:17.436104Z",
     "start_time": "2018-06-24T04:09:12.446Z"
    }
   },
   "outputs": [],
   "source": [
    "df_application_train = pd.merge(df_application_train, df_pos_cash_balance_train, on=\"SK_ID_CURR\", how=\"outer\", suffixes=('_application', '_pos_cash_balance'))\n",
    "df_application_test = pd.merge(df_application_test, df_pos_cash_balance_test, on=\"SK_ID_CURR\", how=\"outer\", suffixes=('_application', '_pos_cash_balance'))"
   ]
  },
  {
   "cell_type": "code",
   "execution_count": null,
   "metadata": {},
   "outputs": [],
   "source": []
  },
  {
   "cell_type": "markdown",
   "metadata": {},
   "source": [
    "### df_previous_application"
   ]
  },
  {
   "cell_type": "code",
   "execution_count": null,
   "metadata": {
    "ExecuteTime": {
     "end_time": "2018-06-24T04:16:17.438097Z",
     "start_time": "2018-06-24T04:09:12.497Z"
    }
   },
   "outputs": [],
   "source": [
    "df_previous_application_train = df_previous_application[df_previous_application[\"SK_ID_CURR\"].isin(df_application_train[\"SK_ID_CURR\"])]\n",
    "df_previous_application_test = df_previous_application[df_previous_application[\"SK_ID_CURR\"].isin(df_application_test[\"SK_ID_CURR\"])]"
   ]
  },
  {
   "cell_type": "code",
   "execution_count": null,
   "metadata": {
    "ExecuteTime": {
     "end_time": "2018-06-24T04:16:17.440093Z",
     "start_time": "2018-06-24T04:09:12.502Z"
    }
   },
   "outputs": [],
   "source": [
    "df_application_train = pd.merge(df_application_train, df_previous_application_train, on=\"SK_ID_CURR\", how=\"outer\", suffixes=('_application', '_previous_application'))\n",
    "df_application_test = pd.merge(df_application_test, df_previous_application_test, on=\"SK_ID_CURR\", how=\"outer\", suffixes=('_application', '_previous_application'))"
   ]
  },
  {
   "cell_type": "code",
   "execution_count": null,
   "metadata": {},
   "outputs": [],
   "source": []
  },
  {
   "cell_type": "markdown",
   "metadata": {},
   "source": [
    "### df_bureau_balance and df_bureau"
   ]
  },
  {
   "cell_type": "code",
   "execution_count": null,
   "metadata": {
    "ExecuteTime": {
     "end_time": "2018-06-24T04:16:17.442089Z",
     "start_time": "2018-06-24T04:09:12.554Z"
    }
   },
   "outputs": [],
   "source": [
    "df_bureau_train = df_bureau[df_bureau[\"SK_ID_CURR\"].isin(df_application_train[\"SK_ID_CURR\"])]\n",
    "df_bureau_test = df_bureau[df_bureau[\"SK_ID_CURR\"].isin(df_application_test[\"SK_ID_CURR\"])]"
   ]
  },
  {
   "cell_type": "code",
   "execution_count": null,
   "metadata": {
    "ExecuteTime": {
     "end_time": "2018-06-24T04:16:17.443087Z",
     "start_time": "2018-06-24T04:09:12.556Z"
    }
   },
   "outputs": [],
   "source": [
    "df_application_train = pd.merge(df_application_train, df_bureau_train, on=\"SK_ID_CURR\", how=\"outer\", suffixes=('_application', '_bureau'))\n",
    "df_application_test = pd.merge(df_application_test, df_bureau_test, on=\"SK_ID_CURR\", how=\"outer\", suffixes=('_application', '_bureau'))"
   ]
  },
  {
   "cell_type": "code",
   "execution_count": null,
   "metadata": {
    "ExecuteTime": {
     "end_time": "2018-06-24T04:16:17.445078Z",
     "start_time": "2018-06-24T04:09:12.559Z"
    }
   },
   "outputs": [],
   "source": [
    "gc.collect()"
   ]
  },
  {
   "cell_type": "markdown",
   "metadata": {},
   "source": [
    "# Model Building"
   ]
  },
  {
   "cell_type": "markdown",
   "metadata": {
    "ExecuteTime": {
     "end_time": "2018-05-21T01:01:10.998981Z",
     "start_time": "2018-05-21T01:01:10.994983Z"
    }
   },
   "source": [
    "## Train-Validation Split"
   ]
  },
  {
   "cell_type": "code",
   "execution_count": null,
   "metadata": {
    "ExecuteTime": {
     "end_time": "2018-06-24T04:16:17.446075Z",
     "start_time": "2018-06-24T04:09:12.663Z"
    }
   },
   "outputs": [],
   "source": [
    "input_columns = df_application_train.columns\n",
    "input_columns = input_columns[input_columns != 'TARGET']\n",
    "target_column = 'TARGET'\n",
    "\n",
    "X = df_application_train[input_columns]\n",
    "y = df_application_train[target_column]\n",
    "gc.collect()\n",
    "X_train, X_test, y_train, y_test = train_test_split(X, y, random_state=42, train_size=0.7)"
   ]
  },
  {
   "cell_type": "code",
   "execution_count": null,
   "metadata": {},
   "outputs": [],
   "source": []
  },
  {
   "cell_type": "code",
   "execution_count": null,
   "metadata": {
    "ExecuteTime": {
     "end_time": "2018-06-24T04:16:17.447073Z",
     "start_time": "2018-06-24T04:09:12.667Z"
    }
   },
   "outputs": [],
   "source": [
    "lgb_params = {\n",
    "    'boosting_type': 'gbdt',\n",
    "    'colsample_bytree': 0.7,               # #Same as feature_fraction\n",
    "    'learning_rate': 0.1604387053222455,\n",
    "    'max_depth' : 4,\n",
    "    'metric' : 'auc',\n",
    "    'min_child_weight': 9,\n",
    "    'num_boost_round': 5000, ##??\n",
    "    'nthread': -1,\n",
    "    'objective': 'binary',\n",
    "    'lambda_l1': 3.160842634951819,\n",
    "    'lambda_l2': 4.438488456929287,\n",
    "    'reg_gamma':0.6236454630290655,\n",
    "    'seed': 42,\n",
    "    'subsample': 0.8,               # #Same as bagging_fraction\n",
    "    'verbose': 1,\n",
    "    }\n",
    "    \n",
    "#    'max_bin': 100}\n",
    "# 'num_leaves': 40, \n",
    "#task?\n",
    "#num_boost_round\n",
    "#can I run this on my gpu?"
   ]
  },
  {
   "cell_type": "code",
   "execution_count": null,
   "metadata": {},
   "outputs": [],
   "source": []
  },
  {
   "cell_type": "code",
   "execution_count": null,
   "metadata": {},
   "outputs": [],
   "source": []
  },
  {
   "cell_type": "code",
   "execution_count": null,
   "metadata": {
    "ExecuteTime": {
     "end_time": "2018-06-24T04:16:17.448069Z",
     "start_time": "2018-06-24T04:09:12.672Z"
    }
   },
   "outputs": [],
   "source": [
    "lgb_params = {\n",
    "    'boosting_type': 'gbdt',\n",
    "    'colsample_bytree': 0.7,               # #Same as feature_fraction\n",
    "    'learning_rate': 0.0204387053222455,\n",
    "    'max_depth' : 4,\n",
    "    'metric' : 'auc',\n",
    "    'min_child_weight': 9,\n",
    "    'num_boost_round': 5000, ##??\n",
    "    'nthread': -1,\n",
    "    'objective': 'binary',\n",
    "    'lambda_l1': 3.160842634951819,\n",
    "    'lambda_l2': 4.438488456929287,\n",
    "    'reg_gamma':0.6236454630290655,\n",
    "    'seed': 42,\n",
    "    'subsample': 0.8,               # #Same as bagging_fraction\n",
    "    'verbose': 1,\n",
    "    }\n",
    "    \n",
    "#    'max_bin': 100}\n",
    "# 'num_leaves': 40, \n",
    "#task?\n",
    "#num_boost_round\n",
    "#can I run this on my gpu?\n",
    "            \n"
   ]
  },
  {
   "cell_type": "code",
   "execution_count": null,
   "metadata": {
    "ExecuteTime": {
     "end_time": "2018-06-24T04:16:17.449070Z",
     "start_time": "2018-06-24T04:09:12.677Z"
    }
   },
   "outputs": [],
   "source": [
    "# dtrain_lgb = lgb.Dataset(X_train, label=y_train)\n",
    "# dtest_lgb = lgb.Dataset(X_test, label=y_test)\n",
    "\n",
    "dtrain_lgb = lgb.Dataset(X, label=y)\n",
    "\n",
    "cv_result_lgb = lgb.cv(lgb_params, \n",
    "                       dtrain_lgb, \n",
    "                       num_boost_round=5000, \n",
    "                       nfold=5, \n",
    "                       stratified=True, \n",
    "                       early_stopping_rounds=200, \n",
    "                       verbose_eval=100, \n",
    "                       show_stdv=True)\n",
    "\n",
    "num_boost_rounds_lgb = len(cv_result_lgb['auc-mean'])\n",
    "print(max(cv_result_lgb['auc-mean']))\n",
    "print('num_boost_rounds_lgb=' + str(num_boost_rounds_lgb))"
   ]
  },
  {
   "cell_type": "code",
   "execution_count": null,
   "metadata": {
    "ExecuteTime": {
     "end_time": "2018-06-24T04:16:17.450064Z",
     "start_time": "2018-06-24T04:09:12.681Z"
    }
   },
   "outputs": [],
   "source": [
    "# #Final Model\n",
    "gc.collect()\n",
    "# model = lgb.train(lgbm_params, lgb.Dataset(X_train,label=y_train), 270, lgb.Dataset(X_test,label=y_test), verbose_eval= 50)\n",
    "# model = lgb.train(lgbm_params, lgb.Dataset(X,y), 270, [lgb.Dataset(X_train,label=y_train), lgb.Dataset(X_test,label=y_test)],verbose_eval= 50)\n",
    "\n",
    "model_lgb = lgb.train(lgb_params, lgb.Dataset(X, label=y), num_boost_round=num_boost_rounds_lgb, verbose_eval= 50)"
   ]
  },
  {
   "cell_type": "raw",
   "metadata": {},
   "source": [
    "# #LB 0.792\n",
    "[3700]\tcv_agg's auc: 0.790667 + 0.0028882\n",
    "[3800]\tcv_agg's auc: 0.790669 + 0.00290076\n",
    "[3900]\tcv_agg's auc: 0.790662 + 0.0029096\n",
    "[4000]\tcv_agg's auc: 0.790644 + 0.00293775\n",
    "0.7906856024277595\n",
    "num_boost_rounds_lgb=3867\n",
    "\n",
    "--------------------------------------------\n",
    "\n",
    "[3400]\tcv_agg's auc: 0.791002 + 0.00262433\n",
    "[3500]\tcv_agg's auc: 0.791015 + 0.00263916\n",
    "[3600]\tcv_agg's auc: 0.790988 + 0.00262805\n",
    "0.791034849384312\n",
    "num_boost_rounds_lgb=3448\n",
    "\n",
    "---------------------------------------------\n",
    "LightGBM\n",
    "LB: 0.783\n",
    "[50]\tvalid_0's auc: 0.782805\tvalid_1's auc: 0.782941\n",
    "[100]\tvalid_0's auc: 0.80091\tvalid_1's auc: 0.799953\n",
    "[150]\tvalid_0's auc: 0.812043\tvalid_1's auc: 0.810725\n",
    "[200]\tvalid_0's auc: 0.82048\tvalid_1's auc: 0.818973\n",
    "[250]\tvalid_0's auc: 0.827426\tvalid_1's auc: 0.825887\n",
    "\n",
    "\n",
    "----------------------------------------------\n",
    "XGBOOST\n",
    "LB: 0.779\n",
    "[0]\ttrain-auc:0.663203\tvalid-auc:0.662528\n",
    "[100]\ttrain-auc:0.785183\tvalid-auc:0.78342\n",
    "[200]\ttrain-auc:0.798683\tvalid-auc:0.796623\n",
    "[269]\ttrain-auc:0.804624\tvalid-auc:0.802767\n",
    "\n",
    "LB: 0.785\n",
    "[0]\ttrain-auc:0.677391\tvalid-auc:0.677353\n",
    "[100]\ttrain-auc:0.800638\tvalid-auc:0.799899\n",
    "[200]\ttrain-auc:0.819781\tvalid-auc:0.818601\n",
    "[269]\ttrain-auc:0.828946\tvalid-auc:0.828207"
   ]
  },
  {
   "cell_type": "code",
   "execution_count": null,
   "metadata": {
    "ExecuteTime": {
     "end_time": "2018-06-24T04:16:17.451066Z",
     "start_time": "2018-06-24T04:09:12.772Z"
    }
   },
   "outputs": [],
   "source": [
    "df_predict = model_lgb.predict(df_application_test, num_iteration=model_lgb.best_iteration)"
   ]
  },
  {
   "cell_type": "code",
   "execution_count": null,
   "metadata": {
    "ExecuteTime": {
     "end_time": "2018-06-24T04:16:17.452058Z",
     "start_time": "2018-06-24T04:09:12.776Z"
    }
   },
   "outputs": [],
   "source": [
    "submission = pd.DataFrame()\n",
    "submission[\"SK_ID_CURR\"] =  df_application_test[\"SK_ID_CURR\"]\n",
    "submission[\"TARGET\"] =  df_predict\n",
    "\n",
    "submission.to_csv(\"../submissions/model_2_lightgbm_v41.csv\", index=False)"
   ]
  },
  {
   "cell_type": "code",
   "execution_count": null,
   "metadata": {
    "ExecuteTime": {
     "end_time": "2018-06-24T04:16:17.453090Z",
     "start_time": "2018-06-24T04:09:12.778Z"
    }
   },
   "outputs": [],
   "source": [
    "# #Should be 48744, 2\n",
    "submission.shape"
   ]
  },
  {
   "cell_type": "code",
   "execution_count": null,
   "metadata": {
    "ExecuteTime": {
     "end_time": "2018-06-24T04:16:17.454055Z",
     "start_time": "2018-06-24T04:09:12.781Z"
    },
    "scrolled": false
   },
   "outputs": [],
   "source": [
    "# #Feature Importance\n",
    "importance = dict(zip(X_train.columns, model_lgb.feature_importance()))\n",
    "\n",
    "sorted(((value,key) for (key,value) in importance.items()), reverse=True)"
   ]
  },
  {
   "cell_type": "code",
   "execution_count": null,
   "metadata": {
    "ExecuteTime": {
     "end_time": "2018-06-24T04:16:17.455051Z",
     "start_time": "2018-06-24T04:09:12.785Z"
    }
   },
   "outputs": [],
   "source": [
    "# #Total Number of Features --- 227\n",
    "len(sorted(((value,key) for (key,value) in importance.items()), reverse=True))"
   ]
  },
  {
   "cell_type": "code",
   "execution_count": null,
   "metadata": {
    "ExecuteTime": {
     "end_time": "2018-06-24T04:16:17.456053Z",
     "start_time": "2018-06-24T04:09:12.788Z"
    }
   },
   "outputs": [],
   "source": [
    "# #Number of Features > 50 --- 21\n",
    "len(sorted(((value,key) for (key,value) in importance.items() if value > 50), reverse=True))"
   ]
  },
  {
   "cell_type": "code",
   "execution_count": null,
   "metadata": {
    "ExecuteTime": {
     "end_time": "2018-06-24T04:16:17.457047Z",
     "start_time": "2018-06-24T04:09:12.792Z"
    }
   },
   "outputs": [],
   "source": [
    "# #Number of Features > 60 --- 21\n",
    "# (sorted(((key) for (key,value) in importance.items() if value > 50), reverse=True))"
   ]
  },
  {
   "cell_type": "code",
   "execution_count": null,
   "metadata": {},
   "outputs": [],
   "source": []
  },
  {
   "cell_type": "code",
   "execution_count": null,
   "metadata": {
    "ExecuteTime": {
     "end_time": "2018-06-24T04:16:17.458044Z",
     "start_time": "2018-06-24T04:09:12.796Z"
    }
   },
   "outputs": [],
   "source": [
    "# #Custom Interrupt Point for Run All below condition\n",
    "def"
   ]
  },
  {
   "cell_type": "code",
   "execution_count": null,
   "metadata": {
    "ExecuteTime": {
     "end_time": "2018-06-24T04:16:17.460042Z",
     "start_time": "2018-06-24T04:09:12.798Z"
    }
   },
   "outputs": [],
   "source": [
    "def def "
   ]
  },
  {
   "cell_type": "code",
   "execution_count": null,
   "metadata": {},
   "outputs": [],
   "source": []
  },
  {
   "cell_type": "code",
   "execution_count": null,
   "metadata": {},
   "outputs": [],
   "source": []
  },
  {
   "cell_type": "code",
   "execution_count": null,
   "metadata": {
    "ExecuteTime": {
     "end_time": "2018-06-24T04:16:17.461035Z",
     "start_time": "2018-06-24T04:09:12.804Z"
    }
   },
   "outputs": [],
   "source": [
    "cv_metrics = \"\"\"\n",
    "[100]\tcv_agg's auc: 0.781284 + 0.0026998\n",
    "[200]\tcv_agg's auc: 0.786374 + 0.00245158\n",
    "[300]\tcv_agg's auc: 0.787628 + 0.00275346\n",
    "[400]\tcv_agg's auc: 0.787835 + 0.00279943\n",
    "num_boost_rounds_lgb=390\n",
    "\"\"\""
   ]
  },
  {
   "cell_type": "code",
   "execution_count": null,
   "metadata": {
    "ExecuteTime": {
     "end_time": "2018-06-24T04:16:17.462053Z",
     "start_time": "2018-06-24T04:09:12.807Z"
    }
   },
   "outputs": [],
   "source": [
    "lb_metrics = 0.790"
   ]
  },
  {
   "cell_type": "code",
   "execution_count": null,
   "metadata": {
    "ExecuteTime": {
     "end_time": "2018-06-24T04:16:17.463040Z",
     "start_time": "2018-06-24T04:09:12.810Z"
    }
   },
   "outputs": [],
   "source": [
    "mongo_json = {\n",
    "    \"model\" : \"lightgbm\",\n",
    "    \"model_params\" : lgb_params,\n",
    "    \"feature_importance\" : dict([(key, int(val)) for key, val in importance.items()]),\n",
    "    \"cv_metrics\": cv_metrics,\n",
    "    \"lb_metrics\" : lb_metrics\n",
    "}"
   ]
  },
  {
   "cell_type": "markdown",
   "metadata": {},
   "source": [
    "# MongoDB - My Personal ModelDB"
   ]
  },
  {
   "cell_type": "code",
   "execution_count": null,
   "metadata": {
    "ExecuteTime": {
     "end_time": "2018-06-24T04:16:17.465026Z",
     "start_time": "2018-06-24T04:09:12.877Z"
    }
   },
   "outputs": [],
   "source": [
    "client = MongoClient()\n",
    "client = MongoClient('localhost', 27017)\n",
    "\n",
    "db = client.kaggle_homecredit\n",
    "collection = db.model2_lightgbm"
   ]
  },
  {
   "cell_type": "code",
   "execution_count": null,
   "metadata": {
    "ExecuteTime": {
     "end_time": "2018-06-24T04:16:17.466021Z",
     "start_time": "2018-06-24T04:09:12.881Z"
    }
   },
   "outputs": [],
   "source": [
    "db = client.kaggle_homecredit\n",
    "collection = db.model2_lightgbm"
   ]
  },
  {
   "cell_type": "code",
   "execution_count": null,
   "metadata": {
    "ExecuteTime": {
     "end_time": "2018-06-24T04:16:17.467032Z",
     "start_time": "2018-06-24T04:09:12.885Z"
    }
   },
   "outputs": [],
   "source": [
    "collection.insert_one(mongo_json)"
   ]
  },
  {
   "cell_type": "code",
   "execution_count": null,
   "metadata": {
    "ExecuteTime": {
     "end_time": "2018-06-24T04:16:17.468016Z",
     "start_time": "2018-06-24T04:09:12.890Z"
    }
   },
   "outputs": [],
   "source": [
    "df_application_train.size"
   ]
  },
  {
   "cell_type": "code",
   "execution_count": null,
   "metadata": {},
   "outputs": [],
   "source": []
  }
 ],
 "metadata": {
  "kernelspec": {
   "display_name": "Python 3",
   "language": "python",
   "name": "python3"
  },
  "language_info": {
   "codemirror_mode": {
    "name": "ipython",
    "version": 3
   },
   "file_extension": ".py",
   "mimetype": "text/x-python",
   "name": "python",
   "nbconvert_exporter": "python",
   "pygments_lexer": "ipython3",
   "version": "3.6.3rc1"
  },
  "latex_envs": {
   "LaTeX_envs_menu_present": true,
   "autoclose": false,
   "autocomplete": true,
   "bibliofile": "biblio.bib",
   "cite_by": "apalike",
   "current_citInitial": 1,
   "eqLabelWithNumbers": true,
   "eqNumInitial": 1,
   "hotkeys": {
    "equation": "Ctrl-E",
    "itemize": "Ctrl-I"
   },
   "labels_anchors": false,
   "latex_user_defs": false,
   "report_style_numbering": false,
   "user_envs_cfg": false
  },
  "toc": {
   "nav_menu": {},
   "number_sections": true,
   "sideBar": true,
   "skip_h1_title": false,
   "title_cell": "Table of Contents",
   "title_sidebar": "Contents",
   "toc_cell": false,
   "toc_position": {},
   "toc_section_display": true,
   "toc_window_display": false
  }
 },
 "nbformat": 4,
 "nbformat_minor": 2
}
