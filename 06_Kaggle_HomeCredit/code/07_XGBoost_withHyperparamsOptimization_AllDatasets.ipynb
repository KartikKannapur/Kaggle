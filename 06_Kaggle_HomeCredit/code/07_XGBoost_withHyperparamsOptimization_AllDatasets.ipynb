{
 "cells": [
  {
   "cell_type": "markdown",
   "metadata": {
    "ExecuteTime": {
     "end_time": "2018-05-20T23:59:53.197955Z",
     "start_time": "2018-05-20T23:59:53.186014Z"
    }
   },
   "source": [
    "# Home Credit Default Risk\n",
    "\n",
    "Can you predict how capable each applicant is of repaying a loan?"
   ]
  },
  {
   "cell_type": "markdown",
   "metadata": {},
   "source": [
    "Many people struggle to get loans due to **insufficient or non-existent credit histories**. And, unfortunately, this population is often taken advantage of by untrustworthy lenders.\n",
    "\n",
    "Home Credit strives to broaden financial inclusion for the **unbanked population by providing a positive and safe borrowing experience**. In order to make sure this underserved population has a positive loan experience, Home Credit makes use of a variety of alternative data--including telco and transactional information--to predict their clients' repayment abilities.\n",
    "\n",
    "While Home Credit is currently using various statistical and machine learning methods to make these predictions, they're challenging Kagglers to help them unlock the full potential of their data. Doing so will ensure that clients capable of repayment are not rejected and that loans are given with a principal, maturity, and repayment calendar that will empower their clients to be successful."
   ]
  },
  {
   "cell_type": "markdown",
   "metadata": {},
   "source": [
    "**Submissions are evaluated on area under the ROC curve between the predicted probability and the observed target.**"
   ]
  },
  {
   "cell_type": "code",
   "execution_count": null,
   "metadata": {},
   "outputs": [],
   "source": []
  },
  {
   "cell_type": "markdown",
   "metadata": {
    "ExecuteTime": {
     "end_time": "2018-05-21T00:03:15.862019Z",
     "start_time": "2018-05-21T00:03:15.857030Z"
    }
   },
   "source": [
    "# Dataset"
   ]
  },
  {
   "cell_type": "code",
   "execution_count": 1,
   "metadata": {
    "ExecuteTime": {
     "end_time": "2018-05-27T16:47:21.446990Z",
     "start_time": "2018-05-27T16:47:16.611304Z"
    }
   },
   "outputs": [
    {
     "name": "stderr",
     "output_type": "stream",
     "text": [
      "c:\\users\\karti\\appdata\\local\\programs\\python\\python36\\lib\\site-packages\\h5py\\__init__.py:36: FutureWarning: Conversion of the second argument of issubdtype from `float` to `np.floating` is deprecated. In future, it will be treated as `np.float64 == np.dtype(float).type`.\n",
      "  from ._conv import register_converters as _register_converters\n",
      "Using TensorFlow backend.\n"
     ]
    }
   ],
   "source": [
    "# #Python Libraries\n",
    "import numpy as np\n",
    "import scipy as sp\n",
    "import pandas as pd\n",
    "import statsmodels\n",
    "import pandas_profiling\n",
    "\n",
    "%matplotlib inline\n",
    "import matplotlib.pyplot as plt\n",
    "import seaborn as sns\n",
    "\n",
    "import os\n",
    "import sys\n",
    "import time\n",
    "import requests\n",
    "import datetime\n",
    "\n",
    "import missingno as msno\n",
    "import math\n",
    "import sys\n",
    "import gc\n",
    "import os\n",
    "\n",
    "# #sklearn\n",
    "from sklearn.model_selection import train_test_split\n",
    "from sklearn.model_selection import cross_val_score\n",
    "from sklearn.model_selection import RandomizedSearchCV\n",
    "from sklearn.model_selection import GridSearchCV\n",
    "from sklearn.model_selection import StratifiedKFold\n",
    "from sklearn.ensemble import RandomForestRegressor\n",
    "from sklearn import preprocessing\n",
    "from sklearn.preprocessing import StandardScaler\n",
    "\n",
    "# #sklearn - metrics\n",
    "from sklearn.metrics import mean_squared_error\n",
    "from sklearn.metrics import mean_absolute_error\n",
    "from sklearn.metrics import r2_score\n",
    "from sklearn.metrics import roc_auc_score\n",
    "\n",
    "# #XGBoost & LightGBM\n",
    "import xgboost as xgb\n",
    "import lightgbm as lgb\n",
    "\n",
    "# #Missing value imputation\n",
    "from fancyimpute import KNN, MICE\n",
    "\n",
    "# #Hyperparameter Optimization\n",
    "from hyperopt import STATUS_OK, Trials, fmin, hp, tpe\n",
    "\n",
    "pd.options.display.max_columns = 150"
   ]
  },
  {
   "cell_type": "code",
   "execution_count": null,
   "metadata": {},
   "outputs": [],
   "source": []
  },
  {
   "cell_type": "markdown",
   "metadata": {},
   "source": [
    "## Data Dictionary"
   ]
  },
  {
   "cell_type": "code",
   "execution_count": 2,
   "metadata": {
    "ExecuteTime": {
     "end_time": "2018-05-27T16:47:21.531498Z",
     "start_time": "2018-05-27T16:47:21.449717Z"
    }
   },
   "outputs": [
    {
     "name": "stdout",
     "output_type": "stream",
     "text": [
      "total 2621364\n",
      "-rw-r--r-- 1 karti 197609  26567651 May 17 18:06 application_test.csv\n",
      "-rw-r--r-- 1 karti 197609 166133370 May 17 18:06 application_train.csv\n",
      "-rw-r--r-- 1 karti 197609 170016717 May 17 18:08 bureau.csv\n",
      "-rw-r--r-- 1 karti 197609 375592889 May 17 18:08 bureau_balance.csv\n",
      "-rw-r--r-- 1 karti 197609 424582605 May 17 18:10 credit_card_balance.csv\n",
      "-rw-r--r-- 1 karti 197609     37436 May 26 21:49 HomeCredit_columns_description.csv\n",
      "-rw-r--r-- 1 karti 197609 723118349 May 17 18:13 installments_payments.csv\n",
      "-rw-r--r-- 1 karti 197609 392703158 May 17 18:14 POS_CASH_balance.csv\n",
      "-rw-r--r-- 1 karti 197609 404973293 May 17 18:15 previous_application.csv\n",
      "-rw-r--r-- 1 karti 197609    536202 May 17 18:06 sample_submission.csv\n"
     ]
    }
   ],
   "source": [
    "!ls -l ../data/"
   ]
  },
  {
   "cell_type": "markdown",
   "metadata": {
    "ExecuteTime": {
     "end_time": "2018-05-21T00:09:22.778763Z",
     "start_time": "2018-05-21T00:09:22.728896Z"
    }
   },
   "source": [
    "- application_{train|test}.csv\n",
    "\n",
    "This is the main table, broken into two files for Train (**with TARGET**) and Test (without TARGET).\n",
    "Static data for all applications. **One row represents one loan in our data sample.**\n",
    "\n",
    "Observations:\n",
    "* Each row is unique\n",
    "\n",
    "-----\n",
    "\n",
    "\n",
    "- bureau.csv\n",
    "\n",
    "All client's previous credits provided by other financial institutions that were reported to Credit Bureau (for clients who have a loan in our sample).\n",
    "For every loan in our sample, there are as many rows as number of credits the client had in Credit Bureau before the application date.\n",
    "\n",
    "- bureau_balance.csv\n",
    "\n",
    "Monthly balances of previous credits in Credit Bureau.\n",
    "This table has one row for each month of history of every previous credit reported to Credit Bureau – i.e the table has (#loans in sample * # of relative previous credits * # of months where we have some history observable for the previous credits) rows.\n",
    "\n",
    "- POS_CASH_balance.csv\n",
    "\n",
    "Monthly balance snapshots of previous POS (point of sales) and cash loans that the applicant had with Home Credit.\n",
    "This table has one row for each month of history of every previous credit in Home Credit (consumer credit and cash loans) related to loans in our sample – i.e. the table has (#loans in sample * # of relative previous credits * # of months in which we have some history observable for the previous credits) rows.\n",
    "\n",
    "- credit_card_balance.csv\n",
    "\n",
    "Monthly balance snapshots of previous credit cards that the applicant has with Home Credit.\n",
    "This table has one row for each month of history of every previous credit in Home Credit (consumer credit and cash loans) related to loans in our sample – i.e. the table has (#loans in sample * # of relative previous credit cards * # of months where we have some history observable for the previous credit card) rows.\n",
    "\n",
    "-----\n",
    "\n",
    "- previous_application.csv\n",
    "\n",
    "All previous applications for Home Credit loans of clients who have loans in our sample.\n",
    "There is one row for each previous application related to loans in our data sample.\n",
    "\n",
    "-----\n",
    "\n",
    "- installments_payments.csv\n",
    "\n",
    "Repayment history for the previously disbursed credits in Home Credit related to the loans in our sample.\n",
    "There is a) one row for every payment that was made plus b) one row each for missed payment.\n",
    "One row is equivalent to one payment of one installment OR one installment corresponding to one payment of one previous Home Credit credit related to loans in our sample.\n",
    "\n",
    "- HomeCredit_columns_description.csv\n",
    "\n",
    "This file contains descriptions for the columns in the various data files."
   ]
  },
  {
   "cell_type": "markdown",
   "metadata": {
    "ExecuteTime": {
     "end_time": "2018-05-21T00:10:35.952529Z",
     "start_time": "2018-05-21T00:10:35.909617Z"
    }
   },
   "source": [
    "![](https://storage.googleapis.com/kaggle-media/competitions/home-credit/home_credit.png)"
   ]
  },
  {
   "cell_type": "code",
   "execution_count": null,
   "metadata": {},
   "outputs": [],
   "source": []
  },
  {
   "cell_type": "markdown",
   "metadata": {},
   "source": [
    "# Data Pre-processing"
   ]
  },
  {
   "cell_type": "code",
   "execution_count": 280,
   "metadata": {
    "ExecuteTime": {
     "end_time": "2018-05-28T05:12:32.115496Z",
     "start_time": "2018-05-28T05:11:38.068809Z"
    }
   },
   "outputs": [],
   "source": [
    "df_application_train = pd.read_csv(\"../data/application_train.csv\")\n",
    "df_application_test = pd.read_csv(\"../data/application_test.csv\")\n",
    "df_bureau = pd.read_csv(\"../data/bureau.csv\")\n",
    "df_bureau_balance = pd.read_csv(\"../data/bureau_balance.csv\")\n",
    "df_credit_card_balance = pd.read_csv(\"../data/credit_card_balance.csv\")\n",
    "df_installments_payments = pd.read_csv(\"../data/installments_payments.csv\")\n",
    "df_pos_cash_balance = pd.read_csv(\"../data/POS_CASH_balance.csv\")\n",
    "df_previous_application = pd.read_csv(\"../data/previous_application.csv\")"
   ]
  },
  {
   "cell_type": "code",
   "execution_count": 281,
   "metadata": {
    "ExecuteTime": {
     "end_time": "2018-05-28T05:12:32.130456Z",
     "start_time": "2018-05-28T05:12:32.117493Z"
    }
   },
   "outputs": [
    {
     "name": "stdout",
     "output_type": "stream",
     "text": [
      "df_application_train:  (307511, 122)\n",
      "df_application_test:  (48744, 121)\n",
      "df_bureau:  (1716428, 17)\n",
      "df_bureau_balance:  (27299925, 3)\n",
      "df_credit_card_balance:  (3840312, 23)\n",
      "df_installments_payments:  (13605401, 8)\n",
      "df_pos_cash_balance:  (10001358, 8)\n",
      "df_previous_application:  (1670214, 37)\n"
     ]
    }
   ],
   "source": [
    "print(\"df_application_train: \", df_application_train.shape)\n",
    "print(\"df_application_test: \", df_application_test.shape)\n",
    "print(\"df_bureau: \", df_bureau.shape)\n",
    "print(\"df_bureau_balance: \", df_bureau_balance.shape)\n",
    "print(\"df_credit_card_balance: \", df_credit_card_balance.shape)\n",
    "print(\"df_installments_payments: \", df_installments_payments.shape)\n",
    "print(\"df_pos_cash_balance: \", df_pos_cash_balance.shape)\n",
    "print(\"df_previous_application: \", df_previous_application.shape)"
   ]
  },
  {
   "cell_type": "code",
   "execution_count": 282,
   "metadata": {
    "ExecuteTime": {
     "end_time": "2018-05-28T05:12:32.762769Z",
     "start_time": "2018-05-28T05:12:32.132451Z"
    }
   },
   "outputs": [
    {
     "data": {
      "text/plain": [
       "505"
      ]
     },
     "execution_count": 282,
     "metadata": {},
     "output_type": "execute_result"
    }
   ],
   "source": [
    "gc.collect()"
   ]
  },
  {
   "cell_type": "code",
   "execution_count": null,
   "metadata": {},
   "outputs": [],
   "source": []
  },
  {
   "cell_type": "markdown",
   "metadata": {},
   "source": [
    "## Feature: df_installments_payments"
   ]
  },
  {
   "cell_type": "code",
   "execution_count": 283,
   "metadata": {
    "ExecuteTime": {
     "end_time": "2018-05-28T05:12:52.553867Z",
     "start_time": "2018-05-28T05:12:32.764763Z"
    }
   },
   "outputs": [],
   "source": [
    "df_installments_payments['K_PREV_INSTALLMENT_PAYMENT_COUNT'] = df_installments_payments.groupby('SK_ID_CURR')['SK_ID_PREV'].transform('count')\n",
    "df_installments_payments['K_NUM_INSTALMENT_NUMBER_SUM'] = df_installments_payments.groupby('SK_ID_CURR')['NUM_INSTALMENT_NUMBER'].transform(np.sum)\n",
    "\n",
    "df_installments_payments['TEMP_DAYS_INSTALMENT'] = df_installments_payments.groupby('SK_ID_CURR')['DAYS_INSTALMENT'].transform(np.sum)\n",
    "df_installments_payments['TEMP_DAYS_ENTRY_PAYMENT'] = df_installments_payments.groupby('SK_ID_CURR')['DAYS_ENTRY_PAYMENT'].transform(np.sum)\n",
    "df_installments_payments['K_DAYS_DIFF'] = df_installments_payments['TEMP_DAYS_INSTALMENT'] - df_installments_payments['TEMP_DAYS_ENTRY_PAYMENT']\n",
    "\n",
    "df_installments_payments['TEMP_AMT_INSTALMENT'] = df_installments_payments.groupby('SK_ID_CURR')['AMT_INSTALMENT'].transform(np.sum)\n",
    "df_installments_payments['TEMP_AMT_PAYMENT'] = df_installments_payments.groupby('SK_ID_CURR')['AMT_PAYMENT'].transform(np.sum)\n",
    "df_installments_payments['K_AMT_DIFF'] = df_installments_payments['TEMP_AMT_INSTALMENT'] - df_installments_payments['TEMP_AMT_PAYMENT']\n",
    "\n",
    "# #Drop Duplicates\n",
    "df_installments_payments = df_installments_payments[['SK_ID_CURR', 'K_PREV_INSTALLMENT_PAYMENT_COUNT', 'K_NUM_INSTALMENT_NUMBER_SUM', 'K_DAYS_DIFF', 'K_AMT_DIFF']].drop_duplicates()"
   ]
  },
  {
   "cell_type": "code",
   "execution_count": 284,
   "metadata": {
    "ExecuteTime": {
     "end_time": "2018-05-28T05:12:52.767296Z",
     "start_time": "2018-05-28T05:12:52.556860Z"
    }
   },
   "outputs": [
    {
     "name": "stdout",
     "output_type": "stream",
     "text": [
      "df_installments_payments (339587, 5)\n",
      "291643\n",
      "47944\n",
      "Sum:  339587\n"
     ]
    }
   ],
   "source": [
    "# #CHECKPOINT\n",
    "print(\"df_installments_payments\", df_installments_payments.shape)\n",
    "print(len(set(df_installments_payments[\"SK_ID_CURR\"]).intersection(set(df_application_train[\"SK_ID_CURR\"]))))\n",
    "print(len(set(df_installments_payments[\"SK_ID_CURR\"]).intersection(set(df_application_test[\"SK_ID_CURR\"]))))\n",
    "print(\"Sum: \", 291643 + 47944)"
   ]
  },
  {
   "cell_type": "code",
   "execution_count": null,
   "metadata": {},
   "outputs": [],
   "source": []
  },
  {
   "cell_type": "markdown",
   "metadata": {},
   "source": [
    "## Feature: df_credit_card_balance"
   ]
  },
  {
   "cell_type": "code",
   "execution_count": 285,
   "metadata": {
    "ExecuteTime": {
     "end_time": "2018-05-28T05:14:42.609776Z",
     "start_time": "2018-05-28T05:12:52.769292Z"
    }
   },
   "outputs": [],
   "source": [
    "df_credit_card_balance['K_PREV_CREDIT_CARD_BALANCE_COUNT'] = df_credit_card_balance.groupby('SK_ID_CURR')['SK_ID_PREV'].transform('count')\n",
    "\n",
    "df_credit_card_balance['K_MONTHS_BALANCE_MAX'] = df_credit_card_balance.groupby('SK_ID_CURR')['MONTHS_BALANCE'].transform(np.max)\n",
    "df_credit_card_balance['K_MONTHS_BALANCE_MIN'] = df_credit_card_balance.groupby('SK_ID_CURR')['MONTHS_BALANCE'].transform(np.min)\n",
    "\n",
    "df_credit_card_balance['TEMP_AMT_BALANCE'] = df_credit_card_balance.groupby('SK_ID_CURR')['AMT_BALANCE'].transform(lambda x:x+1)\n",
    "df_credit_card_balance['TEMP_AMT_CREDIT_LIMIT_ACTUAL'] = df_credit_card_balance.groupby('SK_ID_CURR')['AMT_CREDIT_LIMIT_ACTUAL'].transform(lambda x:x+1)\n",
    "df_credit_card_balance['TEMP_UTILIZATION'] = df_credit_card_balance['TEMP_AMT_BALANCE']/df_credit_card_balance['TEMP_AMT_CREDIT_LIMIT_ACTUAL']\n",
    "df_credit_card_balance['K_CREDIT_UTILIZATION_MEAN'] = df_credit_card_balance.groupby('SK_ID_CURR')['TEMP_UTILIZATION'].transform(np.mean)\n",
    "df_credit_card_balance['K_CREDIT_UTILIZATION_MIN'] = df_credit_card_balance.groupby('SK_ID_CURR')['TEMP_UTILIZATION'].transform(np.min)\n",
    "df_credit_card_balance['K_CREDIT_UTILIZATION_MAX'] = df_credit_card_balance.groupby('SK_ID_CURR')['TEMP_UTILIZATION'].transform(np.max)\n",
    "\n",
    "# #Validation: SK_ID_CURR = 105755\n",
    "# #AMT_DRAWINGS_CURRENT = AMT_DRAWINGS_ATM_CURRENT + AMT_DRAWINGS_OTHER_CURRENT + AMT_DRAWINGS_POS_CURRENT\n",
    "df_credit_card_balance['K_AMT_DRAWINGS_CURRENT_MEAN'] = df_credit_card_balance.groupby('SK_ID_CURR')['AMT_DRAWINGS_CURRENT'].transform(np.mean)\n",
    "df_credit_card_balance['K_AMT_DRAWINGS_CURRENT_MIN'] = df_credit_card_balance.groupby('SK_ID_CURR')['AMT_DRAWINGS_CURRENT'].transform(np.min)\n",
    "df_credit_card_balance['K_AMT_DRAWINGS_CURRENT_MAX'] = df_credit_card_balance.groupby('SK_ID_CURR')['AMT_DRAWINGS_CURRENT'].transform(np.max)\n",
    "\n",
    "df_credit_card_balance['TEMP_AMT_PAYMENT_TOTAL_CURRENT'] = df_credit_card_balance.groupby('SK_ID_CURR')['AMT_PAYMENT_TOTAL_CURRENT'].transform(lambda x:x+1)\n",
    "df_credit_card_balance['TEMP_AMT_TOTAL_RECEIVABLE'] = df_credit_card_balance.groupby('SK_ID_CURR')['AMT_TOTAL_RECEIVABLE'].transform(lambda x:x+1)\n",
    "df_credit_card_balance['TEMP_AMT_PAYMENT_OVER_RECEIVABLE'] = df_credit_card_balance['TEMP_AMT_PAYMENT_TOTAL_CURRENT']/df_credit_card_balance['TEMP_AMT_TOTAL_RECEIVABLE']\n",
    "df_credit_card_balance['K_AMT_PAYMENT_OVER_RECEIVABLE_MEAN'] = df_credit_card_balance.groupby('SK_ID_CURR')['TEMP_AMT_PAYMENT_OVER_RECEIVABLE'].transform(np.mean)\n",
    "df_credit_card_balance['K_AMT_PAYMENT_OVER_RECEIVABLE_MIN'] = df_credit_card_balance.groupby('SK_ID_CURR')['TEMP_AMT_PAYMENT_OVER_RECEIVABLE'].transform(np.min)\n",
    "df_credit_card_balance['K_AMT_PAYMENT_OVER_RECEIVABLE_MAX'] = df_credit_card_balance.groupby('SK_ID_CURR')['TEMP_AMT_PAYMENT_OVER_RECEIVABLE'].transform(np.max)\n",
    "\n",
    "# #CNT_DRAWINGS_CURRENT = CNT_DRAWINGS_ATM_CURRENT + CNT_DRAWINGS_OTHER_CURRENT + CNT_DRAWINGS_POS_CURRENT\n",
    "df_credit_card_balance['K_CNT_DRAWINGS_CURRENT_MEAN'] = df_credit_card_balance.groupby('SK_ID_CURR')['CNT_DRAWINGS_CURRENT'].transform(np.mean)\n",
    "df_credit_card_balance['K_CNT_DRAWINGS_CURRENT_MIN'] = df_credit_card_balance.groupby('SK_ID_CURR')['CNT_DRAWINGS_CURRENT'].transform(np.min)\n",
    "df_credit_card_balance['K_CNT_DRAWINGS_CURRENT_MAX'] = df_credit_card_balance.groupby('SK_ID_CURR')['CNT_DRAWINGS_CURRENT'].transform(np.max)\n",
    "\n",
    "\n",
    "# #Drop Duplicates\n",
    "df_credit_card_balance = df_credit_card_balance[['SK_ID_CURR', 'K_PREV_CREDIT_CARD_BALANCE_COUNT', 'K_MONTHS_BALANCE_MAX', 'K_MONTHS_BALANCE_MIN', 'K_CREDIT_UTILIZATION_MEAN', 'K_CREDIT_UTILIZATION_MIN', 'K_CREDIT_UTILIZATION_MAX', 'K_AMT_DRAWINGS_CURRENT_MEAN', 'K_AMT_DRAWINGS_CURRENT_MIN', 'K_AMT_DRAWINGS_CURRENT_MAX', 'K_AMT_PAYMENT_OVER_RECEIVABLE_MEAN', 'K_AMT_PAYMENT_OVER_RECEIVABLE_MIN', 'K_AMT_PAYMENT_OVER_RECEIVABLE_MAX', 'K_CNT_DRAWINGS_CURRENT_MEAN', 'K_CNT_DRAWINGS_CURRENT_MIN', 'K_CNT_DRAWINGS_CURRENT_MAX']].drop_duplicates()"
   ]
  },
  {
   "cell_type": "code",
   "execution_count": 286,
   "metadata": {
    "ExecuteTime": {
     "end_time": "2018-05-28T05:14:42.739430Z",
     "start_time": "2018-05-28T05:14:42.611776Z"
    }
   },
   "outputs": [
    {
     "name": "stdout",
     "output_type": "stream",
     "text": [
      "df_credit_card_balance (103558, 16)\n",
      "86905\n",
      "16653\n",
      "Sum:  103558\n"
     ]
    }
   ],
   "source": [
    "# #CHECKPOINT\n",
    "print(\"df_credit_card_balance\", df_credit_card_balance.shape)\n",
    "print(len(set(df_credit_card_balance[\"SK_ID_CURR\"]).intersection(set(df_application_train[\"SK_ID_CURR\"]))))\n",
    "print(len(set(df_credit_card_balance[\"SK_ID_CURR\"]).intersection(set(df_application_test[\"SK_ID_CURR\"]))))\n",
    "print(\"Sum: \", 86905 + 16653)"
   ]
  },
  {
   "cell_type": "code",
   "execution_count": null,
   "metadata": {},
   "outputs": [],
   "source": []
  },
  {
   "cell_type": "code",
   "execution_count": null,
   "metadata": {},
   "outputs": [],
   "source": []
  },
  {
   "cell_type": "markdown",
   "metadata": {},
   "source": [
    "## Feature: df_pos_cash_balance"
   ]
  },
  {
   "cell_type": "code",
   "execution_count": 287,
   "metadata": {
    "ExecuteTime": {
     "end_time": "2018-05-28T05:15:00.914659Z",
     "start_time": "2018-05-28T05:14:42.741426Z"
    }
   },
   "outputs": [],
   "source": [
    "df_pos_cash_balance['K_PREV_POS_CASH_BALANCE_COUNT'] = df_pos_cash_balance.groupby('SK_ID_CURR')['SK_ID_PREV'].transform('count')\n",
    "\n",
    "df_pos_cash_balance['K_MONTHS_BALANCE_POS_CASH_MAX'] = df_pos_cash_balance.groupby('SK_ID_CURR')['MONTHS_BALANCE'].transform(np.max)\n",
    "df_pos_cash_balance['K_MONTHS_BALANCE_POS_CASH_MIN'] = df_pos_cash_balance.groupby('SK_ID_CURR')['MONTHS_BALANCE'].transform(np.min)\n",
    "\n",
    "df_pos_cash_balance['K_CNT_INSTALMENT_MAX'] = df_pos_cash_balance.groupby('SK_ID_CURR')['CNT_INSTALMENT'].transform(np.max)\n",
    "df_pos_cash_balance['K_CNT_INSTALMENT_MIN'] = df_pos_cash_balance.groupby('SK_ID_CURR')['CNT_INSTALMENT'].transform(np.min)\n",
    "\n",
    "df_pos_cash_balance['K_CNT_INSTALMENT_FUTURE_MAX'] = df_pos_cash_balance.groupby('SK_ID_CURR')['CNT_INSTALMENT_FUTURE'].transform(np.max)\n",
    "df_pos_cash_balance['K_CNT_INSTALMENT_FUTURE_MIN'] = df_pos_cash_balance.groupby('SK_ID_CURR')['CNT_INSTALMENT_FUTURE'].transform(np.min)\n",
    "\n",
    "# #Drop Duplicates\n",
    "df_pos_cash_balance = df_pos_cash_balance[['SK_ID_CURR', 'K_PREV_POS_CASH_BALANCE_COUNT', 'K_MONTHS_BALANCE_POS_CASH_MAX', 'K_MONTHS_BALANCE_POS_CASH_MIN', 'K_CNT_INSTALMENT_MAX', 'K_CNT_INSTALMENT_MIN', 'K_CNT_INSTALMENT_FUTURE_MAX', 'K_CNT_INSTALMENT_FUTURE_MIN']].drop_duplicates()"
   ]
  },
  {
   "cell_type": "code",
   "execution_count": null,
   "metadata": {},
   "outputs": [],
   "source": []
  },
  {
   "cell_type": "code",
   "execution_count": null,
   "metadata": {},
   "outputs": [],
   "source": []
  },
  {
   "cell_type": "markdown",
   "metadata": {},
   "source": [
    "## Feature: df_previous_application"
   ]
  },
  {
   "cell_type": "code",
   "execution_count": 288,
   "metadata": {
    "ExecuteTime": {
     "end_time": "2018-05-28T05:15:34.013207Z",
     "start_time": "2018-05-28T05:15:00.918652Z"
    }
   },
   "outputs": [],
   "source": [
    "df_previous_application['K_PREV_PREVIOUS_APPLICATION_COUNT'] = df_previous_application.groupby('SK_ID_CURR')['SK_ID_PREV'].transform('count')\n",
    "\n",
    "df_previous_application['K_AMT_ANNUITY_MEAN'] = df_previous_application.groupby('SK_ID_CURR')['AMT_ANNUITY'].transform(np.mean)\n",
    "df_previous_application['K_AMT_ANNUITY_MAX'] = df_previous_application.groupby('SK_ID_CURR')['AMT_ANNUITY'].transform(np.max)\n",
    "df_previous_application['K_AMT_ANNUITY_MIN'] = df_previous_application.groupby('SK_ID_CURR')['AMT_ANNUITY'].transform(np.min)\n",
    "\n",
    "df_previous_application['TEMP_CREDIT_ALLOCATED'] = df_previous_application['AMT_CREDIT']/df_previous_application['AMT_APPLICATION']\n",
    "df_previous_application['K_CREDIT_ALLOCATED_MEAN'] = df_previous_application.groupby('SK_ID_CURR')['TEMP_CREDIT_ALLOCATED'].transform(np.mean)\n",
    "df_previous_application['K_CREDIT_ALLOCATED_MAX'] = df_previous_application.groupby('SK_ID_CURR')['TEMP_CREDIT_ALLOCATED'].transform(np.max)\n",
    "df_previous_application['K_CREDIT_ALLOCATED_MIN'] = df_previous_application.groupby('SK_ID_CURR')['TEMP_CREDIT_ALLOCATED'].transform(np.min)\n",
    "\n",
    "df_previous_application['K_AMT_DOWN_PAYMENT_MEAN'] = df_previous_application.groupby('SK_ID_CURR')['AMT_DOWN_PAYMENT'].transform(np.mean)\n",
    "df_previous_application['K_AMT_DOWN_PAYMENT_MAX'] = df_previous_application.groupby('SK_ID_CURR')['AMT_DOWN_PAYMENT'].transform(np.max)\n",
    "df_previous_application['K_AMT_DOWN_PAYMENT_MIN'] = df_previous_application.groupby('SK_ID_CURR')['AMT_DOWN_PAYMENT'].transform(np.min)\n",
    "\n",
    "df_previous_application['K_AMT_GOODS_PRICE_MEAN'] = df_previous_application.groupby('SK_ID_CURR')['AMT_GOODS_PRICE'].transform(np.mean)\n",
    "df_previous_application['K_AMT_GOODS_PRICE_MAX'] = df_previous_application.groupby('SK_ID_CURR')['AMT_GOODS_PRICE'].transform(np.max)\n",
    "df_previous_application['K_AMT_GOODS_PRICE_MIN'] = df_previous_application.groupby('SK_ID_CURR')['AMT_GOODS_PRICE'].transform(np.min)\n",
    "\n",
    "df_previous_application['K_DAYS_DECISION_MEAN'] = df_previous_application.groupby('SK_ID_CURR')['DAYS_DECISION'].transform(np.mean)\n",
    "df_previous_application['K_DAYS_DECISION_MAX'] = df_previous_application.groupby('SK_ID_CURR')['DAYS_DECISION'].transform(np.max)\n",
    "df_previous_application['K_DAYS_DECISION_MIN'] = df_previous_application.groupby('SK_ID_CURR')['DAYS_DECISION'].transform(np.min)\n",
    "\n",
    "df_previous_application['K_CNT_PAYMENT_MEAN'] = df_previous_application.groupby('SK_ID_CURR')['CNT_PAYMENT'].transform(np.mean)\n",
    "df_previous_application['K_CNT_PAYMENT_MAX'] = df_previous_application.groupby('SK_ID_CURR')['CNT_PAYMENT'].transform(np.max)\n",
    "df_previous_application['K_CNT_PAYMENT_MIN'] = df_previous_application.groupby('SK_ID_CURR')['CNT_PAYMENT'].transform(np.min)\n",
    "\n",
    "df_previous_application['K_DAYS_FIRST_DRAWING_MEAN'] = df_previous_application.groupby('SK_ID_CURR')['DAYS_FIRST_DRAWING'].transform(np.mean)\n",
    "df_previous_application['K_DAYS_FIRST_DRAWING_MAX'] = df_previous_application.groupby('SK_ID_CURR')['DAYS_FIRST_DRAWING'].transform(np.max)\n",
    "df_previous_application['K_DAYS_FIRST_DRAWING_MIN'] = df_previous_application.groupby('SK_ID_CURR')['DAYS_FIRST_DRAWING'].transform(np.min)\n",
    "\n",
    "df_previous_application['K_DAYS_FIRST_DUE_MEAN'] = df_previous_application.groupby('SK_ID_CURR')['DAYS_FIRST_DUE'].transform(np.mean)\n",
    "df_previous_application['K_DAYS_FIRST_DUE_MAX'] = df_previous_application.groupby('SK_ID_CURR')['DAYS_FIRST_DUE'].transform(np.max)\n",
    "df_previous_application['K_DAYS_FIRST_DUE_MIN'] = df_previous_application.groupby('SK_ID_CURR')['DAYS_FIRST_DUE'].transform(np.min)\n",
    "\n",
    "df_previous_application['K_DAYS_LAST_DUE_1ST_VERSION_MEAN'] = df_previous_application.groupby('SK_ID_CURR')['DAYS_LAST_DUE_1ST_VERSION'].transform(np.mean)\n",
    "df_previous_application['K_DAYS_LAST_DUE_1ST_VERSION_MAX'] = df_previous_application.groupby('SK_ID_CURR')['DAYS_LAST_DUE_1ST_VERSION'].transform(np.max)\n",
    "df_previous_application['K_DAYS_LAST_DUE_1ST_VERSION_MIN'] = df_previous_application.groupby('SK_ID_CURR')['DAYS_LAST_DUE_1ST_VERSION'].transform(np.min)\n",
    "\n",
    "df_previous_application['K_DAYS_LAST_DUE_MEAN'] = df_previous_application.groupby('SK_ID_CURR')['DAYS_LAST_DUE'].transform(np.mean)\n",
    "df_previous_application['K_DAYS_LAST_DUE_MAX'] = df_previous_application.groupby('SK_ID_CURR')['DAYS_LAST_DUE'].transform(np.max)\n",
    "df_previous_application['K_DAYS_LAST_DUE_MIN'] = df_previous_application.groupby('SK_ID_CURR')['DAYS_LAST_DUE'].transform(np.min)\n",
    "\n",
    "df_previous_application['K_DAYS_TERMINATION_MEAN'] = df_previous_application.groupby('SK_ID_CURR')['DAYS_TERMINATION'].transform(np.mean)\n",
    "df_previous_application['K_DAYS_TERMINATION_MAX'] = df_previous_application.groupby('SK_ID_CURR')['DAYS_TERMINATION'].transform(np.max)\n",
    "df_previous_application['K_DAYS_TERMINATION_MIN'] = df_previous_application.groupby('SK_ID_CURR')['DAYS_TERMINATION'].transform(np.min)\n",
    "\n",
    "\n",
    "# #Drop Duplicates\n",
    "df_previous_application = df_previous_application[['SK_ID_CURR', 'K_PREV_PREVIOUS_APPLICATION_COUNT', \n",
    "                                          'K_AMT_ANNUITY_MEAN', 'K_AMT_ANNUITY_MAX', 'K_AMT_ANNUITY_MIN',\n",
    "                                          'K_CREDIT_ALLOCATED_MEAN', 'K_CREDIT_ALLOCATED_MAX', 'K_CREDIT_ALLOCATED_MIN',\n",
    "                                          'K_AMT_DOWN_PAYMENT_MEAN', 'K_AMT_DOWN_PAYMENT_MAX', 'K_AMT_DOWN_PAYMENT_MIN',\n",
    "                                          'K_AMT_GOODS_PRICE_MEAN', 'K_AMT_GOODS_PRICE_MAX', 'K_AMT_GOODS_PRICE_MIN',\n",
    "                                          'K_DAYS_DECISION_MEAN', 'K_DAYS_DECISION_MAX', 'K_DAYS_DECISION_MIN',\n",
    "                                          'K_CNT_PAYMENT_MEAN', 'K_CNT_PAYMENT_MAX', 'K_CNT_PAYMENT_MIN',\n",
    "                                          'K_DAYS_FIRST_DRAWING_MEAN', 'K_DAYS_FIRST_DRAWING_MAX', 'K_DAYS_FIRST_DRAWING_MIN',\n",
    "                                          'K_DAYS_FIRST_DUE_MEAN', 'K_DAYS_FIRST_DUE_MAX', 'K_DAYS_FIRST_DUE_MIN',\n",
    "                                          'K_DAYS_LAST_DUE_1ST_VERSION_MEAN', 'K_DAYS_LAST_DUE_1ST_VERSION_MAX', 'K_DAYS_LAST_DUE_1ST_VERSION_MIN',\n",
    "                                          'K_DAYS_LAST_DUE_MEAN', 'K_DAYS_LAST_DUE_MAX', 'K_DAYS_LAST_DUE_MIN',\n",
    "                                          'K_DAYS_TERMINATION_MEAN', 'K_DAYS_TERMINATION_MAX', 'K_DAYS_TERMINATION_MIN']].drop_duplicates()"
   ]
  },
  {
   "cell_type": "code",
   "execution_count": null,
   "metadata": {},
   "outputs": [],
   "source": [
    "\n"
   ]
  },
  {
   "cell_type": "markdown",
   "metadata": {},
   "source": [
    "## Feature: df_bureau_balance"
   ]
  },
  {
   "cell_type": "code",
   "execution_count": 289,
   "metadata": {
    "ExecuteTime": {
     "end_time": "2018-05-28T05:15:46.119778Z",
     "start_time": "2018-05-28T05:15:34.016160Z"
    }
   },
   "outputs": [],
   "source": [
    "# df_bureau_balance['K_BUREAU_BALANCE_COUNT'] = df_bureau_balance.groupby('SK_ID_BUREAU')['SK_ID_BUREAU'].transform('count')\n",
    "\n",
    "df_bureau_balance['K_BUREAU_BALANCE_MONTHS_BALANCE_MEAN'] = df_bureau_balance.groupby('SK_ID_BUREAU')['MONTHS_BALANCE'].transform(np.mean)\n",
    "df_bureau_balance['K_BUREAU_BALANCE_MONTHS_BALANCE_MAX'] = df_bureau_balance.groupby('SK_ID_BUREAU')['MONTHS_BALANCE'].transform(np.max)\n",
    "df_bureau_balance['K_BUREAU_BALANCE_MONTHS_BALANCE_MIN'] = df_bureau_balance.groupby('SK_ID_BUREAU')['MONTHS_BALANCE'].transform(np.min)\n",
    "\n",
    "# #Drop Duplicates\n",
    "df_bureau_balance = df_bureau_balance[['SK_ID_BUREAU',\n",
    "                                                 'K_BUREAU_BALANCE_MONTHS_BALANCE_MEAN',\n",
    "                                                 'K_BUREAU_BALANCE_MONTHS_BALANCE_MAX',\n",
    "                                                'K_BUREAU_BALANCE_MONTHS_BALANCE_MIN']].drop_duplicates()"
   ]
  },
  {
   "cell_type": "code",
   "execution_count": 290,
   "metadata": {
    "ExecuteTime": {
     "end_time": "2018-05-28T05:15:46.252919Z",
     "start_time": "2018-05-28T05:15:46.122754Z"
    }
   },
   "outputs": [
    {
     "data": {
      "text/plain": [
       "817395"
      ]
     },
     "execution_count": 290,
     "metadata": {},
     "output_type": "execute_result"
    }
   ],
   "source": [
    "len(df_bureau_balance['SK_ID_BUREAU'].unique())"
   ]
  },
  {
   "cell_type": "markdown",
   "metadata": {},
   "source": [
    "## Feature: df_bureau"
   ]
  },
  {
   "cell_type": "code",
   "execution_count": 291,
   "metadata": {
    "ExecuteTime": {
     "end_time": "2018-05-28T05:15:46.383563Z",
     "start_time": "2018-05-28T05:15:46.256902Z"
    }
   },
   "outputs": [
    {
     "data": {
      "text/plain": [
       "1716428"
      ]
     },
     "execution_count": 291,
     "metadata": {},
     "output_type": "execute_result"
    }
   ],
   "source": [
    "len(df_bureau[\"SK_ID_BUREAU\"].unique())"
   ]
  },
  {
   "cell_type": "code",
   "execution_count": 292,
   "metadata": {
    "ExecuteTime": {
     "end_time": "2018-05-28T05:15:46.395531Z",
     "start_time": "2018-05-28T05:15:46.387557Z"
    }
   },
   "outputs": [
    {
     "data": {
      "text/plain": [
       "(1716428, 17)"
      ]
     },
     "execution_count": 292,
     "metadata": {},
     "output_type": "execute_result"
    }
   ],
   "source": [
    "df_bureau.shape"
   ]
  },
  {
   "cell_type": "code",
   "execution_count": 293,
   "metadata": {
    "ExecuteTime": {
     "end_time": "2018-05-28T05:15:47.924017Z",
     "start_time": "2018-05-28T05:15:46.398548Z"
    }
   },
   "outputs": [],
   "source": [
    "df_bureau = pd.merge(df_bureau, df_bureau_balance, on=\"SK_ID_BUREAU\", how=\"left\", suffixes=('_bureau', '_bureau_balance'))"
   ]
  },
  {
   "cell_type": "code",
   "execution_count": 294,
   "metadata": {
    "ExecuteTime": {
     "end_time": "2018-05-28T05:16:12.158546Z",
     "start_time": "2018-05-28T05:15:47.926013Z"
    }
   },
   "outputs": [],
   "source": [
    "df_bureau['K_BUREAU_COUNT'] = df_bureau.groupby('SK_ID_CURR')['SK_ID_BUREAU'].transform('count')\n",
    "\n",
    "df_bureau['K_BUREAU_DAYS_CREDIT_MEAN'] = df_bureau.groupby('SK_ID_CURR')['DAYS_CREDIT'].transform(np.mean)\n",
    "df_bureau['K_BUREAU_DAYS_CREDIT_MAX'] = df_bureau.groupby('SK_ID_CURR')['DAYS_CREDIT'].transform(np.max)\n",
    "df_bureau['K_BUREAU_DAYS_CREDIT_MIN'] = df_bureau.groupby('SK_ID_CURR')['DAYS_CREDIT'].transform(np.min)\n",
    "\n",
    "df_bureau['K_BUREAU_CREDIT_DAY_OVERDUE_MEAN'] = df_bureau.groupby('SK_ID_CURR')['CREDIT_DAY_OVERDUE'].transform(np.mean)\n",
    "df_bureau['K_BUREAU_CREDIT_DAY_OVERDUE_MAX'] = df_bureau.groupby('SK_ID_CURR')['CREDIT_DAY_OVERDUE'].transform(np.max)\n",
    "df_bureau['K_BUREAU_CREDIT_DAY_OVERDUE_MIN'] = df_bureau.groupby('SK_ID_CURR')['CREDIT_DAY_OVERDUE'].transform(np.min)\n",
    "\n",
    "df_bureau['K_BUREAU_DAYS_CREDIT_ENDDATE_MEAN'] = df_bureau.groupby('SK_ID_CURR')['DAYS_CREDIT_ENDDATE'].transform(np.mean)\n",
    "df_bureau['K_BUREAU_DAYS_CREDIT_ENDDATE_MAX'] = df_bureau.groupby('SK_ID_CURR')['DAYS_CREDIT_ENDDATE'].transform(np.max)\n",
    "df_bureau['K_BUREAU_DAYS_CREDIT_ENDDATE_MIN'] = df_bureau.groupby('SK_ID_CURR')['DAYS_CREDIT_ENDDATE'].transform(np.min)\n",
    "\n",
    "df_bureau['K_BUREAU_DAYS_ENDDATE_FACT_MEAN'] = df_bureau.groupby('SK_ID_CURR')['DAYS_ENDDATE_FACT'].transform(np.mean)\n",
    "df_bureau['K_BUREAU_DAYS_ENDDATE_FACT_MAX'] = df_bureau.groupby('SK_ID_CURR')['DAYS_ENDDATE_FACT'].transform(np.max)\n",
    "df_bureau['K_BUREAU_DAYS_ENDDATE_FACT_MIN'] = df_bureau.groupby('SK_ID_CURR')['DAYS_ENDDATE_FACT'].transform(np.min)\n",
    "\n",
    "df_bureau['K_BUREAU_AMT_CREDIT_MAX_OVERDUE_MEAN'] = df_bureau.groupby('SK_ID_CURR')['AMT_CREDIT_MAX_OVERDUE'].transform(np.mean)\n",
    "df_bureau['K_BUREAU_AMT_CREDIT_MAX_OVERDUE_MAX'] = df_bureau.groupby('SK_ID_CURR')['AMT_CREDIT_MAX_OVERDUE'].transform(np.max)\n",
    "df_bureau['K_BUREAU_AMT_CREDIT_MAX_OVERDUE_MIN'] = df_bureau.groupby('SK_ID_CURR')['AMT_CREDIT_MAX_OVERDUE'].transform(np.min)\n",
    "\n",
    "\n",
    "df_bureau['K_BUREAU_CNT_CREDIT_PROLONG_MAX'] = df_bureau.groupby('SK_ID_CURR')['CNT_CREDIT_PROLONG'].transform(np.max)\n",
    "\n",
    "# #To-Do: Calculate a utilization metric for some of the features below?\n",
    "df_bureau['K_BUREAU_AMT_CREDIT_SUM_MEAN'] = df_bureau.groupby('SK_ID_CURR')['AMT_CREDIT_SUM'].transform(np.mean)\n",
    "df_bureau['K_BUREAU_AMT_CREDIT_SUM_MAX'] = df_bureau.groupby('SK_ID_CURR')['AMT_CREDIT_SUM'].transform(np.max)\n",
    "df_bureau['K_BUREAU_AMT_CREDIT_SUM_MIN'] = df_bureau.groupby('SK_ID_CURR')['AMT_CREDIT_SUM'].transform(np.min)\n",
    "\n",
    "df_bureau['K_BUREAU_AMT_CREDIT_SUM_DEBT_MEAN'] = df_bureau.groupby('SK_ID_CURR')['AMT_CREDIT_SUM_DEBT'].transform(np.mean)\n",
    "df_bureau['K_BUREAU_AMT_CREDIT_SUM_DEBT_MAX'] = df_bureau.groupby('SK_ID_CURR')['AMT_CREDIT_SUM_DEBT'].transform(np.max)\n",
    "df_bureau['K_BUREAU_AMT_CREDIT_SUM_DEBT_MIN'] = df_bureau.groupby('SK_ID_CURR')['AMT_CREDIT_SUM_DEBT'].transform(np.min)\n",
    "\n",
    "df_bureau['K_BUREAU_AMT_CREDIT_SUM_LIMIT_MEAN'] = df_bureau.groupby('SK_ID_CURR')['AMT_CREDIT_SUM_LIMIT'].transform(np.mean)\n",
    "df_bureau['K_BUREAU_AMT_CREDIT_SUM_LIMIT_MAX'] = df_bureau.groupby('SK_ID_CURR')['AMT_CREDIT_SUM_LIMIT'].transform(np.max)\n",
    "df_bureau['K_BUREAU_AMT_CREDIT_SUM_LIMIT_MIN'] = df_bureau.groupby('SK_ID_CURR')['AMT_CREDIT_SUM_LIMIT'].transform(np.min)\n",
    "\n",
    "df_bureau['K_BUREAU_AMT_CREDIT_SUM_OVERDUE_MEAN'] = df_bureau.groupby('SK_ID_CURR')['AMT_CREDIT_SUM_OVERDUE'].transform(np.mean)\n",
    "df_bureau['K_BUREAU_AMT_CREDIT_SUM_OVERDUE_MAX'] = df_bureau.groupby('SK_ID_CURR')['AMT_CREDIT_SUM_OVERDUE'].transform(np.max)\n",
    "df_bureau['K_BUREAU_AMT_CREDIT_SUM_OVERDUE_MIN'] = df_bureau.groupby('SK_ID_CURR')['AMT_CREDIT_SUM_OVERDUE'].transform(np.min)\n",
    "\n",
    "df_bureau['K_BUREAU_AMT_ANNUITY_MEAN'] = df_bureau.groupby('SK_ID_CURR')['AMT_ANNUITY'].transform(np.mean)\n",
    "df_bureau['K_BUREAU_AMT_ANNUITY_MAX'] = df_bureau.groupby('SK_ID_CURR')['AMT_ANNUITY'].transform(np.max)\n",
    "df_bureau['K_BUREAU_AMT_ANNUITY_MIN'] = df_bureau.groupby('SK_ID_CURR')['AMT_ANNUITY'].transform(np.min)\n",
    "\n",
    "# #Added from df_bureau_balance\n",
    "df_bureau['K_BUREAU_BALANCE_MONTHS_BALANCE_MEAN'] = df_bureau.groupby('SK_ID_CURR')['K_BUREAU_BALANCE_MONTHS_BALANCE_MEAN'].transform(np.mean)\n",
    "df_bureau['K_BUREAU_BALANCE_MONTHS_BALANCE_MAX'] = df_bureau.groupby('SK_ID_CURR')['K_BUREAU_BALANCE_MONTHS_BALANCE_MAX'].transform(np.max)\n",
    "df_bureau['K_BUREAU_BALANCE_MONTHS_BALANCE_MIN'] = df_bureau.groupby('SK_ID_CURR')['K_BUREAU_BALANCE_MONTHS_BALANCE_MIN'].transform(np.min)\n",
    "\n",
    "\n",
    "# #Drop Duplicates\n",
    "df_bureau = df_bureau[['SK_ID_CURR', 'K_BUREAU_COUNT',\n",
    "                                      'K_BUREAU_DAYS_CREDIT_MEAN', 'K_BUREAU_DAYS_CREDIT_MAX', 'K_BUREAU_DAYS_CREDIT_MIN',\n",
    "                                      'K_BUREAU_CREDIT_DAY_OVERDUE_MEAN', 'K_BUREAU_CREDIT_DAY_OVERDUE_MAX', 'K_BUREAU_CREDIT_DAY_OVERDUE_MIN',\n",
    "                                      'K_BUREAU_DAYS_CREDIT_ENDDATE_MEAN', 'K_BUREAU_DAYS_CREDIT_ENDDATE_MAX', 'K_BUREAU_DAYS_CREDIT_ENDDATE_MIN',\n",
    "                                      'K_BUREAU_DAYS_ENDDATE_FACT_MEAN', 'K_BUREAU_DAYS_ENDDATE_FACT_MAX', 'K_BUREAU_DAYS_ENDDATE_FACT_MIN',\n",
    "                                      'K_BUREAU_AMT_CREDIT_MAX_OVERDUE_MEAN', 'K_BUREAU_AMT_CREDIT_MAX_OVERDUE_MAX', 'K_BUREAU_AMT_CREDIT_MAX_OVERDUE_MIN',\n",
    "                                      'K_BUREAU_CNT_CREDIT_PROLONG_MAX',\n",
    "                                      'K_BUREAU_AMT_CREDIT_SUM_MEAN', 'K_BUREAU_AMT_CREDIT_SUM_MAX', 'K_BUREAU_AMT_CREDIT_SUM_MIN',\n",
    "                                      'K_BUREAU_AMT_CREDIT_SUM_DEBT_MEAN', 'K_BUREAU_AMT_CREDIT_SUM_DEBT_MAX', 'K_BUREAU_AMT_CREDIT_SUM_DEBT_MIN',\n",
    "                                      'K_BUREAU_AMT_CREDIT_SUM_LIMIT_MEAN', 'K_BUREAU_AMT_CREDIT_SUM_LIMIT_MAX', 'K_BUREAU_AMT_CREDIT_SUM_LIMIT_MIN',\n",
    "                                      'K_BUREAU_AMT_CREDIT_SUM_OVERDUE_MEAN', 'K_BUREAU_AMT_CREDIT_SUM_OVERDUE_MAX', 'K_BUREAU_AMT_CREDIT_SUM_OVERDUE_MIN',\n",
    "                                      'K_BUREAU_AMT_ANNUITY_MEAN', 'K_BUREAU_AMT_ANNUITY_MAX', 'K_BUREAU_AMT_ANNUITY_MIN',\n",
    "                      'K_BUREAU_BALANCE_MONTHS_BALANCE_MEAN', 'K_BUREAU_BALANCE_MONTHS_BALANCE_MAX', 'K_BUREAU_BALANCE_MONTHS_BALANCE_MIN']].drop_duplicates()"
   ]
  },
  {
   "cell_type": "code",
   "execution_count": null,
   "metadata": {},
   "outputs": [],
   "source": []
  },
  {
   "cell_type": "code",
   "execution_count": null,
   "metadata": {},
   "outputs": [],
   "source": []
  },
  {
   "cell_type": "code",
   "execution_count": 298,
   "metadata": {
    "ExecuteTime": {
     "end_time": "2018-05-28T05:17:13.016189Z",
     "start_time": "2018-05-28T05:17:12.070017Z"
    }
   },
   "outputs": [
    {
     "data": {
      "text/plain": [
       "203"
      ]
     },
     "execution_count": 298,
     "metadata": {},
     "output_type": "execute_result"
    }
   ],
   "source": [
    "gc.collect()"
   ]
  },
  {
   "cell_type": "markdown",
   "metadata": {},
   "source": [
    "# Combine Datasets"
   ]
  },
  {
   "cell_type": "markdown",
   "metadata": {},
   "source": [
    "## Encode categorical columns"
   ]
  },
  {
   "cell_type": "code",
   "execution_count": 299,
   "metadata": {
    "ExecuteTime": {
     "end_time": "2018-05-28T05:17:14.167695Z",
     "start_time": "2018-05-28T05:17:13.146844Z"
    }
   },
   "outputs": [
    {
     "data": {
      "text/plain": [
       "112"
      ]
     },
     "execution_count": 299,
     "metadata": {},
     "output_type": "execute_result"
    }
   ],
   "source": [
    "arr_categorical_columns = df_application_train.select_dtypes(['object']).columns\n",
    "for var_col in arr_categorical_columns:\n",
    "    df_application_train[var_col] = df_application_train[var_col].astype('category').cat.codes\n",
    "gc.collect()\n",
    "\n",
    "arr_categorical_columns = df_application_test.select_dtypes(['object']).columns\n",
    "for var_col in arr_categorical_columns:\n",
    "    df_application_test[var_col] = df_application_test[var_col].astype('category').cat.codes\n",
    "gc.collect()\n",
    "\n",
    "# arr_categorical_columns = df_credit_card_balance.select_dtypes(['object']).columns\n",
    "# for var_col in arr_categorical_columns:\n",
    "#     df_credit_card_balance[var_col] = df_credit_card_balance[var_col].astype('category').cat.codes"
   ]
  },
  {
   "cell_type": "code",
   "execution_count": null,
   "metadata": {},
   "outputs": [],
   "source": []
  },
  {
   "cell_type": "markdown",
   "metadata": {
    "ExecuteTime": {
     "end_time": "2018-05-25T23:30:11.672680Z",
     "start_time": "2018-05-25T23:30:11.668692Z"
    }
   },
   "source": [
    "## Combine Datasets"
   ]
  },
  {
   "cell_type": "markdown",
   "metadata": {},
   "source": [
    "### df_installments_payments"
   ]
  },
  {
   "cell_type": "code",
   "execution_count": 300,
   "metadata": {
    "ExecuteTime": {
     "end_time": "2018-05-28T05:17:14.216564Z",
     "start_time": "2018-05-28T05:17:14.169654Z"
    }
   },
   "outputs": [],
   "source": [
    "df_installments_payments_train = df_installments_payments[df_installments_payments[\"SK_ID_CURR\"].isin(df_application_train[\"SK_ID_CURR\"])]\n",
    "df_installments_payments_test = df_installments_payments[df_installments_payments[\"SK_ID_CURR\"].isin(df_application_test[\"SK_ID_CURR\"])]"
   ]
  },
  {
   "cell_type": "code",
   "execution_count": 301,
   "metadata": {
    "ExecuteTime": {
     "end_time": "2018-05-28T05:17:16.477192Z",
     "start_time": "2018-05-28T05:17:14.218543Z"
    }
   },
   "outputs": [],
   "source": [
    "df_application_train = pd.merge(df_application_train, df_installments_payments_train, on=\"SK_ID_CURR\", how=\"outer\", suffixes=('_application', '_installments_payments'))\n",
    "df_application_test = pd.merge(df_application_test, df_installments_payments_test, on=\"SK_ID_CURR\", how=\"outer\", suffixes=('_application', '_installments_payments'))"
   ]
  },
  {
   "cell_type": "code",
   "execution_count": null,
   "metadata": {},
   "outputs": [],
   "source": []
  },
  {
   "cell_type": "markdown",
   "metadata": {},
   "source": [
    "### df_credit_card_balance"
   ]
  },
  {
   "cell_type": "code",
   "execution_count": 302,
   "metadata": {
    "ExecuteTime": {
     "end_time": "2018-05-28T05:17:16.517082Z",
     "start_time": "2018-05-28T05:17:16.480178Z"
    }
   },
   "outputs": [],
   "source": [
    "df_credit_card_balance_train = df_credit_card_balance[df_credit_card_balance[\"SK_ID_CURR\"].isin(df_application_train[\"SK_ID_CURR\"])]\n",
    "df_credit_card_balance_test = df_credit_card_balance[df_credit_card_balance[\"SK_ID_CURR\"].isin(df_application_test[\"SK_ID_CURR\"])]"
   ]
  },
  {
   "cell_type": "code",
   "execution_count": 303,
   "metadata": {
    "ExecuteTime": {
     "end_time": "2018-05-28T05:17:16.986768Z",
     "start_time": "2018-05-28T05:17:16.520098Z"
    }
   },
   "outputs": [],
   "source": [
    "df_application_train = pd.merge(df_application_train, df_credit_card_balance_train, on=\"SK_ID_CURR\", how=\"outer\", suffixes=('_application', '_credit_card_balance'))\n",
    "df_application_test = pd.merge(df_application_test, df_credit_card_balance_test, on=\"SK_ID_CURR\", how=\"outer\", suffixes=('_application', '_credit_card_balance'))"
   ]
  },
  {
   "cell_type": "code",
   "execution_count": null,
   "metadata": {},
   "outputs": [],
   "source": []
  },
  {
   "cell_type": "markdown",
   "metadata": {},
   "source": [
    "### df_pos_cash_balance"
   ]
  },
  {
   "cell_type": "code",
   "execution_count": 304,
   "metadata": {
    "ExecuteTime": {
     "end_time": "2018-05-28T05:17:17.049624Z",
     "start_time": "2018-05-28T05:17:16.988762Z"
    }
   },
   "outputs": [],
   "source": [
    "df_pos_cash_balance_train = df_pos_cash_balance[df_pos_cash_balance[\"SK_ID_CURR\"].isin(df_application_train[\"SK_ID_CURR\"])]\n",
    "df_pos_cash_balance_test = df_pos_cash_balance[df_pos_cash_balance[\"SK_ID_CURR\"].isin(df_application_test[\"SK_ID_CURR\"])]"
   ]
  },
  {
   "cell_type": "code",
   "execution_count": 305,
   "metadata": {
    "ExecuteTime": {
     "end_time": "2018-05-28T05:17:17.538328Z",
     "start_time": "2018-05-28T05:17:17.051594Z"
    }
   },
   "outputs": [],
   "source": [
    "df_application_train = pd.merge(df_application_train, df_pos_cash_balance_train, on=\"SK_ID_CURR\", how=\"outer\", suffixes=('_application', '_pos_cash_balance'))\n",
    "df_application_test = pd.merge(df_application_test, df_pos_cash_balance_test, on=\"SK_ID_CURR\", how=\"outer\", suffixes=('_application', '_pos_cash_balance'))"
   ]
  },
  {
   "cell_type": "code",
   "execution_count": null,
   "metadata": {},
   "outputs": [],
   "source": []
  },
  {
   "cell_type": "markdown",
   "metadata": {},
   "source": [
    "### df_previous_application"
   ]
  },
  {
   "cell_type": "code",
   "execution_count": 306,
   "metadata": {
    "ExecuteTime": {
     "end_time": "2018-05-28T05:17:17.649033Z",
     "start_time": "2018-05-28T05:17:17.540288Z"
    }
   },
   "outputs": [],
   "source": [
    "df_previous_application_train = df_previous_application[df_previous_application[\"SK_ID_CURR\"].isin(df_application_train[\"SK_ID_CURR\"])]\n",
    "df_previous_application_test = df_previous_application[df_previous_application[\"SK_ID_CURR\"].isin(df_application_test[\"SK_ID_CURR\"])]"
   ]
  },
  {
   "cell_type": "code",
   "execution_count": 307,
   "metadata": {
    "ExecuteTime": {
     "end_time": "2018-05-28T05:17:18.421142Z",
     "start_time": "2018-05-28T05:17:17.650992Z"
    }
   },
   "outputs": [],
   "source": [
    "df_application_train = pd.merge(df_application_train, df_previous_application_train, on=\"SK_ID_CURR\", how=\"outer\", suffixes=('_application', '_previous_application'))\n",
    "df_application_test = pd.merge(df_application_test, df_previous_application_test, on=\"SK_ID_CURR\", how=\"outer\", suffixes=('_application', '_previous_application'))"
   ]
  },
  {
   "cell_type": "code",
   "execution_count": null,
   "metadata": {},
   "outputs": [],
   "source": []
  },
  {
   "cell_type": "markdown",
   "metadata": {},
   "source": [
    "### df_bureau_balance and df_bureau"
   ]
  },
  {
   "cell_type": "code",
   "execution_count": 311,
   "metadata": {
    "ExecuteTime": {
     "end_time": "2018-05-28T05:17:18.904403Z",
     "start_time": "2018-05-28T05:17:18.788742Z"
    }
   },
   "outputs": [],
   "source": [
    "df_bureau_train = df_bureau[df_bureau[\"SK_ID_CURR\"].isin(df_application_train[\"SK_ID_CURR\"])]\n",
    "df_bureau_test = df_bureau[df_bureau[\"SK_ID_CURR\"].isin(df_application_test[\"SK_ID_CURR\"])]"
   ]
  },
  {
   "cell_type": "code",
   "execution_count": 312,
   "metadata": {
    "ExecuteTime": {
     "end_time": "2018-05-28T05:17:20.432396Z",
     "start_time": "2018-05-28T05:17:19.361671Z"
    }
   },
   "outputs": [],
   "source": [
    "df_application_train = pd.merge(df_application_train, df_bureau_train, on=\"SK_ID_CURR\", how=\"outer\", suffixes=('_application', '_bureau'))\n",
    "df_application_test = pd.merge(df_application_test, df_bureau_test, on=\"SK_ID_CURR\", how=\"outer\", suffixes=('_application', '_bureau'))"
   ]
  },
  {
   "cell_type": "code",
   "execution_count": null,
   "metadata": {},
   "outputs": [],
   "source": []
  },
  {
   "cell_type": "code",
   "execution_count": 313,
   "metadata": {
    "ExecuteTime": {
     "end_time": "2018-05-28T05:17:30.649722Z",
     "start_time": "2018-05-28T05:17:30.546002Z"
    }
   },
   "outputs": [
    {
     "data": {
      "text/plain": [
       "240"
      ]
     },
     "execution_count": 313,
     "metadata": {},
     "output_type": "execute_result"
    }
   ],
   "source": [
    "gc.collect()"
   ]
  },
  {
   "cell_type": "markdown",
   "metadata": {},
   "source": [
    "# Model Building"
   ]
  },
  {
   "cell_type": "markdown",
   "metadata": {
    "ExecuteTime": {
     "end_time": "2018-05-21T01:01:10.998981Z",
     "start_time": "2018-05-21T01:01:10.994983Z"
    }
   },
   "source": [
    "## Train-Validation Split"
   ]
  },
  {
   "cell_type": "code",
   "execution_count": 314,
   "metadata": {
    "ExecuteTime": {
     "end_time": "2018-05-28T05:17:33.209536Z",
     "start_time": "2018-05-28T05:17:31.541459Z"
    }
   },
   "outputs": [],
   "source": [
    "input_columns = df_application_train.columns\n",
    "input_columns = input_columns[input_columns != 'TARGET']\n",
    "target_column = 'TARGET'\n",
    "\n",
    "X = df_application_train[input_columns]\n",
    "y = df_application_train[target_column]\n",
    "gc.collect()\n",
    "X_train, X_test, y_train, y_test = train_test_split(X, y, random_state=42)"
   ]
  },
  {
   "cell_type": "code",
   "execution_count": 315,
   "metadata": {
    "ExecuteTime": {
     "end_time": "2018-05-28T05:17:33.220515Z",
     "start_time": "2018-05-28T05:17:33.210533Z"
    }
   },
   "outputs": [],
   "source": [
    "xgb_params = {\n",
    "    'seed': 42,\n",
    "    'booster': 'gbtree',   #Tree-based models\n",
    "    'silent': 0,           #Messages would be printed\n",
    "    'n_thread': -1,        #-1: all cores are used\n",
    "    'objective': 'binary:logistic',\n",
    "    'eval_metric': 'auc', \n",
    "\n",
    "    'eta': 0.15000000000000002,            #Learning rate- makes the model more robust via shrinkage\n",
    "    'min_child_weight': 12, #Tradeoff b/n over and underfitting\n",
    "    'max_depth': 5,        #Tradeoff b/n over and underfitting\n",
    "    'subsample': 0.8500000000000001,      #Fraction of observations to be randomly sampled for each tree\n",
    "    'alpha': 20.0, \n",
    "    'colsample_bytree': 0.6000000000000001,\n",
    "    'gamma': 0.85, \n",
    "    'lambda': 1.4,\n",
    "    'n_estimators': 270\n",
    "    \n",
    "}"
   ]
  },
  {
   "cell_type": "code",
   "execution_count": 290,
   "metadata": {
    "ExecuteTime": {
     "end_time": "2018-05-27T01:43:07.194621Z",
     "start_time": "2018-05-27T01:43:07.170688Z"
    }
   },
   "outputs": [],
   "source": [
    "def score(params):\n",
    "    num_round = int(params['n_estimators'])\n",
    "    del params['n_estimators']\n",
    "    \n",
    "    dtrain = xgb.DMatrix(X_train, y_train)\n",
    "    dtest = xgb.DMatrix(X_test, y_test)\n",
    "    watchlist = [(dtrain, 'train'), (dtest, 'valid')]\n",
    "    \n",
    "    xgb_model = xgb.train(xgb_params, dtrain, 270, evals=watchlist, verbose_eval=100)\n",
    "    predictions = xgb_model.predict(dtest, ntree_limit=xgb_model.best_iteration)\n",
    "    \n",
    "    score = roc_auc_score(y_test, predictions)\n",
    "    print(\"\\tScore {0}\\n\\n\".format(score))\n",
    "    loss = 1 - score\n",
    "    return {'loss': loss, 'status': STATUS_OK}"
   ]
  },
  {
   "cell_type": "code",
   "execution_count": 291,
   "metadata": {
    "ExecuteTime": {
     "end_time": "2018-05-27T01:43:07.816958Z",
     "start_time": "2018-05-27T01:43:07.788037Z"
    }
   },
   "outputs": [],
   "source": [
    "def optimize(evals, cores=-1, optimizer=tpe.suggest, random_state=0):\n",
    "    \n",
    "    space = {\n",
    "        'n_estimators': hp.quniform('n_estimators', 50, 1000, 1),\n",
    "        'eta': hp.quniform('eta', 0.025, 0.25, 0.025), \n",
    "        'max_depth':  hp.choice('max_depth', np.arange(1, 20, dtype=int)),\n",
    "        'min_child_weight': hp.quniform('min_child_weight', 1, 20, 1),\n",
    "        'subsample': hp.quniform('subsample', 0.5, 1, 0.05),\n",
    "        'gamma': hp.quniform('gamma', 0.5, 1, 0.05),\n",
    "        'colsample_bytree': hp.quniform('colsample_bytree', 0.5, 1, 0.05),\n",
    "        'alpha' :  hp.quniform('alpha', 0, 20, 1),\n",
    "        'lambda': hp.quniform('lambda', 1, 2, 0.1),\n",
    "        'nthread': -1,\n",
    "        'objective': 'binary:logistic',\n",
    "        'booster': 'gbtree',\n",
    "        'eval_metric': 'auc',\n",
    "        'seed': random_state\n",
    "    }\n",
    "    \n",
    "    best = fmin(score, space, algo=tpe.suggest, max_evals=evals)\n",
    "    return best"
   ]
  },
  {
   "cell_type": "code",
   "execution_count": 292,
   "metadata": {
    "ExecuteTime": {
     "end_time": "2018-05-27T01:50:40.451998Z",
     "start_time": "2018-05-27T01:43:10.019719Z"
    }
   },
   "outputs": [
    {
     "name": "stdout",
     "output_type": "stream",
     "text": [
      "[0]\ttrain-auc:0.692237\tvalid-auc:0.687399\n",
      "[100]\ttrain-auc:0.804466\tvalid-auc:0.774894\n",
      "[200]\ttrain-auc:0.825914\tvalid-auc:0.77782\n",
      "[269]\ttrain-auc:0.837815\tvalid-auc:0.778323\n",
      "\tScore 0.7783638522085083\n",
      "\n",
      "\n",
      "[0]\ttrain-auc:0.692237\tvalid-auc:0.687399\n",
      "[100]\ttrain-auc:0.804466\tvalid-auc:0.774894\n",
      "[200]\ttrain-auc:0.825914\tvalid-auc:0.77782\n",
      "[269]\ttrain-auc:0.837815\tvalid-auc:0.778323\n",
      "\tScore 0.7783638522085083\n",
      "\n",
      "\n",
      "[0]\ttrain-auc:0.692237\tvalid-auc:0.687399\n",
      "[100]\ttrain-auc:0.804466\tvalid-auc:0.774894\n",
      "[200]\ttrain-auc:0.825914\tvalid-auc:0.77782\n",
      "[269]\ttrain-auc:0.837815\tvalid-auc:0.778323\n",
      "\tScore 0.7783638522085083\n",
      "\n",
      "\n",
      "------------------------------------\n",
      "The best hyperparameters are:  \n",
      "\n",
      "{'alpha': 2.0, 'colsample_bytree': 0.75, 'eta': 0.1, 'gamma': 0.5, 'lambda': 1.2000000000000002, 'max_depth': 8, 'min_child_weight': 19.0, 'n_estimators': 941.0, 'subsample': 0.8500000000000001}\n"
     ]
    }
   ],
   "source": [
    "best_param = optimize(evals = 3, optimizer=tpe.suggest)\n",
    "print(\"------------------------------------\")\n",
    "print(\"The best hyperparameters are: \", \"\\n\")\n",
    "print(best_param)\n"
   ]
  },
  {
   "cell_type": "code",
   "execution_count": null,
   "metadata": {},
   "outputs": [],
   "source": []
  },
  {
   "cell_type": "code",
   "execution_count": 17,
   "metadata": {
    "ExecuteTime": {
     "end_time": "2018-05-24T03:44:08.173084Z",
     "start_time": "2018-05-24T03:40:10.144438Z"
    }
   },
   "outputs": [
    {
     "name": "stdout",
     "output_type": "stream",
     "text": [
      "[0]\ttrain-auc:0.727403\tvalid-auc:0.713529\n",
      "[100]\ttrain-auc:0.873175\tvalid-auc:0.754423\n",
      "[200]\ttrain-auc:0.922062\tvalid-auc:0.753007\n",
      "[269]\ttrain-auc:0.944288\tvalid-auc:0.750696\n"
     ]
    }
   ],
   "source": [
    "watchlist = [(xgb.DMatrix(X_train, y_train), 'train'), (xgb.DMatrix(X_test, y_test), 'valid')]\n",
    "model = xgb.train(xgb_params, xgb.DMatrix(X_train, y_train), 270, watchlist, maximize=True, verbose_eval=100)"
   ]
  },
  {
   "cell_type": "code",
   "execution_count": 316,
   "metadata": {
    "ExecuteTime": {
     "end_time": "2018-05-28T05:22:13.584935Z",
     "start_time": "2018-05-28T05:17:48.288263Z"
    }
   },
   "outputs": [
    {
     "name": "stdout",
     "output_type": "stream",
     "text": [
      "[0]\ttrain-auc:0.667336\tvalid-auc:0.663777\n",
      "[100]\ttrain-auc:0.804673\tvalid-auc:0.804159\n",
      "[200]\ttrain-auc:0.824678\tvalid-auc:0.823006\n",
      "[269]\ttrain-auc:0.836008\tvalid-auc:0.833985\n"
     ]
    }
   ],
   "source": [
    "# #Final Model\n",
    "gc.collect()\n",
    "watchlist = [(xgb.DMatrix(X_train, y_train), 'train'), (xgb.DMatrix(X_test, y_test), 'valid')]\n",
    "model = xgb.train(xgb_params, xgb.DMatrix(X, y), 270, watchlist, maximize=True, verbose_eval=100)"
   ]
  },
  {
   "cell_type": "code",
   "execution_count": null,
   "metadata": {},
   "outputs": [],
   "source": []
  },
  {
   "cell_type": "code",
   "execution_count": 317,
   "metadata": {
    "ExecuteTime": {
     "end_time": "2018-05-28T05:22:14.252151Z",
     "start_time": "2018-05-28T05:22:13.588925Z"
    }
   },
   "outputs": [],
   "source": [
    "df_predict = model.predict(xgb.DMatrix(df_application_test), ntree_limit=model.best_ntree_limit)"
   ]
  },
  {
   "cell_type": "code",
   "execution_count": 318,
   "metadata": {
    "ExecuteTime": {
     "end_time": "2018-05-28T05:22:14.466577Z",
     "start_time": "2018-05-28T05:22:14.254145Z"
    }
   },
   "outputs": [],
   "source": [
    "submission = pd.DataFrame()\n",
    "submission[\"SK_ID_CURR\"] =  df_application_test[\"SK_ID_CURR\"]\n",
    "submission[\"TARGET\"] =  df_predict\n",
    "\n",
    "submission.to_csv(\"../submissions/model_1_xgbstarter_updatedParams_v6.csv\", index=False)"
   ]
  },
  {
   "cell_type": "code",
   "execution_count": 319,
   "metadata": {
    "ExecuteTime": {
     "end_time": "2018-05-28T05:22:14.474565Z",
     "start_time": "2018-05-28T05:22:14.467577Z"
    }
   },
   "outputs": [
    {
     "data": {
      "text/plain": [
       "(48744, 2)"
      ]
     },
     "execution_count": 319,
     "metadata": {},
     "output_type": "execute_result"
    }
   ],
   "source": [
    "# #Should be 48744\n",
    "submission.shape"
   ]
  },
  {
   "cell_type": "code",
   "execution_count": null,
   "metadata": {},
   "outputs": [],
   "source": []
  },
  {
   "cell_type": "code",
   "execution_count": null,
   "metadata": {},
   "outputs": [],
   "source": []
  },
  {
   "cell_type": "code",
   "execution_count": 25,
   "metadata": {
    "ExecuteTime": {
     "end_time": "2018-05-24T15:03:23.517948Z",
     "start_time": "2018-05-24T15:03:23.503984Z"
    }
   },
   "outputs": [],
   "source": [
    "def score(params):\n",
    "\n",
    "    # #Reference: http://sbern.com/2017/05/03/optimizing-hyperparameters-with-hyperopt/\n",
    "    scores = []\n",
    "    \n",
    "    kf = StratifiedKFold(n_folds=20, random_state=RANDOM_STATE, shuffle = True)\n",
    "    for i, (train_index, test_index) in enumerate(kf.split(X, y)):\n",
    "        X_train, X_val = X[train_index], X[test_index]\n",
    "        y_train, y_val = y[train_index], y[test_index]    \n",
    "        \n",
    "        xgb_train = xgb.DMatrix(X_train, label=y_train)\n",
    "        xgb_val = xgb.DMatrix(X_val, label=y_val)\n",
    "        watchlist = [(xgb_train, 'train'), (xgb_val, 'eval')]\n",
    "        xgb_model = xgb.train(xgb_params, xgb_train, 1000, watchlist, verbose_eval=200) \n",
    "        \n",
    "        lg = xgb_model.predict(xgb_val, ntree_limit=model.best_ntree_limit) \n",
    "        res = [np.argmax(lg[i]) for i in range(lg.shape[0])]\n",
    "        scores.append(accuracy_score(y_val, res))\n",
    "        print('XGBoost', scores[-1])\n",
    "    \n",
    "    score = np.mean(scores)\n",
    "    \n",
    "    print(\"############### Score: {0}\".format(score))\n",
    "    print(\"############### Prms: \", params)\n",
    "    print('..........................')\n",
    "    \n",
    "    score = roc_auc_score(y_test, predictions)\n",
    "    print(\"\\tScore {0}\\n\\n\".format(score))\n",
    "    loss = 1 - score\n",
    "    return {'loss': loss, 'status': STATUS_OK}\n"
   ]
  }
 ],
 "metadata": {
  "kernelspec": {
   "display_name": "Python 3",
   "language": "python",
   "name": "python3"
  },
  "language_info": {
   "codemirror_mode": {
    "name": "ipython",
    "version": 3
   },
   "file_extension": ".py",
   "mimetype": "text/x-python",
   "name": "python",
   "nbconvert_exporter": "python",
   "pygments_lexer": "ipython3",
   "version": "3.6.3rc1"
  },
  "latex_envs": {
   "LaTeX_envs_menu_present": true,
   "autoclose": false,
   "autocomplete": true,
   "bibliofile": "biblio.bib",
   "cite_by": "apalike",
   "current_citInitial": 1,
   "eqLabelWithNumbers": true,
   "eqNumInitial": 1,
   "hotkeys": {
    "equation": "Ctrl-E",
    "itemize": "Ctrl-I"
   },
   "labels_anchors": false,
   "latex_user_defs": false,
   "report_style_numbering": false,
   "user_envs_cfg": false
  },
  "toc": {
   "nav_menu": {},
   "number_sections": true,
   "sideBar": true,
   "skip_h1_title": false,
   "title_cell": "Table of Contents",
   "title_sidebar": "Contents",
   "toc_cell": false,
   "toc_position": {},
   "toc_section_display": true,
   "toc_window_display": false
  }
 },
 "nbformat": 4,
 "nbformat_minor": 2
}
