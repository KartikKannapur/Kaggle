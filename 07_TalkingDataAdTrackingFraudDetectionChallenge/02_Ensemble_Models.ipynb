{
 "cells": [
  {
   "cell_type": "code",
   "execution_count": null,
   "metadata": {},
   "outputs": [],
   "source": []
  },
  {
   "cell_type": "code",
   "execution_count": 1,
   "metadata": {
    "ExecuteTime": {
     "end_time": "2018-03-19T21:08:27.339065Z",
     "start_time": "2018-03-19T21:08:19.071693Z"
    }
   },
   "outputs": [
    {
     "name": "stderr",
     "output_type": "stream",
     "text": [
      "c:\\users\\karti\\appdata\\local\\programs\\python\\python36\\lib\\site-packages\\sklearn\\cross_validation.py:41: DeprecationWarning: This module was deprecated in version 0.18 in favor of the model_selection module into which all the refactored classes and functions are moved. Also note that the interface of the new CV iterators are different from that of this module. This module will be removed in 0.20.\n",
      "  \"This module will be removed in 0.20.\", DeprecationWarning)\n"
     ]
    }
   ],
   "source": [
    "# #Python Libraries\n",
    "import numpy as np\n",
    "import scipy as sp\n",
    "import pandas as pd\n",
    "import statsmodels\n",
    "import pandas_profiling\n",
    "\n",
    "%matplotlib inline\n",
    "import matplotlib.pyplot as plt\n",
    "import seaborn as sns\n",
    "\n",
    "import os\n",
    "import sys\n",
    "import time\n",
    "import requests\n",
    "import datetime\n",
    "\n",
    "import missingno as msno\n",
    "import gc\n",
    "\n",
    "# from sklearn.model_selection import train_test_split\n",
    "from sklearn.model_selection import cross_val_score\n",
    "# #X_trainval, X_test, y_trainval, y_test = train_test_split(X, y)\n",
    "# #X_train, X_val, y_train, y_val = train_test_split(X_trainval, y_trainval)\n",
    "from sklearn.model_selection import GridSearchCV\n",
    "from sklearn.preprocessing import LabelEncoder\n",
    "\n",
    "from sklearn.cross_validation import train_test_split\n",
    "import xgboost as xgb"
   ]
  },
  {
   "cell_type": "markdown",
   "metadata": {},
   "source": [
    "# Ensemble - My XGBoost Model with Kaggle LB Train subset and Custome Features with https://www.kaggle.com/cttsai/blend-app-channel-and-app-mean/code"
   ]
  },
  {
   "cell_type": "code",
   "execution_count": 1,
   "metadata": {
    "ExecuteTime": {
     "end_time": "2018-03-12T05:46:09.260287Z",
     "start_time": "2018-03-12T05:46:08.438342Z"
    }
   },
   "outputs": [
    {
     "name": "stdout",
     "output_type": "stream",
     "text": [
      "18790470 model_3_xbg_submission_v4.csv\n"
     ]
    }
   ],
   "source": [
    "!wc -l model_3_xbg_submission_v4.csv"
   ]
  },
  {
   "cell_type": "code",
   "execution_count": 2,
   "metadata": {
    "ExecuteTime": {
     "end_time": "2018-03-12T05:46:14.874428Z",
     "start_time": "2018-03-12T05:46:13.741048Z"
    }
   },
   "outputs": [
    {
     "name": "stdout",
     "output_type": "stream",
     "text": [
      "18790470 model_kaggle_lb_submission_appmean.csv\n"
     ]
    }
   ],
   "source": [
    "!wc -l model_kaggle_lb_submission_appmean.csv"
   ]
  },
  {
   "cell_type": "code",
   "execution_count": 4,
   "metadata": {
    "ExecuteTime": {
     "end_time": "2018-03-12T05:47:38.388145Z",
     "start_time": "2018-03-12T05:47:13.031866Z"
    }
   },
   "outputs": [],
   "source": [
    "df_1 = pd.read_csv(\"model_3_xbg_submission_v4.csv\")\n",
    "df_2 = pd.read_csv(\"model_kaggle_lb_submission_appmean.csv\")"
   ]
  },
  {
   "cell_type": "code",
   "execution_count": 14,
   "metadata": {
    "ExecuteTime": {
     "end_time": "2018-03-12T06:51:33.272131Z",
     "start_time": "2018-03-12T06:51:33.263113Z"
    }
   },
   "outputs": [
    {
     "data": {
      "text/html": [
       "<div>\n",
       "<style scoped>\n",
       "    .dataframe tbody tr th:only-of-type {\n",
       "        vertical-align: middle;\n",
       "    }\n",
       "\n",
       "    .dataframe tbody tr th {\n",
       "        vertical-align: top;\n",
       "    }\n",
       "\n",
       "    .dataframe thead th {\n",
       "        text-align: right;\n",
       "    }\n",
       "</style>\n",
       "<table border=\"1\" class=\"dataframe\">\n",
       "  <thead>\n",
       "    <tr style=\"text-align: right;\">\n",
       "      <th></th>\n",
       "      <th>click_id</th>\n",
       "      <th>is_attributed</th>\n",
       "    </tr>\n",
       "  </thead>\n",
       "  <tbody>\n",
       "    <tr>\n",
       "      <th>0</th>\n",
       "      <td>0</td>\n",
       "      <td>0.000199</td>\n",
       "    </tr>\n",
       "    <tr>\n",
       "      <th>1</th>\n",
       "      <td>1</td>\n",
       "      <td>0.000117</td>\n",
       "    </tr>\n",
       "    <tr>\n",
       "      <th>2</th>\n",
       "      <td>2</td>\n",
       "      <td>0.000155</td>\n",
       "    </tr>\n",
       "    <tr>\n",
       "      <th>3</th>\n",
       "      <td>3</td>\n",
       "      <td>0.000135</td>\n",
       "    </tr>\n",
       "    <tr>\n",
       "      <th>4</th>\n",
       "      <td>4</td>\n",
       "      <td>0.000178</td>\n",
       "    </tr>\n",
       "  </tbody>\n",
       "</table>\n",
       "</div>"
      ],
      "text/plain": [
       "   click_id  is_attributed\n",
       "0         0       0.000199\n",
       "1         1       0.000117\n",
       "2         2       0.000155\n",
       "3         3       0.000135\n",
       "4         4       0.000178"
      ]
     },
     "execution_count": 14,
     "metadata": {},
     "output_type": "execute_result"
    }
   ],
   "source": [
    "df_1.head()"
   ]
  },
  {
   "cell_type": "code",
   "execution_count": 15,
   "metadata": {
    "ExecuteTime": {
     "end_time": "2018-03-12T06:51:33.906010Z",
     "start_time": "2018-03-12T06:51:33.898007Z"
    }
   },
   "outputs": [
    {
     "data": {
      "text/html": [
       "<div>\n",
       "<style scoped>\n",
       "    .dataframe tbody tr th:only-of-type {\n",
       "        vertical-align: middle;\n",
       "    }\n",
       "\n",
       "    .dataframe tbody tr th {\n",
       "        vertical-align: top;\n",
       "    }\n",
       "\n",
       "    .dataframe thead th {\n",
       "        text-align: right;\n",
       "    }\n",
       "</style>\n",
       "<table border=\"1\" class=\"dataframe\">\n",
       "  <thead>\n",
       "    <tr style=\"text-align: right;\">\n",
       "      <th></th>\n",
       "      <th>click_id</th>\n",
       "      <th>is_attributed</th>\n",
       "    </tr>\n",
       "  </thead>\n",
       "  <tbody>\n",
       "    <tr>\n",
       "      <th>0</th>\n",
       "      <td>0</td>\n",
       "      <td>0.001152</td>\n",
       "    </tr>\n",
       "    <tr>\n",
       "      <th>1</th>\n",
       "      <td>1</td>\n",
       "      <td>0.001221</td>\n",
       "    </tr>\n",
       "    <tr>\n",
       "      <th>2</th>\n",
       "      <td>2</td>\n",
       "      <td>0.000111</td>\n",
       "    </tr>\n",
       "    <tr>\n",
       "      <th>3</th>\n",
       "      <td>3</td>\n",
       "      <td>0.000228</td>\n",
       "    </tr>\n",
       "    <tr>\n",
       "      <th>4</th>\n",
       "      <td>4</td>\n",
       "      <td>0.000106</td>\n",
       "    </tr>\n",
       "  </tbody>\n",
       "</table>\n",
       "</div>"
      ],
      "text/plain": [
       "   click_id  is_attributed\n",
       "0         0       0.001152\n",
       "1         1       0.001221\n",
       "2         2       0.000111\n",
       "3         3       0.000228\n",
       "4         4       0.000106"
      ]
     },
     "execution_count": 15,
     "metadata": {},
     "output_type": "execute_result"
    }
   ],
   "source": [
    "df_2.head()"
   ]
  },
  {
   "cell_type": "code",
   "execution_count": 16,
   "metadata": {
    "ExecuteTime": {
     "end_time": "2018-03-12T06:51:35.605645Z",
     "start_time": "2018-03-12T06:51:34.389631Z"
    }
   },
   "outputs": [],
   "source": [
    "sub = pd.DataFrame()\n",
    "sub['click_id'] = df_1['click_id']"
   ]
  },
  {
   "cell_type": "code",
   "execution_count": 17,
   "metadata": {
    "ExecuteTime": {
     "end_time": "2018-03-12T06:51:36.163962Z",
     "start_time": "2018-03-12T06:51:35.806698Z"
    }
   },
   "outputs": [],
   "source": [
    "weight_df1 = 0.5\n",
    "weight_df2 = 0.5\n",
    "sub['is_attributed'] = (df_1['is_attributed']*weight_df1 + df_2['is_attributed']*weight_df2)"
   ]
  },
  {
   "cell_type": "code",
   "execution_count": 18,
   "metadata": {
    "ExecuteTime": {
     "end_time": "2018-03-12T06:51:37.163453Z",
     "start_time": "2018-03-12T06:51:37.155440Z"
    }
   },
   "outputs": [
    {
     "data": {
      "text/html": [
       "<div>\n",
       "<style scoped>\n",
       "    .dataframe tbody tr th:only-of-type {\n",
       "        vertical-align: middle;\n",
       "    }\n",
       "\n",
       "    .dataframe tbody tr th {\n",
       "        vertical-align: top;\n",
       "    }\n",
       "\n",
       "    .dataframe thead th {\n",
       "        text-align: right;\n",
       "    }\n",
       "</style>\n",
       "<table border=\"1\" class=\"dataframe\">\n",
       "  <thead>\n",
       "    <tr style=\"text-align: right;\">\n",
       "      <th></th>\n",
       "      <th>click_id</th>\n",
       "      <th>is_attributed</th>\n",
       "    </tr>\n",
       "  </thead>\n",
       "  <tbody>\n",
       "    <tr>\n",
       "      <th>0</th>\n",
       "      <td>0</td>\n",
       "      <td>0.000771</td>\n",
       "    </tr>\n",
       "    <tr>\n",
       "      <th>1</th>\n",
       "      <td>1</td>\n",
       "      <td>0.000779</td>\n",
       "    </tr>\n",
       "    <tr>\n",
       "      <th>2</th>\n",
       "      <td>2</td>\n",
       "      <td>0.000128</td>\n",
       "    </tr>\n",
       "    <tr>\n",
       "      <th>3</th>\n",
       "      <td>3</td>\n",
       "      <td>0.000191</td>\n",
       "    </tr>\n",
       "    <tr>\n",
       "      <th>4</th>\n",
       "      <td>4</td>\n",
       "      <td>0.000135</td>\n",
       "    </tr>\n",
       "  </tbody>\n",
       "</table>\n",
       "</div>"
      ],
      "text/plain": [
       "   click_id  is_attributed\n",
       "0         0       0.000771\n",
       "1         1       0.000779\n",
       "2         2       0.000128\n",
       "3         3       0.000191\n",
       "4         4       0.000135"
      ]
     },
     "execution_count": 18,
     "metadata": {},
     "output_type": "execute_result"
    }
   ],
   "source": [
    "sub.head()"
   ]
  },
  {
   "cell_type": "code",
   "execution_count": 19,
   "metadata": {
    "ExecuteTime": {
     "end_time": "2018-03-12T06:52:44.353188Z",
     "start_time": "2018-03-12T06:51:37.733744Z"
    }
   },
   "outputs": [],
   "source": [
    "sub.to_csv('model_4_ensemble_xbg_kagglelbappmean_subv1.csv',index=False)"
   ]
  },
  {
   "cell_type": "code",
   "execution_count": 20,
   "metadata": {
    "ExecuteTime": {
     "end_time": "2018-03-12T06:53:44.920491Z",
     "start_time": "2018-03-12T06:53:44.821227Z"
    }
   },
   "outputs": [
    {
     "name": "stdout",
     "output_type": "stream",
     "text": [
      "click_id,is_attributed\n",
      "0,0.0007708096739402926\n",
      "1,0.0007790307139447393\n",
      "2,0.0001282442026580456\n",
      "3,0.00019059597977662886\n",
      "4,0.00013496466976006133\n",
      "5,0.00039491701885281883\n",
      "6,0.0001990566928027148\n",
      "7,0.0007400964701527287\n",
      "9,0.0003498106948528188\n"
     ]
    }
   ],
   "source": [
    "!head model_4_ensemble_xbg_kagglelbappmean_subv1.csv"
   ]
  },
  {
   "cell_type": "code",
   "execution_count": 21,
   "metadata": {
    "ExecuteTime": {
     "end_time": "2018-03-12T06:53:47.425203Z",
     "start_time": "2018-03-12T06:53:46.886443Z"
    }
   },
   "outputs": [
    {
     "name": "stdout",
     "output_type": "stream",
     "text": [
      "18790470 model_4_ensemble_xbg_kagglelbappmean_subv1.csv\n"
     ]
    }
   ],
   "source": [
    "!wc -l model_4_ensemble_xbg_kagglelbappmean_subv1.csv"
   ]
  },
  {
   "cell_type": "markdown",
   "metadata": {},
   "source": [
    "# Ensemble 2"
   ]
  },
  {
   "cell_type": "code",
   "execution_count": 1,
   "metadata": {
    "ExecuteTime": {
     "end_time": "2018-03-13T04:01:37.170140Z",
     "start_time": "2018-03-13T04:01:35.020935Z"
    }
   },
   "outputs": [
    {
     "name": "stdout",
     "output_type": "stream",
     "text": [
      "  18790470 ensemble_data/ftrl_submission.csv\n",
      "  18790470 ensemble_data/kartik_ensemble_1.csv\n",
      "  18790470 ensemble_data/lgb_sub_tint.csv\n",
      "  18790470 ensemble_data/sub_lgb_balanced99.csv\n",
      "  18790470 ensemble_data/sub_mix.csv\n",
      "  93952350 total\n"
     ]
    }
   ],
   "source": [
    "!wc -l ensemble_data/*"
   ]
  },
  {
   "cell_type": "code",
   "execution_count": 5,
   "metadata": {
    "ExecuteTime": {
     "end_time": "2018-03-13T04:03:24.274808Z",
     "start_time": "2018-03-13T04:02:54.191842Z"
    }
   },
   "outputs": [],
   "source": [
    "df_1 = pd.read_csv(\"ensemble_data/ftrl_submission.csv\")\n",
    "df_2 = pd.read_csv(\"ensemble_data/kartik_ensemble_1.csv\")\n",
    "df_3 = pd.read_csv(\"ensemble_data/lgb_sub_tint.csv\")\n",
    "df_4 = pd.read_csv(\"ensemble_data/sub_lgb_balanced99.csv\")\n",
    "df_5 = pd.read_csv(\"ensemble_data/sub_mix.csv\")"
   ]
  },
  {
   "cell_type": "code",
   "execution_count": 6,
   "metadata": {
    "ExecuteTime": {
     "end_time": "2018-03-13T04:04:31.015064Z",
     "start_time": "2018-03-13T04:04:29.825828Z"
    }
   },
   "outputs": [],
   "source": [
    "sub = pd.DataFrame()\n",
    "sub['click_id'] = df_2['click_id']"
   ]
  },
  {
   "cell_type": "code",
   "execution_count": 7,
   "metadata": {
    "ExecuteTime": {
     "end_time": "2018-03-13T04:04:33.843732Z",
     "start_time": "2018-03-13T04:04:33.024593Z"
    }
   },
   "outputs": [],
   "source": [
    "weight_df1 = 0.2\n",
    "weight_df2 = 0.2\n",
    "weight_df3 = 0.2\n",
    "weight_df4 = 0.2\n",
    "weight_df5 = 0.2\n",
    "sub['is_attributed'] = (df_1['is_attributed']*weight_df1 + \n",
    "                        df_2['is_attributed']*weight_df2 + \n",
    "                        df_3['is_attributed']*weight_df3 +\n",
    "                        df_4['is_attributed']*weight_df4 + \n",
    "                        df_5['is_attributed']*weight_df5)"
   ]
  },
  {
   "cell_type": "code",
   "execution_count": 8,
   "metadata": {
    "ExecuteTime": {
     "end_time": "2018-03-13T04:05:53.002182Z",
     "start_time": "2018-03-13T04:04:52.288337Z"
    }
   },
   "outputs": [],
   "source": [
    "sub.to_csv('model_5_ensemble_5csvs.csv',index=False)"
   ]
  },
  {
   "cell_type": "code",
   "execution_count": 9,
   "metadata": {
    "ExecuteTime": {
     "end_time": "2018-03-13T04:06:02.051572Z",
     "start_time": "2018-03-13T04:06:01.995400Z"
    }
   },
   "outputs": [
    {
     "name": "stdout",
     "output_type": "stream",
     "text": [
      "click_id,is_attributed\n",
      "0,0.16122287281823855\n",
      "1,0.16925022380114538\n",
      "2,0.058899402505327596\n",
      "3,0.12454995430063484\n",
      "4,0.05288637108890904\n",
      "5,0.17074734248496462\n",
      "6,0.08237688101932572\n",
      "7,0.19237944852967043\n",
      "9,0.1427302100946004\n"
     ]
    }
   ],
   "source": [
    "!head model_5_ensemble_5csvs.csv"
   ]
  },
  {
   "cell_type": "code",
   "execution_count": null,
   "metadata": {},
   "outputs": [],
   "source": []
  },
  {
   "cell_type": "markdown",
   "metadata": {},
   "source": [
    "# Ensemble 3"
   ]
  },
  {
   "cell_type": "code",
   "execution_count": 6,
   "metadata": {
    "ExecuteTime": {
     "end_time": "2018-03-19T21:59:20.750972Z",
     "start_time": "2018-03-19T21:55:01.947245Z"
    }
   },
   "outputs": [
    {
     "name": "stdout",
     "output_type": "stream",
     "text": [
      "1.0\n",
      "xgb 1.6089018201524738\n",
      "ftrl1 1.7997105120220467\n",
      "lgb 1.6161302763780279\n",
      "dl_support 2.1093812464319406\n"
     ]
    }
   ],
   "source": [
    "\"\"\"\n",
    "xgb - https://www.kaggle.com/pranav84/xgboost-on-hist-mode-ip-addresses-dropped\n",
    "ftrl - https://www.kaggle.com/ogrellier/ftrl-in-chunck\n",
    "nn - https://www.kaggle.com/shujian/mlp-starter?scriptVersionId=2754301\n",
    "lgb - https://www.kaggle.com/pranav84/lightgbm-fixing-unbalanced-data-val-auc-0-977?scriptVersionId=2761828\n",
    "usam - https://www.kaggle.com/cartographic/undersampler\n",
    "means - https://www.kaggle.com/prashantkikani/weighted-app-chanel-os\n",
    "\n",
    "\"\"\"\n",
    "# #LOGIT_WEIGHT = .5 #0.9640\n",
    "LOGIT_WEIGHT = .8\n",
    "\n",
    "import numpy as np # linear algebra\n",
    "import pandas as pd # data processing, CSV file I/O (e.g. pd.read_csv)\n",
    "from scipy.special import expit, logit\n",
    "\n",
    "almost_zero = 1e-10\n",
    "almost_one = 1 - almost_zero\n",
    "\n",
    "\"\"\"\n",
    "Ensemble 3.1 - 0.9640\n",
    "models = {\n",
    "  'xgb  ':  \"ensemble_data/sub_xgb_hist_pos_weight_9591.csv\",\n",
    "  'ftrl1':  \"ensemble_data/ftrl_submission.csv\",\n",
    "  'nn   ':  \"ensemble_data/sub_mlp_9502.csv\",\n",
    "  'lgb  ':  \"ensemble_data/sub_lgb_balanced99_9631.csv\",\n",
    "  'usam ':  \"ensemble_data/pred_9562.csv\",\n",
    "  'means':  \"ensemble_data/subnew_9565.csv\",\n",
    "  'ftrl2':  \"ensemble_data/ftrl_submission.csv\"\n",
    "  }\n",
    "  \n",
    "weights = {\n",
    "  'xgb  ':  .08,\n",
    "  'ftrl1':  .04,\n",
    "  'nn   ':  .05,\n",
    "  'lgb  ':  .65,\n",
    "  'usam ':  .05,\n",
    "  'means':  .07,\n",
    "  'ftrl2':  .06\n",
    "  }\n",
    "\"\"\"\n",
    "\n",
    "\"\"\"\n",
    "Ensemble 3.2 - 0.9642\n",
    "models = {\n",
    "  'xgb  ':  \"ensemble_data/xgb_sub_9610.csv\",\n",
    "  'ftrl1':  \"ensemble_data/ftrl_submission_9606.csv\",\n",
    "  'nn   ':  \"ensemble_data/sub_mlp_9502.csv\",\n",
    "  'lgb  ':  \"ensemble_data/sub_lgb_balanced99_9631.csv\",\n",
    "  'usam ':  \"ensemble_data/pred_9562.csv\",\n",
    "  'means':  \"ensemble_data/subnew_9565.csv\",\n",
    "  'ftrl2':  \"ensemble_data/ftrl_submission_9606.csv\"\n",
    "  }\n",
    "  \n",
    "weights = {\n",
    "  'xgb  ':  .10,\n",
    "  'ftrl1':  .04,\n",
    "  'nn   ':  .05,\n",
    "  'lgb  ':  .60,\n",
    "  'usam ':  .05,\n",
    "  'means':  .07,\n",
    "  'ftrl2':  .09\n",
    "  }\n",
    "  \n",
    "\"\"\"\n",
    "\n",
    "\"\"\"\n",
    "Ensemble 3.3 - Same as the one above without the Neural Network - 0.9651\n",
    "models = {\n",
    "  'xgb  ':  \"ensemble_data/xgb_sub_9610.csv\",\n",
    "  'ftrl1':  \"ensemble_data/ftrl_submission_9606.csv\",\n",
    "  'lgb  ':  \"ensemble_data/sub_lgb_balanced99_9631.csv\",\n",
    "  'usam ':  \"ensemble_data/pred_9562.csv\",\n",
    "  'means':  \"ensemble_data/subnew_9565.csv\",\n",
    "  'ftrl2':  \"ensemble_data/ftrl_submission_9606.csv\"\n",
    "  }\n",
    "  \n",
    "weights = {\n",
    "  'xgb  ':  .15,\n",
    "  'ftrl1':  .04,\n",
    "  'lgb  ':  .60,\n",
    "  'usam ':  .05,\n",
    "  'means':  .07,\n",
    "  'ftrl2':  .09\n",
    "  }\n",
    "\"\"\"\n",
    "\n",
    "\"\"\"\n",
    "Ensemble 3.4 - Same as the one above, modified weights - 0.9653\n",
    "models = {\n",
    "  'xgb  ':  \"ensemble_data/xgb_sub_9610.csv\",\n",
    "  'ftrl1':  \"ensemble_data/ftrl_submission_9606.csv\",\n",
    "  'lgb  ':  \"ensemble_data/sub_lgb_balanced99_9631.csv\",\n",
    "  'means':  \"ensemble_data/subnew_9565.csv\",\n",
    "  'ftrl2':  \"ensemble_data/ftrl_submission_9606.csv\"\n",
    "  }\n",
    "  \n",
    "weights = {\n",
    "  'xgb  ':  .20,\n",
    "  'ftrl1':  .06,\n",
    "  'lgb  ':  .60,\n",
    "  'means':  .05,\n",
    "  'ftrl2':  .09\n",
    "  }\n",
    "\"\"\"\n",
    "\"\"\"\n",
    "Ensemble 3.5 - Same as the one above, modified weights - 0.9680\n",
    "models = {\n",
    "  'xgb  ':  \"ensemble_data/xgb_sub_9635.csv\",\n",
    "  'ftrl1':  \"ensemble_data/ftrl_submission_9606.csv\",\n",
    "  'lgb  ':  \"ensemble_data/sub_lgb_balanced99_9667.csv\",\n",
    "  'ftrl2':  \"ensemble_data/ftrl_submission_9606.csv\"\n",
    "  }\n",
    "  \n",
    "weights = {\n",
    "  'xgb  ':  .25,\n",
    "  'ftrl1':  .06,\n",
    "  'lgb  ':  .60,\n",
    "  'ftrl2':  .09\n",
    "  }\n",
    "\"\"\"\n",
    "\n",
    "\"\"\" - 0.9684\n",
    "LOGIT_WEIGHT = .8\n",
    "models = {\n",
    "\n",
    "    'xgb':  \"ensemble_data/xgb_sub_9645.csv\",\n",
    "    'ftrl1':  \"ensemble_data/wordbatch_fm_ftrl_9615.csv\",\n",
    "    'lgb':  \"ensemble_data/sub_lgb_balanced99_9675.csv\",\n",
    "    'dl_support': \"ensemble_data/dl_support_9653.csv\"\n",
    "}\n",
    "  \n",
    "weights = {\n",
    "    'xgb':  .10,\n",
    "    'ftrl1':  .10,\n",
    "    'lgb':  .60,\n",
    "    'dl_support': .20\n",
    "}\n",
    "\"\"\"\n",
    "\n",
    "LOGIT_WEIGHT = .2\n",
    "models = {\n",
    "\n",
    "    'xgb':  \"ensemble_data/xgb_sub_9645.csv\",\n",
    "    'ftrl1':  \"ensemble_data/wordbatch_fm_ftrl_9615.csv\",\n",
    "    'lgb':  \"ensemble_data/sub_lgb_balanced99_9675.csv\",\n",
    "    'dl_support': \"ensemble_data/dl_support_9653.csv\"\n",
    "}\n",
    "  \n",
    "weights = {\n",
    "    'xgb':  .10,\n",
    "    'ftrl1':  .10,\n",
    "    'lgb':  .60,\n",
    "    'dl_support': .20\n",
    "}\n",
    "print(sum(weights.values()))\n",
    "\n",
    "\n",
    "subs = {m:pd.read_csv(models[m]) for m in models}\n",
    "first_model = list(models.keys())[0]\n",
    "n = subs[first_model].shape[0]\n",
    "\n",
    "ranks = {s:subs[s]['is_attributed'].rank()/n for s in subs}\n",
    "logits = {s:subs[s]['is_attributed'].clip(almost_zero,almost_one).apply(logit) for s in subs}\n",
    "\n",
    "logit_avg = 0\n",
    "rank_avg = 0\n",
    "for m in models:\n",
    "    s = logits[m].std()\n",
    "    print(m, s)\n",
    "    logit_avg = logit_avg + weights[m]*logits[m] / s\n",
    "    rank_avg = rank_avg + weights[m]*ranks[m]\n",
    "\n",
    "logit_rank_avg = logit_avg.rank()/n\n",
    "final_avg = LOGIT_WEIGHT*logit_rank_avg + (1-LOGIT_WEIGHT)*rank_avg\n",
    "\n",
    "final_sub = pd.DataFrame()\n",
    "final_sub['click_id'] = subs[first_model]['click_id']\n",
    "final_sub['is_attributed'] = final_avg\n",
    "\n",
    "final_sub.to_csv(\"sub_kartik_mix_v6.csv\", index=False)"
   ]
  },
  {
   "cell_type": "code",
   "execution_count": 7,
   "metadata": {
    "ExecuteTime": {
     "end_time": "2018-03-19T21:59:21.877969Z",
     "start_time": "2018-03-19T21:59:20.752978Z"
    }
   },
   "outputs": [
    {
     "name": "stdout",
     "output_type": "stream",
     "text": [
      "18790470 sub_kartik_mix_v6.csv\n"
     ]
    }
   ],
   "source": [
    "!wc -l sub_kartik_mix_v6.csv"
   ]
  },
  {
   "cell_type": "code",
   "execution_count": null,
   "metadata": {},
   "outputs": [],
   "source": []
  },
  {
   "cell_type": "code",
   "execution_count": null,
   "metadata": {},
   "outputs": [],
   "source": []
  },
  {
   "cell_type": "code",
   "execution_count": 21,
   "metadata": {
    "ExecuteTime": {
     "end_time": "2018-03-13T06:02:09.874516Z",
     "start_time": "2018-03-13T06:02:09.865996Z"
    }
   },
   "outputs": [
    {
     "name": "stdout",
     "output_type": "stream",
     "text": [
      "1.0000000000000002\n"
     ]
    }
   ],
   "source": [
    "weights = {\n",
    "  'xgb  ':  .08,\n",
    "  'ftrl1':  .04,\n",
    "  'nn   ':  .05,\n",
    "  'lgb  ':  .65,\n",
    "  'usam ':  .05,\n",
    "  'means':  .07,\n",
    "  'ftrl2':  .06\n",
    "  }\n",
    "  \n",
    "print(sum(weights.values()))"
   ]
  },
  {
   "cell_type": "code",
   "execution_count": 5,
   "metadata": {
    "ExecuteTime": {
     "end_time": "2018-03-13T23:54:48.078609Z",
     "start_time": "2018-03-13T23:54:48.071585Z"
    }
   },
   "outputs": [
    {
     "name": "stdout",
     "output_type": "stream",
     "text": [
      "1.0000000000000002\n"
     ]
    }
   ],
   "source": [
    "weights = {\n",
    "  'xgb  ':  .10,\n",
    "  'ftrl1':  .04,\n",
    "  'nn   ':  .05,\n",
    "  'lgb  ':  .60,\n",
    "  'usam ':  .05,\n",
    "  'means':  .07,\n",
    "  'ftrl2':  .09\n",
    "  }\n",
    "print(sum(weights.values()))"
   ]
  },
  {
   "cell_type": "code",
   "execution_count": 10,
   "metadata": {
    "ExecuteTime": {
     "end_time": "2018-03-14T00:19:41.399419Z",
     "start_time": "2018-03-14T00:19:41.393373Z"
    }
   },
   "outputs": [
    {
     "name": "stdout",
     "output_type": "stream",
     "text": [
      "1.0000000000000002\n"
     ]
    }
   ],
   "source": [
    "weights = {\n",
    "  'xgb  ':  .15,\n",
    "  'ftrl1':  .04,\n",
    "  'lgb  ':  .60,\n",
    "  'usam ':  .05,\n",
    "  'means':  .07,\n",
    "  'ftrl2':  .09\n",
    "  }\n",
    "print(sum(weights.values()))"
   ]
  },
  {
   "cell_type": "code",
   "execution_count": 15,
   "metadata": {
    "ExecuteTime": {
     "end_time": "2018-03-14T00:38:56.293138Z",
     "start_time": "2018-03-14T00:38:56.287122Z"
    }
   },
   "outputs": [
    {
     "name": "stdout",
     "output_type": "stream",
     "text": [
      "0.9999999999999999\n"
     ]
    }
   ],
   "source": [
    "weights = {\n",
    "  'xgb  ':  .15,\n",
    "  'ftrl1':  .06,\n",
    "  'lgb  ':  .60,\n",
    "  'means':  .10,\n",
    "  'ftrl2':  .09\n",
    "  }\n",
    "\n",
    "print(sum(weights.values()))\n"
   ]
  },
  {
   "cell_type": "code",
   "execution_count": null,
   "metadata": {},
   "outputs": [],
   "source": []
  }
 ],
 "metadata": {
  "kernelspec": {
   "display_name": "Python 3",
   "language": "python",
   "name": "python3"
  },
  "language_info": {
   "codemirror_mode": {
    "name": "ipython",
    "version": 3
   },
   "file_extension": ".py",
   "mimetype": "text/x-python",
   "name": "python",
   "nbconvert_exporter": "python",
   "pygments_lexer": "ipython3",
   "version": "3.6.3rc1"
  },
  "latex_envs": {
   "LaTeX_envs_menu_present": true,
   "autoclose": false,
   "autocomplete": true,
   "bibliofile": "biblio.bib",
   "cite_by": "apalike",
   "current_citInitial": 1,
   "eqLabelWithNumbers": true,
   "eqNumInitial": 1,
   "hotkeys": {
    "equation": "Ctrl-E",
    "itemize": "Ctrl-I"
   },
   "labels_anchors": false,
   "latex_user_defs": false,
   "report_style_numbering": false,
   "user_envs_cfg": false
  },
  "toc": {
   "nav_menu": {},
   "number_sections": true,
   "sideBar": true,
   "skip_h1_title": false,
   "title_cell": "Table of Contents",
   "title_sidebar": "Contents",
   "toc_cell": false,
   "toc_position": {},
   "toc_section_display": true,
   "toc_window_display": false
  }
 },
 "nbformat": 4,
 "nbformat_minor": 2
}
