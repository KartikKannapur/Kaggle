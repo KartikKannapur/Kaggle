{
 "cells": [
  {
   "cell_type": "markdown",
   "metadata": {},
   "source": [
    "# Exploratory Data Analysis - NYC Taxt Trip Duration\n",
    "\n",
    "\n",
    "Kaggle Competation Link: https://www.kaggle.com/c/nyc-taxi-trip-duration/\n",
    "\n",
    "## 1. Problem Statement:\n",
    "\n",
    "In this competition, the challenge is to build a model that predicts the total ride duration of taxi trips in New York City.\n",
    "\n",
    "Feel free to provide Suggestions, Feedback and Upvotes :)"
   ]
  },
  {
   "cell_type": "markdown",
   "metadata": {},
   "source": [
    "## 2. Python Libraries"
   ]
  },
  {
   "cell_type": "code",
   "execution_count": 193,
   "metadata": {
    "collapsed": true
   },
   "outputs": [],
   "source": [
    "# #Python Libraries\n",
    "import numpy as np\n",
    "import scipy as sp\n",
    "import pandas as pd\n",
    "import statsmodels\n",
    "import pandas_profiling\n",
    "\n",
    "from sklearn import linear_model\n",
    "\n",
    "%matplotlib inline\n",
    "import matplotlib.pyplot as plt\n",
    "import seaborn as sns\n",
    "\n",
    "import os\n",
    "import sys\n",
    "import time\n",
    "import requests\n",
    "import datetime\n",
    "\n",
    "import missingno as msno"
   ]
  },
  {
   "cell_type": "markdown",
   "metadata": {},
   "source": [
    "## 3. Datasets"
   ]
  },
  {
   "cell_type": "code",
   "execution_count": 194,
   "metadata": {},
   "outputs": [
    {
     "name": "stdout",
     "output_type": "stream",
     "text": [
      "sample_submission.csv test.csv              train.csv\r\n"
     ]
    }
   ],
   "source": [
    "# #Datasets\n",
    "!ls input/"
   ]
  },
  {
   "cell_type": "code",
   "execution_count": 195,
   "metadata": {
    "collapsed": true
   },
   "outputs": [],
   "source": [
    "# #Train and Test Datasets\n",
    "df_train = pd.read_csv(\"input/train.csv\")\n",
    "df_test = pd.read_csv(\"input/test.csv\")\n",
    "\n",
    "df_sample_submission = pd.read_csv(\"input/sample_submission.csv\")"
   ]
  },
  {
   "cell_type": "markdown",
   "metadata": {},
   "source": [
    "### 3.1. Data Dictionary\n",
    "\n",
    "Dataset: input/train.csv\n",
    "\n",
    "* id - a unique identifier for each trip\n",
    "* vendor_id - a code indicating the provider associated with the trip record\n",
    "* pickup_datetime - date and time when the meter was engaged\n",
    "* dropoff_datetime - date and time when the meter was disengaged\n",
    "* passenger_count - the number of passengers in the vehicle (driver entered value)\n",
    "* pickup_longitude - the longitude where the meter was engaged\n",
    "* pickup_latitude - the latitude where the meter was engaged\n",
    "* dropoff_longitude - the longitude where the meter was disengaged\n",
    "* dropoff_latitude - the latitude where the meter was disengaged\n",
    "* store_and_fwd_flag - This flag indicates whether the trip record was held in vehicle memory before sending to the vendor because the vehicle did not have a connection to the server - Y=store and forward; N=not a store and forward trip\n",
    "* trip_duration - duration of the trip in seconds\n",
    "\n",
    "Dataset: input/test.csv\n",
    "\n",
    "* The train dataset contains 11 columns and the test dataset contains 9 columns. The two additional columns that are present in the train dataset, and not in the test dataset are dropoff_datetime and trip_duration. \n",
    "\n",
    "Dataset: input/sample_submission.csv\n",
    "\n",
    "* id - a unique identifier for each trip\n",
    "* trip_duration - duration of the trip in seconds"
   ]
  },
  {
   "cell_type": "markdown",
   "metadata": {},
   "source": [
    "### 3.2. Dataset Overview"
   ]
  },
  {
   "cell_type": "markdown",
   "metadata": {},
   "source": [
    "#### Training Dataset"
   ]
  },
  {
   "cell_type": "code",
   "execution_count": 196,
   "metadata": {},
   "outputs": [
    {
     "name": "stdout",
     "output_type": "stream",
     "text": [
      "('Total number of samples in train dataset: ', 1458644)\n",
      "('Number of columns in train dataset: ', 11)\n"
     ]
    }
   ],
   "source": [
    "print(\"Total number of samples in train dataset: \", df_train.shape[0])\n",
    "print(\"Number of columns in train dataset: \", df_train.shape[1])"
   ]
  },
  {
   "cell_type": "code",
   "execution_count": 197,
   "metadata": {},
   "outputs": [
    {
     "data": {
      "text/html": [
       "<div>\n",
       "<style>\n",
       "    .dataframe thead tr:only-child th {\n",
       "        text-align: right;\n",
       "    }\n",
       "\n",
       "    .dataframe thead th {\n",
       "        text-align: left;\n",
       "    }\n",
       "\n",
       "    .dataframe tbody tr th {\n",
       "        vertical-align: top;\n",
       "    }\n",
       "</style>\n",
       "<table border=\"1\" class=\"dataframe\">\n",
       "  <thead>\n",
       "    <tr style=\"text-align: right;\">\n",
       "      <th></th>\n",
       "      <th>id</th>\n",
       "      <th>vendor_id</th>\n",
       "      <th>pickup_datetime</th>\n",
       "      <th>dropoff_datetime</th>\n",
       "      <th>passenger_count</th>\n",
       "      <th>pickup_longitude</th>\n",
       "      <th>pickup_latitude</th>\n",
       "      <th>dropoff_longitude</th>\n",
       "      <th>dropoff_latitude</th>\n",
       "      <th>store_and_fwd_flag</th>\n",
       "      <th>trip_duration</th>\n",
       "    </tr>\n",
       "  </thead>\n",
       "  <tbody>\n",
       "    <tr>\n",
       "      <th>0</th>\n",
       "      <td>id2875421</td>\n",
       "      <td>2</td>\n",
       "      <td>2016-03-14 17:24:55</td>\n",
       "      <td>2016-03-14 17:32:30</td>\n",
       "      <td>1</td>\n",
       "      <td>-73.982155</td>\n",
       "      <td>40.767937</td>\n",
       "      <td>-73.964630</td>\n",
       "      <td>40.765602</td>\n",
       "      <td>N</td>\n",
       "      <td>455</td>\n",
       "    </tr>\n",
       "    <tr>\n",
       "      <th>1</th>\n",
       "      <td>id2377394</td>\n",
       "      <td>1</td>\n",
       "      <td>2016-06-12 00:43:35</td>\n",
       "      <td>2016-06-12 00:54:38</td>\n",
       "      <td>1</td>\n",
       "      <td>-73.980415</td>\n",
       "      <td>40.738564</td>\n",
       "      <td>-73.999481</td>\n",
       "      <td>40.731152</td>\n",
       "      <td>N</td>\n",
       "      <td>663</td>\n",
       "    </tr>\n",
       "    <tr>\n",
       "      <th>2</th>\n",
       "      <td>id3858529</td>\n",
       "      <td>2</td>\n",
       "      <td>2016-01-19 11:35:24</td>\n",
       "      <td>2016-01-19 12:10:48</td>\n",
       "      <td>1</td>\n",
       "      <td>-73.979027</td>\n",
       "      <td>40.763939</td>\n",
       "      <td>-74.005333</td>\n",
       "      <td>40.710087</td>\n",
       "      <td>N</td>\n",
       "      <td>2124</td>\n",
       "    </tr>\n",
       "    <tr>\n",
       "      <th>3</th>\n",
       "      <td>id3504673</td>\n",
       "      <td>2</td>\n",
       "      <td>2016-04-06 19:32:31</td>\n",
       "      <td>2016-04-06 19:39:40</td>\n",
       "      <td>1</td>\n",
       "      <td>-74.010040</td>\n",
       "      <td>40.719971</td>\n",
       "      <td>-74.012268</td>\n",
       "      <td>40.706718</td>\n",
       "      <td>N</td>\n",
       "      <td>429</td>\n",
       "    </tr>\n",
       "    <tr>\n",
       "      <th>4</th>\n",
       "      <td>id2181028</td>\n",
       "      <td>2</td>\n",
       "      <td>2016-03-26 13:30:55</td>\n",
       "      <td>2016-03-26 13:38:10</td>\n",
       "      <td>1</td>\n",
       "      <td>-73.973053</td>\n",
       "      <td>40.793209</td>\n",
       "      <td>-73.972923</td>\n",
       "      <td>40.782520</td>\n",
       "      <td>N</td>\n",
       "      <td>435</td>\n",
       "    </tr>\n",
       "  </tbody>\n",
       "</table>\n",
       "</div>"
      ],
      "text/plain": [
       "          id  vendor_id      pickup_datetime     dropoff_datetime  \\\n",
       "0  id2875421          2  2016-03-14 17:24:55  2016-03-14 17:32:30   \n",
       "1  id2377394          1  2016-06-12 00:43:35  2016-06-12 00:54:38   \n",
       "2  id3858529          2  2016-01-19 11:35:24  2016-01-19 12:10:48   \n",
       "3  id3504673          2  2016-04-06 19:32:31  2016-04-06 19:39:40   \n",
       "4  id2181028          2  2016-03-26 13:30:55  2016-03-26 13:38:10   \n",
       "\n",
       "   passenger_count  pickup_longitude  pickup_latitude  dropoff_longitude  \\\n",
       "0                1        -73.982155        40.767937         -73.964630   \n",
       "1                1        -73.980415        40.738564         -73.999481   \n",
       "2                1        -73.979027        40.763939         -74.005333   \n",
       "3                1        -74.010040        40.719971         -74.012268   \n",
       "4                1        -73.973053        40.793209         -73.972923   \n",
       "\n",
       "   dropoff_latitude store_and_fwd_flag  trip_duration  \n",
       "0         40.765602                  N            455  \n",
       "1         40.731152                  N            663  \n",
       "2         40.710087                  N           2124  \n",
       "3         40.706718                  N            429  \n",
       "4         40.782520                  N            435  "
      ]
     },
     "execution_count": 197,
     "metadata": {},
     "output_type": "execute_result"
    }
   ],
   "source": [
    "df_train.head()"
   ]
  },
  {
   "cell_type": "code",
   "execution_count": 198,
   "metadata": {},
   "outputs": [
    {
     "data": {
      "text/html": [
       "<div>\n",
       "<style>\n",
       "    .dataframe thead tr:only-child th {\n",
       "        text-align: right;\n",
       "    }\n",
       "\n",
       "    .dataframe thead th {\n",
       "        text-align: left;\n",
       "    }\n",
       "\n",
       "    .dataframe tbody tr th {\n",
       "        vertical-align: top;\n",
       "    }\n",
       "</style>\n",
       "<table border=\"1\" class=\"dataframe\">\n",
       "  <thead>\n",
       "    <tr style=\"text-align: right;\">\n",
       "      <th></th>\n",
       "      <th>vendor_id</th>\n",
       "      <th>passenger_count</th>\n",
       "      <th>pickup_longitude</th>\n",
       "      <th>pickup_latitude</th>\n",
       "      <th>dropoff_longitude</th>\n",
       "      <th>dropoff_latitude</th>\n",
       "      <th>trip_duration</th>\n",
       "    </tr>\n",
       "  </thead>\n",
       "  <tbody>\n",
       "    <tr>\n",
       "      <th>count</th>\n",
       "      <td>1.458644e+06</td>\n",
       "      <td>1.458644e+06</td>\n",
       "      <td>1.458644e+06</td>\n",
       "      <td>1.458644e+06</td>\n",
       "      <td>1.458644e+06</td>\n",
       "      <td>1.458644e+06</td>\n",
       "      <td>1.458644e+06</td>\n",
       "    </tr>\n",
       "    <tr>\n",
       "      <th>mean</th>\n",
       "      <td>1.534950e+00</td>\n",
       "      <td>1.664530e+00</td>\n",
       "      <td>-7.397349e+01</td>\n",
       "      <td>4.075092e+01</td>\n",
       "      <td>-7.397342e+01</td>\n",
       "      <td>4.075180e+01</td>\n",
       "      <td>9.594923e+02</td>\n",
       "    </tr>\n",
       "    <tr>\n",
       "      <th>std</th>\n",
       "      <td>4.987772e-01</td>\n",
       "      <td>1.314242e+00</td>\n",
       "      <td>7.090186e-02</td>\n",
       "      <td>3.288119e-02</td>\n",
       "      <td>7.064327e-02</td>\n",
       "      <td>3.589056e-02</td>\n",
       "      <td>5.237432e+03</td>\n",
       "    </tr>\n",
       "    <tr>\n",
       "      <th>min</th>\n",
       "      <td>1.000000e+00</td>\n",
       "      <td>0.000000e+00</td>\n",
       "      <td>-1.219333e+02</td>\n",
       "      <td>3.435970e+01</td>\n",
       "      <td>-1.219333e+02</td>\n",
       "      <td>3.218114e+01</td>\n",
       "      <td>1.000000e+00</td>\n",
       "    </tr>\n",
       "    <tr>\n",
       "      <th>25%</th>\n",
       "      <td>1.000000e+00</td>\n",
       "      <td>1.000000e+00</td>\n",
       "      <td>-7.399187e+01</td>\n",
       "      <td>4.073735e+01</td>\n",
       "      <td>-7.399133e+01</td>\n",
       "      <td>4.073588e+01</td>\n",
       "      <td>3.970000e+02</td>\n",
       "    </tr>\n",
       "    <tr>\n",
       "      <th>50%</th>\n",
       "      <td>2.000000e+00</td>\n",
       "      <td>1.000000e+00</td>\n",
       "      <td>-7.398174e+01</td>\n",
       "      <td>4.075410e+01</td>\n",
       "      <td>-7.397975e+01</td>\n",
       "      <td>4.075452e+01</td>\n",
       "      <td>6.620000e+02</td>\n",
       "    </tr>\n",
       "    <tr>\n",
       "      <th>75%</th>\n",
       "      <td>2.000000e+00</td>\n",
       "      <td>2.000000e+00</td>\n",
       "      <td>-7.396733e+01</td>\n",
       "      <td>4.076836e+01</td>\n",
       "      <td>-7.396301e+01</td>\n",
       "      <td>4.076981e+01</td>\n",
       "      <td>1.075000e+03</td>\n",
       "    </tr>\n",
       "    <tr>\n",
       "      <th>max</th>\n",
       "      <td>2.000000e+00</td>\n",
       "      <td>9.000000e+00</td>\n",
       "      <td>-6.133553e+01</td>\n",
       "      <td>5.188108e+01</td>\n",
       "      <td>-6.133553e+01</td>\n",
       "      <td>4.392103e+01</td>\n",
       "      <td>3.526282e+06</td>\n",
       "    </tr>\n",
       "  </tbody>\n",
       "</table>\n",
       "</div>"
      ],
      "text/plain": [
       "          vendor_id  passenger_count  pickup_longitude  pickup_latitude  \\\n",
       "count  1.458644e+06     1.458644e+06      1.458644e+06     1.458644e+06   \n",
       "mean   1.534950e+00     1.664530e+00     -7.397349e+01     4.075092e+01   \n",
       "std    4.987772e-01     1.314242e+00      7.090186e-02     3.288119e-02   \n",
       "min    1.000000e+00     0.000000e+00     -1.219333e+02     3.435970e+01   \n",
       "25%    1.000000e+00     1.000000e+00     -7.399187e+01     4.073735e+01   \n",
       "50%    2.000000e+00     1.000000e+00     -7.398174e+01     4.075410e+01   \n",
       "75%    2.000000e+00     2.000000e+00     -7.396733e+01     4.076836e+01   \n",
       "max    2.000000e+00     9.000000e+00     -6.133553e+01     5.188108e+01   \n",
       "\n",
       "       dropoff_longitude  dropoff_latitude  trip_duration  \n",
       "count       1.458644e+06      1.458644e+06   1.458644e+06  \n",
       "mean       -7.397342e+01      4.075180e+01   9.594923e+02  \n",
       "std         7.064327e-02      3.589056e-02   5.237432e+03  \n",
       "min        -1.219333e+02      3.218114e+01   1.000000e+00  \n",
       "25%        -7.399133e+01      4.073588e+01   3.970000e+02  \n",
       "50%        -7.397975e+01      4.075452e+01   6.620000e+02  \n",
       "75%        -7.396301e+01      4.076981e+01   1.075000e+03  \n",
       "max        -6.133553e+01      4.392103e+01   3.526282e+06  "
      ]
     },
     "execution_count": 198,
     "metadata": {},
     "output_type": "execute_result"
    }
   ],
   "source": [
    "df_train.describe()"
   ]
  },
  {
   "cell_type": "code",
   "execution_count": 199,
   "metadata": {},
   "outputs": [
    {
     "name": "stdout",
     "output_type": "stream",
     "text": [
      "<class 'pandas.core.frame.DataFrame'>\n",
      "RangeIndex: 1458644 entries, 0 to 1458643\n",
      "Data columns (total 11 columns):\n",
      "id                    1458644 non-null object\n",
      "vendor_id             1458644 non-null int64\n",
      "pickup_datetime       1458644 non-null object\n",
      "dropoff_datetime      1458644 non-null object\n",
      "passenger_count       1458644 non-null int64\n",
      "pickup_longitude      1458644 non-null float64\n",
      "pickup_latitude       1458644 non-null float64\n",
      "dropoff_longitude     1458644 non-null float64\n",
      "dropoff_latitude      1458644 non-null float64\n",
      "store_and_fwd_flag    1458644 non-null object\n",
      "trip_duration         1458644 non-null int64\n",
      "dtypes: float64(4), int64(3), object(4)\n",
      "memory usage: 122.4+ MB\n"
     ]
    }
   ],
   "source": [
    "df_train.info()"
   ]
  },
  {
   "cell_type": "markdown",
   "metadata": {},
   "source": [
    "#### Test Dataset"
   ]
  },
  {
   "cell_type": "code",
   "execution_count": 200,
   "metadata": {},
   "outputs": [
    {
     "name": "stdout",
     "output_type": "stream",
     "text": [
      "('Total number of samples in test dataset: ', 625134)\n",
      "('Number of columns in test dataset: ', 9)\n"
     ]
    }
   ],
   "source": [
    "print(\"Total number of samples in test dataset: \", df_test.shape[0])\n",
    "print(\"Number of columns in test dataset: \", df_test.shape[1])"
   ]
  },
  {
   "cell_type": "code",
   "execution_count": 201,
   "metadata": {},
   "outputs": [
    {
     "data": {
      "text/html": [
       "<div>\n",
       "<style>\n",
       "    .dataframe thead tr:only-child th {\n",
       "        text-align: right;\n",
       "    }\n",
       "\n",
       "    .dataframe thead th {\n",
       "        text-align: left;\n",
       "    }\n",
       "\n",
       "    .dataframe tbody tr th {\n",
       "        vertical-align: top;\n",
       "    }\n",
       "</style>\n",
       "<table border=\"1\" class=\"dataframe\">\n",
       "  <thead>\n",
       "    <tr style=\"text-align: right;\">\n",
       "      <th></th>\n",
       "      <th>id</th>\n",
       "      <th>vendor_id</th>\n",
       "      <th>pickup_datetime</th>\n",
       "      <th>passenger_count</th>\n",
       "      <th>pickup_longitude</th>\n",
       "      <th>pickup_latitude</th>\n",
       "      <th>dropoff_longitude</th>\n",
       "      <th>dropoff_latitude</th>\n",
       "      <th>store_and_fwd_flag</th>\n",
       "    </tr>\n",
       "  </thead>\n",
       "  <tbody>\n",
       "    <tr>\n",
       "      <th>0</th>\n",
       "      <td>id3004672</td>\n",
       "      <td>1</td>\n",
       "      <td>2016-06-30 23:59:58</td>\n",
       "      <td>1</td>\n",
       "      <td>-73.988129</td>\n",
       "      <td>40.732029</td>\n",
       "      <td>-73.990173</td>\n",
       "      <td>40.756680</td>\n",
       "      <td>N</td>\n",
       "    </tr>\n",
       "    <tr>\n",
       "      <th>1</th>\n",
       "      <td>id3505355</td>\n",
       "      <td>1</td>\n",
       "      <td>2016-06-30 23:59:53</td>\n",
       "      <td>1</td>\n",
       "      <td>-73.964203</td>\n",
       "      <td>40.679993</td>\n",
       "      <td>-73.959808</td>\n",
       "      <td>40.655403</td>\n",
       "      <td>N</td>\n",
       "    </tr>\n",
       "    <tr>\n",
       "      <th>2</th>\n",
       "      <td>id1217141</td>\n",
       "      <td>1</td>\n",
       "      <td>2016-06-30 23:59:47</td>\n",
       "      <td>1</td>\n",
       "      <td>-73.997437</td>\n",
       "      <td>40.737583</td>\n",
       "      <td>-73.986160</td>\n",
       "      <td>40.729523</td>\n",
       "      <td>N</td>\n",
       "    </tr>\n",
       "    <tr>\n",
       "      <th>3</th>\n",
       "      <td>id2150126</td>\n",
       "      <td>2</td>\n",
       "      <td>2016-06-30 23:59:41</td>\n",
       "      <td>1</td>\n",
       "      <td>-73.956070</td>\n",
       "      <td>40.771900</td>\n",
       "      <td>-73.986427</td>\n",
       "      <td>40.730469</td>\n",
       "      <td>N</td>\n",
       "    </tr>\n",
       "    <tr>\n",
       "      <th>4</th>\n",
       "      <td>id1598245</td>\n",
       "      <td>1</td>\n",
       "      <td>2016-06-30 23:59:33</td>\n",
       "      <td>1</td>\n",
       "      <td>-73.970215</td>\n",
       "      <td>40.761475</td>\n",
       "      <td>-73.961510</td>\n",
       "      <td>40.755890</td>\n",
       "      <td>N</td>\n",
       "    </tr>\n",
       "  </tbody>\n",
       "</table>\n",
       "</div>"
      ],
      "text/plain": [
       "          id  vendor_id      pickup_datetime  passenger_count  \\\n",
       "0  id3004672          1  2016-06-30 23:59:58                1   \n",
       "1  id3505355          1  2016-06-30 23:59:53                1   \n",
       "2  id1217141          1  2016-06-30 23:59:47                1   \n",
       "3  id2150126          2  2016-06-30 23:59:41                1   \n",
       "4  id1598245          1  2016-06-30 23:59:33                1   \n",
       "\n",
       "   pickup_longitude  pickup_latitude  dropoff_longitude  dropoff_latitude  \\\n",
       "0        -73.988129        40.732029         -73.990173         40.756680   \n",
       "1        -73.964203        40.679993         -73.959808         40.655403   \n",
       "2        -73.997437        40.737583         -73.986160         40.729523   \n",
       "3        -73.956070        40.771900         -73.986427         40.730469   \n",
       "4        -73.970215        40.761475         -73.961510         40.755890   \n",
       "\n",
       "  store_and_fwd_flag  \n",
       "0                  N  \n",
       "1                  N  \n",
       "2                  N  \n",
       "3                  N  \n",
       "4                  N  "
      ]
     },
     "execution_count": 201,
     "metadata": {},
     "output_type": "execute_result"
    }
   ],
   "source": [
    "df_test.head()"
   ]
  },
  {
   "cell_type": "markdown",
   "metadata": {},
   "source": [
    "#### Sample Submission Dataset"
   ]
  },
  {
   "cell_type": "code",
   "execution_count": 202,
   "metadata": {},
   "outputs": [
    {
     "data": {
      "text/plain": [
       "(625134, 2)"
      ]
     },
     "execution_count": 202,
     "metadata": {},
     "output_type": "execute_result"
    }
   ],
   "source": [
    "df_sample_submission.shape"
   ]
  },
  {
   "cell_type": "code",
   "execution_count": 203,
   "metadata": {},
   "outputs": [
    {
     "data": {
      "text/html": [
       "<div>\n",
       "<style>\n",
       "    .dataframe thead tr:only-child th {\n",
       "        text-align: right;\n",
       "    }\n",
       "\n",
       "    .dataframe thead th {\n",
       "        text-align: left;\n",
       "    }\n",
       "\n",
       "    .dataframe tbody tr th {\n",
       "        vertical-align: top;\n",
       "    }\n",
       "</style>\n",
       "<table border=\"1\" class=\"dataframe\">\n",
       "  <thead>\n",
       "    <tr style=\"text-align: right;\">\n",
       "      <th></th>\n",
       "      <th>id</th>\n",
       "      <th>trip_duration</th>\n",
       "    </tr>\n",
       "  </thead>\n",
       "  <tbody>\n",
       "    <tr>\n",
       "      <th>0</th>\n",
       "      <td>id3004672</td>\n",
       "      <td>959</td>\n",
       "    </tr>\n",
       "    <tr>\n",
       "      <th>1</th>\n",
       "      <td>id3505355</td>\n",
       "      <td>959</td>\n",
       "    </tr>\n",
       "    <tr>\n",
       "      <th>2</th>\n",
       "      <td>id1217141</td>\n",
       "      <td>959</td>\n",
       "    </tr>\n",
       "    <tr>\n",
       "      <th>3</th>\n",
       "      <td>id2150126</td>\n",
       "      <td>959</td>\n",
       "    </tr>\n",
       "    <tr>\n",
       "      <th>4</th>\n",
       "      <td>id1598245</td>\n",
       "      <td>959</td>\n",
       "    </tr>\n",
       "  </tbody>\n",
       "</table>\n",
       "</div>"
      ],
      "text/plain": [
       "          id  trip_duration\n",
       "0  id3004672            959\n",
       "1  id3505355            959\n",
       "2  id1217141            959\n",
       "3  id2150126            959\n",
       "4  id1598245            959"
      ]
     },
     "execution_count": 203,
     "metadata": {},
     "output_type": "execute_result"
    }
   ],
   "source": [
    "df_sample_submission.head()"
   ]
  },
  {
   "cell_type": "markdown",
   "metadata": {},
   "source": [
    "## 4. Missing Values:\n",
    "\n",
    "Are there any missing values in the train and test datasets?"
   ]
  },
  {
   "cell_type": "code",
   "execution_count": 204,
   "metadata": {},
   "outputs": [
    {
     "data": {
      "text/plain": [
       "id                    0\n",
       "vendor_id             0\n",
       "pickup_datetime       0\n",
       "dropoff_datetime      0\n",
       "passenger_count       0\n",
       "pickup_longitude      0\n",
       "pickup_latitude       0\n",
       "dropoff_longitude     0\n",
       "dropoff_latitude      0\n",
       "store_and_fwd_flag    0\n",
       "trip_duration         0\n",
       "dtype: int64"
      ]
     },
     "execution_count": 204,
     "metadata": {},
     "output_type": "execute_result"
    }
   ],
   "source": [
    "df_train.isnull().sum()"
   ]
  },
  {
   "cell_type": "code",
   "execution_count": 205,
   "metadata": {},
   "outputs": [
    {
     "data": {
      "text/plain": [
       "id                    0\n",
       "vendor_id             0\n",
       "pickup_datetime       0\n",
       "passenger_count       0\n",
       "pickup_longitude      0\n",
       "pickup_latitude       0\n",
       "dropoff_longitude     0\n",
       "dropoff_latitude      0\n",
       "store_and_fwd_flag    0\n",
       "dtype: int64"
      ]
     },
     "execution_count": 205,
     "metadata": {},
     "output_type": "execute_result"
    }
   ],
   "source": [
    "df_test.isnull().sum()"
   ]
  },
  {
   "cell_type": "markdown",
   "metadata": {},
   "source": [
    "_Fortunately, both the train and test datasets are clean & none of the values are missing._"
   ]
  },
  {
   "cell_type": "code",
   "execution_count": null,
   "metadata": {
    "collapsed": true
   },
   "outputs": [],
   "source": []
  },
  {
   "cell_type": "markdown",
   "metadata": {},
   "source": [
    "## 5. Open-Questions/Hypothesis:\n",
    "(In-Progress)\n",
    "\n",
    "1. Remove outliers based on the haversine_distance, trip duration, latitude and longitude\n",
    "\n",
    "2. Using the Google Maps API to calculate accurate distances \n",
    "\n",
    "3. Post trip_duration outlier detection, try this:\n",
    "plt.figure(figsize=(10,10))\n",
    "sns.distplot(df_train[\"trip_duration\"], bins=10, kde=True)\n",
    "plt.xlabel('trip_duration in seconds')\n",
    "plt.show()\n",
    "\n",
    "3.1 Analysis on pickup times\n",
    "\n",
    "4. Potential Features:\n",
    "vendor_id\n",
    "Hour of pickup & day of the week\n",
    "pickup and drop off lat/long coordinates\n",
    "Direction in which the taxi was moving based on the pickup-dropoff latlong coordinates\n",
    "Speed of the taxi"
   ]
  },
  {
   "cell_type": "markdown",
   "metadata": {},
   "source": [
    "### 5.1. Difference in the columns between the training and test datasets:\n",
    "The training dataset contains 11 columns and the test dataset contains 9 columns. The two additional columns that are present in the training dataset, and not in the test dataset are dropoff_datetime and trip_duration. By looking at the sample_submission.csv file, we understand that we need to predict the trip_duration."
   ]
  },
  {
   "cell_type": "markdown",
   "metadata": {},
   "source": [
    "### 5.2. Are all the id's in the train and test datasets unique? Is there an overlap, in the observations, between the train and test datasets?"
   ]
  },
  {
   "cell_type": "code",
   "execution_count": 206,
   "metadata": {},
   "outputs": [
    {
     "name": "stdout",
     "output_type": "stream",
     "text": [
      "('Number of ids in the train dataset: ', 1458644)\n",
      "('Number of unique ids in the train dataset: ', 1458644, '\\n')\n",
      "('Number of ids in the test dataset: ', 625134)\n",
      "('Number of unique ids in the test dataset: ', 625134, '\\n')\n",
      "('Number of common ids(if any) between the train and test datasets: ', 0)\n"
     ]
    }
   ],
   "source": [
    "print(\"Number of ids in the train dataset: \", len(df_train[\"id\"]))\n",
    "print(\"Number of unique ids in the train dataset: \", len(pd.unique(df_train[\"id\"])), \"\\n\")\n",
    "\n",
    "print(\"Number of ids in the test dataset: \", len(df_test[\"id\"]))\n",
    "print(\"Number of unique ids in the test dataset: \", len(pd.unique(df_test[\"id\"])), \"\\n\")\n",
    "\n",
    "print(\"Number of common ids(if any) between the train and test datasets: \", \\\n",
    "len(set(df_train[\"id\"].values).intersection(set(df_test[\"id\"].values))))"
   ]
  },
  {
   "cell_type": "markdown",
   "metadata": {},
   "source": [
    "### 5.3. Are all the vendor_id's in the train and test datasets unique? \n",
    "\n",
    "* vendor_id takes on only two values in both the train and test datasets i.e. 1 and 2 (Hypothesis - This could represent data from two different taxi companies)\n",
    "\n",
    "#### This leads to a set of follow-up questions:\n",
    "\n",
    "* If the hypothesis is right and the values in the vendor_id column actually represent the data from two different taxi companies; are the number of observations in the dataset from each of the companies comparable or is there any imbalance?(Both in the train and test datasets)\n",
    "\n",
    "* Among the vendor_id's(1 and 2) - what is the distribution in the number of passengers (passenger_count) across the train and test datasets?"
   ]
  },
  {
   "cell_type": "code",
   "execution_count": 207,
   "metadata": {},
   "outputs": [
    {
     "name": "stdout",
     "output_type": "stream",
     "text": [
      "('Number of vendor_ids in the train dataset: ', 1458644)\n",
      "('Number of unique vendor_ids in the train dataset: ', 2, '\\n')\n",
      "('Number of vendor_ids in the test dataset: ', 625134)\n",
      "('Number of unique vendor_ids in the test dataset: ', 2, '\\n')\n"
     ]
    }
   ],
   "source": [
    "print(\"Number of vendor_ids in the train dataset: \", len(df_train[\"vendor_id\"]))\n",
    "print(\"Number of unique vendor_ids in the train dataset: \", len(pd.unique(df_train[\"vendor_id\"])), \"\\n\")\n",
    "\n",
    "print(\"Number of vendor_ids in the test dataset: \", len(df_test[\"vendor_id\"]))\n",
    "print(\"Number of unique vendor_ids in the test dataset: \", len(pd.unique(df_test[\"vendor_id\"])), \"\\n\")"
   ]
  },
  {
   "cell_type": "code",
   "execution_count": null,
   "metadata": {
    "collapsed": true
   },
   "outputs": [],
   "source": []
  },
  {
   "cell_type": "code",
   "execution_count": 208,
   "metadata": {},
   "outputs": [
    {
     "data": {
      "text/plain": [
       "<matplotlib.axes._subplots.AxesSubplot at 0x11be30dd0>"
      ]
     },
     "execution_count": 208,
     "metadata": {},
     "output_type": "execute_result"
    },
    {
     "data": {
      "image/png": "[encoded data removed]",
      "text/plain": [
       "<matplotlib.figure.Figure at 0x11bba4e50>"
      ]
     },
     "metadata": {},
     "output_type": "display_data"
    }
   ],
   "source": [
    "# #The number of observations in the dataset from each of the two companies i.e. 1 and 2, seems to be comparable\n",
    "# #across the train and test datasets\n",
    "sns.countplot(x=\"vendor_id\", data=df_train)"
   ]
  },
  {
   "cell_type": "code",
   "execution_count": 209,
   "metadata": {},
   "outputs": [
    {
     "data": {
      "text/plain": [
       "<matplotlib.axes._subplots.AxesSubplot at 0x11bb5af50>"
      ]
     },
     "execution_count": 209,
     "metadata": {},
     "output_type": "execute_result"
    },
    {
     "data": {
      "image/png": "[encoded data removed]",
      "text/plain": [
       "<matplotlib.figure.Figure at 0x14ebe9c50>"
      ]
     },
     "metadata": {},
     "output_type": "display_data"
    }
   ],
   "source": [
    "sns.countplot(x=\"vendor_id\", data=df_test)"
   ]
  },
  {
   "cell_type": "markdown",
   "metadata": {},
   "source": [
    "### 5.4. Distribution of the number of passengers (passenger_count) across the vendor_id variables - 1 and 2, in both the train and test datasets:"
   ]
  },
  {
   "cell_type": "code",
   "execution_count": 210,
   "metadata": {},
   "outputs": [
    {
     "data": {
      "text/plain": [
       "<matplotlib.axes._subplots.AxesSubplot at 0x123487d10>"
      ]
     },
     "execution_count": 210,
     "metadata": {},
     "output_type": "execute_result"
    },
    {
     "data": {
      "image/png": "[encoded data removed]",
      "text/plain": [
       "<matplotlib.figure.Figure at 0x1090910d0>"
      ]
     },
     "metadata": {},
     "output_type": "display_data"
    }
   ],
   "source": [
    "sns.countplot(x=\"passenger_count\", data=df_train[df_train[\"vendor_id\"] == 1])"
   ]
  },
  {
   "cell_type": "code",
   "execution_count": 211,
   "metadata": {},
   "outputs": [
    {
     "data": {
      "text/plain": [
       "<matplotlib.axes._subplots.AxesSubplot at 0x11a1c3210>"
      ]
     },
     "execution_count": 211,
     "metadata": {},
     "output_type": "execute_result"
    },
    {
     "data": {
      "image/png": "[encoded data removed]",
      "text/plain": [
       "<matplotlib.figure.Figure at 0x123935d10>"
      ]
     },
     "metadata": {},
     "output_type": "display_data"
    }
   ],
   "source": [
    "sns.countplot(x=\"passenger_count\", data=df_train[df_train[\"vendor_id\"] == 2])"
   ]
  },
  {
   "cell_type": "code",
   "execution_count": 212,
   "metadata": {},
   "outputs": [
    {
     "data": {
      "text/plain": [
       "<matplotlib.axes._subplots.AxesSubplot at 0x11be17290>"
      ]
     },
     "execution_count": 212,
     "metadata": {},
     "output_type": "execute_result"
    },
    {
     "data": {
      "image/png": "[encoded data removed]",
      "text/plain": [
       "<matplotlib.figure.Figure at 0x12347c210>"
      ]
     },
     "metadata": {},
     "output_type": "display_data"
    }
   ],
   "source": [
    "sns.countplot(x=\"passenger_count\", data=df_test[df_test[\"vendor_id\"] == 1])"
   ]
  },
  {
   "cell_type": "code",
   "execution_count": 213,
   "metadata": {},
   "outputs": [
    {
     "data": {
      "text/plain": [
       "<matplotlib.axes._subplots.AxesSubplot at 0x11b521710>"
      ]
     },
     "execution_count": 213,
     "metadata": {},
     "output_type": "execute_result"
    },
    {
     "data": {
      "image/png": "[encoded data removed]",
      "text/plain": [
       "<matplotlib.figure.Figure at 0x11c6f2590>"
      ]
     },
     "metadata": {},
     "output_type": "display_data"
    }
   ],
   "source": [
    "sns.countplot(x=\"passenger_count\", data=df_test[df_test[\"vendor_id\"] == 2])"
   ]
  },
  {
   "cell_type": "code",
   "execution_count": null,
   "metadata": {
    "collapsed": true
   },
   "outputs": [],
   "source": []
  },
  {
   "cell_type": "markdown",
   "metadata": {},
   "source": [
    "### 5.5. Distribution of the trip_duration across the train dataset:"
   ]
  },
  {
   "cell_type": "code",
   "execution_count": 214,
   "metadata": {
    "collapsed": true
   },
   "outputs": [],
   "source": [
    "# #String to Datetime conversion\n",
    "df_train[\"pickup_datetime\"] = pd.to_datetime(df_train[\"pickup_datetime\"])\n",
    "df_train[\"dropoff_datetime\"] = pd.to_datetime(df_train[\"dropoff_datetime\"])\n",
    "\n",
    "df_test[\"pickup_datetime\"] = pd.to_datetime(df_test[\"pickup_datetime\"])"
   ]
  },
  {
   "cell_type": "code",
   "execution_count": null,
   "metadata": {
    "collapsed": true
   },
   "outputs": [],
   "source": []
  },
  {
   "cell_type": "code",
   "execution_count": 215,
   "metadata": {},
   "outputs": [
    {
     "data": {
      "text/plain": [
       "count    1.458644e+06\n",
       "mean     9.594923e+02\n",
       "std      5.237432e+03\n",
       "min      1.000000e+00\n",
       "25%      3.970000e+02\n",
       "50%      6.620000e+02\n",
       "75%      1.075000e+03\n",
       "max      3.526282e+06\n",
       "Name: trip_duration, dtype: float64"
      ]
     },
     "execution_count": 215,
     "metadata": {},
     "output_type": "execute_result"
    }
   ],
   "source": [
    "# #trip_duration represents the difference between the dropoff_datetime and the pickup_datetime in the\n",
    "# #train dataset\n",
    "df_train[\"trip_duration\"].describe()"
   ]
  },
  {
   "cell_type": "code",
   "execution_count": 216,
   "metadata": {},
   "outputs": [
    {
     "data": {
      "text/plain": [
       "count                   1458644\n",
       "mean     0 days 00:15:59.492272\n",
       "std      0 days 01:27:17.431724\n",
       "min             0 days 00:00:01\n",
       "25%             0 days 00:06:37\n",
       "50%             0 days 00:11:02\n",
       "75%             0 days 00:17:55\n",
       "max            40 days 19:31:22\n",
       "dtype: object"
      ]
     },
     "execution_count": 216,
     "metadata": {},
     "output_type": "execute_result"
    }
   ],
   "source": [
    "# #The trip_duration would be a lot more intuitive when the datetime representation is used, \n",
    "# #rather than the representation with seconds. \n",
    "(df_train[\"dropoff_datetime\"] - df_train[\"pickup_datetime\"]).describe()"
   ]
  },
  {
   "cell_type": "markdown",
   "metadata": {},
   "source": [
    "_It is interesting to see that there happens to be a trip that lasted for over 40 days. Let us plot the trip duration in seconds to view any other possbile outliers._"
   ]
  },
  {
   "cell_type": "code",
   "execution_count": 217,
   "metadata": {},
   "outputs": [
    {
     "data": {
      "image/png": "[encoded data removed]",
      "text/plain": [
       "<matplotlib.figure.Figure at 0x11c3609d0>"
      ]
     },
     "metadata": {},
     "output_type": "display_data"
    }
   ],
   "source": [
    "plt.figure(figsize=(10,10))\n",
    "plt.scatter(range(len(df_train[\"trip_duration\"])), np.sort(df_train[\"trip_duration\"]))\n",
    "plt.xlabel('index')\n",
    "plt.ylabel('trip_duration in seconds')\n",
    "plt.show()"
   ]
  },
  {
   "cell_type": "markdown",
   "metadata": {},
   "source": [
    "_We see that there are four outliers with trip durations of 20 days or more_"
   ]
  },
  {
   "cell_type": "code",
   "execution_count": 218,
   "metadata": {
    "collapsed": true
   },
   "outputs": [],
   "source": [
    "# #Removing the outliers in the dataset\n",
    "df_train = df_train[df_train[\"trip_duration\"] < 500000]"
   ]
  },
  {
   "cell_type": "code",
   "execution_count": 219,
   "metadata": {},
   "outputs": [
    {
     "data": {
      "text/plain": [
       "count                   1458640\n",
       "mean     0 days 00:15:52.815251\n",
       "std      0 days 00:52:51.322283\n",
       "min             0 days 00:00:01\n",
       "25%             0 days 00:06:37\n",
       "50%             0 days 00:11:02\n",
       "75%             0 days 00:17:55\n",
       "max             0 days 23:59:52\n",
       "dtype: object"
      ]
     },
     "execution_count": 219,
     "metadata": {},
     "output_type": "execute_result"
    }
   ],
   "source": [
    "(df_train[\"dropoff_datetime\"] - df_train[\"pickup_datetime\"]).describe()"
   ]
  },
  {
   "cell_type": "code",
   "execution_count": 220,
   "metadata": {},
   "outputs": [
    {
     "data": {
      "image/png": "[encoded data removed]",
      "text/plain": [
       "<matplotlib.figure.Figure at 0x119014910>"
      ]
     },
     "metadata": {},
     "output_type": "display_data"
    }
   ],
   "source": [
    "plt.figure(figsize=(10,10))\n",
    "plt.scatter(range(len(df_train[\"trip_duration\"])), np.sort(df_train[\"trip_duration\"]))\n",
    "plt.xlabel('index')\n",
    "plt.ylabel('trip_duration in seconds')\n",
    "plt.show()"
   ]
  },
  {
   "cell_type": "markdown",
   "metadata": {},
   "source": [
    "_It is interesting to see that a lot of trips, have a trip duration nearing 23 hours_"
   ]
  },
  {
   "cell_type": "code",
   "execution_count": null,
   "metadata": {},
   "outputs": [],
   "source": []
  },
  {
   "cell_type": "code",
   "execution_count": null,
   "metadata": {
    "collapsed": true
   },
   "outputs": [],
   "source": []
  },
  {
   "cell_type": "code",
   "execution_count": null,
   "metadata": {
    "collapsed": true
   },
   "outputs": [],
   "source": []
  },
  {
   "cell_type": "markdown",
   "metadata": {},
   "source": [
    "### 5.6. Distribution of the store_and_fwd_flag across the train dataset:"
   ]
  },
  {
   "cell_type": "code",
   "execution_count": 221,
   "metadata": {},
   "outputs": [
    {
     "data": {
      "text/plain": [
       "<matplotlib.axes._subplots.AxesSubplot at 0x11be47750>"
      ]
     },
     "execution_count": 221,
     "metadata": {},
     "output_type": "execute_result"
    },
    {
     "data": {
      "image/png": "[encoded data removed]",
      "text/plain": [
       "<matplotlib.figure.Figure at 0x11c6f2510>"
      ]
     },
     "metadata": {},
     "output_type": "display_data"
    }
   ],
   "source": [
    "sns.countplot(x=\"store_and_fwd_flag\", data=df_train)"
   ]
  },
  {
   "cell_type": "markdown",
   "metadata": {},
   "source": [
    "_According to the Data Dictionary the store and fwd flag indicates whether the trip record was held in vehicle memory before sending to the vendor because the vehicle did not have a connection to the server - Y=store and forward; N=not a store and forward trip. This must therefore indicate that most of the trips(99.448% to be precise) were not stored in the vehicle memory before forwarding._\n",
    "\n",
    "_**Hypothesis** - In 99.448% of the trips, the vehicles might have been in an area of NYC, where the celluar reception was good; thereby having a connection to the server. In 0.551% of the trips, the celluar reception might have been poor; thereby having to store the trip record in the vehicle memory prior to sending it to the server. Could this affect the dropoff longitude and latitude? Would the dropoff coordinates not have been recorded until celluar reception was availbale again? If so, must we ignore such records while building the model?_"
   ]
  },
  {
   "cell_type": "code",
   "execution_count": 222,
   "metadata": {},
   "outputs": [
    {
     "data": {
      "text/plain": [
       "99.44845883836999"
      ]
     },
     "execution_count": 222,
     "metadata": {},
     "output_type": "execute_result"
    }
   ],
   "source": [
    "len(df_train[df_train[\"store_and_fwd_flag\"] == \"N\"])*100.0/(df_train.count()[0])"
   ]
  },
  {
   "cell_type": "markdown",
   "metadata": {},
   "source": [
    "_Among the 0.551% of the trips in the train dataset, where the trip record was stored in the vehicle memory; we observe that all the 0.551% of the cases were only for vendor id = 1._"
   ]
  },
  {
   "cell_type": "code",
   "execution_count": 223,
   "metadata": {},
   "outputs": [
    {
     "data": {
      "text/plain": [
       "{1}"
      ]
     },
     "execution_count": 223,
     "metadata": {},
     "output_type": "execute_result"
    }
   ],
   "source": [
    "set(df_train[df_train[\"store_and_fwd_flag\"] == \"Y\"][\"vendor_id\"])"
   ]
  },
  {
   "cell_type": "code",
   "execution_count": null,
   "metadata": {
    "collapsed": true
   },
   "outputs": [],
   "source": []
  },
  {
   "cell_type": "markdown",
   "metadata": {},
   "source": [
    "### 5.7. Exploring the distances between the pickup and dropoff lat/log coordinates:"
   ]
  },
  {
   "cell_type": "code",
   "execution_count": 224,
   "metadata": {
    "collapsed": true
   },
   "outputs": [],
   "source": [
    "from haversine import haversine"
   ]
  },
  {
   "cell_type": "code",
   "execution_count": 225,
   "metadata": {},
   "outputs": [],
   "source": [
    "def calculate_haversine_distance(var_row):\n",
    "    return haversine((var_row[\"pickup_latitude\"], var_row[\"pickup_longitude\"]), \n",
    "                     (var_row[\"dropoff_latitude\"], var_row[\"dropoff_longitude\"]), miles = True)"
   ]
  },
  {
   "cell_type": "code",
   "execution_count": 226,
   "metadata": {},
   "outputs": [],
   "source": [
    "# #Calculating the Haversine Distance\n",
    "# #The haversine formula determines the great-circle distance between two points on a sphere \n",
    "# #given their longitudes and latitudes.\n",
    "df_train[\"haversine_distance\"] = df_train.apply(lambda row: calculate_haversine_distance(row), axis=1)"
   ]
  },
  {
   "cell_type": "code",
   "execution_count": 227,
   "metadata": {},
   "outputs": [
    {
     "data": {
      "text/html": [
       "<div>\n",
       "<style>\n",
       "    .dataframe thead tr:only-child th {\n",
       "        text-align: right;\n",
       "    }\n",
       "\n",
       "    .dataframe thead th {\n",
       "        text-align: left;\n",
       "    }\n",
       "\n",
       "    .dataframe tbody tr th {\n",
       "        vertical-align: top;\n",
       "    }\n",
       "</style>\n",
       "<table border=\"1\" class=\"dataframe\">\n",
       "  <thead>\n",
       "    <tr style=\"text-align: right;\">\n",
       "      <th></th>\n",
       "      <th>id</th>\n",
       "      <th>vendor_id</th>\n",
       "      <th>pickup_datetime</th>\n",
       "      <th>dropoff_datetime</th>\n",
       "      <th>passenger_count</th>\n",
       "      <th>pickup_longitude</th>\n",
       "      <th>pickup_latitude</th>\n",
       "      <th>dropoff_longitude</th>\n",
       "      <th>dropoff_latitude</th>\n",
       "      <th>store_and_fwd_flag</th>\n",
       "      <th>trip_duration</th>\n",
       "      <th>haversine_distance</th>\n",
       "    </tr>\n",
       "  </thead>\n",
       "  <tbody>\n",
       "    <tr>\n",
       "      <th>0</th>\n",
       "      <td>id2875421</td>\n",
       "      <td>2</td>\n",
       "      <td>2016-03-14 17:24:55</td>\n",
       "      <td>2016-03-14 17:32:30</td>\n",
       "      <td>1</td>\n",
       "      <td>-73.982155</td>\n",
       "      <td>40.767937</td>\n",
       "      <td>-73.964630</td>\n",
       "      <td>40.765602</td>\n",
       "      <td>N</td>\n",
       "      <td>455</td>\n",
       "      <td>0.931137</td>\n",
       "    </tr>\n",
       "    <tr>\n",
       "      <th>1</th>\n",
       "      <td>id2377394</td>\n",
       "      <td>1</td>\n",
       "      <td>2016-06-12 00:43:35</td>\n",
       "      <td>2016-06-12 00:54:38</td>\n",
       "      <td>1</td>\n",
       "      <td>-73.980415</td>\n",
       "      <td>40.738564</td>\n",
       "      <td>-73.999481</td>\n",
       "      <td>40.731152</td>\n",
       "      <td>N</td>\n",
       "      <td>663</td>\n",
       "      <td>1.121890</td>\n",
       "    </tr>\n",
       "    <tr>\n",
       "      <th>2</th>\n",
       "      <td>id3858529</td>\n",
       "      <td>2</td>\n",
       "      <td>2016-01-19 11:35:24</td>\n",
       "      <td>2016-01-19 12:10:48</td>\n",
       "      <td>1</td>\n",
       "      <td>-73.979027</td>\n",
       "      <td>40.763939</td>\n",
       "      <td>-74.005333</td>\n",
       "      <td>40.710087</td>\n",
       "      <td>N</td>\n",
       "      <td>2124</td>\n",
       "      <td>3.967515</td>\n",
       "    </tr>\n",
       "    <tr>\n",
       "      <th>3</th>\n",
       "      <td>id3504673</td>\n",
       "      <td>2</td>\n",
       "      <td>2016-04-06 19:32:31</td>\n",
       "      <td>2016-04-06 19:39:40</td>\n",
       "      <td>1</td>\n",
       "      <td>-74.010040</td>\n",
       "      <td>40.719971</td>\n",
       "      <td>-74.012268</td>\n",
       "      <td>40.706718</td>\n",
       "      <td>N</td>\n",
       "      <td>429</td>\n",
       "      <td>0.923046</td>\n",
       "    </tr>\n",
       "    <tr>\n",
       "      <th>4</th>\n",
       "      <td>id2181028</td>\n",
       "      <td>2</td>\n",
       "      <td>2016-03-26 13:30:55</td>\n",
       "      <td>2016-03-26 13:38:10</td>\n",
       "      <td>1</td>\n",
       "      <td>-73.973053</td>\n",
       "      <td>40.793209</td>\n",
       "      <td>-73.972923</td>\n",
       "      <td>40.782520</td>\n",
       "      <td>N</td>\n",
       "      <td>435</td>\n",
       "      <td>0.738554</td>\n",
       "    </tr>\n",
       "  </tbody>\n",
       "</table>\n",
       "</div>"
      ],
      "text/plain": [
       "          id  vendor_id     pickup_datetime    dropoff_datetime  \\\n",
       "0  id2875421          2 2016-03-14 17:24:55 2016-03-14 17:32:30   \n",
       "1  id2377394          1 2016-06-12 00:43:35 2016-06-12 00:54:38   \n",
       "2  id3858529          2 2016-01-19 11:35:24 2016-01-19 12:10:48   \n",
       "3  id3504673          2 2016-04-06 19:32:31 2016-04-06 19:39:40   \n",
       "4  id2181028          2 2016-03-26 13:30:55 2016-03-26 13:38:10   \n",
       "\n",
       "   passenger_count  pickup_longitude  pickup_latitude  dropoff_longitude  \\\n",
       "0                1        -73.982155        40.767937         -73.964630   \n",
       "1                1        -73.980415        40.738564         -73.999481   \n",
       "2                1        -73.979027        40.763939         -74.005333   \n",
       "3                1        -74.010040        40.719971         -74.012268   \n",
       "4                1        -73.973053        40.793209         -73.972923   \n",
       "\n",
       "   dropoff_latitude store_and_fwd_flag  trip_duration  haversine_distance  \n",
       "0         40.765602                  N            455            0.931137  \n",
       "1         40.731152                  N            663            1.121890  \n",
       "2         40.710087                  N           2124            3.967515  \n",
       "3         40.706718                  N            429            0.923046  \n",
       "4         40.782520                  N            435            0.738554  "
      ]
     },
     "execution_count": 227,
     "metadata": {},
     "output_type": "execute_result"
    }
   ],
   "source": [
    "df_train.head()"
   ]
  },
  {
   "cell_type": "code",
   "execution_count": 228,
   "metadata": {},
   "outputs": [
    {
     "data": {
      "text/plain": [
       "count    1.458640e+06\n",
       "mean     2.138039e+00\n",
       "std      2.669720e+00\n",
       "min      0.000000e+00\n",
       "25%      7.654260e-01\n",
       "50%      1.300971e+00\n",
       "75%      2.408013e+00\n",
       "max      7.710647e+02\n",
       "Name: haversine_distance, dtype: float64"
      ]
     },
     "execution_count": 228,
     "metadata": {},
     "output_type": "execute_result"
    }
   ],
   "source": [
    "df_train[\"haversine_distance\"].describe()"
   ]
  },
  {
   "cell_type": "code",
   "execution_count": null,
   "metadata": {
    "collapsed": true
   },
   "outputs": [],
   "source": []
  },
  {
   "cell_type": "markdown",
   "metadata": {},
   "source": [
    "_Plot of the haversine distance vs the trip duration._"
   ]
  },
  {
   "cell_type": "code",
   "execution_count": 242,
   "metadata": {},
   "outputs": [
    {
     "data": {
      "text/plain": [
       "<matplotlib.axes._subplots.AxesSubplot at 0x11d060390>"
      ]
     },
     "execution_count": 242,
     "metadata": {},
     "output_type": "execute_result"
    },
    {
     "data": {
      "image/png": "[encoded data removed]",
      "text/plain": [
       "<matplotlib.figure.Figure at 0x108b16fd0>"
      ]
     },
     "metadata": {},
     "output_type": "display_data"
    }
   ],
   "source": [
    "plt.figure(figsize=(10,10))\n",
    "sns.regplot(x=\"haversine_distance\", y=\"trip_duration\", data=df_train)"
   ]
  },
  {
   "cell_type": "markdown",
   "metadata": {},
   "source": [
    "_The presence of outliers in the train dataset(long tail in the haversine distance) might have caused the deviation in the regression line. It would be interesting to explore different methods for outlier detection._"
   ]
  },
  {
   "cell_type": "code",
   "execution_count": 243,
   "metadata": {
    "scrolled": true
   },
   "outputs": [
    {
     "data": {
      "text/html": [
       "<div>\n",
       "<style>\n",
       "    .dataframe thead tr:only-child th {\n",
       "        text-align: right;\n",
       "    }\n",
       "\n",
       "    .dataframe thead th {\n",
       "        text-align: left;\n",
       "    }\n",
       "\n",
       "    .dataframe tbody tr th {\n",
       "        vertical-align: top;\n",
       "    }\n",
       "</style>\n",
       "<table border=\"1\" class=\"dataframe\">\n",
       "  <thead>\n",
       "    <tr style=\"text-align: right;\">\n",
       "      <th></th>\n",
       "      <th>id</th>\n",
       "      <th>vendor_id</th>\n",
       "      <th>pickup_datetime</th>\n",
       "      <th>dropoff_datetime</th>\n",
       "      <th>passenger_count</th>\n",
       "      <th>pickup_longitude</th>\n",
       "      <th>pickup_latitude</th>\n",
       "      <th>dropoff_longitude</th>\n",
       "      <th>dropoff_latitude</th>\n",
       "      <th>store_and_fwd_flag</th>\n",
       "      <th>trip_duration</th>\n",
       "      <th>haversine_distance</th>\n",
       "      <th>pickup_dayofweek</th>\n",
       "      <th>pickup_weekday_name</th>\n",
       "      <th>pickup_hour</th>\n",
       "      <th>pickup_month</th>\n",
       "    </tr>\n",
       "  </thead>\n",
       "  <tbody>\n",
       "    <tr>\n",
       "      <th>114376</th>\n",
       "      <td>id1311087</td>\n",
       "      <td>1</td>\n",
       "      <td>2016-02-29 12:16:29</td>\n",
       "      <td>2016-02-29 18:47:09</td>\n",
       "      <td>3</td>\n",
       "      <td>-75.455917</td>\n",
       "      <td>39.803932</td>\n",
       "      <td>-73.796021</td>\n",
       "      <td>40.707726</td>\n",
       "      <td>N</td>\n",
       "      <td>23440</td>\n",
       "      <td>107.515425</td>\n",
       "      <td>0</td>\n",
       "      <td>Monday</td>\n",
       "      <td>12</td>\n",
       "      <td>2</td>\n",
       "    </tr>\n",
       "    <tr>\n",
       "      <th>184925</th>\n",
       "      <td>id2306955</td>\n",
       "      <td>1</td>\n",
       "      <td>2016-05-07 18:58:53</td>\n",
       "      <td>2016-05-07 19:12:05</td>\n",
       "      <td>1</td>\n",
       "      <td>-72.809669</td>\n",
       "      <td>51.881084</td>\n",
       "      <td>-73.987228</td>\n",
       "      <td>40.750599</td>\n",
       "      <td>N</td>\n",
       "      <td>792</td>\n",
       "      <td>771.064665</td>\n",
       "      <td>5</td>\n",
       "      <td>Saturday</td>\n",
       "      <td>18</td>\n",
       "      <td>5</td>\n",
       "    </tr>\n",
       "    <tr>\n",
       "      <th>275644</th>\n",
       "      <td>id0978162</td>\n",
       "      <td>1</td>\n",
       "      <td>2016-02-24 16:20:59</td>\n",
       "      <td>2016-02-24 16:35:34</td>\n",
       "      <td>4</td>\n",
       "      <td>-75.354332</td>\n",
       "      <td>34.712234</td>\n",
       "      <td>-73.834923</td>\n",
       "      <td>32.181141</td>\n",
       "      <td>N</td>\n",
       "      <td>875</td>\n",
       "      <td>195.585348</td>\n",
       "      <td>2</td>\n",
       "      <td>Wednesday</td>\n",
       "      <td>16</td>\n",
       "      <td>2</td>\n",
       "    </tr>\n",
       "    <tr>\n",
       "      <th>377068</th>\n",
       "      <td>id0116374</td>\n",
       "      <td>1</td>\n",
       "      <td>2016-04-02 20:33:19</td>\n",
       "      <td>2016-04-02 20:38:01</td>\n",
       "      <td>1</td>\n",
       "      <td>-74.007095</td>\n",
       "      <td>40.717113</td>\n",
       "      <td>-76.963242</td>\n",
       "      <td>38.946033</td>\n",
       "      <td>N</td>\n",
       "      <td>282</td>\n",
       "      <td>198.916873</td>\n",
       "      <td>5</td>\n",
       "      <td>Saturday</td>\n",
       "      <td>20</td>\n",
       "      <td>4</td>\n",
       "    </tr>\n",
       "    <tr>\n",
       "      <th>397526</th>\n",
       "      <td>id0982904</td>\n",
       "      <td>1</td>\n",
       "      <td>2016-04-28 13:32:14</td>\n",
       "      <td>2016-04-28 14:14:09</td>\n",
       "      <td>2</td>\n",
       "      <td>-73.870682</td>\n",
       "      <td>40.773598</td>\n",
       "      <td>-79.817978</td>\n",
       "      <td>38.963852</td>\n",
       "      <td>N</td>\n",
       "      <td>2515</td>\n",
       "      <td>339.177534</td>\n",
       "      <td>3</td>\n",
       "      <td>Thursday</td>\n",
       "      <td>13</td>\n",
       "      <td>4</td>\n",
       "    </tr>\n",
       "    <tr>\n",
       "      <th>644165</th>\n",
       "      <td>id0401529</td>\n",
       "      <td>2</td>\n",
       "      <td>2016-06-02 15:19:35</td>\n",
       "      <td>2016-06-02 15:32:59</td>\n",
       "      <td>1</td>\n",
       "      <td>-73.980751</td>\n",
       "      <td>40.757111</td>\n",
       "      <td>-74.240051</td>\n",
       "      <td>38.478298</td>\n",
       "      <td>N</td>\n",
       "      <td>804</td>\n",
       "      <td>158.054116</td>\n",
       "      <td>3</td>\n",
       "      <td>Thursday</td>\n",
       "      <td>15</td>\n",
       "      <td>6</td>\n",
       "    </tr>\n",
       "    <tr>\n",
       "      <th>910072</th>\n",
       "      <td>id1146400</td>\n",
       "      <td>1</td>\n",
       "      <td>2016-02-15 18:57:32</td>\n",
       "      <td>2016-02-15 19:02:35</td>\n",
       "      <td>2</td>\n",
       "      <td>-73.989914</td>\n",
       "      <td>40.756634</td>\n",
       "      <td>-70.346077</td>\n",
       "      <td>36.398121</td>\n",
       "      <td>N</td>\n",
       "      <td>303</td>\n",
       "      <td>359.676140</td>\n",
       "      <td>0</td>\n",
       "      <td>Monday</td>\n",
       "      <td>18</td>\n",
       "      <td>2</td>\n",
       "    </tr>\n",
       "    <tr>\n",
       "      <th>923793</th>\n",
       "      <td>id1001696</td>\n",
       "      <td>1</td>\n",
       "      <td>2016-02-24 21:02:32</td>\n",
       "      <td>2016-02-24 21:25:57</td>\n",
       "      <td>1</td>\n",
       "      <td>-73.972366</td>\n",
       "      <td>40.758633</td>\n",
       "      <td>-79.553535</td>\n",
       "      <td>43.674000</td>\n",
       "      <td>N</td>\n",
       "      <td>1405</td>\n",
       "      <td>349.356641</td>\n",
       "      <td>2</td>\n",
       "      <td>Wednesday</td>\n",
       "      <td>21</td>\n",
       "      <td>2</td>\n",
       "    </tr>\n",
       "    <tr>\n",
       "      <th>974378</th>\n",
       "      <td>id1510552</td>\n",
       "      <td>2</td>\n",
       "      <td>2016-01-06 20:40:52</td>\n",
       "      <td>2016-01-06 20:51:03</td>\n",
       "      <td>5</td>\n",
       "      <td>-71.799896</td>\n",
       "      <td>35.081532</td>\n",
       "      <td>-79.352837</td>\n",
       "      <td>40.436329</td>\n",
       "      <td>N</td>\n",
       "      <td>611</td>\n",
       "      <td>553.774599</td>\n",
       "      <td>2</td>\n",
       "      <td>Wednesday</td>\n",
       "      <td>20</td>\n",
       "      <td>1</td>\n",
       "    </tr>\n",
       "    <tr>\n",
       "      <th>1013474</th>\n",
       "      <td>id3626673</td>\n",
       "      <td>1</td>\n",
       "      <td>2016-05-05 18:02:50</td>\n",
       "      <td>2016-05-05 18:18:23</td>\n",
       "      <td>1</td>\n",
       "      <td>-73.978912</td>\n",
       "      <td>40.756763</td>\n",
       "      <td>-79.338699</td>\n",
       "      <td>41.427902</td>\n",
       "      <td>N</td>\n",
       "      <td>933</td>\n",
       "      <td>282.873682</td>\n",
       "      <td>3</td>\n",
       "      <td>Thursday</td>\n",
       "      <td>18</td>\n",
       "      <td>5</td>\n",
       "    </tr>\n",
       "    <tr>\n",
       "      <th>1060807</th>\n",
       "      <td>id0838705</td>\n",
       "      <td>1</td>\n",
       "      <td>2016-02-26 19:50:03</td>\n",
       "      <td>2016-02-26 20:08:54</td>\n",
       "      <td>1</td>\n",
       "      <td>-66.972160</td>\n",
       "      <td>44.371944</td>\n",
       "      <td>-69.048019</td>\n",
       "      <td>43.147583</td>\n",
       "      <td>N</td>\n",
       "      <td>1131</td>\n",
       "      <td>133.735551</td>\n",
       "      <td>4</td>\n",
       "      <td>Friday</td>\n",
       "      <td>19</td>\n",
       "      <td>2</td>\n",
       "    </tr>\n",
       "    <tr>\n",
       "      <th>1100676</th>\n",
       "      <td>id2644780</td>\n",
       "      <td>1</td>\n",
       "      <td>2016-05-03 16:24:07</td>\n",
       "      <td>2016-05-03 17:18:34</td>\n",
       "      <td>2</td>\n",
       "      <td>-73.991325</td>\n",
       "      <td>40.750023</td>\n",
       "      <td>-79.518616</td>\n",
       "      <td>43.921028</td>\n",
       "      <td>N</td>\n",
       "      <td>3267</td>\n",
       "      <td>357.210929</td>\n",
       "      <td>1</td>\n",
       "      <td>Tuesday</td>\n",
       "      <td>16</td>\n",
       "      <td>5</td>\n",
       "    </tr>\n",
       "    <tr>\n",
       "      <th>1301396</th>\n",
       "      <td>id1216866</td>\n",
       "      <td>1</td>\n",
       "      <td>2016-03-26 22:01:54</td>\n",
       "      <td>2016-03-27 00:47:16</td>\n",
       "      <td>1</td>\n",
       "      <td>-73.981491</td>\n",
       "      <td>40.773251</td>\n",
       "      <td>-76.135719</td>\n",
       "      <td>40.243626</td>\n",
       "      <td>N</td>\n",
       "      <td>9922</td>\n",
       "      <td>118.932144</td>\n",
       "      <td>5</td>\n",
       "      <td>Saturday</td>\n",
       "      <td>22</td>\n",
       "      <td>3</td>\n",
       "    </tr>\n",
       "  </tbody>\n",
       "</table>\n",
       "</div>"
      ],
      "text/plain": [
       "                id  vendor_id     pickup_datetime    dropoff_datetime  \\\n",
       "114376   id1311087          1 2016-02-29 12:16:29 2016-02-29 18:47:09   \n",
       "184925   id2306955          1 2016-05-07 18:58:53 2016-05-07 19:12:05   \n",
       "275644   id0978162          1 2016-02-24 16:20:59 2016-02-24 16:35:34   \n",
       "377068   id0116374          1 2016-04-02 20:33:19 2016-04-02 20:38:01   \n",
       "397526   id0982904          1 2016-04-28 13:32:14 2016-04-28 14:14:09   \n",
       "644165   id0401529          2 2016-06-02 15:19:35 2016-06-02 15:32:59   \n",
       "910072   id1146400          1 2016-02-15 18:57:32 2016-02-15 19:02:35   \n",
       "923793   id1001696          1 2016-02-24 21:02:32 2016-02-24 21:25:57   \n",
       "974378   id1510552          2 2016-01-06 20:40:52 2016-01-06 20:51:03   \n",
       "1013474  id3626673          1 2016-05-05 18:02:50 2016-05-05 18:18:23   \n",
       "1060807  id0838705          1 2016-02-26 19:50:03 2016-02-26 20:08:54   \n",
       "1100676  id2644780          1 2016-05-03 16:24:07 2016-05-03 17:18:34   \n",
       "1301396  id1216866          1 2016-03-26 22:01:54 2016-03-27 00:47:16   \n",
       "\n",
       "         passenger_count  pickup_longitude  pickup_latitude  \\\n",
       "114376                 3        -75.455917        39.803932   \n",
       "184925                 1        -72.809669        51.881084   \n",
       "275644                 4        -75.354332        34.712234   \n",
       "377068                 1        -74.007095        40.717113   \n",
       "397526                 2        -73.870682        40.773598   \n",
       "644165                 1        -73.980751        40.757111   \n",
       "910072                 2        -73.989914        40.756634   \n",
       "923793                 1        -73.972366        40.758633   \n",
       "974378                 5        -71.799896        35.081532   \n",
       "1013474                1        -73.978912        40.756763   \n",
       "1060807                1        -66.972160        44.371944   \n",
       "1100676                2        -73.991325        40.750023   \n",
       "1301396                1        -73.981491        40.773251   \n",
       "\n",
       "         dropoff_longitude  dropoff_latitude store_and_fwd_flag  \\\n",
       "114376          -73.796021         40.707726                  N   \n",
       "184925          -73.987228         40.750599                  N   \n",
       "275644          -73.834923         32.181141                  N   \n",
       "377068          -76.963242         38.946033                  N   \n",
       "397526          -79.817978         38.963852                  N   \n",
       "644165          -74.240051         38.478298                  N   \n",
       "910072          -70.346077         36.398121                  N   \n",
       "923793          -79.553535         43.674000                  N   \n",
       "974378          -79.352837         40.436329                  N   \n",
       "1013474         -79.338699         41.427902                  N   \n",
       "1060807         -69.048019         43.147583                  N   \n",
       "1100676         -79.518616         43.921028                  N   \n",
       "1301396         -76.135719         40.243626                  N   \n",
       "\n",
       "         trip_duration  haversine_distance  pickup_dayofweek  \\\n",
       "114376           23440          107.515425                 0   \n",
       "184925             792          771.064665                 5   \n",
       "275644             875          195.585348                 2   \n",
       "377068             282          198.916873                 5   \n",
       "397526            2515          339.177534                 3   \n",
       "644165             804          158.054116                 3   \n",
       "910072             303          359.676140                 0   \n",
       "923793            1405          349.356641                 2   \n",
       "974378             611          553.774599                 2   \n",
       "1013474            933          282.873682                 3   \n",
       "1060807           1131          133.735551                 4   \n",
       "1100676           3267          357.210929                 1   \n",
       "1301396           9922          118.932144                 5   \n",
       "\n",
       "        pickup_weekday_name  pickup_hour  pickup_month  \n",
       "114376               Monday           12             2  \n",
       "184925             Saturday           18             5  \n",
       "275644            Wednesday           16             2  \n",
       "377068             Saturday           20             4  \n",
       "397526             Thursday           13             4  \n",
       "644165             Thursday           15             6  \n",
       "910072               Monday           18             2  \n",
       "923793            Wednesday           21             2  \n",
       "974378            Wednesday           20             1  \n",
       "1013474            Thursday           18             5  \n",
       "1060807              Friday           19             2  \n",
       "1100676             Tuesday           16             5  \n",
       "1301396            Saturday           22             3  "
      ]
     },
     "execution_count": 243,
     "metadata": {},
     "output_type": "execute_result"
    }
   ],
   "source": [
    "df_train[df_train[\"haversine_distance\"] > 100]"
   ]
  },
  {
   "cell_type": "code",
   "execution_count": 244,
   "metadata": {},
   "outputs": [
    {
     "data": {
      "text/plain": [
       "<matplotlib.axes._subplots.AxesSubplot at 0x101071090>"
      ]
     },
     "execution_count": 244,
     "metadata": {},
     "output_type": "execute_result"
    },
    {
     "data": {
      "image/png": "[encoded data removed]",
      "text/plain": [
       "<matplotlib.figure.Figure at 0x118f6f0d0>"
      ]
     },
     "metadata": {},
     "output_type": "display_data"
    }
   ],
   "source": [
    "plt.figure(figsize=(10,10))\n",
    "sns.regplot(x=\"haversine_distance\", y=\"trip_duration\", data=df_train[df_train[\"haversine_distance\"] < 100])"
   ]
  },
  {
   "cell_type": "code",
   "execution_count": null,
   "metadata": {
    "collapsed": true
   },
   "outputs": [],
   "source": []
  },
  {
   "cell_type": "markdown",
   "metadata": {},
   "source": [
    "### 5.8. Exploring the number of trips at each timestamp feature in the train dataset:"
   ]
  },
  {
   "cell_type": "markdown",
   "metadata": {},
   "source": [
    "_Once the train dataset has been cleaned, based on the outliers in column - trip duration(that consisted of a few trips lasting for 20 days or more), we can now explore the timestamps on a hourly-weekly basis for further exploratory analysis._"
   ]
  },
  {
   "cell_type": "markdown",
   "metadata": {},
   "source": [
    "_The train dataset contains trips that range from 2016-01-01 to 2016-06-30, i.e. 6 months worth of data._"
   ]
  },
  {
   "cell_type": "code",
   "execution_count": 232,
   "metadata": {},
   "outputs": [
    {
     "name": "stdout",
     "output_type": "stream",
     "text": [
      "('Train dataset start date: ', Timestamp('2016-01-01 00:00:17'))\n",
      "('Train dataset end date: ', Timestamp('2016-06-30 23:59:39'))\n"
     ]
    }
   ],
   "source": [
    "print(\"Train dataset start date: \", min(df_train[\"pickup_datetime\"]))\n",
    "print(\"Train dataset end date: \", max(df_train[\"pickup_datetime\"]))"
   ]
  },
  {
   "cell_type": "code",
   "execution_count": 233,
   "metadata": {
    "collapsed": true
   },
   "outputs": [],
   "source": [
    "# #Conversion to pandas to_datetime has already been performed in section 5.5\n",
    "# #df_train[\"pickup_datetime\"] = pd.to_datetime(df_train['pickup_datetime'])\n",
    "\n",
    "\n",
    "df_train[\"pickup_dayofweek\"] = df_train.pickup_datetime.dt.dayofweek\n",
    "df_train[\"pickup_weekday_name\"] = df_train.pickup_datetime.dt.weekday_name\n",
    "df_train[\"pickup_hour\"] = df_train.pickup_datetime.dt.hour\n",
    "df_train[\"pickup_month\"] = df_train.pickup_datetime.dt.month"
   ]
  },
  {
   "cell_type": "code",
   "execution_count": 234,
   "metadata": {},
   "outputs": [
    {
     "data": {
      "text/html": [
       "<div>\n",
       "<style>\n",
       "    .dataframe thead tr:only-child th {\n",
       "        text-align: right;\n",
       "    }\n",
       "\n",
       "    .dataframe thead th {\n",
       "        text-align: left;\n",
       "    }\n",
       "\n",
       "    .dataframe tbody tr th {\n",
       "        vertical-align: top;\n",
       "    }\n",
       "</style>\n",
       "<table border=\"1\" class=\"dataframe\">\n",
       "  <thead>\n",
       "    <tr style=\"text-align: right;\">\n",
       "      <th></th>\n",
       "      <th>id</th>\n",
       "      <th>vendor_id</th>\n",
       "      <th>pickup_datetime</th>\n",
       "      <th>dropoff_datetime</th>\n",
       "      <th>passenger_count</th>\n",
       "      <th>pickup_longitude</th>\n",
       "      <th>pickup_latitude</th>\n",
       "      <th>dropoff_longitude</th>\n",
       "      <th>dropoff_latitude</th>\n",
       "      <th>store_and_fwd_flag</th>\n",
       "      <th>trip_duration</th>\n",
       "      <th>haversine_distance</th>\n",
       "      <th>pickup_dayofweek</th>\n",
       "      <th>pickup_weekday_name</th>\n",
       "      <th>pickup_hour</th>\n",
       "      <th>pickup_month</th>\n",
       "    </tr>\n",
       "  </thead>\n",
       "  <tbody>\n",
       "    <tr>\n",
       "      <th>0</th>\n",
       "      <td>id2875421</td>\n",
       "      <td>2</td>\n",
       "      <td>2016-03-14 17:24:55</td>\n",
       "      <td>2016-03-14 17:32:30</td>\n",
       "      <td>1</td>\n",
       "      <td>-73.982155</td>\n",
       "      <td>40.767937</td>\n",
       "      <td>-73.964630</td>\n",
       "      <td>40.765602</td>\n",
       "      <td>N</td>\n",
       "      <td>455</td>\n",
       "      <td>0.931137</td>\n",
       "      <td>0</td>\n",
       "      <td>Monday</td>\n",
       "      <td>17</td>\n",
       "      <td>3</td>\n",
       "    </tr>\n",
       "    <tr>\n",
       "      <th>1</th>\n",
       "      <td>id2377394</td>\n",
       "      <td>1</td>\n",
       "      <td>2016-06-12 00:43:35</td>\n",
       "      <td>2016-06-12 00:54:38</td>\n",
       "      <td>1</td>\n",
       "      <td>-73.980415</td>\n",
       "      <td>40.738564</td>\n",
       "      <td>-73.999481</td>\n",
       "      <td>40.731152</td>\n",
       "      <td>N</td>\n",
       "      <td>663</td>\n",
       "      <td>1.121890</td>\n",
       "      <td>6</td>\n",
       "      <td>Sunday</td>\n",
       "      <td>0</td>\n",
       "      <td>6</td>\n",
       "    </tr>\n",
       "    <tr>\n",
       "      <th>2</th>\n",
       "      <td>id3858529</td>\n",
       "      <td>2</td>\n",
       "      <td>2016-01-19 11:35:24</td>\n",
       "      <td>2016-01-19 12:10:48</td>\n",
       "      <td>1</td>\n",
       "      <td>-73.979027</td>\n",
       "      <td>40.763939</td>\n",
       "      <td>-74.005333</td>\n",
       "      <td>40.710087</td>\n",
       "      <td>N</td>\n",
       "      <td>2124</td>\n",
       "      <td>3.967515</td>\n",
       "      <td>1</td>\n",
       "      <td>Tuesday</td>\n",
       "      <td>11</td>\n",
       "      <td>1</td>\n",
       "    </tr>\n",
       "    <tr>\n",
       "      <th>3</th>\n",
       "      <td>id3504673</td>\n",
       "      <td>2</td>\n",
       "      <td>2016-04-06 19:32:31</td>\n",
       "      <td>2016-04-06 19:39:40</td>\n",
       "      <td>1</td>\n",
       "      <td>-74.010040</td>\n",
       "      <td>40.719971</td>\n",
       "      <td>-74.012268</td>\n",
       "      <td>40.706718</td>\n",
       "      <td>N</td>\n",
       "      <td>429</td>\n",
       "      <td>0.923046</td>\n",
       "      <td>2</td>\n",
       "      <td>Wednesday</td>\n",
       "      <td>19</td>\n",
       "      <td>4</td>\n",
       "    </tr>\n",
       "    <tr>\n",
       "      <th>4</th>\n",
       "      <td>id2181028</td>\n",
       "      <td>2</td>\n",
       "      <td>2016-03-26 13:30:55</td>\n",
       "      <td>2016-03-26 13:38:10</td>\n",
       "      <td>1</td>\n",
       "      <td>-73.973053</td>\n",
       "      <td>40.793209</td>\n",
       "      <td>-73.972923</td>\n",
       "      <td>40.782520</td>\n",
       "      <td>N</td>\n",
       "      <td>435</td>\n",
       "      <td>0.738554</td>\n",
       "      <td>5</td>\n",
       "      <td>Saturday</td>\n",
       "      <td>13</td>\n",
       "      <td>3</td>\n",
       "    </tr>\n",
       "  </tbody>\n",
       "</table>\n",
       "</div>"
      ],
      "text/plain": [
       "          id  vendor_id     pickup_datetime    dropoff_datetime  \\\n",
       "0  id2875421          2 2016-03-14 17:24:55 2016-03-14 17:32:30   \n",
       "1  id2377394          1 2016-06-12 00:43:35 2016-06-12 00:54:38   \n",
       "2  id3858529          2 2016-01-19 11:35:24 2016-01-19 12:10:48   \n",
       "3  id3504673          2 2016-04-06 19:32:31 2016-04-06 19:39:40   \n",
       "4  id2181028          2 2016-03-26 13:30:55 2016-03-26 13:38:10   \n",
       "\n",
       "   passenger_count  pickup_longitude  pickup_latitude  dropoff_longitude  \\\n",
       "0                1        -73.982155        40.767937         -73.964630   \n",
       "1                1        -73.980415        40.738564         -73.999481   \n",
       "2                1        -73.979027        40.763939         -74.005333   \n",
       "3                1        -74.010040        40.719971         -74.012268   \n",
       "4                1        -73.973053        40.793209         -73.972923   \n",
       "\n",
       "   dropoff_latitude store_and_fwd_flag  trip_duration  haversine_distance  \\\n",
       "0         40.765602                  N            455            0.931137   \n",
       "1         40.731152                  N            663            1.121890   \n",
       "2         40.710087                  N           2124            3.967515   \n",
       "3         40.706718                  N            429            0.923046   \n",
       "4         40.782520                  N            435            0.738554   \n",
       "\n",
       "   pickup_dayofweek pickup_weekday_name  pickup_hour  pickup_month  \n",
       "0                 0              Monday           17             3  \n",
       "1                 6              Sunday            0             6  \n",
       "2                 1             Tuesday           11             1  \n",
       "3                 2           Wednesday           19             4  \n",
       "4                 5            Saturday           13             3  "
      ]
     },
     "execution_count": 234,
     "metadata": {},
     "output_type": "execute_result"
    }
   ],
   "source": [
    "df_train.head()"
   ]
  },
  {
   "cell_type": "code",
   "execution_count": null,
   "metadata": {
    "collapsed": true
   },
   "outputs": [],
   "source": []
  },
  {
   "cell_type": "markdown",
   "metadata": {},
   "source": [
    "_Distribution of trips across - months in the six month rage, day of the week and hour in a day._\n",
    "\n",
    "_We can observe that there are more trips on Friday's and Saturday's, than on any other weekday, and this make sense (TGIF :)); On a 24 hour clock, the number of trips is the highest between 17:00 hrs - 22:00 hrs and reduces post 01:00 hrs; On a six month time range, the number of trips are almost evenly distributed, with none of the months having a surprising spike in the dataset. _"
   ]
  },
  {
   "cell_type": "code",
   "execution_count": 235,
   "metadata": {},
   "outputs": [
    {
     "data": {
      "image/png": "[encoded data removed]",
      "text/plain": [
       "<matplotlib.figure.Figure at 0x11be47a10>"
      ]
     },
     "metadata": {},
     "output_type": "display_data"
    }
   ],
   "source": [
    "plt.figure(figsize=(12,8))\n",
    "sns.countplot(x=\"pickup_weekday_name\", data=df_train)\n",
    "plt.show()"
   ]
  },
  {
   "cell_type": "code",
   "execution_count": 236,
   "metadata": {},
   "outputs": [
    {
     "data": {
      "image/png": "[encoded data removed]",
      "text/plain": [
       "<matplotlib.figure.Figure at 0x11136c890>"
      ]
     },
     "metadata": {},
     "output_type": "display_data"
    }
   ],
   "source": [
    "plt.figure(figsize=(12,8))\n",
    "sns.countplot(x=\"pickup_hour\", data=df_train)\n",
    "plt.show()"
   ]
  },
  {
   "cell_type": "code",
   "execution_count": 237,
   "metadata": {},
   "outputs": [
    {
     "data": {
      "image/png": "[encoded data removed]",
      "text/plain": [
       "<matplotlib.figure.Figure at 0x11ce14950>"
      ]
     },
     "metadata": {},
     "output_type": "display_data"
    }
   ],
   "source": [
    "plt.figure(figsize=(12,8))\n",
    "sns.countplot(x=\"pickup_month\", data=df_train)\n",
    "plt.show()"
   ]
  },
  {
   "cell_type": "markdown",
   "metadata": {},
   "source": [
    "_It would now be interesting to visualize the behaviour of the trip duration variable, based on the timestamp features._"
   ]
  },
  {
   "cell_type": "code",
   "execution_count": null,
   "metadata": {
    "collapsed": true
   },
   "outputs": [],
   "source": []
  },
  {
   "cell_type": "markdown",
   "metadata": {},
   "source": [
    "### 5.9. Exploring the behaviour of trip_duration based on the number of trips for each timestamp feature in the train dataset:"
   ]
  },
  {
   "cell_type": "markdown",
   "metadata": {},
   "source": [
    "_In order to visualize the trip duration behaviour, it would be important to aggregate the trip duration at each of the timnestamp feature levels. Since there could be outliers in the trip duration variable(and outlier detection has not yet been performed for this variable) median would be a more representative measure, rather than the mean._"
   ]
  },
  {
   "cell_type": "code",
   "execution_count": 238,
   "metadata": {},
   "outputs": [
    {
     "data": {
      "text/plain": [
       "count    1.458640e+06\n",
       "mean     9.528153e+02\n",
       "std      3.171322e+03\n",
       "min      1.000000e+00\n",
       "25%      3.970000e+02\n",
       "50%      6.620000e+02\n",
       "75%      1.075000e+03\n",
       "max      8.639200e+04\n",
       "Name: trip_duration, dtype: float64"
      ]
     },
     "execution_count": 238,
     "metadata": {},
     "output_type": "execute_result"
    }
   ],
   "source": [
    "df_train.trip_duration.describe()"
   ]
  },
  {
   "cell_type": "code",
   "execution_count": 239,
   "metadata": {},
   "outputs": [
    {
     "data": {
      "image/png": "[encoded data removed]",
      "text/plain": [
       "<matplotlib.figure.Figure at 0x118fd41d0>"
      ]
     },
     "metadata": {},
     "output_type": "display_data"
    }
   ],
   "source": [
    "df_train_agg = df_train.groupby('pickup_weekday_name')['trip_duration'].aggregate(np.median).reset_index()\n",
    "\n",
    "plt.figure(figsize=(12,8))\n",
    "sns.pointplot(df_train_agg.pickup_weekday_name.values, df_train_agg.trip_duration.values)\n",
    "plt.show()"
   ]
  },
  {
   "cell_type": "code",
   "execution_count": 250,
   "metadata": {},
   "outputs": [
    {
     "data": {
      "text/html": [
       "<div>\n",
       "<style>\n",
       "    .dataframe thead tr:only-child th {\n",
       "        text-align: right;\n",
       "    }\n",
       "\n",
       "    .dataframe thead th {\n",
       "        text-align: left;\n",
       "    }\n",
       "\n",
       "    .dataframe tbody tr th {\n",
       "        vertical-align: top;\n",
       "    }\n",
       "</style>\n",
       "<table border=\"1\" class=\"dataframe\">\n",
       "  <thead>\n",
       "    <tr style=\"text-align: right;\">\n",
       "      <th></th>\n",
       "      <th>count</th>\n",
       "      <th>mean</th>\n",
       "      <th>std</th>\n",
       "      <th>min</th>\n",
       "      <th>25%</th>\n",
       "      <th>50%</th>\n",
       "      <th>75%</th>\n",
       "      <th>max</th>\n",
       "    </tr>\n",
       "    <tr>\n",
       "      <th>pickup_weekday_name</th>\n",
       "      <th></th>\n",
       "      <th></th>\n",
       "      <th></th>\n",
       "      <th></th>\n",
       "      <th></th>\n",
       "      <th></th>\n",
       "      <th></th>\n",
       "      <th></th>\n",
       "    </tr>\n",
       "  </thead>\n",
       "  <tbody>\n",
       "    <tr>\n",
       "      <th>Friday</th>\n",
       "      <td>223533.0</td>\n",
       "      <td>990.224200</td>\n",
       "      <td>3274.974477</td>\n",
       "      <td>1.0</td>\n",
       "      <td>410.0</td>\n",
       "      <td>686.0</td>\n",
       "      <td>1112.0</td>\n",
       "      <td>86390.0</td>\n",
       "    </tr>\n",
       "    <tr>\n",
       "      <th>Monday</th>\n",
       "      <td>187418.0</td>\n",
       "      <td>897.947839</td>\n",
       "      <td>2769.429213</td>\n",
       "      <td>1.0</td>\n",
       "      <td>380.0</td>\n",
       "      <td>630.0</td>\n",
       "      <td>1027.0</td>\n",
       "      <td>86392.0</td>\n",
       "    </tr>\n",
       "    <tr>\n",
       "      <th>Saturday</th>\n",
       "      <td>220866.0</td>\n",
       "      <td>922.814317</td>\n",
       "      <td>3515.782988</td>\n",
       "      <td>1.0</td>\n",
       "      <td>385.0</td>\n",
       "      <td>637.0</td>\n",
       "      <td>1012.0</td>\n",
       "      <td>86377.0</td>\n",
       "    </tr>\n",
       "    <tr>\n",
       "      <th>Sunday</th>\n",
       "      <td>195366.0</td>\n",
       "      <td>901.639395</td>\n",
       "      <td>3456.093920</td>\n",
       "      <td>1.0</td>\n",
       "      <td>364.0</td>\n",
       "      <td>602.0</td>\n",
       "      <td>978.0</td>\n",
       "      <td>86369.0</td>\n",
       "    </tr>\n",
       "    <tr>\n",
       "      <th>Thursday</th>\n",
       "      <td>218574.0</td>\n",
       "      <td>1006.528654</td>\n",
       "      <td>3100.383654</td>\n",
       "      <td>1.0</td>\n",
       "      <td>420.0</td>\n",
       "      <td>709.0</td>\n",
       "      <td>1155.0</td>\n",
       "      <td>86387.0</td>\n",
       "    </tr>\n",
       "    <tr>\n",
       "      <th>Tuesday</th>\n",
       "      <td>202747.0</td>\n",
       "      <td>962.918401</td>\n",
       "      <td>3058.192485</td>\n",
       "      <td>1.0</td>\n",
       "      <td>407.0</td>\n",
       "      <td>679.0</td>\n",
       "      <td>1102.0</td>\n",
       "      <td>86391.0</td>\n",
       "    </tr>\n",
       "    <tr>\n",
       "      <th>Wednesday</th>\n",
       "      <td>210136.0</td>\n",
       "      <td>975.450494</td>\n",
       "      <td>2903.805145</td>\n",
       "      <td>1.0</td>\n",
       "      <td>416.0</td>\n",
       "      <td>694.0</td>\n",
       "      <td>1133.0</td>\n",
       "      <td>86366.0</td>\n",
       "    </tr>\n",
       "  </tbody>\n",
       "</table>\n",
       "</div>"
      ],
      "text/plain": [
       "                        count         mean          std  min    25%    50%  \\\n",
       "pickup_weekday_name                                                          \n",
       "Friday               223533.0   990.224200  3274.974477  1.0  410.0  686.0   \n",
       "Monday               187418.0   897.947839  2769.429213  1.0  380.0  630.0   \n",
       "Saturday             220866.0   922.814317  3515.782988  1.0  385.0  637.0   \n",
       "Sunday               195366.0   901.639395  3456.093920  1.0  364.0  602.0   \n",
       "Thursday             218574.0  1006.528654  3100.383654  1.0  420.0  709.0   \n",
       "Tuesday              202747.0   962.918401  3058.192485  1.0  407.0  679.0   \n",
       "Wednesday            210136.0   975.450494  2903.805145  1.0  416.0  694.0   \n",
       "\n",
       "                        75%      max  \n",
       "pickup_weekday_name                   \n",
       "Friday               1112.0  86390.0  \n",
       "Monday               1027.0  86392.0  \n",
       "Saturday             1012.0  86377.0  \n",
       "Sunday                978.0  86369.0  \n",
       "Thursday             1155.0  86387.0  \n",
       "Tuesday              1102.0  86391.0  \n",
       "Wednesday            1133.0  86366.0  "
      ]
     },
     "execution_count": 250,
     "metadata": {},
     "output_type": "execute_result"
    }
   ],
   "source": [
    "df_train.groupby('pickup_weekday_name')['trip_duration'].describe()"
   ]
  },
  {
   "cell_type": "code",
   "execution_count": 240,
   "metadata": {},
   "outputs": [
    {
     "data": {
      "image/png": "[encoded data removed]",
      "text/plain": [
       "<matplotlib.figure.Figure at 0x11136d7d0>"
      ]
     },
     "metadata": {},
     "output_type": "display_data"
    }
   ],
   "source": [
    "df_train_agg = df_train.groupby('pickup_hour')['trip_duration'].aggregate(np.median).reset_index()\n",
    "\n",
    "plt.figure(figsize=(12,8))\n",
    "sns.pointplot(df_train_agg.pickup_hour.values, df_train_agg.trip_duration.values)\n",
    "plt.show()"
   ]
  },
  {
   "cell_type": "code",
   "execution_count": 251,
   "metadata": {},
   "outputs": [
    {
     "data": {
      "text/html": [
       "<div>\n",
       "<style>\n",
       "    .dataframe thead tr:only-child th {\n",
       "        text-align: right;\n",
       "    }\n",
       "\n",
       "    .dataframe thead th {\n",
       "        text-align: left;\n",
       "    }\n",
       "\n",
       "    .dataframe tbody tr th {\n",
       "        vertical-align: top;\n",
       "    }\n",
       "</style>\n",
       "<table border=\"1\" class=\"dataframe\">\n",
       "  <thead>\n",
       "    <tr style=\"text-align: right;\">\n",
       "      <th></th>\n",
       "      <th>count</th>\n",
       "      <th>mean</th>\n",
       "      <th>std</th>\n",
       "      <th>min</th>\n",
       "      <th>25%</th>\n",
       "      <th>50%</th>\n",
       "      <th>75%</th>\n",
       "      <th>max</th>\n",
       "    </tr>\n",
       "    <tr>\n",
       "      <th>pickup_hour</th>\n",
       "      <th></th>\n",
       "      <th></th>\n",
       "      <th></th>\n",
       "      <th></th>\n",
       "      <th></th>\n",
       "      <th></th>\n",
       "      <th></th>\n",
       "      <th></th>\n",
       "    </tr>\n",
       "  </thead>\n",
       "  <tbody>\n",
       "    <tr>\n",
       "      <th>0</th>\n",
       "      <td>53247.0</td>\n",
       "      <td>900.245873</td>\n",
       "      <td>3223.040076</td>\n",
       "      <td>1.0</td>\n",
       "      <td>389.00</td>\n",
       "      <td>646.0</td>\n",
       "      <td>1039.00</td>\n",
       "      <td>86390.0</td>\n",
       "    </tr>\n",
       "    <tr>\n",
       "      <th>1</th>\n",
       "      <td>38571.0</td>\n",
       "      <td>903.087112</td>\n",
       "      <td>3733.570656</td>\n",
       "      <td>2.0</td>\n",
       "      <td>371.00</td>\n",
       "      <td>613.0</td>\n",
       "      <td>977.00</td>\n",
       "      <td>86355.0</td>\n",
       "    </tr>\n",
       "    <tr>\n",
       "      <th>2</th>\n",
       "      <td>27972.0</td>\n",
       "      <td>890.076934</td>\n",
       "      <td>4003.839902</td>\n",
       "      <td>1.0</td>\n",
       "      <td>354.00</td>\n",
       "      <td>591.0</td>\n",
       "      <td>942.00</td>\n",
       "      <td>86369.0</td>\n",
       "    </tr>\n",
       "    <tr>\n",
       "      <th>3</th>\n",
       "      <td>20895.0</td>\n",
       "      <td>890.070878</td>\n",
       "      <td>3961.003485</td>\n",
       "      <td>2.0</td>\n",
       "      <td>350.00</td>\n",
       "      <td>592.0</td>\n",
       "      <td>954.50</td>\n",
       "      <td>86325.0</td>\n",
       "    </tr>\n",
       "    <tr>\n",
       "      <th>4</th>\n",
       "      <td>15792.0</td>\n",
       "      <td>921.976444</td>\n",
       "      <td>3976.500021</td>\n",
       "      <td>1.0</td>\n",
       "      <td>339.75</td>\n",
       "      <td>611.0</td>\n",
       "      <td>1027.00</td>\n",
       "      <td>86377.0</td>\n",
       "    </tr>\n",
       "    <tr>\n",
       "      <th>5</th>\n",
       "      <td>15002.0</td>\n",
       "      <td>822.298960</td>\n",
       "      <td>2952.808616</td>\n",
       "      <td>1.0</td>\n",
       "      <td>287.00</td>\n",
       "      <td>517.0</td>\n",
       "      <td>999.75</td>\n",
       "      <td>86277.0</td>\n",
       "    </tr>\n",
       "    <tr>\n",
       "      <th>6</th>\n",
       "      <td>33247.0</td>\n",
       "      <td>730.457034</td>\n",
       "      <td>2221.319764</td>\n",
       "      <td>2.0</td>\n",
       "      <td>290.00</td>\n",
       "      <td>473.0</td>\n",
       "      <td>802.00</td>\n",
       "      <td>86346.0</td>\n",
       "    </tr>\n",
       "    <tr>\n",
       "      <th>7</th>\n",
       "      <td>55600.0</td>\n",
       "      <td>831.758345</td>\n",
       "      <td>2522.785416</td>\n",
       "      <td>2.0</td>\n",
       "      <td>355.00</td>\n",
       "      <td>575.0</td>\n",
       "      <td>917.00</td>\n",
       "      <td>86361.0</td>\n",
       "    </tr>\n",
       "    <tr>\n",
       "      <th>8</th>\n",
       "      <td>67053.0</td>\n",
       "      <td>924.559199</td>\n",
       "      <td>2812.643178</td>\n",
       "      <td>2.0</td>\n",
       "      <td>394.00</td>\n",
       "      <td>660.0</td>\n",
       "      <td>1069.00</td>\n",
       "      <td>86362.0</td>\n",
       "    </tr>\n",
       "    <tr>\n",
       "      <th>9</th>\n",
       "      <td>67663.0</td>\n",
       "      <td>933.528915</td>\n",
       "      <td>2795.104834</td>\n",
       "      <td>1.0</td>\n",
       "      <td>405.00</td>\n",
       "      <td>680.0</td>\n",
       "      <td>1100.00</td>\n",
       "      <td>86367.0</td>\n",
       "    </tr>\n",
       "    <tr>\n",
       "      <th>10</th>\n",
       "      <td>65437.0</td>\n",
       "      <td>933.367605</td>\n",
       "      <td>2734.789526</td>\n",
       "      <td>1.0</td>\n",
       "      <td>404.00</td>\n",
       "      <td>679.0</td>\n",
       "      <td>1110.00</td>\n",
       "      <td>86351.0</td>\n",
       "    </tr>\n",
       "    <tr>\n",
       "      <th>11</th>\n",
       "      <td>68476.0</td>\n",
       "      <td>966.430282</td>\n",
       "      <td>2810.298408</td>\n",
       "      <td>1.0</td>\n",
       "      <td>421.00</td>\n",
       "      <td>703.0</td>\n",
       "      <td>1144.25</td>\n",
       "      <td>86356.0</td>\n",
       "    </tr>\n",
       "    <tr>\n",
       "      <th>12</th>\n",
       "      <td>71873.0</td>\n",
       "      <td>993.533079</td>\n",
       "      <td>3169.627445</td>\n",
       "      <td>1.0</td>\n",
       "      <td>422.00</td>\n",
       "      <td>706.0</td>\n",
       "      <td>1147.00</td>\n",
       "      <td>86361.0</td>\n",
       "    </tr>\n",
       "    <tr>\n",
       "      <th>13</th>\n",
       "      <td>71473.0</td>\n",
       "      <td>1032.246359</td>\n",
       "      <td>3397.886624</td>\n",
       "      <td>1.0</td>\n",
       "      <td>425.00</td>\n",
       "      <td>710.0</td>\n",
       "      <td>1161.00</td>\n",
       "      <td>86391.0</td>\n",
       "    </tr>\n",
       "    <tr>\n",
       "      <th>14</th>\n",
       "      <td>74292.0</td>\n",
       "      <td>1075.789264</td>\n",
       "      <td>3349.375680</td>\n",
       "      <td>1.0</td>\n",
       "      <td>430.00</td>\n",
       "      <td>726.0</td>\n",
       "      <td>1196.00</td>\n",
       "      <td>86369.0</td>\n",
       "    </tr>\n",
       "    <tr>\n",
       "      <th>15</th>\n",
       "      <td>71811.0</td>\n",
       "      <td>1118.832533</td>\n",
       "      <td>3641.132102</td>\n",
       "      <td>2.0</td>\n",
       "      <td>426.00</td>\n",
       "      <td>720.0</td>\n",
       "      <td>1204.00</td>\n",
       "      <td>86378.0</td>\n",
       "    </tr>\n",
       "    <tr>\n",
       "      <th>16</th>\n",
       "      <td>64313.0</td>\n",
       "      <td>1080.146285</td>\n",
       "      <td>3187.008182</td>\n",
       "      <td>1.0</td>\n",
       "      <td>407.00</td>\n",
       "      <td>695.0</td>\n",
       "      <td>1187.00</td>\n",
       "      <td>86387.0</td>\n",
       "    </tr>\n",
       "    <tr>\n",
       "      <th>17</th>\n",
       "      <td>76483.0</td>\n",
       "      <td>1030.581619</td>\n",
       "      <td>2965.156590</td>\n",
       "      <td>1.0</td>\n",
       "      <td>414.00</td>\n",
       "      <td>701.0</td>\n",
       "      <td>1162.00</td>\n",
       "      <td>86364.0</td>\n",
       "    </tr>\n",
       "    <tr>\n",
       "      <th>18</th>\n",
       "      <td>90600.0</td>\n",
       "      <td>981.583234</td>\n",
       "      <td>3249.486238</td>\n",
       "      <td>2.0</td>\n",
       "      <td>416.00</td>\n",
       "      <td>687.0</td>\n",
       "      <td>1098.00</td>\n",
       "      <td>86362.0</td>\n",
       "    </tr>\n",
       "    <tr>\n",
       "      <th>19</th>\n",
       "      <td>90308.0</td>\n",
       "      <td>894.356679</td>\n",
       "      <td>3026.881227</td>\n",
       "      <td>1.0</td>\n",
       "      <td>397.00</td>\n",
       "      <td>648.0</td>\n",
       "      <td>1021.00</td>\n",
       "      <td>86358.0</td>\n",
       "    </tr>\n",
       "    <tr>\n",
       "      <th>20</th>\n",
       "      <td>84072.0</td>\n",
       "      <td>879.461545</td>\n",
       "      <td>3091.329173</td>\n",
       "      <td>1.0</td>\n",
       "      <td>391.00</td>\n",
       "      <td>634.0</td>\n",
       "      <td>995.00</td>\n",
       "      <td>86369.0</td>\n",
       "    </tr>\n",
       "    <tr>\n",
       "      <th>21</th>\n",
       "      <td>84185.0</td>\n",
       "      <td>890.521221</td>\n",
       "      <td>3143.474757</td>\n",
       "      <td>2.0</td>\n",
       "      <td>398.00</td>\n",
       "      <td>642.0</td>\n",
       "      <td>1013.00</td>\n",
       "      <td>86362.0</td>\n",
       "    </tr>\n",
       "    <tr>\n",
       "      <th>22</th>\n",
       "      <td>80490.0</td>\n",
       "      <td>954.207405</td>\n",
       "      <td>3596.109146</td>\n",
       "      <td>1.0</td>\n",
       "      <td>409.00</td>\n",
       "      <td>668.0</td>\n",
       "      <td>1057.00</td>\n",
       "      <td>86379.0</td>\n",
       "    </tr>\n",
       "    <tr>\n",
       "      <th>23</th>\n",
       "      <td>69785.0</td>\n",
       "      <td>925.091409</td>\n",
       "      <td>3137.764143</td>\n",
       "      <td>1.0</td>\n",
       "      <td>406.00</td>\n",
       "      <td>670.0</td>\n",
       "      <td>1082.00</td>\n",
       "      <td>86392.0</td>\n",
       "    </tr>\n",
       "  </tbody>\n",
       "</table>\n",
       "</div>"
      ],
      "text/plain": [
       "               count         mean          std  min     25%    50%      75%  \\\n",
       "pickup_hour                                                                   \n",
       "0            53247.0   900.245873  3223.040076  1.0  389.00  646.0  1039.00   \n",
       "1            38571.0   903.087112  3733.570656  2.0  371.00  613.0   977.00   \n",
       "2            27972.0   890.076934  4003.839902  1.0  354.00  591.0   942.00   \n",
       "3            20895.0   890.070878  3961.003485  2.0  350.00  592.0   954.50   \n",
       "4            15792.0   921.976444  3976.500021  1.0  339.75  611.0  1027.00   \n",
       "5            15002.0   822.298960  2952.808616  1.0  287.00  517.0   999.75   \n",
       "6            33247.0   730.457034  2221.319764  2.0  290.00  473.0   802.00   \n",
       "7            55600.0   831.758345  2522.785416  2.0  355.00  575.0   917.00   \n",
       "8            67053.0   924.559199  2812.643178  2.0  394.00  660.0  1069.00   \n",
       "9            67663.0   933.528915  2795.104834  1.0  405.00  680.0  1100.00   \n",
       "10           65437.0   933.367605  2734.789526  1.0  404.00  679.0  1110.00   \n",
       "11           68476.0   966.430282  2810.298408  1.0  421.00  703.0  1144.25   \n",
       "12           71873.0   993.533079  3169.627445  1.0  422.00  706.0  1147.00   \n",
       "13           71473.0  1032.246359  3397.886624  1.0  425.00  710.0  1161.00   \n",
       "14           74292.0  1075.789264  3349.375680  1.0  430.00  726.0  1196.00   \n",
       "15           71811.0  1118.832533  3641.132102  2.0  426.00  720.0  1204.00   \n",
       "16           64313.0  1080.146285  3187.008182  1.0  407.00  695.0  1187.00   \n",
       "17           76483.0  1030.581619  2965.156590  1.0  414.00  701.0  1162.00   \n",
       "18           90600.0   981.583234  3249.486238  2.0  416.00  687.0  1098.00   \n",
       "19           90308.0   894.356679  3026.881227  1.0  397.00  648.0  1021.00   \n",
       "20           84072.0   879.461545  3091.329173  1.0  391.00  634.0   995.00   \n",
       "21           84185.0   890.521221  3143.474757  2.0  398.00  642.0  1013.00   \n",
       "22           80490.0   954.207405  3596.109146  1.0  409.00  668.0  1057.00   \n",
       "23           69785.0   925.091409  3137.764143  1.0  406.00  670.0  1082.00   \n",
       "\n",
       "                 max  \n",
       "pickup_hour           \n",
       "0            86390.0  \n",
       "1            86355.0  \n",
       "2            86369.0  \n",
       "3            86325.0  \n",
       "4            86377.0  \n",
       "5            86277.0  \n",
       "6            86346.0  \n",
       "7            86361.0  \n",
       "8            86362.0  \n",
       "9            86367.0  \n",
       "10           86351.0  \n",
       "11           86356.0  \n",
       "12           86361.0  \n",
       "13           86391.0  \n",
       "14           86369.0  \n",
       "15           86378.0  \n",
       "16           86387.0  \n",
       "17           86364.0  \n",
       "18           86362.0  \n",
       "19           86358.0  \n",
       "20           86369.0  \n",
       "21           86362.0  \n",
       "22           86379.0  \n",
       "23           86392.0  "
      ]
     },
     "execution_count": 251,
     "metadata": {},
     "output_type": "execute_result"
    }
   ],
   "source": [
    "df_train.groupby('pickup_hour')['trip_duration'].describe()"
   ]
  },
  {
   "cell_type": "code",
   "execution_count": 241,
   "metadata": {},
   "outputs": [
    {
     "data": {
      "image/png": "[encoded data removed]",
      "text/plain": [
       "<matplotlib.figure.Figure at 0x11a203b10>"
      ]
     },
     "metadata": {},
     "output_type": "display_data"
    }
   ],
   "source": [
    "df_train_agg = df_train.groupby('pickup_month')['trip_duration'].aggregate(np.median).reset_index()\n",
    "\n",
    "plt.figure(figsize=(12,8))\n",
    "sns.pointplot(df_train_agg.pickup_month.values, df_train_agg.trip_duration.values)\n",
    "plt.show()"
   ]
  },
  {
   "cell_type": "code",
   "execution_count": 245,
   "metadata": {},
   "outputs": [
    {
     "data": {
      "text/html": [
       "<div>\n",
       "<style>\n",
       "    .dataframe thead tr:only-child th {\n",
       "        text-align: right;\n",
       "    }\n",
       "\n",
       "    .dataframe thead th {\n",
       "        text-align: left;\n",
       "    }\n",
       "\n",
       "    .dataframe tbody tr th {\n",
       "        vertical-align: top;\n",
       "    }\n",
       "</style>\n",
       "<table border=\"1\" class=\"dataframe\">\n",
       "  <thead>\n",
       "    <tr style=\"text-align: right;\">\n",
       "      <th></th>\n",
       "      <th>count</th>\n",
       "      <th>mean</th>\n",
       "      <th>std</th>\n",
       "      <th>min</th>\n",
       "      <th>25%</th>\n",
       "      <th>50%</th>\n",
       "      <th>75%</th>\n",
       "      <th>max</th>\n",
       "    </tr>\n",
       "    <tr>\n",
       "      <th>pickup_month</th>\n",
       "      <th></th>\n",
       "      <th></th>\n",
       "      <th></th>\n",
       "      <th></th>\n",
       "      <th></th>\n",
       "      <th></th>\n",
       "      <th></th>\n",
       "      <th></th>\n",
       "    </tr>\n",
       "  </thead>\n",
       "  <tbody>\n",
       "    <tr>\n",
       "      <th>1</th>\n",
       "      <td>229705.0</td>\n",
       "      <td>904.239176</td>\n",
       "      <td>3123.083824</td>\n",
       "      <td>1.0</td>\n",
       "      <td>383.0</td>\n",
       "      <td>630.0</td>\n",
       "      <td>1013.0</td>\n",
       "      <td>86369.0</td>\n",
       "    </tr>\n",
       "    <tr>\n",
       "      <th>2</th>\n",
       "      <td>238298.0</td>\n",
       "      <td>897.439496</td>\n",
       "      <td>3057.137598</td>\n",
       "      <td>1.0</td>\n",
       "      <td>384.0</td>\n",
       "      <td>635.0</td>\n",
       "      <td>1022.0</td>\n",
       "      <td>86392.0</td>\n",
       "    </tr>\n",
       "    <tr>\n",
       "      <th>3</th>\n",
       "      <td>256189.0</td>\n",
       "      <td>937.365363</td>\n",
       "      <td>3213.214383</td>\n",
       "      <td>1.0</td>\n",
       "      <td>393.0</td>\n",
       "      <td>653.0</td>\n",
       "      <td>1052.0</td>\n",
       "      <td>86366.0</td>\n",
       "    </tr>\n",
       "    <tr>\n",
       "      <th>4</th>\n",
       "      <td>251645.0</td>\n",
       "      <td>962.891462</td>\n",
       "      <td>3158.773635</td>\n",
       "      <td>1.0</td>\n",
       "      <td>403.0</td>\n",
       "      <td>675.0</td>\n",
       "      <td>1097.0</td>\n",
       "      <td>86364.0</td>\n",
       "    </tr>\n",
       "    <tr>\n",
       "      <th>5</th>\n",
       "      <td>248487.0</td>\n",
       "      <td>999.450555</td>\n",
       "      <td>3186.775737</td>\n",
       "      <td>1.0</td>\n",
       "      <td>408.0</td>\n",
       "      <td>689.0</td>\n",
       "      <td>1133.0</td>\n",
       "      <td>86391.0</td>\n",
       "    </tr>\n",
       "    <tr>\n",
       "      <th>6</th>\n",
       "      <td>234316.0</td>\n",
       "      <td>1013.367226</td>\n",
       "      <td>3279.534457</td>\n",
       "      <td>1.0</td>\n",
       "      <td>414.0</td>\n",
       "      <td>695.0</td>\n",
       "      <td>1141.0</td>\n",
       "      <td>86387.0</td>\n",
       "    </tr>\n",
       "  </tbody>\n",
       "</table>\n",
       "</div>"
      ],
      "text/plain": [
       "                 count         mean          std  min    25%    50%     75%  \\\n",
       "pickup_month                                                                  \n",
       "1             229705.0   904.239176  3123.083824  1.0  383.0  630.0  1013.0   \n",
       "2             238298.0   897.439496  3057.137598  1.0  384.0  635.0  1022.0   \n",
       "3             256189.0   937.365363  3213.214383  1.0  393.0  653.0  1052.0   \n",
       "4             251645.0   962.891462  3158.773635  1.0  403.0  675.0  1097.0   \n",
       "5             248487.0   999.450555  3186.775737  1.0  408.0  689.0  1133.0   \n",
       "6             234316.0  1013.367226  3279.534457  1.0  414.0  695.0  1141.0   \n",
       "\n",
       "                  max  \n",
       "pickup_month           \n",
       "1             86369.0  \n",
       "2             86392.0  \n",
       "3             86366.0  \n",
       "4             86364.0  \n",
       "5             86391.0  \n",
       "6             86387.0  "
      ]
     },
     "execution_count": 245,
     "metadata": {},
     "output_type": "execute_result"
    }
   ],
   "source": [
    "df_train.groupby('pickup_month')['trip_duration'].describe()"
   ]
  },
  {
   "cell_type": "markdown",
   "metadata": {},
   "source": [
    "* Observation at a week-level:\n",
    "\n",
    "_Trip durations are the most on Thursday's, Wednesday's and Friday's & the least on Sunday's._\n",
    "\n",
    "\n",
    "* Observation at an hour-level:\n",
    "\n",
    "_Trip durations are the most between 11:00 hrs and 16:00 hrs & the least between 04:00 hrs and 07:00 hrs._\n",
    "\n",
    "* Observation at a month-level:\n",
    "\n",
    "_There seems to be a linear increase in the median trip duration from the month of January to the month of June, although the increase is fairly minimal._"
   ]
  },
  {
   "cell_type": "code",
   "execution_count": null,
   "metadata": {
    "collapsed": true
   },
   "outputs": [],
   "source": []
  },
  {
   "cell_type": "code",
   "execution_count": null,
   "metadata": {
    "collapsed": true
   },
   "outputs": [],
   "source": []
  },
  {
   "cell_type": "markdown",
   "metadata": {},
   "source": [
    "** In Progress  **"
   ]
  }
 ],
 "metadata": {
  "kernelspec": {
   "display_name": "Python 2",
   "language": "python",
   "name": "python2"
  },
  "language_info": {
   "codemirror_mode": {
    "name": "ipython",
    "version": 2
   },
   "file_extension": ".py",
   "mimetype": "text/x-python",
   "name": "python",
   "nbconvert_exporter": "python",
   "pygments_lexer": "ipython2",
   "version": "2.7.10"
  }
 },
 "nbformat": 4,
 "nbformat_minor": 2
}
