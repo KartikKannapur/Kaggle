{
 "cells": [
  {
   "cell_type": "markdown",
   "metadata": {},
   "source": [
    "# Kaggle - Mercari Price Suggestion Challenge"
   ]
  },
  {
   "cell_type": "markdown",
   "metadata": {},
   "source": [
    "### 1. Description and Resources"
   ]
  },
  {
   "cell_type": "markdown",
   "metadata": {},
   "source": [
    "Link: https://www.kaggle.com/c/mercari-price-suggestion-challenge\n",
    "\n",
    "Can you automatically suggest product prices to online sellers?"
   ]
  },
  {
   "cell_type": "markdown",
   "metadata": {},
   "source": [
    "### Resources:\n",
    "\n",
    "* "
   ]
  },
  {
   "cell_type": "markdown",
   "metadata": {},
   "source": [
    "## 2. Python Libraries"
   ]
  },
  {
   "cell_type": "code",
   "execution_count": 56,
   "metadata": {},
   "outputs": [],
   "source": [
    "# #Python Libraries\n",
    "import numpy as np\n",
    "import scipy as sp\n",
    "import pandas as pd\n",
    "import pandas_profiling\n",
    "\n",
    "%matplotlib inline\n",
    "import matplotlib.pyplot as plt\n",
    "import seaborn as sns\n",
    "\n",
    "import os\n",
    "import sys\n",
    "import time\n",
    "import requests\n",
    "import datetime\n",
    "import math\n",
    "\n",
    "import missingno as msno\n",
    "\n",
    "# #sklearn\n",
    "from sklearn.model_selection import train_test_split\n",
    "from sklearn.ensemble import RandomForestRegressor\n",
    "from sklearn.metrics import mean_squared_error, mean_squared_log_error\n",
    "from sklearn import preprocessing\n",
    "\n",
    "# #Natural Language Processing\n",
    "import gensim\n",
    "from gensim import corpora"
   ]
  },
  {
   "cell_type": "code",
   "execution_count": null,
   "metadata": {},
   "outputs": [],
   "source": []
  },
  {
   "cell_type": "markdown",
   "metadata": {},
   "source": [
    "## 3. Dataset"
   ]
  },
  {
   "cell_type": "code",
   "execution_count": 2,
   "metadata": {},
   "outputs": [
    {
     "name": "stdout",
     "output_type": "stream",
     "text": [
      "sample_submission.csv\n",
      "sample_submission.csv.7z\n",
      "test.tsv\n",
      "test.tsv.7z\n",
      "train.tsv\n",
      "train.tsv.7z\n"
     ]
    }
   ],
   "source": [
    "!ls data/"
   ]
  },
  {
   "cell_type": "code",
   "execution_count": 3,
   "metadata": {},
   "outputs": [
    {
     "name": "stdout",
     "output_type": "stream",
     "text": [
      "test_id,price\n",
      "0,26.738\n",
      "1,26.738\n",
      "2,26.738\n",
      "3,26.738\n",
      "4,26.738\n",
      "5,26.738\n",
      "6,26.738\n",
      "7,26.738\n",
      "8,26.738\n"
     ]
    }
   ],
   "source": [
    "!head data/sample_submission.csv"
   ]
  },
  {
   "cell_type": "code",
   "execution_count": 4,
   "metadata": {},
   "outputs": [
    {
     "name": "stdout",
     "output_type": "stream",
     "text": [
      "test_id\tname\titem_condition_id\tcategory_name\tbrand_name\tshipping\titem_description\n",
      "0\t\"Breast cancer \"\"I fight like a girl\"\" ring\"\t1\tWomen/Jewelry/Rings\t\t1\tSize 7\n",
      "1\t\"25 pcs NEW 7.5\"\"x12\"\" Kraft Bubble Mailers\"\t1\tOther/Office supplies/Shipping Supplies\t\t1\t\"25 pcs NEW 7.5\"\"x12\"\" Kraft Bubble Mailers Lined with bubble wrap for protection Self Sealing (peel-and-seal), adhesive keeps contents secure and tamper proof Durable and lightweight Kraft material helps save on postage Approved by UPS, FedEx, and USPS.\"\n",
      "2\tCoach bag\t1\tVintage & Collectibles/Bags and Purses/Handbag\tCoach\t1\tBrand new coach bag. Bought for [rm] at a Coach outlet.\n",
      "3\tFloral Kimono\t2\tWomen/Sweaters/Cardigan\t\t0\t-floral kimono -never worn -lightweight and perfect for hot weather\n",
      "4\tLife after Death\t3\tOther/Books/Religion & Spirituality\t\t1\tRediscovering life after the loss of a loved one by Tony Cooke. Paperback in good condition 2003. â�¤ â�¤ Bundle and save! â�¤ â�¤ Book, death, grief, bereavement SHLF.SW.5.15\n",
      "5\tiPhone 6 Plus or 6s Plus Vodka pink case\t1\tElectronics/Cell Phones & Accessories/Cases, Covers & Skins\t\t1\tOne Absolut Vodka in Pink for iPhone 6 Plus and also fits the 6s Plus iPhone. These are made of a flexible rubber material. Brand new case Also have in 6 and 6s size in pink Size: iPhone 6 Plus and 6s Plus Free shipping\n",
      "6\tVintage Cameo Pendant & Brooch Pin\t3\tWomen/Jewelry/Necklaces\tVintage\t1\t\"Two vintage Cameo pieces. 1. Silver metal Locket pendant with filigree, green background and ivory cameo. It is 2\"\". 2. Goldtone metal, mirrored background with gray cameo. Pinback and a loop for a chain. It is also 2\"\". Free shipping.\"\n",
      "7\tRose Gold Stainless Steel Quartz Watch\t1\tWomen/Women's Accessories/Watches\t\t1\t\"Brand new Price firm No trades Box included with 1yr warranty card and dust cloth. Metal: Stainless steel Finish: Polished Width: 12MM Length: 8\"\" Can be adjusted smaller Stainless steel will not rust, tarnish, change colors or turn skin green. Watch features quartz movement. Face is rose gold and stainless steel case. Band is stainless steel rose gold.\"\n",
      "8\tDaisy Marc Jacobs 3.4oz\t3\tBeauty/Fragrance/Women\tMARC JACOBS\t0\tBrand new No box 100% authentic Firm price NO offers\n"
     ]
    }
   ],
   "source": [
    "!head data/test.tsv"
   ]
  },
  {
   "cell_type": "code",
   "execution_count": 5,
   "metadata": {},
   "outputs": [
    {
     "name": "stdout",
     "output_type": "stream",
     "text": [
      "train_id\tname\titem_condition_id\tcategory_name\tbrand_name\tprice\tshipping\titem_description\n",
      "0\tMLB Cincinnati Reds T Shirt Size XL\t3\tMen/Tops/T-shirts\t\t10.0\t1\tNo description yet\n",
      "1\tRazer BlackWidow Chroma Keyboard\t3\tElectronics/Computers & Tablets/Components & Parts\tRazer\t52.0\t0\tThis keyboard is in great condition and works like it came out of the box. All of the ports are tested and work perfectly. The lights are customizable via the Razer Synapse app on your PC.\n",
      "2\tAVA-VIV Blouse\t1\tWomen/Tops & Blouses/Blouse\tTarget\t10.0\t1\tAdorable top with a hint of lace and a key hole in the back! The pale pink is a 1X, and I also have a 3X available in white!\n",
      "3\tLeather Horse Statues\t1\tHome/Home DÃ©cor/Home DÃ©cor Accents\t\t35.0\t1\tNew with tags. Leather horses. Retail for [rm] each. Stand about a foot high. They are being sold as a pair. Any questions please ask. Free shipping. Just got out of storage\n",
      "4\t24K GOLD plated rose\t1\tWomen/Jewelry/Necklaces\t\t44.0\t0\tComplete with certificate of authenticity\n",
      "5\tBundled items requested for Ruie\t3\tWomen/Other/Other\t\t59.0\t0\tBanana republic bottoms, Candies skirt with matching blazer,Amy Byers suit, Loft bottoms and cami top.\n",
      "6\tAcacia pacific tides santorini top\t3\tWomen/Swimwear/Two-Piece\tAcacia Swimwear\t64.0\t0\tSize small but straps slightly shortened to fit xs, besides that, perfect condition\n",
      "7\tGirls cheer and tumbling bundle of 7\t3\tSports & Outdoors/Apparel/Girls\tSoffe\t6.0\t1\tYou get three pairs of Sophie cheer shorts size small and medium girls and two sports bra/boy shorts spandex matching sets in small and medium girls. All items total retail for [rm] in store and you can take him today for less than the price of one item at the store!)\n",
      "8\tGirls Nike Pro shorts\t3\tSports & Outdoors/Apparel/Girls\tNike\t19.0\t0\tGirls Size small Plus green. Three shorts total.\n"
     ]
    }
   ],
   "source": [
    "!head data/train.tsv"
   ]
  },
  {
   "cell_type": "code",
   "execution_count": null,
   "metadata": {},
   "outputs": [],
   "source": []
  },
  {
   "cell_type": "code",
   "execution_count": 6,
   "metadata": {},
   "outputs": [],
   "source": [
    "df_input = pd.read_csv(filepath_or_buffer=\"data/train.tsv\", sep=\"\\t\", )"
   ]
  },
  {
   "cell_type": "code",
   "execution_count": 7,
   "metadata": {},
   "outputs": [],
   "source": [
    "df_test = pd.read_csv(filepath_or_buffer=\"data/test.tsv\", sep=\"\\t\", )"
   ]
  },
  {
   "cell_type": "code",
   "execution_count": 8,
   "metadata": {},
   "outputs": [
    {
     "data": {
      "text/html": [
       "<div>\n",
       "<style>\n",
       "    .dataframe thead tr:only-child th {\n",
       "        text-align: right;\n",
       "    }\n",
       "\n",
       "    .dataframe thead th {\n",
       "        text-align: left;\n",
       "    }\n",
       "\n",
       "    .dataframe tbody tr th {\n",
       "        vertical-align: top;\n",
       "    }\n",
       "</style>\n",
       "<table border=\"1\" class=\"dataframe\">\n",
       "  <thead>\n",
       "    <tr style=\"text-align: right;\">\n",
       "      <th></th>\n",
       "      <th>train_id</th>\n",
       "      <th>name</th>\n",
       "      <th>item_condition_id</th>\n",
       "      <th>category_name</th>\n",
       "      <th>brand_name</th>\n",
       "      <th>price</th>\n",
       "      <th>shipping</th>\n",
       "      <th>item_description</th>\n",
       "    </tr>\n",
       "  </thead>\n",
       "  <tbody>\n",
       "    <tr>\n",
       "      <th>0</th>\n",
       "      <td>0</td>\n",
       "      <td>MLB Cincinnati Reds T Shirt Size XL</td>\n",
       "      <td>3</td>\n",
       "      <td>Men/Tops/T-shirts</td>\n",
       "      <td>NaN</td>\n",
       "      <td>10.0</td>\n",
       "      <td>1</td>\n",
       "      <td>No description yet</td>\n",
       "    </tr>\n",
       "    <tr>\n",
       "      <th>1</th>\n",
       "      <td>1</td>\n",
       "      <td>Razer BlackWidow Chroma Keyboard</td>\n",
       "      <td>3</td>\n",
       "      <td>Electronics/Computers &amp; Tablets/Components &amp; P...</td>\n",
       "      <td>Razer</td>\n",
       "      <td>52.0</td>\n",
       "      <td>0</td>\n",
       "      <td>This keyboard is in great condition and works ...</td>\n",
       "    </tr>\n",
       "    <tr>\n",
       "      <th>2</th>\n",
       "      <td>2</td>\n",
       "      <td>AVA-VIV Blouse</td>\n",
       "      <td>1</td>\n",
       "      <td>Women/Tops &amp; Blouses/Blouse</td>\n",
       "      <td>Target</td>\n",
       "      <td>10.0</td>\n",
       "      <td>1</td>\n",
       "      <td>Adorable top with a hint of lace and a key hol...</td>\n",
       "    </tr>\n",
       "    <tr>\n",
       "      <th>3</th>\n",
       "      <td>3</td>\n",
       "      <td>Leather Horse Statues</td>\n",
       "      <td>1</td>\n",
       "      <td>Home/Home Décor/Home Décor Accents</td>\n",
       "      <td>NaN</td>\n",
       "      <td>35.0</td>\n",
       "      <td>1</td>\n",
       "      <td>New with tags. Leather horses. Retail for [rm]...</td>\n",
       "    </tr>\n",
       "    <tr>\n",
       "      <th>4</th>\n",
       "      <td>4</td>\n",
       "      <td>24K GOLD plated rose</td>\n",
       "      <td>1</td>\n",
       "      <td>Women/Jewelry/Necklaces</td>\n",
       "      <td>NaN</td>\n",
       "      <td>44.0</td>\n",
       "      <td>0</td>\n",
       "      <td>Complete with certificate of authenticity</td>\n",
       "    </tr>\n",
       "  </tbody>\n",
       "</table>\n",
       "</div>"
      ],
      "text/plain": [
       "   train_id                                 name  item_condition_id  \\\n",
       "0         0  MLB Cincinnati Reds T Shirt Size XL                  3   \n",
       "1         1     Razer BlackWidow Chroma Keyboard                  3   \n",
       "2         2                       AVA-VIV Blouse                  1   \n",
       "3         3                Leather Horse Statues                  1   \n",
       "4         4                 24K GOLD plated rose                  1   \n",
       "\n",
       "                                       category_name brand_name  price  \\\n",
       "0                                  Men/Tops/T-shirts        NaN   10.0   \n",
       "1  Electronics/Computers & Tablets/Components & P...      Razer   52.0   \n",
       "2                        Women/Tops & Blouses/Blouse     Target   10.0   \n",
       "3                 Home/Home Décor/Home Décor Accents        NaN   35.0   \n",
       "4                            Women/Jewelry/Necklaces        NaN   44.0   \n",
       "\n",
       "   shipping                                   item_description  \n",
       "0         1                                 No description yet  \n",
       "1         0  This keyboard is in great condition and works ...  \n",
       "2         1  Adorable top with a hint of lace and a key hol...  \n",
       "3         1  New with tags. Leather horses. Retail for [rm]...  \n",
       "4         0          Complete with certificate of authenticity  "
      ]
     },
     "execution_count": 8,
     "metadata": {},
     "output_type": "execute_result"
    }
   ],
   "source": [
    "df_input.head()"
   ]
  },
  {
   "cell_type": "code",
   "execution_count": 9,
   "metadata": {},
   "outputs": [
    {
     "name": "stdout",
     "output_type": "stream",
     "text": [
      "Number of rows:  1482535\n",
      "Number of columns:  8\n"
     ]
    }
   ],
   "source": [
    "print(\"Number of rows: \", df_input.shape[0])\n",
    "print(\"Number of columns: \", df_input.shape[1])"
   ]
  },
  {
   "cell_type": "code",
   "execution_count": 10,
   "metadata": {},
   "outputs": [
    {
     "data": {
      "text/html": [
       "<div>\n",
       "<style>\n",
       "    .dataframe thead tr:only-child th {\n",
       "        text-align: right;\n",
       "    }\n",
       "\n",
       "    .dataframe thead th {\n",
       "        text-align: left;\n",
       "    }\n",
       "\n",
       "    .dataframe tbody tr th {\n",
       "        vertical-align: top;\n",
       "    }\n",
       "</style>\n",
       "<table border=\"1\" class=\"dataframe\">\n",
       "  <thead>\n",
       "    <tr style=\"text-align: right;\">\n",
       "      <th></th>\n",
       "      <th>train_id</th>\n",
       "      <th>item_condition_id</th>\n",
       "      <th>price</th>\n",
       "      <th>shipping</th>\n",
       "    </tr>\n",
       "  </thead>\n",
       "  <tbody>\n",
       "    <tr>\n",
       "      <th>count</th>\n",
       "      <td>1.482535e+06</td>\n",
       "      <td>1.482535e+06</td>\n",
       "      <td>1.482535e+06</td>\n",
       "      <td>1.482535e+06</td>\n",
       "    </tr>\n",
       "    <tr>\n",
       "      <th>mean</th>\n",
       "      <td>7.412670e+05</td>\n",
       "      <td>1.907380e+00</td>\n",
       "      <td>2.673752e+01</td>\n",
       "      <td>4.472744e-01</td>\n",
       "    </tr>\n",
       "    <tr>\n",
       "      <th>std</th>\n",
       "      <td>4.279711e+05</td>\n",
       "      <td>9.031586e-01</td>\n",
       "      <td>3.858607e+01</td>\n",
       "      <td>4.972124e-01</td>\n",
       "    </tr>\n",
       "    <tr>\n",
       "      <th>min</th>\n",
       "      <td>0.000000e+00</td>\n",
       "      <td>1.000000e+00</td>\n",
       "      <td>0.000000e+00</td>\n",
       "      <td>0.000000e+00</td>\n",
       "    </tr>\n",
       "    <tr>\n",
       "      <th>25%</th>\n",
       "      <td>3.706335e+05</td>\n",
       "      <td>1.000000e+00</td>\n",
       "      <td>1.000000e+01</td>\n",
       "      <td>0.000000e+00</td>\n",
       "    </tr>\n",
       "    <tr>\n",
       "      <th>50%</th>\n",
       "      <td>7.412670e+05</td>\n",
       "      <td>2.000000e+00</td>\n",
       "      <td>1.700000e+01</td>\n",
       "      <td>0.000000e+00</td>\n",
       "    </tr>\n",
       "    <tr>\n",
       "      <th>75%</th>\n",
       "      <td>1.111900e+06</td>\n",
       "      <td>3.000000e+00</td>\n",
       "      <td>2.900000e+01</td>\n",
       "      <td>1.000000e+00</td>\n",
       "    </tr>\n",
       "    <tr>\n",
       "      <th>max</th>\n",
       "      <td>1.482534e+06</td>\n",
       "      <td>5.000000e+00</td>\n",
       "      <td>2.009000e+03</td>\n",
       "      <td>1.000000e+00</td>\n",
       "    </tr>\n",
       "  </tbody>\n",
       "</table>\n",
       "</div>"
      ],
      "text/plain": [
       "           train_id  item_condition_id         price      shipping\n",
       "count  1.482535e+06       1.482535e+06  1.482535e+06  1.482535e+06\n",
       "mean   7.412670e+05       1.907380e+00  2.673752e+01  4.472744e-01\n",
       "std    4.279711e+05       9.031586e-01  3.858607e+01  4.972124e-01\n",
       "min    0.000000e+00       1.000000e+00  0.000000e+00  0.000000e+00\n",
       "25%    3.706335e+05       1.000000e+00  1.000000e+01  0.000000e+00\n",
       "50%    7.412670e+05       2.000000e+00  1.700000e+01  0.000000e+00\n",
       "75%    1.111900e+06       3.000000e+00  2.900000e+01  1.000000e+00\n",
       "max    1.482534e+06       5.000000e+00  2.009000e+03  1.000000e+00"
      ]
     },
     "execution_count": 10,
     "metadata": {},
     "output_type": "execute_result"
    }
   ],
   "source": [
    "df_input.describe()"
   ]
  },
  {
   "cell_type": "markdown",
   "metadata": {},
   "source": [
    "### Data Dictionary"
   ]
  },
  {
   "cell_type": "markdown",
   "metadata": {},
   "source": [
    "The files consist of a list of product listings. These files are tab-delimited.\n",
    "\n",
    "* train_id or test_id - the id of the listing\n",
    "\n",
    "* name - the title of the listing. Note that we have cleaned the data to remove text that look like prices (e.g. $20) to avoid leakage. These removed prices are represented as [rm]\n",
    "\n",
    "* item_condition_id - the condition of the items provided by the seller\n",
    "\n",
    "* category_name - category of the listing\n",
    "\n",
    "* brand_name\n",
    "\n",
    "* price - the price that the item was sold for. This is the target variable that you will predict. The unit is USD. This column doesn't exist in test.tsv since that is what you will predict.\n",
    "\n",
    "* shipping - 1 if shipping fee is paid by seller and 0 by buyer\n",
    "\n",
    "* item_description - the full description of the item. Note that we have cleaned the data to remove text that look like prices (e.g. $20) to avoid leakage. These removed prices are represented as [rm]\n",
    "\n",
    "Please note that in stage 1, all the test data will be calculated on the public leaderboard. In stage 2, we will swap the test.tsv file to the complete test dataset that includes the private leaderboard data."
   ]
  },
  {
   "cell_type": "markdown",
   "metadata": {},
   "source": [
    "#### Are the train_ids unique?\n"
   ]
  },
  {
   "cell_type": "code",
   "execution_count": 11,
   "metadata": {},
   "outputs": [
    {
     "name": "stdout",
     "output_type": "stream",
     "text": [
      "Number of train_ids:  1482535\n",
      "Number of unique train_ids:  1482535\n"
     ]
    }
   ],
   "source": [
    "print(\"Number of train_ids: \", len(df_input[\"train_id\"]))\n",
    "print(\"Number of unique train_ids: \", len(df_input[\"train_id\"].unique()))"
   ]
  },
  {
   "cell_type": "code",
   "execution_count": null,
   "metadata": {},
   "outputs": [],
   "source": []
  },
  {
   "cell_type": "markdown",
   "metadata": {},
   "source": [
    "#### Distribution of item_condition_id"
   ]
  },
  {
   "cell_type": "code",
   "execution_count": 12,
   "metadata": {},
   "outputs": [
    {
     "data": {
      "image/png": "[encoded data removed]",
      "text/plain": [
       "<matplotlib.figure.Figure at 0x24a06fc2cf8>"
      ]
     },
     "metadata": {},
     "output_type": "display_data"
    }
   ],
   "source": [
    "plt.figure(figsize=(14,8))\n",
    "sns.countplot(df_input[\"item_condition_id\"])\n",
    "\n",
    "plt.xlabel('item_condition_id', fontsize=14)\n",
    "plt.ylabel('count', fontsize=14)\n",
    "plt.title(\"Distribution of item_condition_id\", fontsize=18)\n",
    "plt.show()\n"
   ]
  },
  {
   "cell_type": "code",
   "execution_count": 13,
   "metadata": {},
   "outputs": [
    {
     "data": {
      "text/plain": [
       "1    640549\n",
       "3    432161\n",
       "2    375479\n",
       "4     31962\n",
       "5      2384\n",
       "Name: item_condition_id, dtype: int64"
      ]
     },
     "execution_count": 13,
     "metadata": {},
     "output_type": "execute_result"
    }
   ],
   "source": [
    "df_input.item_condition_id.value_counts()"
   ]
  },
  {
   "cell_type": "code",
   "execution_count": null,
   "metadata": {},
   "outputs": [],
   "source": []
  },
  {
   "cell_type": "markdown",
   "metadata": {},
   "source": [
    "#### Unique categories and their distribution"
   ]
  },
  {
   "cell_type": "code",
   "execution_count": 14,
   "metadata": {
    "scrolled": true
   },
   "outputs": [
    {
     "data": {
      "text/plain": [
       "array(['Men/Tops/T-shirts',\n",
       "       'Electronics/Computers & Tablets/Components & Parts',\n",
       "       'Women/Tops & Blouses/Blouse', ..., 'Handmade/Jewelry/Clothing',\n",
       "       'Vintage & Collectibles/Supplies/Ephemera', 'Handmade/Pets/Blanket'], dtype=object)"
      ]
     },
     "execution_count": 14,
     "metadata": {},
     "output_type": "execute_result"
    }
   ],
   "source": [
    "df_input.category_name.unique()"
   ]
  },
  {
   "cell_type": "code",
   "execution_count": 15,
   "metadata": {},
   "outputs": [
    {
     "data": {
      "text/plain": [
       "1288"
      ]
     },
     "execution_count": 15,
     "metadata": {},
     "output_type": "execute_result"
    }
   ],
   "source": [
    "# #Number of unique categories - 1288\n",
    "len(df_input.category_name.unique())"
   ]
  },
  {
   "cell_type": "code",
   "execution_count": 16,
   "metadata": {},
   "outputs": [
    {
     "data": {
      "text/plain": [
       "Women/Athletic Apparel/Pants, Tights, Leggings                 60177\n",
       "Women/Tops & Blouses/T-Shirts                                  46380\n",
       "Beauty/Makeup/Face                                             34335\n",
       "Beauty/Makeup/Lips                                             29910\n",
       "Electronics/Video Games & Consoles/Games                       26557\n",
       "Beauty/Makeup/Eyes                                             25215\n",
       "Electronics/Cell Phones & Accessories/Cases, Covers & Skins    24676\n",
       "Women/Underwear/Bras                                           21274\n",
       "Women/Tops & Blouses/Tank, Cami                                20284\n",
       "Women/Tops & Blouses/Blouse                                    20284\n",
       "Women/Dresses/Above Knee, Mini                                 20082\n",
       "Women/Jewelry/Necklaces                                        19758\n",
       "Women/Athletic Apparel/Shorts                                  19528\n",
       "Beauty/Makeup/Makeup Palettes                                  19103\n",
       "Women/Shoes/Boots                                              18864\n",
       "Beauty/Fragrance/Women                                         18628\n",
       "Beauty/Skin Care/Face                                          15836\n",
       "Women/Women's Handbags/Shoulder Bag                            15328\n",
       "Men/Tops/T-shirts                                              15108\n",
       "Women/Dresses/Knee-Length                                      14770\n",
       "Women/Athletic Apparel/Shirts & Tops                           14738\n",
       "Women/Shoes/Sandals                                            14662\n",
       "Women/Jewelry/Bracelets                                        14497\n",
       "Men/Shoes/Athletic                                             14257\n",
       "Kids/Toys/Dolls & Accessories                                  13957\n",
       "Women/Women's Accessories/Wallets                              13616\n",
       "Women/Jeans/Slim, Skinny                                       13392\n",
       "Home/Home Décor/Home Décor Accents                             13004\n",
       "Women/Swimwear/Two-Piece                                       12758\n",
       "Women/Shoes/Athletic                                           12662\n",
       "                                                               ...  \n",
       "Home/Furniture/Bathroom Furniture                                  1\n",
       "Handmade/Accessories/Cozy                                          1\n",
       "Vintage & Collectibles/Antique/Furniture                           1\n",
       "Handmade/Furniture/Fixture                                         1\n",
       "Handmade/Dolls and Miniatures/Child Friendly                       1\n",
       "Handmade/Quilts/Trim                                               1\n",
       "Handmade/Others/Educational                                        1\n",
       "Men/Suits/One Button                                               1\n",
       "Handmade/Dolls and Miniatures/Artist Bears                         1\n",
       "Handmade/Ceramics and Pottery/Sculptures                           1\n",
       "Handmade/Jewelry/Clothing                                          1\n",
       "Other/Automotive/RV Parts & Accessories                            1\n",
       "Handmade/Weddings/Something Blue                                   1\n",
       "Handmade/Knitting/Bags and Purses                                  1\n",
       "Home/Home Décor/Doorstops                                          1\n",
       "Vintage & Collectibles/Furniture/Entertainment                     1\n",
       "Handmade/Patterns/Accessories                                      1\n",
       "Handmade/Quilts/Bed                                                1\n",
       "Handmade/Bags and Purses/Diaper Bag                                1\n",
       "Handmade/Holidays/New Years                                        1\n",
       "Handmade/Bags and Purses/Wallet                                    1\n",
       "Handmade/Glass/Mirrors                                             1\n",
       "Handmade/Weddings/Frames                                           1\n",
       "Handmade/Books and Zines/Comic                                     1\n",
       "Other/Pet Supplies/Pet Food                                        1\n",
       "Vintage & Collectibles/Housewares/Towel                            1\n",
       "Vintage & Collectibles/Furniture/Shelf                             1\n",
       "Home/Bath/Bathroom Shelves                                         1\n",
       "Handmade/Woodworking/Supplies                                      1\n",
       "Handmade/Furniture/Other                                           1\n",
       "Name: category_name, Length: 1287, dtype: int64"
      ]
     },
     "execution_count": 16,
     "metadata": {},
     "output_type": "execute_result"
    }
   ],
   "source": [
    "df_input.category_name.value_counts()"
   ]
  },
  {
   "cell_type": "code",
   "execution_count": null,
   "metadata": {},
   "outputs": [],
   "source": []
  },
  {
   "cell_type": "markdown",
   "metadata": {},
   "source": [
    "#### Unique brands and their distribution"
   ]
  },
  {
   "cell_type": "code",
   "execution_count": 17,
   "metadata": {},
   "outputs": [
    {
     "data": {
      "text/plain": [
       "array([nan, 'Razer', 'Target', ..., 'Astroglide', 'Cumberland Bay',\n",
       "       'Kids Only'], dtype=object)"
      ]
     },
     "execution_count": 17,
     "metadata": {},
     "output_type": "execute_result"
    }
   ],
   "source": [
    "df_input.brand_name.unique()"
   ]
  },
  {
   "cell_type": "code",
   "execution_count": 18,
   "metadata": {},
   "outputs": [
    {
     "data": {
      "text/plain": [
       "4810"
      ]
     },
     "execution_count": 18,
     "metadata": {},
     "output_type": "execute_result"
    }
   ],
   "source": [
    "# #Number of unique brands - 4810\n",
    "len(df_input.brand_name.unique())"
   ]
  },
  {
   "cell_type": "code",
   "execution_count": 19,
   "metadata": {},
   "outputs": [
    {
     "data": {
      "text/plain": [
       "PINK                                 54088\n",
       "Nike                                 54043\n",
       "Victoria's Secret                    48036\n",
       "LuLaRoe                              31024\n",
       "Apple                                17322\n",
       "FOREVER 21                           15186\n",
       "Nintendo                             15007\n",
       "Lululemon                            14558\n",
       "Michael Kors                         13928\n",
       "American Eagle                       13254\n",
       "Rae Dunn                             12305\n",
       "Sephora                              12172\n",
       "Coach                                10463\n",
       "Disney                               10360\n",
       "Bath & Body Works                    10354\n",
       "Adidas                               10202\n",
       "Funko                                 9237\n",
       "Under Armour                          8461\n",
       "Sony                                  7994\n",
       "Old Navy                              7567\n",
       "Hollister                             6948\n",
       "Carter's                              6385\n",
       "Urban Decay                           6210\n",
       "The North Face                        6172\n",
       "Independent                           5902\n",
       "Too Faced                             5794\n",
       "Xbox                                  5709\n",
       "Brandy Melville                       5680\n",
       "Kate Spade                            5411\n",
       "MAC                                   5302\n",
       "                                     ...  \n",
       "The Wet Brush                            1\n",
       "Powerbolt                                1\n",
       "Reed                                     1\n",
       "Sony Electronics                         1\n",
       "Yumi Kim                                 1\n",
       "Sante                                    1\n",
       "Kikit                                    1\n",
       "Poligrip                                 1\n",
       "Kids Only                                1\n",
       "Greenies                                 1\n",
       "Bite Beauty                              1\n",
       "Cynthia Howie                            1\n",
       "Rosewill                                 1\n",
       "Scosche                                  1\n",
       "Azules                                   1\n",
       "Nicola                                   1\n",
       "Wembley                                  1\n",
       "Mix Nouveau                              1\n",
       "goDog                                    1\n",
       "Super Sunglasses                         1\n",
       "Gearbox                                  1\n",
       "Dingo                                    1\n",
       "Stephen Webster                          1\n",
       "Youth To The People                      1\n",
       "Dessy Collection                         1\n",
       "Puffs                                    1\n",
       "CIOR                                     1\n",
       "BumpStart                                1\n",
       "Happy Chic Baby by Jonathan Adler        1\n",
       "Tile                                     1\n",
       "Name: brand_name, Length: 4809, dtype: int64"
      ]
     },
     "execution_count": 19,
     "metadata": {},
     "output_type": "execute_result"
    }
   ],
   "source": [
    "df_input.brand_name.value_counts()"
   ]
  },
  {
   "cell_type": "code",
   "execution_count": null,
   "metadata": {},
   "outputs": [],
   "source": []
  },
  {
   "cell_type": "markdown",
   "metadata": {},
   "source": [
    "### 4. Missing values"
   ]
  },
  {
   "cell_type": "code",
   "execution_count": 20,
   "metadata": {},
   "outputs": [
    {
     "data": {
      "text/plain": [
       "train_id                  0\n",
       "name                      0\n",
       "item_condition_id         0\n",
       "category_name          6327\n",
       "brand_name           632682\n",
       "price                     0\n",
       "shipping                  0\n",
       "item_description          4\n",
       "dtype: int64"
      ]
     },
     "execution_count": 20,
     "metadata": {},
     "output_type": "execute_result"
    }
   ],
   "source": [
    "df_input.isnull().sum()"
   ]
  },
  {
   "cell_type": "code",
   "execution_count": 91,
   "metadata": {},
   "outputs": [
    {
     "data": {
      "text/html": [
       "<div>\n",
       "<style>\n",
       "    .dataframe thead tr:only-child th {\n",
       "        text-align: right;\n",
       "    }\n",
       "\n",
       "    .dataframe thead th {\n",
       "        text-align: left;\n",
       "    }\n",
       "\n",
       "    .dataframe tbody tr th {\n",
       "        vertical-align: top;\n",
       "    }\n",
       "</style>\n",
       "<table border=\"1\" class=\"dataframe\">\n",
       "  <thead>\n",
       "    <tr style=\"text-align: right;\">\n",
       "      <th></th>\n",
       "      <th>train_id</th>\n",
       "      <th>name</th>\n",
       "      <th>item_condition_id</th>\n",
       "      <th>category_name</th>\n",
       "      <th>brand_name</th>\n",
       "      <th>price</th>\n",
       "      <th>shipping</th>\n",
       "      <th>item_description</th>\n",
       "    </tr>\n",
       "  </thead>\n",
       "  <tbody>\n",
       "  </tbody>\n",
       "</table>\n",
       "</div>"
      ],
      "text/plain": [
       "Empty DataFrame\n",
       "Columns: [train_id, name, item_condition_id, category_name, brand_name, price, shipping, item_description]\n",
       "Index: []"
      ]
     },
     "execution_count": 91,
     "metadata": {},
     "output_type": "execute_result"
    }
   ],
   "source": [
    "var_nan = float(\"nan\")\n",
    "\n",
    "df_input[df_input[\"category_name\"] == np.nan]"
   ]
  },
  {
   "cell_type": "code",
   "execution_count": null,
   "metadata": {},
   "outputs": [],
   "source": []
  },
  {
   "cell_type": "code",
   "execution_count": 71,
   "metadata": {},
   "outputs": [],
   "source": [
    "# #DATA CLEANING"
   ]
  },
  {
   "cell_type": "code",
   "execution_count": null,
   "metadata": {},
   "outputs": [],
   "source": []
  },
  {
   "cell_type": "code",
   "execution_count": null,
   "metadata": {},
   "outputs": [],
   "source": []
  },
  {
   "cell_type": "code",
   "execution_count": null,
   "metadata": {},
   "outputs": [],
   "source": []
  },
  {
   "cell_type": "markdown",
   "metadata": {},
   "source": [
    "### 5. Models"
   ]
  },
  {
   "cell_type": "code",
   "execution_count": null,
   "metadata": {},
   "outputs": [],
   "source": []
  },
  {
   "cell_type": "code",
   "execution_count": 22,
   "metadata": {},
   "outputs": [],
   "source": []
  },
  {
   "cell_type": "code",
   "execution_count": null,
   "metadata": {},
   "outputs": [],
   "source": []
  },
  {
   "cell_type": "code",
   "execution_count": 23,
   "metadata": {},
   "outputs": [],
   "source": [
    "# #My Personal Model Leaderboard\n",
    "var_sample_submission_benchmark = 0.82478\n",
    "model_1_submission_1 = 0.65682"
   ]
  },
  {
   "cell_type": "code",
   "execution_count": null,
   "metadata": {},
   "outputs": [],
   "source": []
  },
  {
   "cell_type": "code",
   "execution_count": 24,
   "metadata": {},
   "outputs": [
    {
     "data": {
      "text/plain": [
       "(1482535, 8)"
      ]
     },
     "execution_count": 24,
     "metadata": {},
     "output_type": "execute_result"
    }
   ],
   "source": [
    "df_input.shape"
   ]
  },
  {
   "cell_type": "code",
   "execution_count": 25,
   "metadata": {},
   "outputs": [],
   "source": [
    "X = df_input.drop([\"price\"], axis=1)"
   ]
  },
  {
   "cell_type": "code",
   "execution_count": 26,
   "metadata": {},
   "outputs": [
    {
     "data": {
      "text/plain": [
       "(1482535, 7)"
      ]
     },
     "execution_count": 26,
     "metadata": {},
     "output_type": "execute_result"
    }
   ],
   "source": [
    "X.shape"
   ]
  },
  {
   "cell_type": "code",
   "execution_count": 27,
   "metadata": {},
   "outputs": [],
   "source": [
    "y = df_input[\"price\"]"
   ]
  },
  {
   "cell_type": "code",
   "execution_count": 28,
   "metadata": {},
   "outputs": [
    {
     "data": {
      "text/plain": [
       "(1482535,)"
      ]
     },
     "execution_count": 28,
     "metadata": {},
     "output_type": "execute_result"
    }
   ],
   "source": [
    "y.shape"
   ]
  },
  {
   "cell_type": "code",
   "execution_count": 29,
   "metadata": {},
   "outputs": [],
   "source": [
    "# #Train-Test Split\n",
    "X_train, X_test, y_train, y_test = train_test_split(X, y, test_size=0.30, random_state=42)"
   ]
  },
  {
   "cell_type": "code",
   "execution_count": 30,
   "metadata": {},
   "outputs": [
    {
     "name": "stdout",
     "output_type": "stream",
     "text": [
      "Train Dataset Shape - X_train:  (1037774, 7)\n",
      "Train Dataset Shape - y_train:  (1037774,)\n",
      "--------------------------------\n",
      "Test Dataset Shape - X_test:  (444761, 7)\n",
      "Test Dataset Shape - y_test:  (444761,)\n"
     ]
    }
   ],
   "source": [
    "print(\"Train Dataset Shape - X_train: \", X_train.shape)\n",
    "print(\"Train Dataset Shape - y_train: \", y_train.shape)\n",
    "print(\"--------------------------------\")\n",
    "print(\"Test Dataset Shape - X_test: \", X_test.shape)\n",
    "print(\"Test Dataset Shape - y_test: \", y_test.shape)"
   ]
  },
  {
   "cell_type": "code",
   "execution_count": null,
   "metadata": {},
   "outputs": [],
   "source": []
  },
  {
   "cell_type": "markdown",
   "metadata": {},
   "source": [
    "### Model1: Baseline Median Model"
   ]
  },
  {
   "cell_type": "code",
   "execution_count": 31,
   "metadata": {},
   "outputs": [
    {
     "data": {
      "text/plain": [
       "(1482535, 8)"
      ]
     },
     "execution_count": 31,
     "metadata": {},
     "output_type": "execute_result"
    }
   ],
   "source": [
    "df_input.shape"
   ]
  },
  {
   "cell_type": "code",
   "execution_count": 32,
   "metadata": {},
   "outputs": [],
   "source": [
    "X_train_baseline, X_test_baseline, y_train_baseline, y_test_baseline = train_test_split(df_input, df_input[\"price\"], test_size=0.30, random_state=42)"
   ]
  },
  {
   "cell_type": "code",
   "execution_count": 33,
   "metadata": {},
   "outputs": [
    {
     "name": "stdout",
     "output_type": "stream",
     "text": [
      "Train Dataset Shape - X_train:  (1037774, 8)\n",
      "Train Dataset Shape - y_train:  (1037774,)\n",
      "--------------------------------\n",
      "Test Dataset Shape - X_test:  (444761, 8)\n",
      "Test Dataset Shape - y_test:  (444761,)\n"
     ]
    }
   ],
   "source": [
    "print(\"Train Dataset Shape - X_train: \", X_train_baseline.shape)\n",
    "print(\"Train Dataset Shape - y_train: \", y_train_baseline.shape)\n",
    "print(\"--------------------------------\")\n",
    "print(\"Test Dataset Shape - X_test: \", X_test_baseline.shape)\n",
    "print(\"Test Dataset Shape - y_test: \", y_test_baseline.shape)"
   ]
  },
  {
   "cell_type": "code",
   "execution_count": 34,
   "metadata": {},
   "outputs": [
    {
     "data": {
      "text/plain": [
       "17.0"
      ]
     },
     "execution_count": 34,
     "metadata": {},
     "output_type": "execute_result"
    }
   ],
   "source": [
    "var_overall_median = X_train_baseline.price.median()\n",
    "var_overall_median"
   ]
  },
  {
   "cell_type": "code",
   "execution_count": 35,
   "metadata": {},
   "outputs": [
    {
     "data": {
      "text/plain": [
       "category_name\n",
       "Beauty/Bath & Body/Bath                         14.0\n",
       "Beauty/Bath & Body/Bathing Accessories          19.5\n",
       "Beauty/Bath & Body/Cleansers                    10.0\n",
       "Beauty/Bath & Body/Other                        16.0\n",
       "Beauty/Bath & Body/Scrubs & Body Treatments     18.0\n",
       "Beauty/Bath & Body/Sets                         18.0\n",
       "Beauty/Fragrance/Candles & Home Scents          17.0\n",
       "Beauty/Fragrance/Kids                            8.0\n",
       "Beauty/Fragrance/Men                            23.0\n",
       "Beauty/Fragrance/Other                          10.0\n",
       "Beauty/Fragrance/Sets                           20.0\n",
       "Beauty/Fragrance/Women                          18.0\n",
       "Beauty/Hair Care/Conditioners                   16.0\n",
       "Beauty/Hair Care/Hair & Scalp Treatments        14.0\n",
       "Beauty/Hair Care/Hair Color                     10.0\n",
       "Beauty/Hair Care/Hair Loss Products             16.0\n",
       "Beauty/Hair Care/Hair Perms & Texturizers       12.5\n",
       "Beauty/Hair Care/Hair Relaxers                   7.0\n",
       "Beauty/Hair Care/Other                          19.0\n",
       "Beauty/Hair Care/Shampoo & Conditioner Sets     19.0\n",
       "Beauty/Hair Care/Shampoo Plus Conditioner       21.0\n",
       "Beauty/Hair Care/Shampoos                       14.0\n",
       "Beauty/Hair Care/Styling Products               13.0\n",
       "Beauty/Hair Care/Styling Tools                  18.5\n",
       "Beauty/Makeup/Body                               8.0\n",
       "Beauty/Makeup/Brushes & Applicators             10.0\n",
       "Beauty/Makeup/Eyes                              12.0\n",
       "Beauty/Makeup/Face                              15.0\n",
       "Beauty/Makeup/Lips                              14.0\n",
       "Beauty/Makeup/Makeup Palettes                   22.0\n",
       "                                                ... \n",
       "Women/Tops & Blouses/Knit Top                   15.0\n",
       "Women/Tops & Blouses/Other                      15.0\n",
       "Women/Tops & Blouses/Polo Shirt                 13.0\n",
       "Women/Tops & Blouses/T-Shirts                   15.0\n",
       "Women/Tops & Blouses/Tank, Cami                 12.0\n",
       "Women/Tops & Blouses/Tunic                      26.0\n",
       "Women/Tops & Blouses/Turtleneck                 11.0\n",
       "Women/Tops & Blouses/Wrap                       24.0\n",
       "Women/Underwear/Bras                            15.0\n",
       "Women/Underwear/G-Strings & Thongs              12.0\n",
       "Women/Underwear/Other                           14.0\n",
       "Women/Underwear/Panties                         13.0\n",
       "Women/Underwear/Thermal Underwear               26.0\n",
       "Women/Women's Accessories/Belts                 14.0\n",
       "Women/Women's Accessories/Hair Accessories      13.0\n",
       "Women/Women's Accessories/Hats                  14.0\n",
       "Women/Women's Accessories/Other                 14.0\n",
       "Women/Women's Accessories/Scarves & Wraps       14.0\n",
       "Women/Women's Accessories/Sunglasses            20.0\n",
       "Women/Women's Accessories/Wallets               24.0\n",
       "Women/Women's Accessories/Watches               32.0\n",
       "Women/Women's Handbags/Backpack Style           30.0\n",
       "Women/Women's Handbags/Baguette                 20.0\n",
       "Women/Women's Handbags/Cosmetic Bags            13.0\n",
       "Women/Women's Handbags/Hobo                     38.0\n",
       "Women/Women's Handbags/Messenger & Crossbody    36.0\n",
       "Women/Women's Handbags/Other                    20.0\n",
       "Women/Women's Handbags/Satchel                  94.0\n",
       "Women/Women's Handbags/Shoulder Bag             36.0\n",
       "Women/Women's Handbags/Totes & Shoppers         28.0\n",
       "Name: price, Length: 1252, dtype: float64"
      ]
     },
     "execution_count": 35,
     "metadata": {},
     "output_type": "execute_result"
    }
   ],
   "source": [
    "df_input_price_category_median = X_train_baseline.groupby(\"category_name\")[\"price\"].median()\n",
    "df_input_price_category_median"
   ]
  },
  {
   "cell_type": "code",
   "execution_count": null,
   "metadata": {},
   "outputs": [],
   "source": []
  },
  {
   "cell_type": "code",
   "execution_count": 36,
   "metadata": {},
   "outputs": [],
   "source": [
    "# #Prediction Algo\n",
    "\n",
    "arr_prediction = []\n",
    "dict_price_category_median = df_input_price_category_median.to_dict()\n",
    "\n",
    "for var_index, var_row in X_test_baseline.iterrows():\n",
    "    if var_row[\"category_name\"] not in dict_price_category_median.keys():\n",
    "        arr_prediction.append(var_overall_median)\n",
    "    else:\n",
    "        arr_prediction.append(dict_price_category_median[var_row[\"category_name\"]])"
   ]
  },
  {
   "cell_type": "code",
   "execution_count": 37,
   "metadata": {},
   "outputs": [
    {
     "data": {
      "text/plain": [
       "444761"
      ]
     },
     "execution_count": 37,
     "metadata": {},
     "output_type": "execute_result"
    }
   ],
   "source": [
    "len(arr_prediction)"
   ]
  },
  {
   "cell_type": "code",
   "execution_count": 38,
   "metadata": {},
   "outputs": [
    {
     "data": {
      "text/plain": [
       "0     9.0\n",
       "1    17.0\n",
       "2    14.0\n",
       "3     8.0\n",
       "4    14.0\n",
       "5    38.0\n",
       "6    12.0\n",
       "7    16.0\n",
       "8    16.0\n",
       "9    15.0\n",
       "dtype: float64"
      ]
     },
     "execution_count": 38,
     "metadata": {},
     "output_type": "execute_result"
    }
   ],
   "source": [
    "pd.Series(arr_prediction[:10])"
   ]
  },
  {
   "cell_type": "code",
   "execution_count": 39,
   "metadata": {},
   "outputs": [
    {
     "data": {
      "text/plain": [
       "777341      12.0\n",
       "1463629     76.0\n",
       "350669      12.0\n",
       "310222       3.0\n",
       "759257      30.0\n",
       "288846     225.0\n",
       "1178450     16.0\n",
       "726296      12.0\n",
       "840510      15.0\n",
       "1473033     17.0\n",
       "Name: price, dtype: float64"
      ]
     },
     "execution_count": 39,
     "metadata": {},
     "output_type": "execute_result"
    }
   ],
   "source": [
    "y_test_baseline[:10]"
   ]
  },
  {
   "cell_type": "code",
   "execution_count": 40,
   "metadata": {},
   "outputs": [
    {
     "data": {
      "text/plain": [
       "0.657873262321496"
      ]
     },
     "execution_count": 40,
     "metadata": {},
     "output_type": "execute_result"
    }
   ],
   "source": [
    "# #RMSLE\n",
    "math.sqrt(mean_squared_log_error(y_test_baseline, pd.Series(arr_prediction)))"
   ]
  },
  {
   "cell_type": "code",
   "execution_count": null,
   "metadata": {},
   "outputs": [],
   "source": []
  },
  {
   "cell_type": "code",
   "execution_count": null,
   "metadata": {},
   "outputs": [],
   "source": []
  },
  {
   "cell_type": "code",
   "execution_count": null,
   "metadata": {},
   "outputs": [],
   "source": []
  },
  {
   "cell_type": "code",
   "execution_count": 41,
   "metadata": {},
   "outputs": [],
   "source": [
    "# #Make submission"
   ]
  },
  {
   "cell_type": "code",
   "execution_count": 42,
   "metadata": {},
   "outputs": [],
   "source": [
    "var_overall_median = df_input.price.median()\n",
    "df_input_price_category_median = df_input.groupby(\"category_name\")[\"price\"].median()"
   ]
  },
  {
   "cell_type": "code",
   "execution_count": 43,
   "metadata": {},
   "outputs": [],
   "source": [
    "arr_prediction = []\n",
    "dict_price_category_median = df_input_price_category_median.to_dict()\n",
    "\n",
    "for var_index, var_row in df_test.iterrows():\n",
    "    if var_row[\"category_name\"] not in dict_price_category_median.keys():\n",
    "        arr_prediction.append(var_overall_median)\n",
    "    else:\n",
    "        arr_prediction.append(dict_price_category_median[var_row[\"category_name\"]])"
   ]
  },
  {
   "cell_type": "code",
   "execution_count": 44,
   "metadata": {},
   "outputs": [],
   "source": [
    "df_model_1_submission = pd.DataFrame()\n",
    "df_model_1_submission['test_id'] = df_test['test_id']\n",
    "df_model_1_submission['price'] = pd.Series(arr_prediction)\n",
    "df_model_1_submission.to_csv(\"submissions/model_1_submission_1.csv\", index=False)"
   ]
  },
  {
   "cell_type": "code",
   "execution_count": 45,
   "metadata": {},
   "outputs": [
    {
     "name": "stdout",
     "output_type": "stream",
     "text": [
      "test_id,price\n",
      "0,26.738\n",
      "1,26.738\n",
      "2,26.738\n",
      "3,26.738\n",
      "4,26.738\n",
      "5,26.738\n",
      "6,26.738\n",
      "7,26.738\n",
      "8,26.738\n"
     ]
    }
   ],
   "source": [
    "!head data/sample_submission.csv"
   ]
  },
  {
   "cell_type": "code",
   "execution_count": 46,
   "metadata": {},
   "outputs": [
    {
     "name": "stdout",
     "output_type": "stream",
     "text": [
      "test_id,price\n",
      "0,15.0\n",
      "1,9.0\n",
      "2,55.0\n",
      "3,17.0\n",
      "4,11.0\n",
      "5,10.0\n",
      "6,12.0\n",
      "7,32.0\n",
      "8,18.0\n"
     ]
    }
   ],
   "source": [
    "!head submissions/model_1_submission_1.csv"
   ]
  },
  {
   "cell_type": "code",
   "execution_count": null,
   "metadata": {},
   "outputs": [],
   "source": []
  },
  {
   "cell_type": "code",
   "execution_count": 47,
   "metadata": {},
   "outputs": [],
   "source": [
    "# #Model 2\n",
    "# #Random Forest Regressor"
   ]
  },
  {
   "cell_type": "code",
   "execution_count": 57,
   "metadata": {},
   "outputs": [
    {
     "data": {
      "text/html": [
       "<div>\n",
       "<style>\n",
       "    .dataframe thead tr:only-child th {\n",
       "        text-align: right;\n",
       "    }\n",
       "\n",
       "    .dataframe thead th {\n",
       "        text-align: left;\n",
       "    }\n",
       "\n",
       "    .dataframe tbody tr th {\n",
       "        vertical-align: top;\n",
       "    }\n",
       "</style>\n",
       "<table border=\"1\" class=\"dataframe\">\n",
       "  <thead>\n",
       "    <tr style=\"text-align: right;\">\n",
       "      <th></th>\n",
       "      <th>train_id</th>\n",
       "      <th>name</th>\n",
       "      <th>item_condition_id</th>\n",
       "      <th>category_name</th>\n",
       "      <th>brand_name</th>\n",
       "      <th>shipping</th>\n",
       "      <th>item_description</th>\n",
       "    </tr>\n",
       "  </thead>\n",
       "  <tbody>\n",
       "    <tr>\n",
       "      <th>1146412</th>\n",
       "      <td>1146412</td>\n",
       "      <td>Rue21 quarter sleeve</td>\n",
       "      <td>3</td>\n",
       "      <td>Women/Tops &amp; Blouses/T-Shirts</td>\n",
       "      <td>rue</td>\n",
       "      <td>0</td>\n",
       "      <td>Quarter sleeve pink shirt. Stretchy material. ...</td>\n",
       "    </tr>\n",
       "    <tr>\n",
       "      <th>117583</th>\n",
       "      <td>117583</td>\n",
       "      <td>BCoppa77</td>\n",
       "      <td>2</td>\n",
       "      <td>Beauty/Bath &amp; Body/Bath</td>\n",
       "      <td>NaN</td>\n",
       "      <td>1</td>\n",
       "      <td>No description yet</td>\n",
       "    </tr>\n",
       "    <tr>\n",
       "      <th>1242249</th>\n",
       "      <td>1242249</td>\n",
       "      <td>Baby Zara skinny jeans</td>\n",
       "      <td>3</td>\n",
       "      <td>Kids/Girls 0-24 Mos/Bottoms</td>\n",
       "      <td>NaN</td>\n",
       "      <td>1</td>\n",
       "      <td>Good condition Size 9-12 M</td>\n",
       "    </tr>\n",
       "    <tr>\n",
       "      <th>470404</th>\n",
       "      <td>470404</td>\n",
       "      <td>Jouer Skinny Dip Palette</td>\n",
       "      <td>1</td>\n",
       "      <td>Beauty/Makeup/Makeup Palettes</td>\n",
       "      <td>NaN</td>\n",
       "      <td>0</td>\n",
       "      <td>LE Skinny Dip Ultra Foil Shimmer Shadows Teste...</td>\n",
       "    </tr>\n",
       "    <tr>\n",
       "      <th>147937</th>\n",
       "      <td>147937</td>\n",
       "      <td>10k BLACK HILLS GOLD RING</td>\n",
       "      <td>3</td>\n",
       "      <td>Women/Jewelry/Rings</td>\n",
       "      <td>Stamped</td>\n",
       "      <td>0</td>\n",
       "      <td>Size 6 delicate heart BLACK HILLS GOLD RING. G...</td>\n",
       "    </tr>\n",
       "    <tr>\n",
       "      <th>548455</th>\n",
       "      <td>548455</td>\n",
       "      <td>Victoria secret sleep mask</td>\n",
       "      <td>2</td>\n",
       "      <td>Beauty/Skin Care/Eyes</td>\n",
       "      <td>Victoria's Secret</td>\n",
       "      <td>0</td>\n",
       "      <td>Sleep mask VS blocks out light to ensure a res...</td>\n",
       "    </tr>\n",
       "    <tr>\n",
       "      <th>1060084</th>\n",
       "      <td>1060084</td>\n",
       "      <td>Kendra Scott Drusy Ring</td>\n",
       "      <td>3</td>\n",
       "      <td>Women/Jewelry/Rings</td>\n",
       "      <td>Kendra Scott</td>\n",
       "      <td>0</td>\n",
       "      <td>Worn a few times. Approximately size 7 but adj...</td>\n",
       "    </tr>\n",
       "    <tr>\n",
       "      <th>2577</th>\n",
       "      <td>2577</td>\n",
       "      <td>liquid Lipstick Set for Christmas</td>\n",
       "      <td>1</td>\n",
       "      <td>Beauty/Makeup/Lips</td>\n",
       "      <td>NaN</td>\n",
       "      <td>1</td>\n",
       "      <td>FREE SHIPPING + BRAND NEW + CLEARANCE DON'T pu...</td>\n",
       "    </tr>\n",
       "    <tr>\n",
       "      <th>1120903</th>\n",
       "      <td>1120903</td>\n",
       "      <td>NWT LuLaRoe OS Christmas Cat</td>\n",
       "      <td>1</td>\n",
       "      <td>Women/Athletic Apparel/Pants, Tights, Leggings</td>\n",
       "      <td>NaN</td>\n",
       "      <td>1</td>\n",
       "      <td>NWT LuLaRoe super cute OS leggings! These are ...</td>\n",
       "    </tr>\n",
       "    <tr>\n",
       "      <th>1274269</th>\n",
       "      <td>1274269</td>\n",
       "      <td>Cute, Rustic Wall Clock</td>\n",
       "      <td>2</td>\n",
       "      <td>Home/Home Décor/Home Décor Accents</td>\n",
       "      <td>NaN</td>\n",
       "      <td>0</td>\n",
       "      <td>In great shape! Moving, so looking for a good ...</td>\n",
       "    </tr>\n",
       "  </tbody>\n",
       "</table>\n",
       "</div>"
      ],
      "text/plain": [
       "         train_id                               name  item_condition_id  \\\n",
       "1146412   1146412               Rue21 quarter sleeve                  3   \n",
       "117583     117583                           BCoppa77                  2   \n",
       "1242249   1242249             Baby Zara skinny jeans                  3   \n",
       "470404     470404           Jouer Skinny Dip Palette                  1   \n",
       "147937     147937          10k BLACK HILLS GOLD RING                  3   \n",
       "548455     548455         Victoria secret sleep mask                  2   \n",
       "1060084   1060084            Kendra Scott Drusy Ring                  3   \n",
       "2577         2577  liquid Lipstick Set for Christmas                  1   \n",
       "1120903   1120903       NWT LuLaRoe OS Christmas Cat                  1   \n",
       "1274269   1274269            Cute, Rustic Wall Clock                  2   \n",
       "\n",
       "                                          category_name         brand_name  \\\n",
       "1146412                   Women/Tops & Blouses/T-Shirts                rue   \n",
       "117583                          Beauty/Bath & Body/Bath                NaN   \n",
       "1242249                     Kids/Girls 0-24 Mos/Bottoms                NaN   \n",
       "470404                    Beauty/Makeup/Makeup Palettes                NaN   \n",
       "147937                              Women/Jewelry/Rings            Stamped   \n",
       "548455                            Beauty/Skin Care/Eyes  Victoria's Secret   \n",
       "1060084                             Women/Jewelry/Rings       Kendra Scott   \n",
       "2577                                 Beauty/Makeup/Lips                NaN   \n",
       "1120903  Women/Athletic Apparel/Pants, Tights, Leggings                NaN   \n",
       "1274269              Home/Home Décor/Home Décor Accents                NaN   \n",
       "\n",
       "         shipping                                   item_description  \n",
       "1146412         0  Quarter sleeve pink shirt. Stretchy material. ...  \n",
       "117583          1                                 No description yet  \n",
       "1242249         1                         Good condition Size 9-12 M  \n",
       "470404          0  LE Skinny Dip Ultra Foil Shimmer Shadows Teste...  \n",
       "147937          0  Size 6 delicate heart BLACK HILLS GOLD RING. G...  \n",
       "548455          0  Sleep mask VS blocks out light to ensure a res...  \n",
       "1060084         0  Worn a few times. Approximately size 7 but adj...  \n",
       "2577            1  FREE SHIPPING + BRAND NEW + CLEARANCE DON'T pu...  \n",
       "1120903         1  NWT LuLaRoe super cute OS leggings! These are ...  \n",
       "1274269         0  In great shape! Moving, so looking for a good ...  "
      ]
     },
     "execution_count": 57,
     "metadata": {},
     "output_type": "execute_result"
    }
   ],
   "source": [
    "X_train[:10]"
   ]
  },
  {
   "cell_type": "code",
   "execution_count": 122,
   "metadata": {},
   "outputs": [
    {
     "name": "stderr",
     "output_type": "stream",
     "text": [
      "c:\\users\\karti\\appdata\\local\\programs\\python\\python36\\lib\\site-packages\\pandas\\core\\generic.py:3110: SettingWithCopyWarning: \n",
      "A value is trying to be set on a copy of a slice from a DataFrame.\n",
      "Try using .loc[row_indexer,col_indexer] = value instead\n",
      "\n",
      "See the caveats in the documentation: http://pandas.pydata.org/pandas-docs/stable/indexing.html#indexing-view-versus-copy\n",
      "  self[name] = value\n"
     ]
    }
   ],
   "source": [
    "df_input.category_name = df_input.category_name.astype(str)\n",
    "X_train.category_name = X_train.category_name.astype(str)\n",
    "X_test.category_name = X_test.category_name.astype(str)"
   ]
  },
  {
   "cell_type": "code",
   "execution_count": 123,
   "metadata": {},
   "outputs": [
    {
     "data": {
      "text/plain": [
       "LabelEncoder()"
      ]
     },
     "execution_count": 123,
     "metadata": {},
     "output_type": "execute_result"
    }
   ],
   "source": [
    "label_encoder = preprocessing.LabelEncoder()\n",
    "label_encoder.fit(df_input.category_name.unique())"
   ]
  },
  {
   "cell_type": "code",
   "execution_count": 124,
   "metadata": {},
   "outputs": [
    {
     "data": {
      "text/plain": [
       "array(['Beauty/Bath & Body/Bath', 'Beauty/Bath & Body/Bathing Accessories',\n",
       "       'Beauty/Bath & Body/Cleansers', ...,\n",
       "       \"Women/Women's Handbags/Shoulder Bag\",\n",
       "       \"Women/Women's Handbags/Totes & Shoppers\", 'nan'], dtype=object)"
      ]
     },
     "execution_count": 124,
     "metadata": {},
     "output_type": "execute_result"
    }
   ],
   "source": [
    "label_encoder.classes_"
   ]
  },
  {
   "cell_type": "code",
   "execution_count": 125,
   "metadata": {},
   "outputs": [
    {
     "data": {
      "text/plain": [
       "1288"
      ]
     },
     "execution_count": 125,
     "metadata": {},
     "output_type": "execute_result"
    }
   ],
   "source": [
    "len(label_encoder.classes_)"
   ]
  },
  {
   "cell_type": "code",
   "execution_count": 126,
   "metadata": {},
   "outputs": [
    {
     "name": "stderr",
     "output_type": "stream",
     "text": [
      "c:\\users\\karti\\appdata\\local\\programs\\python\\python36\\lib\\site-packages\\ipykernel_launcher.py:1: SettingWithCopyWarning: \n",
      "A value is trying to be set on a copy of a slice from a DataFrame.\n",
      "Try using .loc[row_indexer,col_indexer] = value instead\n",
      "\n",
      "See the caveats in the documentation: http://pandas.pydata.org/pandas-docs/stable/indexing.html#indexing-view-versus-copy\n",
      "  \"\"\"Entry point for launching an IPython kernel.\n",
      "c:\\users\\karti\\appdata\\local\\programs\\python\\python36\\lib\\site-packages\\ipykernel_launcher.py:2: SettingWithCopyWarning: \n",
      "A value is trying to be set on a copy of a slice from a DataFrame.\n",
      "Try using .loc[row_indexer,col_indexer] = value instead\n",
      "\n",
      "See the caveats in the documentation: http://pandas.pydata.org/pandas-docs/stable/indexing.html#indexing-view-versus-copy\n",
      "  \n"
     ]
    }
   ],
   "source": [
    "X_train[\"category_label_code\"] = pd.DataFrame(label_encoder.transform(X_train[\"category_name\"]))\n",
    "X_test[\"category_label_code\"] = pd.DataFrame(label_encoder.transform(X_test[\"category_name\"]))"
   ]
  },
  {
   "cell_type": "code",
   "execution_count": 127,
   "metadata": {},
   "outputs": [
    {
     "data": {
      "text/html": [
       "<div>\n",
       "<style>\n",
       "    .dataframe thead tr:only-child th {\n",
       "        text-align: right;\n",
       "    }\n",
       "\n",
       "    .dataframe thead th {\n",
       "        text-align: left;\n",
       "    }\n",
       "\n",
       "    .dataframe tbody tr th {\n",
       "        vertical-align: top;\n",
       "    }\n",
       "</style>\n",
       "<table border=\"1\" class=\"dataframe\">\n",
       "  <thead>\n",
       "    <tr style=\"text-align: right;\">\n",
       "      <th></th>\n",
       "      <th>train_id</th>\n",
       "      <th>name</th>\n",
       "      <th>item_condition_id</th>\n",
       "      <th>category_name</th>\n",
       "      <th>brand_name</th>\n",
       "      <th>shipping</th>\n",
       "      <th>item_description</th>\n",
       "      <th>category_label_code</th>\n",
       "    </tr>\n",
       "  </thead>\n",
       "  <tbody>\n",
       "    <tr>\n",
       "      <th>1146412</th>\n",
       "      <td>1146412</td>\n",
       "      <td>Rue21 quarter sleeve</td>\n",
       "      <td>3</td>\n",
       "      <td>Women/Tops &amp; Blouses/T-Shirts</td>\n",
       "      <td>rue</td>\n",
       "      <td>0</td>\n",
       "      <td>Quarter sleeve pink shirt. Stretchy material. ...</td>\n",
       "      <td>NaN</td>\n",
       "    </tr>\n",
       "    <tr>\n",
       "      <th>117583</th>\n",
       "      <td>117583</td>\n",
       "      <td>BCoppa77</td>\n",
       "      <td>2</td>\n",
       "      <td>Beauty/Bath &amp; Body/Bath</td>\n",
       "      <td>NaN</td>\n",
       "      <td>1</td>\n",
       "      <td>No description yet</td>\n",
       "      <td>1144.0</td>\n",
       "    </tr>\n",
       "    <tr>\n",
       "      <th>1242249</th>\n",
       "      <td>1242249</td>\n",
       "      <td>Baby Zara skinny jeans</td>\n",
       "      <td>3</td>\n",
       "      <td>Kids/Girls 0-24 Mos/Bottoms</td>\n",
       "      <td>NaN</td>\n",
       "      <td>1</td>\n",
       "      <td>Good condition Size 9-12 M</td>\n",
       "      <td>NaN</td>\n",
       "    </tr>\n",
       "    <tr>\n",
       "      <th>470404</th>\n",
       "      <td>470404</td>\n",
       "      <td>Jouer Skinny Dip Palette</td>\n",
       "      <td>1</td>\n",
       "      <td>Beauty/Makeup/Makeup Palettes</td>\n",
       "      <td>NaN</td>\n",
       "      <td>0</td>\n",
       "      <td>LE Skinny Dip Ultra Foil Shimmer Shadows Teste...</td>\n",
       "      <td>197.0</td>\n",
       "    </tr>\n",
       "    <tr>\n",
       "      <th>147937</th>\n",
       "      <td>147937</td>\n",
       "      <td>10k BLACK HILLS GOLD RING</td>\n",
       "      <td>3</td>\n",
       "      <td>Women/Jewelry/Rings</td>\n",
       "      <td>Stamped</td>\n",
       "      <td>0</td>\n",
       "      <td>Size 6 delicate heart BLACK HILLS GOLD RING. G...</td>\n",
       "      <td>1137.0</td>\n",
       "    </tr>\n",
       "  </tbody>\n",
       "</table>\n",
       "</div>"
      ],
      "text/plain": [
       "         train_id                       name  item_condition_id  \\\n",
       "1146412   1146412       Rue21 quarter sleeve                  3   \n",
       "117583     117583                   BCoppa77                  2   \n",
       "1242249   1242249     Baby Zara skinny jeans                  3   \n",
       "470404     470404   Jouer Skinny Dip Palette                  1   \n",
       "147937     147937  10k BLACK HILLS GOLD RING                  3   \n",
       "\n",
       "                         category_name brand_name  shipping  \\\n",
       "1146412  Women/Tops & Blouses/T-Shirts        rue         0   \n",
       "117583         Beauty/Bath & Body/Bath        NaN         1   \n",
       "1242249    Kids/Girls 0-24 Mos/Bottoms        NaN         1   \n",
       "470404   Beauty/Makeup/Makeup Palettes        NaN         0   \n",
       "147937             Women/Jewelry/Rings    Stamped         0   \n",
       "\n",
       "                                          item_description  \\\n",
       "1146412  Quarter sleeve pink shirt. Stretchy material. ...   \n",
       "117583                                  No description yet   \n",
       "1242249                         Good condition Size 9-12 M   \n",
       "470404   LE Skinny Dip Ultra Foil Shimmer Shadows Teste...   \n",
       "147937   Size 6 delicate heart BLACK HILLS GOLD RING. G...   \n",
       "\n",
       "         category_label_code  \n",
       "1146412                  NaN  \n",
       "117583                1144.0  \n",
       "1242249                  NaN  \n",
       "470404                 197.0  \n",
       "147937                1137.0  "
      ]
     },
     "execution_count": 127,
     "metadata": {},
     "output_type": "execute_result"
    }
   ],
   "source": [
    "X_train.head()"
   ]
  },
  {
   "cell_type": "code",
   "execution_count": null,
   "metadata": {},
   "outputs": [],
   "source": []
  },
  {
   "cell_type": "code",
   "execution_count": 128,
   "metadata": {},
   "outputs": [
    {
     "data": {
      "text/plain": [
       "(         train_id                                      name  \\\n",
       " 1146412   1146412                      Rue21 quarter sleeve   \n",
       " 117583     117583                                  BCoppa77   \n",
       " 1242249   1242249                    Baby Zara skinny jeans   \n",
       " 470404     470404                  Jouer Skinny Dip Palette   \n",
       " 147937     147937                 10k BLACK HILLS GOLD RING   \n",
       " 548455     548455                Victoria secret sleep mask   \n",
       " 1060084   1060084                   Kendra Scott Drusy Ring   \n",
       " 2577         2577         liquid Lipstick Set for Christmas   \n",
       " 1120903   1120903              NWT LuLaRoe OS Christmas Cat   \n",
       " 1274269   1274269                   Cute, Rustic Wall Clock   \n",
       " 963455     963455          Doc McSTUFFINS DOLL & Doc&Stuffy   \n",
       " 339290     339290                             Lily Pulitzer   \n",
       " 1327474   1327474                  Sonoline B fetal Doppler   \n",
       " 51002       51002     New Urban Decay all nighter shade 3.5   \n",
       " 669995     669995               Floral Cutout Dressy Blouse   \n",
       " 207473     207473                              Silver jeans   \n",
       " 860955     860955                           Plus Size Tunic   \n",
       " 554042     554042      Super girl Caped Halloween Costume L   \n",
       " 714159     714159        NEW paper mate gel pens pack of 14   \n",
       " 835524     835524      1907 great Britain penny world money   \n",
       " 1228789   1228789                          Black Jeans (26)   \n",
       " 966131     966131    Fine/Extra Fine Glitter Nail Art Set 7   \n",
       " 1062602   1062602         Ballerina mouse costume with ears   \n",
       " 101266     101266   Pink aviator mirrored sunglasses & case   \n",
       " 1296812   1296812                HOLD e.l.f. Makeup brushes   \n",
       " 565975     565975                       Lorac Baked Bronzer   \n",
       " 717410     717410                  Foundation Makeup Bundle   \n",
       " 385932     385932                     Toddler foamposite 7c   \n",
       " 1247666   1247666                         EUC co-op Ruffles   \n",
       " 1421567   1421567                     S Classic only! *Hold   \n",
       " ...           ...                                       ...   \n",
       " 989436     989436              Lot of assorted BBW products   \n",
       " 1470485   1470485               Thenewsaintpabllo (2 items)   \n",
       " 1396025   1396025                              Sexy Panties   \n",
       " 184779     184779      Boys size 8 basketball shorts bundle   \n",
       " 1262752   1262752                             Swarovski pen   \n",
       " 1284372   1284372                          White sequin top   \n",
       " 103355     103355                                     Dress   \n",
       " 791743     791743            100% Authentic LV Orsay Clutch   \n",
       " 1247617   1247617          ⚡️5 Minute Teeth Whitening kit⚡️   \n",
       " 327069     327069                      Timberland carry bag   \n",
       " 1370455   1370455                                     Shirt   \n",
       " 787201     787201  Halloween Goth Gore Human Heart Necklace   \n",
       " 1113396   1113396                      Gold Anchor Earrings   \n",
       " 329365     329365               Helldivers ultimate edition   \n",
       " 41090       41090   Michael Kors Ritz MK Glitz Watch MK6346   \n",
       " 278167     278167                     35 Thank You Stickers   \n",
       " 1239911   1239911   One set Of boingo and One Snappi, Small   \n",
       " 175203     175203                     8 Tier Shoe Organizer   \n",
       " 912756     912756                      Steve Madden booties   \n",
       " 1136074   1136074     AEO Off White Love Hoodie, Size Large   \n",
       " 999890     999890                          Matilda Jane set   \n",
       " 137337     137337                  95 WHITE POLYMAILERS 4X6   \n",
       " 1103462   1103462                            Men Keen Boots   \n",
       " 732180     732180                       Nike women's Roshes   \n",
       " 110268     110268                           Men's down vest   \n",
       " 259178     259178                     Brooks brothers girls   \n",
       " 1414414   1414414                  LulaRoe Randy size Large   \n",
       " 131932     131932                              This sale is   \n",
       " 671155     671155    Iphone headphone lightning cable split   \n",
       " 121958     121958  Glass Replacement Available iPhone 4,5,6   \n",
       " \n",
       "          item_condition_id                                      category_name  \\\n",
       " 1146412                  3                      Women/Tops & Blouses/T-Shirts   \n",
       " 117583                   2                            Beauty/Bath & Body/Bath   \n",
       " 1242249                  3                        Kids/Girls 0-24 Mos/Bottoms   \n",
       " 470404                   1                      Beauty/Makeup/Makeup Palettes   \n",
       " 147937                   3                                Women/Jewelry/Rings   \n",
       " 548455                   2                              Beauty/Skin Care/Eyes   \n",
       " 1060084                  3                                Women/Jewelry/Rings   \n",
       " 2577                     1                                 Beauty/Makeup/Lips   \n",
       " 1120903                  1     Women/Athletic Apparel/Pants, Tights, Leggings   \n",
       " 1274269                  2                 Home/Home Décor/Home Décor Accents   \n",
       " 963455                   1                      Kids/Toys/Dolls & Accessories   \n",
       " 339290                   2                        Women/Tops & Blouses/Blouse   \n",
       " 1327474                  2  Kids/Pregnancy & Maternity/Prenatal Monitoring...   \n",
       " 51002                    1                                 Beauty/Makeup/Face   \n",
       " 669995                   2                        Women/Tops & Blouses/Blouse   \n",
       " 207473                   2                               Women/Jeans/Boot Cut   \n",
       " 860955                   2                         Women/Tops & Blouses/Tunic   \n",
       " 554042                   3                          Handmade/Clothing/Costume   \n",
       " 714159                   1                      Other/Office supplies/Writing   \n",
       " 835524                   4        Vintage & Collectibles/Antique/Collectibles   \n",
       " 1228789                  3                           Women/Jeans/Slim, Skinny   \n",
       " 966131                   2                                Beauty/Makeup/Nails   \n",
       " 1062602                  2                          Handmade/Clothing/Costume   \n",
       " 101266                   3               Women/Women's Accessories/Sunglasses   \n",
       " 1296812                  2  Beauty/Tools & Accessories/Makeup Brushes & Tools   \n",
       " 565975                   3                                 Beauty/Makeup/Face   \n",
       " 717410                   1                                 Beauty/Makeup/Face   \n",
       " 385932                   2                              Kids/Boys 2T-5T/Shoes   \n",
       " 1247666                  2                           Kids/Girls 2T-5T/Bottoms   \n",
       " 1421567                  1     Women/Athletic Apparel/Pants, Tights, Leggings   \n",
       " ...                    ...                                                ...   \n",
       " 989436                   1                              Beauty/Skin Care/Body   \n",
       " 1470485                  1                            Women/Jewelry/Necklaces   \n",
       " 1396025                  1                            Women/Underwear/Panties   \n",
       " 184779                   2                             Kids/Boys (4+)/Bottoms   \n",
       " 1262752                  1                      Other/Office supplies/Writing   \n",
       " 1284372                  2                      Women/Tops & Blouses/T-Shirts   \n",
       " 103355                   1                          Women/Dresses/Knee-Length   \n",
       " 791743                   3     Vintage & Collectibles/Bags and Purses/Handbag   \n",
       " 1247617                  1           Other/Daily & Travel items/Personal Care   \n",
       " 327069                   3  Men/Men's Accessories/Backpacks, Bags & Briefc...   \n",
       " 1370455                  3               Women/Athletic Apparel/Shirts & Tops   \n",
       " 787201                   1                        Handmade/Holidays/Halloween   \n",
       " 1113396                  1                             Women/Jewelry/Earrings   \n",
       " 329365                   3           Electronics/Video Games & Consoles/Games   \n",
       " 41090                    1                  Women/Women's Accessories/Watches   \n",
       " 278167                   1            Other/Office supplies/Shipping Supplies   \n",
       " 1239911                  2                       Kids/Diapering/Cloth Diapers   \n",
       " 175203                   1  Home/Storage & Organization/Racks, Shelves & D...   \n",
       " 912756                   1                                  Women/Shoes/Boots   \n",
       " 1136074                  3                              Women/Sweaters/Hooded   \n",
       " 999890                   2                Kids/Girls 0-24 Mos/Tops & T-Shirts   \n",
       " 137337                   1            Other/Office supplies/Shipping Supplies   \n",
       " 1103462                  3                                    Men/Shoes/Boots   \n",
       " 732180                   2                               Women/Shoes/Athletic   \n",
       " 110268                   2                           Men/Coats & Jackets/Vest   \n",
       " 259178                   3                            Kids/Girls (4+)/Dresses   \n",
       " 1414414                  1                      Women/Tops & Blouses/Knit Top   \n",
       " 131932                   1                      Kids/Toys/Dolls & Accessories   \n",
       " 671155                   1  Electronics/Cell Phones & Accessories/Cables &...   \n",
       " 121958                   1  Electronics/Cell Phones & Accessories/Cell Pho...   \n",
       " \n",
       "                 brand_name  shipping  \\\n",
       " 1146412                rue         0   \n",
       " 117583                 NaN         1   \n",
       " 1242249                NaN         1   \n",
       " 470404                 NaN         0   \n",
       " 147937             Stamped         0   \n",
       " 548455   Victoria's Secret         0   \n",
       " 1060084       Kendra Scott         0   \n",
       " 2577                   NaN         1   \n",
       " 1120903                NaN         1   \n",
       " 1274269                NaN         0   \n",
       " 963455                 NaN         0   \n",
       " 339290      Lilly Pulitzer         0   \n",
       " 1327474                NaN         0   \n",
       " 51002          Urban Decay         1   \n",
       " 669995     Charlotte Russe         1   \n",
       " 207473    Silver Jeans Co.         0   \n",
       " 860955          Catherines         1   \n",
       " 554042                 NaN         1   \n",
       " 714159          Paper Mate         0   \n",
       " 835524                 NaN         1   \n",
       " 1228789         FOREVER 21         0   \n",
       " 966131                 NaN         0   \n",
       " 1062602                NaN         1   \n",
       " 101266                 NaN         0   \n",
       " 1296812             e.l.f.         1   \n",
       " 565975               Lorac         1   \n",
       " 717410                Ulta         1   \n",
       " 385932                Nike         1   \n",
       " 1247666                NaN         1   \n",
       " 1421567                NaN         1   \n",
       " ...                    ...       ...   \n",
       " 989436   Bath & Body Works         1   \n",
       " 1470485                NaN         1   \n",
       " 1396025                NaN         1   \n",
       " 184779                 NaN         0   \n",
       " 1262752                NaN         0   \n",
       " 1284372    Ann Taylor LOFT         0   \n",
       " 103355          Heart Soul         1   \n",
       " 791743       Louis Vuitton         0   \n",
       " 1247617                NaN         1   \n",
       " 327069          Timberland         0   \n",
       " 1370455                NaN         0   \n",
       " 787201                 NaN         1   \n",
       " 1113396                NaN         1   \n",
       " 329365                 NaN         0   \n",
       " 41090         Michael Kors         1   \n",
       " 278167                 NaN         1   \n",
       " 1239911                NaN         0   \n",
       " 175203                 NaN         1   \n",
       " 912756        Steve Madden         0   \n",
       " 1136074     American Eagle         0   \n",
       " 999890                 NaN         1   \n",
       " 137337                 NaN         1   \n",
       " 1103462               KEEN         0   \n",
       " 732180                Nike         0   \n",
       " 110268          Hawke & Co         1   \n",
       " 259178     Brooks Brothers         0   \n",
       " 1414414                NaN         0   \n",
       " 131932                 NaN         0   \n",
       " 671155               Apple         0   \n",
       " 121958                 NaN         1   \n",
       " \n",
       "                                           item_description  \\\n",
       " 1146412  Quarter sleeve pink shirt. Stretchy material. ...   \n",
       " 117583                                  No description yet   \n",
       " 1242249                         Good condition Size 9-12 M   \n",
       " 470404   LE Skinny Dip Ultra Foil Shimmer Shadows Teste...   \n",
       " 147937   Size 6 delicate heart BLACK HILLS GOLD RING. G...   \n",
       " 548455   Sleep mask VS blocks out light to ensure a res...   \n",
       " 1060084  Worn a few times. Approximately size 7 but adj...   \n",
       " 2577     FREE SHIPPING + BRAND NEW + CLEARANCE DON'T pu...   \n",
       " 1120903  NWT LuLaRoe super cute OS leggings! These are ...   \n",
       " 1274269  In great shape! Moving, so looking for a good ...   \n",
       " 963455                                        DOLL and set   \n",
       " 339290                      Lily Pulitzer blouse large Euc   \n",
       " 1327474  Works perfect, used a handful of times, doesn'...   \n",
       " 51002    Nib, shade 3.5 Authenticity Guaranteed Firm an...   \n",
       " 669995   Mustard yellow with white & red flowers. There...   \n",
       " 207473                                           W 27 l 31   \n",
       " 860955   Very nice cotton/knit long with bling on chest...   \n",
       " 554042   Sexy Super girl Superhero Caped Fancy Dress Pa...   \n",
       " 714159                         New!!! Retail price of [rm]   \n",
       " 835524                     A great Britain penny from 1907   \n",
       " 1228789  Black forever 21 jeans Size 26 Skinny fit This...   \n",
       " 966131   You will receive all 12 of the glitters pictur...   \n",
       " 1062602  Seriously the cutest thing ever. I planned for...   \n",
       " 101266   Pink aviator sunglasses are perfect for summer...   \n",
       " 1296812                            Brand new without tags.   \n",
       " 565975                                  No description yet   \n",
       " 717410   Brand new, never used. Includes 3 itmes. • May...   \n",
       " 385932   Excellent condition, comes with box Worn 4 tim...   \n",
       " 1247666  These pair great with Matilda Jane, Mustard Pi...   \n",
       " 1421567                              BNWT. Classic T only.   \n",
       " ...                                                    ...   \n",
       " 989436                                  No description yet   \n",
       " 1470485  His & hers Heart Couples necklaces White gold ...   \n",
       " 1396025                                        Size: 1x/2x   \n",
       " 184779                             2 pairs. Perfect condo!   \n",
       " 1262752         Silver tone with silver dust Swarovski Pen   \n",
       " 1284372                  Great mint condition.Sleeves 3/4.   \n",
       " 103355   Pretty cream colored lace dress. New with tags...   \n",
       " 791743   This is in excellent condition aside from the ...   \n",
       " 1247617  5 Minute Teeth Whitening Natural White Tooth W...   \n",
       " 327069   In a good shape Barely used Message me for bundle   \n",
       " 1370455                               Shirt Featuring Tpac   \n",
       " 787201   FREE SHIPPING ([rm] TRACKABLE SHIPPING IS INCL...   \n",
       " 1113396  Hypo allergenic Color: Gold tone Perfect for g...   \n",
       " 329365   Ps4 game. Helldivers ultimate edition. No scra...   \n",
       " 41090    SELLING OUT FAST! * Authentic MK6346 * Model: ...   \n",
       " 278167   Round Kraft Paper thank you stickers With Red ...   \n",
       " 1239911  One Boingo and one Snappi for smaller babies a...   \n",
       " 175203   Brand new never used 8 tier shoe organizer 100...   \n",
       " 912756                                           Brand new   \n",
       " 1136074  Women's American Eagle Off White Love Hoodie, ...   \n",
       " 999890   Size 12/18 month top with COOP matching shorti...   \n",
       " 137337              White polymailers 95 count Size: 4 X 6   \n",
       " 1103462  200 Gram Insulation Boots in Dark Earth color....   \n",
       " 732180                                      Nice! Like new   \n",
       " 110268   Hawke & Co. men's down vest. Never worn. Perfe...   \n",
       " 259178   Beautiful dress, another of her favorites. Sz....   \n",
       " 1414414  Brand new, never worn or washed, size Large, N...   \n",
       " 131932   American girl doll Tenney. Comes with the doll...   \n",
       " 671155                                  No description yet   \n",
       " 121958   Glass Replacement available iPhone 4, 5, 6, 6,...   \n",
       " \n",
       "          category_label_code  \n",
       " 1146412                  NaN  \n",
       " 117583                1144.0  \n",
       " 1242249                  NaN  \n",
       " 470404                 197.0  \n",
       " 147937                1137.0  \n",
       " 548455                 108.0  \n",
       " 1060084                  NaN  \n",
       " 2577                    11.0  \n",
       " 1120903                  NaN  \n",
       " 1274269                  NaN  \n",
       " 963455                1139.0  \n",
       " 339290                1268.0  \n",
       " 1327474                  NaN  \n",
       " 51002                  562.0  \n",
       " 669995                1213.0  \n",
       " 207473                1137.0  \n",
       " 860955                  28.0  \n",
       " 554042                 693.0  \n",
       " 714159                1268.0  \n",
       " 835524                 903.0  \n",
       " 1228789                  NaN  \n",
       " 966131                 564.0  \n",
       " 1062602                  NaN  \n",
       " 101266                 636.0  \n",
       " 1296812                  NaN  \n",
       " 565975                1203.0  \n",
       " 717410                1282.0  \n",
       " 385932                1137.0  \n",
       " 1247666                  NaN  \n",
       " 1421567                  NaN  \n",
       " ...                      ...  \n",
       " 989436                1253.0  \n",
       " 1470485                  NaN  \n",
       " 1396025                  NaN  \n",
       " 184779                 299.0  \n",
       " 1262752                  NaN  \n",
       " 1284372                  NaN  \n",
       " 103355                1260.0  \n",
       " 791743                  81.0  \n",
       " 1247617                  NaN  \n",
       " 327069                 807.0  \n",
       " 1370455                  NaN  \n",
       " 787201                1137.0  \n",
       " 1113396                  NaN  \n",
       " 329365                1280.0  \n",
       " 41090                 1286.0  \n",
       " 278167                 744.0  \n",
       " 1239911                  NaN  \n",
       " 175203                1254.0  \n",
       " 912756                1142.0  \n",
       " 1136074                  NaN  \n",
       " 999890                  37.0  \n",
       " 137337                 707.0  \n",
       " 1103462                  NaN  \n",
       " 732180                1265.0  \n",
       " 110268                 982.0  \n",
       " 259178                1164.0  \n",
       " 1414414                  NaN  \n",
       " 131932                 774.0  \n",
       " 671155                1177.0  \n",
       " 121958                1260.0  \n",
       " \n",
       " [1037774 rows x 8 columns],\n",
       "          train_id                                      name  \\\n",
       " 777341     777341             F/ship 4 Totoro Washi + 1 pen   \n",
       " 1463629   1463629                UCLA Men's Bundle + Shorts   \n",
       " 350669     350669                           Listing for lol   \n",
       " 310222     310222              25 pcs kawaii sticker flakes   \n",
       " 759257     759257                  Chanel Mini Lipgloss Set   \n",
       " 288846     288846                        Maroon Foamposites   \n",
       " 1178450   1178450      INC studdedHeart Black Blouse Dolman   \n",
       " 726296     726296                      Leggo silicone molds   \n",
       " 840510     840510                         Supreme Uzi Chain   \n",
       " 1473033   1473033       Women Gold Palm Pendant Necklace FC   \n",
       " 1170796   1170796         20 Starbucks drink cards for [rm]   \n",
       " 506473     506473                        NYX Suede Lipstick   \n",
       " 1134656   1134656      Ibloom Mini Berry Bread Doll Squishy   \n",
       " 587885     587885           New Travel Size Fresh Face Wash   \n",
       " 93928       93928                                 iPod mini   \n",
       " 260369     260369             Rock Revival Kai Boot Size 30   \n",
       " 96202       96202                    ORIGINAL APPLE EARPODS   \n",
       " 486334     486334  Ankle booties size 7.5 slip on. Like new   \n",
       " 1437987   1437987                       Big Star Liv Bundle   \n",
       " 1343222   1343222                       Hold for Love@wpink   \n",
       " 1403115   1403115                       Hold for Mysterious   \n",
       " 1393495   1393495                         Gap shorts size 8   \n",
       " 1364847   1364847         Cj Banks Partylite for Viking 444   \n",
       " 1339539   1339539    YuGiOh The Falsebound Kingdom GameCube   \n",
       " 1262505   1262505                             Under Armours   \n",
       " 811065     811065                        Kenneth Cole Boots   \n",
       " 310616     310616       American girl white armoire/dresser   \n",
       " 828784     828784                                   Naked 2   \n",
       " 1385423   1385423                  Torrid 44b Lace Demi Bra   \n",
       " 850832     850832    **ON HOLD** Ciaté London Liquid Velvet   \n",
       " ...           ...                                       ...   \n",
       " 537000     537000                   5pc Copper Oval Brushes   \n",
       " 902589     902589                 Adidas Stan Smith 2. New!   \n",
       " 1001094   1001094                             Starbucks cup   \n",
       " 893853     893853       Reserved! Geox winter boots size 11   \n",
       " 877172     877172                                  Nike Top   \n",
       " 1129055   1129055           Free ✈ New Girls Sperry Shoes 9   \n",
       " 474961     474961                          Adidas Superstar   \n",
       " 1185079   1185079                     New LuLaRoe M Patrick   \n",
       " 105           105                     Leather Fossil Wallet   \n",
       " 1207951   1207951       Beats by Dr. Dre Solo S450 Wireless   \n",
       " 1087417   1087417  THE NORTH FACE CAROLUNA (XS) WOMENS COAT   \n",
       " 688148     688148                      Vans Classic Slip-On   \n",
       " 1294824   1294824            Ulta Bundle and Milani makeup!   \n",
       " 526639     526639                       Old Navy Flip Flops   \n",
       " 538158     538158                  Benefit Dew the Hoola ts   \n",
       " 1159922   1159922         Infant Nike jogger suit 12 months   \n",
       " 1293006   1293006          Nyx AVANT pop palette. Art throb   \n",
       " 321553     321553         Size 9 - Teal Eyelet Shorts - NWT   \n",
       " 858968     858968        3\" DefenderXtreme Camo Style knife   \n",
       " 893794     893794  Bh cosmetics ILLUMINATE x Ashley Tisdale   \n",
       " 862754     862754      NWOT TC hairdresser LuLaRoe Leggings   \n",
       " 103328     103328               Victoria's Secret lip gloss   \n",
       " 225831     225831                American Girl Dog Meatloaf   \n",
       " 1008447   1008447        Lilly Pulitzer Jasmine Caftan XS/S   \n",
       " 830680     830680        Nike Air Force 1 Shoes - Size 6.5y   \n",
       " 656658     656658                   New LuLaRoe TC leggings   \n",
       " 1076935   1076935  NIKE's Jordan Horizon sneaker for men z9   \n",
       " 328028     328028                6 gray baby / newborn hats   \n",
       " 706596     706596       North Face White Venture jacket - S   \n",
       " 289804     289804            Victoria's Secret bling hoodie   \n",
       " \n",
       "          item_condition_id                                      category_name  \\\n",
       " 777341                   1                    Handmade/Paper Goods/Stationery   \n",
       " 1463629                  1                                  Women/Other/Other   \n",
       " 350669                   1                                 Beauty/Makeup/Lips   \n",
       " 310222                   1                            Kids/Toys/Arts & Crafts   \n",
       " 759257                   2                                 Beauty/Makeup/Lips   \n",
       " 288846                   3                         Men/Shoes/Fashion Sneakers   \n",
       " 1178450                  2                        Women/Tops & Blouses/Blouse   \n",
       " 726296                   3                     Home/Kitchen & Dining/Bakeware   \n",
       " 840510                   1                           Handmade/Accessories/Men   \n",
       " 1473033                  1            Vintage & Collectibles/Jewelry/Necklace   \n",
       " 1170796                  1     Home/Kitchen & Dining/Coffee & Tea Accessories   \n",
       " 506473                   1                                 Beauty/Makeup/Lips   \n",
       " 1134656                  1                                  Kids/Toys/Hobbies   \n",
       " 587885                   1                              Beauty/Skin Care/Face   \n",
       " 93928                    3  Electronics/TV, Audio & Surveillance/Portable ...   \n",
       " 260369                   3                               Women/Jeans/Boot Cut   \n",
       " 96202                    1  Electronics/Cell Phones & Accessories/Cell Pho...   \n",
       " 486334                   3                                  Women/Shoes/Boots   \n",
       " 1437987                  1                               Women/Jeans/Boot Cut   \n",
       " 1343222                  1                           Kids/Toys/Party Supplies   \n",
       " 1403115                  1                              Kids/Girls (4+)/Jeans   \n",
       " 1393495                  3                                  Women/Other/Other   \n",
       " 1364847                  3                        Women/Tops & Blouses/Blouse   \n",
       " 1339539                  3           Electronics/Video Games & Consoles/Games   \n",
       " 1262505                  2               Women/Athletic Apparel/Shirts & Tops   \n",
       " 811065                   3                                  Women/Shoes/Boots   \n",
       " 310616                   4                      Kids/Toys/Dolls & Accessories   \n",
       " 828784                   3                      Beauty/Makeup/Makeup Palettes   \n",
       " 1385423                  1                               Women/Underwear/Bras   \n",
       " 850832                   2                                 Beauty/Makeup/Lips   \n",
       " ...                    ...                                                ...   \n",
       " 537000                   1                Beauty/Makeup/Brushes & Applicators   \n",
       " 902589                   1                                 Men/Shoes/Athletic   \n",
       " 1001094                  1     Home/Kitchen & Dining/Coffee & Tea Accessories   \n",
       " 893853                   3                             Kids/Girls 2T-5T/Shoes   \n",
       " 877172                   2               Women/Athletic Apparel/Shirts & Tops   \n",
       " 1129055                  1                             Kids/Girls 2T-5T/Shoes   \n",
       " 474961                   3                       Women/Shoes/Fashion Sneakers   \n",
       " 1185079                  1                                  Men/Tops/T-shirts   \n",
       " 105                      3                  Women/Women's Accessories/Wallets   \n",
       " 1207951                  1     Electronics/Cell Phones & Accessories/Headsets   \n",
       " 1087417                  1                       Women/Coats & Jackets/Puffer   \n",
       " 688148                   3                       Women/Shoes/Fashion Sneakers   \n",
       " 1294824                  2                          Beauty/Makeup/Makeup Sets   \n",
       " 526639                   2                                Women/Shoes/Sandals   \n",
       " 538158                   1                                 Beauty/Makeup/Face   \n",
       " 1159922                  3                      Kids/Boys 0-24 Mos/One-Pieces   \n",
       " 1293006                  1                      Beauty/Makeup/Makeup Palettes   \n",
       " 321553                   1                        Women/Pants/Capris, Cropped   \n",
       " 858968                   1        Sports & Outdoors/Outdoors/Hiking & Camping   \n",
       " 893794                   2                                 Beauty/Makeup/Face   \n",
       " 862754                   1     Women/Athletic Apparel/Pants, Tights, Leggings   \n",
       " 103328                   2                                 Beauty/Makeup/Lips   \n",
       " 225831                   1                      Kids/Toys/Dolls & Accessories   \n",
       " 1008447                  1                        Women/Tops & Blouses/Blouse   \n",
       " 830680                   3                               Kids/Boys (4+)/Shoes   \n",
       " 656658                   1                               Women/Jeans/Leggings   \n",
       " 1076935                  2                                 Men/Shoes/Athletic   \n",
       " 328028                   3                     Kids/Boys 0-24 Mos/Accessories   \n",
       " 706596                   3                     Women/Coats & Jackets/Raincoat   \n",
       " 289804                   2                              Women/Sweaters/Hooded   \n",
       " \n",
       "                          brand_name  shipping  \\\n",
       " 777341                          NaN         1   \n",
       " 1463629                      Adidas         1   \n",
       " 350669                          NaN         1   \n",
       " 310222                          NaN         1   \n",
       " 759257                       Chanel         1   \n",
       " 288846                         Nike         1   \n",
       " 1178450  INC International Concepts         1   \n",
       " 726296                          NaN         0   \n",
       " 840510                          NaN         1   \n",
       " 1473033                         NaN         1   \n",
       " 1170796                   Starbucks         1   \n",
       " 506473                          NYX         0   \n",
       " 1134656                         NaN         0   \n",
       " 587885                      Sephora         1   \n",
       " 93928                         Apple         0   \n",
       " 260369                 Rock Revival         0   \n",
       " 96202                         Apple         1   \n",
       " 486334                          NaN         0   \n",
       " 1437987                    Big Star         0   \n",
       " 1343222                         NaN         0   \n",
       " 1403115                         NaN         1   \n",
       " 1393495                         Gap         1   \n",
       " 1364847                    CJ Banks         0   \n",
       " 1339539                         NaN         1   \n",
       " 1262505                Under Armour         1   \n",
       " 811065        Kenneth Cole New York         0   \n",
       " 310616                          NaN         0   \n",
       " 828784                  Urban Decay         0   \n",
       " 1385423                      Torrid         0   \n",
       " 850832                          NaN         1   \n",
       " ...                             ...       ...   \n",
       " 537000                          NaN         1   \n",
       " 902589             adidas Originals         1   \n",
       " 1001094                   Starbucks         1   \n",
       " 893853                          NaN         1   \n",
       " 877172                         Nike         0   \n",
       " 1129055                         NaN         1   \n",
       " 474961                       Adidas         1   \n",
       " 1185079                         NaN         1   \n",
       " 105                          Fossil         0   \n",
       " 1207951            Beats by Dr. Dre         1   \n",
       " 1087417              The North Face         1   \n",
       " 688148                         VANS         0   \n",
       " 1294824                        Ulta         1   \n",
       " 526639                     Old Navy         1   \n",
       " 538158                      Benefit         1   \n",
       " 1159922                        Nike         0   \n",
       " 1293006                         NYX         1   \n",
       " 321553                          NaN         1   \n",
       " 858968                          NaN         1   \n",
       " 893794                          NaN         1   \n",
       " 862754                          NaN         0   \n",
       " 103328                          NaN         0   \n",
       " 225831          American Boy & Girl         1   \n",
       " 1008447              Lilly Pulitzer         0   \n",
       " 830680                         Nike         0   \n",
       " 656658                      LuLaRoe         1   \n",
       " 1076935                     Jordans         0   \n",
       " 328028                          NaN         1   \n",
       " 706596               The North Face         0   \n",
       " 289804                         PINK         0   \n",
       " \n",
       "                                           item_description  \\\n",
       " 777341   This listing is for all 4 Totoro washi tape fo...   \n",
       " 1463629  7 items. 1: XL. 2: 2XL. 3:2XL. 4: XL. 5: 2XL. ...   \n",
       " 350669                        - sunglasses and necklace :)   \n",
       " 310222   I ordered a bunch of stickers so you will reci...   \n",
       " 759257   Brand new never used authentic Mini Lipgloss g...   \n",
       " 288846                              9/10 Condition N Sz 12   \n",
       " 1178450  New without tags INC International Concepts Sh...   \n",
       " 726296   I used these for my son's leggo birthday party...   \n",
       " 840510                                           10/10 New   \n",
       " 1473033  High quality Immediate purchase Ok? Free shipp...   \n",
       " 1170796  Starbucks drink cards l. Ask for bundle and wi...   \n",
       " 506473                 Color in Vintage. New and unopened.   \n",
       " 1134656  Brand new in packaging Soft and slow rising Sm...   \n",
       " 587885   New Travel Size No box Fresh Soy Face Cleanser...   \n",
       " 93928    iPod mini, purple. From 2006 I think. Works, b...   \n",
       " 260369   Rock Revival Kai Boot Size 30 Length 32 Bought...   \n",
       " 96202                                   No description yet   \n",
       " 486334   Worn one time . I already have a pair. These a...   \n",
       " 1437987  Size 26x34 stud and rhinestone embellished jea...   \n",
       " 1343222  Great minnie mouse party bundle! -50 pink heav...   \n",
       " 1403115  Matilda Jane Benny's NWT Smoke and pet free ho...   \n",
       " 1393495  Pink and orange print woven shorts with welt p...   \n",
       " 1364847  Cj Banks 1X top Partylite Candle Holder and 2 ...   \n",
       " 1339539  Disc has minor scratches. Overall great condit...   \n",
       " 1262505  Two Underarmours Size: Small Color: GRAY & Bla...   \n",
       " 811065   Only worn a few times. In perfect condition an...   \n",
       " 310616   Played with condition, marks/scuffs from play ...   \n",
       " 828784   Good pallet-I just have too many! There is so ...   \n",
       " 1385423                                                Nwt   \n",
       " 850832                           Liquid lipstick in Pin Up   \n",
       " ...                                                    ...   \n",
       " 537000                                  No description yet   \n",
       " 902589   Free shipping. White with gum bottom. Very rar...   \n",
       " 1001094                                 Espresso shot cup.   \n",
       " 893853   Adorable winter boots, warm and comfortable! G...   \n",
       " 877172     Black and white Nike top in like new condition.   \n",
       " 1129055  Brand New, Never Worn Toddler Girls Sperry Sho...   \n",
       " 474961        Size 6.5 in womens, I no longer have the box   \n",
       " 1185079  Brand new, super soft and comfortable Patrick ...   \n",
       " 105      Genuine leather, good preowned condition, does...   \n",
       " 1207951  Features: Support Bluetooth, Micro SD card slo...   \n",
       " 1087417  Brand New The North Face Size:XS Women's Coat ...   \n",
       " 688148   US Men 3.5 / US Women 5.0 Windsor Wine Worn on...   \n",
       " 1294824  Smoke free home! Bundle comes with: • 3 Ulta M...   \n",
       " 526639   Like new Old Navy Gold flip flops. Size 8. Let...   \n",
       " 538158                                     Travel size new   \n",
       " 1159922  Neon Nike 12 month pull over hoodie with black...   \n",
       " 1293006                   In the color art throb Brand new   \n",
       " 321553                                  No description yet   \n",
       " 858968   3\"Heavy Duty spring Assisted knife, you will l...   \n",
       " 893794   Highlighter by BH cosmetics and Ashley tisdale...   \n",
       " 862754   Black background with an array of gray stylist...   \n",
       " 103328                                  No description yet   \n",
       " 225831   Brand new with box. Collar still in the packag...   \n",
       " 1008447  NWT LP Jasmine Caftan in Roar of the Seas. Ret...   \n",
       " 830680   Nike Air Force One Sneakers Orange and white c...   \n",
       " 656658   Brand new, with tags and in original packaging...   \n",
       " 1076935  Notice the price on firm please No free shippi...   \n",
       " 328028   6 gray baby / newborn hats - all in EUC no fla...   \n",
       " 706596   Great condition, no rips or tears. Does have s...   \n",
       " 289804   Leopard bling Victoria's secret zip up hoodie ...   \n",
       " \n",
       "          category_label_code  \n",
       " 777341                   NaN  \n",
       " 1463629                  NaN  \n",
       " 350669                  40.0  \n",
       " 310222                  26.0  \n",
       " 759257                   NaN  \n",
       " 288846                 112.0  \n",
       " 1178450                  NaN  \n",
       " 726296                   NaN  \n",
       " 840510                   NaN  \n",
       " 1473033                  NaN  \n",
       " 1170796                  NaN  \n",
       " 506473                   NaN  \n",
       " 1134656                  NaN  \n",
       " 587885                   NaN  \n",
       " 93928                 1252.0  \n",
       " 260369                 559.0  \n",
       " 96202                  744.0  \n",
       " 486334                   NaN  \n",
       " 1437987                  NaN  \n",
       " 1343222                  NaN  \n",
       " 1403115                  NaN  \n",
       " 1393495                  NaN  \n",
       " 1364847                  NaN  \n",
       " 1339539                  NaN  \n",
       " 1262505                  NaN  \n",
       " 811065                   NaN  \n",
       " 310616                1164.0  \n",
       " 828784                   NaN  \n",
       " 1385423                  NaN  \n",
       " 850832                   NaN  \n",
       " ...                      ...  \n",
       " 537000                   NaN  \n",
       " 902589                   NaN  \n",
       " 1001094                  NaN  \n",
       " 893853                   NaN  \n",
       " 877172                   NaN  \n",
       " 1129055                  NaN  \n",
       " 474961                   NaN  \n",
       " 1185079                  NaN  \n",
       " 105                     27.0  \n",
       " 1207951                  NaN  \n",
       " 1087417                  NaN  \n",
       " 688148                   NaN  \n",
       " 1294824                  NaN  \n",
       " 526639                   NaN  \n",
       " 538158                   NaN  \n",
       " 1159922                  NaN  \n",
       " 1293006                  NaN  \n",
       " 321553                 110.0  \n",
       " 858968                   NaN  \n",
       " 893794                   NaN  \n",
       " 862754                   NaN  \n",
       " 103328                 565.0  \n",
       " 225831                1177.0  \n",
       " 1008447                  NaN  \n",
       " 830680                   NaN  \n",
       " 656658                   NaN  \n",
       " 1076935                  NaN  \n",
       " 328028                  28.0  \n",
       " 706596                   NaN  \n",
       " 289804                1132.0  \n",
       " \n",
       " [444761 rows x 8 columns],\n",
       " 1146412      9.0\n",
       " 117583       5.0\n",
       " 1242249     12.0\n",
       " 470404      34.0\n",
       " 147937      44.0\n",
       " 548455       8.0\n",
       " 1060084     44.0\n",
       " 2577        20.0\n",
       " 1120903     62.0\n",
       " 1274269     27.0\n",
       " 963455      14.0\n",
       " 339290      19.0\n",
       " 1327474     29.0\n",
       " 51002       26.0\n",
       " 669995       6.0\n",
       " 207473      16.0\n",
       " 860955      11.0\n",
       " 554042      28.0\n",
       " 714159      16.0\n",
       " 835524       5.0\n",
       " 1228789      8.0\n",
       " 966131       7.0\n",
       " 1062602     24.0\n",
       " 101266      17.0\n",
       " 1296812      5.0\n",
       " 565975       5.0\n",
       " 717410       9.0\n",
       " 385932      35.0\n",
       " 1247666     15.0\n",
       " 1421567     35.0\n",
       "            ...  \n",
       " 989436      10.0\n",
       " 1470485     24.0\n",
       " 1396025     10.0\n",
       " 184779      10.0\n",
       " 1262752     24.0\n",
       " 1284372      7.0\n",
       " 103355      11.0\n",
       " 791743     306.0\n",
       " 1247617      6.0\n",
       " 327069      16.0\n",
       " 1370455      9.0\n",
       " 787201       7.0\n",
       " 1113396      4.0\n",
       " 329365      12.0\n",
       " 41090       88.0\n",
       " 278167       3.0\n",
       " 1239911      7.0\n",
       " 175203      28.0\n",
       " 912756      38.0\n",
       " 1136074     14.0\n",
       " 999890      22.0\n",
       " 137337       8.0\n",
       " 1103462     59.0\n",
       " 732180      24.0\n",
       " 110268      20.0\n",
       " 259178      12.0\n",
       " 1414414     34.0\n",
       " 131932      99.0\n",
       " 671155       9.0\n",
       " 121958      16.0\n",
       " Name: price, Length: 1037774, dtype: float64,\n",
       " 777341      12.0\n",
       " 1463629     76.0\n",
       " 350669      12.0\n",
       " 310222       3.0\n",
       " 759257      30.0\n",
       " 288846     225.0\n",
       " 1178450     16.0\n",
       " 726296      12.0\n",
       " 840510      15.0\n",
       " 1473033     17.0\n",
       " 1170796     28.0\n",
       " 506473       9.0\n",
       " 1134656     19.0\n",
       " 587885       4.0\n",
       " 93928       14.0\n",
       " 260369      71.0\n",
       " 96202       10.0\n",
       " 486334      14.0\n",
       " 1437987     80.0\n",
       " 1343222     17.0\n",
       " 1403115     20.0\n",
       " 1393495     12.0\n",
       " 1364847     28.0\n",
       " 1339539     12.0\n",
       " 1262505     23.0\n",
       " 811065      36.0\n",
       " 310616      45.0\n",
       " 828784      21.0\n",
       " 1385423     24.0\n",
       " 850832       6.0\n",
       "            ...  \n",
       " 537000       9.0\n",
       " 902589      35.0\n",
       " 1001094     10.0\n",
       " 893853      22.0\n",
       " 877172      14.0\n",
       " 1129055     22.0\n",
       " 474961      35.0\n",
       " 1185079     17.0\n",
       " 105         10.0\n",
       " 1207951     60.0\n",
       " 1087417     47.0\n",
       " 688148      46.0\n",
       " 1294824     20.0\n",
       " 526639       8.0\n",
       " 538158       5.0\n",
       " 1159922     14.0\n",
       " 1293006      7.0\n",
       " 321553       6.0\n",
       " 858968      10.0\n",
       " 893794       7.0\n",
       " 862754      49.0\n",
       " 103328      22.0\n",
       " 225831      20.0\n",
       " 1008447     46.0\n",
       " 830680      12.0\n",
       " 656658      25.0\n",
       " 1076935     56.0\n",
       " 328028       8.0\n",
       " 706596      44.0\n",
       " 289804      49.0\n",
       " Name: price, Length: 444761, dtype: float64)"
      ]
     },
     "execution_count": 128,
     "metadata": {},
     "output_type": "execute_result"
    }
   ],
   "source": [
    "X_train, X_test, y_train, y_test"
   ]
  },
  {
   "cell_type": "code",
   "execution_count": null,
   "metadata": {},
   "outputs": [],
   "source": []
  },
  {
   "cell_type": "code",
   "execution_count": 129,
   "metadata": {},
   "outputs": [],
   "source": [
    "model_2 = RandomForestRegressor(max_depth=2, random_state=0)"
   ]
  },
  {
   "cell_type": "code",
   "execution_count": 130,
   "metadata": {
    "scrolled": true
   },
   "outputs": [
    {
     "data": {
      "text/plain": [
       "Index(['train_id', 'name', 'item_condition_id', 'category_name', 'brand_name',\n",
       "       'shipping', 'item_description', 'category_label_code'],\n",
       "      dtype='object')"
      ]
     },
     "execution_count": 130,
     "metadata": {},
     "output_type": "execute_result"
    }
   ],
   "source": [
    "X_train.columns"
   ]
  },
  {
   "cell_type": "code",
   "execution_count": 134,
   "metadata": {},
   "outputs": [
    {
     "data": {
      "text/html": [
       "<div>\n",
       "<style>\n",
       "    .dataframe thead tr:only-child th {\n",
       "        text-align: right;\n",
       "    }\n",
       "\n",
       "    .dataframe thead th {\n",
       "        text-align: left;\n",
       "    }\n",
       "\n",
       "    .dataframe tbody tr th {\n",
       "        vertical-align: top;\n",
       "    }\n",
       "</style>\n",
       "<table border=\"1\" class=\"dataframe\">\n",
       "  <thead>\n",
       "    <tr style=\"text-align: right;\">\n",
       "      <th></th>\n",
       "      <th>item_condition_id</th>\n",
       "      <th>shipping</th>\n",
       "      <th>category_label_code</th>\n",
       "    </tr>\n",
       "  </thead>\n",
       "  <tbody>\n",
       "    <tr>\n",
       "      <th>1146412</th>\n",
       "      <td>3</td>\n",
       "      <td>0</td>\n",
       "      <td>NaN</td>\n",
       "    </tr>\n",
       "    <tr>\n",
       "      <th>117583</th>\n",
       "      <td>2</td>\n",
       "      <td>1</td>\n",
       "      <td>1144.0</td>\n",
       "    </tr>\n",
       "    <tr>\n",
       "      <th>1242249</th>\n",
       "      <td>3</td>\n",
       "      <td>1</td>\n",
       "      <td>NaN</td>\n",
       "    </tr>\n",
       "    <tr>\n",
       "      <th>470404</th>\n",
       "      <td>1</td>\n",
       "      <td>0</td>\n",
       "      <td>197.0</td>\n",
       "    </tr>\n",
       "    <tr>\n",
       "      <th>147937</th>\n",
       "      <td>3</td>\n",
       "      <td>0</td>\n",
       "      <td>1137.0</td>\n",
       "    </tr>\n",
       "    <tr>\n",
       "      <th>548455</th>\n",
       "      <td>2</td>\n",
       "      <td>0</td>\n",
       "      <td>108.0</td>\n",
       "    </tr>\n",
       "    <tr>\n",
       "      <th>1060084</th>\n",
       "      <td>3</td>\n",
       "      <td>0</td>\n",
       "      <td>NaN</td>\n",
       "    </tr>\n",
       "    <tr>\n",
       "      <th>2577</th>\n",
       "      <td>1</td>\n",
       "      <td>1</td>\n",
       "      <td>11.0</td>\n",
       "    </tr>\n",
       "    <tr>\n",
       "      <th>1120903</th>\n",
       "      <td>1</td>\n",
       "      <td>1</td>\n",
       "      <td>NaN</td>\n",
       "    </tr>\n",
       "    <tr>\n",
       "      <th>1274269</th>\n",
       "      <td>2</td>\n",
       "      <td>0</td>\n",
       "      <td>NaN</td>\n",
       "    </tr>\n",
       "    <tr>\n",
       "      <th>963455</th>\n",
       "      <td>1</td>\n",
       "      <td>0</td>\n",
       "      <td>1139.0</td>\n",
       "    </tr>\n",
       "    <tr>\n",
       "      <th>339290</th>\n",
       "      <td>2</td>\n",
       "      <td>0</td>\n",
       "      <td>1268.0</td>\n",
       "    </tr>\n",
       "    <tr>\n",
       "      <th>1327474</th>\n",
       "      <td>2</td>\n",
       "      <td>0</td>\n",
       "      <td>NaN</td>\n",
       "    </tr>\n",
       "    <tr>\n",
       "      <th>51002</th>\n",
       "      <td>1</td>\n",
       "      <td>1</td>\n",
       "      <td>562.0</td>\n",
       "    </tr>\n",
       "    <tr>\n",
       "      <th>669995</th>\n",
       "      <td>2</td>\n",
       "      <td>1</td>\n",
       "      <td>1213.0</td>\n",
       "    </tr>\n",
       "    <tr>\n",
       "      <th>207473</th>\n",
       "      <td>2</td>\n",
       "      <td>0</td>\n",
       "      <td>1137.0</td>\n",
       "    </tr>\n",
       "    <tr>\n",
       "      <th>860955</th>\n",
       "      <td>2</td>\n",
       "      <td>1</td>\n",
       "      <td>28.0</td>\n",
       "    </tr>\n",
       "    <tr>\n",
       "      <th>554042</th>\n",
       "      <td>3</td>\n",
       "      <td>1</td>\n",
       "      <td>693.0</td>\n",
       "    </tr>\n",
       "    <tr>\n",
       "      <th>714159</th>\n",
       "      <td>1</td>\n",
       "      <td>0</td>\n",
       "      <td>1268.0</td>\n",
       "    </tr>\n",
       "    <tr>\n",
       "      <th>835524</th>\n",
       "      <td>4</td>\n",
       "      <td>1</td>\n",
       "      <td>903.0</td>\n",
       "    </tr>\n",
       "    <tr>\n",
       "      <th>1228789</th>\n",
       "      <td>3</td>\n",
       "      <td>0</td>\n",
       "      <td>NaN</td>\n",
       "    </tr>\n",
       "    <tr>\n",
       "      <th>966131</th>\n",
       "      <td>2</td>\n",
       "      <td>0</td>\n",
       "      <td>564.0</td>\n",
       "    </tr>\n",
       "    <tr>\n",
       "      <th>1062602</th>\n",
       "      <td>2</td>\n",
       "      <td>1</td>\n",
       "      <td>NaN</td>\n",
       "    </tr>\n",
       "    <tr>\n",
       "      <th>101266</th>\n",
       "      <td>3</td>\n",
       "      <td>0</td>\n",
       "      <td>636.0</td>\n",
       "    </tr>\n",
       "    <tr>\n",
       "      <th>1296812</th>\n",
       "      <td>2</td>\n",
       "      <td>1</td>\n",
       "      <td>NaN</td>\n",
       "    </tr>\n",
       "    <tr>\n",
       "      <th>565975</th>\n",
       "      <td>3</td>\n",
       "      <td>1</td>\n",
       "      <td>1203.0</td>\n",
       "    </tr>\n",
       "    <tr>\n",
       "      <th>717410</th>\n",
       "      <td>1</td>\n",
       "      <td>1</td>\n",
       "      <td>1282.0</td>\n",
       "    </tr>\n",
       "    <tr>\n",
       "      <th>385932</th>\n",
       "      <td>2</td>\n",
       "      <td>1</td>\n",
       "      <td>1137.0</td>\n",
       "    </tr>\n",
       "    <tr>\n",
       "      <th>1247666</th>\n",
       "      <td>2</td>\n",
       "      <td>1</td>\n",
       "      <td>NaN</td>\n",
       "    </tr>\n",
       "    <tr>\n",
       "      <th>1421567</th>\n",
       "      <td>1</td>\n",
       "      <td>1</td>\n",
       "      <td>NaN</td>\n",
       "    </tr>\n",
       "    <tr>\n",
       "      <th>...</th>\n",
       "      <td>...</td>\n",
       "      <td>...</td>\n",
       "      <td>...</td>\n",
       "    </tr>\n",
       "    <tr>\n",
       "      <th>989436</th>\n",
       "      <td>1</td>\n",
       "      <td>1</td>\n",
       "      <td>1253.0</td>\n",
       "    </tr>\n",
       "    <tr>\n",
       "      <th>1470485</th>\n",
       "      <td>1</td>\n",
       "      <td>1</td>\n",
       "      <td>NaN</td>\n",
       "    </tr>\n",
       "    <tr>\n",
       "      <th>1396025</th>\n",
       "      <td>1</td>\n",
       "      <td>1</td>\n",
       "      <td>NaN</td>\n",
       "    </tr>\n",
       "    <tr>\n",
       "      <th>184779</th>\n",
       "      <td>2</td>\n",
       "      <td>0</td>\n",
       "      <td>299.0</td>\n",
       "    </tr>\n",
       "    <tr>\n",
       "      <th>1262752</th>\n",
       "      <td>1</td>\n",
       "      <td>0</td>\n",
       "      <td>NaN</td>\n",
       "    </tr>\n",
       "    <tr>\n",
       "      <th>1284372</th>\n",
       "      <td>2</td>\n",
       "      <td>0</td>\n",
       "      <td>NaN</td>\n",
       "    </tr>\n",
       "    <tr>\n",
       "      <th>103355</th>\n",
       "      <td>1</td>\n",
       "      <td>1</td>\n",
       "      <td>1260.0</td>\n",
       "    </tr>\n",
       "    <tr>\n",
       "      <th>791743</th>\n",
       "      <td>3</td>\n",
       "      <td>0</td>\n",
       "      <td>81.0</td>\n",
       "    </tr>\n",
       "    <tr>\n",
       "      <th>1247617</th>\n",
       "      <td>1</td>\n",
       "      <td>1</td>\n",
       "      <td>NaN</td>\n",
       "    </tr>\n",
       "    <tr>\n",
       "      <th>327069</th>\n",
       "      <td>3</td>\n",
       "      <td>0</td>\n",
       "      <td>807.0</td>\n",
       "    </tr>\n",
       "    <tr>\n",
       "      <th>1370455</th>\n",
       "      <td>3</td>\n",
       "      <td>0</td>\n",
       "      <td>NaN</td>\n",
       "    </tr>\n",
       "    <tr>\n",
       "      <th>787201</th>\n",
       "      <td>1</td>\n",
       "      <td>1</td>\n",
       "      <td>1137.0</td>\n",
       "    </tr>\n",
       "    <tr>\n",
       "      <th>1113396</th>\n",
       "      <td>1</td>\n",
       "      <td>1</td>\n",
       "      <td>NaN</td>\n",
       "    </tr>\n",
       "    <tr>\n",
       "      <th>329365</th>\n",
       "      <td>3</td>\n",
       "      <td>0</td>\n",
       "      <td>1280.0</td>\n",
       "    </tr>\n",
       "    <tr>\n",
       "      <th>41090</th>\n",
       "      <td>1</td>\n",
       "      <td>1</td>\n",
       "      <td>1286.0</td>\n",
       "    </tr>\n",
       "    <tr>\n",
       "      <th>278167</th>\n",
       "      <td>1</td>\n",
       "      <td>1</td>\n",
       "      <td>744.0</td>\n",
       "    </tr>\n",
       "    <tr>\n",
       "      <th>1239911</th>\n",
       "      <td>2</td>\n",
       "      <td>0</td>\n",
       "      <td>NaN</td>\n",
       "    </tr>\n",
       "    <tr>\n",
       "      <th>175203</th>\n",
       "      <td>1</td>\n",
       "      <td>1</td>\n",
       "      <td>1254.0</td>\n",
       "    </tr>\n",
       "    <tr>\n",
       "      <th>912756</th>\n",
       "      <td>1</td>\n",
       "      <td>0</td>\n",
       "      <td>1142.0</td>\n",
       "    </tr>\n",
       "    <tr>\n",
       "      <th>1136074</th>\n",
       "      <td>3</td>\n",
       "      <td>0</td>\n",
       "      <td>NaN</td>\n",
       "    </tr>\n",
       "    <tr>\n",
       "      <th>999890</th>\n",
       "      <td>2</td>\n",
       "      <td>1</td>\n",
       "      <td>37.0</td>\n",
       "    </tr>\n",
       "    <tr>\n",
       "      <th>137337</th>\n",
       "      <td>1</td>\n",
       "      <td>1</td>\n",
       "      <td>707.0</td>\n",
       "    </tr>\n",
       "    <tr>\n",
       "      <th>1103462</th>\n",
       "      <td>3</td>\n",
       "      <td>0</td>\n",
       "      <td>NaN</td>\n",
       "    </tr>\n",
       "    <tr>\n",
       "      <th>732180</th>\n",
       "      <td>2</td>\n",
       "      <td>0</td>\n",
       "      <td>1265.0</td>\n",
       "    </tr>\n",
       "    <tr>\n",
       "      <th>110268</th>\n",
       "      <td>2</td>\n",
       "      <td>1</td>\n",
       "      <td>982.0</td>\n",
       "    </tr>\n",
       "    <tr>\n",
       "      <th>259178</th>\n",
       "      <td>3</td>\n",
       "      <td>0</td>\n",
       "      <td>1164.0</td>\n",
       "    </tr>\n",
       "    <tr>\n",
       "      <th>1414414</th>\n",
       "      <td>1</td>\n",
       "      <td>0</td>\n",
       "      <td>NaN</td>\n",
       "    </tr>\n",
       "    <tr>\n",
       "      <th>131932</th>\n",
       "      <td>1</td>\n",
       "      <td>0</td>\n",
       "      <td>774.0</td>\n",
       "    </tr>\n",
       "    <tr>\n",
       "      <th>671155</th>\n",
       "      <td>1</td>\n",
       "      <td>0</td>\n",
       "      <td>1177.0</td>\n",
       "    </tr>\n",
       "    <tr>\n",
       "      <th>121958</th>\n",
       "      <td>1</td>\n",
       "      <td>1</td>\n",
       "      <td>1260.0</td>\n",
       "    </tr>\n",
       "  </tbody>\n",
       "</table>\n",
       "<p>1037774 rows × 3 columns</p>\n",
       "</div>"
      ],
      "text/plain": [
       "         item_condition_id  shipping  category_label_code\n",
       "1146412                  3         0                  NaN\n",
       "117583                   2         1               1144.0\n",
       "1242249                  3         1                  NaN\n",
       "470404                   1         0                197.0\n",
       "147937                   3         0               1137.0\n",
       "548455                   2         0                108.0\n",
       "1060084                  3         0                  NaN\n",
       "2577                     1         1                 11.0\n",
       "1120903                  1         1                  NaN\n",
       "1274269                  2         0                  NaN\n",
       "963455                   1         0               1139.0\n",
       "339290                   2         0               1268.0\n",
       "1327474                  2         0                  NaN\n",
       "51002                    1         1                562.0\n",
       "669995                   2         1               1213.0\n",
       "207473                   2         0               1137.0\n",
       "860955                   2         1                 28.0\n",
       "554042                   3         1                693.0\n",
       "714159                   1         0               1268.0\n",
       "835524                   4         1                903.0\n",
       "1228789                  3         0                  NaN\n",
       "966131                   2         0                564.0\n",
       "1062602                  2         1                  NaN\n",
       "101266                   3         0                636.0\n",
       "1296812                  2         1                  NaN\n",
       "565975                   3         1               1203.0\n",
       "717410                   1         1               1282.0\n",
       "385932                   2         1               1137.0\n",
       "1247666                  2         1                  NaN\n",
       "1421567                  1         1                  NaN\n",
       "...                    ...       ...                  ...\n",
       "989436                   1         1               1253.0\n",
       "1470485                  1         1                  NaN\n",
       "1396025                  1         1                  NaN\n",
       "184779                   2         0                299.0\n",
       "1262752                  1         0                  NaN\n",
       "1284372                  2         0                  NaN\n",
       "103355                   1         1               1260.0\n",
       "791743                   3         0                 81.0\n",
       "1247617                  1         1                  NaN\n",
       "327069                   3         0                807.0\n",
       "1370455                  3         0                  NaN\n",
       "787201                   1         1               1137.0\n",
       "1113396                  1         1                  NaN\n",
       "329365                   3         0               1280.0\n",
       "41090                    1         1               1286.0\n",
       "278167                   1         1                744.0\n",
       "1239911                  2         0                  NaN\n",
       "175203                   1         1               1254.0\n",
       "912756                   1         0               1142.0\n",
       "1136074                  3         0                  NaN\n",
       "999890                   2         1                 37.0\n",
       "137337                   1         1                707.0\n",
       "1103462                  3         0                  NaN\n",
       "732180                   2         0               1265.0\n",
       "110268                   2         1                982.0\n",
       "259178                   3         0               1164.0\n",
       "1414414                  1         0                  NaN\n",
       "131932                   1         0                774.0\n",
       "671155                   1         0               1177.0\n",
       "121958                   1         1               1260.0\n",
       "\n",
       "[1037774 rows x 3 columns]"
      ]
     },
     "execution_count": 134,
     "metadata": {},
     "output_type": "execute_result"
    }
   ],
   "source": [
    "X_train[[\"item_condition_id\", \"shipping\", \"category_label_code\"]]"
   ]
  },
  {
   "cell_type": "code",
   "execution_count": 135,
   "metadata": {},
   "outputs": [
    {
     "ename": "ValueError",
     "evalue": "Input contains NaN, infinity or a value too large for dtype('float32').",
     "output_type": "error",
     "traceback": [
      "\u001b[1;31m---------------------------------------------------------------------------\u001b[0m",
      "\u001b[1;31mValueError\u001b[0m                                Traceback (most recent call last)",
      "\u001b[1;32m<ipython-input-135-6ef7b3d8a3b2>\u001b[0m in \u001b[0;36m<module>\u001b[1;34m()\u001b[0m\n\u001b[1;32m----> 1\u001b[1;33m \u001b[0mmodel_2\u001b[0m\u001b[1;33m.\u001b[0m\u001b[0mfit\u001b[0m\u001b[1;33m(\u001b[0m\u001b[0mX_train\u001b[0m\u001b[1;33m[\u001b[0m\u001b[1;33m[\u001b[0m\u001b[1;34m\"item_condition_id\"\u001b[0m\u001b[1;33m,\u001b[0m \u001b[1;34m\"shipping\"\u001b[0m\u001b[1;33m,\u001b[0m \u001b[1;34m\"category_label_code\"\u001b[0m\u001b[1;33m]\u001b[0m\u001b[1;33m]\u001b[0m\u001b[1;33m,\u001b[0m \u001b[0my_train\u001b[0m\u001b[1;33m)\u001b[0m\u001b[1;33m\u001b[0m\u001b[0m\n\u001b[0m",
      "\u001b[1;32mc:\\users\\karti\\appdata\\local\\programs\\python\\python36\\lib\\site-packages\\sklearn\\ensemble\\forest.py\u001b[0m in \u001b[0;36mfit\u001b[1;34m(self, X, y, sample_weight)\u001b[0m\n\u001b[0;32m    244\u001b[0m         \"\"\"\n\u001b[0;32m    245\u001b[0m         \u001b[1;31m# Validate or convert input data\u001b[0m\u001b[1;33m\u001b[0m\u001b[1;33m\u001b[0m\u001b[0m\n\u001b[1;32m--> 246\u001b[1;33m         \u001b[0mX\u001b[0m \u001b[1;33m=\u001b[0m \u001b[0mcheck_array\u001b[0m\u001b[1;33m(\u001b[0m\u001b[0mX\u001b[0m\u001b[1;33m,\u001b[0m \u001b[0maccept_sparse\u001b[0m\u001b[1;33m=\u001b[0m\u001b[1;34m\"csc\"\u001b[0m\u001b[1;33m,\u001b[0m \u001b[0mdtype\u001b[0m\u001b[1;33m=\u001b[0m\u001b[0mDTYPE\u001b[0m\u001b[1;33m)\u001b[0m\u001b[1;33m\u001b[0m\u001b[0m\n\u001b[0m\u001b[0;32m    247\u001b[0m         \u001b[0my\u001b[0m \u001b[1;33m=\u001b[0m \u001b[0mcheck_array\u001b[0m\u001b[1;33m(\u001b[0m\u001b[0my\u001b[0m\u001b[1;33m,\u001b[0m \u001b[0maccept_sparse\u001b[0m\u001b[1;33m=\u001b[0m\u001b[1;34m'csc'\u001b[0m\u001b[1;33m,\u001b[0m \u001b[0mensure_2d\u001b[0m\u001b[1;33m=\u001b[0m\u001b[1;32mFalse\u001b[0m\u001b[1;33m,\u001b[0m \u001b[0mdtype\u001b[0m\u001b[1;33m=\u001b[0m\u001b[1;32mNone\u001b[0m\u001b[1;33m)\u001b[0m\u001b[1;33m\u001b[0m\u001b[0m\n\u001b[0;32m    248\u001b[0m         \u001b[1;32mif\u001b[0m \u001b[0msample_weight\u001b[0m \u001b[1;32mis\u001b[0m \u001b[1;32mnot\u001b[0m \u001b[1;32mNone\u001b[0m\u001b[1;33m:\u001b[0m\u001b[1;33m\u001b[0m\u001b[0m\n",
      "\u001b[1;32mc:\\users\\karti\\appdata\\local\\programs\\python\\python36\\lib\\site-packages\\sklearn\\utils\\validation.py\u001b[0m in \u001b[0;36mcheck_array\u001b[1;34m(array, accept_sparse, dtype, order, copy, force_all_finite, ensure_2d, allow_nd, ensure_min_samples, ensure_min_features, warn_on_dtype, estimator)\u001b[0m\n\u001b[0;32m    420\u001b[0m                              % (array.ndim, estimator_name))\n\u001b[0;32m    421\u001b[0m         \u001b[1;32mif\u001b[0m \u001b[0mforce_all_finite\u001b[0m\u001b[1;33m:\u001b[0m\u001b[1;33m\u001b[0m\u001b[0m\n\u001b[1;32m--> 422\u001b[1;33m             \u001b[0m_assert_all_finite\u001b[0m\u001b[1;33m(\u001b[0m\u001b[0marray\u001b[0m\u001b[1;33m)\u001b[0m\u001b[1;33m\u001b[0m\u001b[0m\n\u001b[0m\u001b[0;32m    423\u001b[0m \u001b[1;33m\u001b[0m\u001b[0m\n\u001b[0;32m    424\u001b[0m     \u001b[0mshape_repr\u001b[0m \u001b[1;33m=\u001b[0m \u001b[0m_shape_repr\u001b[0m\u001b[1;33m(\u001b[0m\u001b[0marray\u001b[0m\u001b[1;33m.\u001b[0m\u001b[0mshape\u001b[0m\u001b[1;33m)\u001b[0m\u001b[1;33m\u001b[0m\u001b[0m\n",
      "\u001b[1;32mc:\\users\\karti\\appdata\\local\\programs\\python\\python36\\lib\\site-packages\\sklearn\\utils\\validation.py\u001b[0m in \u001b[0;36m_assert_all_finite\u001b[1;34m(X)\u001b[0m\n\u001b[0;32m     41\u001b[0m             and not np.isfinite(X).all()):\n\u001b[0;32m     42\u001b[0m         raise ValueError(\"Input contains NaN, infinity\"\n\u001b[1;32m---> 43\u001b[1;33m                          \" or a value too large for %r.\" % X.dtype)\n\u001b[0m\u001b[0;32m     44\u001b[0m \u001b[1;33m\u001b[0m\u001b[0m\n\u001b[0;32m     45\u001b[0m \u001b[1;33m\u001b[0m\u001b[0m\n",
      "\u001b[1;31mValueError\u001b[0m: Input contains NaN, infinity or a value too large for dtype('float32')."
     ]
    }
   ],
   "source": [
    "model_2.fit(X_train[[\"item_condition_id\", \"shipping\", \"category_label_code\"]], y_train)"
   ]
  },
  {
   "cell_type": "code",
   "execution_count": null,
   "metadata": {},
   "outputs": [],
   "source": [
    "X, y = make_regression(n_features=4, n_informative=2,\n",
    "...                        random_state=0, shuffle=False)\n",
    ">>> \n",
    ">>> regr.fit(X, y)\n",
    "RandomForestRegressor(bootstrap=True, criterion='mse', max_depth=2,\n",
    "           max_features='auto', max_leaf_nodes=None,\n",
    "           min_impurity_decrease=0.0, min_impurity_split=None,\n",
    "           min_samples_leaf=1, min_samples_split=2,\n",
    "           min_weight_fraction_leaf=0.0, n_estimators=10, n_jobs=1,\n",
    "           oob_score=False, random_state=0, verbose=0, warm_start=False)\n",
    ">>> print(regr.feature_importances_)\n",
    "[ 0.17339552  0.81594114  0.          0.01066333]\n",
    ">>> print(regr.predict([[0, 0, 0, 0]]))\n",
    "[-2.50699856]"
   ]
  },
  {
   "cell_type": "code",
   "execution_count": null,
   "metadata": {},
   "outputs": [],
   "source": []
  },
  {
   "cell_type": "code",
   "execution_count": null,
   "metadata": {},
   "outputs": [],
   "source": []
  },
  {
   "cell_type": "code",
   "execution_count": 52,
   "metadata": {},
   "outputs": [],
   "source": [
    "from gensim.models import Doc2Vec"
   ]
  },
  {
   "cell_type": "code",
   "execution_count": null,
   "metadata": {},
   "outputs": [],
   "source": [
    "X_train.shape"
   ]
  },
  {
   "cell_type": "code",
   "execution_count": null,
   "metadata": {},
   "outputs": [],
   "source": [
    "arr_item_descriptions = [var_word for var_item in X_train[\"item_description\"][:10].tolist() for var_word in var_item.split()]"
   ]
  },
  {
   "cell_type": "code",
   "execution_count": null,
   "metadata": {},
   "outputs": [],
   "source": [
    "dict_item_descriptions = corpora.Dictionary(arr_item_descriptions)"
   ]
  },
  {
   "cell_type": "code",
   "execution_count": 54,
   "metadata": {},
   "outputs": [
    {
     "name": "stdout",
     "output_type": "stream",
     "text": [
      "Collecting spacy\n",
      "  Using cached spacy-2.0.5.tar.gz\n",
      "Requirement already satisfied: numpy>=1.7 in c:\\users\\karti\\appdata\\local\\programs\\python\\python36\\lib\\site-packages (from spacy)\n",
      "Collecting murmurhash<0.29,>=0.28 (from spacy)\n",
      "  Using cached murmurhash-0.28.0.tar.gz\n",
      "Collecting cymem<1.32,>=1.30 (from spacy)\n",
      "  Using cached cymem-1.31.2.tar.gz\n",
      "Collecting preshed<2.0.0,>=1.0.0 (from spacy)\n",
      "  Using cached preshed-1.0.0.tar.gz\n",
      "Collecting thinc<6.11.0,>=6.10.1 (from spacy)\n",
      "  Using cached thinc-6.10.2.tar.gz\n",
      "Collecting plac<1.0.0,>=0.9.6 (from spacy)\n",
      "  Using cached plac-0.9.6-py2.py3-none-any.whl\n",
      "Requirement already satisfied: six in c:\\users\\karti\\appdata\\local\\programs\\python\\python36\\lib\\site-packages (from spacy)\n",
      "Collecting pathlib (from spacy)\n",
      "  Using cached pathlib-1.0.1.tar.gz\n",
      "Collecting ujson>=1.35 (from spacy)\n",
      "  Using cached ujson-1.35.tar.gz\n",
      "Collecting dill<0.3,>=0.2 (from spacy)\n",
      "  Using cached dill-0.2.7.1.tar.gz\n",
      "Requirement already satisfied: requests<3.0.0,>=2.13.0 in c:\\users\\karti\\appdata\\local\\programs\\python\\python36\\lib\\site-packages (from spacy)\n",
      "Collecting regex==2017.4.5 (from spacy)\n",
      "  Using cached regex-2017.04.05-cp36-none-win_amd64.whl\n",
      "Collecting ftfy<5.0.0,>=4.4.2 (from spacy)\n",
      "  Using cached ftfy-4.4.3.tar.gz\n",
      "Collecting msgpack-python (from spacy)\n",
      "  Using cached msgpack-python-0.4.8.tar.gz\n",
      "Collecting msgpack-numpy==0.4.1 (from spacy)\n",
      "  Using cached msgpack_numpy-0.4.1-py2.py3-none-any.whl\n",
      "Collecting wrapt (from thinc<6.11.0,>=6.10.1->spacy)\n",
      "  Using cached wrapt-1.10.11.tar.gz\n",
      "Collecting tqdm<5.0.0,>=4.10.0 (from thinc<6.11.0,>=6.10.1->spacy)\n",
      "  Using cached tqdm-4.19.5-py2.py3-none-any.whl\n",
      "Collecting cytoolz<0.9,>=0.8 (from thinc<6.11.0,>=6.10.1->spacy)\n",
      "  Using cached cytoolz-0.8.2.tar.gz\n",
      "Collecting termcolor (from thinc<6.11.0,>=6.10.1->spacy)\n",
      "  Using cached termcolor-1.1.0.tar.gz\n",
      "Collecting pyreadline>=1.7.1 (from dill<0.3,>=0.2->spacy)\n",
      "  Using cached pyreadline-2.1.zip\n",
      "Requirement already satisfied: certifi>=2017.4.17 in c:\\users\\karti\\appdata\\local\\programs\\python\\python36\\lib\\site-packages (from requests<3.0.0,>=2.13.0->spacy)\n",
      "Requirement already satisfied: urllib3<1.23,>=1.21.1 in c:\\users\\karti\\appdata\\local\\programs\\python\\python36\\lib\\site-packages (from requests<3.0.0,>=2.13.0->spacy)\n",
      "Requirement already satisfied: idna<2.7,>=2.5 in c:\\users\\karti\\appdata\\local\\programs\\python\\python36\\lib\\site-packages (from requests<3.0.0,>=2.13.0->spacy)\n",
      "Requirement already satisfied: chardet<3.1.0,>=3.0.2 in c:\\users\\karti\\appdata\\local\\programs\\python\\python36\\lib\\site-packages (from requests<3.0.0,>=2.13.0->spacy)\n",
      "Requirement already satisfied: html5lib in c:\\users\\karti\\appdata\\local\\programs\\python\\python36\\lib\\site-packages (from ftfy<5.0.0,>=4.4.2->spacy)\n",
      "Requirement already satisfied: wcwidth in c:\\users\\karti\\appdata\\local\\programs\\python\\python36\\lib\\site-packages (from ftfy<5.0.0,>=4.4.2->spacy)\n",
      "Collecting toolz>=0.8.0 (from cytoolz<0.9,>=0.8->thinc<6.11.0,>=6.10.1->spacy)\n",
      "  Using cached toolz-0.9.0.tar.gz\n",
      "Requirement already satisfied: setuptools>=18.5 in c:\\users\\karti\\appdata\\local\\programs\\python\\python36\\lib\\site-packages (from html5lib->ftfy<5.0.0,>=4.4.2->spacy)\n",
      "Requirement already satisfied: webencodings in c:\\users\\karti\\appdata\\local\\programs\\python\\python36\\lib\\site-packages (from html5lib->ftfy<5.0.0,>=4.4.2->spacy)\n",
      "Installing collected packages: murmurhash, cymem, preshed, wrapt, tqdm, toolz, cytoolz, plac, pyreadline, dill, termcolor, pathlib, msgpack-python, msgpack-numpy, thinc, ujson, regex, ftfy, spacy\n",
      "  Running setup.py install for murmurhash: started\n",
      "    Running setup.py install for murmurhash: finished with status 'done'\n",
      "  Running setup.py install for cymem: started\n",
      "    Running setup.py install for cymem: finished with status 'done'\n",
      "  Running setup.py install for preshed: started\n",
      "    Running setup.py install for preshed: finished with status 'done'\n",
      "  Running setup.py install for wrapt: started\n",
      "    Running setup.py install for wrapt: finished with status 'done'\n",
      "  Running setup.py install for toolz: started\n",
      "    Running setup.py install for toolz: finished with status 'done'\n",
      "  Running setup.py install for cytoolz: started\n",
      "    Running setup.py install for cytoolz: finished with status 'done'\n",
      "  Running setup.py install for pyreadline: started\n",
      "    Running setup.py install for pyreadline: finished with status 'done'\n",
      "  Running setup.py install for dill: started\n",
      "    Running setup.py install for dill: finished with status 'done'\n",
      "  Running setup.py install for termcolor: started\n",
      "    Running setup.py install for termcolor: finished with status 'done'\n",
      "  Running setup.py install for pathlib: started\n",
      "    Running setup.py install for pathlib: finished with status 'done'\n",
      "  Running setup.py install for msgpack-python: started\n",
      "    Running setup.py install for msgpack-python: finished with status 'done'\n",
      "  Running setup.py install for thinc: started\n",
      "    Running setup.py install for thinc: finished with status 'done'\n",
      "  Running setup.py install for ujson: started\n",
      "    Running setup.py install for ujson: finished with status 'done'\n",
      "  Running setup.py install for ftfy: started\n",
      "    Running setup.py install for ftfy: finished with status 'done'\n",
      "  Running setup.py install for spacy: started\n",
      "    Running setup.py install for spacy: still running...\n",
      "    Running setup.py install for spacy: finished with status 'done'\n",
      "Successfully installed cymem-1.31.2 cytoolz-0.8.2 dill-0.2.7.1 ftfy-4.4.3 msgpack-numpy-0.4.1 msgpack-python-0.4.8 murmurhash-0.28.0 pathlib-1.0.1 plac-0.9.6 preshed-1.0.0 pyreadline-2.1 regex-2017.4.5 spacy-2.0.5 termcolor-1.1.0 thinc-6.10.2 toolz-0.9.0 tqdm-4.19.5 ujson-1.35 wrapt-1.10.11\n"
     ]
    }
   ],
   "source": [
    "!pip install spacy"
   ]
  },
  {
   "cell_type": "code",
   "execution_count": 55,
   "metadata": {},
   "outputs": [
    {
     "name": "stdout",
     "output_type": "stream",
     "text": [
      "Collecting https://github.com/explosion/spacy-models/releases/download/en_core_web_sm-2.0.0/en_core_web_sm-2.0.0.tar.gz\n",
      "  Downloading https://github.com/explosion/spacy-models/releases/download/en_core_web_sm-2.0.0/en_core_web_sm-2.0.0.tar.gz (37.4MB)\n",
      "Requirement already satisfied: spacy>=2.0.0a18 in c:\\users\\karti\\appdata\\local\\programs\\python\\python36\\lib\\site-packages (from en-core-web-sm==2.0.0)\n",
      "Requirement already satisfied: numpy>=1.7 in c:\\users\\karti\\appdata\\local\\programs\\python\\python36\\lib\\site-packages (from spacy>=2.0.0a18->en-core-web-sm==2.0.0)\n",
      "Requirement already satisfied: murmurhash<0.29,>=0.28 in c:\\users\\karti\\appdata\\local\\programs\\python\\python36\\lib\\site-packages (from spacy>=2.0.0a18->en-core-web-sm==2.0.0)\n",
      "Requirement already satisfied: cymem<1.32,>=1.30 in c:\\users\\karti\\appdata\\local\\programs\\python\\python36\\lib\\site-packages (from spacy>=2.0.0a18->en-core-web-sm==2.0.0)\n",
      "Requirement already satisfied: preshed<2.0.0,>=1.0.0 in c:\\users\\karti\\appdata\\local\\programs\\python\\python36\\lib\\site-packages (from spacy>=2.0.0a18->en-core-web-sm==2.0.0)\n",
      "Requirement already satisfied: thinc<6.11.0,>=6.10.1 in c:\\users\\karti\\appdata\\local\\programs\\python\\python36\\lib\\site-packages (from spacy>=2.0.0a18->en-core-web-sm==2.0.0)\n",
      "Requirement already satisfied: plac<1.0.0,>=0.9.6 in c:\\users\\karti\\appdata\\local\\programs\\python\\python36\\lib\\site-packages (from spacy>=2.0.0a18->en-core-web-sm==2.0.0)\n",
      "Requirement already satisfied: six in c:\\users\\karti\\appdata\\local\\programs\\python\\python36\\lib\\site-packages (from spacy>=2.0.0a18->en-core-web-sm==2.0.0)\n",
      "Requirement already satisfied: pathlib in c:\\users\\karti\\appdata\\local\\programs\\python\\python36\\lib\\site-packages (from spacy>=2.0.0a18->en-core-web-sm==2.0.0)\n",
      "Requirement already satisfied: ujson>=1.35 in c:\\users\\karti\\appdata\\local\\programs\\python\\python36\\lib\\site-packages (from spacy>=2.0.0a18->en-core-web-sm==2.0.0)\n",
      "Requirement already satisfied: dill<0.3,>=0.2 in c:\\users\\karti\\appdata\\local\\programs\\python\\python36\\lib\\site-packages (from spacy>=2.0.0a18->en-core-web-sm==2.0.0)\n",
      "Requirement already satisfied: requests<3.0.0,>=2.13.0 in c:\\users\\karti\\appdata\\local\\programs\\python\\python36\\lib\\site-packages (from spacy>=2.0.0a18->en-core-web-sm==2.0.0)\n",
      "Requirement already satisfied: regex==2017.4.5 in c:\\users\\karti\\appdata\\local\\programs\\python\\python36\\lib\\site-packages (from spacy>=2.0.0a18->en-core-web-sm==2.0.0)\n",
      "Requirement already satisfied: ftfy<5.0.0,>=4.4.2 in c:\\users\\karti\\appdata\\local\\programs\\python\\python36\\lib\\site-packages (from spacy>=2.0.0a18->en-core-web-sm==2.0.0)\n",
      "Requirement already satisfied: msgpack-python in c:\\users\\karti\\appdata\\local\\programs\\python\\python36\\lib\\site-packages (from spacy>=2.0.0a18->en-core-web-sm==2.0.0)\n",
      "Requirement already satisfied: msgpack-numpy==0.4.1 in c:\\users\\karti\\appdata\\local\\programs\\python\\python36\\lib\\site-packages (from spacy>=2.0.0a18->en-core-web-sm==2.0.0)\n",
      "Requirement already satisfied: wrapt in c:\\users\\karti\\appdata\\local\\programs\\python\\python36\\lib\\site-packages (from thinc<6.11.0,>=6.10.1->spacy>=2.0.0a18->en-core-web-sm==2.0.0)\n",
      "Requirement already satisfied: tqdm<5.0.0,>=4.10.0 in c:\\users\\karti\\appdata\\local\\programs\\python\\python36\\lib\\site-packages (from thinc<6.11.0,>=6.10.1->spacy>=2.0.0a18->en-core-web-sm==2.0.0)\n",
      "Requirement already satisfied: cytoolz<0.9,>=0.8 in c:\\users\\karti\\appdata\\local\\programs\\python\\python36\\lib\\site-packages (from thinc<6.11.0,>=6.10.1->spacy>=2.0.0a18->en-core-web-sm==2.0.0)\n",
      "Requirement already satisfied: termcolor in c:\\users\\karti\\appdata\\local\\programs\\python\\python36\\lib\\site-packages (from thinc<6.11.0,>=6.10.1->spacy>=2.0.0a18->en-core-web-sm==2.0.0)\n",
      "Requirement already satisfied: pyreadline>=1.7.1 in c:\\users\\karti\\appdata\\local\\programs\\python\\python36\\lib\\site-packages (from dill<0.3,>=0.2->spacy>=2.0.0a18->en-core-web-sm==2.0.0)\n",
      "Requirement already satisfied: idna<2.7,>=2.5 in c:\\users\\karti\\appdata\\local\\programs\\python\\python36\\lib\\site-packages (from requests<3.0.0,>=2.13.0->spacy>=2.0.0a18->en-core-web-sm==2.0.0)\n",
      "Requirement already satisfied: urllib3<1.23,>=1.21.1 in c:\\users\\karti\\appdata\\local\\programs\\python\\python36\\lib\\site-packages (from requests<3.0.0,>=2.13.0->spacy>=2.0.0a18->en-core-web-sm==2.0.0)\n",
      "Requirement already satisfied: chardet<3.1.0,>=3.0.2 in c:\\users\\karti\\appdata\\local\\programs\\python\\python36\\lib\\site-packages (from requests<3.0.0,>=2.13.0->spacy>=2.0.0a18->en-core-web-sm==2.0.0)\n",
      "Requirement already satisfied: certifi>=2017.4.17 in c:\\users\\karti\\appdata\\local\\programs\\python\\python36\\lib\\site-packages (from requests<3.0.0,>=2.13.0->spacy>=2.0.0a18->en-core-web-sm==2.0.0)\n",
      "Requirement already satisfied: html5lib in c:\\users\\karti\\appdata\\local\\programs\\python\\python36\\lib\\site-packages (from ftfy<5.0.0,>=4.4.2->spacy>=2.0.0a18->en-core-web-sm==2.0.0)\n",
      "Requirement already satisfied: wcwidth in c:\\users\\karti\\appdata\\local\\programs\\python\\python36\\lib\\site-packages (from ftfy<5.0.0,>=4.4.2->spacy>=2.0.0a18->en-core-web-sm==2.0.0)\n",
      "Requirement already satisfied: toolz>=0.8.0 in c:\\users\\karti\\appdata\\local\\programs\\python\\python36\\lib\\site-packages (from cytoolz<0.9,>=0.8->thinc<6.11.0,>=6.10.1->spacy>=2.0.0a18->en-core-web-sm==2.0.0)\n",
      "Requirement already satisfied: webencodings in c:\\users\\karti\\appdata\\local\\programs\\python\\python36\\lib\\site-packages (from html5lib->ftfy<5.0.0,>=4.4.2->spacy>=2.0.0a18->en-core-web-sm==2.0.0)\n",
      "Requirement already satisfied: setuptools>=18.5 in c:\\users\\karti\\appdata\\local\\programs\\python\\python36\\lib\\site-packages (from html5lib->ftfy<5.0.0,>=4.4.2->spacy>=2.0.0a18->en-core-web-sm==2.0.0)\n",
      "Installing collected packages: en-core-web-sm\n",
      "  Running setup.py install for en-core-web-sm: started\n",
      "    Running setup.py install for en-core-web-sm: finished with status 'done'\n",
      "Successfully installed en-core-web-sm-2.0.0\n",
      "\n",
      "    Error: Couldn't link model to 'en'\n",
      "    Creating a symlink in spacy/data failed. Make sure you have the required\n",
      "    permissions and try re-running the command as admin, or use a\n",
      "    virtualenv. You can still import the model as a module and call its\n",
      "    load() method, or create the symlink manually.\n",
      "\n",
      "    C:\\Users\\karti\\AppData\\Local\\Programs\\Python\\Python36\\lib\\site-packages\\en_core_web_sm\n",
      "    -->\n",
      "    C:\\Users\\karti\\AppData\\Local\\Programs\\Python\\Python36\\lib\\site-packages\\spacy\\data\\en\n",
      "\n",
      "\n",
      "    Download successful\n",
      "    Creating a shortcut link for 'en' didn't work (maybe you don't have\n",
      "    admin permissions?), but you can still load the model via its full\n",
      "    package name:\n",
      "\n",
      "    nlp = spacy.load('en_core_web_sm')\n",
      "\n"
     ]
    }
   ],
   "source": [
    "!python -m spacy download en"
   ]
  },
  {
   "cell_type": "code",
   "execution_count": null,
   "metadata": {},
   "outputs": [],
   "source": []
  }
 ],
 "metadata": {
  "kernelspec": {
   "display_name": "Python 3",
   "language": "python",
   "name": "python3"
  },
  "language_info": {
   "codemirror_mode": {
    "name": "ipython",
    "version": 3
   },
   "file_extension": ".py",
   "mimetype": "text/x-python",
   "name": "python",
   "nbconvert_exporter": "python",
   "pygments_lexer": "ipython3",
   "version": "3.6.3rc1"
  }
 },
 "nbformat": 4,
 "nbformat_minor": 2
}
