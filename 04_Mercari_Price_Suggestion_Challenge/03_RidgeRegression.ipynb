{
 "cells": [
  {
   "cell_type": "code",
   "execution_count": null,
   "metadata": {},
   "outputs": [],
   "source": []
  },
  {
   "cell_type": "code",
   "execution_count": 1,
   "metadata": {},
   "outputs": [],
   "source": [
    "# #Python Libraries\n",
    "import numpy as np\n",
    "import scipy as sp\n",
    "import pandas as pd\n",
    "import pandas_profiling\n",
    "\n",
    "%matplotlib inline\n",
    "import matplotlib.pyplot as plt\n",
    "import seaborn as sns\n",
    "\n",
    "import os\n",
    "import sys\n",
    "import time\n",
    "import requests\n",
    "import datetime\n",
    "import math\n",
    "\n",
    "import missingno as msno\n",
    "\n",
    "from sklearn.model_selection import train_test_split\n",
    "from sklearn.ensemble import RandomForestRegressor\n",
    "from sklearn.linear_model import Ridge, LogisticRegression\n",
    "from sklearn.metrics import mean_squared_error, mean_squared_log_error\n",
    "from sklearn.feature_extraction.text import CountVectorizer, TfidfVectorizer\n",
    "from sklearn.preprocessing import LabelBinarizer\n",
    "\n",
    "from scipy.sparse import csr_matrix, hstack"
   ]
  },
  {
   "cell_type": "code",
   "execution_count": 2,
   "metadata": {},
   "outputs": [],
   "source": [
    "df_train = pd.read_csv(filepath_or_buffer=\"data/train.tsv\", sep=\"\\t\", )\n",
    "df_test = pd.read_csv(filepath_or_buffer=\"data/test.tsv\", sep=\"\\t\", )"
   ]
  },
  {
   "cell_type": "code",
   "execution_count": 5,
   "metadata": {},
   "outputs": [],
   "source": [
    "df_input = pd.concat([df_train, df_test], 0)\n",
    "nrow_train = df_train.shape[0]\n",
    "# df_input = df_train"
   ]
  },
  {
   "cell_type": "code",
   "execution_count": null,
   "metadata": {},
   "outputs": [],
   "source": []
  },
  {
   "cell_type": "code",
   "execution_count": 6,
   "metadata": {},
   "outputs": [],
   "source": [
    "df_input['category_name'].fillna(value='other', inplace=True)\n",
    "df_input['brand_name'].fillna(value='other', inplace=True)\n",
    "df_input['item_description'].fillna(value='other', inplace=True)\n",
    "\n",
    "df_test['category_name'].fillna(value='other', inplace=True)\n",
    "df_test['brand_name'].fillna(value='other', inplace=True)\n",
    "df_test['item_description'].fillna(value='other', inplace=True)"
   ]
  },
  {
   "cell_type": "code",
   "execution_count": 7,
   "metadata": {},
   "outputs": [],
   "source": [
    "df_input['category_name'] = df_input['category_name'].astype('category')\n",
    "df_input['brand_name'] = df_input['brand_name'].astype('category')\n",
    "df_input['item_condition_id'] = df_input['item_condition_id'].astype('category')\n",
    "\n",
    "df_test['category_name'] = df_test['category_name'].astype('category')\n",
    "df_test['brand_name'] = df_test['brand_name'].astype('category')\n",
    "df_test['item_condition_id'] = df_test['item_condition_id'].astype('category')"
   ]
  },
  {
   "cell_type": "code",
   "execution_count": null,
   "metadata": {},
   "outputs": [],
   "source": []
  },
  {
   "cell_type": "code",
   "execution_count": 8,
   "metadata": {},
   "outputs": [],
   "source": [
    "def func_count_vectorizer(df_in, var_col):\n",
    "    model_cv = CountVectorizer(min_df=10)\n",
    "    return model_cv.fit_transform(df_in[var_col])"
   ]
  },
  {
   "cell_type": "code",
   "execution_count": 9,
   "metadata": {},
   "outputs": [],
   "source": [
    "mat_input_name_cv = func_count_vectorizer(df_input, \"name\")\n",
    "mat_input_category_name_cv = func_count_vectorizer(df_input, \"category_name\")\n",
    "mat_input_brand_name_cv = func_count_vectorizer(df_input, \"brand_name\")\n",
    "mat_input_item_desc_cv = func_count_vectorizer(df_input, \"item_description\")"
   ]
  },
  {
   "cell_type": "code",
   "execution_count": null,
   "metadata": {},
   "outputs": [],
   "source": []
  },
  {
   "cell_type": "code",
   "execution_count": 10,
   "metadata": {},
   "outputs": [],
   "source": [
    "def func_tfidf_vectorizer(df_in, var_col):\n",
    "    model_tfidf = TfidfVectorizer(max_features = 55000, ngram_range = (1,3), stop_words = \"english\")\n",
    "    return model_tfidf.fit_transform(df_in[var_col])"
   ]
  },
  {
   "cell_type": "code",
   "execution_count": 11,
   "metadata": {},
   "outputs": [],
   "source": [
    "mat_input_name_tfidf = func_count_vectorizer(df_input, \"name\")\n",
    "mat_input_category_name_tfidf = func_count_vectorizer(df_input, \"category_name\")\n",
    "mat_input_brand_name_tfidf = func_count_vectorizer(df_input, \"brand_name\")\n",
    "mat_input_item_desc_tfidf = func_count_vectorizer(df_input, \"item_description\")"
   ]
  },
  {
   "cell_type": "code",
   "execution_count": null,
   "metadata": {},
   "outputs": [],
   "source": []
  },
  {
   "cell_type": "code",
   "execution_count": 12,
   "metadata": {},
   "outputs": [],
   "source": [
    "mat_input_stack = sp.sparse.hstack((mat_input_name_cv, \n",
    "                                       mat_input_category_name_cv,\n",
    "                                       mat_input_brand_name_cv,\n",
    "                                       mat_input_item_desc_cv,\n",
    "                                       mat_input_name_tfidf,\n",
    "                                       mat_input_category_name_tfidf,\n",
    "                                       mat_input_brand_name_tfidf,\n",
    "                                       mat_input_item_desc_tfidf)).tocsr()"
   ]
  },
  {
   "cell_type": "code",
   "execution_count": null,
   "metadata": {},
   "outputs": [],
   "source": []
  },
  {
   "cell_type": "code",
   "execution_count": 13,
   "metadata": {},
   "outputs": [],
   "source": [
    "X = mat_input_stack\n",
    "\n",
    "X_train = X[:nrow_train]\n",
    "X_test = X[nrow_train:]\n",
    "y_train = np.log1p(df_train[\"price\"])"
   ]
  },
  {
   "cell_type": "code",
   "execution_count": null,
   "metadata": {},
   "outputs": [],
   "source": []
  },
  {
   "cell_type": "code",
   "execution_count": 14,
   "metadata": {},
   "outputs": [],
   "source": [
    "model_2 = Ridge(solver = \"lsqr\", fit_intercept=False)"
   ]
  },
  {
   "cell_type": "code",
   "execution_count": 15,
   "metadata": {},
   "outputs": [
    {
     "data": {
      "text/plain": [
       "Ridge(alpha=1.0, copy_X=True, fit_intercept=False, max_iter=None,\n",
       "   normalize=False, random_state=None, solver='lsqr', tol=0.001)"
      ]
     },
     "execution_count": 15,
     "metadata": {},
     "output_type": "execute_result"
    }
   ],
   "source": [
    "# model_2 = RandomForestRegressor(max_depth=15, random_state=0, n_jobs=-1)\n",
    "model_2.fit(X_train, y_train)"
   ]
  },
  {
   "cell_type": "code",
   "execution_count": 16,
   "metadata": {},
   "outputs": [],
   "source": [
    "y_predict = model_2.predict(X_test)"
   ]
  },
  {
   "cell_type": "code",
   "execution_count": 18,
   "metadata": {},
   "outputs": [],
   "source": [
    "df_model_2_submission = pd.DataFrame()\n",
    "df_model_2_submission['test_id'] = df_test['test_id']\n",
    "df_model_2_submission['price'] = pd.Series(abs(y_predict))\n",
    "df_model_2_submission.to_csv(\"submissions/model_2_submission_2.csv\", index=False)"
   ]
  },
  {
   "cell_type": "code",
   "execution_count": null,
   "metadata": {},
   "outputs": [],
   "source": []
  },
  {
   "cell_type": "code",
   "execution_count": null,
   "metadata": {},
   "outputs": [],
   "source": []
  }
 ],
 "metadata": {
  "kernelspec": {
   "display_name": "Python 3",
   "language": "python",
   "name": "python3"
  },
  "language_info": {
   "codemirror_mode": {
    "name": "ipython",
    "version": 3
   },
   "file_extension": ".py",
   "mimetype": "text/x-python",
   "name": "python",
   "nbconvert_exporter": "python",
   "pygments_lexer": "ipython3",
   "version": "3.6.3rc1"
  }
 },
 "nbformat": 4,
 "nbformat_minor": 2
}
